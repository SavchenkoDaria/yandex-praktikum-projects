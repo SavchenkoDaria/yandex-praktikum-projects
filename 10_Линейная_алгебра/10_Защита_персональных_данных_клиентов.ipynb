{
 "cells": [
  {
   "cell_type": "markdown",
   "metadata": {
    "toc": true
   },
   "source": [
    "<h1>Содержание<span class=\"tocSkip\"></span></h1>\n",
    "<div class=\"toc\"><ul class=\"toc-item\"><li><span><a href=\"#Загрузка-данных\" data-toc-modified-id=\"Загрузка-данных-1\"><span class=\"toc-item-num\">1&nbsp;&nbsp;</span>Загрузка данных</a></span><ul class=\"toc-item\"><li><span><a href=\"#Импорт-библиотек\" data-toc-modified-id=\"Импорт-библиотек-1.1\"><span class=\"toc-item-num\">1.1&nbsp;&nbsp;</span>Импорт библиотек</a></span></li><li><span><a href=\"#Вывод-первых-строк-и-изучение-полученной-информации\" data-toc-modified-id=\"Вывод-первых-строк-и-изучение-полученной-информации-1.2\"><span class=\"toc-item-num\">1.2&nbsp;&nbsp;</span>Вывод первых строк и изучение полученной информации</a></span></li><li><span><a href=\"#Замена-типов-данных\" data-toc-modified-id=\"Замена-типов-данных-1.3\"><span class=\"toc-item-num\">1.3&nbsp;&nbsp;</span>Замена типов данных</a></span></li><li><span><a href=\"#Обработка-явных-дубликатов\" data-toc-modified-id=\"Обработка-явных-дубликатов-1.4\"><span class=\"toc-item-num\">1.4&nbsp;&nbsp;</span>Обработка явных дубликатов</a></span></li><li><span><a href=\"#Промежуточный-вывод\" data-toc-modified-id=\"Промежуточный-вывод-1.5\"><span class=\"toc-item-num\">1.5&nbsp;&nbsp;</span>Промежуточный вывод</a></span></li></ul></li><li><span><a href=\"#Умножение-матриц\" data-toc-modified-id=\"Умножение-матриц-2\"><span class=\"toc-item-num\">2&nbsp;&nbsp;</span>Умножение матриц</a></span><ul class=\"toc-item\"><li><span><a href=\"#Дано\" data-toc-modified-id=\"Дано-2.1\"><span class=\"toc-item-num\">2.1&nbsp;&nbsp;</span>Дано</a></span></li><li><span><a href=\"#Доказательство\" data-toc-modified-id=\"Доказательство-2.2\"><span class=\"toc-item-num\">2.2&nbsp;&nbsp;</span>Доказательство</a></span></li><li><span><a href=\"#Промежуточный-вывод\" data-toc-modified-id=\"Промежуточный-вывод-2.3\"><span class=\"toc-item-num\">2.3&nbsp;&nbsp;</span>Промежуточный вывод</a></span></li></ul></li><li><span><a href=\"#Алгоритм-преобразования\" data-toc-modified-id=\"Алгоритм-преобразования-3\"><span class=\"toc-item-num\">3&nbsp;&nbsp;</span>Алгоритм преобразования</a></span></li><li><span><a href=\"#Проверка-алгоритма\" data-toc-modified-id=\"Проверка-алгоритма-4\"><span class=\"toc-item-num\">4&nbsp;&nbsp;</span>Проверка алгоритма</a></span><ul class=\"toc-item\"><li><span><a href=\"#Создадим-функцию-для-получения-случайной-квадратной-и-закодированной-матрицы\" data-toc-modified-id=\"Создадим-функцию-для-получения-случайной-квадратной-и-закодированной-матрицы-4.1\"><span class=\"toc-item-num\">4.1&nbsp;&nbsp;</span>Создадим функцию для получения случайной квадратной и закодированной матрицы</a></span></li><li><span><a href=\"#Обучим-и-проверим-модель\" data-toc-modified-id=\"Обучим-и-проверим-модель-4.2\"><span class=\"toc-item-num\">4.2&nbsp;&nbsp;</span>Обучим и проверим модель</a></span></li></ul></li><li><span><a href=\"#Общий-вывод\" data-toc-modified-id=\"Общий-вывод-5\"><span class=\"toc-item-num\">5&nbsp;&nbsp;</span>Общий вывод</a></span></li><li><span><a href=\"#Чек-лист-проверки\" data-toc-modified-id=\"Чек-лист-проверки-6\"><span class=\"toc-item-num\">6&nbsp;&nbsp;</span>Чек-лист проверки</a></span></li></ul></div>"
   ]
  },
  {
   "cell_type": "markdown",
   "metadata": {},
   "source": [
    "# Защита персональных данных клиентов"
   ]
  },
  {
   "cell_type": "markdown",
   "metadata": {},
   "source": [
    "Вам нужно защитить данные клиентов страховой компании «Хоть потоп». Разработайте такой метод преобразования данных, чтобы по ним было сложно восстановить персональную информацию. Обоснуйте корректность его работы.\n",
    "\n",
    "Нужно защитить данные, чтобы при преобразовании качество моделей машинного обучения не ухудшилось. Подбирать наилучшую модель не требуется."
   ]
  },
  {
   "cell_type": "markdown",
   "metadata": {},
   "source": [
    "**Описание данных**\n",
    "\n",
    "Набор данных находится в файле /datasets/insurance.csv.\n",
    "\n",
    "- Признаки: пол, возраст и зарплата застрахованного, количество членов его семьи.\n",
    "- Целевой признак: количество страховых выплат клиенту за последние 5 лет."
   ]
  },
  {
   "cell_type": "markdown",
   "metadata": {},
   "source": [
    "## Загрузка данных"
   ]
  },
  {
   "cell_type": "markdown",
   "metadata": {},
   "source": [
    "### Импорт библиотек"
   ]
  },
  {
   "cell_type": "code",
   "execution_count": 1,
   "metadata": {},
   "outputs": [],
   "source": [
    "import pandas as pd\n",
    "import numpy as np\n",
    "import seaborn as sns\n",
    "\n",
    "from sklearn.metrics import r2_score\n",
    "from sklearn.linear_model import LinearRegression\n",
    "from sklearn.model_selection import train_test_split"
   ]
  },
  {
   "cell_type": "markdown",
   "metadata": {},
   "source": [
    "### Вывод первых строк и изучение полученной информации"
   ]
  },
  {
   "cell_type": "code",
   "execution_count": 2,
   "metadata": {},
   "outputs": [],
   "source": [
    "def my_func(x):\n",
    "    print('Исходный датафрейм')\n",
    "    display(x.head(20))\n",
    "    print('Общая информация о датафрейме')\n",
    "    display(x.info())\n",
    "    print('Количество пустых значений в датафрейме')\n",
    "    display(x.isna().sum())\n",
    "    print('Количество явных дубликатов в датафрейме')\n",
    "    display(x.duplicated().sum())\n",
    "    print('Описательная статистика')\n",
    "    display(x.describe())\n",
    "    print('Зависимость признаков')\n",
    "    cmap = cmap=sns.diverging_palette(5, 250, as_cmap=True)\n",
    "    def magnify():\n",
    "        return [dict(selector=\"th\",\n",
    "                     props=[(\"font-size\", \"7pt\")]),\n",
    "                dict(selector=\"td\",\n",
    "                     props=[('padding', \"0em 0em\")]),\n",
    "                dict(selector=\"th:hover\",\n",
    "                     props=[(\"font-size\", \"12pt\")]),\n",
    "                dict(selector=\"tr:hover td:hover\",\n",
    "                     props=[('max-width', '200px'),\n",
    "                            ('font-size', '12pt')])\n",
    "    ]\n",
    "    corr = round(x.corr(), 2)\n",
    "    display(corr.style.background_gradient(cmap, axis=1)\\\n",
    "        .set_properties(**{'max-width': '80px', 'font-size': '10pt'})\\\n",
    "        .set_caption(\"Hover to magify\")\\\n",
    "        .set_precision(2)\\\n",
    "        .set_table_styles(magnify()))"
   ]
  },
  {
   "cell_type": "code",
   "execution_count": 3,
   "metadata": {
    "scrolled": false
   },
   "outputs": [
    {
     "name": "stdout",
     "output_type": "stream",
     "text": [
      "Исходный датафрейм\n"
     ]
    },
    {
     "data": {
      "text/html": [
       "<div>\n",
       "<style scoped>\n",
       "    .dataframe tbody tr th:only-of-type {\n",
       "        vertical-align: middle;\n",
       "    }\n",
       "\n",
       "    .dataframe tbody tr th {\n",
       "        vertical-align: top;\n",
       "    }\n",
       "\n",
       "    .dataframe thead th {\n",
       "        text-align: right;\n",
       "    }\n",
       "</style>\n",
       "<table border=\"1\" class=\"dataframe\">\n",
       "  <thead>\n",
       "    <tr style=\"text-align: right;\">\n",
       "      <th></th>\n",
       "      <th>Пол</th>\n",
       "      <th>Возраст</th>\n",
       "      <th>Зарплата</th>\n",
       "      <th>Члены семьи</th>\n",
       "      <th>Страховые выплаты</th>\n",
       "    </tr>\n",
       "  </thead>\n",
       "  <tbody>\n",
       "    <tr>\n",
       "      <th>0</th>\n",
       "      <td>1</td>\n",
       "      <td>41.0</td>\n",
       "      <td>49600.0</td>\n",
       "      <td>1</td>\n",
       "      <td>0</td>\n",
       "    </tr>\n",
       "    <tr>\n",
       "      <th>1</th>\n",
       "      <td>0</td>\n",
       "      <td>46.0</td>\n",
       "      <td>38000.0</td>\n",
       "      <td>1</td>\n",
       "      <td>1</td>\n",
       "    </tr>\n",
       "    <tr>\n",
       "      <th>2</th>\n",
       "      <td>0</td>\n",
       "      <td>29.0</td>\n",
       "      <td>21000.0</td>\n",
       "      <td>0</td>\n",
       "      <td>0</td>\n",
       "    </tr>\n",
       "    <tr>\n",
       "      <th>3</th>\n",
       "      <td>0</td>\n",
       "      <td>21.0</td>\n",
       "      <td>41700.0</td>\n",
       "      <td>2</td>\n",
       "      <td>0</td>\n",
       "    </tr>\n",
       "    <tr>\n",
       "      <th>4</th>\n",
       "      <td>1</td>\n",
       "      <td>28.0</td>\n",
       "      <td>26100.0</td>\n",
       "      <td>0</td>\n",
       "      <td>0</td>\n",
       "    </tr>\n",
       "    <tr>\n",
       "      <th>5</th>\n",
       "      <td>1</td>\n",
       "      <td>43.0</td>\n",
       "      <td>41000.0</td>\n",
       "      <td>2</td>\n",
       "      <td>1</td>\n",
       "    </tr>\n",
       "    <tr>\n",
       "      <th>6</th>\n",
       "      <td>1</td>\n",
       "      <td>39.0</td>\n",
       "      <td>39700.0</td>\n",
       "      <td>2</td>\n",
       "      <td>0</td>\n",
       "    </tr>\n",
       "    <tr>\n",
       "      <th>7</th>\n",
       "      <td>1</td>\n",
       "      <td>25.0</td>\n",
       "      <td>38600.0</td>\n",
       "      <td>4</td>\n",
       "      <td>0</td>\n",
       "    </tr>\n",
       "    <tr>\n",
       "      <th>8</th>\n",
       "      <td>1</td>\n",
       "      <td>36.0</td>\n",
       "      <td>49700.0</td>\n",
       "      <td>1</td>\n",
       "      <td>0</td>\n",
       "    </tr>\n",
       "    <tr>\n",
       "      <th>9</th>\n",
       "      <td>1</td>\n",
       "      <td>32.0</td>\n",
       "      <td>51700.0</td>\n",
       "      <td>1</td>\n",
       "      <td>0</td>\n",
       "    </tr>\n",
       "    <tr>\n",
       "      <th>10</th>\n",
       "      <td>1</td>\n",
       "      <td>25.0</td>\n",
       "      <td>36600.0</td>\n",
       "      <td>1</td>\n",
       "      <td>0</td>\n",
       "    </tr>\n",
       "    <tr>\n",
       "      <th>11</th>\n",
       "      <td>1</td>\n",
       "      <td>38.0</td>\n",
       "      <td>29300.0</td>\n",
       "      <td>0</td>\n",
       "      <td>0</td>\n",
       "    </tr>\n",
       "    <tr>\n",
       "      <th>12</th>\n",
       "      <td>0</td>\n",
       "      <td>23.0</td>\n",
       "      <td>39500.0</td>\n",
       "      <td>3</td>\n",
       "      <td>0</td>\n",
       "    </tr>\n",
       "    <tr>\n",
       "      <th>13</th>\n",
       "      <td>0</td>\n",
       "      <td>21.0</td>\n",
       "      <td>55000.0</td>\n",
       "      <td>0</td>\n",
       "      <td>0</td>\n",
       "    </tr>\n",
       "    <tr>\n",
       "      <th>14</th>\n",
       "      <td>0</td>\n",
       "      <td>40.0</td>\n",
       "      <td>43700.0</td>\n",
       "      <td>1</td>\n",
       "      <td>0</td>\n",
       "    </tr>\n",
       "    <tr>\n",
       "      <th>15</th>\n",
       "      <td>1</td>\n",
       "      <td>34.0</td>\n",
       "      <td>23300.0</td>\n",
       "      <td>0</td>\n",
       "      <td>0</td>\n",
       "    </tr>\n",
       "    <tr>\n",
       "      <th>16</th>\n",
       "      <td>1</td>\n",
       "      <td>26.0</td>\n",
       "      <td>48900.0</td>\n",
       "      <td>2</td>\n",
       "      <td>0</td>\n",
       "    </tr>\n",
       "    <tr>\n",
       "      <th>17</th>\n",
       "      <td>1</td>\n",
       "      <td>41.0</td>\n",
       "      <td>33200.0</td>\n",
       "      <td>2</td>\n",
       "      <td>0</td>\n",
       "    </tr>\n",
       "    <tr>\n",
       "      <th>18</th>\n",
       "      <td>1</td>\n",
       "      <td>42.0</td>\n",
       "      <td>49700.0</td>\n",
       "      <td>0</td>\n",
       "      <td>1</td>\n",
       "    </tr>\n",
       "    <tr>\n",
       "      <th>19</th>\n",
       "      <td>1</td>\n",
       "      <td>27.0</td>\n",
       "      <td>36900.0</td>\n",
       "      <td>0</td>\n",
       "      <td>0</td>\n",
       "    </tr>\n",
       "  </tbody>\n",
       "</table>\n",
       "</div>"
      ],
      "text/plain": [
       "    Пол  Возраст  Зарплата  Члены семьи  Страховые выплаты\n",
       "0     1     41.0   49600.0            1                  0\n",
       "1     0     46.0   38000.0            1                  1\n",
       "2     0     29.0   21000.0            0                  0\n",
       "3     0     21.0   41700.0            2                  0\n",
       "4     1     28.0   26100.0            0                  0\n",
       "5     1     43.0   41000.0            2                  1\n",
       "6     1     39.0   39700.0            2                  0\n",
       "7     1     25.0   38600.0            4                  0\n",
       "8     1     36.0   49700.0            1                  0\n",
       "9     1     32.0   51700.0            1                  0\n",
       "10    1     25.0   36600.0            1                  0\n",
       "11    1     38.0   29300.0            0                  0\n",
       "12    0     23.0   39500.0            3                  0\n",
       "13    0     21.0   55000.0            0                  0\n",
       "14    0     40.0   43700.0            1                  0\n",
       "15    1     34.0   23300.0            0                  0\n",
       "16    1     26.0   48900.0            2                  0\n",
       "17    1     41.0   33200.0            2                  0\n",
       "18    1     42.0   49700.0            0                  1\n",
       "19    1     27.0   36900.0            0                  0"
      ]
     },
     "metadata": {},
     "output_type": "display_data"
    },
    {
     "name": "stdout",
     "output_type": "stream",
     "text": [
      "Общая информация о датафрейме\n",
      "<class 'pandas.core.frame.DataFrame'>\n",
      "RangeIndex: 5000 entries, 0 to 4999\n",
      "Data columns (total 5 columns):\n",
      " #   Column             Non-Null Count  Dtype  \n",
      "---  ------             --------------  -----  \n",
      " 0   Пол                5000 non-null   int64  \n",
      " 1   Возраст            5000 non-null   float64\n",
      " 2   Зарплата           5000 non-null   float64\n",
      " 3   Члены семьи        5000 non-null   int64  \n",
      " 4   Страховые выплаты  5000 non-null   int64  \n",
      "dtypes: float64(2), int64(3)\n",
      "memory usage: 195.4 KB\n"
     ]
    },
    {
     "data": {
      "text/plain": [
       "None"
      ]
     },
     "metadata": {},
     "output_type": "display_data"
    },
    {
     "name": "stdout",
     "output_type": "stream",
     "text": [
      "Количество пустых значений в датафрейме\n"
     ]
    },
    {
     "data": {
      "text/plain": [
       "Пол                  0\n",
       "Возраст              0\n",
       "Зарплата             0\n",
       "Члены семьи          0\n",
       "Страховые выплаты    0\n",
       "dtype: int64"
      ]
     },
     "metadata": {},
     "output_type": "display_data"
    },
    {
     "name": "stdout",
     "output_type": "stream",
     "text": [
      "Количество явных дубликатов в датафрейме\n"
     ]
    },
    {
     "data": {
      "text/plain": [
       "153"
      ]
     },
     "metadata": {},
     "output_type": "display_data"
    },
    {
     "name": "stdout",
     "output_type": "stream",
     "text": [
      "Описательная статистика\n"
     ]
    },
    {
     "data": {
      "text/html": [
       "<div>\n",
       "<style scoped>\n",
       "    .dataframe tbody tr th:only-of-type {\n",
       "        vertical-align: middle;\n",
       "    }\n",
       "\n",
       "    .dataframe tbody tr th {\n",
       "        vertical-align: top;\n",
       "    }\n",
       "\n",
       "    .dataframe thead th {\n",
       "        text-align: right;\n",
       "    }\n",
       "</style>\n",
       "<table border=\"1\" class=\"dataframe\">\n",
       "  <thead>\n",
       "    <tr style=\"text-align: right;\">\n",
       "      <th></th>\n",
       "      <th>Пол</th>\n",
       "      <th>Возраст</th>\n",
       "      <th>Зарплата</th>\n",
       "      <th>Члены семьи</th>\n",
       "      <th>Страховые выплаты</th>\n",
       "    </tr>\n",
       "  </thead>\n",
       "  <tbody>\n",
       "    <tr>\n",
       "      <th>count</th>\n",
       "      <td>5000.000000</td>\n",
       "      <td>5000.000000</td>\n",
       "      <td>5000.000000</td>\n",
       "      <td>5000.000000</td>\n",
       "      <td>5000.000000</td>\n",
       "    </tr>\n",
       "    <tr>\n",
       "      <th>mean</th>\n",
       "      <td>0.499000</td>\n",
       "      <td>30.952800</td>\n",
       "      <td>39916.360000</td>\n",
       "      <td>1.194200</td>\n",
       "      <td>0.148000</td>\n",
       "    </tr>\n",
       "    <tr>\n",
       "      <th>std</th>\n",
       "      <td>0.500049</td>\n",
       "      <td>8.440807</td>\n",
       "      <td>9900.083569</td>\n",
       "      <td>1.091387</td>\n",
       "      <td>0.463183</td>\n",
       "    </tr>\n",
       "    <tr>\n",
       "      <th>min</th>\n",
       "      <td>0.000000</td>\n",
       "      <td>18.000000</td>\n",
       "      <td>5300.000000</td>\n",
       "      <td>0.000000</td>\n",
       "      <td>0.000000</td>\n",
       "    </tr>\n",
       "    <tr>\n",
       "      <th>25%</th>\n",
       "      <td>0.000000</td>\n",
       "      <td>24.000000</td>\n",
       "      <td>33300.000000</td>\n",
       "      <td>0.000000</td>\n",
       "      <td>0.000000</td>\n",
       "    </tr>\n",
       "    <tr>\n",
       "      <th>50%</th>\n",
       "      <td>0.000000</td>\n",
       "      <td>30.000000</td>\n",
       "      <td>40200.000000</td>\n",
       "      <td>1.000000</td>\n",
       "      <td>0.000000</td>\n",
       "    </tr>\n",
       "    <tr>\n",
       "      <th>75%</th>\n",
       "      <td>1.000000</td>\n",
       "      <td>37.000000</td>\n",
       "      <td>46600.000000</td>\n",
       "      <td>2.000000</td>\n",
       "      <td>0.000000</td>\n",
       "    </tr>\n",
       "    <tr>\n",
       "      <th>max</th>\n",
       "      <td>1.000000</td>\n",
       "      <td>65.000000</td>\n",
       "      <td>79000.000000</td>\n",
       "      <td>6.000000</td>\n",
       "      <td>5.000000</td>\n",
       "    </tr>\n",
       "  </tbody>\n",
       "</table>\n",
       "</div>"
      ],
      "text/plain": [
       "               Пол      Возраст      Зарплата  Члены семьи  Страховые выплаты\n",
       "count  5000.000000  5000.000000   5000.000000  5000.000000        5000.000000\n",
       "mean      0.499000    30.952800  39916.360000     1.194200           0.148000\n",
       "std       0.500049     8.440807   9900.083569     1.091387           0.463183\n",
       "min       0.000000    18.000000   5300.000000     0.000000           0.000000\n",
       "25%       0.000000    24.000000  33300.000000     0.000000           0.000000\n",
       "50%       0.000000    30.000000  40200.000000     1.000000           0.000000\n",
       "75%       1.000000    37.000000  46600.000000     2.000000           0.000000\n",
       "max       1.000000    65.000000  79000.000000     6.000000           5.000000"
      ]
     },
     "metadata": {},
     "output_type": "display_data"
    },
    {
     "name": "stdout",
     "output_type": "stream",
     "text": [
      "Зависимость признаков\n"
     ]
    },
    {
     "name": "stderr",
     "output_type": "stream",
     "text": [
      "C:\\Users\\daria\\AppData\\Local\\Temp\\ipykernel_9736\\2258407746.py:26: FutureWarning: this method is deprecated in favour of `Styler.format(precision=..)`\n",
      "  display(corr.style.background_gradient(cmap, axis=1)\\\n"
     ]
    },
    {
     "data": {
      "text/html": [
       "<style type=\"text/css\">\n",
       "#T_a1d95 th {\n",
       "  font-size: 7pt;\n",
       "}\n",
       "#T_a1d95 td {\n",
       "  padding: 0em 0em;\n",
       "}\n",
       "#T_a1d95 th:hover {\n",
       "  font-size: 12pt;\n",
       "}\n",
       "#T_a1d95 tr:hover td:hover {\n",
       "  max-width: 200px;\n",
       "  font-size: 12pt;\n",
       "}\n",
       "#T_a1d95_row0_col0, #T_a1d95_row1_col1, #T_a1d95_row2_col2, #T_a1d95_row3_col3, #T_a1d95_row4_col4 {\n",
       "  background-color: #4479bb;\n",
       "  color: #f1f1f1;\n",
       "  max-width: 80px;\n",
       "  font-size: 10pt;\n",
       "}\n",
       "#T_a1d95_row0_col1, #T_a1d95_row1_col3, #T_a1d95_row2_col1, #T_a1d95_row3_col2 {\n",
       "  background-color: #d83e5d;\n",
       "  color: #f1f1f1;\n",
       "  max-width: 80px;\n",
       "  font-size: 10pt;\n",
       "}\n",
       "#T_a1d95_row0_col2, #T_a1d95_row0_col4, #T_a1d95_row1_col0 {\n",
       "  background-color: #d84361;\n",
       "  color: #f1f1f1;\n",
       "  max-width: 80px;\n",
       "  font-size: 10pt;\n",
       "}\n",
       "#T_a1d95_row0_col3, #T_a1d95_row1_col2, #T_a1d95_row2_col3, #T_a1d95_row3_col4, #T_a1d95_row4_col3 {\n",
       "  background-color: #d73c5b;\n",
       "  color: #f1f1f1;\n",
       "  max-width: 80px;\n",
       "  font-size: 10pt;\n",
       "}\n",
       "#T_a1d95_row1_col4 {\n",
       "  background-color: #bacbe1;\n",
       "  color: #000000;\n",
       "  max-width: 80px;\n",
       "  font-size: 10pt;\n",
       "}\n",
       "#T_a1d95_row2_col0 {\n",
       "  background-color: #d94865;\n",
       "  color: #f1f1f1;\n",
       "  max-width: 80px;\n",
       "  font-size: 10pt;\n",
       "}\n",
       "#T_a1d95_row2_col4 {\n",
       "  background-color: #d8415f;\n",
       "  color: #f1f1f1;\n",
       "  max-width: 80px;\n",
       "  font-size: 10pt;\n",
       "}\n",
       "#T_a1d95_row3_col0, #T_a1d95_row3_col1, #T_a1d95_row4_col2 {\n",
       "  background-color: #d94663;\n",
       "  color: #f1f1f1;\n",
       "  max-width: 80px;\n",
       "  font-size: 10pt;\n",
       "}\n",
       "#T_a1d95_row4_col0 {\n",
       "  background-color: #da4d69;\n",
       "  color: #f1f1f1;\n",
       "  max-width: 80px;\n",
       "  font-size: 10pt;\n",
       "}\n",
       "#T_a1d95_row4_col1 {\n",
       "  background-color: #b9cae0;\n",
       "  color: #000000;\n",
       "  max-width: 80px;\n",
       "  font-size: 10pt;\n",
       "}\n",
       "</style>\n",
       "<table id=\"T_a1d95\">\n",
       "  <caption>Hover to magify</caption>\n",
       "  <thead>\n",
       "    <tr>\n",
       "      <th class=\"blank level0\" >&nbsp;</th>\n",
       "      <th id=\"T_a1d95_level0_col0\" class=\"col_heading level0 col0\" >Пол</th>\n",
       "      <th id=\"T_a1d95_level0_col1\" class=\"col_heading level0 col1\" >Возраст</th>\n",
       "      <th id=\"T_a1d95_level0_col2\" class=\"col_heading level0 col2\" >Зарплата</th>\n",
       "      <th id=\"T_a1d95_level0_col3\" class=\"col_heading level0 col3\" >Члены семьи</th>\n",
       "      <th id=\"T_a1d95_level0_col4\" class=\"col_heading level0 col4\" >Страховые выплаты</th>\n",
       "    </tr>\n",
       "  </thead>\n",
       "  <tbody>\n",
       "    <tr>\n",
       "      <th id=\"T_a1d95_level0_row0\" class=\"row_heading level0 row0\" >Пол</th>\n",
       "      <td id=\"T_a1d95_row0_col0\" class=\"data row0 col0\" >1.00</td>\n",
       "      <td id=\"T_a1d95_row0_col1\" class=\"data row0 col1\" >0.00</td>\n",
       "      <td id=\"T_a1d95_row0_col2\" class=\"data row0 col2\" >0.01</td>\n",
       "      <td id=\"T_a1d95_row0_col3\" class=\"data row0 col3\" >-0.01</td>\n",
       "      <td id=\"T_a1d95_row0_col4\" class=\"data row0 col4\" >0.01</td>\n",
       "    </tr>\n",
       "    <tr>\n",
       "      <th id=\"T_a1d95_level0_row1\" class=\"row_heading level0 row1\" >Возраст</th>\n",
       "      <td id=\"T_a1d95_row1_col0\" class=\"data row1 col0\" >0.00</td>\n",
       "      <td id=\"T_a1d95_row1_col1\" class=\"data row1 col1\" >1.00</td>\n",
       "      <td id=\"T_a1d95_row1_col2\" class=\"data row1 col2\" >-0.02</td>\n",
       "      <td id=\"T_a1d95_row1_col3\" class=\"data row1 col3\" >-0.01</td>\n",
       "      <td id=\"T_a1d95_row1_col4\" class=\"data row1 col4\" >0.65</td>\n",
       "    </tr>\n",
       "    <tr>\n",
       "      <th id=\"T_a1d95_level0_row2\" class=\"row_heading level0 row2\" >Зарплата</th>\n",
       "      <td id=\"T_a1d95_row2_col0\" class=\"data row2 col0\" >0.01</td>\n",
       "      <td id=\"T_a1d95_row2_col1\" class=\"data row2 col1\" >-0.02</td>\n",
       "      <td id=\"T_a1d95_row2_col2\" class=\"data row2 col2\" >1.00</td>\n",
       "      <td id=\"T_a1d95_row2_col3\" class=\"data row2 col3\" >-0.03</td>\n",
       "      <td id=\"T_a1d95_row2_col4\" class=\"data row2 col4\" >-0.01</td>\n",
       "    </tr>\n",
       "    <tr>\n",
       "      <th id=\"T_a1d95_level0_row3\" class=\"row_heading level0 row3\" >Члены семьи</th>\n",
       "      <td id=\"T_a1d95_row3_col0\" class=\"data row3 col0\" >-0.01</td>\n",
       "      <td id=\"T_a1d95_row3_col1\" class=\"data row3 col1\" >-0.01</td>\n",
       "      <td id=\"T_a1d95_row3_col2\" class=\"data row3 col2\" >-0.03</td>\n",
       "      <td id=\"T_a1d95_row3_col3\" class=\"data row3 col3\" >1.00</td>\n",
       "      <td id=\"T_a1d95_row3_col4\" class=\"data row3 col4\" >-0.04</td>\n",
       "    </tr>\n",
       "    <tr>\n",
       "      <th id=\"T_a1d95_level0_row4\" class=\"row_heading level0 row4\" >Страховые выплаты</th>\n",
       "      <td id=\"T_a1d95_row4_col0\" class=\"data row4 col0\" >0.01</td>\n",
       "      <td id=\"T_a1d95_row4_col1\" class=\"data row4 col1\" >0.65</td>\n",
       "      <td id=\"T_a1d95_row4_col2\" class=\"data row4 col2\" >-0.01</td>\n",
       "      <td id=\"T_a1d95_row4_col3\" class=\"data row4 col3\" >-0.04</td>\n",
       "      <td id=\"T_a1d95_row4_col4\" class=\"data row4 col4\" >1.00</td>\n",
       "    </tr>\n",
       "  </tbody>\n",
       "</table>\n"
      ],
      "text/plain": [
       "<pandas.io.formats.style.Styler at 0x1a7e0b722b0>"
      ]
     },
     "metadata": {},
     "output_type": "display_data"
    }
   ],
   "source": [
    "try:\n",
    "    data = pd.read_csv('/datasets/insurance.csv')\n",
    "except:\n",
    "    data = pd.read_csv('C:/Users/daria/Датасеты для проектов/10 Линейная алгебра - защита персональных данных клиентов/insurance.csv')\n",
    "my_func(data)"
   ]
  },
  {
   "cell_type": "markdown",
   "metadata": {},
   "source": [
    "### Замена типов данных"
   ]
  },
  {
   "cell_type": "code",
   "execution_count": 4,
   "metadata": {},
   "outputs": [],
   "source": [
    "to_convert = {'Возраст', 'Зарплата'}\n",
    "for f in to_convert:\n",
    "        data[f] = data[f].astype('int')"
   ]
  },
  {
   "cell_type": "code",
   "execution_count": 5,
   "metadata": {},
   "outputs": [
    {
     "name": "stdout",
     "output_type": "stream",
     "text": [
      "<class 'pandas.core.frame.DataFrame'>\n",
      "RangeIndex: 5000 entries, 0 to 4999\n",
      "Data columns (total 5 columns):\n",
      " #   Column             Non-Null Count  Dtype\n",
      "---  ------             --------------  -----\n",
      " 0   Пол                5000 non-null   int64\n",
      " 1   Возраст            5000 non-null   int32\n",
      " 2   Зарплата           5000 non-null   int32\n",
      " 3   Члены семьи        5000 non-null   int64\n",
      " 4   Страховые выплаты  5000 non-null   int64\n",
      "dtypes: int32(2), int64(3)\n",
      "memory usage: 156.4 KB\n"
     ]
    }
   ],
   "source": [
    "data.info()"
   ]
  },
  {
   "cell_type": "markdown",
   "metadata": {},
   "source": [
    "### Обработка явных дубликатов"
   ]
  },
  {
   "cell_type": "code",
   "execution_count": 6,
   "metadata": {},
   "outputs": [
    {
     "data": {
      "text/plain": [
       "153"
      ]
     },
     "execution_count": 6,
     "metadata": {},
     "output_type": "execute_result"
    }
   ],
   "source": [
    "data.duplicated().sum()"
   ]
  },
  {
   "cell_type": "code",
   "execution_count": 7,
   "metadata": {},
   "outputs": [
    {
     "data": {
      "text/html": [
       "<div>\n",
       "<style scoped>\n",
       "    .dataframe tbody tr th:only-of-type {\n",
       "        vertical-align: middle;\n",
       "    }\n",
       "\n",
       "    .dataframe tbody tr th {\n",
       "        vertical-align: top;\n",
       "    }\n",
       "\n",
       "    .dataframe thead th {\n",
       "        text-align: right;\n",
       "    }\n",
       "</style>\n",
       "<table border=\"1\" class=\"dataframe\">\n",
       "  <thead>\n",
       "    <tr style=\"text-align: right;\">\n",
       "      <th></th>\n",
       "      <th>Пол</th>\n",
       "      <th>Возраст</th>\n",
       "      <th>Зарплата</th>\n",
       "      <th>Члены семьи</th>\n",
       "      <th>Страховые выплаты</th>\n",
       "    </tr>\n",
       "  </thead>\n",
       "  <tbody>\n",
       "    <tr>\n",
       "      <th>281</th>\n",
       "      <td>1</td>\n",
       "      <td>39</td>\n",
       "      <td>48100</td>\n",
       "      <td>1</td>\n",
       "      <td>0</td>\n",
       "    </tr>\n",
       "    <tr>\n",
       "      <th>488</th>\n",
       "      <td>1</td>\n",
       "      <td>24</td>\n",
       "      <td>32900</td>\n",
       "      <td>1</td>\n",
       "      <td>0</td>\n",
       "    </tr>\n",
       "    <tr>\n",
       "      <th>513</th>\n",
       "      <td>0</td>\n",
       "      <td>31</td>\n",
       "      <td>37400</td>\n",
       "      <td>2</td>\n",
       "      <td>0</td>\n",
       "    </tr>\n",
       "    <tr>\n",
       "      <th>718</th>\n",
       "      <td>1</td>\n",
       "      <td>22</td>\n",
       "      <td>32600</td>\n",
       "      <td>1</td>\n",
       "      <td>0</td>\n",
       "    </tr>\n",
       "    <tr>\n",
       "      <th>785</th>\n",
       "      <td>0</td>\n",
       "      <td>20</td>\n",
       "      <td>35800</td>\n",
       "      <td>0</td>\n",
       "      <td>0</td>\n",
       "    </tr>\n",
       "    <tr>\n",
       "      <th>...</th>\n",
       "      <td>...</td>\n",
       "      <td>...</td>\n",
       "      <td>...</td>\n",
       "      <td>...</td>\n",
       "      <td>...</td>\n",
       "    </tr>\n",
       "    <tr>\n",
       "      <th>4793</th>\n",
       "      <td>1</td>\n",
       "      <td>24</td>\n",
       "      <td>37800</td>\n",
       "      <td>0</td>\n",
       "      <td>0</td>\n",
       "    </tr>\n",
       "    <tr>\n",
       "      <th>4902</th>\n",
       "      <td>1</td>\n",
       "      <td>35</td>\n",
       "      <td>38700</td>\n",
       "      <td>1</td>\n",
       "      <td>0</td>\n",
       "    </tr>\n",
       "    <tr>\n",
       "      <th>4935</th>\n",
       "      <td>1</td>\n",
       "      <td>19</td>\n",
       "      <td>32700</td>\n",
       "      <td>0</td>\n",
       "      <td>0</td>\n",
       "    </tr>\n",
       "    <tr>\n",
       "      <th>4945</th>\n",
       "      <td>1</td>\n",
       "      <td>21</td>\n",
       "      <td>45800</td>\n",
       "      <td>0</td>\n",
       "      <td>0</td>\n",
       "    </tr>\n",
       "    <tr>\n",
       "      <th>4965</th>\n",
       "      <td>0</td>\n",
       "      <td>22</td>\n",
       "      <td>40100</td>\n",
       "      <td>1</td>\n",
       "      <td>0</td>\n",
       "    </tr>\n",
       "  </tbody>\n",
       "</table>\n",
       "<p>153 rows × 5 columns</p>\n",
       "</div>"
      ],
      "text/plain": [
       "      Пол  Возраст  Зарплата  Члены семьи  Страховые выплаты\n",
       "281     1       39     48100            1                  0\n",
       "488     1       24     32900            1                  0\n",
       "513     0       31     37400            2                  0\n",
       "718     1       22     32600            1                  0\n",
       "785     0       20     35800            0                  0\n",
       "...   ...      ...       ...          ...                ...\n",
       "4793    1       24     37800            0                  0\n",
       "4902    1       35     38700            1                  0\n",
       "4935    1       19     32700            0                  0\n",
       "4945    1       21     45800            0                  0\n",
       "4965    0       22     40100            1                  0\n",
       "\n",
       "[153 rows x 5 columns]"
      ]
     },
     "execution_count": 7,
     "metadata": {},
     "output_type": "execute_result"
    }
   ],
   "source": [
    "data[data.duplicated()]"
   ]
  },
  {
   "cell_type": "code",
   "execution_count": 8,
   "metadata": {},
   "outputs": [
    {
     "data": {
      "text/html": [
       "<div>\n",
       "<style scoped>\n",
       "    .dataframe tbody tr th:only-of-type {\n",
       "        vertical-align: middle;\n",
       "    }\n",
       "\n",
       "    .dataframe tbody tr th {\n",
       "        vertical-align: top;\n",
       "    }\n",
       "\n",
       "    .dataframe thead th {\n",
       "        text-align: right;\n",
       "    }\n",
       "</style>\n",
       "<table border=\"1\" class=\"dataframe\">\n",
       "  <thead>\n",
       "    <tr style=\"text-align: right;\">\n",
       "      <th></th>\n",
       "      <th>Пол</th>\n",
       "      <th>Возраст</th>\n",
       "      <th>Зарплата</th>\n",
       "      <th>Члены семьи</th>\n",
       "      <th>Страховые выплаты</th>\n",
       "    </tr>\n",
       "  </thead>\n",
       "  <tbody>\n",
       "    <tr>\n",
       "      <th>3</th>\n",
       "      <td>0</td>\n",
       "      <td>21</td>\n",
       "      <td>41700</td>\n",
       "      <td>2</td>\n",
       "      <td>0</td>\n",
       "    </tr>\n",
       "    <tr>\n",
       "      <th>3894</th>\n",
       "      <td>0</td>\n",
       "      <td>21</td>\n",
       "      <td>41700</td>\n",
       "      <td>2</td>\n",
       "      <td>0</td>\n",
       "    </tr>\n",
       "  </tbody>\n",
       "</table>\n",
       "</div>"
      ],
      "text/plain": [
       "      Пол  Возраст  Зарплата  Члены семьи  Страховые выплаты\n",
       "3       0       21     41700            2                  0\n",
       "3894    0       21     41700            2                  0"
      ]
     },
     "execution_count": 8,
     "metadata": {},
     "output_type": "execute_result"
    }
   ],
   "source": [
    "data[(data['Возраст'] == 21) & (data['Зарплата'] == 41700)]"
   ]
  },
  {
   "cell_type": "code",
   "execution_count": 9,
   "metadata": {},
   "outputs": [],
   "source": [
    "data = data.drop_duplicates()"
   ]
  },
  {
   "cell_type": "code",
   "execution_count": 10,
   "metadata": {},
   "outputs": [
    {
     "name": "stdout",
     "output_type": "stream",
     "text": [
      "<class 'pandas.core.frame.DataFrame'>\n",
      "Int64Index: 4847 entries, 0 to 4999\n",
      "Data columns (total 5 columns):\n",
      " #   Column             Non-Null Count  Dtype\n",
      "---  ------             --------------  -----\n",
      " 0   Пол                4847 non-null   int64\n",
      " 1   Возраст            4847 non-null   int32\n",
      " 2   Зарплата           4847 non-null   int32\n",
      " 3   Члены семьи        4847 non-null   int64\n",
      " 4   Страховые выплаты  4847 non-null   int64\n",
      "dtypes: int32(2), int64(3)\n",
      "memory usage: 189.3 KB\n"
     ]
    }
   ],
   "source": [
    "data.info()"
   ]
  },
  {
   "cell_type": "markdown",
   "metadata": {},
   "source": [
    "### Промежуточный вывод"
   ]
  },
  {
   "cell_type": "markdown",
   "metadata": {},
   "source": [
    "В данном исследовании были выявлены следующие характеристики:\n",
    "\n",
    "1. Изначальное количество строк в исходном датафрейме составляет 5000.\n",
    "2. Пропущенные значения отсутствуют.\n",
    "3. Количество явных дубликатов 153. Была проведена работа по устранению дубликатов, количество строк в финальном датафрейме - 4847.\n",
    "4. Тип данных в столбцых \"Возраст\" и \"Зарплата\" был заменен с float64 на целочисленный.\n",
    "5. Присутствует достаточно сильная корреляция между страховыми выплатами и возрастом - 0.65. Остальные признаки не зависят друг от друга."
   ]
  },
  {
   "cell_type": "markdown",
   "metadata": {},
   "source": [
    "## Умножение матриц"
   ]
  },
  {
   "cell_type": "markdown",
   "metadata": {},
   "source": [
    "### Дано"
   ]
  },
  {
   "cell_type": "markdown",
   "metadata": {},
   "source": [
    "Обозначения:\n",
    "\n",
    "- $X$ — матрица признаков (нулевой столбец состоит из единиц)\n",
    "\n",
    "- $y$ — вектор целевого признака\n",
    "\n",
    "- $P$ — матрица, на которую умножаются признаки\n",
    "\n",
    "- $w$ — вектор весов линейной регрессии (нулевой элемент равен сдвигу)"
   ]
  },
  {
   "cell_type": "markdown",
   "metadata": {},
   "source": [
    "Предсказания:\n",
    "\n",
    "$$\n",
    "a = Xw\n",
    "$$\n",
    "\n",
    "Задача обучения:\n",
    "\n",
    "$$\n",
    "w = \\arg\\min_w MSE(Xw, y)\n",
    "$$\n",
    "\n",
    "Формула обучения:\n",
    "\n",
    "$$\n",
    "w = (X^T X)^{-1} X^T y\n",
    "$$"
   ]
  },
  {
   "cell_type": "markdown",
   "metadata": {},
   "source": [
    "### Доказательство"
   ]
  },
  {
   "cell_type": "markdown",
   "metadata": {},
   "source": [
    "**Ответ:** Результаты моделей на исходных и преобразованных признаках будут одинаковыми.\n",
    "\n",
    "**Обоснование:** Формула предсказания линейной регрессии a = Xw, для модели на преобразованных признаках a' = X'w' = (XP)w', где P - случайная обратимая матрица. Нужно доказать, что a = a'. Для этого берем **формулу обучения** $w = (X^T X)^{-1} X^T y$, записываем её для w', подставляя XP вместо X. Выполняем для неё преобразование так, чтобы получить формулу w' от w. Затем подставляем найденное w' в формулу для a' и производим сокращения и упрощения. Получим a' = a. Матрица признаков X в общем случае прямоугольная, и значит для неё не существует обратной матрицы.\n",
    "\n",
    "Свойства транспонированной матрицы:\n",
    "$$\n",
    "(A \\cdot B)^T = B^T \\cdot A^T\n",
    "$$\n",
    "Свойства обратных матриц:\n",
    "$$\n",
    "(A \\cdot B)^{-1} = A^{-1} \\cdot B^{-1}\n",
    "$$\n",
    "При умножении матрицы на обратную ей тоже получается единичная матрица:\n",
    "$$\n",
    "(A \\cdot A)^{-1} = E\n",
    "$$\n",
    "\n",
    "Доказательство:\n",
    "$$\n",
    "w' = ((XP)^T \\cdot XP)^{-1} (XP)^Ty = (P^TX^T \\cdot XP)^{-1} P^TX^Ty = (P^T(X^TX)P)^{-1} P^TX^Ty = ((X^TX)P)^{-1}(P^T)^{-1} P^TX^Ty = P^{-1}(X^TX)^{-1} (P^T)^{-1}P^TX^Ty = P^{-1}(X^TX)^{-1} EX^Ty = P^{-1}(X^TX)^{-1} X^Ty\n",
    "$$\n",
    "\n",
    "Напомним, что формула обучения выглядит так:\n",
    "\n",
    "$$\n",
    "w = (X^T X)^{-1} X^T y\n",
    "$$\n",
    "\n",
    "В ходе доказательства получили формулу w' от w:\n",
    "\n",
    "$$\n",
    "w' = P^{-1} (X^T X)^{-1} X^T y\n",
    "$$\n",
    "\n",
    "Чтд"
   ]
  },
  {
   "cell_type": "markdown",
   "metadata": {},
   "source": [
    "### Промежуточный вывод"
   ]
  },
  {
   "cell_type": "markdown",
   "metadata": {},
   "source": [
    "При кодировании матрицы признаков X матрицей P формула обучения приобретает вид: \n",
    "$w' = P^{-1} (X^T X)^{-1} X^T y$, при условии, что матрица P должна быть квадратной. Отсюда $a' = X'w' = XPP^{-1}w = a$. В результате качество моделей на исходных и преобразованных признаках будет одинаковым.\n",
    "\n",
    "Ответ на задание: \"Укажите, как связаны параметры линейной регрессии в исходной задаче и в преобразованной\". Веса исходных и преобразованных признаков связаны через обратную матрицу шифрования $P^{-1}$:\n",
    "\n",
    "$$\n",
    "w' = P^{-1} (X^T X)^{-1} X^T y\n",
    "$$\n",
    "$$\n",
    "w' = P^{-1} w\n",
    "$$\n",
    "        \n",
    "или \n",
    "$$\n",
    "\\frac{w}{w'} = \\frac{(X^T X)^{-1} X^T y}{P^{-1} (X^T X)^{-1} X^T y} = \\frac{1}{P^{-1}}\n",
    "$$\n",
    "        \n",
    "        \n",
    "$$\n",
    "w' = P^{-1} w\n",
    "$$"
   ]
  },
  {
   "cell_type": "markdown",
   "metadata": {},
   "source": [
    "## Алгоритм преобразования"
   ]
  },
  {
   "cell_type": "markdown",
   "metadata": {},
   "source": [
    "**Алгоритм**\n",
    "\n",
    "Первый шаг:\n",
    "- Произведем разделение данных на целевой признак - target и остальные признаки - features.\n",
    "- Сгенерируем случайную квадратную матрицу P размера nхn для матрицы X размера mхm и проверим на обратимость. В случае, если она необратима, то необходимо сгенерировать новые матрицы до момента, когда получится обратимая матрица.\n",
    "- Умножим матрицу P на выборку с остальными признаками (features) и получим закодированную матрицу (data_coded).\n",
    "\n",
    "Второй шаг:\n",
    "\n",
    "- Создадим расширенную матрицу со столбцом из единиц.\n",
    "- Используем формулу $w = (X^T X)^{-1} X^T y$.\n",
    "\n",
    "Третий шаг:\n",
    "- Обучим модели методом линейной регрессии и проверим - совпали ли метрики R2 на исходной матрице и закодированной."
   ]
  },
  {
   "cell_type": "markdown",
   "metadata": {},
   "source": [
    "**Обоснование**\n",
    "\n",
    "По причине того, что предсказания a = a', что было доказано выше, качество линейной регрессии не изменится."
   ]
  },
  {
   "cell_type": "markdown",
   "metadata": {},
   "source": [
    "## Проверка алгоритма"
   ]
  },
  {
   "cell_type": "markdown",
   "metadata": {},
   "source": [
    "### Создадим функцию для получения случайной квадратной и закодированной матрицы"
   ]
  },
  {
   "cell_type": "code",
   "execution_count": 11,
   "metadata": {},
   "outputs": [
    {
     "data": {
      "text/plain": [
       "'Закодированная матрица'"
      ]
     },
     "metadata": {},
     "output_type": "display_data"
    },
    {
     "data": {
      "text/html": [
       "<div>\n",
       "<style scoped>\n",
       "    .dataframe tbody tr th:only-of-type {\n",
       "        vertical-align: middle;\n",
       "    }\n",
       "\n",
       "    .dataframe tbody tr th {\n",
       "        vertical-align: top;\n",
       "    }\n",
       "\n",
       "    .dataframe thead th {\n",
       "        text-align: right;\n",
       "    }\n",
       "</style>\n",
       "<table border=\"1\" class=\"dataframe\">\n",
       "  <thead>\n",
       "    <tr style=\"text-align: right;\">\n",
       "      <th></th>\n",
       "      <th>0</th>\n",
       "      <th>1</th>\n",
       "      <th>2</th>\n",
       "      <th>3</th>\n",
       "    </tr>\n",
       "  </thead>\n",
       "  <tbody>\n",
       "    <tr>\n",
       "      <th>0</th>\n",
       "      <td>-2235.276324</td>\n",
       "      <td>8921.662909</td>\n",
       "      <td>-69272.294616</td>\n",
       "      <td>7719.404115</td>\n",
       "    </tr>\n",
       "    <tr>\n",
       "      <th>1</th>\n",
       "      <td>-1711.005914</td>\n",
       "      <td>6843.794354</td>\n",
       "      <td>-53079.184795</td>\n",
       "      <td>5932.230727</td>\n",
       "    </tr>\n",
       "    <tr>\n",
       "      <th>2</th>\n",
       "      <td>-945.415051</td>\n",
       "      <td>3783.717065</td>\n",
       "      <td>-29334.833966</td>\n",
       "      <td>3282.350288</td>\n",
       "    </tr>\n",
       "    <tr>\n",
       "      <th>3</th>\n",
       "      <td>-1882.102436</td>\n",
       "      <td>7493.823315</td>\n",
       "      <td>-58235.163390</td>\n",
       "      <td>6475.734564</td>\n",
       "    </tr>\n",
       "    <tr>\n",
       "      <th>4</th>\n",
       "      <td>-1174.713303</td>\n",
       "      <td>4697.954072</td>\n",
       "      <td>-36453.409421</td>\n",
       "      <td>4068.687408</td>\n",
       "    </tr>\n",
       "    <tr>\n",
       "      <th>...</th>\n",
       "      <td>...</td>\n",
       "      <td>...</td>\n",
       "      <td>...</td>\n",
       "      <td>...</td>\n",
       "    </tr>\n",
       "    <tr>\n",
       "      <th>4995</th>\n",
       "      <td>-1609.223027</td>\n",
       "      <td>6421.618508</td>\n",
       "      <td>-49860.019899</td>\n",
       "      <td>5555.742231</td>\n",
       "    </tr>\n",
       "    <tr>\n",
       "      <th>4996</th>\n",
       "      <td>-2365.049546</td>\n",
       "      <td>9419.867220</td>\n",
       "      <td>-73181.487911</td>\n",
       "      <td>8145.808778</td>\n",
       "    </tr>\n",
       "    <tr>\n",
       "      <th>4997</th>\n",
       "      <td>-1529.183412</td>\n",
       "      <td>6094.104684</td>\n",
       "      <td>-47343.355344</td>\n",
       "      <td>5267.968663</td>\n",
       "    </tr>\n",
       "    <tr>\n",
       "      <th>4998</th>\n",
       "      <td>-1471.829133</td>\n",
       "      <td>5880.826889</td>\n",
       "      <td>-45666.002051</td>\n",
       "      <td>5083.532549</td>\n",
       "    </tr>\n",
       "    <tr>\n",
       "      <th>4999</th>\n",
       "      <td>-1830.201653</td>\n",
       "      <td>7299.738770</td>\n",
       "      <td>-56699.989734</td>\n",
       "      <td>6312.016319</td>\n",
       "    </tr>\n",
       "  </tbody>\n",
       "</table>\n",
       "<p>4847 rows × 4 columns</p>\n",
       "</div>"
      ],
      "text/plain": [
       "                0            1             2            3\n",
       "0    -2235.276324  8921.662909 -69272.294616  7719.404115\n",
       "1    -1711.005914  6843.794354 -53079.184795  5932.230727\n",
       "2     -945.415051  3783.717065 -29334.833966  3282.350288\n",
       "3    -1882.102436  7493.823315 -58235.163390  6475.734564\n",
       "4    -1174.713303  4697.954072 -36453.409421  4068.687408\n",
       "...           ...          ...           ...          ...\n",
       "4995 -1609.223027  6421.618508 -49860.019899  5555.742231\n",
       "4996 -2365.049546  9419.867220 -73181.487911  8145.808778\n",
       "4997 -1529.183412  6094.104684 -47343.355344  5267.968663\n",
       "4998 -1471.829133  5880.826889 -45666.002051  5083.532549\n",
       "4999 -1830.201653  7299.738770 -56699.989734  6312.016319\n",
       "\n",
       "[4847 rows x 4 columns]"
      ]
     },
     "metadata": {},
     "output_type": "display_data"
    }
   ],
   "source": [
    "features = data.drop('Страховые выплаты', axis=1)\n",
    "target = data['Страховые выплаты']\n",
    "\n",
    "def get_rand_matrix(data):\n",
    "    det = 0\n",
    "    while det == 0:\n",
    "        matrix = np.random.normal(size=(data.shape[1], data.shape[1]))\n",
    "        det = np.linalg.det(matrix)\n",
    "    return matrix\n",
    "\n",
    "matrix = get_rand_matrix(features)\n",
    "matrix\n",
    "\n",
    "data_coded = features @ matrix\n",
    "\n",
    "display('Закодированная матрица')\n",
    "display(data_coded)"
   ]
  },
  {
   "cell_type": "markdown",
   "metadata": {},
   "source": [
    "### Обучим и проверим модель"
   ]
  },
  {
   "cell_type": "code",
   "execution_count": 12,
   "metadata": {},
   "outputs": [],
   "source": [
    "class LinearRegression:\n",
    "    def fit(self, train_features, train_target):\n",
    "        X = np.concatenate((np.ones((train_features.shape[0], 1)), train_features), axis=1)\n",
    "        y = train_target\n",
    "        w = (np.linalg.inv(X.T.dot(X)).dot(X.T)).dot(y)\n",
    "        self.w = w[1:]\n",
    "        self.w0 = w[0]\n",
    "\n",
    "    def predict(self, test_features):\n",
    "        return test_features.dot(self.w) + self.w0"
   ]
  },
  {
   "cell_type": "markdown",
   "metadata": {},
   "source": [
    "Обучение модели методом линейной регрессии на исходной матрице: "
   ]
  },
  {
   "cell_type": "code",
   "execution_count": 13,
   "metadata": {},
   "outputs": [],
   "source": [
    "def func_lr(features, target):\n",
    "    \n",
    "    features_train, features_test, target_train, target_test = train_test_split(features,\n",
    "                                                                                target,\n",
    "                                                                                test_size=0.2,\n",
    "                                                                                random_state=12345)\n",
    "    model = LinearRegression()\n",
    "    model.fit(features_train, target_train)\n",
    "\n",
    "    predictions_train = model.predict(features_train)\n",
    "    predictions_test = model.predict(features_test)\n",
    "\n",
    "    display(r2_score(target_train, predictions_train))\n",
    "    display(r2_score(target_test, predictions_test))"
   ]
  },
  {
   "cell_type": "code",
   "execution_count": 14,
   "metadata": {},
   "outputs": [
    {
     "data": {
      "text/plain": [
       "0.433348163455491"
      ]
     },
     "metadata": {},
     "output_type": "display_data"
    },
    {
     "data": {
      "text/plain": [
       "0.41605492298279634"
      ]
     },
     "metadata": {},
     "output_type": "display_data"
    }
   ],
   "source": [
    "func_lr(features, target)"
   ]
  },
  {
   "cell_type": "markdown",
   "metadata": {},
   "source": [
    "Обучение модели методом линейной регрессии на закодированной матрице: "
   ]
  },
  {
   "cell_type": "code",
   "execution_count": 15,
   "metadata": {},
   "outputs": [
    {
     "data": {
      "text/plain": [
       "0.433348163455497"
      ]
     },
     "metadata": {},
     "output_type": "display_data"
    },
    {
     "data": {
      "text/plain": [
       "0.41605492004052125"
      ]
     },
     "metadata": {},
     "output_type": "display_data"
    }
   ],
   "source": [
    "func_lr(data_coded, target)"
   ]
  },
  {
   "cell_type": "markdown",
   "metadata": {},
   "source": [
    "## Общий вывод"
   ]
  },
  {
   "cell_type": "markdown",
   "metadata": {},
   "source": [
    "В данном исследовании были выявлены следующие характеристики:\n",
    "\n",
    "Изначальное количество строк в исходном датафрейме составляет 5000.\n",
    "Пропущенные значения отсутствуют.\n",
    "Количество явных дубликатов 153. Была проведена работа по устранению дубликатов, количество строк в финальном датафрейме - 4847.\n",
    "Тип данных в столбцых \"Возраст\" и \"Зарплата\" был заменен с float64 на целочисленный.\n",
    "Присутствует достаточно сильная корреляция между страховыми выплатами и возрастом - 0.65. Остальные признаки не зависят друг от друга.\n",
    "\n",
    "При кодировании матрицы признаков X матрицей P формула обучения приобретает вид: \n",
    "$w' = P^{-1} (X^T X)^{-1} X^T y$, при условии, что матрица P должна быть квадратной. Отсюда $a' = X'w' = XPP^{-1}w = a$. Было доказано, что в результате преобразования качество моделей на исходных и преобразованных признаках будет одинаковым.\n",
    "\n",
    "Далее создали алгоритм преобразования данных для решения задачи и выполнили проверку алгоритма, которая показала одинаковое значение R2 на обеих выборках: для обучения 0.430201, на тестовой 0.41605.\n",
    "\n",
    "Итог - данные клиентов страховой компании «Хоть потоп» защищены. "
   ]
  }
 ],
 "metadata": {
  "ExecuteTimeLog": [
   {
    "duration": 442,
    "start_time": "2023-07-28T11:48:25.817Z"
   },
   {
    "duration": 180,
    "start_time": "2023-07-28T11:49:14.155Z"
   },
   {
    "duration": 8,
    "start_time": "2023-07-28T11:49:18.199Z"
   },
   {
    "duration": 102,
    "start_time": "2023-07-28T11:49:18.345Z"
   },
   {
    "duration": 6,
    "start_time": "2023-07-28T11:49:30.038Z"
   },
   {
    "duration": 87,
    "start_time": "2023-07-28T11:49:30.232Z"
   },
   {
    "duration": 1016,
    "start_time": "2023-07-28T11:51:25.765Z"
   },
   {
    "duration": 6,
    "start_time": "2023-07-28T11:51:26.783Z"
   },
   {
    "duration": 160,
    "start_time": "2023-07-28T11:51:26.791Z"
   },
   {
    "duration": 4,
    "start_time": "2023-07-28T12:01:39.469Z"
   },
   {
    "duration": 12,
    "start_time": "2023-07-28T12:01:54.020Z"
   },
   {
    "duration": 6,
    "start_time": "2023-07-28T12:03:50.353Z"
   },
   {
    "duration": 8,
    "start_time": "2023-07-28T12:04:46.940Z"
   },
   {
    "duration": 2,
    "start_time": "2023-07-28T12:04:47.379Z"
   },
   {
    "duration": 15,
    "start_time": "2023-07-28T12:06:36.615Z"
   },
   {
    "duration": 15,
    "start_time": "2023-07-28T12:07:06.264Z"
   },
   {
    "duration": 10,
    "start_time": "2023-07-28T12:07:16.976Z"
   },
   {
    "duration": 8,
    "start_time": "2023-07-28T12:07:33.630Z"
   },
   {
    "duration": 49,
    "start_time": "2023-07-28T12:07:45.017Z"
   },
   {
    "duration": 10,
    "start_time": "2023-07-28T12:07:50.621Z"
   },
   {
    "duration": 10,
    "start_time": "2023-07-28T12:07:56.419Z"
   },
   {
    "duration": 8,
    "start_time": "2023-07-28T12:08:06.356Z"
   },
   {
    "duration": 17,
    "start_time": "2023-07-28T12:08:12.613Z"
   },
   {
    "duration": 10,
    "start_time": "2023-07-28T12:08:20.358Z"
   },
   {
    "duration": 12,
    "start_time": "2023-07-28T12:09:15.231Z"
   },
   {
    "duration": 10,
    "start_time": "2023-07-28T12:10:36.919Z"
   },
   {
    "duration": 19,
    "start_time": "2023-07-28T12:11:54.099Z"
   },
   {
    "duration": 8,
    "start_time": "2023-07-28T12:11:57.615Z"
   },
   {
    "duration": 6,
    "start_time": "2023-07-28T12:12:05.231Z"
   },
   {
    "duration": 8,
    "start_time": "2023-07-28T12:12:07.312Z"
   },
   {
    "duration": 3,
    "start_time": "2023-07-28T12:13:48.155Z"
   },
   {
    "duration": 18,
    "start_time": "2023-07-28T12:13:49.899Z"
   },
   {
    "duration": 11,
    "start_time": "2023-07-28T12:13:55.254Z"
   },
   {
    "duration": 10,
    "start_time": "2023-07-28T12:14:09.076Z"
   },
   {
    "duration": 11,
    "start_time": "2023-07-28T12:14:32.016Z"
   },
   {
    "duration": 19,
    "start_time": "2023-07-28T12:16:26.561Z"
   },
   {
    "duration": 10,
    "start_time": "2023-07-28T12:16:48.776Z"
   },
   {
    "duration": 11,
    "start_time": "2023-07-28T12:20:54.227Z"
   },
   {
    "duration": 10,
    "start_time": "2023-07-28T12:21:43.586Z"
   },
   {
    "duration": 9,
    "start_time": "2023-07-28T12:21:54.757Z"
   },
   {
    "duration": 11,
    "start_time": "2023-07-28T12:22:34.459Z"
   },
   {
    "duration": 10,
    "start_time": "2023-07-28T12:22:46.254Z"
   },
   {
    "duration": 10,
    "start_time": "2023-07-28T12:22:59.814Z"
   },
   {
    "duration": 11,
    "start_time": "2023-07-28T12:23:11.211Z"
   },
   {
    "duration": 10,
    "start_time": "2023-07-28T12:23:22.046Z"
   },
   {
    "duration": 6,
    "start_time": "2023-07-28T12:23:38.593Z"
   },
   {
    "duration": 10,
    "start_time": "2023-07-28T12:23:55.370Z"
   },
   {
    "duration": 761,
    "start_time": "2023-07-28T12:27:29.059Z"
   },
   {
    "duration": 1676,
    "start_time": "2023-07-28T12:27:33.722Z"
   },
   {
    "duration": 16,
    "start_time": "2023-07-28T12:27:35.399Z"
   },
   {
    "duration": 211,
    "start_time": "2023-07-28T12:27:35.416Z"
   },
   {
    "duration": 3,
    "start_time": "2023-07-28T12:27:35.629Z"
   },
   {
    "duration": 20,
    "start_time": "2023-07-28T12:27:35.635Z"
   },
   {
    "duration": 11,
    "start_time": "2023-07-28T12:27:35.656Z"
   },
   {
    "duration": 13,
    "start_time": "2023-07-28T12:27:35.668Z"
   },
   {
    "duration": 31,
    "start_time": "2023-07-28T12:27:35.683Z"
   },
   {
    "duration": 21,
    "start_time": "2023-07-28T12:27:35.716Z"
   },
   {
    "duration": 21,
    "start_time": "2023-07-28T12:27:35.739Z"
   },
   {
    "duration": 84,
    "start_time": "2023-08-02T11:48:02.286Z"
   },
   {
    "duration": 13,
    "start_time": "2023-08-02T11:48:02.507Z"
   },
   {
    "duration": 4365,
    "start_time": "2023-08-02T11:48:08.686Z"
   },
   {
    "duration": 8,
    "start_time": "2023-08-02T11:48:13.054Z"
   },
   {
    "duration": 231,
    "start_time": "2023-08-02T11:48:13.063Z"
   },
   {
    "duration": 17,
    "start_time": "2023-08-02T11:48:13.297Z"
   },
   {
    "duration": 37,
    "start_time": "2023-08-02T11:48:13.316Z"
   },
   {
    "duration": 21,
    "start_time": "2023-08-02T11:48:13.355Z"
   },
   {
    "duration": 11,
    "start_time": "2023-08-02T11:48:13.378Z"
   },
   {
    "duration": 10,
    "start_time": "2023-08-02T11:48:13.391Z"
   },
   {
    "duration": 29,
    "start_time": "2023-08-02T11:48:13.402Z"
   },
   {
    "duration": 18,
    "start_time": "2023-08-02T11:48:13.435Z"
   },
   {
    "duration": 9,
    "start_time": "2023-08-02T11:48:13.455Z"
   },
   {
    "duration": 13,
    "start_time": "2023-08-02T11:48:13.465Z"
   },
   {
    "duration": 58,
    "start_time": "2023-08-03T06:43:39.188Z"
   },
   {
    "duration": 1962,
    "start_time": "2023-08-03T06:43:45.066Z"
   },
   {
    "duration": 10,
    "start_time": "2023-08-03T06:43:47.030Z"
   },
   {
    "duration": 315,
    "start_time": "2023-08-03T06:43:47.043Z"
   },
   {
    "duration": 4,
    "start_time": "2023-08-03T06:43:47.359Z"
   },
   {
    "duration": 14,
    "start_time": "2023-08-03T06:43:47.420Z"
   },
   {
    "duration": 15,
    "start_time": "2023-08-03T06:43:47.436Z"
   },
   {
    "duration": 14,
    "start_time": "2023-08-03T06:43:47.453Z"
   },
   {
    "duration": 60,
    "start_time": "2023-08-03T06:43:47.469Z"
   },
   {
    "duration": 6,
    "start_time": "2023-08-03T06:43:47.532Z"
   },
   {
    "duration": 15,
    "start_time": "2023-08-03T06:43:47.539Z"
   },
   {
    "duration": 65,
    "start_time": "2023-08-03T06:43:47.555Z"
   },
   {
    "duration": 215,
    "start_time": "2023-08-03T06:43:47.622Z"
   },
   {
    "duration": 13,
    "start_time": "2023-08-03T06:44:08.047Z"
   },
   {
    "duration": 5,
    "start_time": "2023-08-03T06:44:11.743Z"
   },
   {
    "duration": 9,
    "start_time": "2023-08-03T06:44:49.677Z"
   },
   {
    "duration": 13,
    "start_time": "2023-08-03T06:45:36.323Z"
   },
   {
    "duration": 11,
    "start_time": "2023-08-03T06:46:01.183Z"
   },
   {
    "duration": 7,
    "start_time": "2023-08-03T07:05:12.104Z"
   },
   {
    "duration": 76,
    "start_time": "2023-08-03T07:05:12.248Z"
   },
   {
    "duration": 87,
    "start_time": "2023-08-03T07:05:19.637Z"
   },
   {
    "duration": 234,
    "start_time": "2023-08-03T07:24:44.067Z"
   },
   {
    "duration": 13,
    "start_time": "2023-08-03T07:24:52.697Z"
   },
   {
    "duration": 12,
    "start_time": "2023-08-03T07:25:01.249Z"
   },
   {
    "duration": 1482,
    "start_time": "2023-08-03T07:25:07.763Z"
   },
   {
    "duration": 9,
    "start_time": "2023-08-03T07:25:09.247Z"
   },
   {
    "duration": 152,
    "start_time": "2023-08-03T07:25:09.258Z"
   },
   {
    "duration": 14,
    "start_time": "2023-08-03T07:25:09.412Z"
   },
   {
    "duration": 39,
    "start_time": "2023-08-03T07:25:09.428Z"
   },
   {
    "duration": 6,
    "start_time": "2023-08-03T07:25:09.468Z"
   },
   {
    "duration": 15,
    "start_time": "2023-08-03T07:25:09.475Z"
   },
   {
    "duration": 8,
    "start_time": "2023-08-03T07:25:09.491Z"
   },
   {
    "duration": 47,
    "start_time": "2023-08-03T07:25:09.500Z"
   },
   {
    "duration": 11,
    "start_time": "2023-08-03T07:25:09.549Z"
   },
   {
    "duration": 9,
    "start_time": "2023-08-03T07:25:09.562Z"
   },
   {
    "duration": 49,
    "start_time": "2023-08-03T07:25:09.573Z"
   },
   {
    "duration": 98,
    "start_time": "2023-08-03T07:25:09.624Z"
   },
   {
    "duration": 374,
    "start_time": "2023-08-03T07:25:09.724Z"
   },
   {
    "duration": 11,
    "start_time": "2023-08-03T07:25:19.792Z"
   },
   {
    "duration": 9,
    "start_time": "2023-08-03T07:25:23.176Z"
   },
   {
    "duration": 1486,
    "start_time": "2023-08-03T07:25:44.063Z"
   },
   {
    "duration": 9,
    "start_time": "2023-08-03T07:25:45.555Z"
   },
   {
    "duration": 224,
    "start_time": "2023-08-03T07:25:45.565Z"
   },
   {
    "duration": 5,
    "start_time": "2023-08-03T07:25:45.791Z"
   },
   {
    "duration": 15,
    "start_time": "2023-08-03T07:25:45.798Z"
   },
   {
    "duration": 52,
    "start_time": "2023-08-03T07:25:45.814Z"
   },
   {
    "duration": 20,
    "start_time": "2023-08-03T07:25:45.868Z"
   },
   {
    "duration": 11,
    "start_time": "2023-08-03T07:25:45.889Z"
   },
   {
    "duration": 6,
    "start_time": "2023-08-03T07:25:45.902Z"
   },
   {
    "duration": 12,
    "start_time": "2023-08-03T07:25:45.911Z"
   },
   {
    "duration": 49,
    "start_time": "2023-08-03T07:25:45.925Z"
   },
   {
    "duration": 52,
    "start_time": "2023-08-03T07:25:45.976Z"
   },
   {
    "duration": 203,
    "start_time": "2023-08-03T07:25:46.031Z"
   },
   {
    "duration": 87,
    "start_time": "2023-08-03T07:25:46.241Z"
   },
   {
    "duration": 3727,
    "start_time": "2023-08-03T10:31:14.194Z"
   },
   {
    "duration": 8,
    "start_time": "2023-08-03T10:31:17.923Z"
   },
   {
    "duration": 271,
    "start_time": "2023-08-03T10:31:17.932Z"
   },
   {
    "duration": 5,
    "start_time": "2023-08-03T10:31:18.205Z"
   },
   {
    "duration": 17,
    "start_time": "2023-08-03T10:31:18.213Z"
   },
   {
    "duration": 41,
    "start_time": "2023-08-03T10:31:18.232Z"
   },
   {
    "duration": 14,
    "start_time": "2023-08-03T10:31:18.277Z"
   },
   {
    "duration": 8,
    "start_time": "2023-08-03T10:31:18.293Z"
   },
   {
    "duration": 9,
    "start_time": "2023-08-03T10:31:18.303Z"
   },
   {
    "duration": 17,
    "start_time": "2023-08-03T10:31:18.314Z"
   },
   {
    "duration": 35,
    "start_time": "2023-08-03T10:31:18.333Z"
   },
   {
    "duration": 73,
    "start_time": "2023-08-03T10:31:18.390Z"
   },
   {
    "duration": 28,
    "start_time": "2023-08-03T10:31:18.465Z"
   },
   {
    "duration": 102,
    "start_time": "2023-08-03T10:31:18.573Z"
   },
   {
    "duration": 1601,
    "start_time": "2023-08-21T06:56:31.930Z"
   },
   {
    "duration": 7,
    "start_time": "2023-08-21T06:56:33.533Z"
   },
   {
    "duration": 203,
    "start_time": "2023-08-21T06:56:33.541Z"
   },
   {
    "duration": 4,
    "start_time": "2023-08-21T06:56:33.746Z"
   },
   {
    "duration": 27,
    "start_time": "2023-08-21T06:56:33.752Z"
   },
   {
    "duration": 28,
    "start_time": "2023-08-21T06:56:33.781Z"
   },
   {
    "duration": 15,
    "start_time": "2023-08-21T06:56:33.811Z"
   },
   {
    "duration": 11,
    "start_time": "2023-08-21T06:56:33.828Z"
   },
   {
    "duration": 5,
    "start_time": "2023-08-21T06:56:33.841Z"
   },
   {
    "duration": 9,
    "start_time": "2023-08-21T06:56:33.848Z"
   },
   {
    "duration": 77,
    "start_time": "2023-08-21T06:56:33.859Z"
   },
   {
    "duration": 97,
    "start_time": "2023-08-21T06:56:33.938Z"
   },
   {
    "duration": 118,
    "start_time": "2023-08-21T06:56:34.037Z"
   },
   {
    "duration": 0,
    "start_time": "2023-08-21T06:56:34.157Z"
   },
   {
    "duration": 1398,
    "start_time": "2023-08-21T06:57:01.703Z"
   },
   {
    "duration": 7,
    "start_time": "2023-08-21T06:57:03.103Z"
   },
   {
    "duration": 164,
    "start_time": "2023-08-21T06:57:03.111Z"
   },
   {
    "duration": 4,
    "start_time": "2023-08-21T06:57:03.278Z"
   },
   {
    "duration": 31,
    "start_time": "2023-08-21T06:57:03.284Z"
   },
   {
    "duration": 16,
    "start_time": "2023-08-21T06:57:03.317Z"
   },
   {
    "duration": 31,
    "start_time": "2023-08-21T06:57:03.334Z"
   },
   {
    "duration": 16,
    "start_time": "2023-08-21T06:57:03.366Z"
   },
   {
    "duration": 48,
    "start_time": "2023-08-21T06:57:03.384Z"
   },
   {
    "duration": 31,
    "start_time": "2023-08-21T06:57:03.434Z"
   },
   {
    "duration": 19,
    "start_time": "2023-08-21T06:57:03.467Z"
   },
   {
    "duration": 46,
    "start_time": "2023-08-21T06:57:03.488Z"
   },
   {
    "duration": 184,
    "start_time": "2023-08-21T06:57:03.536Z"
   },
   {
    "duration": 0,
    "start_time": "2023-08-21T06:57:03.722Z"
   },
   {
    "duration": 94,
    "start_time": "2023-08-21T06:57:26.742Z"
   },
   {
    "duration": 25,
    "start_time": "2023-08-21T06:57:44.615Z"
   },
   {
    "duration": 5,
    "start_time": "2023-08-21T06:59:24.416Z"
   },
   {
    "duration": 26,
    "start_time": "2023-08-21T06:59:25.519Z"
   },
   {
    "duration": 1963,
    "start_time": "2023-08-21T07:00:01.726Z"
   },
   {
    "duration": 7,
    "start_time": "2023-08-21T07:00:03.692Z"
   },
   {
    "duration": 146,
    "start_time": "2023-08-21T07:00:03.701Z"
   },
   {
    "duration": 4,
    "start_time": "2023-08-21T07:00:03.849Z"
   },
   {
    "duration": 21,
    "start_time": "2023-08-21T07:00:03.855Z"
   },
   {
    "duration": 29,
    "start_time": "2023-08-21T07:00:03.877Z"
   },
   {
    "duration": 22,
    "start_time": "2023-08-21T07:00:03.908Z"
   },
   {
    "duration": 19,
    "start_time": "2023-08-21T07:00:03.932Z"
   },
   {
    "duration": 25,
    "start_time": "2023-08-21T07:00:03.953Z"
   },
   {
    "duration": 22,
    "start_time": "2023-08-21T07:00:03.979Z"
   },
   {
    "duration": 35,
    "start_time": "2023-08-21T07:00:04.003Z"
   },
   {
    "duration": 94,
    "start_time": "2023-08-21T07:00:04.040Z"
   },
   {
    "duration": 30,
    "start_time": "2023-08-21T07:00:04.136Z"
   },
   {
    "duration": 313,
    "start_time": "2023-08-21T07:00:04.233Z"
   },
   {
    "duration": 0,
    "start_time": "2023-08-21T07:00:04.548Z"
   },
   {
    "duration": 4,
    "start_time": "2023-08-21T07:00:40.569Z"
   },
   {
    "duration": 10,
    "start_time": "2023-08-21T07:00:40.729Z"
   },
   {
    "duration": 9,
    "start_time": "2023-08-21T07:00:54.370Z"
   },
   {
    "duration": 22,
    "start_time": "2023-08-21T07:06:40.828Z"
   },
   {
    "duration": 21,
    "start_time": "2023-08-21T07:06:56.303Z"
   },
   {
    "duration": 15,
    "start_time": "2023-08-21T07:07:00.169Z"
   },
   {
    "duration": 24,
    "start_time": "2023-08-21T07:07:05.448Z"
   },
   {
    "duration": 4,
    "start_time": "2023-08-21T07:07:18.822Z"
   },
   {
    "duration": 19,
    "start_time": "2023-08-21T07:07:18.980Z"
   },
   {
    "duration": 15,
    "start_time": "2023-08-21T07:07:20.685Z"
   },
   {
    "duration": 7,
    "start_time": "2023-08-21T07:56:41.927Z"
   },
   {
    "duration": 7,
    "start_time": "2023-08-21T07:56:49.551Z"
   },
   {
    "duration": 14,
    "start_time": "2023-08-21T07:58:52.120Z"
   },
   {
    "duration": 151,
    "start_time": "2023-08-21T08:00:08.916Z"
   },
   {
    "duration": 312,
    "start_time": "2023-08-21T08:00:33.610Z"
   },
   {
    "duration": 101,
    "start_time": "2023-08-21T08:00:46.993Z"
   },
   {
    "duration": 208,
    "start_time": "2023-08-21T08:01:46.148Z"
   },
   {
    "duration": 15,
    "start_time": "2023-08-21T08:02:42.930Z"
   },
   {
    "duration": 18,
    "start_time": "2023-08-21T08:03:18.235Z"
   },
   {
    "duration": 220,
    "start_time": "2023-08-21T08:03:49.803Z"
   },
   {
    "duration": 15,
    "start_time": "2023-08-21T08:06:38.567Z"
   },
   {
    "duration": 19,
    "start_time": "2023-08-21T08:06:57.158Z"
   },
   {
    "duration": 1361,
    "start_time": "2023-08-21T08:07:11.331Z"
   },
   {
    "duration": 8,
    "start_time": "2023-08-21T08:07:12.694Z"
   },
   {
    "duration": 161,
    "start_time": "2023-08-21T08:07:12.704Z"
   },
   {
    "duration": 4,
    "start_time": "2023-08-21T08:07:12.867Z"
   },
   {
    "duration": 19,
    "start_time": "2023-08-21T08:07:12.873Z"
   },
   {
    "duration": 15,
    "start_time": "2023-08-21T08:07:12.894Z"
   },
   {
    "duration": 10,
    "start_time": "2023-08-21T08:07:12.910Z"
   },
   {
    "duration": 13,
    "start_time": "2023-08-21T08:07:12.921Z"
   },
   {
    "duration": 4,
    "start_time": "2023-08-21T08:07:12.936Z"
   },
   {
    "duration": 8,
    "start_time": "2023-08-21T08:07:12.942Z"
   },
   {
    "duration": 20,
    "start_time": "2023-08-21T08:07:12.952Z"
   },
   {
    "duration": 101,
    "start_time": "2023-08-21T08:07:13.035Z"
   },
   {
    "duration": 4,
    "start_time": "2023-08-21T08:07:13.137Z"
   },
   {
    "duration": 4,
    "start_time": "2023-08-21T08:07:13.143Z"
   },
   {
    "duration": 92,
    "start_time": "2023-08-21T08:07:13.148Z"
   },
   {
    "duration": 102,
    "start_time": "2023-08-21T08:07:13.241Z"
   },
   {
    "duration": 100,
    "start_time": "2023-08-21T08:07:45.605Z"
   },
   {
    "duration": 14,
    "start_time": "2023-08-21T08:07:48.039Z"
   },
   {
    "duration": 1340,
    "start_time": "2023-08-21T08:07:53.466Z"
   },
   {
    "duration": 7,
    "start_time": "2023-08-21T08:07:54.808Z"
   },
   {
    "duration": 147,
    "start_time": "2023-08-21T08:07:54.816Z"
   },
   {
    "duration": 4,
    "start_time": "2023-08-21T08:07:54.966Z"
   },
   {
    "duration": 16,
    "start_time": "2023-08-21T08:07:54.971Z"
   },
   {
    "duration": 13,
    "start_time": "2023-08-21T08:07:54.989Z"
   },
   {
    "duration": 14,
    "start_time": "2023-08-21T08:07:55.004Z"
   },
   {
    "duration": 18,
    "start_time": "2023-08-21T08:07:55.020Z"
   },
   {
    "duration": 5,
    "start_time": "2023-08-21T08:07:55.040Z"
   },
   {
    "duration": 10,
    "start_time": "2023-08-21T08:07:55.048Z"
   },
   {
    "duration": 77,
    "start_time": "2023-08-21T08:07:55.059Z"
   },
   {
    "duration": 99,
    "start_time": "2023-08-21T08:07:55.138Z"
   },
   {
    "duration": 4,
    "start_time": "2023-08-21T08:07:55.239Z"
   },
   {
    "duration": 13,
    "start_time": "2023-08-21T08:07:55.244Z"
   },
   {
    "duration": 79,
    "start_time": "2023-08-21T08:07:55.258Z"
   },
   {
    "duration": 104,
    "start_time": "2023-08-21T08:07:55.339Z"
   },
   {
    "duration": 1392,
    "start_time": "2023-08-21T08:08:02.418Z"
   },
   {
    "duration": 7,
    "start_time": "2023-08-21T08:08:03.812Z"
   },
   {
    "duration": 164,
    "start_time": "2023-08-21T08:08:03.820Z"
   },
   {
    "duration": 4,
    "start_time": "2023-08-21T08:08:03.985Z"
   },
   {
    "duration": 24,
    "start_time": "2023-08-21T08:08:03.991Z"
   },
   {
    "duration": 30,
    "start_time": "2023-08-21T08:08:04.017Z"
   },
   {
    "duration": 12,
    "start_time": "2023-08-21T08:08:04.049Z"
   },
   {
    "duration": 10,
    "start_time": "2023-08-21T08:08:04.063Z"
   },
   {
    "duration": 31,
    "start_time": "2023-08-21T08:08:04.075Z"
   },
   {
    "duration": 51,
    "start_time": "2023-08-21T08:08:04.108Z"
   },
   {
    "duration": 33,
    "start_time": "2023-08-21T08:08:04.161Z"
   },
   {
    "duration": 47,
    "start_time": "2023-08-21T08:08:04.196Z"
   },
   {
    "duration": 4,
    "start_time": "2023-08-21T08:08:04.244Z"
   },
   {
    "duration": 84,
    "start_time": "2023-08-21T08:08:04.250Z"
   },
   {
    "duration": 41,
    "start_time": "2023-08-21T08:08:04.336Z"
   },
   {
    "duration": 167,
    "start_time": "2023-08-21T08:08:04.378Z"
   },
   {
    "duration": 1337,
    "start_time": "2023-08-21T08:08:31.059Z"
   },
   {
    "duration": 8,
    "start_time": "2023-08-21T08:08:32.398Z"
   },
   {
    "duration": 156,
    "start_time": "2023-08-21T08:08:32.408Z"
   },
   {
    "duration": 4,
    "start_time": "2023-08-21T08:08:32.567Z"
   },
   {
    "duration": 22,
    "start_time": "2023-08-21T08:08:32.572Z"
   },
   {
    "duration": 8,
    "start_time": "2023-08-21T08:08:32.596Z"
   },
   {
    "duration": 12,
    "start_time": "2023-08-21T08:08:32.606Z"
   },
   {
    "duration": 20,
    "start_time": "2023-08-21T08:08:32.620Z"
   },
   {
    "duration": 17,
    "start_time": "2023-08-21T08:08:32.641Z"
   },
   {
    "duration": 23,
    "start_time": "2023-08-21T08:08:32.660Z"
   },
   {
    "duration": 7,
    "start_time": "2023-08-21T08:08:32.685Z"
   },
   {
    "duration": 31,
    "start_time": "2023-08-21T08:08:32.693Z"
   },
   {
    "duration": 4,
    "start_time": "2023-08-21T08:08:32.726Z"
   },
   {
    "duration": 16,
    "start_time": "2023-08-21T08:08:32.731Z"
   },
   {
    "duration": 93,
    "start_time": "2023-08-21T08:08:32.749Z"
   },
   {
    "duration": 101,
    "start_time": "2023-08-21T08:08:32.845Z"
   },
   {
    "duration": 1498,
    "start_time": "2023-08-21T10:16:02.848Z"
   },
   {
    "duration": 7,
    "start_time": "2023-08-21T10:16:04.348Z"
   },
   {
    "duration": 190,
    "start_time": "2023-08-21T10:16:04.357Z"
   },
   {
    "duration": 6,
    "start_time": "2023-08-21T10:16:04.550Z"
   },
   {
    "duration": 18,
    "start_time": "2023-08-21T10:16:04.558Z"
   },
   {
    "duration": 19,
    "start_time": "2023-08-21T10:16:04.578Z"
   },
   {
    "duration": 12,
    "start_time": "2023-08-21T10:16:04.600Z"
   },
   {
    "duration": 29,
    "start_time": "2023-08-21T10:16:04.615Z"
   },
   {
    "duration": 6,
    "start_time": "2023-08-21T10:16:04.647Z"
   },
   {
    "duration": 11,
    "start_time": "2023-08-21T10:16:04.656Z"
   },
   {
    "duration": 3,
    "start_time": "2023-08-21T10:16:04.670Z"
   },
   {
    "duration": 18,
    "start_time": "2023-08-21T10:16:04.675Z"
   },
   {
    "duration": 39,
    "start_time": "2023-08-21T10:16:04.695Z"
   },
   {
    "duration": 4,
    "start_time": "2023-08-21T10:16:04.736Z"
   },
   {
    "duration": 99,
    "start_time": "2023-08-21T10:16:04.743Z"
   },
   {
    "duration": 188,
    "start_time": "2023-08-21T10:16:04.845Z"
   }
  ],
  "kernelspec": {
   "display_name": "Python 3 (ipykernel)",
   "language": "python",
   "name": "python3"
  },
  "language_info": {
   "codemirror_mode": {
    "name": "ipython",
    "version": 3
   },
   "file_extension": ".py",
   "mimetype": "text/x-python",
   "name": "python",
   "nbconvert_exporter": "python",
   "pygments_lexer": "ipython3",
   "version": "3.9.13"
  },
  "toc": {
   "base_numbering": 1,
   "nav_menu": {},
   "number_sections": true,
   "sideBar": true,
   "skip_h1_title": true,
   "title_cell": "Содержание",
   "title_sidebar": "Contents",
   "toc_cell": true,
   "toc_position": {
    "height": "calc(100% - 180px)",
    "left": "10px",
    "top": "150px",
    "width": "233.448px"
   },
   "toc_section_display": true,
   "toc_window_display": true
  }
 },
 "nbformat": 4,
 "nbformat_minor": 2
}
