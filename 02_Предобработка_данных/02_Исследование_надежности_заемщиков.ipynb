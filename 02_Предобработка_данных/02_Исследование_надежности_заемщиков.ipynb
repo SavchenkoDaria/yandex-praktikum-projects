{
 "cells": [
  {
   "cell_type": "markdown",
   "id": "30b66c6c",
   "metadata": {
    "deletable": false,
    "editable": false,
    "id": "c81daeeb"
   },
   "source": [
    "# Исследование надежности заемщиков\n"
   ]
  },
  {
   "cell_type": "markdown",
   "id": "2601cb39",
   "metadata": {
    "deletable": false,
    "editable": false,
    "id": "827c20bf"
   },
   "source": [
    "Во второй части проекта вы выполните шаги 3 и 4. Их вручную проверит ревьюер.\n",
    "Чтобы вам не пришлось писать код заново для шагов 1 и 2, мы добавили авторские решения в ячейки с кодом. \n",
    "\n"
   ]
  },
  {
   "cell_type": "markdown",
   "id": "4c6497ef",
   "metadata": {
    "deletable": false,
    "editable": false,
    "id": "744d7639"
   },
   "source": [
    "## Откройте таблицу и изучите общую информацию о данных"
   ]
  },
  {
   "cell_type": "markdown",
   "id": "ecc07b4e",
   "metadata": {
    "deletable": false,
    "editable": false,
    "id": "e7a14c31"
   },
   "source": [
    "**Задание 1. Импортируйте библиотеку pandas. Считайте данные из csv-файла в датафрейм и сохраните в переменную `data`. Путь к файлу:**\n",
    "\n",
    "`/datasets/data.csv`"
   ]
  },
  {
   "cell_type": "code",
   "execution_count": 1,
   "id": "b31557a5",
   "metadata": {
    "deletable": false,
    "id": "7bcf75c9"
   },
   "outputs": [],
   "source": [
    "import pandas as pd\n",
    "\n",
    "try:\n",
    "    data = pd.read_csv('/datasets/data.csv')\n",
    "except:\n",
    "    data = pd.read_csv('C:/Users/daria/Датасеты для проектов/02 Предобработка данных - исследование надёжности заёмщиков/data.csv')"
   ]
  },
  {
   "cell_type": "markdown",
   "id": "263a8eac",
   "metadata": {
    "deletable": false,
    "editable": false,
    "id": "b8038fe3"
   },
   "source": [
    "**Задание 2. Выведите первые 20 строчек датафрейма `data` на экран.**"
   ]
  },
  {
   "cell_type": "code",
   "execution_count": 2,
   "id": "36140fee",
   "metadata": {
    "deletable": false,
    "id": "2a7cab99",
    "outputId": "1a8f3ef2-d323-4ec2-ddf7-89670b5944c4"
   },
   "outputs": [
    {
     "data": {
      "text/html": [
       "<div>\n",
       "<style scoped>\n",
       "    .dataframe tbody tr th:only-of-type {\n",
       "        vertical-align: middle;\n",
       "    }\n",
       "\n",
       "    .dataframe tbody tr th {\n",
       "        vertical-align: top;\n",
       "    }\n",
       "\n",
       "    .dataframe thead th {\n",
       "        text-align: right;\n",
       "    }\n",
       "</style>\n",
       "<table border=\"1\" class=\"dataframe\">\n",
       "  <thead>\n",
       "    <tr style=\"text-align: right;\">\n",
       "      <th></th>\n",
       "      <th>children</th>\n",
       "      <th>days_employed</th>\n",
       "      <th>dob_years</th>\n",
       "      <th>education</th>\n",
       "      <th>education_id</th>\n",
       "      <th>family_status</th>\n",
       "      <th>family_status_id</th>\n",
       "      <th>gender</th>\n",
       "      <th>income_type</th>\n",
       "      <th>debt</th>\n",
       "      <th>total_income</th>\n",
       "      <th>purpose</th>\n",
       "    </tr>\n",
       "  </thead>\n",
       "  <tbody>\n",
       "    <tr>\n",
       "      <th>0</th>\n",
       "      <td>1</td>\n",
       "      <td>-8437.673028</td>\n",
       "      <td>42</td>\n",
       "      <td>высшее</td>\n",
       "      <td>0</td>\n",
       "      <td>женат / замужем</td>\n",
       "      <td>0</td>\n",
       "      <td>F</td>\n",
       "      <td>сотрудник</td>\n",
       "      <td>0</td>\n",
       "      <td>253875.639453</td>\n",
       "      <td>покупка жилья</td>\n",
       "    </tr>\n",
       "    <tr>\n",
       "      <th>1</th>\n",
       "      <td>1</td>\n",
       "      <td>-4024.803754</td>\n",
       "      <td>36</td>\n",
       "      <td>среднее</td>\n",
       "      <td>1</td>\n",
       "      <td>женат / замужем</td>\n",
       "      <td>0</td>\n",
       "      <td>F</td>\n",
       "      <td>сотрудник</td>\n",
       "      <td>0</td>\n",
       "      <td>112080.014102</td>\n",
       "      <td>приобретение автомобиля</td>\n",
       "    </tr>\n",
       "    <tr>\n",
       "      <th>2</th>\n",
       "      <td>0</td>\n",
       "      <td>-5623.422610</td>\n",
       "      <td>33</td>\n",
       "      <td>Среднее</td>\n",
       "      <td>1</td>\n",
       "      <td>женат / замужем</td>\n",
       "      <td>0</td>\n",
       "      <td>M</td>\n",
       "      <td>сотрудник</td>\n",
       "      <td>0</td>\n",
       "      <td>145885.952297</td>\n",
       "      <td>покупка жилья</td>\n",
       "    </tr>\n",
       "    <tr>\n",
       "      <th>3</th>\n",
       "      <td>3</td>\n",
       "      <td>-4124.747207</td>\n",
       "      <td>32</td>\n",
       "      <td>среднее</td>\n",
       "      <td>1</td>\n",
       "      <td>женат / замужем</td>\n",
       "      <td>0</td>\n",
       "      <td>M</td>\n",
       "      <td>сотрудник</td>\n",
       "      <td>0</td>\n",
       "      <td>267628.550329</td>\n",
       "      <td>дополнительное образование</td>\n",
       "    </tr>\n",
       "    <tr>\n",
       "      <th>4</th>\n",
       "      <td>0</td>\n",
       "      <td>340266.072047</td>\n",
       "      <td>53</td>\n",
       "      <td>среднее</td>\n",
       "      <td>1</td>\n",
       "      <td>гражданский брак</td>\n",
       "      <td>1</td>\n",
       "      <td>F</td>\n",
       "      <td>пенсионер</td>\n",
       "      <td>0</td>\n",
       "      <td>158616.077870</td>\n",
       "      <td>сыграть свадьбу</td>\n",
       "    </tr>\n",
       "    <tr>\n",
       "      <th>5</th>\n",
       "      <td>0</td>\n",
       "      <td>-926.185831</td>\n",
       "      <td>27</td>\n",
       "      <td>высшее</td>\n",
       "      <td>0</td>\n",
       "      <td>гражданский брак</td>\n",
       "      <td>1</td>\n",
       "      <td>M</td>\n",
       "      <td>компаньон</td>\n",
       "      <td>0</td>\n",
       "      <td>255763.565419</td>\n",
       "      <td>покупка жилья</td>\n",
       "    </tr>\n",
       "    <tr>\n",
       "      <th>6</th>\n",
       "      <td>0</td>\n",
       "      <td>-2879.202052</td>\n",
       "      <td>43</td>\n",
       "      <td>высшее</td>\n",
       "      <td>0</td>\n",
       "      <td>женат / замужем</td>\n",
       "      <td>0</td>\n",
       "      <td>F</td>\n",
       "      <td>компаньон</td>\n",
       "      <td>0</td>\n",
       "      <td>240525.971920</td>\n",
       "      <td>операции с жильем</td>\n",
       "    </tr>\n",
       "    <tr>\n",
       "      <th>7</th>\n",
       "      <td>0</td>\n",
       "      <td>-152.779569</td>\n",
       "      <td>50</td>\n",
       "      <td>СРЕДНЕЕ</td>\n",
       "      <td>1</td>\n",
       "      <td>женат / замужем</td>\n",
       "      <td>0</td>\n",
       "      <td>M</td>\n",
       "      <td>сотрудник</td>\n",
       "      <td>0</td>\n",
       "      <td>135823.934197</td>\n",
       "      <td>образование</td>\n",
       "    </tr>\n",
       "    <tr>\n",
       "      <th>8</th>\n",
       "      <td>2</td>\n",
       "      <td>-6929.865299</td>\n",
       "      <td>35</td>\n",
       "      <td>ВЫСШЕЕ</td>\n",
       "      <td>0</td>\n",
       "      <td>гражданский брак</td>\n",
       "      <td>1</td>\n",
       "      <td>F</td>\n",
       "      <td>сотрудник</td>\n",
       "      <td>0</td>\n",
       "      <td>95856.832424</td>\n",
       "      <td>на проведение свадьбы</td>\n",
       "    </tr>\n",
       "    <tr>\n",
       "      <th>9</th>\n",
       "      <td>0</td>\n",
       "      <td>-2188.756445</td>\n",
       "      <td>41</td>\n",
       "      <td>среднее</td>\n",
       "      <td>1</td>\n",
       "      <td>женат / замужем</td>\n",
       "      <td>0</td>\n",
       "      <td>M</td>\n",
       "      <td>сотрудник</td>\n",
       "      <td>0</td>\n",
       "      <td>144425.938277</td>\n",
       "      <td>покупка жилья для семьи</td>\n",
       "    </tr>\n",
       "    <tr>\n",
       "      <th>10</th>\n",
       "      <td>2</td>\n",
       "      <td>-4171.483647</td>\n",
       "      <td>36</td>\n",
       "      <td>высшее</td>\n",
       "      <td>0</td>\n",
       "      <td>женат / замужем</td>\n",
       "      <td>0</td>\n",
       "      <td>M</td>\n",
       "      <td>компаньон</td>\n",
       "      <td>0</td>\n",
       "      <td>113943.491460</td>\n",
       "      <td>покупка недвижимости</td>\n",
       "    </tr>\n",
       "    <tr>\n",
       "      <th>11</th>\n",
       "      <td>0</td>\n",
       "      <td>-792.701887</td>\n",
       "      <td>40</td>\n",
       "      <td>среднее</td>\n",
       "      <td>1</td>\n",
       "      <td>женат / замужем</td>\n",
       "      <td>0</td>\n",
       "      <td>F</td>\n",
       "      <td>сотрудник</td>\n",
       "      <td>0</td>\n",
       "      <td>77069.234271</td>\n",
       "      <td>покупка коммерческой недвижимости</td>\n",
       "    </tr>\n",
       "    <tr>\n",
       "      <th>12</th>\n",
       "      <td>0</td>\n",
       "      <td>NaN</td>\n",
       "      <td>65</td>\n",
       "      <td>среднее</td>\n",
       "      <td>1</td>\n",
       "      <td>гражданский брак</td>\n",
       "      <td>1</td>\n",
       "      <td>M</td>\n",
       "      <td>пенсионер</td>\n",
       "      <td>0</td>\n",
       "      <td>NaN</td>\n",
       "      <td>сыграть свадьбу</td>\n",
       "    </tr>\n",
       "    <tr>\n",
       "      <th>13</th>\n",
       "      <td>0</td>\n",
       "      <td>-1846.641941</td>\n",
       "      <td>54</td>\n",
       "      <td>неоконченное высшее</td>\n",
       "      <td>2</td>\n",
       "      <td>женат / замужем</td>\n",
       "      <td>0</td>\n",
       "      <td>F</td>\n",
       "      <td>сотрудник</td>\n",
       "      <td>0</td>\n",
       "      <td>130458.228857</td>\n",
       "      <td>приобретение автомобиля</td>\n",
       "    </tr>\n",
       "    <tr>\n",
       "      <th>14</th>\n",
       "      <td>0</td>\n",
       "      <td>-1844.956182</td>\n",
       "      <td>56</td>\n",
       "      <td>высшее</td>\n",
       "      <td>0</td>\n",
       "      <td>гражданский брак</td>\n",
       "      <td>1</td>\n",
       "      <td>F</td>\n",
       "      <td>компаньон</td>\n",
       "      <td>1</td>\n",
       "      <td>165127.911772</td>\n",
       "      <td>покупка жилой недвижимости</td>\n",
       "    </tr>\n",
       "    <tr>\n",
       "      <th>15</th>\n",
       "      <td>1</td>\n",
       "      <td>-972.364419</td>\n",
       "      <td>26</td>\n",
       "      <td>среднее</td>\n",
       "      <td>1</td>\n",
       "      <td>женат / замужем</td>\n",
       "      <td>0</td>\n",
       "      <td>F</td>\n",
       "      <td>сотрудник</td>\n",
       "      <td>0</td>\n",
       "      <td>116820.904450</td>\n",
       "      <td>строительство собственной недвижимости</td>\n",
       "    </tr>\n",
       "    <tr>\n",
       "      <th>16</th>\n",
       "      <td>0</td>\n",
       "      <td>-1719.934226</td>\n",
       "      <td>35</td>\n",
       "      <td>среднее</td>\n",
       "      <td>1</td>\n",
       "      <td>женат / замужем</td>\n",
       "      <td>0</td>\n",
       "      <td>F</td>\n",
       "      <td>сотрудник</td>\n",
       "      <td>0</td>\n",
       "      <td>289202.704229</td>\n",
       "      <td>недвижимость</td>\n",
       "    </tr>\n",
       "    <tr>\n",
       "      <th>17</th>\n",
       "      <td>0</td>\n",
       "      <td>-2369.999720</td>\n",
       "      <td>33</td>\n",
       "      <td>высшее</td>\n",
       "      <td>0</td>\n",
       "      <td>гражданский брак</td>\n",
       "      <td>1</td>\n",
       "      <td>M</td>\n",
       "      <td>сотрудник</td>\n",
       "      <td>0</td>\n",
       "      <td>90410.586745</td>\n",
       "      <td>строительство недвижимости</td>\n",
       "    </tr>\n",
       "    <tr>\n",
       "      <th>18</th>\n",
       "      <td>0</td>\n",
       "      <td>400281.136913</td>\n",
       "      <td>53</td>\n",
       "      <td>среднее</td>\n",
       "      <td>1</td>\n",
       "      <td>вдовец / вдова</td>\n",
       "      <td>2</td>\n",
       "      <td>F</td>\n",
       "      <td>пенсионер</td>\n",
       "      <td>0</td>\n",
       "      <td>56823.777243</td>\n",
       "      <td>на покупку подержанного автомобиля</td>\n",
       "    </tr>\n",
       "    <tr>\n",
       "      <th>19</th>\n",
       "      <td>0</td>\n",
       "      <td>-10038.818549</td>\n",
       "      <td>48</td>\n",
       "      <td>СРЕДНЕЕ</td>\n",
       "      <td>1</td>\n",
       "      <td>в разводе</td>\n",
       "      <td>3</td>\n",
       "      <td>F</td>\n",
       "      <td>сотрудник</td>\n",
       "      <td>0</td>\n",
       "      <td>242831.107982</td>\n",
       "      <td>на покупку своего автомобиля</td>\n",
       "    </tr>\n",
       "  </tbody>\n",
       "</table>\n",
       "</div>"
      ],
      "text/plain": [
       "    children  days_employed  dob_years            education  education_id  \\\n",
       "0          1   -8437.673028         42               высшее             0   \n",
       "1          1   -4024.803754         36              среднее             1   \n",
       "2          0   -5623.422610         33              Среднее             1   \n",
       "3          3   -4124.747207         32              среднее             1   \n",
       "4          0  340266.072047         53              среднее             1   \n",
       "5          0    -926.185831         27               высшее             0   \n",
       "6          0   -2879.202052         43               высшее             0   \n",
       "7          0    -152.779569         50              СРЕДНЕЕ             1   \n",
       "8          2   -6929.865299         35               ВЫСШЕЕ             0   \n",
       "9          0   -2188.756445         41              среднее             1   \n",
       "10         2   -4171.483647         36               высшее             0   \n",
       "11         0    -792.701887         40              среднее             1   \n",
       "12         0            NaN         65              среднее             1   \n",
       "13         0   -1846.641941         54  неоконченное высшее             2   \n",
       "14         0   -1844.956182         56               высшее             0   \n",
       "15         1    -972.364419         26              среднее             1   \n",
       "16         0   -1719.934226         35              среднее             1   \n",
       "17         0   -2369.999720         33               высшее             0   \n",
       "18         0  400281.136913         53              среднее             1   \n",
       "19         0  -10038.818549         48              СРЕДНЕЕ             1   \n",
       "\n",
       "       family_status  family_status_id gender income_type  debt  \\\n",
       "0    женат / замужем                 0      F   сотрудник     0   \n",
       "1    женат / замужем                 0      F   сотрудник     0   \n",
       "2    женат / замужем                 0      M   сотрудник     0   \n",
       "3    женат / замужем                 0      M   сотрудник     0   \n",
       "4   гражданский брак                 1      F   пенсионер     0   \n",
       "5   гражданский брак                 1      M   компаньон     0   \n",
       "6    женат / замужем                 0      F   компаньон     0   \n",
       "7    женат / замужем                 0      M   сотрудник     0   \n",
       "8   гражданский брак                 1      F   сотрудник     0   \n",
       "9    женат / замужем                 0      M   сотрудник     0   \n",
       "10   женат / замужем                 0      M   компаньон     0   \n",
       "11   женат / замужем                 0      F   сотрудник     0   \n",
       "12  гражданский брак                 1      M   пенсионер     0   \n",
       "13   женат / замужем                 0      F   сотрудник     0   \n",
       "14  гражданский брак                 1      F   компаньон     1   \n",
       "15   женат / замужем                 0      F   сотрудник     0   \n",
       "16   женат / замужем                 0      F   сотрудник     0   \n",
       "17  гражданский брак                 1      M   сотрудник     0   \n",
       "18    вдовец / вдова                 2      F   пенсионер     0   \n",
       "19         в разводе                 3      F   сотрудник     0   \n",
       "\n",
       "     total_income                                 purpose  \n",
       "0   253875.639453                           покупка жилья  \n",
       "1   112080.014102                 приобретение автомобиля  \n",
       "2   145885.952297                           покупка жилья  \n",
       "3   267628.550329              дополнительное образование  \n",
       "4   158616.077870                         сыграть свадьбу  \n",
       "5   255763.565419                           покупка жилья  \n",
       "6   240525.971920                       операции с жильем  \n",
       "7   135823.934197                             образование  \n",
       "8    95856.832424                   на проведение свадьбы  \n",
       "9   144425.938277                 покупка жилья для семьи  \n",
       "10  113943.491460                    покупка недвижимости  \n",
       "11   77069.234271       покупка коммерческой недвижимости  \n",
       "12            NaN                         сыграть свадьбу  \n",
       "13  130458.228857                 приобретение автомобиля  \n",
       "14  165127.911772              покупка жилой недвижимости  \n",
       "15  116820.904450  строительство собственной недвижимости  \n",
       "16  289202.704229                            недвижимость  \n",
       "17   90410.586745              строительство недвижимости  \n",
       "18   56823.777243      на покупку подержанного автомобиля  \n",
       "19  242831.107982            на покупку своего автомобиля  "
      ]
     },
     "execution_count": 2,
     "metadata": {},
     "output_type": "execute_result"
    }
   ],
   "source": [
    "data.head(20)"
   ]
  },
  {
   "cell_type": "markdown",
   "id": "81f7b078",
   "metadata": {
    "deletable": false,
    "editable": false,
    "id": "1c12e233"
   },
   "source": [
    "**Задание 3. Выведите основную информацию о датафрейме с помощью метода `info()`.**"
   ]
  },
  {
   "cell_type": "code",
   "execution_count": 3,
   "id": "53f734f6",
   "metadata": {
    "deletable": false,
    "id": "2b757bca",
    "outputId": "15376089-8dad-46c9-b520-c05248d43158"
   },
   "outputs": [
    {
     "name": "stdout",
     "output_type": "stream",
     "text": [
      "<class 'pandas.core.frame.DataFrame'>\n",
      "RangeIndex: 21525 entries, 0 to 21524\n",
      "Data columns (total 12 columns):\n",
      " #   Column            Non-Null Count  Dtype  \n",
      "---  ------            --------------  -----  \n",
      " 0   children          21525 non-null  int64  \n",
      " 1   days_employed     19351 non-null  float64\n",
      " 2   dob_years         21525 non-null  int64  \n",
      " 3   education         21525 non-null  object \n",
      " 4   education_id      21525 non-null  int64  \n",
      " 5   family_status     21525 non-null  object \n",
      " 6   family_status_id  21525 non-null  int64  \n",
      " 7   gender            21525 non-null  object \n",
      " 8   income_type       21525 non-null  object \n",
      " 9   debt              21525 non-null  int64  \n",
      " 10  total_income      19351 non-null  float64\n",
      " 11  purpose           21525 non-null  object \n",
      "dtypes: float64(2), int64(5), object(5)\n",
      "memory usage: 2.0+ MB\n"
     ]
    }
   ],
   "source": [
    "data.info()"
   ]
  },
  {
   "cell_type": "markdown",
   "id": "68ae98e4",
   "metadata": {
    "deletable": false,
    "editable": false,
    "id": "333ec665"
   },
   "source": [
    "## Предобработка данных"
   ]
  },
  {
   "cell_type": "markdown",
   "id": "b945c3d2",
   "metadata": {
    "deletable": false,
    "editable": false,
    "id": "02d92d53"
   },
   "source": [
    "### Удаление пропусков"
   ]
  },
  {
   "cell_type": "markdown",
   "id": "334b9b89",
   "metadata": {},
   "source": [
    "<a id='gap'></a>"
   ]
  },
  {
   "cell_type": "markdown",
   "id": "a7d3e6a7",
   "metadata": {
    "deletable": false,
    "editable": false,
    "id": "cd84967c"
   },
   "source": [
    "**Задание 4. Выведите количество пропущенных значений для каждого столбца. Используйте комбинацию двух методов.**"
   ]
  },
  {
   "cell_type": "code",
   "execution_count": 4,
   "id": "7e7dc6d4",
   "metadata": {
    "deletable": false,
    "id": "7f9b2309",
    "outputId": "81f4d817-781c-465c-ed15-91ce4446810d"
   },
   "outputs": [
    {
     "data": {
      "text/plain": [
       "children               0\n",
       "days_employed       2174\n",
       "dob_years              0\n",
       "education              0\n",
       "education_id           0\n",
       "family_status          0\n",
       "family_status_id       0\n",
       "gender                 0\n",
       "income_type            0\n",
       "debt                   0\n",
       "total_income        2174\n",
       "purpose                0\n",
       "dtype: int64"
      ]
     },
     "execution_count": 4,
     "metadata": {},
     "output_type": "execute_result"
    }
   ],
   "source": [
    "data.isna().sum()"
   ]
  },
  {
   "cell_type": "markdown",
   "id": "ef04d8e8",
   "metadata": {
    "deletable": false,
    "editable": false,
    "id": "db86e27b"
   },
   "source": [
    "**Задание 5. В двух столбцах есть пропущенные значения. Один из них — `days_employed`. Пропуски в этом столбце вы обработаете на следующем этапе. Другой столбец с пропущенными значениями — `total_income` — хранит данные о доходах. На сумму дохода сильнее всего влияет тип занятости, поэтому заполнить пропуски в этом столбце нужно медианным значением по каждому типу из столбца `income_type`. Например, у человека с типом занятости `сотрудник` пропуск в столбце `total_income` должен быть заполнен медианным доходом среди всех записей с тем же типом.**"
   ]
  },
  {
   "cell_type": "code",
   "execution_count": 5,
   "id": "b6a0682f",
   "metadata": {
    "deletable": false,
    "id": "42006a93"
   },
   "outputs": [],
   "source": [
    "for t in data['income_type'].unique():\n",
    "    data.loc[(data['income_type'] == t) & (data['total_income'].isna()), 'total_income'] = \\\n",
    "    data.loc[(data['income_type'] == t), 'total_income'].median()"
   ]
  },
  {
   "cell_type": "markdown",
   "id": "98af1f05",
   "metadata": {
    "deletable": false,
    "editable": false,
    "id": "89da5ece"
   },
   "source": [
    "### Обработка аномальных значений"
   ]
  },
  {
   "cell_type": "markdown",
   "id": "d8b17d7b",
   "metadata": {
    "deletable": false,
    "editable": false,
    "id": "57964554"
   },
   "source": [
    "**Задание 6. В данных могут встречаться артефакты (аномалии) — значения, которые не отражают действительность и появились по какой-то ошибке. таким артефактом будет отрицательное количество дней трудового стажа в столбце `days_employed`. Для реальных данных это нормально. Обработайте значения в этом столбце: замените все отрицательные значения положительными с помощью метода `abs()`.**"
   ]
  },
  {
   "cell_type": "code",
   "execution_count": 6,
   "id": "c0b426b9",
   "metadata": {
    "deletable": false,
    "id": "f6f055bf"
   },
   "outputs": [],
   "source": [
    "data['days_employed'] = data['days_employed'].abs()"
   ]
  },
  {
   "cell_type": "markdown",
   "id": "4ef70347",
   "metadata": {
    "deletable": false,
    "editable": false,
    "id": "6107dd2f"
   },
   "source": [
    "**Задание 7. Для каждого типа занятости выведите медианное значение трудового стажа `days_employed` в днях.**"
   ]
  },
  {
   "cell_type": "code",
   "execution_count": 7,
   "id": "98a1e179",
   "metadata": {
    "deletable": false,
    "id": "85a5faf6",
    "outputId": "801ef80e-522b-4668-f34e-565af7432bcf"
   },
   "outputs": [
    {
     "data": {
      "text/plain": [
       "income_type\n",
       "безработный        366413.652744\n",
       "в декрете            3296.759962\n",
       "госслужащий          2689.368353\n",
       "компаньон            1547.382223\n",
       "пенсионер          365213.306266\n",
       "предприниматель       520.848083\n",
       "сотрудник            1574.202821\n",
       "студент               578.751554\n",
       "Name: days_employed, dtype: float64"
      ]
     },
     "execution_count": 7,
     "metadata": {},
     "output_type": "execute_result"
    }
   ],
   "source": [
    "data.groupby('income_type')['days_employed'].agg('median')"
   ]
  },
  {
   "cell_type": "markdown",
   "id": "af4b5ae3",
   "metadata": {
    "deletable": false,
    "editable": false,
    "id": "38d1a030"
   },
   "source": [
    "У двух типов (безработные и пенсионеры) получатся аномально большие значения. Исправить такие значения сложно, поэтому оставьте их как есть. Тем более этот столбец не понадобится вам для исследования."
   ]
  },
  {
   "cell_type": "markdown",
   "id": "c3561503",
   "metadata": {
    "deletable": false,
    "editable": false,
    "id": "d8a9f147"
   },
   "source": [
    "**Задание 8. Выведите перечень уникальных значений столбца `children`.**"
   ]
  },
  {
   "cell_type": "code",
   "execution_count": 8,
   "id": "f70e3e93",
   "metadata": {
    "deletable": false,
    "id": "ef5056eb",
    "outputId": "6975b15c-7f95-4697-d16d-a0c79b657b03"
   },
   "outputs": [
    {
     "data": {
      "text/plain": [
       "array([ 1,  0,  3,  2, -1,  4, 20,  5], dtype=int64)"
      ]
     },
     "execution_count": 8,
     "metadata": {},
     "output_type": "execute_result"
    }
   ],
   "source": [
    "data['children'].unique()"
   ]
  },
  {
   "cell_type": "markdown",
   "id": "1a395027",
   "metadata": {
    "deletable": false,
    "editable": false,
    "id": "40b9ebf2"
   },
   "source": [
    "**Задание 9. В столбце `children` есть два аномальных значения. Удалите строки, в которых встречаются такие аномальные значения из датафрейма `data`.**"
   ]
  },
  {
   "cell_type": "code",
   "execution_count": 9,
   "id": "3ab66e8a",
   "metadata": {
    "deletable": false,
    "id": "3ff9801d"
   },
   "outputs": [],
   "source": [
    "data = data[(data['children'] != -1) & (data['children'] != 20)]"
   ]
  },
  {
   "cell_type": "markdown",
   "id": "a7511f28",
   "metadata": {
    "deletable": false,
    "editable": false,
    "id": "bbc4d0ce"
   },
   "source": [
    "**Задание 10. Ещё раз выведите перечень уникальных значений столбца `children`, чтобы убедиться, что артефакты удалены.**"
   ]
  },
  {
   "cell_type": "code",
   "execution_count": 10,
   "id": "e3b3c8fa",
   "metadata": {
    "deletable": false,
    "id": "ad4fa8b7",
    "outputId": "b2097101-d49d-44d9-901b-32a65c9463d1"
   },
   "outputs": [
    {
     "data": {
      "text/plain": [
       "array([1, 0, 3, 2, 4, 5], dtype=int64)"
      ]
     },
     "execution_count": 10,
     "metadata": {},
     "output_type": "execute_result"
    }
   ],
   "source": [
    "data['children'].unique()"
   ]
  },
  {
   "cell_type": "markdown",
   "id": "55954d66",
   "metadata": {
    "deletable": false,
    "editable": false,
    "id": "75440b63"
   },
   "source": [
    "### Удаление пропусков (продолжение)"
   ]
  },
  {
   "cell_type": "markdown",
   "id": "8aca22b6",
   "metadata": {
    "deletable": false,
    "editable": false,
    "id": "f4ea573f"
   },
   "source": [
    "**Задание 11. Заполните пропуски в столбце `days_employed` медианными значениями по каждого типа занятости `income_type`.**"
   ]
  },
  {
   "cell_type": "code",
   "execution_count": 11,
   "id": "02707842",
   "metadata": {
    "deletable": false,
    "id": "af6b1a7e"
   },
   "outputs": [],
   "source": [
    "for t in data['income_type'].unique():\n",
    "    data.loc[(data['income_type'] == t) & (data['days_employed'].isna()), 'days_employed'] = \\\n",
    "    data.loc[(data['income_type'] == t), 'days_employed'].median()"
   ]
  },
  {
   "cell_type": "markdown",
   "id": "87599cdd",
   "metadata": {
    "deletable": false,
    "editable": false,
    "id": "2753f40d"
   },
   "source": [
    "**Задание 12. Убедитесь, что все пропуски заполнены. Проверьте себя и ещё раз выведите количество пропущенных значений для каждого столбца с помощью двух методов.**"
   ]
  },
  {
   "cell_type": "code",
   "execution_count": 12,
   "id": "b6ccf2d7",
   "metadata": {
    "deletable": false,
    "id": "55f78bc2",
    "outputId": "8da1e4e1-358e-4e87-98c9-f261bce0a7b2"
   },
   "outputs": [
    {
     "data": {
      "text/plain": [
       "children            0\n",
       "days_employed       0\n",
       "dob_years           0\n",
       "education           0\n",
       "education_id        0\n",
       "family_status       0\n",
       "family_status_id    0\n",
       "gender              0\n",
       "income_type         0\n",
       "debt                0\n",
       "total_income        0\n",
       "purpose             0\n",
       "dtype: int64"
      ]
     },
     "execution_count": 12,
     "metadata": {},
     "output_type": "execute_result"
    }
   ],
   "source": [
    "data.isna().sum()"
   ]
  },
  {
   "cell_type": "markdown",
   "id": "2fcef635",
   "metadata": {
    "deletable": false,
    "editable": false,
    "id": "ddc81e43"
   },
   "source": [
    "### Изменение типов данных"
   ]
  },
  {
   "cell_type": "markdown",
   "id": "1376c561",
   "metadata": {
    "deletable": false,
    "editable": false,
    "id": "42d19d24"
   },
   "source": [
    "**Задание 13. Замените вещественный тип данных в столбце `total_income` на целочисленный с помощью метода `astype()`.**"
   ]
  },
  {
   "cell_type": "code",
   "execution_count": 13,
   "id": "9ffdd694",
   "metadata": {
    "deletable": false,
    "id": "920b65ad"
   },
   "outputs": [],
   "source": [
    "data['total_income'] = data['total_income'].astype(int)"
   ]
  },
  {
   "cell_type": "markdown",
   "id": "a5c7f1bf",
   "metadata": {
    "deletable": false,
    "editable": false,
    "id": "80c420ba"
   },
   "source": [
    "### Обработка дубликатов"
   ]
  },
  {
   "cell_type": "markdown",
   "id": "3e90e486",
   "metadata": {
    "deletable": false,
    "editable": false
   },
   "source": [
    "**Задание 14. Обработайте неявные дубликаты в столбце `education`. В этом столбце есть одни и те же значения, но записанные по-разному: с использованием заглавных и строчных букв. Приведите их к нижнему регистру. Проверьте остальные столбцы.**"
   ]
  },
  {
   "cell_type": "code",
   "execution_count": 14,
   "id": "84b9965d",
   "metadata": {
    "deletable": false
   },
   "outputs": [],
   "source": [
    "data['education'] = data['education'].str.lower()"
   ]
  },
  {
   "cell_type": "markdown",
   "id": "26fd4792",
   "metadata": {
    "deletable": false,
    "editable": false,
    "id": "dc587695"
   },
   "source": [
    "**Задание 15. Выведите на экран количество строк-дубликатов в данных. Если такие строки присутствуют, удалите их.**"
   ]
  },
  {
   "cell_type": "code",
   "execution_count": 15,
   "id": "f2bbdbe6",
   "metadata": {
    "deletable": false,
    "id": "3ee445e4",
    "outputId": "9684deba-1934-42d1-99e1-cda61740f822"
   },
   "outputs": [
    {
     "data": {
      "text/plain": [
       "71"
      ]
     },
     "execution_count": 15,
     "metadata": {},
     "output_type": "execute_result"
    }
   ],
   "source": [
    "data.duplicated().sum()"
   ]
  },
  {
   "cell_type": "code",
   "execution_count": 16,
   "id": "43050557",
   "metadata": {
    "deletable": false,
    "id": "8575fe05"
   },
   "outputs": [],
   "source": [
    "data = data.drop_duplicates()"
   ]
  },
  {
   "cell_type": "markdown",
   "id": "60264142",
   "metadata": {
    "deletable": false,
    "editable": false,
    "id": "9904cf55"
   },
   "source": [
    "### Категоризация данных"
   ]
  },
  {
   "cell_type": "markdown",
   "id": "8103f0e9",
   "metadata": {
    "deletable": false,
    "editable": false,
    "id": "72fcc8a2"
   },
   "source": [
    "**Задание 16. На основании диапазонов, указанных ниже, создайте в датафрейме `data` столбец `total_income_category` с категориями:**\n",
    "\n",
    "- 0–30000 — `'E'`;\n",
    "- 30001–50000 — `'D'`;\n",
    "- 50001–200000 — `'C'`;\n",
    "- 200001–1000000 — `'B'`;\n",
    "- 1000001 и выше — `'A'`.\n",
    "\n",
    "\n",
    "**Например, кредитополучателю с доходом 25000 нужно назначить категорию `'E'`, а клиенту, получающему 235000, — `'B'`. Используйте собственную функцию с именем `categorize_income()` и метод `apply()`.**"
   ]
  },
  {
   "cell_type": "code",
   "execution_count": 17,
   "id": "ac6c8ae1",
   "metadata": {
    "deletable": false,
    "id": "e1771346"
   },
   "outputs": [],
   "source": [
    "def categorize_income(income):\n",
    "    try:\n",
    "        if 0 <= income <= 30000:\n",
    "            return 'E'\n",
    "        elif 30001 <= income <= 50000:\n",
    "            return 'D'\n",
    "        elif 50001 <= income <= 200000:\n",
    "            return 'C'\n",
    "        elif 200001 <= income <= 1000000:\n",
    "            return 'B'\n",
    "        elif income >= 1000001:\n",
    "            return 'A'\n",
    "    except:\n",
    "        pass"
   ]
  },
  {
   "cell_type": "code",
   "execution_count": 18,
   "id": "7c047702",
   "metadata": {
    "deletable": false,
    "id": "d5f3586d"
   },
   "outputs": [],
   "source": [
    "data['total_income_category'] = data['total_income'].apply(categorize_income)"
   ]
  },
  {
   "cell_type": "markdown",
   "id": "72cf133d",
   "metadata": {
    "deletable": false,
    "editable": false,
    "id": "dde49b5c"
   },
   "source": [
    "**Задание 17. Выведите на экран перечень уникальных целей взятия кредита из столбца `purpose`.**"
   ]
  },
  {
   "cell_type": "code",
   "execution_count": 19,
   "id": "eedd8b51",
   "metadata": {
    "deletable": false,
    "id": "f67ce9b3",
    "outputId": "673c12d9-7d7e-4ae0-9812-c622c89dd244"
   },
   "outputs": [
    {
     "data": {
      "text/plain": [
       "array(['покупка жилья', 'приобретение автомобиля',\n",
       "       'дополнительное образование', 'сыграть свадьбу',\n",
       "       'операции с жильем', 'образование', 'на проведение свадьбы',\n",
       "       'покупка жилья для семьи', 'покупка недвижимости',\n",
       "       'покупка коммерческой недвижимости', 'покупка жилой недвижимости',\n",
       "       'строительство собственной недвижимости', 'недвижимость',\n",
       "       'строительство недвижимости', 'на покупку подержанного автомобиля',\n",
       "       'на покупку своего автомобиля',\n",
       "       'операции с коммерческой недвижимостью',\n",
       "       'строительство жилой недвижимости', 'жилье',\n",
       "       'операции со своей недвижимостью', 'автомобили',\n",
       "       'заняться образованием', 'сделка с подержанным автомобилем',\n",
       "       'получение образования', 'автомобиль', 'свадьба',\n",
       "       'получение дополнительного образования', 'покупка своего жилья',\n",
       "       'операции с недвижимостью', 'получение высшего образования',\n",
       "       'свой автомобиль', 'сделка с автомобилем',\n",
       "       'профильное образование', 'высшее образование',\n",
       "       'покупка жилья для сдачи', 'на покупку автомобиля', 'ремонт жилью',\n",
       "       'заняться высшим образованием'], dtype=object)"
      ]
     },
     "execution_count": 19,
     "metadata": {},
     "output_type": "execute_result"
    }
   ],
   "source": [
    "data['purpose'].unique()"
   ]
  },
  {
   "cell_type": "markdown",
   "id": "becd1a00",
   "metadata": {
    "deletable": false,
    "editable": false,
    "id": "85d0aef0"
   },
   "source": [
    "**Задание 18. Создайте функцию, которая на основании данных из столбца `purpose` сформирует новый столбец `purpose_category`, в который войдут следующие категории:**\n",
    "\n",
    "- `'операции с автомобилем'`,\n",
    "- `'операции с недвижимостью'`,\n",
    "- `'проведение свадьбы'`,\n",
    "- `'получение образования'`.\n",
    "\n",
    "**Например, если в столбце `purpose` находится подстрока `'на покупку автомобиля'`, то в столбце `purpose_category` должна появиться строка `'операции с автомобилем'`.**\n",
    "\n",
    "**Используйте собственную функцию с именем `categorize_purpose()` и метод `apply()`. Изучите данные в столбце `purpose` и определите, какие подстроки помогут вам правильно определить категорию.**"
   ]
  },
  {
   "cell_type": "code",
   "execution_count": 20,
   "id": "bd22e3b2",
   "metadata": {
    "deletable": false,
    "id": "e149fab4"
   },
   "outputs": [],
   "source": [
    "def categorize_purpose(row):\n",
    "    try:\n",
    "        if 'автом' in row:\n",
    "            return 'операции с автомобилем'\n",
    "        elif 'жил' in row or 'недвиж' in row:\n",
    "            return 'операции с недвижимостью'\n",
    "        elif 'свад' in row:\n",
    "            return 'проведение свадьбы'\n",
    "        elif 'образов' in row:\n",
    "            return 'получение образования'\n",
    "    except:\n",
    "        return 'нет категории'"
   ]
  },
  {
   "cell_type": "code",
   "execution_count": 21,
   "id": "91a80528",
   "metadata": {
    "deletable": false,
    "id": "bf36e69b"
   },
   "outputs": [],
   "source": [
    "data['purpose_category'] = data['purpose'].apply(categorize_purpose)"
   ]
  },
  {
   "cell_type": "markdown",
   "id": "00d4410d",
   "metadata": {
    "deletable": false,
    "editable": false,
    "id": "09b242bf"
   },
   "source": [
    "### Шаг 3. Исследуйте данные и ответьте на вопросы"
   ]
  },
  {
   "cell_type": "markdown",
   "id": "f4dbef58",
   "metadata": {
    "deletable": false,
    "editable": false,
    "id": "c5d66278"
   },
   "source": [
    "#### 3.1 Есть ли зависимость между количеством детей и возвратом кредита в срок?"
   ]
  },
  {
   "cell_type": "code",
   "execution_count": 22,
   "id": "7720240e",
   "metadata": {
    "deletable": false,
    "id": "2cacfc4a"
   },
   "outputs": [
    {
     "data": {
      "text/plain": [
       "array([1, 0, 3, 2, 4, 5], dtype=int64)"
      ]
     },
     "execution_count": 22,
     "metadata": {},
     "output_type": "execute_result"
    }
   ],
   "source": [
    "data['children'].unique() # Проверим, какие значения находятся в столбце 'children'\n",
    "# чтобы было понимание, какую разбивку по категориям нужно сделать"
   ]
  },
  {
   "cell_type": "markdown",
   "id": "c2991244",
   "metadata": {},
   "source": [
    "Благодаря поиску уникальных значений в столбце 'children' было принято решение разделить количество заемщиков на следующие группы:\n",
    "- нет детей\n",
    "- 1-2 ребенка\n",
    "- многодетные\n",
    "\n",
    "Такая категоризация объясняется следующим образом:\n",
    "\n",
    "Клиенту без детей не затрудняется взять на себя обязательство по кредиту.\n",
    "Многодетным клиент становится в ситуации, если у него 3 и более детей - на основе принятой в России классификации. \n",
    "С точки зрения платежеспособности многодетным клиентам труднее выплачивать кредит, чем тем, у кого 1-2 ребенка."
   ]
  },
  {
   "cell_type": "code",
   "execution_count": 23,
   "id": "f5f2d845",
   "metadata": {},
   "outputs": [],
   "source": [
    "def category_children(child): # Возвращает группу по семье по значению количества детей в семье (child)\n",
    "    if child < 1:\n",
    "        return 'нет детей'\n",
    "    if 1 <= child <= 2:\n",
    "        return '1-2 ребенка'\n",
    "    if child >= 3:\n",
    "        return 'многодетные'"
   ]
  },
  {
   "cell_type": "code",
   "execution_count": 24,
   "id": "2adead37",
   "metadata": {},
   "outputs": [],
   "source": [
    "# Создали методом apply() новый столбец 'category_children' в датафрейме\n",
    "data['category_children'] = data['children'].apply(category_children) "
   ]
  },
  {
   "cell_type": "markdown",
   "id": "b97060e5",
   "metadata": {},
   "source": [
    "Определили категории по количеству детей у потенциальных заемщиков, данные подготовлены к проверке гипотезы. Создаем сводную таблицу, которая покажет:\n",
    "- **all_debts**\n",
    "\n",
    "Общее количество клиентов, у которых была когда-либо задолженность по возврату кредитов либо нет. В задании не указано, подразумевается ли задолженность перед определенным банком, поэтому была принята во внимание кредитная история клиентов, где 0 - \"идеальная\".\n",
    "- **arrears**\n",
    "\n",
    "Количество клиентов, кредитная история которых неидеальная - была задолженность по кредитам.\n",
    "- **debts_paid**\n",
    "\n",
    "Количество клиентов, кредитная история которых идеальная - всегда платили по кредитам вовремя.\n",
    "- **debts_paid_ratio**\n",
    "\n",
    "Отношение клиентов, которые платили по долгам вовремя, к общему количеству заемщиков."
   ]
  },
  {
   "cell_type": "code",
   "execution_count": 25,
   "id": "9d853837",
   "metadata": {},
   "outputs": [
    {
     "data": {
      "text/html": [
       "<div>\n",
       "<style scoped>\n",
       "    .dataframe tbody tr th:only-of-type {\n",
       "        vertical-align: middle;\n",
       "    }\n",
       "\n",
       "    .dataframe tbody tr th {\n",
       "        vertical-align: top;\n",
       "    }\n",
       "\n",
       "    .dataframe thead th {\n",
       "        text-align: right;\n",
       "    }\n",
       "</style>\n",
       "<table border=\"1\" class=\"dataframe\">\n",
       "  <thead>\n",
       "    <tr style=\"text-align: right;\">\n",
       "      <th></th>\n",
       "      <th>all_debts</th>\n",
       "      <th>arrears</th>\n",
       "      <th>debts_paid</th>\n",
       "      <th>debts_paid_ratio</th>\n",
       "    </tr>\n",
       "    <tr>\n",
       "      <th>category_children</th>\n",
       "      <th></th>\n",
       "      <th></th>\n",
       "      <th></th>\n",
       "      <th></th>\n",
       "    </tr>\n",
       "  </thead>\n",
       "  <tbody>\n",
       "    <tr>\n",
       "      <th>1-2 ребенка</th>\n",
       "      <td>6860</td>\n",
       "      <td>638</td>\n",
       "      <td>6222</td>\n",
       "      <td>90.70</td>\n",
       "    </tr>\n",
       "    <tr>\n",
       "      <th>многодетные</th>\n",
       "      <td>380</td>\n",
       "      <td>31</td>\n",
       "      <td>349</td>\n",
       "      <td>91.84</td>\n",
       "    </tr>\n",
       "    <tr>\n",
       "      <th>нет детей</th>\n",
       "      <td>14091</td>\n",
       "      <td>1063</td>\n",
       "      <td>13028</td>\n",
       "      <td>92.46</td>\n",
       "    </tr>\n",
       "  </tbody>\n",
       "</table>\n",
       "</div>"
      ],
      "text/plain": [
       "                   all_debts  arrears  debts_paid  debts_paid_ratio\n",
       "category_children                                                  \n",
       "1-2 ребенка             6860      638        6222             90.70\n",
       "многодетные              380       31         349             91.84\n",
       "нет детей              14091     1063       13028             92.46"
      ]
     },
     "execution_count": 25,
     "metadata": {},
     "output_type": "execute_result"
    }
   ],
   "source": [
    "# сводная таблица, содержащая информацию по количеству и сумме строк по столбцу 'debt'\n",
    "data_pivot = data.pivot_table(index = ['category_children'], values = 'debt', \\\n",
    "aggfunc = {'count', 'sum'}).rename(columns={'count':'all_debts', 'sum':'arrears'})\n",
    "# добавляем столбец 'debts_paid' - разница между \"общим количеством долгов\" и \"невыплаченными долгами\"\n",
    "data_pivot['debts_paid'] = data_pivot['all_debts'] - data_pivot['arrears']\n",
    "# добавляем столбец 'debts_paid_ratio' - отношение выплаченных кредитов\n",
    "# к общему количеству данных в столбце 'debt'\n",
    "data_pivot['debts_paid_ratio'] = (data_pivot['debts_paid']/data_pivot['all_debts'])\\\n",
    ".apply(lambda x: round(x * 100, 2))\n",
    "# для того, чтобы данные по процентам \"читались\" удобнее, была подсмотрена в гугле лямбда-функция \n",
    "data_pivot"
   ]
  },
  {
   "cell_type": "code",
   "execution_count": 26,
   "id": "ef20b372",
   "metadata": {},
   "outputs": [
    {
     "data": {
      "text/html": [
       "<div>\n",
       "<style scoped>\n",
       "    .dataframe tbody tr th:only-of-type {\n",
       "        vertical-align: middle;\n",
       "    }\n",
       "\n",
       "    .dataframe tbody tr th {\n",
       "        vertical-align: top;\n",
       "    }\n",
       "\n",
       "    .dataframe thead th {\n",
       "        text-align: right;\n",
       "    }\n",
       "</style>\n",
       "<table border=\"1\" class=\"dataframe\">\n",
       "  <thead>\n",
       "    <tr style=\"text-align: right;\">\n",
       "      <th></th>\n",
       "      <th>all_debts</th>\n",
       "      <th>arrears</th>\n",
       "      <th>debts_paid</th>\n",
       "      <th>debts_paid_ratio</th>\n",
       "    </tr>\n",
       "    <tr>\n",
       "      <th>category_children</th>\n",
       "      <th></th>\n",
       "      <th></th>\n",
       "      <th></th>\n",
       "      <th></th>\n",
       "    </tr>\n",
       "  </thead>\n",
       "  <tbody>\n",
       "    <tr>\n",
       "      <th>1-2 ребенка</th>\n",
       "      <td>6860</td>\n",
       "      <td>638</td>\n",
       "      <td>6222</td>\n",
       "      <td>90.70</td>\n",
       "    </tr>\n",
       "    <tr>\n",
       "      <th>многодетные</th>\n",
       "      <td>380</td>\n",
       "      <td>31</td>\n",
       "      <td>349</td>\n",
       "      <td>91.84</td>\n",
       "    </tr>\n",
       "    <tr>\n",
       "      <th>нет детей</th>\n",
       "      <td>14091</td>\n",
       "      <td>1063</td>\n",
       "      <td>13028</td>\n",
       "      <td>92.46</td>\n",
       "    </tr>\n",
       "  </tbody>\n",
       "</table>\n",
       "</div>"
      ],
      "text/plain": [
       "                   all_debts  arrears  debts_paid  debts_paid_ratio\n",
       "category_children                                                  \n",
       "1-2 ребенка             6860      638        6222             90.70\n",
       "многодетные              380       31         349             91.84\n",
       "нет детей              14091     1063       13028             92.46"
      ]
     },
     "execution_count": 26,
     "metadata": {},
     "output_type": "execute_result"
    }
   ],
   "source": [
    "def data_pivot(data, aggr_index, vls, f1, f2, f1_rename, f2_rename, f3_name, f4_name):\n",
    "    data_pivot = data.pivot_table(\n",
    "        index = [aggr_index], \n",
    "        values = vls,\n",
    "        aggfunc = {f1, f2}).rename(columns={f1:f1_rename, f2:f2_rename})\n",
    "    data_pivot[f3_name] = data_pivot[f1_rename] - data_pivot[f2_rename]\n",
    "    data_pivot[f4_name] = (data_pivot[f3_name]/data_pivot[f1_rename]).apply(lambda x: round(x * 100, 2))\n",
    "    \n",
    "    return data_pivot\n",
    "\n",
    "new_data = data_pivot(data, 'category_children', 'debt', 'count', 'sum', 'all_debts', 'arrears',\\\n",
    "                      'debts_paid', 'debts_paid_ratio')\n",
    "new_data"
   ]
  },
  {
   "cell_type": "markdown",
   "id": "fa808fd4",
   "metadata": {
    "deletable": false,
    "id": "3a6b99ec"
   },
   "source": [
    "**Вывод:** \n",
    "\n",
    "Зависимость между количеством детей и возвратом кредита в срок есть, хоть и различия в показателях несущественны:\n",
    "\n",
    "1. Большую группу составляют **клиенты без детей**, которые с бОльшей вероятностью выплатят кредит, потому что отношение уплаченных долгов ко всем самый высокий - 92.46%. Возможно, это связано с тем, что семья, состоящая из двух человек, или холостой/незамужний клиент умеет распоряжаться бюджетом в рамках своего дохода, случайных издержек возникает реже.\n",
    "\n",
    "2. **Многодетные семьи**, процент выплаты кредитов которых 91.84%, вероятнее всего это та категория людей, которые с большой ответственностью относится не только к воспитанию детей, но и к выплате кредитов. Кроме того, судя по данным сводной таблицы, количество клиентов, у которых более 3х детей гораздо ниже других категорий, поэтому данных по многодетным недостаточно для корректных выводов по ним.\n",
    "\n",
    "3. Процент выплаты кредитов у потенциальных заемщиков, у которых есть **один или двое детей**, самый низкий - 90.70%. Это может быть по разным причинам, например, с рождением ребенка резко увеличиваются расходы на различные нужды, не всегда получается \"рассчитать\" бюджет."
   ]
  },
  {
   "cell_type": "markdown",
   "id": "bc5db077",
   "metadata": {
    "deletable": false,
    "editable": false,
    "id": "97be82ca"
   },
   "source": [
    "#### 3.2 Есть ли зависимость между семейным положением и возвратом кредита в срок?"
   ]
  },
  {
   "cell_type": "code",
   "execution_count": 27,
   "id": "d214dbc6",
   "metadata": {
    "deletable": false,
    "id": "dc3f7ee8"
   },
   "outputs": [
    {
     "data": {
      "text/plain": [
       "женат / замужем          12261\n",
       "гражданский брак          4134\n",
       "Не женат / не замужем     2796\n",
       "в разводе                 1189\n",
       "вдовец / вдова             951\n",
       "Name: family_status, dtype: int64"
      ]
     },
     "execution_count": 27,
     "metadata": {},
     "output_type": "execute_result"
    }
   ],
   "source": [
    "data['family_status'].value_counts() # Категории уже были в исходном датафрейме, посмотрим, какие:"
   ]
  },
  {
   "cell_type": "markdown",
   "id": "4435414a",
   "metadata": {},
   "source": [
    "Создаем сводную таблицу, в которой аналогично с группой по семье отобразим данные по группе по семейному положению:"
   ]
  },
  {
   "cell_type": "code",
   "execution_count": 28,
   "id": "7613ca3c",
   "metadata": {},
   "outputs": [
    {
     "data": {
      "text/html": [
       "<div>\n",
       "<style scoped>\n",
       "    .dataframe tbody tr th:only-of-type {\n",
       "        vertical-align: middle;\n",
       "    }\n",
       "\n",
       "    .dataframe tbody tr th {\n",
       "        vertical-align: top;\n",
       "    }\n",
       "\n",
       "    .dataframe thead th {\n",
       "        text-align: right;\n",
       "    }\n",
       "</style>\n",
       "<table border=\"1\" class=\"dataframe\">\n",
       "  <thead>\n",
       "    <tr style=\"text-align: right;\">\n",
       "      <th></th>\n",
       "      <th>all_debts</th>\n",
       "      <th>arrears</th>\n",
       "      <th>debts_paid</th>\n",
       "      <th>debts_paid_ratio</th>\n",
       "    </tr>\n",
       "    <tr>\n",
       "      <th>family_status</th>\n",
       "      <th></th>\n",
       "      <th></th>\n",
       "      <th></th>\n",
       "      <th></th>\n",
       "    </tr>\n",
       "  </thead>\n",
       "  <tbody>\n",
       "    <tr>\n",
       "      <th>Не женат / не замужем</th>\n",
       "      <td>2796</td>\n",
       "      <td>273</td>\n",
       "      <td>2523</td>\n",
       "      <td>90.24</td>\n",
       "    </tr>\n",
       "    <tr>\n",
       "      <th>в разводе</th>\n",
       "      <td>1189</td>\n",
       "      <td>84</td>\n",
       "      <td>1105</td>\n",
       "      <td>92.94</td>\n",
       "    </tr>\n",
       "    <tr>\n",
       "      <th>вдовец / вдова</th>\n",
       "      <td>951</td>\n",
       "      <td>63</td>\n",
       "      <td>888</td>\n",
       "      <td>93.38</td>\n",
       "    </tr>\n",
       "    <tr>\n",
       "      <th>гражданский брак</th>\n",
       "      <td>4134</td>\n",
       "      <td>385</td>\n",
       "      <td>3749</td>\n",
       "      <td>90.69</td>\n",
       "    </tr>\n",
       "    <tr>\n",
       "      <th>женат / замужем</th>\n",
       "      <td>12261</td>\n",
       "      <td>927</td>\n",
       "      <td>11334</td>\n",
       "      <td>92.44</td>\n",
       "    </tr>\n",
       "  </tbody>\n",
       "</table>\n",
       "</div>"
      ],
      "text/plain": [
       "                       all_debts  arrears  debts_paid  debts_paid_ratio\n",
       "family_status                                                          \n",
       "Не женат / не замужем       2796      273        2523             90.24\n",
       "в разводе                   1189       84        1105             92.94\n",
       "вдовец / вдова               951       63         888             93.38\n",
       "гражданский брак            4134      385        3749             90.69\n",
       "женат / замужем            12261      927       11334             92.44"
      ]
     },
     "execution_count": 28,
     "metadata": {},
     "output_type": "execute_result"
    }
   ],
   "source": [
    "data_pivot2 = data.pivot_table(index = ['family_status'], values = 'debt', \\\n",
    "aggfunc = {'count', 'sum'}).rename(columns={'count':'all_debts', 'sum':'arrears'})\n",
    "\n",
    "data_pivot2['debts_paid'] = data_pivot2['all_debts'] - data_pivot2['arrears']\n",
    "\n",
    "data_pivot2['debts_paid_ratio'] = (data_pivot2['debts_paid']/data_pivot2['all_debts'])\\\n",
    ".apply(lambda x: round(x * 100, 2))\n",
    " \n",
    "data_pivot2"
   ]
  },
  {
   "cell_type": "code",
   "execution_count": 29,
   "id": "f931054c",
   "metadata": {},
   "outputs": [
    {
     "data": {
      "text/html": [
       "<div>\n",
       "<style scoped>\n",
       "    .dataframe tbody tr th:only-of-type {\n",
       "        vertical-align: middle;\n",
       "    }\n",
       "\n",
       "    .dataframe tbody tr th {\n",
       "        vertical-align: top;\n",
       "    }\n",
       "\n",
       "    .dataframe thead th {\n",
       "        text-align: right;\n",
       "    }\n",
       "</style>\n",
       "<table border=\"1\" class=\"dataframe\">\n",
       "  <thead>\n",
       "    <tr style=\"text-align: right;\">\n",
       "      <th></th>\n",
       "      <th>all_debts</th>\n",
       "      <th>arrears</th>\n",
       "      <th>debts_paid</th>\n",
       "      <th>debts_paid_ratio</th>\n",
       "    </tr>\n",
       "    <tr>\n",
       "      <th>family_status</th>\n",
       "      <th></th>\n",
       "      <th></th>\n",
       "      <th></th>\n",
       "      <th></th>\n",
       "    </tr>\n",
       "  </thead>\n",
       "  <tbody>\n",
       "    <tr>\n",
       "      <th>Не женат / не замужем</th>\n",
       "      <td>2796</td>\n",
       "      <td>273</td>\n",
       "      <td>2523</td>\n",
       "      <td>90.24</td>\n",
       "    </tr>\n",
       "    <tr>\n",
       "      <th>в разводе</th>\n",
       "      <td>1189</td>\n",
       "      <td>84</td>\n",
       "      <td>1105</td>\n",
       "      <td>92.94</td>\n",
       "    </tr>\n",
       "    <tr>\n",
       "      <th>вдовец / вдова</th>\n",
       "      <td>951</td>\n",
       "      <td>63</td>\n",
       "      <td>888</td>\n",
       "      <td>93.38</td>\n",
       "    </tr>\n",
       "    <tr>\n",
       "      <th>гражданский брак</th>\n",
       "      <td>4134</td>\n",
       "      <td>385</td>\n",
       "      <td>3749</td>\n",
       "      <td>90.69</td>\n",
       "    </tr>\n",
       "    <tr>\n",
       "      <th>женат / замужем</th>\n",
       "      <td>12261</td>\n",
       "      <td>927</td>\n",
       "      <td>11334</td>\n",
       "      <td>92.44</td>\n",
       "    </tr>\n",
       "  </tbody>\n",
       "</table>\n",
       "</div>"
      ],
      "text/plain": [
       "                       all_debts  arrears  debts_paid  debts_paid_ratio\n",
       "family_status                                                          \n",
       "Не женат / не замужем       2796      273        2523             90.24\n",
       "в разводе                   1189       84        1105             92.94\n",
       "вдовец / вдова               951       63         888             93.38\n",
       "гражданский брак            4134      385        3749             90.69\n",
       "женат / замужем            12261      927       11334             92.44"
      ]
     },
     "execution_count": 29,
     "metadata": {},
     "output_type": "execute_result"
    }
   ],
   "source": [
    "new_data2 = data_pivot(data, 'family_status', 'debt', 'count', 'sum', 'all_debts', 'arrears',\\\n",
    "                      'debts_paid', 'debts_paid_ratio')\n",
    "new_data2"
   ]
  },
  {
   "cell_type": "markdown",
   "id": "b9793da0",
   "metadata": {
    "deletable": false,
    "id": "1cef7837"
   },
   "source": [
    "**Вывод:** \n",
    "\n",
    "Зависимость между семейным положением и возвратом кредита в срок есть:\n",
    "\n",
    "- **\"Вдовец/вдова\"** имеют самый высокий процент возврата кредита - 93.38%.\n",
    "- Примерно на одном уровне **\"в разводе\"** (92.94%) и **\"женат/замужем\"** (92.44%).\n",
    "- Примерно на одному уровне **\"гражданский брак\"** (90.69%) и **\"Не женат / не замужем\"** (90.24%).\n",
    "\n",
    "Объяснить данную ситуацию можно следующим образом:\n",
    "\n",
    "Люди в категории \"Вдовец/вдова\" скорее всего люди в пожилом возрасте, где уровень ответственности высокий. Человек в разводе опирается сам на себя, поэтому можно сделать вывод, что расходы на непредвиденные ситуации будут малы, что позволит выплачивать по кредиту вовремя. У женатых/замужних есть поддержка, что также будет способствовать возврату кредита в срок. Что касается людей в гражданском браке и не женатых/ не замужних - по ним наименьших процент по выплатам в срок, возможно, на это влияет их статус, подразумевающий, что люди пока не готовы нести ответственность за другого человека, в том числе и за свои решения."
   ]
  },
  {
   "cell_type": "markdown",
   "id": "c07c5104",
   "metadata": {
    "deletable": false,
    "editable": false,
    "id": "1e8b2fca"
   },
   "source": [
    "#### 3.3 Есть ли зависимость между уровнем дохода и возвратом кредита в срок?"
   ]
  },
  {
   "cell_type": "code",
   "execution_count": 30,
   "id": "2856d499",
   "metadata": {
    "deletable": false,
    "id": "cd7e3720"
   },
   "outputs": [
    {
     "data": {
      "text/plain": [
       "C    15921\n",
       "B     5014\n",
       "D      349\n",
       "A       25\n",
       "E       22\n",
       "Name: total_income_category, dtype: int64"
      ]
     },
     "execution_count": 30,
     "metadata": {},
     "output_type": "execute_result"
    }
   ],
   "source": [
    "data['total_income_category'].value_counts() # Категории уже были выявлены в датафрейме:"
   ]
  },
  {
   "cell_type": "markdown",
   "id": "e31014c1",
   "metadata": {},
   "source": [
    "Для того, чтобы было удобнее финализировать вывод, назовем категории от А до Е:\n",
    "\n",
    "- **E - \"ниже среднего\"**:\n",
    "доход до 30.000\n",
    "\n",
    "- **D - \"низкий средний класс\"**:\n",
    "доход от 30.001 до 50.000\n",
    "\n",
    "- **C - \"высокий средний класс\"**:\n",
    "доход от 50.001 до 200.000\n",
    "\n",
    "- **B - \"богатые\"**:\n",
    "доход от 200.001 до 1.000.000\n",
    "\n",
    "- **A - \"сверхбогатые\"**:\n",
    "доход от 1.000.001"
   ]
  },
  {
   "cell_type": "markdown",
   "id": "464e7ca8",
   "metadata": {},
   "source": [
    "Создаем сводную таблицу, в которой аналогично с группой по семье отобразим данные по группе по уровню дохода:"
   ]
  },
  {
   "cell_type": "code",
   "execution_count": 31,
   "id": "4a501e11",
   "metadata": {},
   "outputs": [
    {
     "data": {
      "text/html": [
       "<div>\n",
       "<style scoped>\n",
       "    .dataframe tbody tr th:only-of-type {\n",
       "        vertical-align: middle;\n",
       "    }\n",
       "\n",
       "    .dataframe tbody tr th {\n",
       "        vertical-align: top;\n",
       "    }\n",
       "\n",
       "    .dataframe thead th {\n",
       "        text-align: right;\n",
       "    }\n",
       "</style>\n",
       "<table border=\"1\" class=\"dataframe\">\n",
       "  <thead>\n",
       "    <tr style=\"text-align: right;\">\n",
       "      <th></th>\n",
       "      <th>all_debts</th>\n",
       "      <th>arrears</th>\n",
       "      <th>debts_paid</th>\n",
       "      <th>debts_paid_ratio</th>\n",
       "    </tr>\n",
       "    <tr>\n",
       "      <th>total_income_category</th>\n",
       "      <th></th>\n",
       "      <th></th>\n",
       "      <th></th>\n",
       "      <th></th>\n",
       "    </tr>\n",
       "  </thead>\n",
       "  <tbody>\n",
       "    <tr>\n",
       "      <th>A</th>\n",
       "      <td>25</td>\n",
       "      <td>2</td>\n",
       "      <td>23</td>\n",
       "      <td>92.00</td>\n",
       "    </tr>\n",
       "    <tr>\n",
       "      <th>B</th>\n",
       "      <td>5014</td>\n",
       "      <td>354</td>\n",
       "      <td>4660</td>\n",
       "      <td>92.94</td>\n",
       "    </tr>\n",
       "    <tr>\n",
       "      <th>C</th>\n",
       "      <td>15921</td>\n",
       "      <td>1353</td>\n",
       "      <td>14568</td>\n",
       "      <td>91.50</td>\n",
       "    </tr>\n",
       "    <tr>\n",
       "      <th>D</th>\n",
       "      <td>349</td>\n",
       "      <td>21</td>\n",
       "      <td>328</td>\n",
       "      <td>93.98</td>\n",
       "    </tr>\n",
       "    <tr>\n",
       "      <th>E</th>\n",
       "      <td>22</td>\n",
       "      <td>2</td>\n",
       "      <td>20</td>\n",
       "      <td>90.91</td>\n",
       "    </tr>\n",
       "  </tbody>\n",
       "</table>\n",
       "</div>"
      ],
      "text/plain": [
       "                       all_debts  arrears  debts_paid  debts_paid_ratio\n",
       "total_income_category                                                  \n",
       "A                             25        2          23             92.00\n",
       "B                           5014      354        4660             92.94\n",
       "C                          15921     1353       14568             91.50\n",
       "D                            349       21         328             93.98\n",
       "E                             22        2          20             90.91"
      ]
     },
     "execution_count": 31,
     "metadata": {},
     "output_type": "execute_result"
    }
   ],
   "source": [
    "new_data3 = data_pivot(data, 'total_income_category', 'debt', 'count', 'sum', 'all_debts', 'arrears',\\\n",
    "                      'debts_paid', 'debts_paid_ratio')\n",
    "new_data3"
   ]
  },
  {
   "cell_type": "markdown",
   "id": "86bf3239",
   "metadata": {
    "deletable": false,
    "id": "e8593def"
   },
   "source": [
    "**Вывод:**\n",
    "\n",
    "Зависимость между доходом и возвратом кредита в срок есть:\n",
    "\n",
    "- Катагория D **\"низкий средний класс\"** имеет самый высокий процент возврата кредитов - 93.98%.\n",
    "- Следом за ними клиенты, попадающие в категорию B **\"богатые\"**, с показателем 92.94%.\n",
    "- Категория А или **\"сверхбогатые\"** клиенты с зарплатой более 1 миллиона имеют процент по возврату кредита - 92%, примерно такой же процент у клиентов, входящих в группу **\"высокий средний класс\"** (категория С) - 91.50%.\n",
    "- Самый низкий показатель у категории клиентов Е, входящих в **\"ниже среднего\"** (90.91%).\n",
    "\n",
    "Объяснить данную ситуацию можно следующим образом:\n",
    "\n",
    "Клиенты с зарплатой от 30.001 до 50.000 лучше всех выплачивают кредиты, вероятнее всего это связано с ограниченным доходом, который не позволяет тратить средства импульсивно, и все возможные дополнительные расходы тщательно обдумываются или не совершаются вовсе.\n",
    "\n",
    "Люди с высокой зарплатой выплачивают кредиты в большинстве случаев вовремя, потому что могут распределять доход по всем своим нуждам. Но все же показатель возврата кредита в срок у **высшего среднего класса ниже** (категория С) ниже, чем у клиентов, входящих в группу В - **богатые**. Возможно, более низкие показатели возвратов кредитов в срок у категории С связано с тем, что клиенты вышли на новый уровень жизни из-за увеличения зарплаты, и пока еще расходуют больше обычного.\n",
    "\n",
    "Исходя из результатов, можно сделать вывод, что категории А и Е некорректно принимать к рассмотрению, так как данных по ним очень мало. Но с другой стороны, клиенты с зарплатой более 1 млн рублей могут редко обращаться к банку за кредитом именно на личные нужды. Как и клиенты с зарплатой до 30.000 - они могут взять микрозайм, чтобы решить свою потребность быстрее, обходя ужесточенные требования банков."
   ]
  },
  {
   "cell_type": "markdown",
   "id": "fcac2996",
   "metadata": {},
   "source": [
    "Создали 5 интервалов, посмотрим, как происходит распределение в группах: в каждом интервале находится равное количество данных."
   ]
  },
  {
   "cell_type": "code",
   "execution_count": 32,
   "id": "b7e345d0",
   "metadata": {},
   "outputs": [
    {
     "data": {
      "text/plain": [
       "(20666.999, 98514.0]     4267\n",
       "(98514.0, 132113.0]      4266\n",
       "(132113.0, 161380.0]     4266\n",
       "(161380.0, 214604.0]     4266\n",
       "(214604.0, 2265604.0]    4266\n",
       "Name: total_income, dtype: int64"
      ]
     },
     "execution_count": 32,
     "metadata": {},
     "output_type": "execute_result"
    }
   ],
   "source": [
    "pd.qcut(data['total_income'], q=5).value_counts()"
   ]
  },
  {
   "cell_type": "markdown",
   "id": "ee358c5b",
   "metadata": {},
   "source": [
    "Из полученного наблюдения выше можно сделать вывод, что распределение заработной платы по категориям будет отличаться от использованного метода ранее, но обозначим аналогично категории с А до Е. \n",
    "\n",
    "- **E - ниже среднего**:\n",
    "доход от 20666.999 до 98514.0\n",
    "\n",
    "- **D - низкий средний класс**:\n",
    "доход от 98514.0 до 132113.0\n",
    "\n",
    "- **C - высокий средний класс**:\n",
    "доход от 132113.0 до 161380.0\n",
    "\n",
    "- **B - богатые**:\n",
    "доход от 161380.0 до 214604.0\n",
    "\n",
    "- **A - сверхбогатые**:\n",
    "доход от 214604.0 до 2265604.0"
   ]
  },
  {
   "cell_type": "code",
   "execution_count": 33,
   "id": "5b7e916c",
   "metadata": {},
   "outputs": [
    {
     "data": {
      "text/html": [
       "<div>\n",
       "<style scoped>\n",
       "    .dataframe tbody tr th:only-of-type {\n",
       "        vertical-align: middle;\n",
       "    }\n",
       "\n",
       "    .dataframe tbody tr th {\n",
       "        vertical-align: top;\n",
       "    }\n",
       "\n",
       "    .dataframe thead th {\n",
       "        text-align: right;\n",
       "    }\n",
       "</style>\n",
       "<table border=\"1\" class=\"dataframe\">\n",
       "  <thead>\n",
       "    <tr style=\"text-align: right;\">\n",
       "      <th></th>\n",
       "      <th>children</th>\n",
       "      <th>days_employed</th>\n",
       "      <th>dob_years</th>\n",
       "      <th>education</th>\n",
       "      <th>education_id</th>\n",
       "      <th>family_status</th>\n",
       "      <th>family_status_id</th>\n",
       "      <th>gender</th>\n",
       "      <th>income_type</th>\n",
       "      <th>debt</th>\n",
       "      <th>total_income</th>\n",
       "      <th>purpose</th>\n",
       "      <th>total_income_category</th>\n",
       "      <th>purpose_category</th>\n",
       "      <th>category_children</th>\n",
       "      <th>total_income_category_new</th>\n",
       "    </tr>\n",
       "  </thead>\n",
       "  <tbody>\n",
       "    <tr>\n",
       "      <th>0</th>\n",
       "      <td>1</td>\n",
       "      <td>8437.673028</td>\n",
       "      <td>42</td>\n",
       "      <td>высшее</td>\n",
       "      <td>0</td>\n",
       "      <td>женат / замужем</td>\n",
       "      <td>0</td>\n",
       "      <td>F</td>\n",
       "      <td>сотрудник</td>\n",
       "      <td>0</td>\n",
       "      <td>253875</td>\n",
       "      <td>покупка жилья</td>\n",
       "      <td>B</td>\n",
       "      <td>операции с недвижимостью</td>\n",
       "      <td>1-2 ребенка</td>\n",
       "      <td>A</td>\n",
       "    </tr>\n",
       "    <tr>\n",
       "      <th>1</th>\n",
       "      <td>1</td>\n",
       "      <td>4024.803754</td>\n",
       "      <td>36</td>\n",
       "      <td>среднее</td>\n",
       "      <td>1</td>\n",
       "      <td>женат / замужем</td>\n",
       "      <td>0</td>\n",
       "      <td>F</td>\n",
       "      <td>сотрудник</td>\n",
       "      <td>0</td>\n",
       "      <td>112080</td>\n",
       "      <td>приобретение автомобиля</td>\n",
       "      <td>C</td>\n",
       "      <td>операции с автомобилем</td>\n",
       "      <td>1-2 ребенка</td>\n",
       "      <td>D</td>\n",
       "    </tr>\n",
       "    <tr>\n",
       "      <th>2</th>\n",
       "      <td>0</td>\n",
       "      <td>5623.422610</td>\n",
       "      <td>33</td>\n",
       "      <td>среднее</td>\n",
       "      <td>1</td>\n",
       "      <td>женат / замужем</td>\n",
       "      <td>0</td>\n",
       "      <td>M</td>\n",
       "      <td>сотрудник</td>\n",
       "      <td>0</td>\n",
       "      <td>145885</td>\n",
       "      <td>покупка жилья</td>\n",
       "      <td>C</td>\n",
       "      <td>операции с недвижимостью</td>\n",
       "      <td>нет детей</td>\n",
       "      <td>C</td>\n",
       "    </tr>\n",
       "    <tr>\n",
       "      <th>3</th>\n",
       "      <td>3</td>\n",
       "      <td>4124.747207</td>\n",
       "      <td>32</td>\n",
       "      <td>среднее</td>\n",
       "      <td>1</td>\n",
       "      <td>женат / замужем</td>\n",
       "      <td>0</td>\n",
       "      <td>M</td>\n",
       "      <td>сотрудник</td>\n",
       "      <td>0</td>\n",
       "      <td>267628</td>\n",
       "      <td>дополнительное образование</td>\n",
       "      <td>B</td>\n",
       "      <td>получение образования</td>\n",
       "      <td>многодетные</td>\n",
       "      <td>A</td>\n",
       "    </tr>\n",
       "    <tr>\n",
       "      <th>4</th>\n",
       "      <td>0</td>\n",
       "      <td>340266.072047</td>\n",
       "      <td>53</td>\n",
       "      <td>среднее</td>\n",
       "      <td>1</td>\n",
       "      <td>гражданский брак</td>\n",
       "      <td>1</td>\n",
       "      <td>F</td>\n",
       "      <td>пенсионер</td>\n",
       "      <td>0</td>\n",
       "      <td>158616</td>\n",
       "      <td>сыграть свадьбу</td>\n",
       "      <td>C</td>\n",
       "      <td>проведение свадьбы</td>\n",
       "      <td>нет детей</td>\n",
       "      <td>C</td>\n",
       "    </tr>\n",
       "  </tbody>\n",
       "</table>\n",
       "</div>"
      ],
      "text/plain": [
       "   children  days_employed  dob_years education  education_id  \\\n",
       "0         1    8437.673028         42    высшее             0   \n",
       "1         1    4024.803754         36   среднее             1   \n",
       "2         0    5623.422610         33   среднее             1   \n",
       "3         3    4124.747207         32   среднее             1   \n",
       "4         0  340266.072047         53   среднее             1   \n",
       "\n",
       "      family_status  family_status_id gender income_type  debt  total_income  \\\n",
       "0   женат / замужем                 0      F   сотрудник     0        253875   \n",
       "1   женат / замужем                 0      F   сотрудник     0        112080   \n",
       "2   женат / замужем                 0      M   сотрудник     0        145885   \n",
       "3   женат / замужем                 0      M   сотрудник     0        267628   \n",
       "4  гражданский брак                 1      F   пенсионер     0        158616   \n",
       "\n",
       "                      purpose total_income_category          purpose_category  \\\n",
       "0               покупка жилья                     B  операции с недвижимостью   \n",
       "1     приобретение автомобиля                     C    операции с автомобилем   \n",
       "2               покупка жилья                     C  операции с недвижимостью   \n",
       "3  дополнительное образование                     B     получение образования   \n",
       "4             сыграть свадьбу                     C        проведение свадьбы   \n",
       "\n",
       "  category_children total_income_category_new  \n",
       "0       1-2 ребенка                         A  \n",
       "1       1-2 ребенка                         D  \n",
       "2         нет детей                         C  \n",
       "3       многодетные                         A  \n",
       "4         нет детей                         C  "
      ]
     },
     "execution_count": 33,
     "metadata": {},
     "output_type": "execute_result"
    }
   ],
   "source": [
    "groups = ['E', 'D', 'C', 'B', 'A']\n",
    "pd.qcut(data['total_income'], q=5).value_counts()\n",
    "\n",
    "data['total_income_category_new'] = pd.qcut(data['total_income'],\n",
    "                              q=[0, .2, .4, .6, .8, 1],\n",
    "                              labels=groups)\n",
    "data.head()"
   ]
  },
  {
   "cell_type": "markdown",
   "id": "bb074b87",
   "metadata": {},
   "source": [
    "Создадим сводную таблицу для анализа связи между уровнем дохода и возвратом кредита в срок"
   ]
  },
  {
   "cell_type": "code",
   "execution_count": 34,
   "id": "8fcb468b",
   "metadata": {},
   "outputs": [
    {
     "data": {
      "text/html": [
       "<div>\n",
       "<style scoped>\n",
       "    .dataframe tbody tr th:only-of-type {\n",
       "        vertical-align: middle;\n",
       "    }\n",
       "\n",
       "    .dataframe tbody tr th {\n",
       "        vertical-align: top;\n",
       "    }\n",
       "\n",
       "    .dataframe thead th {\n",
       "        text-align: right;\n",
       "    }\n",
       "</style>\n",
       "<table border=\"1\" class=\"dataframe\">\n",
       "  <thead>\n",
       "    <tr style=\"text-align: right;\">\n",
       "      <th></th>\n",
       "      <th>all_debts</th>\n",
       "      <th>arrears</th>\n",
       "      <th>debts_paid</th>\n",
       "      <th>debts_paid_ratio</th>\n",
       "    </tr>\n",
       "    <tr>\n",
       "      <th>total_income_category_new</th>\n",
       "      <th></th>\n",
       "      <th></th>\n",
       "      <th></th>\n",
       "      <th></th>\n",
       "    </tr>\n",
       "  </thead>\n",
       "  <tbody>\n",
       "    <tr>\n",
       "      <th>E</th>\n",
       "      <td>4267</td>\n",
       "      <td>344</td>\n",
       "      <td>3923</td>\n",
       "      <td>91.94</td>\n",
       "    </tr>\n",
       "    <tr>\n",
       "      <th>D</th>\n",
       "      <td>4266</td>\n",
       "      <td>358</td>\n",
       "      <td>3908</td>\n",
       "      <td>91.61</td>\n",
       "    </tr>\n",
       "    <tr>\n",
       "      <th>C</th>\n",
       "      <td>4266</td>\n",
       "      <td>373</td>\n",
       "      <td>3893</td>\n",
       "      <td>91.26</td>\n",
       "    </tr>\n",
       "    <tr>\n",
       "      <th>B</th>\n",
       "      <td>4266</td>\n",
       "      <td>358</td>\n",
       "      <td>3908</td>\n",
       "      <td>91.61</td>\n",
       "    </tr>\n",
       "    <tr>\n",
       "      <th>A</th>\n",
       "      <td>4266</td>\n",
       "      <td>299</td>\n",
       "      <td>3967</td>\n",
       "      <td>92.99</td>\n",
       "    </tr>\n",
       "  </tbody>\n",
       "</table>\n",
       "</div>"
      ],
      "text/plain": [
       "                           all_debts  arrears  debts_paid  debts_paid_ratio\n",
       "total_income_category_new                                                  \n",
       "E                               4267      344        3923             91.94\n",
       "D                               4266      358        3908             91.61\n",
       "C                               4266      373        3893             91.26\n",
       "B                               4266      358        3908             91.61\n",
       "A                               4266      299        3967             92.99"
      ]
     },
     "execution_count": 34,
     "metadata": {},
     "output_type": "execute_result"
    }
   ],
   "source": [
    "new_data33 = data_pivot(data, 'total_income_category_new', 'debt', 'count', 'sum', 'all_debts', 'arrears',\\\n",
    "                      'debts_paid', 'debts_paid_ratio')\n",
    "new_data33"
   ]
  },
  {
   "cell_type": "markdown",
   "id": "2e993800",
   "metadata": {},
   "source": [
    "**Вывод:**\n",
    "\n",
    "В данном случае показатели возврата кредитов в срок у категорий B-E примерно одинаковое - 91.6%, а клиенты, входящие в группу A - в конкретном случае получающие зарплату от 214604.0 до 2265604.0 имеют наибольший процент возврата кредита вовремя - 92.99%."
   ]
  },
  {
   "cell_type": "markdown",
   "id": "d76440b5",
   "metadata": {
    "deletable": false,
    "editable": false,
    "id": "99ecbd1f"
   },
   "source": [
    "#### 3.4 Как разные цели кредита влияют на его возврат в срок?"
   ]
  },
  {
   "cell_type": "code",
   "execution_count": 35,
   "id": "58c78762",
   "metadata": {
    "deletable": false,
    "id": "2b687290"
   },
   "outputs": [
    {
     "data": {
      "text/plain": [
       "операции с недвижимостью    10751\n",
       "операции с автомобилем       4279\n",
       "получение образования        3988\n",
       "проведение свадьбы           2313\n",
       "Name: purpose_category, dtype: int64"
      ]
     },
     "execution_count": 35,
     "metadata": {},
     "output_type": "execute_result"
    }
   ],
   "source": [
    "data['purpose_category'].value_counts() # Мы уже выделили основные цели кредита."
   ]
  },
  {
   "cell_type": "markdown",
   "id": "5fbf2bd4",
   "metadata": {},
   "source": [
    "Теперь с помощью сводной таблицы определим, какая существует зависимость между целями кредита и возвратом кредита в срок:"
   ]
  },
  {
   "cell_type": "code",
   "execution_count": 36,
   "id": "e7a7a8d6",
   "metadata": {},
   "outputs": [
    {
     "data": {
      "text/html": [
       "<div>\n",
       "<style scoped>\n",
       "    .dataframe tbody tr th:only-of-type {\n",
       "        vertical-align: middle;\n",
       "    }\n",
       "\n",
       "    .dataframe tbody tr th {\n",
       "        vertical-align: top;\n",
       "    }\n",
       "\n",
       "    .dataframe thead th {\n",
       "        text-align: right;\n",
       "    }\n",
       "</style>\n",
       "<table border=\"1\" class=\"dataframe\">\n",
       "  <thead>\n",
       "    <tr style=\"text-align: right;\">\n",
       "      <th></th>\n",
       "      <th>all_debts</th>\n",
       "      <th>arrears</th>\n",
       "      <th>debts_paid</th>\n",
       "      <th>debts_paid_ratio</th>\n",
       "    </tr>\n",
       "    <tr>\n",
       "      <th>purpose_category</th>\n",
       "      <th></th>\n",
       "      <th></th>\n",
       "      <th></th>\n",
       "      <th></th>\n",
       "    </tr>\n",
       "  </thead>\n",
       "  <tbody>\n",
       "    <tr>\n",
       "      <th>операции с автомобилем</th>\n",
       "      <td>4279</td>\n",
       "      <td>400</td>\n",
       "      <td>3879</td>\n",
       "      <td>90.65</td>\n",
       "    </tr>\n",
       "    <tr>\n",
       "      <th>операции с недвижимостью</th>\n",
       "      <td>10751</td>\n",
       "      <td>780</td>\n",
       "      <td>9971</td>\n",
       "      <td>92.74</td>\n",
       "    </tr>\n",
       "    <tr>\n",
       "      <th>получение образования</th>\n",
       "      <td>3988</td>\n",
       "      <td>369</td>\n",
       "      <td>3619</td>\n",
       "      <td>90.75</td>\n",
       "    </tr>\n",
       "    <tr>\n",
       "      <th>проведение свадьбы</th>\n",
       "      <td>2313</td>\n",
       "      <td>183</td>\n",
       "      <td>2130</td>\n",
       "      <td>92.09</td>\n",
       "    </tr>\n",
       "  </tbody>\n",
       "</table>\n",
       "</div>"
      ],
      "text/plain": [
       "                          all_debts  arrears  debts_paid  debts_paid_ratio\n",
       "purpose_category                                                          \n",
       "операции с автомобилем         4279      400        3879             90.65\n",
       "операции с недвижимостью      10751      780        9971             92.74\n",
       "получение образования          3988      369        3619             90.75\n",
       "проведение свадьбы             2313      183        2130             92.09"
      ]
     },
     "execution_count": 36,
     "metadata": {},
     "output_type": "execute_result"
    }
   ],
   "source": [
    "data_pivot4 = data.pivot_table(index = ['purpose_category'], values = 'debt', \\\n",
    "aggfunc = {'count', 'sum'}).rename(columns={'count':'all_debts', 'sum':'arrears'})\n",
    "\n",
    "data_pivot4['debts_paid'] = data_pivot4['all_debts'] - data_pivot4['arrears']\n",
    "\n",
    "data_pivot4['debts_paid_ratio'] = (data_pivot4['debts_paid']/data_pivot4['all_debts'])\\\n",
    ".apply(lambda x: round(x * 100, 2))\n",
    " \n",
    "data_pivot4"
   ]
  },
  {
   "cell_type": "code",
   "execution_count": 37,
   "id": "5b94c3c4",
   "metadata": {},
   "outputs": [
    {
     "data": {
      "text/html": [
       "<div>\n",
       "<style scoped>\n",
       "    .dataframe tbody tr th:only-of-type {\n",
       "        vertical-align: middle;\n",
       "    }\n",
       "\n",
       "    .dataframe tbody tr th {\n",
       "        vertical-align: top;\n",
       "    }\n",
       "\n",
       "    .dataframe thead th {\n",
       "        text-align: right;\n",
       "    }\n",
       "</style>\n",
       "<table border=\"1\" class=\"dataframe\">\n",
       "  <thead>\n",
       "    <tr style=\"text-align: right;\">\n",
       "      <th></th>\n",
       "      <th>all_debts</th>\n",
       "      <th>arrears</th>\n",
       "      <th>debts_paid</th>\n",
       "      <th>debts_paid_ratio</th>\n",
       "    </tr>\n",
       "    <tr>\n",
       "      <th>purpose_category</th>\n",
       "      <th></th>\n",
       "      <th></th>\n",
       "      <th></th>\n",
       "      <th></th>\n",
       "    </tr>\n",
       "  </thead>\n",
       "  <tbody>\n",
       "    <tr>\n",
       "      <th>операции с автомобилем</th>\n",
       "      <td>4279</td>\n",
       "      <td>400</td>\n",
       "      <td>3879</td>\n",
       "      <td>90.65</td>\n",
       "    </tr>\n",
       "    <tr>\n",
       "      <th>операции с недвижимостью</th>\n",
       "      <td>10751</td>\n",
       "      <td>780</td>\n",
       "      <td>9971</td>\n",
       "      <td>92.74</td>\n",
       "    </tr>\n",
       "    <tr>\n",
       "      <th>получение образования</th>\n",
       "      <td>3988</td>\n",
       "      <td>369</td>\n",
       "      <td>3619</td>\n",
       "      <td>90.75</td>\n",
       "    </tr>\n",
       "    <tr>\n",
       "      <th>проведение свадьбы</th>\n",
       "      <td>2313</td>\n",
       "      <td>183</td>\n",
       "      <td>2130</td>\n",
       "      <td>92.09</td>\n",
       "    </tr>\n",
       "  </tbody>\n",
       "</table>\n",
       "</div>"
      ],
      "text/plain": [
       "                          all_debts  arrears  debts_paid  debts_paid_ratio\n",
       "purpose_category                                                          \n",
       "операции с автомобилем         4279      400        3879             90.65\n",
       "операции с недвижимостью      10751      780        9971             92.74\n",
       "получение образования          3988      369        3619             90.75\n",
       "проведение свадьбы             2313      183        2130             92.09"
      ]
     },
     "execution_count": 37,
     "metadata": {},
     "output_type": "execute_result"
    }
   ],
   "source": [
    "new_data4 = data_pivot(data, 'purpose_category', 'debt', 'count', 'sum', 'all_debts', 'arrears',\\\n",
    "                      'debts_paid', 'debts_paid_ratio')\n",
    "new_data4"
   ]
  },
  {
   "cell_type": "markdown",
   "id": "37c37917",
   "metadata": {
    "deletable": false,
    "id": "b4bb2ce6"
   },
   "source": [
    "**Вывод:** \n",
    "\n",
    "Зависимость между целью кредита и возвратом кредита в срок есть:\n",
    "\n",
    "- Кредиты на **\"операции с недвижимостью\"** имеют самый высокий процент возврата кредита в срок - 92.74%.\n",
    "- Следом за ними хорошо возвращают кредит на **\"проведение свадьбы\"** (92.09%).\n",
    "- Самые низкие показатели у категорий клиентов, берущих кредиты на **\"получение образования\"** (90.75%) и **\"операции с автомобилем\"** (90.65%).\n",
    "\n",
    "Объяснить данную ситуацию можно следующим образом:\n",
    "\n",
    "Клиенты, которые берут **кредит на недвижимость**, обычно очень ответственно относятся к выплатам, так как штрафы за просрочку платежа сильно усугубляют ситуацию. Разница в показателе возврата кредита в срок между операциями с недвижимостью и **проведением свадьбы** не так велик - возможно, кредит на свадьбу не столь большой по сравнению с кредитом на машину, недвижимость и образование, поэтому по нему легче вовремя вносить платежи. Кроме того, никто не отменял финансовую поддержку молодых на свадьбе, что позволяет покрывать часть кредита, уменьшая тем самым его тело. \n",
    "\n",
    "Что касается категории **\"получение образования\"**, то здесь вероятнее всего за учебу платит сам студент, не всегда получается найти высокооплачиваемую работу в этот период времени. \n",
    "\n",
    "А с **кредитом на машину** появляется не только ежемесячный платеж, но еще и большой ряд расходов, которые нужно учитывать: покупка шин, страховка, ТО, а случае с б/у автомобилем возникает еще больше трат на расходники."
   ]
  },
  {
   "cell_type": "markdown",
   "id": "4103b8f7",
   "metadata": {
    "deletable": false,
    "editable": false,
    "id": "09c3ac4c"
   },
   "source": [
    "#### 3.5 Приведите возможные причины появления пропусков в исходных данных."
   ]
  },
  {
   "cell_type": "markdown",
   "id": "c13769b2",
   "metadata": {
    "deletable": false,
    "id": "9da2ceda"
   },
   "source": [
    "*Ответ:* Опираясь на полученную теорию и датафрейм, пропуски были выявлены в [\"Задании 4\"](#gap): в столбцах days_employed и total_income. Данные в этих столбцах - количественные, причины их появления могут быть случайными.\n",
    "1. Например, клиент просто не указал данные о своей зарплате и количестве проработанных дней.\n",
    "2. Возможны случаи, что предоставление данных необязательно, поэтому появляются пропуски (хотя в этой ситуации кредит невозможно выдать без информации о заработной плате).\n",
    "3. При возникновении технических проблем, которые появляются на этапе загрузки и выгрузки данных, а также в случае неправильного запроса, объединения таблиц, возможного повреждения файла при сохранении и т.д. \n",
    "\n"
   ]
  },
  {
   "cell_type": "markdown",
   "id": "8690b4eb",
   "metadata": {
    "deletable": false,
    "editable": false,
    "id": "7b0487d6"
   },
   "source": [
    "#### 3.6 Объясните, почему заполнить пропуски медианным значением — лучшее решение для количественных переменных."
   ]
  },
  {
   "cell_type": "markdown",
   "id": "7a2b5c00",
   "metadata": {
    "deletable": false,
    "id": "7ecf2b8e"
   },
   "source": [
    "*Ответ:* Потому что если использовать метод оценки выборки средним арифметическим, а в данном задании мы убирали пропуски в столбце дохода клиента - количественной переменной, мы столкнемся с некорректными данными, потому что у одного клиента может быть очень низкая зарплата (в нашем примере 20.667), в то время как максимальная зарплата будет - 2.265.604. Существует вариант - избавиться от выбросов, путем усечения данных по 5-10% самых больших и самых маленьких зарплат, а далее работать с новой выборкой, беря среднее арифметическое. Но лучше \"справиться\" с такими выбросами поможет медиана, которая позволит упорядочить все зарплаты в выборке, определить середину этого ряда. Вероятность того, что там находится самая типичная зарплата - велика."
   ]
  },
  {
   "cell_type": "code",
   "execution_count": 38,
   "id": "a5079df6",
   "metadata": {},
   "outputs": [
    {
     "data": {
      "text/plain": [
       "20667"
      ]
     },
     "execution_count": 38,
     "metadata": {},
     "output_type": "execute_result"
    }
   ],
   "source": [
    "data['total_income'].min()"
   ]
  },
  {
   "cell_type": "code",
   "execution_count": 39,
   "id": "5897188b",
   "metadata": {},
   "outputs": [
    {
     "data": {
      "text/plain": [
       "2265604"
      ]
     },
     "execution_count": 39,
     "metadata": {},
     "output_type": "execute_result"
    }
   ],
   "source": [
    "data['total_income'].max()"
   ]
  },
  {
   "cell_type": "markdown",
   "id": "80b234ac",
   "metadata": {
    "deletable": false,
    "editable": false,
    "id": "6db5255a"
   },
   "source": [
    "### Шаг 4: общий вывод."
   ]
  },
  {
   "cell_type": "markdown",
   "id": "c4b54906",
   "metadata": {
    "deletable": false,
    "id": "bad65432"
   },
   "source": [
    "Проведенная работа доказала существование зависимостей между возвратом кредита в срок и рядом факторов: количество детей, семейное положение, уровень дохода, цели кредита.\n",
    "\n",
    "В ходе выполнения работы по исследованию надежности заемщиков были поставлены и выполнены следующие задачи:\n",
    "- определены и удалены пропуски в данных,\n",
    "- обработаны артефакты (аномалии),\n",
    "- выявлены дубликаты и приведены в соответствующий требованиям вид,\n",
    "- доказаны гипотезы путем категоризации данных и составления сводных таблиц для их последующего анализа.\n",
    "\n",
    "Рекомендации по выбору клиента для последующей выдачи кредита:\n",
    "- отсутствие детей коррелирует с высоким показателем возврата кредита в срок,\n",
    "- вдовец или вдова с большей вероятностью будут выплачивать кредит вовремя,\n",
    "- заработок клиента должен быть не менее 30.000,\n",
    "- заемщики, берущие кредит на недвижимость, наиболее ответственно подходят к его возврату."
   ]
  }
 ],
 "metadata": {
  "ExecuteTimeLog": [
   {
    "duration": 63,
    "start_time": "2023-04-13T07:37:51.380Z"
   },
   {
    "duration": 486,
    "start_time": "2023-04-13T07:38:04.814Z"
   },
   {
    "duration": 20,
    "start_time": "2023-04-13T07:38:05.302Z"
   },
   {
    "duration": 13,
    "start_time": "2023-04-13T07:38:05.323Z"
   },
   {
    "duration": 9,
    "start_time": "2023-04-13T07:38:05.338Z"
   },
   {
    "duration": 29,
    "start_time": "2023-04-13T07:38:05.348Z"
   },
   {
    "duration": 3,
    "start_time": "2023-04-13T07:38:05.394Z"
   },
   {
    "duration": 9,
    "start_time": "2023-04-13T07:38:05.399Z"
   },
   {
    "duration": 4,
    "start_time": "2023-04-13T07:38:05.410Z"
   },
   {
    "duration": 23,
    "start_time": "2023-04-13T07:38:05.415Z"
   },
   {
    "duration": 8,
    "start_time": "2023-04-13T07:38:05.441Z"
   },
   {
    "duration": 29,
    "start_time": "2023-04-13T07:38:05.451Z"
   },
   {
    "duration": 18,
    "start_time": "2023-04-13T07:38:05.482Z"
   },
   {
    "duration": 3,
    "start_time": "2023-04-13T07:38:05.502Z"
   },
   {
    "duration": 15,
    "start_time": "2023-04-13T07:38:05.506Z"
   },
   {
    "duration": 25,
    "start_time": "2023-04-13T07:38:05.523Z"
   },
   {
    "duration": 16,
    "start_time": "2023-04-13T07:38:05.550Z"
   },
   {
    "duration": 3,
    "start_time": "2023-04-13T07:38:05.567Z"
   },
   {
    "duration": 27,
    "start_time": "2023-04-13T07:38:05.571Z"
   },
   {
    "duration": 30,
    "start_time": "2023-04-13T07:38:05.599Z"
   },
   {
    "duration": 14,
    "start_time": "2023-04-13T07:38:05.631Z"
   },
   {
    "duration": 16,
    "start_time": "2023-04-13T07:38:05.647Z"
   },
   {
    "duration": 19,
    "start_time": "2023-04-13T07:38:05.665Z"
   },
   {
    "duration": 12,
    "start_time": "2023-04-13T07:38:05.686Z"
   },
   {
    "duration": 30,
    "start_time": "2023-04-13T07:38:05.699Z"
   },
   {
    "duration": 12,
    "start_time": "2023-04-13T07:38:05.731Z"
   },
   {
    "duration": 30,
    "start_time": "2023-04-13T07:39:24.076Z"
   },
   {
    "duration": 4,
    "start_time": "2023-04-13T07:39:45.720Z"
   },
   {
    "duration": 8,
    "start_time": "2023-04-13T08:08:45.566Z"
   },
   {
    "duration": 16,
    "start_time": "2023-04-13T08:09:54.051Z"
   },
   {
    "duration": 3,
    "start_time": "2023-04-13T09:16:13.705Z"
   },
   {
    "duration": 265,
    "start_time": "2023-04-13T09:17:15.812Z"
   },
   {
    "duration": 3,
    "start_time": "2023-04-13T09:17:34.442Z"
   },
   {
    "duration": 212,
    "start_time": "2023-04-13T09:17:36.438Z"
   },
   {
    "duration": 2,
    "start_time": "2023-04-13T09:18:10.415Z"
   },
   {
    "duration": 10,
    "start_time": "2023-04-13T09:18:12.180Z"
   },
   {
    "duration": 27,
    "start_time": "2023-04-13T09:19:54.819Z"
   },
   {
    "duration": 11,
    "start_time": "2023-04-13T09:21:05.053Z"
   },
   {
    "duration": 56,
    "start_time": "2023-04-13T09:21:14.716Z"
   },
   {
    "duration": 16,
    "start_time": "2023-04-13T09:23:45.140Z"
   },
   {
    "duration": 16,
    "start_time": "2023-04-13T09:28:27.840Z"
   },
   {
    "duration": 12,
    "start_time": "2023-04-13T09:28:49.126Z"
   },
   {
    "duration": 18,
    "start_time": "2023-04-13T09:28:53.368Z"
   },
   {
    "duration": 56,
    "start_time": "2023-04-13T09:31:44.252Z"
   },
   {
    "duration": 17,
    "start_time": "2023-04-13T09:31:53.019Z"
   },
   {
    "duration": 45,
    "start_time": "2023-04-13T09:32:12.656Z"
   },
   {
    "duration": 11,
    "start_time": "2023-04-13T09:32:31.440Z"
   },
   {
    "duration": 13,
    "start_time": "2023-04-13T09:33:01.758Z"
   },
   {
    "duration": 18,
    "start_time": "2023-04-13T09:33:14.808Z"
   },
   {
    "duration": 63,
    "start_time": "2023-04-13T09:34:13.787Z"
   },
   {
    "duration": 66,
    "start_time": "2023-04-13T09:34:20.654Z"
   },
   {
    "duration": 65,
    "start_time": "2023-04-13T09:34:23.476Z"
   },
   {
    "duration": 47,
    "start_time": "2023-04-13T09:34:28.710Z"
   },
   {
    "duration": 17,
    "start_time": "2023-04-13T09:34:33.612Z"
   },
   {
    "duration": 20,
    "start_time": "2023-04-13T09:40:34.220Z"
   },
   {
    "duration": 16,
    "start_time": "2023-04-13T09:40:39.510Z"
   },
   {
    "duration": 44,
    "start_time": "2023-04-13T09:40:45.809Z"
   },
   {
    "duration": 16,
    "start_time": "2023-04-13T09:40:55.220Z"
   },
   {
    "duration": 8,
    "start_time": "2023-04-13T09:41:03.916Z"
   },
   {
    "duration": 17,
    "start_time": "2023-04-13T09:41:09.730Z"
   },
   {
    "duration": 28,
    "start_time": "2023-04-13T09:41:20.680Z"
   },
   {
    "duration": 19,
    "start_time": "2023-04-13T09:41:37.224Z"
   },
   {
    "duration": 56,
    "start_time": "2023-04-13T09:42:01.117Z"
   },
   {
    "duration": 46,
    "start_time": "2023-04-13T09:42:11.655Z"
   },
   {
    "duration": 18,
    "start_time": "2023-04-13T09:42:15.485Z"
   },
   {
    "duration": 17,
    "start_time": "2023-04-13T09:42:50.549Z"
   },
   {
    "duration": 20,
    "start_time": "2023-04-13T09:42:55.639Z"
   },
   {
    "duration": 17,
    "start_time": "2023-04-13T09:56:28.806Z"
   },
   {
    "duration": 808,
    "start_time": "2023-04-13T09:57:01.117Z"
   },
   {
    "duration": 21,
    "start_time": "2023-04-13T09:57:34.517Z"
   },
   {
    "duration": 18,
    "start_time": "2023-04-13T09:59:19.881Z"
   },
   {
    "duration": 19,
    "start_time": "2023-04-13T10:11:58.221Z"
   },
   {
    "duration": 19,
    "start_time": "2023-04-13T10:12:12.548Z"
   },
   {
    "duration": 27,
    "start_time": "2023-04-13T10:16:22.107Z"
   },
   {
    "duration": 22,
    "start_time": "2023-04-13T10:16:31.205Z"
   },
   {
    "duration": 20,
    "start_time": "2023-04-13T10:43:46.817Z"
   },
   {
    "duration": 36,
    "start_time": "2023-04-13T10:56:59.778Z"
   },
   {
    "duration": 28,
    "start_time": "2023-04-13T10:57:54.141Z"
   },
   {
    "duration": 18,
    "start_time": "2023-04-13T10:58:03.909Z"
   },
   {
    "duration": 5,
    "start_time": "2023-04-13T11:20:38.099Z"
   },
   {
    "duration": 10,
    "start_time": "2023-04-13T11:20:39.647Z"
   },
   {
    "duration": 27,
    "start_time": "2023-04-13T11:20:42.489Z"
   },
   {
    "duration": 28,
    "start_time": "2023-04-13T12:05:50.988Z"
   },
   {
    "duration": 8,
    "start_time": "2023-04-13T12:15:41.411Z"
   },
   {
    "duration": 67,
    "start_time": "2023-04-13T12:20:33.745Z"
   },
   {
    "duration": 19,
    "start_time": "2023-04-13T12:25:24.554Z"
   },
   {
    "duration": 20,
    "start_time": "2023-04-13T12:25:44.823Z"
   },
   {
    "duration": 9,
    "start_time": "2023-04-13T12:47:32.970Z"
   },
   {
    "duration": 8,
    "start_time": "2023-04-13T12:47:35.612Z"
   },
   {
    "duration": 5,
    "start_time": "2023-04-13T13:36:57.622Z"
   },
   {
    "duration": 15,
    "start_time": "2023-04-13T13:36:59.603Z"
   },
   {
    "duration": 46,
    "start_time": "2023-04-13T13:37:29.379Z"
   },
   {
    "duration": 34,
    "start_time": "2023-04-13T13:38:04.283Z"
   },
   {
    "duration": 30,
    "start_time": "2023-04-13T13:38:15.335Z"
   },
   {
    "duration": 30,
    "start_time": "2023-04-13T13:50:46.087Z"
   },
   {
    "duration": 23,
    "start_time": "2023-04-13T13:51:04.683Z"
   },
   {
    "duration": 19,
    "start_time": "2023-04-13T13:51:11.046Z"
   },
   {
    "duration": 33,
    "start_time": "2023-04-13T14:02:11.192Z"
   },
   {
    "duration": 8,
    "start_time": "2023-04-13T14:03:00.740Z"
   },
   {
    "duration": 4,
    "start_time": "2023-04-13T14:03:16.180Z"
   },
   {
    "duration": 8,
    "start_time": "2023-04-13T14:03:18.706Z"
   },
   {
    "duration": 24,
    "start_time": "2023-04-13T14:03:20.492Z"
   },
   {
    "duration": 4,
    "start_time": "2023-04-13T14:03:44.181Z"
   },
   {
    "duration": 3,
    "start_time": "2023-04-13T14:17:01.985Z"
   },
   {
    "duration": 9,
    "start_time": "2023-04-13T14:17:03.809Z"
   },
   {
    "duration": 28,
    "start_time": "2023-04-13T14:17:06.293Z"
   },
   {
    "duration": 5,
    "start_time": "2023-04-13T14:17:22.193Z"
   },
   {
    "duration": 11,
    "start_time": "2023-04-13T14:17:23.103Z"
   },
   {
    "duration": 22,
    "start_time": "2023-04-13T14:17:24.903Z"
   },
   {
    "duration": 4,
    "start_time": "2023-04-13T14:20:41.789Z"
   },
   {
    "duration": 17,
    "start_time": "2023-04-13T14:20:42.791Z"
   },
   {
    "duration": 33,
    "start_time": "2023-04-13T14:20:43.684Z"
   },
   {
    "duration": 4,
    "start_time": "2023-04-13T14:23:05.185Z"
   },
   {
    "duration": 9,
    "start_time": "2023-04-13T14:23:05.340Z"
   },
   {
    "duration": 23,
    "start_time": "2023-04-13T14:23:05.696Z"
   },
   {
    "duration": 3,
    "start_time": "2023-04-13T14:31:39.679Z"
   },
   {
    "duration": 8,
    "start_time": "2023-04-13T14:31:39.921Z"
   },
   {
    "duration": 20,
    "start_time": "2023-04-13T14:31:40.948Z"
   },
   {
    "duration": 4,
    "start_time": "2023-04-13T14:32:54.418Z"
   },
   {
    "duration": 8,
    "start_time": "2023-04-13T14:32:54.583Z"
   },
   {
    "duration": 20,
    "start_time": "2023-04-13T14:32:55.252Z"
   },
   {
    "duration": 4,
    "start_time": "2023-04-13T14:35:52.084Z"
   },
   {
    "duration": 7,
    "start_time": "2023-04-13T14:35:52.313Z"
   },
   {
    "duration": 20,
    "start_time": "2023-04-13T14:35:53.929Z"
   },
   {
    "duration": 20,
    "start_time": "2023-04-13T14:43:12.223Z"
   },
   {
    "duration": 22,
    "start_time": "2023-04-13T14:43:32.006Z"
   },
   {
    "duration": 21,
    "start_time": "2023-04-13T15:16:25.683Z"
   },
   {
    "duration": 19,
    "start_time": "2023-04-13T15:16:32.039Z"
   },
   {
    "duration": 22,
    "start_time": "2023-04-13T15:17:11.235Z"
   },
   {
    "duration": 6,
    "start_time": "2023-04-13T15:19:38.582Z"
   },
   {
    "duration": 9,
    "start_time": "2023-04-13T15:20:13.274Z"
   },
   {
    "duration": 5,
    "start_time": "2023-04-13T15:20:19.781Z"
   },
   {
    "duration": 466,
    "start_time": "2023-04-13T15:34:21.984Z"
   },
   {
    "duration": 28,
    "start_time": "2023-04-13T15:34:22.453Z"
   },
   {
    "duration": 16,
    "start_time": "2023-04-13T15:34:22.483Z"
   },
   {
    "duration": 24,
    "start_time": "2023-04-13T15:34:22.501Z"
   },
   {
    "duration": 41,
    "start_time": "2023-04-13T15:34:22.527Z"
   },
   {
    "duration": 4,
    "start_time": "2023-04-13T15:34:22.569Z"
   },
   {
    "duration": 22,
    "start_time": "2023-04-13T15:34:22.574Z"
   },
   {
    "duration": 4,
    "start_time": "2023-04-13T15:34:22.598Z"
   },
   {
    "duration": 12,
    "start_time": "2023-04-13T15:34:22.603Z"
   },
   {
    "duration": 4,
    "start_time": "2023-04-13T15:34:22.619Z"
   },
   {
    "duration": 30,
    "start_time": "2023-04-13T15:34:22.625Z"
   },
   {
    "duration": 10,
    "start_time": "2023-04-13T15:34:22.656Z"
   },
   {
    "duration": 5,
    "start_time": "2023-04-13T15:34:22.693Z"
   },
   {
    "duration": 11,
    "start_time": "2023-04-13T15:34:22.700Z"
   },
   {
    "duration": 18,
    "start_time": "2023-04-13T15:34:22.713Z"
   },
   {
    "duration": 17,
    "start_time": "2023-04-13T15:34:22.733Z"
   },
   {
    "duration": 3,
    "start_time": "2023-04-13T15:34:22.752Z"
   },
   {
    "duration": 43,
    "start_time": "2023-04-13T15:34:22.758Z"
   },
   {
    "duration": 8,
    "start_time": "2023-04-13T15:34:22.803Z"
   },
   {
    "duration": 5,
    "start_time": "2023-04-13T15:34:22.813Z"
   },
   {
    "duration": 13,
    "start_time": "2023-04-13T15:34:22.820Z"
   },
   {
    "duration": 6,
    "start_time": "2023-04-13T15:34:22.835Z"
   },
   {
    "duration": 17,
    "start_time": "2023-04-13T15:34:22.842Z"
   },
   {
    "duration": 13,
    "start_time": "2023-04-13T15:34:22.861Z"
   },
   {
    "duration": 43,
    "start_time": "2023-04-13T15:34:22.876Z"
   },
   {
    "duration": 6,
    "start_time": "2023-04-13T15:34:22.920Z"
   },
   {
    "duration": 20,
    "start_time": "2023-04-13T15:34:22.928Z"
   },
   {
    "duration": 4,
    "start_time": "2023-04-13T15:34:22.951Z"
   },
   {
    "duration": 4,
    "start_time": "2023-04-13T15:34:22.957Z"
   },
   {
    "duration": 37,
    "start_time": "2023-04-13T15:34:22.962Z"
   },
   {
    "duration": 27,
    "start_time": "2023-04-13T15:34:23.001Z"
   },
   {
    "duration": 7,
    "start_time": "2023-04-13T15:34:23.029Z"
   },
   {
    "duration": 34,
    "start_time": "2023-04-13T15:34:23.037Z"
   },
   {
    "duration": 4,
    "start_time": "2023-04-13T15:40:38.815Z"
   },
   {
    "duration": 4,
    "start_time": "2023-04-13T15:40:45.311Z"
   },
   {
    "duration": 7,
    "start_time": "2023-04-13T15:50:36.946Z"
   },
   {
    "duration": 56,
    "start_time": "2023-04-13T15:55:55.059Z"
   },
   {
    "duration": 12,
    "start_time": "2023-04-13T15:56:00.390Z"
   },
   {
    "duration": 49,
    "start_time": "2023-04-13T15:56:14.720Z"
   },
   {
    "duration": 44,
    "start_time": "2023-04-13T15:56:42.338Z"
   },
   {
    "duration": 434,
    "start_time": "2023-04-13T15:58:11.211Z"
   },
   {
    "duration": 21,
    "start_time": "2023-04-13T15:58:11.647Z"
   },
   {
    "duration": 17,
    "start_time": "2023-04-13T15:58:11.669Z"
   },
   {
    "duration": 13,
    "start_time": "2023-04-13T15:58:11.688Z"
   },
   {
    "duration": 29,
    "start_time": "2023-04-13T15:58:11.703Z"
   },
   {
    "duration": 2,
    "start_time": "2023-04-13T15:58:11.734Z"
   },
   {
    "duration": 12,
    "start_time": "2023-04-13T15:58:11.738Z"
   },
   {
    "duration": 5,
    "start_time": "2023-04-13T15:58:11.751Z"
   },
   {
    "duration": 17,
    "start_time": "2023-04-13T15:58:11.757Z"
   },
   {
    "duration": 4,
    "start_time": "2023-04-13T15:58:11.776Z"
   },
   {
    "duration": 38,
    "start_time": "2023-04-13T15:58:11.782Z"
   },
   {
    "duration": 9,
    "start_time": "2023-04-13T15:58:11.822Z"
   },
   {
    "duration": 4,
    "start_time": "2023-04-13T15:58:11.832Z"
   },
   {
    "duration": 11,
    "start_time": "2023-04-13T15:58:11.838Z"
   },
   {
    "duration": 20,
    "start_time": "2023-04-13T15:58:11.850Z"
   },
   {
    "duration": 16,
    "start_time": "2023-04-13T15:58:11.895Z"
   },
   {
    "duration": 4,
    "start_time": "2023-04-13T15:58:11.912Z"
   },
   {
    "duration": 17,
    "start_time": "2023-04-13T15:58:11.917Z"
   },
   {
    "duration": 5,
    "start_time": "2023-04-13T15:58:11.935Z"
   },
   {
    "duration": 4,
    "start_time": "2023-04-13T15:58:11.942Z"
   },
   {
    "duration": 9,
    "start_time": "2023-04-13T15:58:11.947Z"
   },
   {
    "duration": 3,
    "start_time": "2023-04-13T15:58:11.958Z"
   },
   {
    "duration": 16,
    "start_time": "2023-04-13T15:58:11.962Z"
   },
   {
    "duration": 16,
    "start_time": "2023-04-13T15:58:11.980Z"
   },
   {
    "duration": 29,
    "start_time": "2023-04-13T15:58:11.997Z"
   },
   {
    "duration": 6,
    "start_time": "2023-04-13T15:58:12.027Z"
   },
   {
    "duration": 19,
    "start_time": "2023-04-13T15:58:12.035Z"
   },
   {
    "duration": 4,
    "start_time": "2023-04-13T15:58:12.057Z"
   },
   {
    "duration": 4,
    "start_time": "2023-04-13T15:58:12.062Z"
   },
   {
    "duration": 8,
    "start_time": "2023-04-13T15:58:12.095Z"
   },
   {
    "duration": 26,
    "start_time": "2023-04-13T15:58:12.105Z"
   },
   {
    "duration": 6,
    "start_time": "2023-04-13T15:58:12.132Z"
   },
   {
    "duration": 22,
    "start_time": "2023-04-13T15:58:12.140Z"
   },
   {
    "duration": 5,
    "start_time": "2023-04-13T15:58:12.163Z"
   },
   {
    "duration": 4,
    "start_time": "2023-04-13T15:58:12.193Z"
   },
   {
    "duration": 430,
    "start_time": "2023-04-13T16:09:19.217Z"
   },
   {
    "duration": 21,
    "start_time": "2023-04-13T16:09:19.649Z"
   },
   {
    "duration": 20,
    "start_time": "2023-04-13T16:09:19.672Z"
   },
   {
    "duration": 13,
    "start_time": "2023-04-13T16:09:19.695Z"
   },
   {
    "duration": 36,
    "start_time": "2023-04-13T16:09:19.710Z"
   },
   {
    "duration": 4,
    "start_time": "2023-04-13T16:09:19.747Z"
   },
   {
    "duration": 11,
    "start_time": "2023-04-13T16:09:19.752Z"
   },
   {
    "duration": 3,
    "start_time": "2023-04-13T16:09:19.765Z"
   },
   {
    "duration": 29,
    "start_time": "2023-04-13T16:09:19.769Z"
   },
   {
    "duration": 5,
    "start_time": "2023-04-13T16:09:19.801Z"
   },
   {
    "duration": 32,
    "start_time": "2023-04-13T16:09:19.808Z"
   },
   {
    "duration": 8,
    "start_time": "2023-04-13T16:09:19.842Z"
   },
   {
    "duration": 4,
    "start_time": "2023-04-13T16:09:19.851Z"
   },
   {
    "duration": 13,
    "start_time": "2023-04-13T16:09:19.856Z"
   },
   {
    "duration": 43,
    "start_time": "2023-04-13T16:09:19.871Z"
   },
   {
    "duration": 18,
    "start_time": "2023-04-13T16:09:19.915Z"
   },
   {
    "duration": 4,
    "start_time": "2023-04-13T16:09:19.934Z"
   },
   {
    "duration": 17,
    "start_time": "2023-04-13T16:09:19.940Z"
   },
   {
    "duration": 6,
    "start_time": "2023-04-13T16:09:19.959Z"
   },
   {
    "duration": 4,
    "start_time": "2023-04-13T16:09:19.966Z"
   },
   {
    "duration": 30,
    "start_time": "2023-04-13T16:09:19.971Z"
   },
   {
    "duration": 23,
    "start_time": "2023-04-13T16:09:20.002Z"
   },
   {
    "duration": 5,
    "start_time": "2023-04-13T16:09:20.027Z"
   },
   {
    "duration": 11,
    "start_time": "2023-04-13T16:09:20.034Z"
   },
   {
    "duration": 44,
    "start_time": "2023-04-13T16:09:20.046Z"
   },
   {
    "duration": 6,
    "start_time": "2023-04-13T16:09:20.091Z"
   },
   {
    "duration": 32,
    "start_time": "2023-04-13T16:09:20.099Z"
   },
   {
    "duration": 14,
    "start_time": "2023-04-13T16:09:20.133Z"
   },
   {
    "duration": 7,
    "start_time": "2023-04-13T16:09:20.148Z"
   },
   {
    "duration": 30,
    "start_time": "2023-04-13T16:09:20.156Z"
   },
   {
    "duration": 38,
    "start_time": "2023-04-13T16:09:20.187Z"
   },
   {
    "duration": 6,
    "start_time": "2023-04-13T16:09:20.226Z"
   },
   {
    "duration": 21,
    "start_time": "2023-04-13T16:09:20.234Z"
   },
   {
    "duration": 13,
    "start_time": "2023-04-13T16:09:20.256Z"
   },
   {
    "duration": 23,
    "start_time": "2023-04-13T16:09:20.271Z"
   },
   {
    "duration": 61,
    "start_time": "2023-04-13T18:56:57.661Z"
   },
   {
    "duration": 8,
    "start_time": "2023-04-13T18:57:04.736Z"
   },
   {
    "duration": 6,
    "start_time": "2023-04-13T18:57:15.709Z"
   },
   {
    "duration": 6,
    "start_time": "2023-04-13T18:57:49.255Z"
   },
   {
    "duration": 19,
    "start_time": "2023-04-13T19:12:46.007Z"
   },
   {
    "duration": 20,
    "start_time": "2023-04-13T19:12:57.721Z"
   },
   {
    "duration": 25,
    "start_time": "2023-04-13T19:13:14.406Z"
   },
   {
    "duration": 403,
    "start_time": "2023-04-13T19:24:55.837Z"
   },
   {
    "duration": 20,
    "start_time": "2023-04-13T19:24:56.242Z"
   },
   {
    "duration": 13,
    "start_time": "2023-04-13T19:24:56.263Z"
   },
   {
    "duration": 19,
    "start_time": "2023-04-13T19:24:56.278Z"
   },
   {
    "duration": 37,
    "start_time": "2023-04-13T19:24:56.298Z"
   },
   {
    "duration": 3,
    "start_time": "2023-04-13T19:24:56.337Z"
   },
   {
    "duration": 10,
    "start_time": "2023-04-13T19:24:56.341Z"
   },
   {
    "duration": 3,
    "start_time": "2023-04-13T19:24:56.353Z"
   },
   {
    "duration": 8,
    "start_time": "2023-04-13T19:24:56.357Z"
   },
   {
    "duration": 4,
    "start_time": "2023-04-13T19:24:56.368Z"
   },
   {
    "duration": 49,
    "start_time": "2023-04-13T19:24:56.374Z"
   },
   {
    "duration": 10,
    "start_time": "2023-04-13T19:24:56.424Z"
   },
   {
    "duration": 4,
    "start_time": "2023-04-13T19:24:56.435Z"
   },
   {
    "duration": 11,
    "start_time": "2023-04-13T19:24:56.440Z"
   },
   {
    "duration": 48,
    "start_time": "2023-04-13T19:24:56.454Z"
   },
   {
    "duration": 16,
    "start_time": "2023-04-13T19:24:56.503Z"
   },
   {
    "duration": 3,
    "start_time": "2023-04-13T19:24:56.520Z"
   },
   {
    "duration": 10,
    "start_time": "2023-04-13T19:24:56.524Z"
   },
   {
    "duration": 7,
    "start_time": "2023-04-13T19:24:56.535Z"
   },
   {
    "duration": 5,
    "start_time": "2023-04-13T19:24:56.543Z"
   },
   {
    "duration": 11,
    "start_time": "2023-04-13T19:24:56.549Z"
   },
   {
    "duration": 33,
    "start_time": "2023-04-13T19:24:56.562Z"
   },
   {
    "duration": 3,
    "start_time": "2023-04-13T19:24:56.597Z"
   },
   {
    "duration": 11,
    "start_time": "2023-04-13T19:24:56.601Z"
   },
   {
    "duration": 31,
    "start_time": "2023-04-13T19:24:56.613Z"
   },
   {
    "duration": 6,
    "start_time": "2023-04-13T19:24:56.645Z"
   },
   {
    "duration": 22,
    "start_time": "2023-04-13T19:24:56.652Z"
   },
   {
    "duration": 4,
    "start_time": "2023-04-13T19:24:56.677Z"
   },
   {
    "duration": 7,
    "start_time": "2023-04-13T19:24:56.683Z"
   },
   {
    "duration": 13,
    "start_time": "2023-04-13T19:24:56.693Z"
   },
   {
    "duration": 29,
    "start_time": "2023-04-13T19:24:56.708Z"
   },
   {
    "duration": 6,
    "start_time": "2023-04-13T19:24:56.738Z"
   },
   {
    "duration": 21,
    "start_time": "2023-04-13T19:24:56.745Z"
   },
   {
    "duration": 3,
    "start_time": "2023-04-13T19:24:56.767Z"
   },
   {
    "duration": 6,
    "start_time": "2023-04-13T19:24:56.772Z"
   },
   {
    "duration": 612,
    "start_time": "2023-04-13T19:48:10.278Z"
   },
   {
    "duration": 28,
    "start_time": "2023-04-13T19:48:10.894Z"
   },
   {
    "duration": 33,
    "start_time": "2023-04-13T19:48:10.924Z"
   },
   {
    "duration": 36,
    "start_time": "2023-04-13T19:48:10.965Z"
   },
   {
    "duration": 63,
    "start_time": "2023-04-13T19:48:11.003Z"
   },
   {
    "duration": 4,
    "start_time": "2023-04-13T19:48:11.068Z"
   },
   {
    "duration": 44,
    "start_time": "2023-04-13T19:48:11.074Z"
   },
   {
    "duration": 14,
    "start_time": "2023-04-13T19:48:11.120Z"
   },
   {
    "duration": 11,
    "start_time": "2023-04-13T19:48:11.135Z"
   },
   {
    "duration": 38,
    "start_time": "2023-04-13T19:48:11.154Z"
   },
   {
    "duration": 51,
    "start_time": "2023-04-13T19:48:11.194Z"
   },
   {
    "duration": 29,
    "start_time": "2023-04-13T19:48:11.246Z"
   },
   {
    "duration": 25,
    "start_time": "2023-04-13T19:48:11.276Z"
   },
   {
    "duration": 42,
    "start_time": "2023-04-13T19:48:11.304Z"
   },
   {
    "duration": 69,
    "start_time": "2023-04-13T19:48:11.348Z"
   },
   {
    "duration": 19,
    "start_time": "2023-04-13T19:48:11.419Z"
   },
   {
    "duration": 3,
    "start_time": "2023-04-13T19:48:11.440Z"
   },
   {
    "duration": 45,
    "start_time": "2023-04-13T19:48:11.446Z"
   },
   {
    "duration": 10,
    "start_time": "2023-04-13T19:48:11.493Z"
   },
   {
    "duration": 6,
    "start_time": "2023-04-13T19:48:11.505Z"
   },
   {
    "duration": 14,
    "start_time": "2023-04-13T19:48:11.512Z"
   },
   {
    "duration": 13,
    "start_time": "2023-04-13T19:48:11.528Z"
   },
   {
    "duration": 40,
    "start_time": "2023-04-13T19:48:11.542Z"
   },
   {
    "duration": 26,
    "start_time": "2023-04-13T19:48:11.585Z"
   },
   {
    "duration": 30,
    "start_time": "2023-04-13T19:48:11.613Z"
   },
   {
    "duration": 13,
    "start_time": "2023-04-13T19:48:11.645Z"
   },
   {
    "duration": 53,
    "start_time": "2023-04-13T19:48:11.659Z"
   },
   {
    "duration": 5,
    "start_time": "2023-04-13T19:48:11.715Z"
   },
   {
    "duration": 5,
    "start_time": "2023-04-13T19:48:11.721Z"
   },
   {
    "duration": 13,
    "start_time": "2023-04-13T19:48:11.728Z"
   },
   {
    "duration": 70,
    "start_time": "2023-04-13T19:48:11.742Z"
   },
   {
    "duration": 7,
    "start_time": "2023-04-13T19:48:11.813Z"
   },
   {
    "duration": 34,
    "start_time": "2023-04-13T19:48:11.822Z"
   },
   {
    "duration": 4,
    "start_time": "2023-04-13T19:48:11.858Z"
   },
   {
    "duration": 35,
    "start_time": "2023-04-13T19:48:11.864Z"
   },
   {
    "duration": 230,
    "start_time": "2023-04-17T06:00:54.635Z"
   },
   {
    "duration": 124,
    "start_time": "2023-04-17T06:01:33.159Z"
   },
   {
    "duration": 79,
    "start_time": "2023-04-17T06:16:33.174Z"
   },
   {
    "duration": 11,
    "start_time": "2023-04-17T06:16:50.143Z"
   },
   {
    "duration": 400,
    "start_time": "2023-04-17T06:17:25.328Z"
   },
   {
    "duration": 10,
    "start_time": "2023-04-17T06:17:51.816Z"
   },
   {
    "duration": 10,
    "start_time": "2023-04-17T06:18:40.989Z"
   },
   {
    "duration": 9,
    "start_time": "2023-04-17T06:19:01.835Z"
   },
   {
    "duration": 343,
    "start_time": "2023-04-17T07:00:11.623Z"
   },
   {
    "duration": 325,
    "start_time": "2023-04-17T07:00:34.752Z"
   },
   {
    "duration": 107,
    "start_time": "2023-04-17T07:00:57.019Z"
   },
   {
    "duration": 13,
    "start_time": "2023-04-17T07:01:22.246Z"
   },
   {
    "duration": 10,
    "start_time": "2023-04-17T07:01:30.074Z"
   },
   {
    "duration": 9,
    "start_time": "2023-04-17T07:01:47.556Z"
   },
   {
    "duration": 11,
    "start_time": "2023-04-17T07:03:25.318Z"
   },
   {
    "duration": 88,
    "start_time": "2023-04-17T07:03:39.031Z"
   },
   {
    "duration": 121,
    "start_time": "2023-04-17T07:03:43.945Z"
   },
   {
    "duration": 133,
    "start_time": "2023-04-17T07:04:19.033Z"
   },
   {
    "duration": 116,
    "start_time": "2023-04-17T07:06:24.815Z"
   },
   {
    "duration": 11,
    "start_time": "2023-04-17T07:06:30.761Z"
   },
   {
    "duration": 4,
    "start_time": "2023-04-17T07:07:03.814Z"
   },
   {
    "duration": 4,
    "start_time": "2023-04-17T07:07:14.062Z"
   },
   {
    "duration": 110,
    "start_time": "2023-04-17T07:07:33.523Z"
   },
   {
    "duration": 174,
    "start_time": "2023-04-17T07:07:40.019Z"
   },
   {
    "duration": 767,
    "start_time": "2023-04-17T07:07:47.016Z"
   },
   {
    "duration": 129,
    "start_time": "2023-04-17T07:07:49.701Z"
   },
   {
    "duration": 144,
    "start_time": "2023-04-17T07:07:53.565Z"
   },
   {
    "duration": 88,
    "start_time": "2023-04-17T07:08:04.423Z"
   },
   {
    "duration": 5,
    "start_time": "2023-04-17T07:08:14.323Z"
   },
   {
    "duration": 11,
    "start_time": "2023-04-17T07:08:23.144Z"
   },
   {
    "duration": 9,
    "start_time": "2023-04-17T07:16:15.014Z"
   },
   {
    "duration": 289,
    "start_time": "2023-04-17T07:16:28.817Z"
   },
   {
    "duration": 5,
    "start_time": "2023-04-17T07:16:40.102Z"
   },
   {
    "duration": 11,
    "start_time": "2023-04-17T07:20:55.530Z"
   },
   {
    "duration": 11,
    "start_time": "2023-04-17T07:21:07.631Z"
   },
   {
    "duration": 896,
    "start_time": "2023-04-17T07:21:19.528Z"
   },
   {
    "duration": 40,
    "start_time": "2023-04-17T07:21:20.427Z"
   },
   {
    "duration": 36,
    "start_time": "2023-04-17T07:21:20.469Z"
   },
   {
    "duration": 14,
    "start_time": "2023-04-17T07:21:20.508Z"
   },
   {
    "duration": 54,
    "start_time": "2023-04-17T07:21:20.524Z"
   },
   {
    "duration": 12,
    "start_time": "2023-04-17T07:21:20.580Z"
   },
   {
    "duration": 47,
    "start_time": "2023-04-17T07:21:20.594Z"
   },
   {
    "duration": 41,
    "start_time": "2023-04-17T07:21:20.644Z"
   },
   {
    "duration": 39,
    "start_time": "2023-04-17T07:21:20.687Z"
   },
   {
    "duration": 50,
    "start_time": "2023-04-17T07:21:20.730Z"
   },
   {
    "duration": 65,
    "start_time": "2023-04-17T07:21:20.781Z"
   },
   {
    "duration": 15,
    "start_time": "2023-04-17T07:21:20.847Z"
   },
   {
    "duration": 43,
    "start_time": "2023-04-17T07:21:20.864Z"
   },
   {
    "duration": 16,
    "start_time": "2023-04-17T07:21:20.909Z"
   },
   {
    "duration": 70,
    "start_time": "2023-04-17T07:21:20.927Z"
   },
   {
    "duration": 17,
    "start_time": "2023-04-17T07:21:20.999Z"
   },
   {
    "duration": 14,
    "start_time": "2023-04-17T07:21:21.017Z"
   },
   {
    "duration": 62,
    "start_time": "2023-04-17T07:21:21.033Z"
   },
   {
    "duration": 13,
    "start_time": "2023-04-17T07:21:21.098Z"
   },
   {
    "duration": 9,
    "start_time": "2023-04-17T07:21:21.112Z"
   },
   {
    "duration": 11,
    "start_time": "2023-04-17T07:21:21.122Z"
   },
   {
    "duration": 47,
    "start_time": "2023-04-17T07:21:21.136Z"
   },
   {
    "duration": 8,
    "start_time": "2023-04-17T07:21:21.185Z"
   },
   {
    "duration": 27,
    "start_time": "2023-04-17T07:21:21.194Z"
   },
   {
    "duration": 50,
    "start_time": "2023-04-17T07:21:21.223Z"
   },
   {
    "duration": 22,
    "start_time": "2023-04-17T07:21:21.275Z"
   },
   {
    "duration": 34,
    "start_time": "2023-04-17T07:21:21.299Z"
   },
   {
    "duration": 73,
    "start_time": "2023-04-17T07:21:21.342Z"
   },
   {
    "duration": 5,
    "start_time": "2023-04-17T07:21:21.417Z"
   },
   {
    "duration": 61,
    "start_time": "2023-04-17T07:21:21.424Z"
   },
   {
    "duration": 19,
    "start_time": "2023-04-17T07:21:21.487Z"
   },
   {
    "duration": 99,
    "start_time": "2023-04-17T07:21:21.508Z"
   },
   {
    "duration": 7,
    "start_time": "2023-04-17T07:21:21.608Z"
   },
   {
    "duration": 80,
    "start_time": "2023-04-17T07:21:21.617Z"
   },
   {
    "duration": 9,
    "start_time": "2023-04-17T07:21:21.699Z"
   },
   {
    "duration": 7,
    "start_time": "2023-04-17T07:21:21.710Z"
   },
   {
    "duration": 472,
    "start_time": "2023-04-17T07:22:10.634Z"
   },
   {
    "duration": 175,
    "start_time": "2023-04-17T07:22:18.120Z"
   },
   {
    "duration": 13,
    "start_time": "2023-04-17T07:22:26.157Z"
   },
   {
    "duration": 6,
    "start_time": "2023-04-17T07:22:42.876Z"
   },
   {
    "duration": 261,
    "start_time": "2023-04-17T07:23:09.621Z"
   },
   {
    "duration": 14,
    "start_time": "2023-04-17T07:23:13.666Z"
   },
   {
    "duration": 6,
    "start_time": "2023-04-17T07:35:19.679Z"
   },
   {
    "duration": 4,
    "start_time": "2023-04-17T07:45:26.729Z"
   },
   {
    "duration": 3,
    "start_time": "2023-04-17T07:45:31.223Z"
   },
   {
    "duration": 20,
    "start_time": "2023-04-17T07:46:55.858Z"
   },
   {
    "duration": 23,
    "start_time": "2023-04-17T07:47:06.856Z"
   },
   {
    "duration": 25,
    "start_time": "2023-04-17T07:47:54.059Z"
   },
   {
    "duration": 81,
    "start_time": "2023-04-17T07:48:03.825Z"
   },
   {
    "duration": 15,
    "start_time": "2023-04-17T07:48:49.022Z"
   },
   {
    "duration": 156,
    "start_time": "2023-04-17T07:49:23.262Z"
   },
   {
    "duration": 22,
    "start_time": "2023-04-17T07:49:43.418Z"
   },
   {
    "duration": 14,
    "start_time": "2023-04-17T07:50:07.727Z"
   },
   {
    "duration": 14,
    "start_time": "2023-04-17T07:51:27.231Z"
   },
   {
    "duration": 24,
    "start_time": "2023-04-17T07:51:43.823Z"
   },
   {
    "duration": 11,
    "start_time": "2023-04-17T07:52:15.100Z"
   },
   {
    "duration": 7,
    "start_time": "2023-04-17T07:52:32.623Z"
   },
   {
    "duration": 12,
    "start_time": "2023-04-17T07:52:41.240Z"
   },
   {
    "duration": 19,
    "start_time": "2023-04-17T07:53:01.033Z"
   },
   {
    "duration": 26,
    "start_time": "2023-04-17T07:53:13.627Z"
   },
   {
    "duration": 86,
    "start_time": "2023-04-17T07:53:51.964Z"
   },
   {
    "duration": 18,
    "start_time": "2023-04-17T07:54:16.039Z"
   },
   {
    "duration": 127,
    "start_time": "2023-04-17T07:54:42.837Z"
   },
   {
    "duration": 1717,
    "start_time": "2023-04-17T07:54:56.237Z"
   },
   {
    "duration": 29,
    "start_time": "2023-04-17T07:55:39.860Z"
   },
   {
    "duration": 170,
    "start_time": "2023-04-17T07:55:42.748Z"
   },
   {
    "duration": 20,
    "start_time": "2023-04-17T07:55:45.347Z"
   },
   {
    "duration": 1999,
    "start_time": "2023-04-17T07:56:21.419Z"
   },
   {
    "duration": 200,
    "start_time": "2023-04-17T07:56:47.890Z"
   },
   {
    "duration": 122,
    "start_time": "2023-04-17T07:57:02.332Z"
   },
   {
    "duration": 235,
    "start_time": "2023-04-17T07:58:02.166Z"
   },
   {
    "duration": 2455,
    "start_time": "2023-04-17T07:58:07.615Z"
   },
   {
    "duration": 2963,
    "start_time": "2023-04-17T07:58:40.685Z"
   },
   {
    "duration": 2510,
    "start_time": "2023-04-17T08:01:47.757Z"
   },
   {
    "duration": 16,
    "start_time": "2023-04-17T08:02:16.164Z"
   },
   {
    "duration": 3242,
    "start_time": "2023-04-17T08:10:42.873Z"
   },
   {
    "duration": 2782,
    "start_time": "2023-04-17T08:11:19.834Z"
   },
   {
    "duration": 42,
    "start_time": "2023-04-17T08:12:22.720Z"
   },
   {
    "duration": 30,
    "start_time": "2023-04-17T08:12:54.316Z"
   },
   {
    "duration": 37,
    "start_time": "2023-04-17T08:20:54.116Z"
   },
   {
    "duration": 32,
    "start_time": "2023-04-17T08:21:20.428Z"
   },
   {
    "duration": 29,
    "start_time": "2023-04-17T08:23:10.824Z"
   },
   {
    "duration": 83,
    "start_time": "2023-04-17T08:23:55.866Z"
   },
   {
    "duration": 828,
    "start_time": "2023-04-17T08:23:59.760Z"
   },
   {
    "duration": 168,
    "start_time": "2023-04-17T08:25:36.655Z"
   },
   {
    "duration": 8,
    "start_time": "2023-04-17T08:29:00.811Z"
   },
   {
    "duration": 9,
    "start_time": "2023-04-17T08:29:10.764Z"
   },
   {
    "duration": 10,
    "start_time": "2023-04-17T08:29:27.865Z"
   },
   {
    "duration": 29,
    "start_time": "2023-04-17T08:33:45.252Z"
   },
   {
    "duration": 14,
    "start_time": "2023-04-17T08:34:27.962Z"
   },
   {
    "duration": 133,
    "start_time": "2023-04-17T08:59:34.091Z"
   },
   {
    "duration": 165,
    "start_time": "2023-04-17T09:04:41.832Z"
   },
   {
    "duration": 7,
    "start_time": "2023-04-17T09:07:55.267Z"
   },
   {
    "duration": 505,
    "start_time": "2023-04-17T09:08:26.944Z"
   },
   {
    "duration": 22,
    "start_time": "2023-04-17T09:08:27.451Z"
   },
   {
    "duration": 25,
    "start_time": "2023-04-17T09:08:27.475Z"
   },
   {
    "duration": 13,
    "start_time": "2023-04-17T09:08:27.502Z"
   },
   {
    "duration": 56,
    "start_time": "2023-04-17T09:08:27.516Z"
   },
   {
    "duration": 11,
    "start_time": "2023-04-17T09:08:27.573Z"
   },
   {
    "duration": 16,
    "start_time": "2023-04-17T09:08:27.585Z"
   },
   {
    "duration": 25,
    "start_time": "2023-04-17T09:08:27.602Z"
   },
   {
    "duration": 28,
    "start_time": "2023-04-17T09:08:27.629Z"
   },
   {
    "duration": 4,
    "start_time": "2023-04-17T09:08:27.661Z"
   },
   {
    "duration": 36,
    "start_time": "2023-04-17T09:08:27.666Z"
   },
   {
    "duration": 10,
    "start_time": "2023-04-17T09:08:27.704Z"
   },
   {
    "duration": 14,
    "start_time": "2023-04-17T09:08:27.715Z"
   },
   {
    "duration": 31,
    "start_time": "2023-04-17T09:08:27.731Z"
   },
   {
    "duration": 42,
    "start_time": "2023-04-17T09:08:27.764Z"
   },
   {
    "duration": 17,
    "start_time": "2023-04-17T09:08:27.807Z"
   },
   {
    "duration": 5,
    "start_time": "2023-04-17T09:08:27.825Z"
   },
   {
    "duration": 38,
    "start_time": "2023-04-17T09:08:27.832Z"
   },
   {
    "duration": 11,
    "start_time": "2023-04-17T09:08:27.871Z"
   },
   {
    "duration": 10,
    "start_time": "2023-04-17T09:08:27.884Z"
   },
   {
    "duration": 21,
    "start_time": "2023-04-17T09:08:27.895Z"
   },
   {
    "duration": 14,
    "start_time": "2023-04-17T09:08:27.917Z"
   },
   {
    "duration": 19,
    "start_time": "2023-04-17T09:08:27.932Z"
   },
   {
    "duration": 25,
    "start_time": "2023-04-17T09:08:27.953Z"
   },
   {
    "duration": 61,
    "start_time": "2023-04-17T09:08:27.979Z"
   },
   {
    "duration": 39,
    "start_time": "2023-04-17T09:08:28.042Z"
   },
   {
    "duration": 10,
    "start_time": "2023-04-17T09:08:28.084Z"
   },
   {
    "duration": 54,
    "start_time": "2023-04-17T09:08:28.098Z"
   },
   {
    "duration": 23,
    "start_time": "2023-04-17T09:08:28.154Z"
   },
   {
    "duration": 7,
    "start_time": "2023-04-17T09:08:28.179Z"
   },
   {
    "duration": 39,
    "start_time": "2023-04-17T09:08:28.187Z"
   },
   {
    "duration": 9,
    "start_time": "2023-04-17T09:08:28.228Z"
   },
   {
    "duration": 29,
    "start_time": "2023-04-17T09:08:28.238Z"
   },
   {
    "duration": 31,
    "start_time": "2023-04-17T09:08:28.269Z"
   },
   {
    "duration": 6,
    "start_time": "2023-04-17T09:08:28.302Z"
   },
   {
    "duration": 28,
    "start_time": "2023-04-17T09:08:28.310Z"
   },
   {
    "duration": 30,
    "start_time": "2023-04-17T09:08:28.341Z"
   },
   {
    "duration": 6,
    "start_time": "2023-04-17T09:11:14.587Z"
   },
   {
    "duration": 6,
    "start_time": "2023-04-17T09:11:38.183Z"
   },
   {
    "duration": 461,
    "start_time": "2023-04-17T09:11:46.459Z"
   },
   {
    "duration": 29,
    "start_time": "2023-04-17T09:11:46.922Z"
   },
   {
    "duration": 25,
    "start_time": "2023-04-17T09:11:46.952Z"
   },
   {
    "duration": 16,
    "start_time": "2023-04-17T09:11:46.979Z"
   },
   {
    "duration": 11,
    "start_time": "2023-04-17T09:11:46.997Z"
   },
   {
    "duration": 45,
    "start_time": "2023-04-17T09:11:47.010Z"
   },
   {
    "duration": 4,
    "start_time": "2023-04-17T09:11:47.057Z"
   },
   {
    "duration": 11,
    "start_time": "2023-04-17T09:11:47.062Z"
   },
   {
    "duration": 12,
    "start_time": "2023-04-17T09:11:47.075Z"
   },
   {
    "duration": 11,
    "start_time": "2023-04-17T09:11:47.092Z"
   },
   {
    "duration": 18,
    "start_time": "2023-04-17T09:11:47.105Z"
   },
   {
    "duration": 49,
    "start_time": "2023-04-17T09:11:47.124Z"
   },
   {
    "duration": 22,
    "start_time": "2023-04-17T09:11:47.175Z"
   },
   {
    "duration": 4,
    "start_time": "2023-04-17T09:11:47.199Z"
   },
   {
    "duration": 12,
    "start_time": "2023-04-17T09:11:47.204Z"
   },
   {
    "duration": 41,
    "start_time": "2023-04-17T09:11:47.218Z"
   },
   {
    "duration": 25,
    "start_time": "2023-04-17T09:11:47.262Z"
   },
   {
    "duration": 4,
    "start_time": "2023-04-17T09:11:47.289Z"
   },
   {
    "duration": 25,
    "start_time": "2023-04-17T09:11:47.294Z"
   },
   {
    "duration": 7,
    "start_time": "2023-04-17T09:11:47.320Z"
   },
   {
    "duration": 28,
    "start_time": "2023-04-17T09:11:47.328Z"
   },
   {
    "duration": 12,
    "start_time": "2023-04-17T09:11:47.358Z"
   },
   {
    "duration": 11,
    "start_time": "2023-04-17T09:11:47.372Z"
   },
   {
    "duration": 6,
    "start_time": "2023-04-17T09:11:47.385Z"
   },
   {
    "duration": 10,
    "start_time": "2023-04-17T09:11:47.393Z"
   },
   {
    "duration": 38,
    "start_time": "2023-04-17T09:11:47.405Z"
   },
   {
    "duration": 36,
    "start_time": "2023-04-17T09:11:47.445Z"
   },
   {
    "duration": 17,
    "start_time": "2023-04-17T09:11:47.484Z"
   },
   {
    "duration": 30,
    "start_time": "2023-04-17T09:11:47.502Z"
   },
   {
    "duration": 52,
    "start_time": "2023-04-17T09:11:47.535Z"
   },
   {
    "duration": 8,
    "start_time": "2023-04-17T09:11:47.589Z"
   },
   {
    "duration": 33,
    "start_time": "2023-04-17T09:11:47.599Z"
   },
   {
    "duration": 13,
    "start_time": "2023-04-17T09:11:47.635Z"
   },
   {
    "duration": 38,
    "start_time": "2023-04-17T09:11:47.649Z"
   },
   {
    "duration": 21,
    "start_time": "2023-04-17T09:11:47.689Z"
   },
   {
    "duration": 6,
    "start_time": "2023-04-17T09:11:47.711Z"
   },
   {
    "duration": 40,
    "start_time": "2023-04-17T09:11:47.719Z"
   },
   {
    "duration": 7,
    "start_time": "2023-04-17T09:11:47.760Z"
   },
   {
    "duration": 11,
    "start_time": "2023-04-17T09:12:31.856Z"
   },
   {
    "duration": 73,
    "start_time": "2023-04-17T09:12:57.107Z"
   },
   {
    "duration": 15,
    "start_time": "2023-04-17T09:13:08.352Z"
   },
   {
    "duration": 9,
    "start_time": "2023-04-17T09:13:28.478Z"
   },
   {
    "duration": 10,
    "start_time": "2023-04-17T09:13:37.201Z"
   },
   {
    "duration": 14,
    "start_time": "2023-04-17T09:15:05.436Z"
   },
   {
    "duration": 16,
    "start_time": "2023-04-17T09:15:10.533Z"
   },
   {
    "duration": 8,
    "start_time": "2023-04-17T09:15:21.600Z"
   },
   {
    "duration": 8,
    "start_time": "2023-04-17T09:17:45.667Z"
   },
   {
    "duration": 11,
    "start_time": "2023-04-17T09:18:05.062Z"
   },
   {
    "duration": 12,
    "start_time": "2023-04-17T09:18:27.365Z"
   },
   {
    "duration": 15,
    "start_time": "2023-04-17T09:19:13.945Z"
   },
   {
    "duration": 9,
    "start_time": "2023-04-17T09:19:19.000Z"
   },
   {
    "duration": 15,
    "start_time": "2023-04-17T09:19:42.767Z"
   },
   {
    "duration": 13,
    "start_time": "2023-04-17T09:19:48.398Z"
   },
   {
    "duration": 3034,
    "start_time": "2023-04-17T09:20:04.180Z"
   },
   {
    "duration": 2372,
    "start_time": "2023-04-17T09:20:07.857Z"
   },
   {
    "duration": 2824,
    "start_time": "2023-04-17T09:20:24.761Z"
   },
   {
    "duration": 14,
    "start_time": "2023-04-17T09:20:30.915Z"
   },
   {
    "duration": 6,
    "start_time": "2023-04-17T09:23:40.688Z"
   },
   {
    "duration": 2145,
    "start_time": "2023-04-17T09:23:45.684Z"
   },
   {
    "duration": 1907,
    "start_time": "2023-04-17T09:23:49.787Z"
   },
   {
    "duration": 746,
    "start_time": "2023-04-17T09:23:57.363Z"
   },
   {
    "duration": 1322,
    "start_time": "2023-04-17T09:24:03.476Z"
   },
   {
    "duration": 1703,
    "start_time": "2023-04-17T09:24:51.294Z"
   },
   {
    "duration": 5,
    "start_time": "2023-04-17T09:24:58.261Z"
   },
   {
    "duration": 0,
    "start_time": "2023-04-17T09:25:04.025Z"
   },
   {
    "duration": 2251,
    "start_time": "2023-04-17T09:25:10.131Z"
   },
   {
    "duration": 3452,
    "start_time": "2023-04-17T09:26:21.364Z"
   },
   {
    "duration": 3347,
    "start_time": "2023-04-17T09:26:52.183Z"
   },
   {
    "duration": 495,
    "start_time": "2023-04-17T09:27:09.166Z"
   },
   {
    "duration": 22,
    "start_time": "2023-04-17T09:27:09.662Z"
   },
   {
    "duration": 21,
    "start_time": "2023-04-17T09:27:09.686Z"
   },
   {
    "duration": 32,
    "start_time": "2023-04-17T09:27:09.709Z"
   },
   {
    "duration": 5,
    "start_time": "2023-04-17T09:27:09.743Z"
   },
   {
    "duration": 57,
    "start_time": "2023-04-17T09:27:09.750Z"
   },
   {
    "duration": 4,
    "start_time": "2023-04-17T09:27:09.809Z"
   },
   {
    "duration": 45,
    "start_time": "2023-04-17T09:27:09.814Z"
   },
   {
    "duration": 8,
    "start_time": "2023-04-17T09:27:09.861Z"
   },
   {
    "duration": 30,
    "start_time": "2023-04-17T09:27:09.873Z"
   },
   {
    "duration": 12,
    "start_time": "2023-04-17T09:27:09.905Z"
   },
   {
    "duration": 51,
    "start_time": "2023-04-17T09:27:09.919Z"
   },
   {
    "duration": 9,
    "start_time": "2023-04-17T09:27:09.972Z"
   },
   {
    "duration": 25,
    "start_time": "2023-04-17T09:27:09.983Z"
   },
   {
    "duration": 31,
    "start_time": "2023-04-17T09:27:10.010Z"
   },
   {
    "duration": 40,
    "start_time": "2023-04-17T09:27:10.043Z"
   },
   {
    "duration": 17,
    "start_time": "2023-04-17T09:27:10.085Z"
   },
   {
    "duration": 4,
    "start_time": "2023-04-17T09:27:10.104Z"
   },
   {
    "duration": 16,
    "start_time": "2023-04-17T09:27:10.110Z"
   },
   {
    "duration": 13,
    "start_time": "2023-04-17T09:27:10.128Z"
   },
   {
    "duration": 17,
    "start_time": "2023-04-17T09:27:10.143Z"
   },
   {
    "duration": 26,
    "start_time": "2023-04-17T09:27:10.161Z"
   },
   {
    "duration": 10,
    "start_time": "2023-04-17T09:27:10.189Z"
   },
   {
    "duration": 22,
    "start_time": "2023-04-17T09:27:10.201Z"
   },
   {
    "duration": 34,
    "start_time": "2023-04-17T09:27:10.224Z"
   },
   {
    "duration": 41,
    "start_time": "2023-04-17T09:27:10.259Z"
   },
   {
    "duration": 27,
    "start_time": "2023-04-17T09:27:10.302Z"
   },
   {
    "duration": 13,
    "start_time": "2023-04-17T09:27:10.333Z"
   },
   {
    "duration": 60,
    "start_time": "2023-04-17T09:27:10.348Z"
   },
   {
    "duration": 26,
    "start_time": "2023-04-17T09:27:10.411Z"
   },
   {
    "duration": 9,
    "start_time": "2023-04-17T09:27:10.440Z"
   },
   {
    "duration": 32,
    "start_time": "2023-04-17T09:27:10.450Z"
   },
   {
    "duration": 6,
    "start_time": "2023-04-17T09:27:10.483Z"
   },
   {
    "duration": 31,
    "start_time": "2023-04-17T09:27:10.491Z"
   },
   {
    "duration": 35,
    "start_time": "2023-04-17T09:27:10.524Z"
   },
   {
    "duration": 7,
    "start_time": "2023-04-17T09:27:10.560Z"
   },
   {
    "duration": 11,
    "start_time": "2023-04-17T09:27:10.568Z"
   },
   {
    "duration": 12,
    "start_time": "2023-04-17T09:27:10.581Z"
   },
   {
    "duration": 35,
    "start_time": "2023-04-17T09:27:41.356Z"
   },
   {
    "duration": 6,
    "start_time": "2023-04-17T09:28:00.379Z"
   },
   {
    "duration": 67,
    "start_time": "2023-04-17T09:28:13.358Z"
   },
   {
    "duration": 5,
    "start_time": "2023-04-17T09:28:37.514Z"
   },
   {
    "duration": 18,
    "start_time": "2023-04-17T09:28:40.429Z"
   },
   {
    "duration": 7,
    "start_time": "2023-04-17T09:29:25.611Z"
   },
   {
    "duration": 9,
    "start_time": "2023-04-17T09:30:16.276Z"
   },
   {
    "duration": 14,
    "start_time": "2023-04-17T09:30:23.273Z"
   },
   {
    "duration": 13,
    "start_time": "2023-04-17T09:31:02.393Z"
   },
   {
    "duration": 563,
    "start_time": "2023-04-17T09:31:14.692Z"
   },
   {
    "duration": 30,
    "start_time": "2023-04-17T09:31:15.257Z"
   },
   {
    "duration": 19,
    "start_time": "2023-04-17T09:31:15.290Z"
   },
   {
    "duration": 32,
    "start_time": "2023-04-17T09:31:15.311Z"
   },
   {
    "duration": 47,
    "start_time": "2023-04-17T09:31:15.345Z"
   },
   {
    "duration": 49,
    "start_time": "2023-04-17T09:31:15.394Z"
   },
   {
    "duration": 4,
    "start_time": "2023-04-17T09:31:15.445Z"
   },
   {
    "duration": 49,
    "start_time": "2023-04-17T09:31:15.451Z"
   },
   {
    "duration": 6,
    "start_time": "2023-04-17T09:31:15.502Z"
   },
   {
    "duration": 7,
    "start_time": "2023-04-17T09:31:15.512Z"
   },
   {
    "duration": 17,
    "start_time": "2023-04-17T09:31:15.521Z"
   },
   {
    "duration": 68,
    "start_time": "2023-04-17T09:31:15.546Z"
   },
   {
    "duration": 10,
    "start_time": "2023-04-17T09:31:15.615Z"
   },
   {
    "duration": 12,
    "start_time": "2023-04-17T09:31:15.626Z"
   },
   {
    "duration": 35,
    "start_time": "2023-04-17T09:31:15.643Z"
   },
   {
    "duration": 28,
    "start_time": "2023-04-17T09:31:15.680Z"
   },
   {
    "duration": 16,
    "start_time": "2023-04-17T09:31:15.709Z"
   },
   {
    "duration": 38,
    "start_time": "2023-04-17T09:31:15.727Z"
   },
   {
    "duration": 42,
    "start_time": "2023-04-17T09:31:15.767Z"
   },
   {
    "duration": 18,
    "start_time": "2023-04-17T09:31:15.811Z"
   },
   {
    "duration": 47,
    "start_time": "2023-04-17T09:31:15.831Z"
   },
   {
    "duration": 17,
    "start_time": "2023-04-17T09:31:15.879Z"
   },
   {
    "duration": 18,
    "start_time": "2023-04-17T09:31:15.898Z"
   },
   {
    "duration": 57,
    "start_time": "2023-04-17T09:31:15.918Z"
   },
   {
    "duration": 20,
    "start_time": "2023-04-17T09:31:15.977Z"
   },
   {
    "duration": 34,
    "start_time": "2023-04-17T09:31:15.999Z"
   },
   {
    "duration": 33,
    "start_time": "2023-04-17T09:31:16.037Z"
   },
   {
    "duration": 18,
    "start_time": "2023-04-17T09:31:16.074Z"
   },
   {
    "duration": 51,
    "start_time": "2023-04-17T09:31:16.093Z"
   },
   {
    "duration": 47,
    "start_time": "2023-04-17T09:31:16.146Z"
   },
   {
    "duration": 6,
    "start_time": "2023-04-17T09:31:16.194Z"
   },
   {
    "duration": 28,
    "start_time": "2023-04-17T09:31:16.202Z"
   },
   {
    "duration": 13,
    "start_time": "2023-04-17T09:31:16.232Z"
   },
   {
    "duration": 64,
    "start_time": "2023-04-17T09:31:16.246Z"
   },
   {
    "duration": 33,
    "start_time": "2023-04-17T09:31:16.311Z"
   },
   {
    "duration": 6,
    "start_time": "2023-04-17T09:31:16.345Z"
   },
   {
    "duration": 22,
    "start_time": "2023-04-17T09:31:16.353Z"
   },
   {
    "duration": 11,
    "start_time": "2023-04-17T09:31:16.377Z"
   },
   {
    "duration": 83,
    "start_time": "2023-04-17T09:32:05.014Z"
   },
   {
    "duration": 18,
    "start_time": "2023-04-17T09:32:08.477Z"
   },
   {
    "duration": 214,
    "start_time": "2023-04-17T09:32:11.773Z"
   },
   {
    "duration": 256,
    "start_time": "2023-04-17T09:32:16.462Z"
   },
   {
    "duration": 8,
    "start_time": "2023-04-17T09:32:21.660Z"
   },
   {
    "duration": 10,
    "start_time": "2023-04-17T09:32:27.761Z"
   },
   {
    "duration": 4,
    "start_time": "2023-04-17T09:32:31.328Z"
   },
   {
    "duration": 6,
    "start_time": "2023-04-17T09:32:33.400Z"
   },
   {
    "duration": 545,
    "start_time": "2023-04-17T09:33:04.887Z"
   },
   {
    "duration": 40,
    "start_time": "2023-04-17T09:33:05.436Z"
   },
   {
    "duration": 32,
    "start_time": "2023-04-17T09:33:05.478Z"
   },
   {
    "duration": 10,
    "start_time": "2023-04-17T09:33:05.512Z"
   },
   {
    "duration": 53,
    "start_time": "2023-04-17T09:33:05.524Z"
   },
   {
    "duration": 61,
    "start_time": "2023-04-17T09:33:05.578Z"
   },
   {
    "duration": 4,
    "start_time": "2023-04-17T09:33:05.641Z"
   },
   {
    "duration": 46,
    "start_time": "2023-04-17T09:33:05.646Z"
   },
   {
    "duration": 28,
    "start_time": "2023-04-17T09:33:05.694Z"
   },
   {
    "duration": 18,
    "start_time": "2023-04-17T09:33:05.725Z"
   },
   {
    "duration": 37,
    "start_time": "2023-04-17T09:33:05.744Z"
   },
   {
    "duration": 60,
    "start_time": "2023-04-17T09:33:05.783Z"
   },
   {
    "duration": 20,
    "start_time": "2023-04-17T09:33:05.845Z"
   },
   {
    "duration": 25,
    "start_time": "2023-04-17T09:33:05.867Z"
   },
   {
    "duration": 34,
    "start_time": "2023-04-17T09:33:05.893Z"
   },
   {
    "duration": 59,
    "start_time": "2023-04-17T09:33:05.928Z"
   },
   {
    "duration": 28,
    "start_time": "2023-04-17T09:33:05.989Z"
   },
   {
    "duration": 42,
    "start_time": "2023-04-17T09:33:06.018Z"
   },
   {
    "duration": 62,
    "start_time": "2023-04-17T09:33:06.062Z"
   },
   {
    "duration": 51,
    "start_time": "2023-04-17T09:33:06.126Z"
   },
   {
    "duration": 39,
    "start_time": "2023-04-17T09:33:06.179Z"
   },
   {
    "duration": 85,
    "start_time": "2023-04-17T09:33:06.219Z"
   },
   {
    "duration": 58,
    "start_time": "2023-04-17T09:33:06.305Z"
   },
   {
    "duration": 16,
    "start_time": "2023-04-17T09:33:06.365Z"
   },
   {
    "duration": 38,
    "start_time": "2023-04-17T09:33:06.382Z"
   },
   {
    "duration": 104,
    "start_time": "2023-04-17T09:33:06.422Z"
   },
   {
    "duration": 32,
    "start_time": "2023-04-17T09:33:06.527Z"
   },
   {
    "duration": 23,
    "start_time": "2023-04-17T09:33:06.565Z"
   },
   {
    "duration": 35,
    "start_time": "2023-04-17T09:33:06.589Z"
   },
   {
    "duration": 72,
    "start_time": "2023-04-17T09:33:06.625Z"
   },
   {
    "duration": 30,
    "start_time": "2023-04-17T09:33:06.698Z"
   },
   {
    "duration": 110,
    "start_time": "2023-04-17T09:33:06.729Z"
   },
   {
    "duration": 17,
    "start_time": "2023-04-17T09:33:06.845Z"
   },
   {
    "duration": 40,
    "start_time": "2023-04-17T09:33:06.866Z"
   },
   {
    "duration": 21,
    "start_time": "2023-04-17T09:33:06.908Z"
   },
   {
    "duration": 49,
    "start_time": "2023-04-17T09:33:06.931Z"
   },
   {
    "duration": 23,
    "start_time": "2023-04-17T09:33:06.981Z"
   },
   {
    "duration": 58,
    "start_time": "2023-04-17T09:33:07.005Z"
   },
   {
    "duration": 8,
    "start_time": "2023-04-17T09:36:24.505Z"
   },
   {
    "duration": 11,
    "start_time": "2023-04-17T09:36:35.272Z"
   },
   {
    "duration": 502,
    "start_time": "2023-04-17T09:36:41.821Z"
   },
   {
    "duration": 29,
    "start_time": "2023-04-17T09:36:42.325Z"
   },
   {
    "duration": 44,
    "start_time": "2023-04-17T09:36:42.356Z"
   },
   {
    "duration": 15,
    "start_time": "2023-04-17T09:36:42.403Z"
   },
   {
    "duration": 62,
    "start_time": "2023-04-17T09:36:42.420Z"
   },
   {
    "duration": 40,
    "start_time": "2023-04-17T09:36:42.484Z"
   },
   {
    "duration": 4,
    "start_time": "2023-04-17T09:36:42.526Z"
   },
   {
    "duration": 57,
    "start_time": "2023-04-17T09:36:42.531Z"
   },
   {
    "duration": 8,
    "start_time": "2023-04-17T09:36:42.590Z"
   },
   {
    "duration": 7,
    "start_time": "2023-04-17T09:36:42.603Z"
   },
   {
    "duration": 11,
    "start_time": "2023-04-17T09:36:42.612Z"
   },
   {
    "duration": 94,
    "start_time": "2023-04-17T09:36:42.625Z"
   },
   {
    "duration": 10,
    "start_time": "2023-04-17T09:36:42.721Z"
   },
   {
    "duration": 43,
    "start_time": "2023-04-17T09:36:42.733Z"
   },
   {
    "duration": 17,
    "start_time": "2023-04-17T09:36:42.778Z"
   },
   {
    "duration": 29,
    "start_time": "2023-04-17T09:36:42.797Z"
   },
   {
    "duration": 30,
    "start_time": "2023-04-17T09:36:42.828Z"
   },
   {
    "duration": 26,
    "start_time": "2023-04-17T09:36:42.859Z"
   },
   {
    "duration": 13,
    "start_time": "2023-04-17T09:36:42.887Z"
   },
   {
    "duration": 13,
    "start_time": "2023-04-17T09:36:42.901Z"
   },
   {
    "duration": 12,
    "start_time": "2023-04-17T09:36:42.917Z"
   },
   {
    "duration": 54,
    "start_time": "2023-04-17T09:36:42.931Z"
   },
   {
    "duration": 17,
    "start_time": "2023-04-17T09:36:42.988Z"
   },
   {
    "duration": 27,
    "start_time": "2023-04-17T09:36:43.006Z"
   },
   {
    "duration": 33,
    "start_time": "2023-04-17T09:36:43.039Z"
   },
   {
    "duration": 48,
    "start_time": "2023-04-17T09:36:43.074Z"
   },
   {
    "duration": 30,
    "start_time": "2023-04-17T09:36:43.124Z"
   },
   {
    "duration": 26,
    "start_time": "2023-04-17T09:36:43.158Z"
   },
   {
    "duration": 40,
    "start_time": "2023-04-17T09:36:43.186Z"
   },
   {
    "duration": 28,
    "start_time": "2023-04-17T09:36:43.228Z"
   },
   {
    "duration": 32,
    "start_time": "2023-04-17T09:36:43.257Z"
   },
   {
    "duration": 22,
    "start_time": "2023-04-17T09:36:43.291Z"
   },
   {
    "duration": 7,
    "start_time": "2023-04-17T09:36:43.315Z"
   },
   {
    "duration": 26,
    "start_time": "2023-04-17T09:36:43.323Z"
   },
   {
    "duration": 51,
    "start_time": "2023-04-17T09:36:43.351Z"
   },
   {
    "duration": 6,
    "start_time": "2023-04-17T09:36:43.404Z"
   },
   {
    "duration": 14,
    "start_time": "2023-04-17T09:36:43.412Z"
   },
   {
    "duration": 47,
    "start_time": "2023-04-17T09:36:43.428Z"
   },
   {
    "duration": 86,
    "start_time": "2023-04-17T09:37:36.306Z"
   },
   {
    "duration": 2842,
    "start_time": "2023-04-17T09:37:51.117Z"
   },
   {
    "duration": 10,
    "start_time": "2023-04-17T09:37:54.489Z"
   },
   {
    "duration": 489,
    "start_time": "2023-04-17T09:38:06.492Z"
   },
   {
    "duration": 25,
    "start_time": "2023-04-17T09:38:06.983Z"
   },
   {
    "duration": 29,
    "start_time": "2023-04-17T09:38:07.010Z"
   },
   {
    "duration": 22,
    "start_time": "2023-04-17T09:38:07.041Z"
   },
   {
    "duration": 58,
    "start_time": "2023-04-17T09:38:07.064Z"
   },
   {
    "duration": 96,
    "start_time": "2023-04-17T09:38:07.124Z"
   },
   {
    "duration": 3,
    "start_time": "2023-04-17T09:38:07.222Z"
   },
   {
    "duration": 68,
    "start_time": "2023-04-17T09:38:07.226Z"
   },
   {
    "duration": 9,
    "start_time": "2023-04-17T09:38:07.297Z"
   },
   {
    "duration": 25,
    "start_time": "2023-04-17T09:38:07.309Z"
   },
   {
    "duration": 34,
    "start_time": "2023-04-17T09:38:07.338Z"
   },
   {
    "duration": 72,
    "start_time": "2023-04-17T09:38:07.373Z"
   },
   {
    "duration": 20,
    "start_time": "2023-04-17T09:38:07.447Z"
   },
   {
    "duration": 24,
    "start_time": "2023-04-17T09:38:07.469Z"
   },
   {
    "duration": 45,
    "start_time": "2023-04-17T09:38:07.494Z"
   },
   {
    "duration": 53,
    "start_time": "2023-04-17T09:38:07.541Z"
   },
   {
    "duration": 28,
    "start_time": "2023-04-17T09:38:07.596Z"
   },
   {
    "duration": 32,
    "start_time": "2023-04-17T09:38:07.626Z"
   },
   {
    "duration": 28,
    "start_time": "2023-04-17T09:38:07.664Z"
   },
   {
    "duration": 12,
    "start_time": "2023-04-17T09:38:07.694Z"
   },
   {
    "duration": 8,
    "start_time": "2023-04-17T09:38:07.707Z"
   },
   {
    "duration": 56,
    "start_time": "2023-04-17T09:38:07.716Z"
   },
   {
    "duration": 40,
    "start_time": "2023-04-17T09:38:07.773Z"
   },
   {
    "duration": 49,
    "start_time": "2023-04-17T09:38:07.814Z"
   },
   {
    "duration": 19,
    "start_time": "2023-04-17T09:38:07.865Z"
   },
   {
    "duration": 32,
    "start_time": "2023-04-17T09:38:07.886Z"
   },
   {
    "duration": 78,
    "start_time": "2023-04-17T09:38:07.919Z"
   },
   {
    "duration": 20,
    "start_time": "2023-04-17T09:38:08.001Z"
   },
   {
    "duration": 32,
    "start_time": "2023-04-17T09:38:08.023Z"
   },
   {
    "duration": 97,
    "start_time": "2023-04-17T09:38:08.056Z"
   },
   {
    "duration": 31,
    "start_time": "2023-04-17T09:38:08.155Z"
   },
   {
    "duration": 34,
    "start_time": "2023-04-17T09:38:08.188Z"
   },
   {
    "duration": 9,
    "start_time": "2023-04-17T09:38:08.223Z"
   },
   {
    "duration": 88,
    "start_time": "2023-04-17T09:38:08.233Z"
   },
   {
    "duration": 31,
    "start_time": "2023-04-17T09:38:08.323Z"
   },
   {
    "duration": 45,
    "start_time": "2023-04-17T09:38:08.355Z"
   },
   {
    "duration": 8,
    "start_time": "2023-04-17T09:38:08.402Z"
   },
   {
    "duration": 21,
    "start_time": "2023-04-17T09:38:08.411Z"
   },
   {
    "duration": 12,
    "start_time": "2023-04-17T09:39:02.207Z"
   },
   {
    "duration": 9,
    "start_time": "2023-04-17T09:39:07.904Z"
   },
   {
    "duration": 3,
    "start_time": "2023-04-17T09:39:12.085Z"
   },
   {
    "duration": 1983,
    "start_time": "2023-04-17T09:50:52.991Z"
   },
   {
    "duration": 2019,
    "start_time": "2023-04-17T09:51:36.521Z"
   },
   {
    "duration": 569,
    "start_time": "2023-04-17T09:51:45.053Z"
   },
   {
    "duration": 36,
    "start_time": "2023-04-17T09:51:45.624Z"
   },
   {
    "duration": 32,
    "start_time": "2023-04-17T09:51:45.663Z"
   },
   {
    "duration": 13,
    "start_time": "2023-04-17T09:51:45.696Z"
   },
   {
    "duration": 113,
    "start_time": "2023-04-17T09:51:45.712Z"
   },
   {
    "duration": 0,
    "start_time": "2023-04-17T09:51:45.827Z"
   },
   {
    "duration": 0,
    "start_time": "2023-04-17T09:51:45.830Z"
   },
   {
    "duration": 0,
    "start_time": "2023-04-17T09:51:45.831Z"
   },
   {
    "duration": 0,
    "start_time": "2023-04-17T09:51:45.832Z"
   },
   {
    "duration": 0,
    "start_time": "2023-04-17T09:51:45.833Z"
   },
   {
    "duration": 0,
    "start_time": "2023-04-17T09:51:45.835Z"
   },
   {
    "duration": 0,
    "start_time": "2023-04-17T09:51:45.836Z"
   },
   {
    "duration": 0,
    "start_time": "2023-04-17T09:51:45.838Z"
   },
   {
    "duration": 0,
    "start_time": "2023-04-17T09:51:45.839Z"
   },
   {
    "duration": 0,
    "start_time": "2023-04-17T09:51:45.845Z"
   },
   {
    "duration": 0,
    "start_time": "2023-04-17T09:51:45.846Z"
   },
   {
    "duration": 0,
    "start_time": "2023-04-17T09:51:45.852Z"
   },
   {
    "duration": 0,
    "start_time": "2023-04-17T09:51:45.857Z"
   },
   {
    "duration": 1,
    "start_time": "2023-04-17T09:51:45.858Z"
   },
   {
    "duration": 0,
    "start_time": "2023-04-17T09:51:45.859Z"
   },
   {
    "duration": 0,
    "start_time": "2023-04-17T09:51:45.860Z"
   },
   {
    "duration": 0,
    "start_time": "2023-04-17T09:51:45.861Z"
   },
   {
    "duration": 0,
    "start_time": "2023-04-17T09:51:45.862Z"
   },
   {
    "duration": 0,
    "start_time": "2023-04-17T09:51:45.863Z"
   },
   {
    "duration": 0,
    "start_time": "2023-04-17T09:51:45.868Z"
   },
   {
    "duration": 0,
    "start_time": "2023-04-17T09:51:45.869Z"
   },
   {
    "duration": 0,
    "start_time": "2023-04-17T09:51:45.871Z"
   },
   {
    "duration": 0,
    "start_time": "2023-04-17T09:51:45.875Z"
   },
   {
    "duration": 0,
    "start_time": "2023-04-17T09:51:45.876Z"
   },
   {
    "duration": 0,
    "start_time": "2023-04-17T09:51:45.876Z"
   },
   {
    "duration": 0,
    "start_time": "2023-04-17T09:51:45.877Z"
   },
   {
    "duration": 0,
    "start_time": "2023-04-17T09:51:45.878Z"
   },
   {
    "duration": 0,
    "start_time": "2023-04-17T09:51:45.879Z"
   },
   {
    "duration": 0,
    "start_time": "2023-04-17T09:51:45.880Z"
   },
   {
    "duration": 0,
    "start_time": "2023-04-17T09:51:45.881Z"
   },
   {
    "duration": 0,
    "start_time": "2023-04-17T09:51:45.883Z"
   },
   {
    "duration": 0,
    "start_time": "2023-04-17T09:51:45.885Z"
   },
   {
    "duration": 0,
    "start_time": "2023-04-17T09:51:45.885Z"
   },
   {
    "duration": 11,
    "start_time": "2023-04-17T09:52:03.122Z"
   },
   {
    "duration": 11,
    "start_time": "2023-04-17T09:52:40.825Z"
   },
   {
    "duration": 4,
    "start_time": "2023-04-17T09:53:04.062Z"
   },
   {
    "duration": 11,
    "start_time": "2023-04-17T09:53:21.017Z"
   },
   {
    "duration": 8,
    "start_time": "2023-04-17T09:53:25.816Z"
   },
   {
    "duration": 16,
    "start_time": "2023-04-17T09:53:34.989Z"
   },
   {
    "duration": 7,
    "start_time": "2023-04-17T09:54:06.281Z"
   },
   {
    "duration": 16,
    "start_time": "2023-04-17T09:54:11.161Z"
   },
   {
    "duration": 15,
    "start_time": "2023-04-17T09:54:26.130Z"
   },
   {
    "duration": 540,
    "start_time": "2023-04-17T09:55:12.993Z"
   },
   {
    "duration": 42,
    "start_time": "2023-04-17T09:55:13.535Z"
   },
   {
    "duration": 34,
    "start_time": "2023-04-17T09:55:13.579Z"
   },
   {
    "duration": 73,
    "start_time": "2023-04-17T09:55:13.615Z"
   },
   {
    "duration": 61,
    "start_time": "2023-04-17T09:55:13.690Z"
   },
   {
    "duration": 28,
    "start_time": "2023-04-17T09:55:13.753Z"
   },
   {
    "duration": 25,
    "start_time": "2023-04-17T09:55:13.783Z"
   },
   {
    "duration": 85,
    "start_time": "2023-04-17T09:55:13.810Z"
   },
   {
    "duration": 44,
    "start_time": "2023-04-17T09:55:13.897Z"
   },
   {
    "duration": 58,
    "start_time": "2023-04-17T09:55:13.947Z"
   },
   {
    "duration": 126,
    "start_time": "2023-04-17T09:55:14.007Z"
   },
   {
    "duration": 21,
    "start_time": "2023-04-17T09:55:14.143Z"
   },
   {
    "duration": 40,
    "start_time": "2023-04-17T09:55:14.166Z"
   },
   {
    "duration": 30,
    "start_time": "2023-04-17T09:55:14.208Z"
   },
   {
    "duration": 72,
    "start_time": "2023-04-17T09:55:14.242Z"
   },
   {
    "duration": 24,
    "start_time": "2023-04-17T09:55:14.315Z"
   },
   {
    "duration": 6,
    "start_time": "2023-04-17T09:55:14.341Z"
   },
   {
    "duration": 79,
    "start_time": "2023-04-17T09:55:14.348Z"
   },
   {
    "duration": 83,
    "start_time": "2023-04-17T09:55:14.429Z"
   },
   {
    "duration": 11,
    "start_time": "2023-04-17T09:55:14.514Z"
   },
   {
    "duration": 83,
    "start_time": "2023-04-17T09:55:14.528Z"
   },
   {
    "duration": 17,
    "start_time": "2023-04-17T09:55:14.613Z"
   },
   {
    "duration": 69,
    "start_time": "2023-04-17T09:55:14.632Z"
   },
   {
    "duration": 34,
    "start_time": "2023-04-17T09:55:14.703Z"
   },
   {
    "duration": 87,
    "start_time": "2023-04-17T09:55:14.739Z"
   },
   {
    "duration": 39,
    "start_time": "2023-04-17T09:55:14.828Z"
   },
   {
    "duration": 74,
    "start_time": "2023-04-17T09:55:14.869Z"
   },
   {
    "duration": 157,
    "start_time": "2023-04-17T09:55:14.948Z"
   },
   {
    "duration": 134,
    "start_time": "2023-04-17T09:55:15.108Z"
   },
   {
    "duration": 32,
    "start_time": "2023-04-17T09:55:15.244Z"
   },
   {
    "duration": 101,
    "start_time": "2023-04-17T09:55:15.278Z"
   },
   {
    "duration": 44,
    "start_time": "2023-04-17T09:55:15.384Z"
   },
   {
    "duration": 118,
    "start_time": "2023-04-17T09:55:15.430Z"
   },
   {
    "duration": 74,
    "start_time": "2023-04-17T09:55:15.550Z"
   },
   {
    "duration": 14,
    "start_time": "2023-04-17T09:55:15.626Z"
   },
   {
    "duration": 60,
    "start_time": "2023-04-17T09:55:15.642Z"
   },
   {
    "duration": 17,
    "start_time": "2023-04-17T09:55:15.704Z"
   },
   {
    "duration": 63,
    "start_time": "2023-04-17T11:18:38.252Z"
   },
   {
    "duration": 24,
    "start_time": "2023-04-17T11:18:46.357Z"
   },
   {
    "duration": 22,
    "start_time": "2023-04-17T11:20:06.211Z"
   },
   {
    "duration": 6,
    "start_time": "2023-04-17T11:21:03.004Z"
   },
   {
    "duration": 6,
    "start_time": "2023-04-17T11:21:45.625Z"
   },
   {
    "duration": 8,
    "start_time": "2023-04-17T11:21:48.696Z"
   },
   {
    "duration": 12,
    "start_time": "2023-04-17T11:22:25.145Z"
   },
   {
    "duration": 15,
    "start_time": "2023-04-17T11:23:02.571Z"
   },
   {
    "duration": 15,
    "start_time": "2023-04-17T11:23:50.962Z"
   },
   {
    "duration": 30,
    "start_time": "2023-04-17T11:27:42.279Z"
   },
   {
    "duration": 9,
    "start_time": "2023-04-17T11:28:52.158Z"
   },
   {
    "duration": 12,
    "start_time": "2023-04-17T11:28:55.243Z"
   },
   {
    "duration": 12,
    "start_time": "2023-04-17T11:29:46.298Z"
   },
   {
    "duration": 16,
    "start_time": "2023-04-17T11:29:58.956Z"
   },
   {
    "duration": 159,
    "start_time": "2023-04-17T11:37:16.504Z"
   },
   {
    "duration": 28,
    "start_time": "2023-04-17T11:42:36.050Z"
   },
   {
    "duration": 22,
    "start_time": "2023-04-17T11:43:02.673Z"
   },
   {
    "duration": 24,
    "start_time": "2023-04-17T11:43:15.951Z"
   },
   {
    "duration": 26,
    "start_time": "2023-04-17T11:50:22.458Z"
   },
   {
    "duration": 26,
    "start_time": "2023-04-17T11:50:33.220Z"
   },
   {
    "duration": 531,
    "start_time": "2023-04-17T12:04:20.529Z"
   },
   {
    "duration": 32,
    "start_time": "2023-04-17T12:04:21.062Z"
   },
   {
    "duration": 23,
    "start_time": "2023-04-17T12:04:21.097Z"
   },
   {
    "duration": 49,
    "start_time": "2023-04-17T12:04:21.123Z"
   },
   {
    "duration": 53,
    "start_time": "2023-04-17T12:04:21.174Z"
   },
   {
    "duration": 6,
    "start_time": "2023-04-17T12:04:21.229Z"
   },
   {
    "duration": 72,
    "start_time": "2023-04-17T12:04:21.236Z"
   },
   {
    "duration": 15,
    "start_time": "2023-04-17T12:04:21.310Z"
   },
   {
    "duration": 11,
    "start_time": "2023-04-17T12:04:21.327Z"
   },
   {
    "duration": 45,
    "start_time": "2023-04-17T12:04:21.343Z"
   },
   {
    "duration": 68,
    "start_time": "2023-04-17T12:04:21.390Z"
   },
   {
    "duration": 18,
    "start_time": "2023-04-17T12:04:21.461Z"
   },
   {
    "duration": 5,
    "start_time": "2023-04-17T12:04:21.481Z"
   },
   {
    "duration": 28,
    "start_time": "2023-04-17T12:04:21.488Z"
   },
   {
    "duration": 75,
    "start_time": "2023-04-17T12:04:21.518Z"
   },
   {
    "duration": 25,
    "start_time": "2023-04-17T12:04:21.595Z"
   },
   {
    "duration": 5,
    "start_time": "2023-04-17T12:04:21.622Z"
   },
   {
    "duration": 71,
    "start_time": "2023-04-17T12:04:21.629Z"
   },
   {
    "duration": 30,
    "start_time": "2023-04-17T12:04:21.703Z"
   },
   {
    "duration": 39,
    "start_time": "2023-04-17T12:04:21.739Z"
   },
   {
    "duration": 109,
    "start_time": "2023-04-17T12:04:21.780Z"
   },
   {
    "duration": 26,
    "start_time": "2023-04-17T12:04:21.892Z"
   },
   {
    "duration": 49,
    "start_time": "2023-04-17T12:04:21.920Z"
   },
   {
    "duration": 35,
    "start_time": "2023-04-17T12:04:21.971Z"
   },
   {
    "duration": 53,
    "start_time": "2023-04-17T12:04:22.009Z"
   },
   {
    "duration": 40,
    "start_time": "2023-04-17T12:04:22.065Z"
   },
   {
    "duration": 10,
    "start_time": "2023-04-17T12:04:22.108Z"
   },
   {
    "duration": 43,
    "start_time": "2023-04-17T12:04:22.122Z"
   },
   {
    "duration": 46,
    "start_time": "2023-04-17T12:04:22.167Z"
   },
   {
    "duration": 9,
    "start_time": "2023-04-17T12:04:22.216Z"
   },
   {
    "duration": 66,
    "start_time": "2023-04-17T12:04:22.227Z"
   },
   {
    "duration": 26,
    "start_time": "2023-04-17T12:04:22.294Z"
   },
   {
    "duration": 83,
    "start_time": "2023-04-17T12:04:22.322Z"
   },
   {
    "duration": 23,
    "start_time": "2023-04-17T12:04:22.406Z"
   },
   {
    "duration": 92,
    "start_time": "2023-04-17T12:04:22.431Z"
   },
   {
    "duration": 76,
    "start_time": "2023-04-17T12:04:22.525Z"
   },
   {
    "duration": 36,
    "start_time": "2023-04-17T12:04:22.603Z"
   },
   {
    "duration": 49,
    "start_time": "2023-04-17T12:04:22.641Z"
   },
   {
    "duration": 12,
    "start_time": "2023-04-17T12:04:22.693Z"
   },
   {
    "duration": 469,
    "start_time": "2023-04-17T14:28:25.658Z"
   },
   {
    "duration": 21,
    "start_time": "2023-04-17T14:28:26.129Z"
   },
   {
    "duration": 17,
    "start_time": "2023-04-17T14:28:26.151Z"
   },
   {
    "duration": 15,
    "start_time": "2023-04-17T14:28:26.170Z"
   },
   {
    "duration": 50,
    "start_time": "2023-04-17T14:28:26.187Z"
   },
   {
    "duration": 3,
    "start_time": "2023-04-17T14:28:26.238Z"
   },
   {
    "duration": 15,
    "start_time": "2023-04-17T14:28:26.242Z"
   },
   {
    "duration": 8,
    "start_time": "2023-04-17T14:28:26.259Z"
   },
   {
    "duration": 24,
    "start_time": "2023-04-17T14:28:26.268Z"
   },
   {
    "duration": 4,
    "start_time": "2023-04-17T14:28:26.295Z"
   },
   {
    "duration": 38,
    "start_time": "2023-04-17T14:28:26.300Z"
   },
   {
    "duration": 9,
    "start_time": "2023-04-17T14:28:26.339Z"
   },
   {
    "duration": 8,
    "start_time": "2023-04-17T14:28:26.350Z"
   },
   {
    "duration": 25,
    "start_time": "2023-04-17T14:28:26.359Z"
   },
   {
    "duration": 30,
    "start_time": "2023-04-17T14:28:26.386Z"
   },
   {
    "duration": 15,
    "start_time": "2023-04-17T14:28:26.418Z"
   },
   {
    "duration": 4,
    "start_time": "2023-04-17T14:28:26.434Z"
   },
   {
    "duration": 21,
    "start_time": "2023-04-17T14:28:26.439Z"
   },
   {
    "duration": 22,
    "start_time": "2023-04-17T14:28:26.461Z"
   },
   {
    "duration": 5,
    "start_time": "2023-04-17T14:28:26.484Z"
   },
   {
    "duration": 15,
    "start_time": "2023-04-17T14:28:26.490Z"
   },
   {
    "duration": 6,
    "start_time": "2023-04-17T14:28:26.506Z"
   },
   {
    "duration": 4,
    "start_time": "2023-04-17T14:28:26.513Z"
   },
   {
    "duration": 11,
    "start_time": "2023-04-17T14:28:26.518Z"
   },
   {
    "duration": 26,
    "start_time": "2023-04-17T14:28:26.530Z"
   },
   {
    "duration": 27,
    "start_time": "2023-04-17T14:28:26.558Z"
   },
   {
    "duration": 6,
    "start_time": "2023-04-17T14:28:26.586Z"
   },
   {
    "duration": 18,
    "start_time": "2023-04-17T14:28:26.595Z"
   },
   {
    "duration": 18,
    "start_time": "2023-04-17T14:28:26.615Z"
   },
   {
    "duration": 6,
    "start_time": "2023-04-17T14:28:26.635Z"
   },
   {
    "duration": 58,
    "start_time": "2023-04-17T14:28:26.642Z"
   },
   {
    "duration": 20,
    "start_time": "2023-04-17T14:28:26.701Z"
   },
   {
    "duration": 22,
    "start_time": "2023-04-17T14:28:26.723Z"
   },
   {
    "duration": 18,
    "start_time": "2023-04-17T14:28:26.746Z"
   },
   {
    "duration": 9,
    "start_time": "2023-04-17T14:28:26.778Z"
   },
   {
    "duration": 23,
    "start_time": "2023-04-17T14:28:26.788Z"
   },
   {
    "duration": 18,
    "start_time": "2023-04-17T14:28:26.812Z"
   },
   {
    "duration": 4,
    "start_time": "2023-04-17T14:28:26.831Z"
   },
   {
    "duration": 4,
    "start_time": "2023-04-17T14:28:26.836Z"
   }
  ],
  "colab": {
   "name": "dpp_template_part2.ipynb",
   "provenance": []
  },
  "kernelspec": {
   "display_name": "Python 3 (ipykernel)",
   "language": "python",
   "name": "python3"
  },
  "language_info": {
   "codemirror_mode": {
    "name": "ipython",
    "version": 3
   },
   "file_extension": ".py",
   "mimetype": "text/x-python",
   "name": "python",
   "nbconvert_exporter": "python",
   "pygments_lexer": "ipython3",
   "version": "3.9.13"
  },
  "toc": {
   "base_numbering": 1,
   "nav_menu": {},
   "number_sections": true,
   "sideBar": true,
   "skip_h1_title": true,
   "title_cell": "Table of Contents",
   "title_sidebar": "Contents",
   "toc_cell": false,
   "toc_position": {},
   "toc_section_display": true,
   "toc_window_display": false
  }
 },
 "nbformat": 4,
 "nbformat_minor": 5
}
