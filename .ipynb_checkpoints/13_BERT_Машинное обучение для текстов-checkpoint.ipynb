{
 "cells": [
  {
   "cell_type": "markdown",
   "metadata": {
    "toc": true
   },
   "source": [
    "<h1>Содержание<span class=\"tocSkip\"></span></h1>\n",
    "<div class=\"toc\"><ul class=\"toc-item\"><li><span><a href=\"#Подготовка-данных\" data-toc-modified-id=\"Подготовка-данных-1\"><span class=\"toc-item-num\">1&nbsp;&nbsp;</span>Подготовка данных</a></span><ul class=\"toc-item\"><li><span><a href=\"#Импорт-библиотек\" data-toc-modified-id=\"Импорт-библиотек-1.1\"><span class=\"toc-item-num\">1.1&nbsp;&nbsp;</span>Импорт библиотек</a></span></li><li><span><a href=\"#Вывод-первых-строк-и-изучение-полученной-информации\" data-toc-modified-id=\"Вывод-первых-строк-и-изучение-полученной-информации-1.2\"><span class=\"toc-item-num\">1.2&nbsp;&nbsp;</span>Вывод первых строк и изучение полученной информации</a></span></li><li><span><a href=\"#Исследование-баланса-классов\" data-toc-modified-id=\"Исследование-баланса-классов-1.3\"><span class=\"toc-item-num\">1.3&nbsp;&nbsp;</span>Исследование баланса классов</a></span></li><li><span><a href=\"#Форматирование-текста\" data-toc-modified-id=\"Форматирование-текста-1.4\"><span class=\"toc-item-num\">1.4&nbsp;&nbsp;</span>Форматирование текста</a></span></li><li><span><a href=\"#Промежуточный-вывод\" data-toc-modified-id=\"Промежуточный-вывод-1.5\"><span class=\"toc-item-num\">1.5&nbsp;&nbsp;</span>Промежуточный вывод</a></span></li></ul></li><li><span><a href=\"#Обучение\" data-toc-modified-id=\"Обучение-2\"><span class=\"toc-item-num\">2&nbsp;&nbsp;</span>Обучение</a></span><ul class=\"toc-item\"><li><span><a href=\"#Подготовка-к-обучению\" data-toc-modified-id=\"Подготовка-к-обучению-2.1\"><span class=\"toc-item-num\">2.1&nbsp;&nbsp;</span>Подготовка к обучению</a></span><ul class=\"toc-item\"><li><span><a href=\"#Метод-LogisticRegression()\" data-toc-modified-id=\"Метод-LogisticRegression()-2.1.1\"><span class=\"toc-item-num\">2.1.1&nbsp;&nbsp;</span>Метод LogisticRegression()</a></span></li><li><span><a href=\"#Метод-DecisionTreeClassifier()\" data-toc-modified-id=\"Метод-DecisionTreeClassifier()-2.1.2\"><span class=\"toc-item-num\">2.1.2&nbsp;&nbsp;</span>Метод DecisionTreeClassifier()</a></span></li><li><span><a href=\"#Метод-RandomForestClassifier()\" data-toc-modified-id=\"Метод-RandomForestClassifier()-2.1.3\"><span class=\"toc-item-num\">2.1.3&nbsp;&nbsp;</span>Метод RandomForestClassifier()</a></span></li><li><span><a href=\"#Метод-SVM()\" data-toc-modified-id=\"Метод-SVM()-2.1.4\"><span class=\"toc-item-num\">2.1.4&nbsp;&nbsp;</span>Метод SVM()</a></span></li><li><span><a href=\"#Метод-GaussianNB()\" data-toc-modified-id=\"Метод-GaussianNB()-2.1.5\"><span class=\"toc-item-num\">2.1.5&nbsp;&nbsp;</span>Метод GaussianNB()</a></span></li><li><span><a href=\"#Метод-K-NN()\" data-toc-modified-id=\"Метод-K-NN()-2.1.6\"><span class=\"toc-item-num\">2.1.6&nbsp;&nbsp;</span>Метод K-NN()</a></span></li></ul></li><li><span><a href=\"#Тестирование-модели\" data-toc-modified-id=\"Тестирование-модели-2.2\"><span class=\"toc-item-num\">2.2&nbsp;&nbsp;</span>Тестирование модели</a></span></li><li><span><a href=\"#Проверка-модели-на-адекватность\" data-toc-modified-id=\"Проверка-модели-на-адекватность-2.3\"><span class=\"toc-item-num\">2.3&nbsp;&nbsp;</span>Проверка модели на адекватность</a></span></li></ul></li><li><span><a href=\"#Общий-вывод\" data-toc-modified-id=\"Общий-вывод-3\"><span class=\"toc-item-num\">3&nbsp;&nbsp;</span>Общий вывод</a></span></li></ul></div>"
   ]
  },
  {
   "cell_type": "markdown",
   "metadata": {},
   "source": [
    "# Проект для «Викишоп» c BERT"
   ]
  },
  {
   "cell_type": "markdown",
   "metadata": {},
   "source": [
    "Интернет-магазин «Викишоп» запускает новый сервис. Теперь пользователи могут редактировать и дополнять описания товаров, как в вики-сообществах. То есть клиенты предлагают свои правки и комментируют изменения других. Магазину нужен инструмент, который будет искать токсичные комментарии и отправлять их на модерацию. \n",
    "\n",
    "Обучите модель классифицировать комментарии на позитивные и негативные. В вашем распоряжении набор данных с разметкой о токсичности правок.\n",
    "\n",
    "Постройте модель со значением метрики качества *F1* не меньше 0.75. \n",
    "\n",
    "**Инструкция по выполнению проекта**\n",
    "\n",
    "1. Загрузите и подготовьте данные.\n",
    "2. Обучите разные модели. \n",
    "3. Сделайте выводы.\n",
    "\n",
    "Для выполнения проекта применять *BERT* необязательно, но вы можете попробовать.\n",
    "\n",
    "**Описание данных**\n",
    "\n",
    "Данные находятся в файле `toxic_comments.csv`. Столбец *text* в нём содержит текст комментария, а *toxic* — целевой признак."
   ]
  },
  {
   "cell_type": "markdown",
   "metadata": {},
   "source": [
    "## Подготовка данных"
   ]
  },
  {
   "cell_type": "code",
   "execution_count": 1,
   "metadata": {},
   "outputs": [
    {
     "name": "stdout",
     "output_type": "stream",
     "text": [
      "Requirement already satisfied: imblearn in c:\\users\\daria\\anaconda3\\lib\\site-packages (0.0)\n",
      "Requirement already satisfied: imbalanced-learn in c:\\users\\daria\\anaconda3\\lib\\site-packages (from imblearn) (0.11.0)\n",
      "Requirement already satisfied: scipy>=1.5.0 in c:\\users\\daria\\anaconda3\\lib\\site-packages (from imbalanced-learn->imblearn) (1.9.1)\n",
      "Requirement already satisfied: threadpoolctl>=2.0.0 in c:\\users\\daria\\anaconda3\\lib\\site-packages (from imbalanced-learn->imblearn) (2.2.0)\n",
      "Requirement already satisfied: joblib>=1.1.1 in c:\\users\\daria\\anaconda3\\lib\\site-packages (from imbalanced-learn->imblearn) (1.3.2)\n",
      "Requirement already satisfied: numpy>=1.17.3 in c:\\users\\daria\\anaconda3\\lib\\site-packages (from imbalanced-learn->imblearn) (1.24.3)\n",
      "Requirement already satisfied: scikit-learn>=1.0.2 in c:\\users\\daria\\anaconda3\\lib\\site-packages (from imbalanced-learn->imblearn) (1.1.3)\n"
     ]
    },
    {
     "name": "stderr",
     "output_type": "stream",
     "text": [
      "WARNING: Ignoring invalid distribution -orch (c:\\users\\daria\\anaconda3\\lib\\site-packages)\n",
      "WARNING: Ignoring invalid distribution -orch (c:\\users\\daria\\anaconda3\\lib\\site-packages)\n",
      "WARNING: Ignoring invalid distribution -orch (c:\\users\\daria\\anaconda3\\lib\\site-packages)\n",
      "WARNING: Ignoring invalid distribution -orch (c:\\users\\daria\\anaconda3\\lib\\site-packages)\n",
      "WARNING: Ignoring invalid distribution -orch (c:\\users\\daria\\anaconda3\\lib\\site-packages)\n",
      "WARNING: Ignoring invalid distribution -orch (c:\\users\\daria\\anaconda3\\lib\\site-packages)\n"
     ]
    },
    {
     "name": "stdout",
     "output_type": "stream",
     "text": [
      "Requirement already satisfied: torchvision in c:\\users\\daria\\anaconda3\\lib\\site-packages (0.15.2)"
     ]
    },
    {
     "name": "stderr",
     "output_type": "stream",
     "text": [
      "WARNING: Ignoring invalid distribution -orch (c:\\users\\daria\\anaconda3\\lib\\site-packages)\n",
      "WARNING: Ignoring invalid distribution -orch (c:\\users\\daria\\anaconda3\\lib\\site-packages)\n",
      "WARNING: Ignoring invalid distribution -orch (c:\\users\\daria\\anaconda3\\lib\\site-packages)\n",
      "WARNING: Ignoring invalid distribution -orch (c:\\users\\daria\\anaconda3\\lib\\site-packages)\n",
      "WARNING: Ignoring invalid distribution -orch (c:\\users\\daria\\anaconda3\\lib\\site-packages)\n",
      "WARNING: Ignoring invalid distribution -orch (c:\\users\\daria\\anaconda3\\lib\\site-packages)\n"
     ]
    },
    {
     "name": "stdout",
     "output_type": "stream",
     "text": [
      "\n",
      "Requirement already satisfied: torch==2.0.1 in c:\\users\\daria\\anaconda3\\lib\\site-packages (from torchvision) (2.0.1)\n",
      "Requirement already satisfied: pillow!=8.3.*,>=5.3.0 in c:\\users\\daria\\anaconda3\\lib\\site-packages (from torchvision) (9.2.0)\n",
      "Requirement already satisfied: requests in c:\\users\\daria\\anaconda3\\lib\\site-packages (from torchvision) (2.28.1)\n",
      "Requirement already satisfied: numpy in c:\\users\\daria\\anaconda3\\lib\\site-packages (from torchvision) (1.24.3)\n",
      "Requirement already satisfied: typing-extensions in c:\\users\\daria\\anaconda3\\lib\\site-packages (from torch==2.0.1->torchvision) (4.3.0)\n",
      "Requirement already satisfied: filelock in c:\\users\\daria\\anaconda3\\lib\\site-packages (from torch==2.0.1->torchvision) (3.6.0)\n",
      "Requirement already satisfied: jinja2 in c:\\users\\daria\\anaconda3\\lib\\site-packages (from torch==2.0.1->torchvision) (2.11.3)\n",
      "Requirement already satisfied: networkx in c:\\users\\daria\\anaconda3\\lib\\site-packages (from torch==2.0.1->torchvision) (2.8.4)\n",
      "Requirement already satisfied: sympy in c:\\users\\daria\\anaconda3\\lib\\site-packages (from torch==2.0.1->torchvision) (1.10.1)\n",
      "Requirement already satisfied: idna<4,>=2.5 in c:\\users\\daria\\anaconda3\\lib\\site-packages (from requests->torchvision) (3.3)\n",
      "Requirement already satisfied: charset-normalizer<3,>=2 in c:\\users\\daria\\anaconda3\\lib\\site-packages (from requests->torchvision) (2.0.4)\n",
      "Requirement already satisfied: certifi>=2017.4.17 in c:\\users\\daria\\anaconda3\\lib\\site-packages (from requests->torchvision) (2022.9.14)\n",
      "Requirement already satisfied: urllib3<1.27,>=1.21.1 in c:\\users\\daria\\anaconda3\\lib\\site-packages (from requests->torchvision) (1.26.11)\n",
      "Requirement already satisfied: MarkupSafe>=0.23 in c:\\users\\daria\\anaconda3\\lib\\site-packages (from jinja2->torch==2.0.1->torchvision) (2.0.1)\n",
      "Requirement already satisfied: mpmath>=0.19 in c:\\users\\daria\\anaconda3\\lib\\site-packages (from sympy->torch==2.0.1->torchvision) (1.2.1)\n"
     ]
    }
   ],
   "source": [
    "!pip install imblearn\n",
    "!pip install torchvision"
   ]
  },
  {
   "cell_type": "markdown",
   "metadata": {},
   "source": [
    "### Импорт библиотек"
   ]
  },
  {
   "cell_type": "code",
   "execution_count": 2,
   "metadata": {},
   "outputs": [],
   "source": [
    "import pandas as pd\n",
    "import seaborn as sns\n",
    "import numpy as np\n",
    "import torch\n",
    "import re\n",
    "import random\n",
    "import math\n",
    "import os\n",
    "import string\n",
    "import transformers\n",
    "\n",
    "from torchvision import transforms\n",
    "from transformers import BertTokenizer, BertForSequenceClassification, BertModel\n",
    "\n",
    "from tqdm.notebook import tqdm\n",
    "from tqdm import notebook\n",
    "\n",
    "from sklearn.metrics import f1_score, make_scorer\n",
    "from sklearn.pipeline import make_pipeline\n",
    "from imblearn.under_sampling import RandomUnderSampler\n",
    "\n",
    "from sklearn.model_selection import (\n",
    "    GridSearchCV, \n",
    "    RandomizedSearchCV, \n",
    "    TimeSeriesSplit, \n",
    "    cross_val_score,\n",
    "    train_test_split)\n",
    "\n",
    "from sklearn.pipeline import Pipeline\n",
    "\n",
    "from sklearn.linear_model import LogisticRegression\n",
    "from sklearn.tree import DecisionTreeClassifier\n",
    "from sklearn.ensemble import RandomForestClassifier\n",
    "from sklearn.svm import SVC\n",
    "from sklearn.naive_bayes import GaussianNB\n",
    "from sklearn.neighbors import KNeighborsClassifier\n",
    "from sklearn.dummy import DummyClassifier\n",
    "\n",
    "import warnings\n",
    "warnings.filterwarnings('ignore')"
   ]
  },
  {
   "cell_type": "markdown",
   "metadata": {},
   "source": [
    "### Вывод первых строк и изучение полученной информации"
   ]
  },
  {
   "cell_type": "code",
   "execution_count": 3,
   "metadata": {},
   "outputs": [],
   "source": [
    "def my_func(x):\n",
    "    display('Исходный датафрейм')\n",
    "    display(x.head(8))\n",
    "    display('Общая информация о датафрейме')\n",
    "    display(x.info())\n",
    "    display('Количество пустых значений в датафрейме')\n",
    "    display(x.isna().sum())\n",
    "    display('Количество явных дубликатов в датафрейме')\n",
    "    display(x.duplicated().sum())\n",
    "    display('Описательная статистика')\n",
    "    display(x.describe())\n",
    "    display('Зависимость признаков')\n",
    "    cmap = cmap=sns.diverging_palette(5, 250, as_cmap=True)\n",
    "    def magnify():\n",
    "        return [dict(selector=\"th\",\n",
    "                     props=[(\"font-size\", \"7pt\")]),\n",
    "                dict(selector=\"td\",\n",
    "                     props=[('padding', \"0em 0em\")]),\n",
    "                dict(selector=\"th:hover\",\n",
    "                     props=[(\"font-size\", \"12pt\")]),\n",
    "                dict(selector=\"tr:hover td:hover\",\n",
    "                     props=[('max-width', '200px'),\n",
    "                            ('font-size', '12pt')])\n",
    "    ]\n",
    "    corr = round(x.corr(), 2)\n",
    "    display(corr.style.background_gradient(cmap, axis=1)\\\n",
    "        .set_properties(**{'max-width': '80px', 'font-size': '10pt'})\\\n",
    "        .set_caption(\"Hover to magify\")\\\n",
    "        .set_precision(2)\\\n",
    "        .set_table_styles(magnify()))"
   ]
  },
  {
   "cell_type": "code",
   "execution_count": 4,
   "metadata": {},
   "outputs": [
    {
     "data": {
      "text/plain": [
       "'Исходный датафрейм'"
      ]
     },
     "metadata": {},
     "output_type": "display_data"
    },
    {
     "data": {
      "text/html": [
       "<div>\n",
       "<style scoped>\n",
       "    .dataframe tbody tr th:only-of-type {\n",
       "        vertical-align: middle;\n",
       "    }\n",
       "\n",
       "    .dataframe tbody tr th {\n",
       "        vertical-align: top;\n",
       "    }\n",
       "\n",
       "    .dataframe thead th {\n",
       "        text-align: right;\n",
       "    }\n",
       "</style>\n",
       "<table border=\"1\" class=\"dataframe\">\n",
       "  <thead>\n",
       "    <tr style=\"text-align: right;\">\n",
       "      <th></th>\n",
       "      <th>Unnamed: 0</th>\n",
       "      <th>text</th>\n",
       "      <th>toxic</th>\n",
       "    </tr>\n",
       "  </thead>\n",
       "  <tbody>\n",
       "    <tr>\n",
       "      <th>0</th>\n",
       "      <td>0</td>\n",
       "      <td>Explanation\\nWhy the edits made under my usern...</td>\n",
       "      <td>0</td>\n",
       "    </tr>\n",
       "    <tr>\n",
       "      <th>1</th>\n",
       "      <td>1</td>\n",
       "      <td>D'aww! He matches this background colour I'm s...</td>\n",
       "      <td>0</td>\n",
       "    </tr>\n",
       "    <tr>\n",
       "      <th>2</th>\n",
       "      <td>2</td>\n",
       "      <td>Hey man, I'm really not trying to edit war. It...</td>\n",
       "      <td>0</td>\n",
       "    </tr>\n",
       "    <tr>\n",
       "      <th>3</th>\n",
       "      <td>3</td>\n",
       "      <td>\"\\nMore\\nI can't make any real suggestions on ...</td>\n",
       "      <td>0</td>\n",
       "    </tr>\n",
       "    <tr>\n",
       "      <th>4</th>\n",
       "      <td>4</td>\n",
       "      <td>You, sir, are my hero. Any chance you remember...</td>\n",
       "      <td>0</td>\n",
       "    </tr>\n",
       "    <tr>\n",
       "      <th>5</th>\n",
       "      <td>5</td>\n",
       "      <td>\"\\n\\nCongratulations from me as well, use the ...</td>\n",
       "      <td>0</td>\n",
       "    </tr>\n",
       "    <tr>\n",
       "      <th>6</th>\n",
       "      <td>6</td>\n",
       "      <td>COCKSUCKER BEFORE YOU PISS AROUND ON MY WORK</td>\n",
       "      <td>1</td>\n",
       "    </tr>\n",
       "    <tr>\n",
       "      <th>7</th>\n",
       "      <td>7</td>\n",
       "      <td>Your vandalism to the Matt Shirvington article...</td>\n",
       "      <td>0</td>\n",
       "    </tr>\n",
       "  </tbody>\n",
       "</table>\n",
       "</div>"
      ],
      "text/plain": [
       "   Unnamed: 0                                               text  toxic\n",
       "0           0  Explanation\\nWhy the edits made under my usern...      0\n",
       "1           1  D'aww! He matches this background colour I'm s...      0\n",
       "2           2  Hey man, I'm really not trying to edit war. It...      0\n",
       "3           3  \"\\nMore\\nI can't make any real suggestions on ...      0\n",
       "4           4  You, sir, are my hero. Any chance you remember...      0\n",
       "5           5  \"\\n\\nCongratulations from me as well, use the ...      0\n",
       "6           6       COCKSUCKER BEFORE YOU PISS AROUND ON MY WORK      1\n",
       "7           7  Your vandalism to the Matt Shirvington article...      0"
      ]
     },
     "metadata": {},
     "output_type": "display_data"
    },
    {
     "data": {
      "text/plain": [
       "'Общая информация о датафрейме'"
      ]
     },
     "metadata": {},
     "output_type": "display_data"
    },
    {
     "name": "stdout",
     "output_type": "stream",
     "text": [
      "<class 'pandas.core.frame.DataFrame'>\n",
      "RangeIndex: 159292 entries, 0 to 159291\n",
      "Data columns (total 3 columns):\n",
      " #   Column      Non-Null Count   Dtype \n",
      "---  ------      --------------   ----- \n",
      " 0   Unnamed: 0  159292 non-null  int64 \n",
      " 1   text        159292 non-null  object\n",
      " 2   toxic       159292 non-null  int64 \n",
      "dtypes: int64(2), object(1)\n",
      "memory usage: 3.6+ MB\n"
     ]
    },
    {
     "data": {
      "text/plain": [
       "None"
      ]
     },
     "metadata": {},
     "output_type": "display_data"
    },
    {
     "data": {
      "text/plain": [
       "'Количество пустых значений в датафрейме'"
      ]
     },
     "metadata": {},
     "output_type": "display_data"
    },
    {
     "data": {
      "text/plain": [
       "Unnamed: 0    0\n",
       "text          0\n",
       "toxic         0\n",
       "dtype: int64"
      ]
     },
     "metadata": {},
     "output_type": "display_data"
    },
    {
     "data": {
      "text/plain": [
       "'Количество явных дубликатов в датафрейме'"
      ]
     },
     "metadata": {},
     "output_type": "display_data"
    },
    {
     "data": {
      "text/plain": [
       "0"
      ]
     },
     "metadata": {},
     "output_type": "display_data"
    },
    {
     "data": {
      "text/plain": [
       "'Описательная статистика'"
      ]
     },
     "metadata": {},
     "output_type": "display_data"
    },
    {
     "data": {
      "text/html": [
       "<div>\n",
       "<style scoped>\n",
       "    .dataframe tbody tr th:only-of-type {\n",
       "        vertical-align: middle;\n",
       "    }\n",
       "\n",
       "    .dataframe tbody tr th {\n",
       "        vertical-align: top;\n",
       "    }\n",
       "\n",
       "    .dataframe thead th {\n",
       "        text-align: right;\n",
       "    }\n",
       "</style>\n",
       "<table border=\"1\" class=\"dataframe\">\n",
       "  <thead>\n",
       "    <tr style=\"text-align: right;\">\n",
       "      <th></th>\n",
       "      <th>Unnamed: 0</th>\n",
       "      <th>toxic</th>\n",
       "    </tr>\n",
       "  </thead>\n",
       "  <tbody>\n",
       "    <tr>\n",
       "      <th>count</th>\n",
       "      <td>159292.000000</td>\n",
       "      <td>159292.000000</td>\n",
       "    </tr>\n",
       "    <tr>\n",
       "      <th>mean</th>\n",
       "      <td>79725.697242</td>\n",
       "      <td>0.101612</td>\n",
       "    </tr>\n",
       "    <tr>\n",
       "      <th>std</th>\n",
       "      <td>46028.837471</td>\n",
       "      <td>0.302139</td>\n",
       "    </tr>\n",
       "    <tr>\n",
       "      <th>min</th>\n",
       "      <td>0.000000</td>\n",
       "      <td>0.000000</td>\n",
       "    </tr>\n",
       "    <tr>\n",
       "      <th>25%</th>\n",
       "      <td>39872.750000</td>\n",
       "      <td>0.000000</td>\n",
       "    </tr>\n",
       "    <tr>\n",
       "      <th>50%</th>\n",
       "      <td>79721.500000</td>\n",
       "      <td>0.000000</td>\n",
       "    </tr>\n",
       "    <tr>\n",
       "      <th>75%</th>\n",
       "      <td>119573.250000</td>\n",
       "      <td>0.000000</td>\n",
       "    </tr>\n",
       "    <tr>\n",
       "      <th>max</th>\n",
       "      <td>159450.000000</td>\n",
       "      <td>1.000000</td>\n",
       "    </tr>\n",
       "  </tbody>\n",
       "</table>\n",
       "</div>"
      ],
      "text/plain": [
       "          Unnamed: 0          toxic\n",
       "count  159292.000000  159292.000000\n",
       "mean    79725.697242       0.101612\n",
       "std     46028.837471       0.302139\n",
       "min         0.000000       0.000000\n",
       "25%     39872.750000       0.000000\n",
       "50%     79721.500000       0.000000\n",
       "75%    119573.250000       0.000000\n",
       "max    159450.000000       1.000000"
      ]
     },
     "metadata": {},
     "output_type": "display_data"
    },
    {
     "data": {
      "text/plain": [
       "'Зависимость признаков'"
      ]
     },
     "metadata": {},
     "output_type": "display_data"
    },
    {
     "data": {
      "text/html": [
       "<style type=\"text/css\">\n",
       "#T_514af th {\n",
       "  font-size: 7pt;\n",
       "}\n",
       "#T_514af td {\n",
       "  padding: 0em 0em;\n",
       "}\n",
       "#T_514af th:hover {\n",
       "  font-size: 12pt;\n",
       "}\n",
       "#T_514af tr:hover td:hover {\n",
       "  max-width: 200px;\n",
       "  font-size: 12pt;\n",
       "}\n",
       "#T_514af_row0_col0, #T_514af_row1_col1 {\n",
       "  background-color: #4479bb;\n",
       "  color: #f1f1f1;\n",
       "  max-width: 80px;\n",
       "  font-size: 10pt;\n",
       "}\n",
       "#T_514af_row0_col1, #T_514af_row1_col0 {\n",
       "  background-color: #d73c5b;\n",
       "  color: #f1f1f1;\n",
       "  max-width: 80px;\n",
       "  font-size: 10pt;\n",
       "}\n",
       "</style>\n",
       "<table id=\"T_514af\">\n",
       "  <caption>Hover to magify</caption>\n",
       "  <thead>\n",
       "    <tr>\n",
       "      <th class=\"blank level0\" >&nbsp;</th>\n",
       "      <th id=\"T_514af_level0_col0\" class=\"col_heading level0 col0\" >Unnamed: 0</th>\n",
       "      <th id=\"T_514af_level0_col1\" class=\"col_heading level0 col1\" >toxic</th>\n",
       "    </tr>\n",
       "  </thead>\n",
       "  <tbody>\n",
       "    <tr>\n",
       "      <th id=\"T_514af_level0_row0\" class=\"row_heading level0 row0\" >Unnamed: 0</th>\n",
       "      <td id=\"T_514af_row0_col0\" class=\"data row0 col0\" >1.00</td>\n",
       "      <td id=\"T_514af_row0_col1\" class=\"data row0 col1\" >-0.00</td>\n",
       "    </tr>\n",
       "    <tr>\n",
       "      <th id=\"T_514af_level0_row1\" class=\"row_heading level0 row1\" >toxic</th>\n",
       "      <td id=\"T_514af_row1_col0\" class=\"data row1 col0\" >-0.00</td>\n",
       "      <td id=\"T_514af_row1_col1\" class=\"data row1 col1\" >1.00</td>\n",
       "    </tr>\n",
       "  </tbody>\n",
       "</table>\n"
      ],
      "text/plain": [
       "<pandas.io.formats.style.Styler at 0x1bf66202c40>"
      ]
     },
     "metadata": {},
     "output_type": "display_data"
    }
   ],
   "source": [
    "try:\n",
    "    data = pd.read_csv('/datasets/toxic_comments.csv')\n",
    "except:\n",
    "    data = pd.read_csv('C:/Users/daria/Датасеты для проектов/13 Машинное обучение для текстов - проект для Викишоп/toxic_comments.csv')\n",
    "my_func(data)"
   ]
  },
  {
   "cell_type": "markdown",
   "metadata": {},
   "source": [
    "### Исследование баланса классов"
   ]
  },
  {
   "cell_type": "code",
   "execution_count": 5,
   "metadata": {},
   "outputs": [
    {
     "data": {
      "text/plain": [
       "0    143106\n",
       "1     16186\n",
       "Name: toxic, dtype: int64"
      ]
     },
     "execution_count": 5,
     "metadata": {},
     "output_type": "execute_result"
    }
   ],
   "source": [
    "data['toxic'].value_counts()"
   ]
  },
  {
   "cell_type": "markdown",
   "metadata": {},
   "source": [
    "Видим большой дисбаланс, отобразим его графически:"
   ]
  },
  {
   "cell_type": "code",
   "execution_count": 6,
   "metadata": {},
   "outputs": [
    {
     "data": {
      "image/png": "[encoded data removed]",
      "text/plain": [
       "<Figure size 640x480 with 1 Axes>"
      ]
     },
     "metadata": {},
     "output_type": "display_data"
    }
   ],
   "source": [
    "_ = data['toxic'].value_counts(normalize=True).plot(kind='bar')"
   ]
  },
  {
   "cell_type": "markdown",
   "metadata": {},
   "source": [
    "Дисбаланс примерно 10% на 90% - достаточно большой."
   ]
  },
  {
   "cell_type": "markdown",
   "metadata": {},
   "source": [
    "### Форматирование текста"
   ]
  },
  {
   "cell_type": "markdown",
   "metadata": {},
   "source": [
    "Отформатируем текст, избавившись от знаков препинания, гиперссылок, \"\\n\", а также изменяем регистр. Так как мы используем модель BERT, то мы не удаляем стоп-слова, чтобы модель не потеряла контекст."
   ]
  },
  {
   "cell_type": "code",
   "execution_count": 8,
   "metadata": {},
   "outputs": [],
   "source": [
    "def clean_text(text):\n",
    "    text = text.lower()\n",
    "    text = re.sub('\\[.*?\\]', '', text)\n",
    "    text = re.sub('https?://\\S+|www\\.\\S+', '', text)\n",
    "    text = re.sub('<.*?>+', '', text)\n",
    "    text = re.sub('[%s]' % re.escape(string.punctuation), '', text)\n",
    "    text = re.sub('\\n', '', text)\n",
    "    text = re.sub('\\w*\\d\\w*', '', text)\n",
    "    return text"
   ]
  },
  {
   "cell_type": "code",
   "execution_count": 9,
   "metadata": {
    "scrolled": true
   },
   "outputs": [
    {
     "data": {
      "text/html": [
       "<div>\n",
       "<style scoped>\n",
       "    .dataframe tbody tr th:only-of-type {\n",
       "        vertical-align: middle;\n",
       "    }\n",
       "\n",
       "    .dataframe tbody tr th {\n",
       "        vertical-align: top;\n",
       "    }\n",
       "\n",
       "    .dataframe thead th {\n",
       "        text-align: right;\n",
       "    }\n",
       "</style>\n",
       "<table border=\"1\" class=\"dataframe\">\n",
       "  <thead>\n",
       "    <tr style=\"text-align: right;\">\n",
       "      <th></th>\n",
       "      <th>Unnamed: 0</th>\n",
       "      <th>text</th>\n",
       "      <th>toxic</th>\n",
       "    </tr>\n",
       "  </thead>\n",
       "  <tbody>\n",
       "    <tr>\n",
       "      <th>0</th>\n",
       "      <td>0</td>\n",
       "      <td>explanationwhy the edits made under my usernam...</td>\n",
       "      <td>0</td>\n",
       "    </tr>\n",
       "    <tr>\n",
       "      <th>1</th>\n",
       "      <td>1</td>\n",
       "      <td>daww he matches this background colour im seem...</td>\n",
       "      <td>0</td>\n",
       "    </tr>\n",
       "    <tr>\n",
       "      <th>2</th>\n",
       "      <td>2</td>\n",
       "      <td>hey man im really not trying to edit war its j...</td>\n",
       "      <td>0</td>\n",
       "    </tr>\n",
       "    <tr>\n",
       "      <th>3</th>\n",
       "      <td>3</td>\n",
       "      <td>morei cant make any real suggestions on improv...</td>\n",
       "      <td>0</td>\n",
       "    </tr>\n",
       "    <tr>\n",
       "      <th>4</th>\n",
       "      <td>4</td>\n",
       "      <td>you sir are my hero any chance you remember wh...</td>\n",
       "      <td>0</td>\n",
       "    </tr>\n",
       "    <tr>\n",
       "      <th>5</th>\n",
       "      <td>5</td>\n",
       "      <td>congratulations from me as well use the tools ...</td>\n",
       "      <td>0</td>\n",
       "    </tr>\n",
       "    <tr>\n",
       "      <th>6</th>\n",
       "      <td>6</td>\n",
       "      <td>cocksucker before you piss around on my work</td>\n",
       "      <td>1</td>\n",
       "    </tr>\n",
       "    <tr>\n",
       "      <th>7</th>\n",
       "      <td>7</td>\n",
       "      <td>your vandalism to the matt shirvington article...</td>\n",
       "      <td>0</td>\n",
       "    </tr>\n",
       "    <tr>\n",
       "      <th>8</th>\n",
       "      <td>8</td>\n",
       "      <td>sorry if the word nonsense was offensive to yo...</td>\n",
       "      <td>0</td>\n",
       "    </tr>\n",
       "    <tr>\n",
       "      <th>9</th>\n",
       "      <td>9</td>\n",
       "      <td>alignment on this subject and which are contra...</td>\n",
       "      <td>0</td>\n",
       "    </tr>\n",
       "  </tbody>\n",
       "</table>\n",
       "</div>"
      ],
      "text/plain": [
       "   Unnamed: 0                                               text  toxic\n",
       "0           0  explanationwhy the edits made under my usernam...      0\n",
       "1           1  daww he matches this background colour im seem...      0\n",
       "2           2  hey man im really not trying to edit war its j...      0\n",
       "3           3  morei cant make any real suggestions on improv...      0\n",
       "4           4  you sir are my hero any chance you remember wh...      0\n",
       "5           5  congratulations from me as well use the tools ...      0\n",
       "6           6       cocksucker before you piss around on my work      1\n",
       "7           7  your vandalism to the matt shirvington article...      0\n",
       "8           8  sorry if the word nonsense was offensive to yo...      0\n",
       "9           9  alignment on this subject and which are contra...      0"
      ]
     },
     "execution_count": 9,
     "metadata": {},
     "output_type": "execute_result"
    }
   ],
   "source": [
    "data['text'] = data['text'].apply(str).apply(lambda x: clean_text(x))\n",
    "data.head(10)"
   ]
  },
  {
   "cell_type": "markdown",
   "metadata": {},
   "source": [
    "Проверим, какие значения хранятся в столбце 'toxic'."
   ]
  },
  {
   "cell_type": "code",
   "execution_count": 10,
   "metadata": {},
   "outputs": [
    {
     "data": {
      "text/plain": [
       "array([0, 1], dtype=int64)"
      ]
     },
     "execution_count": 10,
     "metadata": {},
     "output_type": "execute_result"
    }
   ],
   "source": [
    "data.toxic.unique()"
   ]
  },
  {
   "cell_type": "markdown",
   "metadata": {},
   "source": [
    "Уникальных значений всего два - 1 и 0, то, что нам нужно. Далее удалим задвоенный столбец с индексами:"
   ]
  },
  {
   "cell_type": "code",
   "execution_count": 11,
   "metadata": {},
   "outputs": [
    {
     "data": {
      "text/html": [
       "<div>\n",
       "<style scoped>\n",
       "    .dataframe tbody tr th:only-of-type {\n",
       "        vertical-align: middle;\n",
       "    }\n",
       "\n",
       "    .dataframe tbody tr th {\n",
       "        vertical-align: top;\n",
       "    }\n",
       "\n",
       "    .dataframe thead th {\n",
       "        text-align: right;\n",
       "    }\n",
       "</style>\n",
       "<table border=\"1\" class=\"dataframe\">\n",
       "  <thead>\n",
       "    <tr style=\"text-align: right;\">\n",
       "      <th></th>\n",
       "      <th>text</th>\n",
       "      <th>toxic</th>\n",
       "    </tr>\n",
       "  </thead>\n",
       "  <tbody>\n",
       "    <tr>\n",
       "      <th>0</th>\n",
       "      <td>explanationwhy the edits made under my usernam...</td>\n",
       "      <td>0</td>\n",
       "    </tr>\n",
       "    <tr>\n",
       "      <th>1</th>\n",
       "      <td>daww he matches this background colour im seem...</td>\n",
       "      <td>0</td>\n",
       "    </tr>\n",
       "    <tr>\n",
       "      <th>2</th>\n",
       "      <td>hey man im really not trying to edit war its j...</td>\n",
       "      <td>0</td>\n",
       "    </tr>\n",
       "    <tr>\n",
       "      <th>3</th>\n",
       "      <td>morei cant make any real suggestions on improv...</td>\n",
       "      <td>0</td>\n",
       "    </tr>\n",
       "    <tr>\n",
       "      <th>4</th>\n",
       "      <td>you sir are my hero any chance you remember wh...</td>\n",
       "      <td>0</td>\n",
       "    </tr>\n",
       "    <tr>\n",
       "      <th>...</th>\n",
       "      <td>...</td>\n",
       "      <td>...</td>\n",
       "    </tr>\n",
       "    <tr>\n",
       "      <th>159287</th>\n",
       "      <td>and for the second time of asking when your vi...</td>\n",
       "      <td>0</td>\n",
       "    </tr>\n",
       "    <tr>\n",
       "      <th>159288</th>\n",
       "      <td>you should be ashamed of yourself that is a ho...</td>\n",
       "      <td>0</td>\n",
       "    </tr>\n",
       "    <tr>\n",
       "      <th>159289</th>\n",
       "      <td>spitzer umm theres no actual article for prost...</td>\n",
       "      <td>0</td>\n",
       "    </tr>\n",
       "    <tr>\n",
       "      <th>159290</th>\n",
       "      <td>and it looks like it was actually you who put ...</td>\n",
       "      <td>0</td>\n",
       "    </tr>\n",
       "    <tr>\n",
       "      <th>159291</th>\n",
       "      <td>and  i really dont think you understand  i cam...</td>\n",
       "      <td>0</td>\n",
       "    </tr>\n",
       "  </tbody>\n",
       "</table>\n",
       "<p>159292 rows × 2 columns</p>\n",
       "</div>"
      ],
      "text/plain": [
       "                                                     text  toxic\n",
       "0       explanationwhy the edits made under my usernam...      0\n",
       "1       daww he matches this background colour im seem...      0\n",
       "2       hey man im really not trying to edit war its j...      0\n",
       "3       morei cant make any real suggestions on improv...      0\n",
       "4       you sir are my hero any chance you remember wh...      0\n",
       "...                                                   ...    ...\n",
       "159287  and for the second time of asking when your vi...      0\n",
       "159288  you should be ashamed of yourself that is a ho...      0\n",
       "159289  spitzer umm theres no actual article for prost...      0\n",
       "159290  and it looks like it was actually you who put ...      0\n",
       "159291  and  i really dont think you understand  i cam...      0\n",
       "\n",
       "[159292 rows x 2 columns]"
      ]
     },
     "execution_count": 11,
     "metadata": {},
     "output_type": "execute_result"
    }
   ],
   "source": [
    "data.drop(columns=['Unnamed: 0'])"
   ]
  },
  {
   "cell_type": "markdown",
   "metadata": {},
   "source": [
    "Чтобы не создавать эмбеддинги слишком долго, возьмем из выборки 1000 случайных элементов."
   ]
  },
  {
   "cell_type": "code",
   "execution_count": 12,
   "metadata": {},
   "outputs": [],
   "source": [
    "data = data.sample(1000, random_state=12345).reset_index(drop=True)"
   ]
  },
  {
   "cell_type": "markdown",
   "metadata": {},
   "source": [
    "### Промежуточный вывод"
   ]
  },
  {
   "cell_type": "markdown",
   "metadata": {},
   "source": [
    "В начале исследования были импортированы все необходимые библиотеки и рассмотрен датафрейм. В исходных данных 159292 строк, отсутствуют пустые значения и дубликаты, но присутствует большой дисбаланс - 10% токсичных комментариев, 90% \"стандартных\". Было принято решение отформатировать текст перед обучением моделей, а также удалить ненужный столбец, дублирующий столбец с индексами. Также мы ограничили выборку до 1000 случайных элементов для оптимизации дальнейшей работы."
   ]
  },
  {
   "cell_type": "markdown",
   "metadata": {},
   "source": [
    "## Обучение"
   ]
  },
  {
   "cell_type": "markdown",
   "metadata": {},
   "source": [
    "### Подготовка к обучению"
   ]
  },
  {
   "cell_type": "markdown",
   "metadata": {},
   "source": [
    "Проведем токенизацию текстов, а к получившимся закодированным последовательностям добавим паддинги и маску.\n",
    "Будем использовать модель bert-base-cased."
   ]
  },
  {
   "cell_type": "code",
   "execution_count": 13,
   "metadata": {},
   "outputs": [],
   "source": [
    "tokenizer = BertTokenizer.from_pretrained('unitary/toxic-bert')\n",
    "\n",
    "tokenized = data['text'].apply(\n",
    "    lambda x: tokenizer.encode(x, add_special_tokens=True, truncation=True, max_length=512))\n",
    "\n",
    "max_len = 0\n",
    "for i in tokenized.values:\n",
    "    if len(i) > max_len:\n",
    "        max_len = len(i)\n",
    "\n",
    "padded = np.array([i + [0]*(max_len - len(i)) for i in tokenized.values])\n",
    "\n",
    "attention_mask = np.where(padded != 0, 1, 0)"
   ]
  },
  {
   "cell_type": "code",
   "execution_count": 14,
   "metadata": {},
   "outputs": [
    {
     "data": {
      "text/html": [
       "<div>\n",
       "<style scoped>\n",
       "    .dataframe tbody tr th:only-of-type {\n",
       "        vertical-align: middle;\n",
       "    }\n",
       "\n",
       "    .dataframe tbody tr th {\n",
       "        vertical-align: top;\n",
       "    }\n",
       "\n",
       "    .dataframe thead th {\n",
       "        text-align: right;\n",
       "    }\n",
       "</style>\n",
       "<table border=\"1\" class=\"dataframe\">\n",
       "  <thead>\n",
       "    <tr style=\"text-align: right;\">\n",
       "      <th></th>\n",
       "      <th>0</th>\n",
       "      <th>1</th>\n",
       "      <th>2</th>\n",
       "      <th>3</th>\n",
       "      <th>4</th>\n",
       "      <th>5</th>\n",
       "      <th>6</th>\n",
       "      <th>7</th>\n",
       "      <th>8</th>\n",
       "      <th>9</th>\n",
       "      <th>...</th>\n",
       "      <th>502</th>\n",
       "      <th>503</th>\n",
       "      <th>504</th>\n",
       "      <th>505</th>\n",
       "      <th>506</th>\n",
       "      <th>507</th>\n",
       "      <th>508</th>\n",
       "      <th>509</th>\n",
       "      <th>510</th>\n",
       "      <th>511</th>\n",
       "    </tr>\n",
       "  </thead>\n",
       "  <tbody>\n",
       "    <tr>\n",
       "      <th>0</th>\n",
       "      <td>101</td>\n",
       "      <td>6739</td>\n",
       "      <td>4937</td>\n",
       "      <td>20265</td>\n",
       "      <td>25709</td>\n",
       "      <td>2869</td>\n",
       "      <td>2339</td>\n",
       "      <td>2003</td>\n",
       "      <td>2045</td>\n",
       "      <td>2053</td>\n",
       "      <td>...</td>\n",
       "      <td>0</td>\n",
       "      <td>0</td>\n",
       "      <td>0</td>\n",
       "      <td>0</td>\n",
       "      <td>0</td>\n",
       "      <td>0</td>\n",
       "      <td>0</td>\n",
       "      <td>0</td>\n",
       "      <td>0</td>\n",
       "      <td>0</td>\n",
       "    </tr>\n",
       "    <tr>\n",
       "      <th>1</th>\n",
       "      <td>101</td>\n",
       "      <td>5005</td>\n",
       "      <td>2521</td>\n",
       "      <td>2102</td>\n",
       "      <td>2831</td>\n",
       "      <td>102</td>\n",
       "      <td>0</td>\n",
       "      <td>0</td>\n",
       "      <td>0</td>\n",
       "      <td>0</td>\n",
       "      <td>...</td>\n",
       "      <td>0</td>\n",
       "      <td>0</td>\n",
       "      <td>0</td>\n",
       "      <td>0</td>\n",
       "      <td>0</td>\n",
       "      <td>0</td>\n",
       "      <td>0</td>\n",
       "      <td>0</td>\n",
       "      <td>0</td>\n",
       "      <td>0</td>\n",
       "    </tr>\n",
       "    <tr>\n",
       "      <th>2</th>\n",
       "      <td>101</td>\n",
       "      <td>2019</td>\n",
       "      <td>25617</td>\n",
       "      <td>3796</td>\n",
       "      <td>2003</td>\n",
       "      <td>6413</td>\n",
       "      <td>2130</td>\n",
       "      <td>2005</td>\n",
       "      <td>1037</td>\n",
       "      <td>3576</td>\n",
       "      <td>...</td>\n",
       "      <td>0</td>\n",
       "      <td>0</td>\n",
       "      <td>0</td>\n",
       "      <td>0</td>\n",
       "      <td>0</td>\n",
       "      <td>0</td>\n",
       "      <td>0</td>\n",
       "      <td>0</td>\n",
       "      <td>0</td>\n",
       "      <td>0</td>\n",
       "    </tr>\n",
       "    <tr>\n",
       "      <th>3</th>\n",
       "      <td>101</td>\n",
       "      <td>1045</td>\n",
       "      <td>2123</td>\n",
       "      <td>2102</td>\n",
       "      <td>3305</td>\n",
       "      <td>2339</td>\n",
       "      <td>2057</td>\n",
       "      <td>2031</td>\n",
       "      <td>1037</td>\n",
       "      <td>12117</td>\n",
       "      <td>...</td>\n",
       "      <td>0</td>\n",
       "      <td>0</td>\n",
       "      <td>0</td>\n",
       "      <td>0</td>\n",
       "      <td>0</td>\n",
       "      <td>0</td>\n",
       "      <td>0</td>\n",
       "      <td>0</td>\n",
       "      <td>0</td>\n",
       "      <td>0</td>\n",
       "    </tr>\n",
       "    <tr>\n",
       "      <th>4</th>\n",
       "      <td>101</td>\n",
       "      <td>7592</td>\n",
       "      <td>2070</td>\n",
       "      <td>1997</td>\n",
       "      <td>1996</td>\n",
       "      <td>2111</td>\n",
       "      <td>3182</td>\n",
       "      <td>2030</td>\n",
       "      <td>2477</td>\n",
       "      <td>2017</td>\n",
       "      <td>...</td>\n",
       "      <td>0</td>\n",
       "      <td>0</td>\n",
       "      <td>0</td>\n",
       "      <td>0</td>\n",
       "      <td>0</td>\n",
       "      <td>0</td>\n",
       "      <td>0</td>\n",
       "      <td>0</td>\n",
       "      <td>0</td>\n",
       "      <td>0</td>\n",
       "    </tr>\n",
       "    <tr>\n",
       "      <th>...</th>\n",
       "      <td>...</td>\n",
       "      <td>...</td>\n",
       "      <td>...</td>\n",
       "      <td>...</td>\n",
       "      <td>...</td>\n",
       "      <td>...</td>\n",
       "      <td>...</td>\n",
       "      <td>...</td>\n",
       "      <td>...</td>\n",
       "      <td>...</td>\n",
       "      <td>...</td>\n",
       "      <td>...</td>\n",
       "      <td>...</td>\n",
       "      <td>...</td>\n",
       "      <td>...</td>\n",
       "      <td>...</td>\n",
       "      <td>...</td>\n",
       "      <td>...</td>\n",
       "      <td>...</td>\n",
       "      <td>...</td>\n",
       "      <td>...</td>\n",
       "    </tr>\n",
       "    <tr>\n",
       "      <th>995</th>\n",
       "      <td>101</td>\n",
       "      <td>2115</td>\n",
       "      <td>12339</td>\n",
       "      <td>2012</td>\n",
       "      <td>4790</td>\n",
       "      <td>2005</td>\n",
       "      <td>4325</td>\n",
       "      <td>6846</td>\n",
       "      <td>11201</td>\n",
       "      <td>2523</td>\n",
       "      <td>...</td>\n",
       "      <td>0</td>\n",
       "      <td>0</td>\n",
       "      <td>0</td>\n",
       "      <td>0</td>\n",
       "      <td>0</td>\n",
       "      <td>0</td>\n",
       "      <td>0</td>\n",
       "      <td>0</td>\n",
       "      <td>0</td>\n",
       "      <td>0</td>\n",
       "    </tr>\n",
       "    <tr>\n",
       "      <th>996</th>\n",
       "      <td>101</td>\n",
       "      <td>2061</td>\n",
       "      <td>2027</td>\n",
       "      <td>2134</td>\n",
       "      <td>2102</td>\n",
       "      <td>2156</td>\n",
       "      <td>2505</td>\n",
       "      <td>2004</td>\n",
       "      <td>2045</td>\n",
       "      <td>3475</td>\n",
       "      <td>...</td>\n",
       "      <td>0</td>\n",
       "      <td>0</td>\n",
       "      <td>0</td>\n",
       "      <td>0</td>\n",
       "      <td>0</td>\n",
       "      <td>0</td>\n",
       "      <td>0</td>\n",
       "      <td>0</td>\n",
       "      <td>0</td>\n",
       "      <td>0</td>\n",
       "    </tr>\n",
       "    <tr>\n",
       "      <th>997</th>\n",
       "      <td>101</td>\n",
       "      <td>2128</td>\n",
       "      <td>3270</td>\n",
       "      <td>3726</td>\n",
       "      <td>1037</td>\n",
       "      <td>2298</td>\n",
       "      <td>2035</td>\n",
       "      <td>3205</td>\n",
       "      <td>5530</td>\n",
       "      <td>6270</td>\n",
       "      <td>...</td>\n",
       "      <td>0</td>\n",
       "      <td>0</td>\n",
       "      <td>0</td>\n",
       "      <td>0</td>\n",
       "      <td>0</td>\n",
       "      <td>0</td>\n",
       "      <td>0</td>\n",
       "      <td>0</td>\n",
       "      <td>0</td>\n",
       "      <td>0</td>\n",
       "    </tr>\n",
       "    <tr>\n",
       "      <th>998</th>\n",
       "      <td>101</td>\n",
       "      <td>6203</td>\n",
       "      <td>3109</td>\n",
       "      <td>17190</td>\n",
       "      <td>2891</td>\n",
       "      <td>2064</td>\n",
       "      <td>2017</td>\n",
       "      <td>2644</td>\n",
       "      <td>3972</td>\n",
       "      <td>20624</td>\n",
       "      <td>...</td>\n",
       "      <td>28637</td>\n",
       "      <td>2243</td>\n",
       "      <td>2111</td>\n",
       "      <td>1996</td>\n",
       "      <td>2883</td>\n",
       "      <td>2218</td>\n",
       "      <td>2011</td>\n",
       "      <td>1996</td>\n",
       "      <td>5037</td>\n",
       "      <td>102</td>\n",
       "    </tr>\n",
       "    <tr>\n",
       "      <th>999</th>\n",
       "      <td>101</td>\n",
       "      <td>8827</td>\n",
       "      <td>19656</td>\n",
       "      <td>10128</td>\n",
       "      <td>24449</td>\n",
       "      <td>2044</td>\n",
       "      <td>2017</td>\n",
       "      <td>2024</td>\n",
       "      <td>2589</td>\n",
       "      <td>2175</td>\n",
       "      <td>...</td>\n",
       "      <td>0</td>\n",
       "      <td>0</td>\n",
       "      <td>0</td>\n",
       "      <td>0</td>\n",
       "      <td>0</td>\n",
       "      <td>0</td>\n",
       "      <td>0</td>\n",
       "      <td>0</td>\n",
       "      <td>0</td>\n",
       "      <td>0</td>\n",
       "    </tr>\n",
       "  </tbody>\n",
       "</table>\n",
       "<p>1000 rows × 512 columns</p>\n",
       "</div>"
      ],
      "text/plain": [
       "     0     1      2      3      4     5     6     7      8      9    ...  \\\n",
       "0    101  6739   4937  20265  25709  2869  2339  2003   2045   2053  ...   \n",
       "1    101  5005   2521   2102   2831   102     0     0      0      0  ...   \n",
       "2    101  2019  25617   3796   2003  6413  2130  2005   1037   3576  ...   \n",
       "3    101  1045   2123   2102   3305  2339  2057  2031   1037  12117  ...   \n",
       "4    101  7592   2070   1997   1996  2111  3182  2030   2477   2017  ...   \n",
       "..   ...   ...    ...    ...    ...   ...   ...   ...    ...    ...  ...   \n",
       "995  101  2115  12339   2012   4790  2005  4325  6846  11201   2523  ...   \n",
       "996  101  2061   2027   2134   2102  2156  2505  2004   2045   3475  ...   \n",
       "997  101  2128   3270   3726   1037  2298  2035  3205   5530   6270  ...   \n",
       "998  101  6203   3109  17190   2891  2064  2017  2644   3972  20624  ...   \n",
       "999  101  8827  19656  10128  24449  2044  2017  2024   2589   2175  ...   \n",
       "\n",
       "       502   503   504   505   506   507   508   509   510  511  \n",
       "0        0     0     0     0     0     0     0     0     0    0  \n",
       "1        0     0     0     0     0     0     0     0     0    0  \n",
       "2        0     0     0     0     0     0     0     0     0    0  \n",
       "3        0     0     0     0     0     0     0     0     0    0  \n",
       "4        0     0     0     0     0     0     0     0     0    0  \n",
       "..     ...   ...   ...   ...   ...   ...   ...   ...   ...  ...  \n",
       "995      0     0     0     0     0     0     0     0     0    0  \n",
       "996      0     0     0     0     0     0     0     0     0    0  \n",
       "997      0     0     0     0     0     0     0     0     0    0  \n",
       "998  28637  2243  2111  1996  2883  2218  2011  1996  5037  102  \n",
       "999      0     0     0     0     0     0     0     0     0    0  \n",
       "\n",
       "[1000 rows x 512 columns]"
      ]
     },
     "execution_count": 14,
     "metadata": {},
     "output_type": "execute_result"
    }
   ],
   "source": [
    "pd.DataFrame(padded)"
   ]
  },
  {
   "cell_type": "code",
   "execution_count": 15,
   "metadata": {},
   "outputs": [],
   "source": [
    "model = BertModel.from_pretrained('unitary/toxic-bert')"
   ]
  },
  {
   "cell_type": "code",
   "execution_count": 16,
   "metadata": {},
   "outputs": [
    {
     "data": {
      "application/vnd.jupyter.widget-view+json": {
       "model_id": "52bbb61f583c4baf8ae873530cdfd7fa",
       "version_major": 2,
       "version_minor": 0
      },
      "text/plain": [
       "  0%|          | 0/10 [00:00<?, ?it/s]"
      ]
     },
     "metadata": {},
     "output_type": "display_data"
    }
   ],
   "source": [
    "batch_size = 100\n",
    "embeddings = []\n",
    "for i in notebook.tqdm(range(padded.shape[0] // batch_size)):\n",
    "        batch = torch.LongTensor(padded[batch_size*i:batch_size*(i+1)])\n",
    "        attention_mask_batch = torch.LongTensor(attention_mask[batch_size*i:batch_size*(i+1)])\n",
    "        \n",
    "        with torch.no_grad():\n",
    "            batch_embeddings = model(batch, attention_mask=attention_mask_batch)\n",
    "        \n",
    "        embeddings.append(batch_embeddings[0][:,0,:].numpy())"
   ]
  },
  {
   "cell_type": "code",
   "execution_count": 17,
   "metadata": {},
   "outputs": [],
   "source": [
    "features = np.concatenate(embeddings)"
   ]
  },
  {
   "cell_type": "code",
   "execution_count": 18,
   "metadata": {},
   "outputs": [
    {
     "data": {
      "text/html": [
       "<div>\n",
       "<style scoped>\n",
       "    .dataframe tbody tr th:only-of-type {\n",
       "        vertical-align: middle;\n",
       "    }\n",
       "\n",
       "    .dataframe tbody tr th {\n",
       "        vertical-align: top;\n",
       "    }\n",
       "\n",
       "    .dataframe thead th {\n",
       "        text-align: right;\n",
       "    }\n",
       "</style>\n",
       "<table border=\"1\" class=\"dataframe\">\n",
       "  <thead>\n",
       "    <tr style=\"text-align: right;\">\n",
       "      <th></th>\n",
       "      <th>0</th>\n",
       "      <th>1</th>\n",
       "      <th>2</th>\n",
       "      <th>3</th>\n",
       "      <th>4</th>\n",
       "      <th>5</th>\n",
       "      <th>6</th>\n",
       "      <th>7</th>\n",
       "      <th>8</th>\n",
       "      <th>9</th>\n",
       "      <th>...</th>\n",
       "      <th>758</th>\n",
       "      <th>759</th>\n",
       "      <th>760</th>\n",
       "      <th>761</th>\n",
       "      <th>762</th>\n",
       "      <th>763</th>\n",
       "      <th>764</th>\n",
       "      <th>765</th>\n",
       "      <th>766</th>\n",
       "      <th>767</th>\n",
       "    </tr>\n",
       "  </thead>\n",
       "  <tbody>\n",
       "    <tr>\n",
       "      <th>0</th>\n",
       "      <td>-0.635504</td>\n",
       "      <td>-0.703305</td>\n",
       "      <td>0.081495</td>\n",
       "      <td>-0.639429</td>\n",
       "      <td>0.671178</td>\n",
       "      <td>0.350575</td>\n",
       "      <td>0.436597</td>\n",
       "      <td>0.390643</td>\n",
       "      <td>-0.551414</td>\n",
       "      <td>-0.589928</td>\n",
       "      <td>...</td>\n",
       "      <td>-0.764710</td>\n",
       "      <td>-0.359494</td>\n",
       "      <td>0.232706</td>\n",
       "      <td>-0.834332</td>\n",
       "      <td>0.017505</td>\n",
       "      <td>0.554773</td>\n",
       "      <td>-0.265268</td>\n",
       "      <td>-0.694367</td>\n",
       "      <td>0.545499</td>\n",
       "      <td>0.739077</td>\n",
       "    </tr>\n",
       "    <tr>\n",
       "      <th>1</th>\n",
       "      <td>-0.291251</td>\n",
       "      <td>0.099661</td>\n",
       "      <td>0.491632</td>\n",
       "      <td>-0.371130</td>\n",
       "      <td>0.122507</td>\n",
       "      <td>0.680457</td>\n",
       "      <td>0.789726</td>\n",
       "      <td>1.113528</td>\n",
       "      <td>-0.331364</td>\n",
       "      <td>0.143391</td>\n",
       "      <td>...</td>\n",
       "      <td>-0.991727</td>\n",
       "      <td>0.583062</td>\n",
       "      <td>-0.229646</td>\n",
       "      <td>-0.457128</td>\n",
       "      <td>-0.653195</td>\n",
       "      <td>-0.198899</td>\n",
       "      <td>0.070784</td>\n",
       "      <td>-0.122628</td>\n",
       "      <td>0.449506</td>\n",
       "      <td>0.422324</td>\n",
       "    </tr>\n",
       "    <tr>\n",
       "      <th>2</th>\n",
       "      <td>-0.563838</td>\n",
       "      <td>-0.829681</td>\n",
       "      <td>0.648079</td>\n",
       "      <td>-0.617209</td>\n",
       "      <td>0.783029</td>\n",
       "      <td>0.371205</td>\n",
       "      <td>0.237803</td>\n",
       "      <td>0.137432</td>\n",
       "      <td>-0.279928</td>\n",
       "      <td>-0.584619</td>\n",
       "      <td>...</td>\n",
       "      <td>-0.620984</td>\n",
       "      <td>-1.243323</td>\n",
       "      <td>0.658957</td>\n",
       "      <td>-0.371770</td>\n",
       "      <td>0.017504</td>\n",
       "      <td>0.646410</td>\n",
       "      <td>-0.439046</td>\n",
       "      <td>-0.865320</td>\n",
       "      <td>0.476207</td>\n",
       "      <td>0.335031</td>\n",
       "    </tr>\n",
       "    <tr>\n",
       "      <th>3</th>\n",
       "      <td>-0.487808</td>\n",
       "      <td>-0.753664</td>\n",
       "      <td>0.690617</td>\n",
       "      <td>-0.283727</td>\n",
       "      <td>0.816633</td>\n",
       "      <td>0.161522</td>\n",
       "      <td>0.009903</td>\n",
       "      <td>0.017450</td>\n",
       "      <td>-0.202628</td>\n",
       "      <td>-0.616545</td>\n",
       "      <td>...</td>\n",
       "      <td>-0.684803</td>\n",
       "      <td>-1.060231</td>\n",
       "      <td>0.345952</td>\n",
       "      <td>-0.571224</td>\n",
       "      <td>0.082368</td>\n",
       "      <td>0.976305</td>\n",
       "      <td>-0.486156</td>\n",
       "      <td>-0.852764</td>\n",
       "      <td>0.616862</td>\n",
       "      <td>0.287910</td>\n",
       "    </tr>\n",
       "    <tr>\n",
       "      <th>4</th>\n",
       "      <td>-0.287314</td>\n",
       "      <td>-0.668821</td>\n",
       "      <td>0.677353</td>\n",
       "      <td>-0.548212</td>\n",
       "      <td>0.889158</td>\n",
       "      <td>0.132818</td>\n",
       "      <td>-0.000072</td>\n",
       "      <td>0.135495</td>\n",
       "      <td>-0.156961</td>\n",
       "      <td>-0.625257</td>\n",
       "      <td>...</td>\n",
       "      <td>-0.608045</td>\n",
       "      <td>-1.202438</td>\n",
       "      <td>0.449768</td>\n",
       "      <td>-0.441045</td>\n",
       "      <td>0.085390</td>\n",
       "      <td>0.756441</td>\n",
       "      <td>-0.504315</td>\n",
       "      <td>-0.916202</td>\n",
       "      <td>0.582383</td>\n",
       "      <td>0.304060</td>\n",
       "    </tr>\n",
       "    <tr>\n",
       "      <th>...</th>\n",
       "      <td>...</td>\n",
       "      <td>...</td>\n",
       "      <td>...</td>\n",
       "      <td>...</td>\n",
       "      <td>...</td>\n",
       "      <td>...</td>\n",
       "      <td>...</td>\n",
       "      <td>...</td>\n",
       "      <td>...</td>\n",
       "      <td>...</td>\n",
       "      <td>...</td>\n",
       "      <td>...</td>\n",
       "      <td>...</td>\n",
       "      <td>...</td>\n",
       "      <td>...</td>\n",
       "      <td>...</td>\n",
       "      <td>...</td>\n",
       "      <td>...</td>\n",
       "      <td>...</td>\n",
       "      <td>...</td>\n",
       "      <td>...</td>\n",
       "    </tr>\n",
       "    <tr>\n",
       "      <th>995</th>\n",
       "      <td>-0.340316</td>\n",
       "      <td>-0.637940</td>\n",
       "      <td>0.587229</td>\n",
       "      <td>-0.439812</td>\n",
       "      <td>0.814885</td>\n",
       "      <td>0.042588</td>\n",
       "      <td>-0.083314</td>\n",
       "      <td>0.108277</td>\n",
       "      <td>-0.195416</td>\n",
       "      <td>-0.693661</td>\n",
       "      <td>...</td>\n",
       "      <td>-0.459407</td>\n",
       "      <td>-1.131060</td>\n",
       "      <td>0.466816</td>\n",
       "      <td>-0.517702</td>\n",
       "      <td>0.063296</td>\n",
       "      <td>0.866305</td>\n",
       "      <td>-0.596671</td>\n",
       "      <td>-0.777635</td>\n",
       "      <td>0.551840</td>\n",
       "      <td>0.210567</td>\n",
       "    </tr>\n",
       "    <tr>\n",
       "      <th>996</th>\n",
       "      <td>-0.462576</td>\n",
       "      <td>-0.655671</td>\n",
       "      <td>0.508893</td>\n",
       "      <td>-0.606373</td>\n",
       "      <td>0.853625</td>\n",
       "      <td>0.214561</td>\n",
       "      <td>0.096027</td>\n",
       "      <td>0.033462</td>\n",
       "      <td>-0.166991</td>\n",
       "      <td>-0.485975</td>\n",
       "      <td>...</td>\n",
       "      <td>-0.660371</td>\n",
       "      <td>-1.122361</td>\n",
       "      <td>0.485445</td>\n",
       "      <td>-0.507140</td>\n",
       "      <td>0.077131</td>\n",
       "      <td>0.824327</td>\n",
       "      <td>-0.476473</td>\n",
       "      <td>-0.874483</td>\n",
       "      <td>0.657639</td>\n",
       "      <td>0.288426</td>\n",
       "    </tr>\n",
       "    <tr>\n",
       "      <th>997</th>\n",
       "      <td>-0.603346</td>\n",
       "      <td>-0.744143</td>\n",
       "      <td>0.651679</td>\n",
       "      <td>-0.663084</td>\n",
       "      <td>0.732991</td>\n",
       "      <td>0.565328</td>\n",
       "      <td>0.417892</td>\n",
       "      <td>0.306241</td>\n",
       "      <td>-0.231201</td>\n",
       "      <td>-0.589836</td>\n",
       "      <td>...</td>\n",
       "      <td>-0.899134</td>\n",
       "      <td>-0.683224</td>\n",
       "      <td>0.261490</td>\n",
       "      <td>-0.642398</td>\n",
       "      <td>-0.201704</td>\n",
       "      <td>0.359470</td>\n",
       "      <td>-0.566508</td>\n",
       "      <td>-0.658897</td>\n",
       "      <td>0.803803</td>\n",
       "      <td>0.635129</td>\n",
       "    </tr>\n",
       "    <tr>\n",
       "      <th>998</th>\n",
       "      <td>-0.714947</td>\n",
       "      <td>-0.473126</td>\n",
       "      <td>0.036995</td>\n",
       "      <td>-0.865021</td>\n",
       "      <td>0.770470</td>\n",
       "      <td>0.532497</td>\n",
       "      <td>0.603665</td>\n",
       "      <td>0.396184</td>\n",
       "      <td>-0.952556</td>\n",
       "      <td>-0.979444</td>\n",
       "      <td>...</td>\n",
       "      <td>-0.531408</td>\n",
       "      <td>-0.415839</td>\n",
       "      <td>0.230903</td>\n",
       "      <td>-0.725685</td>\n",
       "      <td>0.133429</td>\n",
       "      <td>0.539215</td>\n",
       "      <td>-0.626219</td>\n",
       "      <td>-0.688707</td>\n",
       "      <td>0.269359</td>\n",
       "      <td>0.665991</td>\n",
       "    </tr>\n",
       "    <tr>\n",
       "      <th>999</th>\n",
       "      <td>-0.420124</td>\n",
       "      <td>0.725394</td>\n",
       "      <td>0.956048</td>\n",
       "      <td>0.499372</td>\n",
       "      <td>-0.497212</td>\n",
       "      <td>0.535092</td>\n",
       "      <td>0.877780</td>\n",
       "      <td>0.508602</td>\n",
       "      <td>-0.182283</td>\n",
       "      <td>0.744681</td>\n",
       "      <td>...</td>\n",
       "      <td>-1.040727</td>\n",
       "      <td>0.290847</td>\n",
       "      <td>-0.934275</td>\n",
       "      <td>0.056315</td>\n",
       "      <td>-1.207205</td>\n",
       "      <td>-1.002312</td>\n",
       "      <td>0.378243</td>\n",
       "      <td>-0.626396</td>\n",
       "      <td>0.106886</td>\n",
       "      <td>-0.153628</td>\n",
       "    </tr>\n",
       "  </tbody>\n",
       "</table>\n",
       "<p>1000 rows × 768 columns</p>\n",
       "</div>"
      ],
      "text/plain": [
       "          0         1         2         3         4         5         6    \\\n",
       "0   -0.635504 -0.703305  0.081495 -0.639429  0.671178  0.350575  0.436597   \n",
       "1   -0.291251  0.099661  0.491632 -0.371130  0.122507  0.680457  0.789726   \n",
       "2   -0.563838 -0.829681  0.648079 -0.617209  0.783029  0.371205  0.237803   \n",
       "3   -0.487808 -0.753664  0.690617 -0.283727  0.816633  0.161522  0.009903   \n",
       "4   -0.287314 -0.668821  0.677353 -0.548212  0.889158  0.132818 -0.000072   \n",
       "..        ...       ...       ...       ...       ...       ...       ...   \n",
       "995 -0.340316 -0.637940  0.587229 -0.439812  0.814885  0.042588 -0.083314   \n",
       "996 -0.462576 -0.655671  0.508893 -0.606373  0.853625  0.214561  0.096027   \n",
       "997 -0.603346 -0.744143  0.651679 -0.663084  0.732991  0.565328  0.417892   \n",
       "998 -0.714947 -0.473126  0.036995 -0.865021  0.770470  0.532497  0.603665   \n",
       "999 -0.420124  0.725394  0.956048  0.499372 -0.497212  0.535092  0.877780   \n",
       "\n",
       "          7         8         9    ...       758       759       760  \\\n",
       "0    0.390643 -0.551414 -0.589928  ... -0.764710 -0.359494  0.232706   \n",
       "1    1.113528 -0.331364  0.143391  ... -0.991727  0.583062 -0.229646   \n",
       "2    0.137432 -0.279928 -0.584619  ... -0.620984 -1.243323  0.658957   \n",
       "3    0.017450 -0.202628 -0.616545  ... -0.684803 -1.060231  0.345952   \n",
       "4    0.135495 -0.156961 -0.625257  ... -0.608045 -1.202438  0.449768   \n",
       "..        ...       ...       ...  ...       ...       ...       ...   \n",
       "995  0.108277 -0.195416 -0.693661  ... -0.459407 -1.131060  0.466816   \n",
       "996  0.033462 -0.166991 -0.485975  ... -0.660371 -1.122361  0.485445   \n",
       "997  0.306241 -0.231201 -0.589836  ... -0.899134 -0.683224  0.261490   \n",
       "998  0.396184 -0.952556 -0.979444  ... -0.531408 -0.415839  0.230903   \n",
       "999  0.508602 -0.182283  0.744681  ... -1.040727  0.290847 -0.934275   \n",
       "\n",
       "          761       762       763       764       765       766       767  \n",
       "0   -0.834332  0.017505  0.554773 -0.265268 -0.694367  0.545499  0.739077  \n",
       "1   -0.457128 -0.653195 -0.198899  0.070784 -0.122628  0.449506  0.422324  \n",
       "2   -0.371770  0.017504  0.646410 -0.439046 -0.865320  0.476207  0.335031  \n",
       "3   -0.571224  0.082368  0.976305 -0.486156 -0.852764  0.616862  0.287910  \n",
       "4   -0.441045  0.085390  0.756441 -0.504315 -0.916202  0.582383  0.304060  \n",
       "..        ...       ...       ...       ...       ...       ...       ...  \n",
       "995 -0.517702  0.063296  0.866305 -0.596671 -0.777635  0.551840  0.210567  \n",
       "996 -0.507140  0.077131  0.824327 -0.476473 -0.874483  0.657639  0.288426  \n",
       "997 -0.642398 -0.201704  0.359470 -0.566508 -0.658897  0.803803  0.635129  \n",
       "998 -0.725685  0.133429  0.539215 -0.626219 -0.688707  0.269359  0.665991  \n",
       "999  0.056315 -1.207205 -1.002312  0.378243 -0.626396  0.106886 -0.153628  \n",
       "\n",
       "[1000 rows x 768 columns]"
      ]
     },
     "execution_count": 18,
     "metadata": {},
     "output_type": "execute_result"
    }
   ],
   "source": [
    "features_final = pd.DataFrame(features)\n",
    "features_final = features_final.dropna()\n",
    "features_final"
   ]
  },
  {
   "cell_type": "markdown",
   "metadata": {},
   "source": [
    "Для обучения модели разделим данные следующим образом:"
   ]
  },
  {
   "cell_type": "code",
   "execution_count": 19,
   "metadata": {},
   "outputs": [
    {
     "data": {
      "text/plain": [
       "(800, 768)"
      ]
     },
     "metadata": {},
     "output_type": "display_data"
    },
    {
     "data": {
      "text/plain": [
       "(200, 768)"
      ]
     },
     "metadata": {},
     "output_type": "display_data"
    },
    {
     "data": {
      "text/plain": [
       "(800,)"
      ]
     },
     "metadata": {},
     "output_type": "display_data"
    },
    {
     "data": {
      "text/plain": [
       "(200,)"
      ]
     },
     "metadata": {},
     "output_type": "display_data"
    }
   ],
   "source": [
    "data_new = pd.DataFrame(features_final)\n",
    "data_new['y'] = data['toxic']\n",
    "\n",
    "features = data_new.drop('y',axis=1)\n",
    "target = data['toxic']\n",
    "\n",
    "features_train, features_test, target_train, target_test = train_test_split(\n",
    "                                                                features,\n",
    "                                                                target,\n",
    "                                                                test_size=0.2,\n",
    "                                                                random_state=12345)\n",
    "display(features_train.shape, features_test.shape, target_train.shape, target_test.shape)"
   ]
  },
  {
   "cell_type": "markdown",
   "metadata": {},
   "source": [
    "И создадим функцию для удобного вывода результата обученных разными методами моделей:"
   ]
  },
  {
   "cell_type": "code",
   "execution_count": 21,
   "metadata": {},
   "outputs": [],
   "source": [
    "def result_func(model_type,\n",
    "                parameters,\n",
    "                features_train_new):\n",
    "    \n",
    "    pl = Pipeline([('model', model_type)])\n",
    "    \n",
    "    gs_pl = GridSearchCV(\n",
    "            estimator = pl, \n",
    "            param_grid = parameters, \n",
    "            scoring = 'f1',\n",
    "            cv = 5,\n",
    "            n_jobs = -1,\n",
    "            verbose = 3)\n",
    "        \n",
    "    gs_pl.fit(features_train_new, target_train)\n",
    "    best_model = gs_pl.best_estimator_\n",
    "\n",
    "    gs_pl_best_score = gs_pl.best_score_\n",
    "    gs_pl_best_params = gs_pl.best_params_\n",
    "    best_index = gs_pl.best_index_\n",
    "    gs_pl_fit_time = round(gs_pl.cv_results_['mean_fit_time'][best_index], 2)\n",
    "    gs_pl_score_time = round(gs_pl.cv_results_['mean_score_time'][best_index], 2)\n",
    "\n",
    "    print('Лучшие параметры для метода', model_type, '- {}'.format(gs_pl_best_params))\n",
    "    print('Значение F1-меры =', round(gs_pl_best_score, 2), '\\n')\n",
    "    print('Время обучения модели', gs_pl_fit_time, 'секунд', '\\n')\n",
    "    print('Время предсказания модели', gs_pl_score_time, 'секунд', '\\n')\n",
    "    \n",
    "    return best_model, gs_pl_best_score, gs_pl_fit_time, gs_pl_score_time"
   ]
  },
  {
   "cell_type": "markdown",
   "metadata": {},
   "source": [
    "Приступим к обучению разными методами."
   ]
  },
  {
   "cell_type": "markdown",
   "metadata": {},
   "source": [
    "#### Метод LogisticRegression()"
   ]
  },
  {
   "cell_type": "code",
   "execution_count": 22,
   "metadata": {},
   "outputs": [],
   "source": [
    "features_train_lr = features_train.copy()\n",
    "features_test_lr = features_test.copy()"
   ]
  },
  {
   "cell_type": "code",
   "execution_count": 23,
   "metadata": {},
   "outputs": [
    {
     "name": "stdout",
     "output_type": "stream",
     "text": [
      "Fitting 5 folds for each of 384 candidates, totalling 1920 fits\n",
      "Лучшие параметры для метода LogisticRegression(random_state=12345) - {'model__C': 5.0, 'model__class_weight': None, 'model__max_iter': 500, 'model__penalty': 'l1', 'model__solver': 'saga'}\n",
      "Значение F1-меры = 0.91 \n",
      "\n",
      "Время обучения модели 29.19 секунд \n",
      "\n",
      "Время предсказания модели 0.05 секунд \n",
      "\n",
      "Wall time: 25min 36s\n"
     ]
    }
   ],
   "source": [
    "%%time\n",
    "\n",
    "model_lr, f1_score_lr, lr_fit_time, lr_score_time = result_func(\n",
    "    LogisticRegression(random_state=12345), \n",
    "    {'model__penalty': ['l1', 'l2'],\n",
    "     'model__solver': ['lbfgs', 'liblinear', 'newton-cg', 'newton-cholesky', 'sag', 'saga'],\n",
    "     'model__C': np.linspace(5, 15, 1),\n",
    "     'model__class_weight': [None, 'Balanced'],\n",
    "     'model__max_iter': range(200, 1000, 50)},\n",
    "    features_train_lr)"
   ]
  },
  {
   "cell_type": "markdown",
   "metadata": {},
   "source": [
    "#### Метод DecisionTreeClassifier()"
   ]
  },
  {
   "cell_type": "code",
   "execution_count": 24,
   "metadata": {},
   "outputs": [],
   "source": [
    "features_train_dt = features_train.copy()\n",
    "features_test_dt = features_test.copy()"
   ]
  },
  {
   "cell_type": "code",
   "execution_count": 25,
   "metadata": {},
   "outputs": [
    {
     "name": "stdout",
     "output_type": "stream",
     "text": [
      "Fitting 5 folds for each of 180 candidates, totalling 900 fits\n",
      "Лучшие параметры для метода DecisionTreeClassifier(random_state=12345) - {'model__criterion': 'entropy', 'model__max_depth': None, 'model__min_samples_leaf': 7, 'model__splitter': 'random'}\n",
      "Значение F1-меры = 0.89 \n",
      "\n",
      "Время обучения модели 0.13 секунд \n",
      "\n",
      "Время предсказания модели 0.06 секунд \n",
      "\n",
      "Wall time: 1min 5s\n"
     ]
    }
   ],
   "source": [
    "%%time\n",
    "\n",
    "model_dt, f1_score_dt, dt_fit_time, dt_score_time = result_func(\n",
    "    DecisionTreeClassifier(random_state=12345), \n",
    "    {'model__criterion': ['gini', 'entropy', 'log_loss'],\n",
    "     'model__splitter': ['best', 'random'],\n",
    "     'model__max_depth': [None] + [i for i in range(2, 7)],\n",
    "     'model__min_samples_leaf': [6, 7, 8, 9, 10]},\n",
    "    features_train_dt)"
   ]
  },
  {
   "cell_type": "markdown",
   "metadata": {},
   "source": [
    "#### Метод RandomForestClassifier()"
   ]
  },
  {
   "cell_type": "code",
   "execution_count": 26,
   "metadata": {},
   "outputs": [],
   "source": [
    "features_train_rf = features_train.copy()\n",
    "features_test_rf = features_test.copy()"
   ]
  },
  {
   "cell_type": "code",
   "execution_count": 27,
   "metadata": {},
   "outputs": [
    {
     "name": "stdout",
     "output_type": "stream",
     "text": [
      "Лучшие параметры для метода RandomForestClassifier(random_state=12345) - {'randomforestclassifier__n_estimators': 150, 'randomforestclassifier__min_samples_split': 3, 'randomforestclassifier__min_samples_leaf': 2, 'randomforestclassifier__max_depth': 2, 'randomforestclassifier__criterion': 'entropy'}\n",
      "Значение F1-меры = 0.92 \n",
      "\n",
      "Время обучения модели 3.91 секунд \n",
      "\n",
      "Время предсказания модели 0.12 секунд \n",
      "\n",
      "Wall time: 20.8 s\n"
     ]
    }
   ],
   "source": [
    "%%time\n",
    "\n",
    "model_rf = RandomForestClassifier(random_state=12345)\n",
    "\n",
    "pipline_rf = Pipeline([('randomforestclassifier', model_rf)])\n",
    "\n",
    "param_grid_rf = {\n",
    "    'randomforestclassifier__n_estimators': range(50, 151, 50),\n",
    "    'randomforestclassifier__criterion': ['gini', 'entropy', 'log_loss'],\n",
    "    'randomforestclassifier__max_depth': range(2, 15),\n",
    "    'randomforestclassifier__min_samples_split': (2, 3, 4),\n",
    "    'randomforestclassifier__min_samples_leaf': (1, 2, 3, 4)\n",
    "}\n",
    "\n",
    "gs_rf = RandomizedSearchCV(\n",
    "    pipline_rf, \n",
    "    param_distributions = param_grid_rf, \n",
    "    scoring = 'f1', \n",
    "    n_jobs = -1, \n",
    "    random_state = 12345\n",
    ")\n",
    "\n",
    "gs_rf.fit(features_train_rf, target_train)\n",
    "\n",
    "gs_rf_best_score = gs_rf.best_score_\n",
    "gs_rf_best_params = gs_rf.best_params_\n",
    "best_index = gs_rf.best_index_\n",
    "gs_rf_fit_time = round(gs_rf.cv_results_['mean_fit_time'][best_index], 2)\n",
    "gs_rf_score_time = round(gs_rf.cv_results_['mean_score_time'][best_index], 2)\n",
    "\n",
    "print('Лучшие параметры для метода', model_rf, '- {}'.format(gs_rf_best_params))\n",
    "print('Значение F1-меры =', round(gs_rf_best_score, 2), '\\n')\n",
    "print('Время обучения модели', gs_rf_fit_time, 'секунд', '\\n')\n",
    "print('Время предсказания модели', gs_rf_score_time, 'секунд', '\\n')"
   ]
  },
  {
   "cell_type": "markdown",
   "metadata": {},
   "source": [
    "#### Метод SVM()"
   ]
  },
  {
   "cell_type": "code",
   "execution_count": 28,
   "metadata": {},
   "outputs": [],
   "source": [
    "features_train_SVC = features_train.copy()\n",
    "features_test_SVC = features_test.copy()"
   ]
  },
  {
   "cell_type": "code",
   "execution_count": 29,
   "metadata": {
    "scrolled": true
   },
   "outputs": [
    {
     "name": "stdout",
     "output_type": "stream",
     "text": [
      "Fitting 5 folds for each of 1600 candidates, totalling 8000 fits\n",
      "Лучшие параметры для метода SVC(random_state=12345) - {'model__C': 5, 'model__class_weight': None, 'model__decision_function_shape': 'ovo', 'model__degree': 2, 'model__gamma': 0.001, 'model__kernel': 'sigmoid'}\n",
      "Значение F1-меры = 0.92 \n",
      "\n",
      "Время обучения модели 0.16 секунд \n",
      "\n",
      "Время предсказания модели 0.06 секунд \n",
      "\n",
      "Wall time: 4min 39s\n"
     ]
    }
   ],
   "source": [
    "%%time\n",
    "\n",
    "model_SVC, f1_score_SVC, SVC_fit_time, SVC_score_time = result_func(\n",
    "    SVC(random_state=12345), \n",
    "    {'model__C': np.arange(5, 15, 1), \n",
    "     'model__gamma': [1, 0.1, 0.01, 0.001, 0.0001],\n",
    "     'model__kernel': ['linear', 'poly', 'rbf', 'sigmoid'],\n",
    "     'model__decision_function_shape': ['ovo', 'ovr'],\n",
    "     'model__degree': [2, 3],\n",
    "     'model__class_weight': [None, 'Balanced']},\n",
    "    features_train_SVC)"
   ]
  },
  {
   "cell_type": "markdown",
   "metadata": {},
   "source": [
    "#### Метод GaussianNB()"
   ]
  },
  {
   "cell_type": "code",
   "execution_count": 30,
   "metadata": {},
   "outputs": [],
   "source": [
    "features_train_Gauss = features_train.copy()\n",
    "features_test_Gauss = features_test.copy()"
   ]
  },
  {
   "cell_type": "code",
   "execution_count": 31,
   "metadata": {},
   "outputs": [
    {
     "name": "stdout",
     "output_type": "stream",
     "text": [
      "Fitting 5 folds for each of 100 candidates, totalling 500 fits\n",
      "Лучшие параметры для метода GaussianNB() - {'model__priors': None, 'model__var_smoothing': 0.3511191734215131}\n",
      "Значение F1-меры = 0.92 \n",
      "\n",
      "Время обучения модели 0.14 секунд \n",
      "\n",
      "Время предсказания модели 0.11 секунд \n",
      "\n",
      "Wall time: 11.5 s\n"
     ]
    }
   ],
   "source": [
    "%%time\n",
    "\n",
    "model_Gauss, f1_score_Gauss, Gauss_fit_time, Gauss_score_time = result_func(\n",
    "    GaussianNB(), \n",
    "    {'model__priors': [None],\n",
    "     'model__var_smoothing': np.logspace(0,-9, num=100)},\n",
    "    features_train_Gauss)"
   ]
  },
  {
   "cell_type": "markdown",
   "metadata": {},
   "source": [
    "#### Метод K-NN()"
   ]
  },
  {
   "cell_type": "code",
   "execution_count": 32,
   "metadata": {},
   "outputs": [],
   "source": [
    "features_train_KNN = features_train.copy()\n",
    "features_test_KNN = features_test.copy()"
   ]
  },
  {
   "cell_type": "code",
   "execution_count": 33,
   "metadata": {},
   "outputs": [
    {
     "name": "stdout",
     "output_type": "stream",
     "text": [
      "Fitting 5 folds for each of 1920 candidates, totalling 9600 fits\n",
      "Лучшие параметры для метода KNeighborsClassifier() - {'model__algorithm': 'auto', 'model__leaf_size': 1, 'model__n_neighbors': 6, 'model__weights': 'distance'}\n",
      "Значение F1-меры = 0.91 \n",
      "\n",
      "Время обучения модели 0.1 секунд \n",
      "\n",
      "Время предсказания модели 0.12 секунд \n",
      "\n",
      "Wall time: 11min 59s\n"
     ]
    }
   ],
   "source": [
    "%%time\n",
    "\n",
    "model_KNN, f1_score_KNN, KNN_fit_time, KNN_score_time = result_func(\n",
    "    KNeighborsClassifier(), \n",
    "    {'model__n_neighbors': [6, 8, 10, 12, 14, 16, 18, 20],\n",
    "     'model__leaf_size': list(range(1, 150, 5)),\n",
    "     'model__weights': ['uniform', 'distance'],\n",
    "     'model__algorithm': ['auto', 'ball_tree', 'kd_tree', 'brute']},\n",
    "    features_train_KNN)"
   ]
  },
  {
   "cell_type": "markdown",
   "metadata": {},
   "source": [
    "Проведем анализ всех использованных в исследовании моделей, создадим таблицу, где выведем результаты по качеству предсказания, времени обучения модели, времени предсказания модели."
   ]
  },
  {
   "cell_type": "code",
   "execution_count": 34,
   "metadata": {},
   "outputs": [
    {
     "data": {
      "text/html": [
       "<div>\n",
       "<style scoped>\n",
       "    .dataframe tbody tr th:only-of-type {\n",
       "        vertical-align: middle;\n",
       "    }\n",
       "\n",
       "    .dataframe tbody tr th {\n",
       "        vertical-align: top;\n",
       "    }\n",
       "\n",
       "    .dataframe thead th {\n",
       "        text-align: right;\n",
       "    }\n",
       "</style>\n",
       "<table border=\"1\" class=\"dataframe\">\n",
       "  <thead>\n",
       "    <tr style=\"text-align: right;\">\n",
       "      <th></th>\n",
       "      <th>F1_score</th>\n",
       "      <th>Время обучения модели</th>\n",
       "      <th>Время предсказания модели</th>\n",
       "    </tr>\n",
       "  </thead>\n",
       "  <tbody>\n",
       "    <tr>\n",
       "      <th>SVM</th>\n",
       "      <td>0.919278</td>\n",
       "      <td>0.16</td>\n",
       "      <td>0.06</td>\n",
       "    </tr>\n",
       "    <tr>\n",
       "      <th>RandomForestClassifier</th>\n",
       "      <td>0.918929</td>\n",
       "      <td>3.91</td>\n",
       "      <td>0.12</td>\n",
       "    </tr>\n",
       "    <tr>\n",
       "      <th>GaussianNB</th>\n",
       "      <td>0.918218</td>\n",
       "      <td>0.14</td>\n",
       "      <td>0.11</td>\n",
       "    </tr>\n",
       "    <tr>\n",
       "      <th>K-NN</th>\n",
       "      <td>0.913277</td>\n",
       "      <td>0.10</td>\n",
       "      <td>0.12</td>\n",
       "    </tr>\n",
       "    <tr>\n",
       "      <th>LogisticRegression</th>\n",
       "      <td>0.912851</td>\n",
       "      <td>29.19</td>\n",
       "      <td>0.05</td>\n",
       "    </tr>\n",
       "    <tr>\n",
       "      <th>DecisionTreeClassifier</th>\n",
       "      <td>0.891515</td>\n",
       "      <td>0.13</td>\n",
       "      <td>0.06</td>\n",
       "    </tr>\n",
       "  </tbody>\n",
       "</table>\n",
       "</div>"
      ],
      "text/plain": [
       "                        F1_score  Время обучения модели  \\\n",
       "SVM                     0.919278                   0.16   \n",
       "RandomForestClassifier  0.918929                   3.91   \n",
       "GaussianNB              0.918218                   0.14   \n",
       "K-NN                    0.913277                   0.10   \n",
       "LogisticRegression      0.912851                  29.19   \n",
       "DecisionTreeClassifier  0.891515                   0.13   \n",
       "\n",
       "                        Время предсказания модели  \n",
       "SVM                                          0.06  \n",
       "RandomForestClassifier                       0.12  \n",
       "GaussianNB                                   0.11  \n",
       "K-NN                                         0.12  \n",
       "LogisticRegression                           0.05  \n",
       "DecisionTreeClassifier                       0.06  "
      ]
     },
     "execution_count": 34,
     "metadata": {},
     "output_type": "execute_result"
    }
   ],
   "source": [
    "result = pd.DataFrame(\n",
    "    data={'F1_score': [f1_score_lr,\n",
    "                       f1_score_dt,\n",
    "                       gs_rf_best_score,\n",
    "                       f1_score_SVC,\n",
    "                       f1_score_Gauss,\n",
    "                       f1_score_KNN],\n",
    "           'Время обучения модели': [lr_fit_time,\n",
    "                                     dt_fit_time,\n",
    "                                     gs_rf_fit_time,\n",
    "                                     SVC_fit_time,\n",
    "                                     Gauss_fit_time,\n",
    "                                     KNN_fit_time],\n",
    "          'Время предсказания модели': [lr_score_time,\n",
    "                                        dt_score_time,\n",
    "                                        gs_rf_score_time,\n",
    "                                        SVC_score_time,\n",
    "                                        Gauss_score_time,\n",
    "                                        KNN_score_time]}, \n",
    "    index=['LogisticRegression',\n",
    "           'DecisionTreeClassifier',\n",
    "           'RandomForestClassifier',\n",
    "           'SVM',\n",
    "           'GaussianNB',\n",
    "           'K-NN'] \n",
    ")\n",
    "result.sort_values(by='F1_score', ascending=False)"
   ]
  },
  {
   "cell_type": "markdown",
   "metadata": {},
   "source": [
    "По результатам обучения лучшей моделью является модель, обученная методом SVM():\n",
    "- F1-мера: 0.919\n",
    "- Время обучения модели: 0.16 секунд\n",
    "- Время предсказания модели: 0.06 секунд"
   ]
  },
  {
   "cell_type": "markdown",
   "metadata": {},
   "source": [
    "### Тестирование модели"
   ]
  },
  {
   "cell_type": "markdown",
   "metadata": {},
   "source": [
    "Теперь приступим к поиску значения метрики на тестовой выборке с помощью модели с лучшим показателем."
   ]
  },
  {
   "cell_type": "code",
   "execution_count": 35,
   "metadata": {},
   "outputs": [
    {
     "name": "stdout",
     "output_type": "stream",
     "text": [
      "Значение F1-меры на тестовой выборке: 0.9565217391304348\n"
     ]
    }
   ],
   "source": [
    "predicted_test = model_SVC.predict(features_test_SVC)\n",
    "f1_test = f1_score(target_test, predicted_test)\n",
    "print('Значение F1-меры на тестовой выборке: {}'.format(f1_test))"
   ]
  },
  {
   "cell_type": "markdown",
   "metadata": {},
   "source": [
    "Значение F1-меры на тестовой выборке составило 0.95, что удовлетворяет условию задачи. Оценки F1 могут варьироваться от 0 до 1, где 1 представляет модель, которая идеально классифицирует каждое наблюдение в правильный класс, соответственно, в данном случае мы получили хороший результат F1."
   ]
  },
  {
   "cell_type": "markdown",
   "metadata": {},
   "source": [
    "### Проверка модели на адекватность"
   ]
  },
  {
   "cell_type": "markdown",
   "metadata": {},
   "source": [
    "Проверим модель на адекватность, сравнив итоговое значение f1-меры у dummy-модели с нашим лучшим результатом:"
   ]
  },
  {
   "cell_type": "code",
   "execution_count": 36,
   "metadata": {},
   "outputs": [
    {
     "name": "stdout",
     "output_type": "stream",
     "text": [
      "Значение F1-меры на dummy модели: 0.19819819819819817\n"
     ]
    }
   ],
   "source": [
    "dummy_model = DummyClassifier(strategy='constant', constant=1)\n",
    "dummy_model.fit(features_train, target_train)\n",
    "predicted_test_dummy = dummy_model.predict(features_test)\n",
    "f1_test_dummy = f1_score(predicted_test_dummy, target_test)\n",
    "print('Значение F1-меры на dummy модели: {}'.format(f1_test_dummy))"
   ]
  },
  {
   "cell_type": "markdown",
   "metadata": {},
   "source": [
    "DummyRegressor \"предсказывает\" наиболее часто встречающийся класс. Показатель итогового значения F1-меры на нашей лучшей модели лучше, чем у DummyClassifier, значит, проверка модели на адекватность пройдена."
   ]
  },
  {
   "cell_type": "markdown",
   "metadata": {},
   "source": [
    "## Общий вывод"
   ]
  },
  {
   "cell_type": "markdown",
   "metadata": {},
   "source": [
    "В нашем датафрейме данные, находящиеся в столбце \"toxic\", представляют собой бинарную классификацию, которая предполагает два возможных класса меток - описание \"токсичное\" (=1) или нет (=0). В качестве алгоритмов, которые необходимо использовать в данном случае, были выбраны следующие модели:\n",
    "- логистическая регрессия;\n",
    "- дерево решений;\n",
    "- случайный лес;\n",
    "- метод опорных векторов;\n",
    "- наивный байесовский классификатор;\n",
    "- метод K-ближайших соседей.\n",
    "\n",
    "Перед обучением был подготовлен датасет в соответствии с механизмом BERT:\n",
    "1. Выполнили токенизацию каждого текста, ограничили датафрейм до 1000 строк (для того, чтобы компьютер потянул*).\n",
    "2. Преобразовали текст в номера токенов методом `encode()`, выровняли длины исходных текстов, дополнив векторы нулями там, где необходимо, применив метод **padding**.\n",
    "3. Уточнили, что нули не несут значимой информации, отбросив токены и создав маску для действительно важных токенов, указав нулевые и не нулевые значения.\n",
    "4. Преобразовали тексты в эмбеддинги батчами, указав их в размере 100.\n",
    "5. Собрали все эмбеддинги в матрицу признаков вызовом функции `concatenate()`.\n",
    "6. Разделили датафрейм на две выборки в размере 20% на 80%.\n",
    "7. Создали функцию для удобного вывода результата обученных разными методами моделей.\n",
    "8. Обучили модели.\n",
    "\n",
    "В результате обучения лучшей моделью стала модель, обученная методом SVM(), с значением f1-меры на тестовой выборке: 0.95."
   ]
  }
 ],
 "metadata": {
  "ExecuteTimeLog": [
   {
    "duration": 1344,
    "start_time": "2023-09-04T06:40:48.097Z"
   },
   {
    "duration": 2540,
    "start_time": "2023-09-04T06:42:50.162Z"
   },
   {
    "duration": 6,
    "start_time": "2023-09-04T06:42:55.350Z"
   },
   {
    "duration": 1173,
    "start_time": "2023-09-04T06:42:55.518Z"
   },
   {
    "duration": 14,
    "start_time": "2023-09-04T07:54:18.928Z"
   },
   {
    "duration": 525,
    "start_time": "2023-09-04T07:54:32.453Z"
   },
   {
    "duration": 11,
    "start_time": "2023-09-04T07:54:51.443Z"
   },
   {
    "duration": 1726,
    "start_time": "2023-09-04T07:56:02.245Z"
   },
   {
    "duration": 6,
    "start_time": "2023-09-04T07:56:05.381Z"
   },
   {
    "duration": 1377,
    "start_time": "2023-09-04T07:56:05.682Z"
   },
   {
    "duration": 247,
    "start_time": "2023-09-04T07:56:07.060Z"
   },
   {
    "duration": 8,
    "start_time": "2023-09-04T07:56:14.814Z"
   },
   {
    "duration": 205,
    "start_time": "2023-09-04T07:56:17.990Z"
   },
   {
    "duration": 5,
    "start_time": "2023-09-04T08:07:17.685Z"
   },
   {
    "duration": 3,
    "start_time": "2023-09-04T08:40:24.097Z"
   },
   {
    "duration": 1525,
    "start_time": "2023-09-04T09:11:33.184Z"
   },
   {
    "duration": 5,
    "start_time": "2023-09-04T09:11:34.711Z"
   },
   {
    "duration": 1532,
    "start_time": "2023-09-04T09:11:34.728Z"
   },
   {
    "duration": 5,
    "start_time": "2023-09-04T09:11:36.262Z"
   },
   {
    "duration": 283,
    "start_time": "2023-09-04T09:11:36.269Z"
   },
   {
    "duration": 3,
    "start_time": "2023-09-04T09:11:36.554Z"
   },
   {
    "duration": 158,
    "start_time": "2023-09-04T09:11:36.558Z"
   },
   {
    "duration": 0,
    "start_time": "2023-09-04T09:11:36.717Z"
   },
   {
    "duration": 0,
    "start_time": "2023-09-04T09:11:36.718Z"
   },
   {
    "duration": 0,
    "start_time": "2023-09-04T09:11:36.719Z"
   },
   {
    "duration": 0,
    "start_time": "2023-09-04T09:11:36.727Z"
   },
   {
    "duration": 0,
    "start_time": "2023-09-04T09:11:36.728Z"
   },
   {
    "duration": 0,
    "start_time": "2023-09-04T09:11:36.729Z"
   },
   {
    "duration": 0,
    "start_time": "2023-09-04T09:11:36.729Z"
   },
   {
    "duration": 0,
    "start_time": "2023-09-04T09:11:36.730Z"
   },
   {
    "duration": 0,
    "start_time": "2023-09-04T09:11:36.730Z"
   },
   {
    "duration": 0,
    "start_time": "2023-09-04T09:11:36.731Z"
   },
   {
    "duration": 0,
    "start_time": "2023-09-04T09:11:36.732Z"
   },
   {
    "duration": 14,
    "start_time": "2023-09-04T09:13:41.723Z"
   },
   {
    "duration": 4,
    "start_time": "2023-09-04T09:14:16.852Z"
   },
   {
    "duration": 14,
    "start_time": "2023-09-04T09:14:16.989Z"
   },
   {
    "duration": 11,
    "start_time": "2023-09-04T09:15:15.151Z"
   },
   {
    "duration": 3,
    "start_time": "2023-09-04T09:15:17.790Z"
   },
   {
    "duration": 12,
    "start_time": "2023-09-04T09:15:17.935Z"
   },
   {
    "duration": 1637,
    "start_time": "2023-09-04T09:16:13.718Z"
   },
   {
    "duration": 6,
    "start_time": "2023-09-04T09:16:15.357Z"
   },
   {
    "duration": 1199,
    "start_time": "2023-09-04T09:16:15.365Z"
   },
   {
    "duration": 5,
    "start_time": "2023-09-04T09:16:16.565Z"
   },
   {
    "duration": 192,
    "start_time": "2023-09-04T09:16:16.572Z"
   },
   {
    "duration": 3,
    "start_time": "2023-09-04T09:16:16.765Z"
   },
   {
    "duration": 153,
    "start_time": "2023-09-04T09:16:16.770Z"
   },
   {
    "duration": 0,
    "start_time": "2023-09-04T09:16:16.926Z"
   },
   {
    "duration": 0,
    "start_time": "2023-09-04T09:16:16.926Z"
   },
   {
    "duration": 0,
    "start_time": "2023-09-04T09:16:16.928Z"
   },
   {
    "duration": 0,
    "start_time": "2023-09-04T09:16:16.929Z"
   },
   {
    "duration": 0,
    "start_time": "2023-09-04T09:16:16.930Z"
   },
   {
    "duration": 0,
    "start_time": "2023-09-04T09:16:16.931Z"
   },
   {
    "duration": 0,
    "start_time": "2023-09-04T09:16:16.933Z"
   },
   {
    "duration": 0,
    "start_time": "2023-09-04T09:16:16.934Z"
   },
   {
    "duration": 0,
    "start_time": "2023-09-04T09:16:16.935Z"
   },
   {
    "duration": 0,
    "start_time": "2023-09-04T09:16:16.936Z"
   },
   {
    "duration": 0,
    "start_time": "2023-09-04T09:16:16.937Z"
   },
   {
    "duration": 10,
    "start_time": "2023-09-04T09:17:23.473Z"
   },
   {
    "duration": 10,
    "start_time": "2023-09-04T09:17:27.622Z"
   },
   {
    "duration": 4932,
    "start_time": "2023-09-04T09:17:27.766Z"
   },
   {
    "duration": 31,
    "start_time": "2023-09-04T09:22:26.242Z"
   },
   {
    "duration": 7,
    "start_time": "2023-09-04T09:22:59.892Z"
   },
   {
    "duration": 232,
    "start_time": "2023-09-04T09:33:10.069Z"
   },
   {
    "duration": 1811,
    "start_time": "2023-09-04T09:33:49.321Z"
   },
   {
    "duration": 10,
    "start_time": "2023-09-04T09:33:51.137Z"
   },
   {
    "duration": 1362,
    "start_time": "2023-09-04T09:33:51.151Z"
   },
   {
    "duration": 19,
    "start_time": "2023-09-04T09:33:52.515Z"
   },
   {
    "duration": 140,
    "start_time": "2023-09-04T09:33:52.548Z"
   },
   {
    "duration": 3,
    "start_time": "2023-09-04T09:33:52.690Z"
   },
   {
    "duration": 5368,
    "start_time": "2023-09-04T09:33:52.694Z"
   },
   {
    "duration": 1993,
    "start_time": "2023-09-04T09:33:58.063Z"
   },
   {
    "duration": 56,
    "start_time": "2023-09-04T09:34:00.058Z"
   },
   {
    "duration": 1795,
    "start_time": "2023-09-04T09:34:20.249Z"
   },
   {
    "duration": 7,
    "start_time": "2023-09-04T09:34:22.046Z"
   },
   {
    "duration": 1420,
    "start_time": "2023-09-04T09:34:22.054Z"
   },
   {
    "duration": 6,
    "start_time": "2023-09-04T09:34:23.476Z"
   },
   {
    "duration": 128,
    "start_time": "2023-09-04T09:34:23.484Z"
   },
   {
    "duration": 11,
    "start_time": "2023-09-04T09:34:23.614Z"
   },
   {
    "duration": 5058,
    "start_time": "2023-09-04T09:34:23.633Z"
   },
   {
    "duration": 1976,
    "start_time": "2023-09-04T09:34:28.693Z"
   },
   {
    "duration": 20,
    "start_time": "2023-09-04T09:34:30.671Z"
   },
   {
    "duration": 5876,
    "start_time": "2023-09-04T10:24:36.413Z"
   },
   {
    "duration": 17497,
    "start_time": "2023-09-04T10:24:42.291Z"
   },
   {
    "duration": 6,
    "start_time": "2023-09-04T10:24:59.790Z"
   },
   {
    "duration": 1451,
    "start_time": "2023-09-04T10:24:59.799Z"
   },
   {
    "duration": 7,
    "start_time": "2023-09-04T10:25:01.252Z"
   },
   {
    "duration": 165,
    "start_time": "2023-09-04T10:25:01.262Z"
   },
   {
    "duration": 3,
    "start_time": "2023-09-04T10:25:01.429Z"
   },
   {
    "duration": 49,
    "start_time": "2023-09-04T10:25:01.434Z"
   },
   {
    "duration": 31,
    "start_time": "2023-09-04T10:25:01.485Z"
   },
   {
    "duration": 58,
    "start_time": "2023-09-04T10:25:01.520Z"
   },
   {
    "duration": 82,
    "start_time": "2023-09-04T10:25:01.580Z"
   },
   {
    "duration": 201441,
    "start_time": "2023-09-04T10:25:01.664Z"
   },
   {
    "duration": 444,
    "start_time": "2023-09-04T10:28:23.107Z"
   },
   {
    "duration": 0,
    "start_time": "2023-09-04T10:28:23.554Z"
   },
   {
    "duration": 0,
    "start_time": "2023-09-04T10:28:23.556Z"
   },
   {
    "duration": 0,
    "start_time": "2023-09-04T10:28:23.557Z"
   },
   {
    "duration": 4342,
    "start_time": "2023-09-04T13:05:25.503Z"
   },
   {
    "duration": 6077,
    "start_time": "2023-09-04T13:05:29.847Z"
   },
   {
    "duration": 8,
    "start_time": "2023-09-04T13:05:35.926Z"
   },
   {
    "duration": 1339,
    "start_time": "2023-09-04T13:05:35.937Z"
   },
   {
    "duration": 7,
    "start_time": "2023-09-04T13:05:37.278Z"
   },
   {
    "duration": 106,
    "start_time": "2023-09-04T13:05:37.286Z"
   },
   {
    "duration": 2,
    "start_time": "2023-09-04T13:05:37.394Z"
   },
   {
    "duration": 26,
    "start_time": "2023-09-04T13:05:37.398Z"
   },
   {
    "duration": 8,
    "start_time": "2023-09-04T13:05:37.426Z"
   },
   {
    "duration": 12,
    "start_time": "2023-09-04T13:05:37.436Z"
   },
   {
    "duration": 22,
    "start_time": "2023-09-04T13:05:37.449Z"
   },
   {
    "duration": 180390,
    "start_time": "2023-09-04T13:05:37.472Z"
   },
   {
    "duration": 345,
    "start_time": "2023-09-04T13:08:37.864Z"
   },
   {
    "duration": 3,
    "start_time": "2023-09-12T04:43:31.620Z"
   },
   {
    "duration": 22690,
    "start_time": "2023-09-12T04:43:31.625Z"
   },
   {
    "duration": 6,
    "start_time": "2023-09-12T04:43:54.317Z"
   },
   {
    "duration": 2683,
    "start_time": "2023-09-12T04:43:54.324Z"
   },
   {
    "duration": 7,
    "start_time": "2023-09-12T04:43:57.009Z"
   },
   {
    "duration": 106,
    "start_time": "2023-09-12T04:43:57.018Z"
   },
   {
    "duration": 3,
    "start_time": "2023-09-12T04:43:57.126Z"
   },
   {
    "duration": 15,
    "start_time": "2023-09-12T04:43:57.130Z"
   },
   {
    "duration": 9416,
    "start_time": "2023-09-12T04:43:57.147Z"
   },
   {
    "duration": 5,
    "start_time": "2023-09-12T04:44:06.565Z"
   },
   {
    "duration": 21,
    "start_time": "2023-09-12T04:44:06.572Z"
   },
   {
    "duration": 18,
    "start_time": "2023-09-12T04:44:06.595Z"
   },
   {
    "duration": 5056,
    "start_time": "2023-09-12T04:44:06.614Z"
   },
   {
    "duration": 14,
    "start_time": "2023-09-12T04:44:11.672Z"
   },
   {
    "duration": 8198,
    "start_time": "2023-09-12T04:44:11.688Z"
   },
   {
    "duration": 344343,
    "start_time": "2023-09-12T06:29:53.716Z"
   },
   {
    "duration": 10579,
    "start_time": "2023-09-12T06:35:38.063Z"
   },
   {
    "duration": 9,
    "start_time": "2023-09-12T06:35:48.652Z"
   },
   {
    "duration": 3307,
    "start_time": "2023-09-12T06:35:48.663Z"
   },
   {
    "duration": 9,
    "start_time": "2023-09-12T06:35:51.972Z"
   },
   {
    "duration": 137,
    "start_time": "2023-09-12T06:35:51.982Z"
   },
   {
    "duration": 4,
    "start_time": "2023-09-12T06:35:52.121Z"
   },
   {
    "duration": 40,
    "start_time": "2023-09-12T06:35:52.127Z"
   },
   {
    "duration": 12361,
    "start_time": "2023-09-12T06:35:52.173Z"
   },
   {
    "duration": 25,
    "start_time": "2023-09-12T06:36:04.536Z"
   },
   {
    "duration": 18,
    "start_time": "2023-09-12T06:36:04.563Z"
   },
   {
    "duration": 22,
    "start_time": "2023-09-12T06:36:04.583Z"
   },
   {
    "duration": 5538,
    "start_time": "2023-09-12T06:36:04.607Z"
   },
   {
    "duration": 22,
    "start_time": "2023-09-12T06:36:10.151Z"
   }
  ],
  "kernelspec": {
   "display_name": "Python 3 (ipykernel)",
   "language": "python",
   "name": "python3"
  },
  "language_info": {
   "codemirror_mode": {
    "name": "ipython",
    "version": 3
   },
   "file_extension": ".py",
   "mimetype": "text/x-python",
   "name": "python",
   "nbconvert_exporter": "python",
   "pygments_lexer": "ipython3",
   "version": "3.9.13"
  },
  "toc": {
   "base_numbering": 1,
   "nav_menu": {},
   "number_sections": true,
   "sideBar": true,
   "skip_h1_title": true,
   "title_cell": "Содержание",
   "title_sidebar": "Contents",
   "toc_cell": true,
   "toc_position": {
    "height": "calc(100% - 180px)",
    "left": "10px",
    "top": "150px",
    "width": "165px"
   },
   "toc_section_display": true,
   "toc_window_display": true
  }
 },
 "nbformat": 4,
 "nbformat_minor": 2
}
