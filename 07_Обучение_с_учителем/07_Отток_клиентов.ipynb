{
 "cells": [
  {
   "cell_type": "markdown",
   "metadata": {
    "toc": true
   },
   "source": [
    "<h1>Содержание<span class=\"tocSkip\"></span></h1>\n",
    "<div class=\"toc\"><ul class=\"toc-item\"><li><span><a href=\"#Подготовка-данных\" data-toc-modified-id=\"Подготовка-данных-1\"><span class=\"toc-item-num\">1&nbsp;&nbsp;</span>Подготовка данных</a></span><ul class=\"toc-item\"><li><span><a href=\"#Импорт-библиотек.\" data-toc-modified-id=\"Импорт-библиотек.-1.1\"><span class=\"toc-item-num\">1.1&nbsp;&nbsp;</span>Импорт библиотек.</a></span></li><li><span><a href=\"#Вывод-первых-строк-и-изучение-полученной-информации\" data-toc-modified-id=\"Вывод-первых-строк-и-изучение-полученной-информации-1.2\"><span class=\"toc-item-num\">1.2&nbsp;&nbsp;</span>Вывод первых строк и изучение полученной информации</a></span></li><li><span><a href=\"#Форматирование-наименований-столбцов\" data-toc-modified-id=\"Форматирование-наименований-столбцов-1.3\"><span class=\"toc-item-num\">1.3&nbsp;&nbsp;</span>Форматирование наименований столбцов</a></span></li><li><span><a href=\"#Обработка-пропущенных-значений-в-столбце-&quot;tenure&quot;\" data-toc-modified-id=\"Обработка-пропущенных-значений-в-столбце-&quot;tenure&quot;-1.4\"><span class=\"toc-item-num\">1.4&nbsp;&nbsp;</span>Обработка пропущенных значений в столбце \"tenure\"</a></span></li><li><span><a href=\"#Анализ-данных-на-пропущенные-значения-или-неявные-дубликаты-в-других-столбцах\" data-toc-modified-id=\"Анализ-данных-на-пропущенные-значения-или-неявные-дубликаты-в-других-столбцах-1.5\"><span class=\"toc-item-num\">1.5&nbsp;&nbsp;</span>Анализ данных на пропущенные значения или неявные дубликаты в других столбцах</a></span></li><li><span><a href=\"#Обработка-выбивающихся-значений-в-столбце-&quot;surname&quot;\" data-toc-modified-id=\"Обработка-выбивающихся-значений-в-столбце-&quot;surname&quot;-1.6\"><span class=\"toc-item-num\">1.6&nbsp;&nbsp;</span>Обработка выбивающихся значений в столбце \"surname\"</a></span></li><li><span><a href=\"#Замена-типов-данных-и-округление-значений\" data-toc-modified-id=\"Замена-типов-данных-и-округление-значений-1.7\"><span class=\"toc-item-num\">1.7&nbsp;&nbsp;</span>Замена типов данных и округление значений</a></span></li><li><span><a href=\"#Удаление-столбцов\" data-toc-modified-id=\"Удаление-столбцов-1.8\"><span class=\"toc-item-num\">1.8&nbsp;&nbsp;</span>Удаление столбцов</a></span></li></ul></li><li><span><a href=\"#Исследование-задачи\" data-toc-modified-id=\"Исследование-задачи-2\"><span class=\"toc-item-num\">2&nbsp;&nbsp;</span>Исследование задачи</a></span><ul class=\"toc-item\"><li><span><a href=\"#Разделение-датафрейма-на-3-выборки\" data-toc-modified-id=\"Разделение-датафрейма-на-3-выборки-2.1\"><span class=\"toc-item-num\">2.1&nbsp;&nbsp;</span>Разделение датафрейма на 3 выборки</a></span></li><li><span><a href=\"#Объявление-переменных\" data-toc-modified-id=\"Объявление-переменных-2.2\"><span class=\"toc-item-num\">2.2&nbsp;&nbsp;</span>Объявление переменных</a></span></li><li><span><a href=\"#OHE-кодирование-категориальных-признаков\" data-toc-modified-id=\"OHE-кодирование-категориальных-признаков-2.3\"><span class=\"toc-item-num\">2.3&nbsp;&nbsp;</span>OHE кодирование категориальных признаков</a></span></li><li><span><a href=\"#Масштабирование-признаков\" data-toc-modified-id=\"Масштабирование-признаков-2.4\"><span class=\"toc-item-num\">2.4&nbsp;&nbsp;</span>Масштабирование признаков</a></span></li><li><span><a href=\"#Исследование-баланса-классов\" data-toc-modified-id=\"Исследование-баланса-классов-2.5\"><span class=\"toc-item-num\">2.5&nbsp;&nbsp;</span>Исследование баланса классов</a></span></li><li><span><a href=\"#Обучение-модели,-метод-DecisionTreeClassifier()\" data-toc-modified-id=\"Обучение-модели,-метод-DecisionTreeClassifier()-2.6\"><span class=\"toc-item-num\">2.6&nbsp;&nbsp;</span>Обучение модели, метод DecisionTreeClassifier()</a></span></li><li><span><a href=\"#Обучение-модели,-метод-RandomForestClassifier()\" data-toc-modified-id=\"Обучение-модели,-метод-RandomForestClassifier()-2.7\"><span class=\"toc-item-num\">2.7&nbsp;&nbsp;</span>Обучение модели, метод RandomForestClassifier()</a></span></li><li><span><a href=\"#Обучение-модели,-метод-LogisticRegression()\" data-toc-modified-id=\"Обучение-модели,-метод-LogisticRegression()-2.8\"><span class=\"toc-item-num\">2.8&nbsp;&nbsp;</span>Обучение модели, метод LogisticRegression()</a></span></li><li><span><a href=\"#ROC-кривая,-метрика-AUC-ROC-для-лучшего-решения\" data-toc-modified-id=\"ROC-кривая,-метрика-AUC-ROC-для-лучшего-решения-2.9\"><span class=\"toc-item-num\">2.9&nbsp;&nbsp;</span>ROC-кривая, метрика AUC-ROC для лучшего решения</a></span></li></ul></li><li><span><a href=\"#Борьба-с-дисбалансом\" data-toc-modified-id=\"Борьба-с-дисбалансом-3\"><span class=\"toc-item-num\">3&nbsp;&nbsp;</span>Борьба с дисбалансом</a></span><ul class=\"toc-item\"><li><span><a href=\"#SMOTE-&amp;-RandomUnderSampler\" data-toc-modified-id=\"SMOTE-&amp;-RandomUnderSampler-3.1\"><span class=\"toc-item-num\">3.1&nbsp;&nbsp;</span>SMOTE &amp; RandomUnderSampler</a></span></li><li><span><a href=\"#Борьба-с-дисбалансом-с-использованием-&quot;class_weight&quot;\" data-toc-modified-id=\"Борьба-с-дисбалансом-с-использованием-&quot;class_weight&quot;-3.2\"><span class=\"toc-item-num\">3.2&nbsp;&nbsp;</span>Борьба с дисбалансом с использованием \"class_weight\"</a></span></li><li><span><a href=\"#ROC-кривая,-метрика-AUC-ROC-для-лучшего-решения\" data-toc-modified-id=\"ROC-кривая,-метрика-AUC-ROC-для-лучшего-решения-3.3\"><span class=\"toc-item-num\">3.3&nbsp;&nbsp;</span>ROC-кривая, метрика AUC-ROC для лучшего решения</a></span></li></ul></li><li><span><a href=\"#Тестирование-модели\" data-toc-modified-id=\"Тестирование-модели-4\"><span class=\"toc-item-num\">4&nbsp;&nbsp;</span>Тестирование модели</a></span></li><li><span><a href=\"#Общий-вывод\" data-toc-modified-id=\"Общий-вывод-5\"><span class=\"toc-item-num\">5&nbsp;&nbsp;</span>Общий вывод</a></span></li></ul></div>"
   ]
  },
  {
   "cell_type": "markdown",
   "metadata": {},
   "source": [
    "# Отток клиентов"
   ]
  },
  {
   "cell_type": "markdown",
   "metadata": {},
   "source": [
    "Из «Бета-Банка» стали уходить клиенты. Каждый месяц. Немного, но заметно. Банковские маркетологи посчитали: сохранять текущих клиентов дешевле, чем привлекать новых.\n",
    "\n",
    "Нужно спрогнозировать, уйдёт клиент из банка в ближайшее время или нет. Вам предоставлены исторические данные о поведении клиентов и расторжении договоров с банком. \n",
    "\n",
    "Постройте модель с предельно большим значением *F1*-меры. Чтобы сдать проект успешно, нужно довести метрику до 0.59. Проверьте *F1*-меру на тестовой выборке самостоятельно.\n",
    "\n",
    "Дополнительно измеряйте *AUC-ROC*, сравнивайте её значение с *F1*-мерой.\n",
    "\n",
    "Источник данных: [https://www.kaggle.com/barelydedicated/bank-customer-churn-modeling](https://www.kaggle.com/barelydedicated/bank-customer-churn-modeling)\n",
    "\n",
    "План проекта\n",
    "\n",
    "- Загрузите и подготовьте данные. Поясните порядок действий.\n",
    "- Исследуйте баланс классов, обучите модель без учёта дисбаланса. Кратко опишите выводы.\n",
    "- Улучшите качество модели, учитывая дисбаланс классов. \n",
    "- Обучите разные модели и найдите лучшую.\n",
    "- Кратко опишите выводы.\n",
    "- Проведите финальное тестирование.\n",
    "\n",
    "Описание данных\n",
    "\n",
    "Признаки\n",
    "\n",
    "- RowNumber — индекс строки в данных\n",
    "- CustomerId — уникальный идентификатор клиента\n",
    "- Surname — фамилия\n",
    "- CreditScore — кредитный рейтинг\n",
    "- Geography — страна проживания\n",
    "- Gender — пол\n",
    "- Age — возраст\n",
    "- Tenure — сколько лет человек является клиентом банка\n",
    "- Balance — баланс на счёте\n",
    "- NumOfProducts — количество продуктов банка, используемых клиентом\n",
    "- HasCrCard — наличие кредитной карты\n",
    "- IsActiveMember — активность клиента\n",
    "- EstimatedSalary — предполагаемая зарплата\n",
    "\n",
    "Целевой признак\n",
    "\n",
    "- Exited — факт ухода клиента"
   ]
  },
  {
   "cell_type": "markdown",
   "metadata": {},
   "source": [
    "## Подготовка данных"
   ]
  },
  {
   "cell_type": "markdown",
   "metadata": {},
   "source": [
    "### Импорт библиотек."
   ]
  },
  {
   "cell_type": "code",
   "execution_count": 1,
   "metadata": {},
   "outputs": [
    {
     "name": "stdout",
     "output_type": "stream",
     "text": [
      "Requirement already satisfied: scikit-learn==1.1.3 in c:\\users\\daria\\anaconda3\\lib\\site-packages (1.1.3)\n",
      "Requirement already satisfied: joblib>=1.0.0 in c:\\users\\daria\\anaconda3\\lib\\site-packages (from scikit-learn==1.1.3) (1.3.2)\n",
      "Requirement already satisfied: numpy>=1.17.3 in c:\\users\\daria\\anaconda3\\lib\\site-packages (from scikit-learn==1.1.3) (1.21.5)\n",
      "Requirement already satisfied: scipy>=1.3.2 in c:\\users\\daria\\anaconda3\\lib\\site-packages (from scikit-learn==1.1.3) (1.9.1)\n",
      "Requirement already satisfied: threadpoolctl>=2.0.0 in c:\\users\\daria\\anaconda3\\lib\\site-packages (from scikit-learn==1.1.3) (2.2.0)\n"
     ]
    }
   ],
   "source": [
    "!pip install scikit-learn==1.1.3"
   ]
  },
  {
   "cell_type": "code",
   "execution_count": 2,
   "metadata": {},
   "outputs": [
    {
     "name": "stdout",
     "output_type": "stream",
     "text": [
      "Requirement already satisfied: imblearn in c:\\users\\daria\\anaconda3\\lib\\site-packages (0.0)\n",
      "Requirement already satisfied: imbalanced-learn in c:\\users\\daria\\anaconda3\\lib\\site-packages (from imblearn) (0.11.0)\n",
      "Requirement already satisfied: threadpoolctl>=2.0.0 in c:\\users\\daria\\anaconda3\\lib\\site-packages (from imbalanced-learn->imblearn) (2.2.0)\n",
      "Requirement already satisfied: numpy>=1.17.3 in c:\\users\\daria\\anaconda3\\lib\\site-packages (from imbalanced-learn->imblearn) (1.21.5)\n",
      "Requirement already satisfied: scikit-learn>=1.0.2 in c:\\users\\daria\\anaconda3\\lib\\site-packages (from imbalanced-learn->imblearn) (1.1.3)\n",
      "Requirement already satisfied: scipy>=1.5.0 in c:\\users\\daria\\anaconda3\\lib\\site-packages (from imbalanced-learn->imblearn) (1.9.1)\n",
      "Requirement already satisfied: joblib>=1.1.1 in c:\\users\\daria\\anaconda3\\lib\\site-packages (from imbalanced-learn->imblearn) (1.3.2)\n"
     ]
    }
   ],
   "source": [
    "!pip install imblearn"
   ]
  },
  {
   "cell_type": "code",
   "execution_count": 3,
   "metadata": {},
   "outputs": [],
   "source": [
    "import pandas as pd\n",
    "import numpy as np\n",
    "import seaborn as sns\n",
    "import matplotlib.pyplot as plt\n",
    "import random\n",
    "import re\n",
    "\n",
    "from sklearn.model_selection import train_test_split\n",
    "from sklearn.preprocessing import StandardScaler, OneHotEncoder\n",
    "from sklearn.tree import DecisionTreeClassifier\n",
    "from sklearn.ensemble import RandomForestClassifier\n",
    "from sklearn.linear_model import LogisticRegression, LinearRegression\n",
    "\n",
    "\n",
    "from sklearn.metrics import (\n",
    "    accuracy_score, \n",
    "    confusion_matrix,\n",
    "    ConfusionMatrixDisplay,\n",
    "    recall_score,\n",
    "    precision_score,\n",
    "    f1_score,\n",
    "    roc_curve,\n",
    "    roc_auc_score\n",
    ")\n",
    "\n",
    "from sklearn.utils import shuffle, resample\n",
    "\n",
    "from imblearn.over_sampling import SMOTE\n",
    "from imblearn.under_sampling import RandomUnderSampler\n",
    "\n",
    "from sklearn.dummy import DummyClassifier\n",
    "\n",
    "import warnings\n",
    "warnings.filterwarnings(\"ignore\")"
   ]
  },
  {
   "cell_type": "code",
   "execution_count": 4,
   "metadata": {},
   "outputs": [],
   "source": [
    "def show_coef(names, coef, positive=False):\n",
    "    tmp_df = pd.Series(index=names, data=coef).sort_values(ascending=False)\n",
    "    if positive:\n",
    "        sns.barplot(x=abs(tmp_df.values), y=tmp_df.index)\n",
    "    else:\n",
    "        sns.barplot(x=tmp_df.values, y=tmp_df.index)\n",
    "    plt.tight_layout\n",
    "    plt.show()"
   ]
  },
  {
   "cell_type": "markdown",
   "metadata": {},
   "source": [
    "### Вывод первых строк и изучение полученной информации"
   ]
  },
  {
   "cell_type": "code",
   "execution_count": 5,
   "metadata": {},
   "outputs": [
    {
     "name": "stdout",
     "output_type": "stream",
     "text": [
      "Исходный датафрейм\n"
     ]
    },
    {
     "data": {
      "text/html": [
       "<div>\n",
       "<style scoped>\n",
       "    .dataframe tbody tr th:only-of-type {\n",
       "        vertical-align: middle;\n",
       "    }\n",
       "\n",
       "    .dataframe tbody tr th {\n",
       "        vertical-align: top;\n",
       "    }\n",
       "\n",
       "    .dataframe thead th {\n",
       "        text-align: right;\n",
       "    }\n",
       "</style>\n",
       "<table border=\"1\" class=\"dataframe\">\n",
       "  <thead>\n",
       "    <tr style=\"text-align: right;\">\n",
       "      <th></th>\n",
       "      <th>RowNumber</th>\n",
       "      <th>CustomerId</th>\n",
       "      <th>Surname</th>\n",
       "      <th>CreditScore</th>\n",
       "      <th>Geography</th>\n",
       "      <th>Gender</th>\n",
       "      <th>Age</th>\n",
       "      <th>Tenure</th>\n",
       "      <th>Balance</th>\n",
       "      <th>NumOfProducts</th>\n",
       "      <th>HasCrCard</th>\n",
       "      <th>IsActiveMember</th>\n",
       "      <th>EstimatedSalary</th>\n",
       "      <th>Exited</th>\n",
       "    </tr>\n",
       "  </thead>\n",
       "  <tbody>\n",
       "    <tr>\n",
       "      <th>0</th>\n",
       "      <td>1</td>\n",
       "      <td>15634602</td>\n",
       "      <td>Hargrave</td>\n",
       "      <td>619</td>\n",
       "      <td>France</td>\n",
       "      <td>Female</td>\n",
       "      <td>42</td>\n",
       "      <td>2.0</td>\n",
       "      <td>0.00</td>\n",
       "      <td>1</td>\n",
       "      <td>1</td>\n",
       "      <td>1</td>\n",
       "      <td>101348.88</td>\n",
       "      <td>1</td>\n",
       "    </tr>\n",
       "    <tr>\n",
       "      <th>1</th>\n",
       "      <td>2</td>\n",
       "      <td>15647311</td>\n",
       "      <td>Hill</td>\n",
       "      <td>608</td>\n",
       "      <td>Spain</td>\n",
       "      <td>Female</td>\n",
       "      <td>41</td>\n",
       "      <td>1.0</td>\n",
       "      <td>83807.86</td>\n",
       "      <td>1</td>\n",
       "      <td>0</td>\n",
       "      <td>1</td>\n",
       "      <td>112542.58</td>\n",
       "      <td>0</td>\n",
       "    </tr>\n",
       "    <tr>\n",
       "      <th>2</th>\n",
       "      <td>3</td>\n",
       "      <td>15619304</td>\n",
       "      <td>Onio</td>\n",
       "      <td>502</td>\n",
       "      <td>France</td>\n",
       "      <td>Female</td>\n",
       "      <td>42</td>\n",
       "      <td>8.0</td>\n",
       "      <td>159660.80</td>\n",
       "      <td>3</td>\n",
       "      <td>1</td>\n",
       "      <td>0</td>\n",
       "      <td>113931.57</td>\n",
       "      <td>1</td>\n",
       "    </tr>\n",
       "    <tr>\n",
       "      <th>3</th>\n",
       "      <td>4</td>\n",
       "      <td>15701354</td>\n",
       "      <td>Boni</td>\n",
       "      <td>699</td>\n",
       "      <td>France</td>\n",
       "      <td>Female</td>\n",
       "      <td>39</td>\n",
       "      <td>1.0</td>\n",
       "      <td>0.00</td>\n",
       "      <td>2</td>\n",
       "      <td>0</td>\n",
       "      <td>0</td>\n",
       "      <td>93826.63</td>\n",
       "      <td>0</td>\n",
       "    </tr>\n",
       "    <tr>\n",
       "      <th>4</th>\n",
       "      <td>5</td>\n",
       "      <td>15737888</td>\n",
       "      <td>Mitchell</td>\n",
       "      <td>850</td>\n",
       "      <td>Spain</td>\n",
       "      <td>Female</td>\n",
       "      <td>43</td>\n",
       "      <td>2.0</td>\n",
       "      <td>125510.82</td>\n",
       "      <td>1</td>\n",
       "      <td>1</td>\n",
       "      <td>1</td>\n",
       "      <td>79084.10</td>\n",
       "      <td>0</td>\n",
       "    </tr>\n",
       "    <tr>\n",
       "      <th>5</th>\n",
       "      <td>6</td>\n",
       "      <td>15574012</td>\n",
       "      <td>Chu</td>\n",
       "      <td>645</td>\n",
       "      <td>Spain</td>\n",
       "      <td>Male</td>\n",
       "      <td>44</td>\n",
       "      <td>8.0</td>\n",
       "      <td>113755.78</td>\n",
       "      <td>2</td>\n",
       "      <td>1</td>\n",
       "      <td>0</td>\n",
       "      <td>149756.71</td>\n",
       "      <td>1</td>\n",
       "    </tr>\n",
       "    <tr>\n",
       "      <th>6</th>\n",
       "      <td>7</td>\n",
       "      <td>15592531</td>\n",
       "      <td>Bartlett</td>\n",
       "      <td>822</td>\n",
       "      <td>France</td>\n",
       "      <td>Male</td>\n",
       "      <td>50</td>\n",
       "      <td>7.0</td>\n",
       "      <td>0.00</td>\n",
       "      <td>2</td>\n",
       "      <td>1</td>\n",
       "      <td>1</td>\n",
       "      <td>10062.80</td>\n",
       "      <td>0</td>\n",
       "    </tr>\n",
       "    <tr>\n",
       "      <th>7</th>\n",
       "      <td>8</td>\n",
       "      <td>15656148</td>\n",
       "      <td>Obinna</td>\n",
       "      <td>376</td>\n",
       "      <td>Germany</td>\n",
       "      <td>Female</td>\n",
       "      <td>29</td>\n",
       "      <td>4.0</td>\n",
       "      <td>115046.74</td>\n",
       "      <td>4</td>\n",
       "      <td>1</td>\n",
       "      <td>0</td>\n",
       "      <td>119346.88</td>\n",
       "      <td>1</td>\n",
       "    </tr>\n",
       "    <tr>\n",
       "      <th>8</th>\n",
       "      <td>9</td>\n",
       "      <td>15792365</td>\n",
       "      <td>He</td>\n",
       "      <td>501</td>\n",
       "      <td>France</td>\n",
       "      <td>Male</td>\n",
       "      <td>44</td>\n",
       "      <td>4.0</td>\n",
       "      <td>142051.07</td>\n",
       "      <td>2</td>\n",
       "      <td>0</td>\n",
       "      <td>1</td>\n",
       "      <td>74940.50</td>\n",
       "      <td>0</td>\n",
       "    </tr>\n",
       "    <tr>\n",
       "      <th>9</th>\n",
       "      <td>10</td>\n",
       "      <td>15592389</td>\n",
       "      <td>H?</td>\n",
       "      <td>684</td>\n",
       "      <td>France</td>\n",
       "      <td>Male</td>\n",
       "      <td>27</td>\n",
       "      <td>2.0</td>\n",
       "      <td>134603.88</td>\n",
       "      <td>1</td>\n",
       "      <td>1</td>\n",
       "      <td>1</td>\n",
       "      <td>71725.73</td>\n",
       "      <td>0</td>\n",
       "    </tr>\n",
       "    <tr>\n",
       "      <th>10</th>\n",
       "      <td>11</td>\n",
       "      <td>15767821</td>\n",
       "      <td>Bearce</td>\n",
       "      <td>528</td>\n",
       "      <td>France</td>\n",
       "      <td>Male</td>\n",
       "      <td>31</td>\n",
       "      <td>6.0</td>\n",
       "      <td>102016.72</td>\n",
       "      <td>2</td>\n",
       "      <td>0</td>\n",
       "      <td>0</td>\n",
       "      <td>80181.12</td>\n",
       "      <td>0</td>\n",
       "    </tr>\n",
       "    <tr>\n",
       "      <th>11</th>\n",
       "      <td>12</td>\n",
       "      <td>15737173</td>\n",
       "      <td>Andrews</td>\n",
       "      <td>497</td>\n",
       "      <td>Spain</td>\n",
       "      <td>Male</td>\n",
       "      <td>24</td>\n",
       "      <td>3.0</td>\n",
       "      <td>0.00</td>\n",
       "      <td>2</td>\n",
       "      <td>1</td>\n",
       "      <td>0</td>\n",
       "      <td>76390.01</td>\n",
       "      <td>0</td>\n",
       "    </tr>\n",
       "    <tr>\n",
       "      <th>12</th>\n",
       "      <td>13</td>\n",
       "      <td>15632264</td>\n",
       "      <td>Kay</td>\n",
       "      <td>476</td>\n",
       "      <td>France</td>\n",
       "      <td>Female</td>\n",
       "      <td>34</td>\n",
       "      <td>10.0</td>\n",
       "      <td>0.00</td>\n",
       "      <td>2</td>\n",
       "      <td>1</td>\n",
       "      <td>0</td>\n",
       "      <td>26260.98</td>\n",
       "      <td>0</td>\n",
       "    </tr>\n",
       "    <tr>\n",
       "      <th>13</th>\n",
       "      <td>14</td>\n",
       "      <td>15691483</td>\n",
       "      <td>Chin</td>\n",
       "      <td>549</td>\n",
       "      <td>France</td>\n",
       "      <td>Female</td>\n",
       "      <td>25</td>\n",
       "      <td>5.0</td>\n",
       "      <td>0.00</td>\n",
       "      <td>2</td>\n",
       "      <td>0</td>\n",
       "      <td>0</td>\n",
       "      <td>190857.79</td>\n",
       "      <td>0</td>\n",
       "    </tr>\n",
       "    <tr>\n",
       "      <th>14</th>\n",
       "      <td>15</td>\n",
       "      <td>15600882</td>\n",
       "      <td>Scott</td>\n",
       "      <td>635</td>\n",
       "      <td>Spain</td>\n",
       "      <td>Female</td>\n",
       "      <td>35</td>\n",
       "      <td>7.0</td>\n",
       "      <td>0.00</td>\n",
       "      <td>2</td>\n",
       "      <td>1</td>\n",
       "      <td>1</td>\n",
       "      <td>65951.65</td>\n",
       "      <td>0</td>\n",
       "    </tr>\n",
       "  </tbody>\n",
       "</table>\n",
       "</div>"
      ],
      "text/plain": [
       "    RowNumber  CustomerId   Surname  CreditScore Geography  Gender  Age  \\\n",
       "0           1    15634602  Hargrave          619    France  Female   42   \n",
       "1           2    15647311      Hill          608     Spain  Female   41   \n",
       "2           3    15619304      Onio          502    France  Female   42   \n",
       "3           4    15701354      Boni          699    France  Female   39   \n",
       "4           5    15737888  Mitchell          850     Spain  Female   43   \n",
       "5           6    15574012       Chu          645     Spain    Male   44   \n",
       "6           7    15592531  Bartlett          822    France    Male   50   \n",
       "7           8    15656148    Obinna          376   Germany  Female   29   \n",
       "8           9    15792365        He          501    France    Male   44   \n",
       "9          10    15592389        H?          684    France    Male   27   \n",
       "10         11    15767821    Bearce          528    France    Male   31   \n",
       "11         12    15737173   Andrews          497     Spain    Male   24   \n",
       "12         13    15632264       Kay          476    France  Female   34   \n",
       "13         14    15691483      Chin          549    France  Female   25   \n",
       "14         15    15600882     Scott          635     Spain  Female   35   \n",
       "\n",
       "    Tenure    Balance  NumOfProducts  HasCrCard  IsActiveMember  \\\n",
       "0      2.0       0.00              1          1               1   \n",
       "1      1.0   83807.86              1          0               1   \n",
       "2      8.0  159660.80              3          1               0   \n",
       "3      1.0       0.00              2          0               0   \n",
       "4      2.0  125510.82              1          1               1   \n",
       "5      8.0  113755.78              2          1               0   \n",
       "6      7.0       0.00              2          1               1   \n",
       "7      4.0  115046.74              4          1               0   \n",
       "8      4.0  142051.07              2          0               1   \n",
       "9      2.0  134603.88              1          1               1   \n",
       "10     6.0  102016.72              2          0               0   \n",
       "11     3.0       0.00              2          1               0   \n",
       "12    10.0       0.00              2          1               0   \n",
       "13     5.0       0.00              2          0               0   \n",
       "14     7.0       0.00              2          1               1   \n",
       "\n",
       "    EstimatedSalary  Exited  \n",
       "0         101348.88       1  \n",
       "1         112542.58       0  \n",
       "2         113931.57       1  \n",
       "3          93826.63       0  \n",
       "4          79084.10       0  \n",
       "5         149756.71       1  \n",
       "6          10062.80       0  \n",
       "7         119346.88       1  \n",
       "8          74940.50       0  \n",
       "9          71725.73       0  \n",
       "10         80181.12       0  \n",
       "11         76390.01       0  \n",
       "12         26260.98       0  \n",
       "13        190857.79       0  \n",
       "14         65951.65       0  "
      ]
     },
     "metadata": {},
     "output_type": "display_data"
    },
    {
     "name": "stdout",
     "output_type": "stream",
     "text": [
      "Общая информация о датафрейме\n",
      "<class 'pandas.core.frame.DataFrame'>\n",
      "RangeIndex: 10000 entries, 0 to 9999\n",
      "Data columns (total 14 columns):\n",
      " #   Column           Non-Null Count  Dtype  \n",
      "---  ------           --------------  -----  \n",
      " 0   RowNumber        10000 non-null  int64  \n",
      " 1   CustomerId       10000 non-null  int64  \n",
      " 2   Surname          10000 non-null  object \n",
      " 3   CreditScore      10000 non-null  int64  \n",
      " 4   Geography        10000 non-null  object \n",
      " 5   Gender           10000 non-null  object \n",
      " 6   Age              10000 non-null  int64  \n",
      " 7   Tenure           9091 non-null   float64\n",
      " 8   Balance          10000 non-null  float64\n",
      " 9   NumOfProducts    10000 non-null  int64  \n",
      " 10  HasCrCard        10000 non-null  int64  \n",
      " 11  IsActiveMember   10000 non-null  int64  \n",
      " 12  EstimatedSalary  10000 non-null  float64\n",
      " 13  Exited           10000 non-null  int64  \n",
      "dtypes: float64(3), int64(8), object(3)\n",
      "memory usage: 1.1+ MB\n"
     ]
    },
    {
     "data": {
      "text/plain": [
       "None"
      ]
     },
     "metadata": {},
     "output_type": "display_data"
    },
    {
     "name": "stdout",
     "output_type": "stream",
     "text": [
      "Количество пустых значений в датафрейме\n"
     ]
    },
    {
     "data": {
      "text/plain": [
       "RowNumber            0\n",
       "CustomerId           0\n",
       "Surname              0\n",
       "CreditScore          0\n",
       "Geography            0\n",
       "Gender               0\n",
       "Age                  0\n",
       "Tenure             909\n",
       "Balance              0\n",
       "NumOfProducts        0\n",
       "HasCrCard            0\n",
       "IsActiveMember       0\n",
       "EstimatedSalary      0\n",
       "Exited               0\n",
       "dtype: int64"
      ]
     },
     "metadata": {},
     "output_type": "display_data"
    },
    {
     "name": "stdout",
     "output_type": "stream",
     "text": [
      "Количество явных дубликатов в датафрейме\n"
     ]
    },
    {
     "data": {
      "text/plain": [
       "0"
      ]
     },
     "metadata": {},
     "output_type": "display_data"
    },
    {
     "name": "stdout",
     "output_type": "stream",
     "text": [
      "Описательная статистика\n"
     ]
    },
    {
     "data": {
      "text/html": [
       "<div>\n",
       "<style scoped>\n",
       "    .dataframe tbody tr th:only-of-type {\n",
       "        vertical-align: middle;\n",
       "    }\n",
       "\n",
       "    .dataframe tbody tr th {\n",
       "        vertical-align: top;\n",
       "    }\n",
       "\n",
       "    .dataframe thead th {\n",
       "        text-align: right;\n",
       "    }\n",
       "</style>\n",
       "<table border=\"1\" class=\"dataframe\">\n",
       "  <thead>\n",
       "    <tr style=\"text-align: right;\">\n",
       "      <th></th>\n",
       "      <th>RowNumber</th>\n",
       "      <th>CustomerId</th>\n",
       "      <th>CreditScore</th>\n",
       "      <th>Age</th>\n",
       "      <th>Tenure</th>\n",
       "      <th>Balance</th>\n",
       "      <th>NumOfProducts</th>\n",
       "      <th>HasCrCard</th>\n",
       "      <th>IsActiveMember</th>\n",
       "      <th>EstimatedSalary</th>\n",
       "      <th>Exited</th>\n",
       "    </tr>\n",
       "  </thead>\n",
       "  <tbody>\n",
       "    <tr>\n",
       "      <th>count</th>\n",
       "      <td>10000.00000</td>\n",
       "      <td>1.000000e+04</td>\n",
       "      <td>10000.000000</td>\n",
       "      <td>10000.000000</td>\n",
       "      <td>9091.000000</td>\n",
       "      <td>10000.000000</td>\n",
       "      <td>10000.000000</td>\n",
       "      <td>10000.00000</td>\n",
       "      <td>10000.000000</td>\n",
       "      <td>10000.000000</td>\n",
       "      <td>10000.000000</td>\n",
       "    </tr>\n",
       "    <tr>\n",
       "      <th>mean</th>\n",
       "      <td>5000.50000</td>\n",
       "      <td>1.569094e+07</td>\n",
       "      <td>650.528800</td>\n",
       "      <td>38.921800</td>\n",
       "      <td>4.997690</td>\n",
       "      <td>76485.889288</td>\n",
       "      <td>1.530200</td>\n",
       "      <td>0.70550</td>\n",
       "      <td>0.515100</td>\n",
       "      <td>100090.239881</td>\n",
       "      <td>0.203700</td>\n",
       "    </tr>\n",
       "    <tr>\n",
       "      <th>std</th>\n",
       "      <td>2886.89568</td>\n",
       "      <td>7.193619e+04</td>\n",
       "      <td>96.653299</td>\n",
       "      <td>10.487806</td>\n",
       "      <td>2.894723</td>\n",
       "      <td>62397.405202</td>\n",
       "      <td>0.581654</td>\n",
       "      <td>0.45584</td>\n",
       "      <td>0.499797</td>\n",
       "      <td>57510.492818</td>\n",
       "      <td>0.402769</td>\n",
       "    </tr>\n",
       "    <tr>\n",
       "      <th>min</th>\n",
       "      <td>1.00000</td>\n",
       "      <td>1.556570e+07</td>\n",
       "      <td>350.000000</td>\n",
       "      <td>18.000000</td>\n",
       "      <td>0.000000</td>\n",
       "      <td>0.000000</td>\n",
       "      <td>1.000000</td>\n",
       "      <td>0.00000</td>\n",
       "      <td>0.000000</td>\n",
       "      <td>11.580000</td>\n",
       "      <td>0.000000</td>\n",
       "    </tr>\n",
       "    <tr>\n",
       "      <th>25%</th>\n",
       "      <td>2500.75000</td>\n",
       "      <td>1.562853e+07</td>\n",
       "      <td>584.000000</td>\n",
       "      <td>32.000000</td>\n",
       "      <td>2.000000</td>\n",
       "      <td>0.000000</td>\n",
       "      <td>1.000000</td>\n",
       "      <td>0.00000</td>\n",
       "      <td>0.000000</td>\n",
       "      <td>51002.110000</td>\n",
       "      <td>0.000000</td>\n",
       "    </tr>\n",
       "    <tr>\n",
       "      <th>50%</th>\n",
       "      <td>5000.50000</td>\n",
       "      <td>1.569074e+07</td>\n",
       "      <td>652.000000</td>\n",
       "      <td>37.000000</td>\n",
       "      <td>5.000000</td>\n",
       "      <td>97198.540000</td>\n",
       "      <td>1.000000</td>\n",
       "      <td>1.00000</td>\n",
       "      <td>1.000000</td>\n",
       "      <td>100193.915000</td>\n",
       "      <td>0.000000</td>\n",
       "    </tr>\n",
       "    <tr>\n",
       "      <th>75%</th>\n",
       "      <td>7500.25000</td>\n",
       "      <td>1.575323e+07</td>\n",
       "      <td>718.000000</td>\n",
       "      <td>44.000000</td>\n",
       "      <td>7.000000</td>\n",
       "      <td>127644.240000</td>\n",
       "      <td>2.000000</td>\n",
       "      <td>1.00000</td>\n",
       "      <td>1.000000</td>\n",
       "      <td>149388.247500</td>\n",
       "      <td>0.000000</td>\n",
       "    </tr>\n",
       "    <tr>\n",
       "      <th>max</th>\n",
       "      <td>10000.00000</td>\n",
       "      <td>1.581569e+07</td>\n",
       "      <td>850.000000</td>\n",
       "      <td>92.000000</td>\n",
       "      <td>10.000000</td>\n",
       "      <td>250898.090000</td>\n",
       "      <td>4.000000</td>\n",
       "      <td>1.00000</td>\n",
       "      <td>1.000000</td>\n",
       "      <td>199992.480000</td>\n",
       "      <td>1.000000</td>\n",
       "    </tr>\n",
       "  </tbody>\n",
       "</table>\n",
       "</div>"
      ],
      "text/plain": [
       "         RowNumber    CustomerId   CreditScore           Age       Tenure  \\\n",
       "count  10000.00000  1.000000e+04  10000.000000  10000.000000  9091.000000   \n",
       "mean    5000.50000  1.569094e+07    650.528800     38.921800     4.997690   \n",
       "std     2886.89568  7.193619e+04     96.653299     10.487806     2.894723   \n",
       "min        1.00000  1.556570e+07    350.000000     18.000000     0.000000   \n",
       "25%     2500.75000  1.562853e+07    584.000000     32.000000     2.000000   \n",
       "50%     5000.50000  1.569074e+07    652.000000     37.000000     5.000000   \n",
       "75%     7500.25000  1.575323e+07    718.000000     44.000000     7.000000   \n",
       "max    10000.00000  1.581569e+07    850.000000     92.000000    10.000000   \n",
       "\n",
       "             Balance  NumOfProducts    HasCrCard  IsActiveMember  \\\n",
       "count   10000.000000   10000.000000  10000.00000    10000.000000   \n",
       "mean    76485.889288       1.530200      0.70550        0.515100   \n",
       "std     62397.405202       0.581654      0.45584        0.499797   \n",
       "min         0.000000       1.000000      0.00000        0.000000   \n",
       "25%         0.000000       1.000000      0.00000        0.000000   \n",
       "50%     97198.540000       1.000000      1.00000        1.000000   \n",
       "75%    127644.240000       2.000000      1.00000        1.000000   \n",
       "max    250898.090000       4.000000      1.00000        1.000000   \n",
       "\n",
       "       EstimatedSalary        Exited  \n",
       "count     10000.000000  10000.000000  \n",
       "mean     100090.239881      0.203700  \n",
       "std       57510.492818      0.402769  \n",
       "min          11.580000      0.000000  \n",
       "25%       51002.110000      0.000000  \n",
       "50%      100193.915000      0.000000  \n",
       "75%      149388.247500      0.000000  \n",
       "max      199992.480000      1.000000  "
      ]
     },
     "metadata": {},
     "output_type": "display_data"
    }
   ],
   "source": [
    "def my_func(x):\n",
    "    print('Исходный датафрейм')\n",
    "    display(x.head(15))\n",
    "    print('Общая информация о датафрейме')\n",
    "    display(x.info())\n",
    "    print('Количество пустых значений в датафрейме')\n",
    "    display(x.isna().sum())\n",
    "    print('Количество явных дубликатов в датафрейме')\n",
    "    display(x.duplicated().sum())\n",
    "    print('Описательная статистика')\n",
    "    display(x.describe())\n",
    "    \n",
    "try:\n",
    "    data = pd.read_csv('/datasets/Churn.csv')\n",
    "except:\n",
    "    data = pd.read_csv('C:/Users/daria/Датасеты для проектов/07 Обучение с учителем - отток клиентов/Churn.csv')\n",
    "my_func(data)"
   ]
  },
  {
   "cell_type": "code",
   "execution_count": 6,
   "metadata": {},
   "outputs": [
    {
     "data": {
      "text/html": [
       "<style type=\"text/css\">\n",
       "#T_e6336 th {\n",
       "  font-size: 7pt;\n",
       "}\n",
       "#T_e6336 td {\n",
       "  padding: 0em 0em;\n",
       "}\n",
       "#T_e6336 th:hover {\n",
       "  font-size: 12pt;\n",
       "}\n",
       "#T_e6336 tr:hover td:hover {\n",
       "  max-width: 200px;\n",
       "  font-size: 12pt;\n",
       "}\n",
       "#T_e6336_row0_col0, #T_e6336_row1_col1, #T_e6336_row2_col2, #T_e6336_row3_col3, #T_e6336_row4_col4, #T_e6336_row5_col5, #T_e6336_row6_col6, #T_e6336_row7_col7, #T_e6336_row8_col8, #T_e6336_row9_col9, #T_e6336_row10_col10 {\n",
       "  background-color: #4479bb;\n",
       "  color: #f1f1f1;\n",
       "  max-width: 80px;\n",
       "  font-size: 10pt;\n",
       "}\n",
       "#T_e6336_row0_col1, #T_e6336_row0_col3, #T_e6336_row0_col7, #T_e6336_row1_col0, #T_e6336_row1_col8, #T_e6336_row9_col4, #T_e6336_row9_col5, #T_e6336_row9_col6, #T_e6336_row9_col10 {\n",
       "  background-color: #d84361;\n",
       "  color: #f1f1f1;\n",
       "  max-width: 80px;\n",
       "  font-size: 10pt;\n",
       "}\n",
       "#T_e6336_row0_col2, #T_e6336_row0_col6, #T_e6336_row0_col8, #T_e6336_row1_col2, #T_e6336_row1_col3, #T_e6336_row2_col3, #T_e6336_row2_col4, #T_e6336_row2_col9, #T_e6336_row3_col0, #T_e6336_row3_col2, #T_e6336_row4_col2, #T_e6336_row9_col1 {\n",
       "  background-color: #d94663;\n",
       "  color: #f1f1f1;\n",
       "  max-width: 80px;\n",
       "  font-size: 10pt;\n",
       "}\n",
       "#T_e6336_row0_col4, #T_e6336_row0_col5, #T_e6336_row0_col9, #T_e6336_row1_col5, #T_e6336_row1_col7, #T_e6336_row1_col10, #T_e6336_row4_col1, #T_e6336_row4_col10, #T_e6336_row7_col0, #T_e6336_row7_col6, #T_e6336_row9_col2 {\n",
       "  background-color: #d83e5d;\n",
       "  color: #f1f1f1;\n",
       "  max-width: 80px;\n",
       "  font-size: 10pt;\n",
       "}\n",
       "#T_e6336_row0_col10, #T_e6336_row1_col4, #T_e6336_row2_col10, #T_e6336_row3_col6, #T_e6336_row4_col8, #T_e6336_row5_col6, #T_e6336_row6_col5, #T_e6336_row7_col1, #T_e6336_row7_col2, #T_e6336_row7_col3, #T_e6336_row7_col5, #T_e6336_row7_col8, #T_e6336_row7_col9, #T_e6336_row7_col10, #T_e6336_row8_col10, #T_e6336_row9_col0, #T_e6336_row9_col3, #T_e6336_row9_col7, #T_e6336_row9_col8, #T_e6336_row10_col8 {\n",
       "  background-color: #d73c5b;\n",
       "  color: #f1f1f1;\n",
       "  max-width: 80px;\n",
       "  font-size: 10pt;\n",
       "}\n",
       "#T_e6336_row1_col6, #T_e6336_row1_col9, #T_e6336_row7_col4 {\n",
       "  background-color: #d94a67;\n",
       "  color: #f1f1f1;\n",
       "  max-width: 80px;\n",
       "  font-size: 10pt;\n",
       "}\n",
       "#T_e6336_row2_col0, #T_e6336_row2_col1, #T_e6336_row2_col5, #T_e6336_row2_col6, #T_e6336_row3_col1, #T_e6336_row4_col6, #T_e6336_row4_col9 {\n",
       "  background-color: #d94865;\n",
       "  color: #f1f1f1;\n",
       "  max-width: 80px;\n",
       "  font-size: 10pt;\n",
       "}\n",
       "#T_e6336_row2_col7, #T_e6336_row3_col4, #T_e6336_row3_col7, #T_e6336_row3_col9, #T_e6336_row4_col0, #T_e6336_row4_col3, #T_e6336_row4_col5 {\n",
       "  background-color: #d8415f;\n",
       "  color: #f1f1f1;\n",
       "  max-width: 80px;\n",
       "  font-size: 10pt;\n",
       "}\n",
       "#T_e6336_row2_col8, #T_e6336_row3_col5, #T_e6336_row4_col7 {\n",
       "  background-color: #da506b;\n",
       "  color: #f1f1f1;\n",
       "  max-width: 80px;\n",
       "  font-size: 10pt;\n",
       "}\n",
       "#T_e6336_row3_col8 {\n",
       "  background-color: #dd657d;\n",
       "  color: #f1f1f1;\n",
       "  max-width: 80px;\n",
       "  font-size: 10pt;\n",
       "}\n",
       "#T_e6336_row3_col10 {\n",
       "  background-color: #e8adb8;\n",
       "  color: #000000;\n",
       "  max-width: 80px;\n",
       "  font-size: 10pt;\n",
       "}\n",
       "#T_e6336_row5_col0, #T_e6336_row5_col1, #T_e6336_row5_col4, #T_e6336_row5_col7, #T_e6336_row5_col8 {\n",
       "  background-color: #e38d9e;\n",
       "  color: #f1f1f1;\n",
       "  max-width: 80px;\n",
       "  font-size: 10pt;\n",
       "}\n",
       "#T_e6336_row5_col2, #T_e6336_row5_col9, #T_e6336_row6_col0, #T_e6336_row6_col2, #T_e6336_row6_col4, #T_e6336_row6_col8, #T_e6336_row6_col9, #T_e6336_row10_col5 {\n",
       "  background-color: #e492a3;\n",
       "  color: #f1f1f1;\n",
       "  max-width: 80px;\n",
       "  font-size: 10pt;\n",
       "}\n",
       "#T_e6336_row5_col3 {\n",
       "  background-color: #e597a7;\n",
       "  color: #000000;\n",
       "  max-width: 80px;\n",
       "  font-size: 10pt;\n",
       "}\n",
       "#T_e6336_row5_col10 {\n",
       "  background-color: #e9b1bc;\n",
       "  color: #000000;\n",
       "  max-width: 80px;\n",
       "  font-size: 10pt;\n",
       "}\n",
       "#T_e6336_row6_col1 {\n",
       "  background-color: #e595a5;\n",
       "  color: #000000;\n",
       "  max-width: 80px;\n",
       "  font-size: 10pt;\n",
       "}\n",
       "#T_e6336_row6_col3 {\n",
       "  background-color: #e28799;\n",
       "  color: #f1f1f1;\n",
       "  max-width: 80px;\n",
       "  font-size: 10pt;\n",
       "}\n",
       "#T_e6336_row6_col7 {\n",
       "  background-color: #e48fa0;\n",
       "  color: #f1f1f1;\n",
       "  max-width: 80px;\n",
       "  font-size: 10pt;\n",
       "}\n",
       "#T_e6336_row6_col10 {\n",
       "  background-color: #e28194;\n",
       "  color: #f1f1f1;\n",
       "  max-width: 80px;\n",
       "  font-size: 10pt;\n",
       "}\n",
       "#T_e6336_row8_col0, #T_e6336_row8_col6, #T_e6336_row10_col9 {\n",
       "  background-color: #df7086;\n",
       "  color: #f1f1f1;\n",
       "  max-width: 80px;\n",
       "  font-size: 10pt;\n",
       "}\n",
       "#T_e6336_row8_col1 {\n",
       "  background-color: #df6d84;\n",
       "  color: #f1f1f1;\n",
       "  max-width: 80px;\n",
       "  font-size: 10pt;\n",
       "}\n",
       "#T_e6336_row8_col2 {\n",
       "  background-color: #e0768b;\n",
       "  color: #f1f1f1;\n",
       "  max-width: 80px;\n",
       "  font-size: 10pt;\n",
       "}\n",
       "#T_e6336_row8_col3 {\n",
       "  background-color: #e38a9c;\n",
       "  color: #f1f1f1;\n",
       "  max-width: 80px;\n",
       "  font-size: 10pt;\n",
       "}\n",
       "#T_e6336_row8_col4, #T_e6336_row10_col2 {\n",
       "  background-color: #dd637c;\n",
       "  color: #f1f1f1;\n",
       "  max-width: 80px;\n",
       "  font-size: 10pt;\n",
       "}\n",
       "#T_e6336_row8_col5, #T_e6336_row8_col7, #T_e6336_row8_col9, #T_e6336_row10_col1, #T_e6336_row10_col7 {\n",
       "  background-color: #de6b82;\n",
       "  color: #f1f1f1;\n",
       "  max-width: 80px;\n",
       "  font-size: 10pt;\n",
       "}\n",
       "#T_e6336_row10_col0, #T_e6336_row10_col4 {\n",
       "  background-color: #de667e;\n",
       "  color: #f1f1f1;\n",
       "  max-width: 80px;\n",
       "  font-size: 10pt;\n",
       "}\n",
       "#T_e6336_row10_col3 {\n",
       "  background-color: #ecc9d0;\n",
       "  color: #000000;\n",
       "  max-width: 80px;\n",
       "  font-size: 10pt;\n",
       "}\n",
       "#T_e6336_row10_col6 {\n",
       "  background-color: #dc5e77;\n",
       "  color: #f1f1f1;\n",
       "  max-width: 80px;\n",
       "  font-size: 10pt;\n",
       "}\n",
       "</style>\n",
       "<table id=\"T_e6336\">\n",
       "  <caption>Hover to magify</caption>\n",
       "  <thead>\n",
       "    <tr>\n",
       "      <th class=\"blank level0\" >&nbsp;</th>\n",
       "      <th id=\"T_e6336_level0_col0\" class=\"col_heading level0 col0\" >RowNumber</th>\n",
       "      <th id=\"T_e6336_level0_col1\" class=\"col_heading level0 col1\" >CustomerId</th>\n",
       "      <th id=\"T_e6336_level0_col2\" class=\"col_heading level0 col2\" >CreditScore</th>\n",
       "      <th id=\"T_e6336_level0_col3\" class=\"col_heading level0 col3\" >Age</th>\n",
       "      <th id=\"T_e6336_level0_col4\" class=\"col_heading level0 col4\" >Tenure</th>\n",
       "      <th id=\"T_e6336_level0_col5\" class=\"col_heading level0 col5\" >Balance</th>\n",
       "      <th id=\"T_e6336_level0_col6\" class=\"col_heading level0 col6\" >NumOfProducts</th>\n",
       "      <th id=\"T_e6336_level0_col7\" class=\"col_heading level0 col7\" >HasCrCard</th>\n",
       "      <th id=\"T_e6336_level0_col8\" class=\"col_heading level0 col8\" >IsActiveMember</th>\n",
       "      <th id=\"T_e6336_level0_col9\" class=\"col_heading level0 col9\" >EstimatedSalary</th>\n",
       "      <th id=\"T_e6336_level0_col10\" class=\"col_heading level0 col10\" >Exited</th>\n",
       "    </tr>\n",
       "  </thead>\n",
       "  <tbody>\n",
       "    <tr>\n",
       "      <th id=\"T_e6336_level0_row0\" class=\"row_heading level0 row0\" >RowNumber</th>\n",
       "      <td id=\"T_e6336_row0_col0\" class=\"data row0 col0\" >1.00</td>\n",
       "      <td id=\"T_e6336_row0_col1\" class=\"data row0 col1\" >0.00</td>\n",
       "      <td id=\"T_e6336_row0_col2\" class=\"data row0 col2\" >0.01</td>\n",
       "      <td id=\"T_e6336_row0_col3\" class=\"data row0 col3\" >0.00</td>\n",
       "      <td id=\"T_e6336_row0_col4\" class=\"data row0 col4\" >-0.01</td>\n",
       "      <td id=\"T_e6336_row0_col5\" class=\"data row0 col5\" >-0.01</td>\n",
       "      <td id=\"T_e6336_row0_col6\" class=\"data row0 col6\" >0.01</td>\n",
       "      <td id=\"T_e6336_row0_col7\" class=\"data row0 col7\" >0.00</td>\n",
       "      <td id=\"T_e6336_row0_col8\" class=\"data row0 col8\" >0.01</td>\n",
       "      <td id=\"T_e6336_row0_col9\" class=\"data row0 col9\" >-0.01</td>\n",
       "      <td id=\"T_e6336_row0_col10\" class=\"data row0 col10\" >-0.02</td>\n",
       "    </tr>\n",
       "    <tr>\n",
       "      <th id=\"T_e6336_level0_row1\" class=\"row_heading level0 row1\" >CustomerId</th>\n",
       "      <td id=\"T_e6336_row1_col0\" class=\"data row1 col0\" >0.00</td>\n",
       "      <td id=\"T_e6336_row1_col1\" class=\"data row1 col1\" >1.00</td>\n",
       "      <td id=\"T_e6336_row1_col2\" class=\"data row1 col2\" >0.01</td>\n",
       "      <td id=\"T_e6336_row1_col3\" class=\"data row1 col3\" >0.01</td>\n",
       "      <td id=\"T_e6336_row1_col4\" class=\"data row1 col4\" >-0.02</td>\n",
       "      <td id=\"T_e6336_row1_col5\" class=\"data row1 col5\" >-0.01</td>\n",
       "      <td id=\"T_e6336_row1_col6\" class=\"data row1 col6\" >0.02</td>\n",
       "      <td id=\"T_e6336_row1_col7\" class=\"data row1 col7\" >-0.01</td>\n",
       "      <td id=\"T_e6336_row1_col8\" class=\"data row1 col8\" >0.00</td>\n",
       "      <td id=\"T_e6336_row1_col9\" class=\"data row1 col9\" >0.02</td>\n",
       "      <td id=\"T_e6336_row1_col10\" class=\"data row1 col10\" >-0.01</td>\n",
       "    </tr>\n",
       "    <tr>\n",
       "      <th id=\"T_e6336_level0_row2\" class=\"row_heading level0 row2\" >CreditScore</th>\n",
       "      <td id=\"T_e6336_row2_col0\" class=\"data row2 col0\" >0.01</td>\n",
       "      <td id=\"T_e6336_row2_col1\" class=\"data row2 col1\" >0.01</td>\n",
       "      <td id=\"T_e6336_row2_col2\" class=\"data row2 col2\" >1.00</td>\n",
       "      <td id=\"T_e6336_row2_col3\" class=\"data row2 col3\" >-0.00</td>\n",
       "      <td id=\"T_e6336_row2_col4\" class=\"data row2 col4\" >-0.00</td>\n",
       "      <td id=\"T_e6336_row2_col5\" class=\"data row2 col5\" >0.01</td>\n",
       "      <td id=\"T_e6336_row2_col6\" class=\"data row2 col6\" >0.01</td>\n",
       "      <td id=\"T_e6336_row2_col7\" class=\"data row2 col7\" >-0.01</td>\n",
       "      <td id=\"T_e6336_row2_col8\" class=\"data row2 col8\" >0.03</td>\n",
       "      <td id=\"T_e6336_row2_col9\" class=\"data row2 col9\" >-0.00</td>\n",
       "      <td id=\"T_e6336_row2_col10\" class=\"data row2 col10\" >-0.03</td>\n",
       "    </tr>\n",
       "    <tr>\n",
       "      <th id=\"T_e6336_level0_row3\" class=\"row_heading level0 row3\" >Age</th>\n",
       "      <td id=\"T_e6336_row3_col0\" class=\"data row3 col0\" >0.00</td>\n",
       "      <td id=\"T_e6336_row3_col1\" class=\"data row3 col1\" >0.01</td>\n",
       "      <td id=\"T_e6336_row3_col2\" class=\"data row3 col2\" >-0.00</td>\n",
       "      <td id=\"T_e6336_row3_col3\" class=\"data row3 col3\" >1.00</td>\n",
       "      <td id=\"T_e6336_row3_col4\" class=\"data row3 col4\" >-0.01</td>\n",
       "      <td id=\"T_e6336_row3_col5\" class=\"data row3 col5\" >0.03</td>\n",
       "      <td id=\"T_e6336_row3_col6\" class=\"data row3 col6\" >-0.03</td>\n",
       "      <td id=\"T_e6336_row3_col7\" class=\"data row3 col7\" >-0.01</td>\n",
       "      <td id=\"T_e6336_row3_col8\" class=\"data row3 col8\" >0.09</td>\n",
       "      <td id=\"T_e6336_row3_col9\" class=\"data row3 col9\" >-0.01</td>\n",
       "      <td id=\"T_e6336_row3_col10\" class=\"data row3 col10\" >0.29</td>\n",
       "    </tr>\n",
       "    <tr>\n",
       "      <th id=\"T_e6336_level0_row4\" class=\"row_heading level0 row4\" >Tenure</th>\n",
       "      <td id=\"T_e6336_row4_col0\" class=\"data row4 col0\" >-0.01</td>\n",
       "      <td id=\"T_e6336_row4_col1\" class=\"data row4 col1\" >-0.02</td>\n",
       "      <td id=\"T_e6336_row4_col2\" class=\"data row4 col2\" >-0.00</td>\n",
       "      <td id=\"T_e6336_row4_col3\" class=\"data row4 col3\" >-0.01</td>\n",
       "      <td id=\"T_e6336_row4_col4\" class=\"data row4 col4\" >1.00</td>\n",
       "      <td id=\"T_e6336_row4_col5\" class=\"data row4 col5\" >-0.01</td>\n",
       "      <td id=\"T_e6336_row4_col6\" class=\"data row4 col6\" >0.01</td>\n",
       "      <td id=\"T_e6336_row4_col7\" class=\"data row4 col7\" >0.03</td>\n",
       "      <td id=\"T_e6336_row4_col8\" class=\"data row4 col8\" >-0.03</td>\n",
       "      <td id=\"T_e6336_row4_col9\" class=\"data row4 col9\" >0.01</td>\n",
       "      <td id=\"T_e6336_row4_col10\" class=\"data row4 col10\" >-0.02</td>\n",
       "    </tr>\n",
       "    <tr>\n",
       "      <th id=\"T_e6336_level0_row5\" class=\"row_heading level0 row5\" >Balance</th>\n",
       "      <td id=\"T_e6336_row5_col0\" class=\"data row5 col0\" >-0.01</td>\n",
       "      <td id=\"T_e6336_row5_col1\" class=\"data row5 col1\" >-0.01</td>\n",
       "      <td id=\"T_e6336_row5_col2\" class=\"data row5 col2\" >0.01</td>\n",
       "      <td id=\"T_e6336_row5_col3\" class=\"data row5 col3\" >0.03</td>\n",
       "      <td id=\"T_e6336_row5_col4\" class=\"data row5 col4\" >-0.01</td>\n",
       "      <td id=\"T_e6336_row5_col5\" class=\"data row5 col5\" >1.00</td>\n",
       "      <td id=\"T_e6336_row5_col6\" class=\"data row5 col6\" >-0.30</td>\n",
       "      <td id=\"T_e6336_row5_col7\" class=\"data row5 col7\" >-0.01</td>\n",
       "      <td id=\"T_e6336_row5_col8\" class=\"data row5 col8\" >-0.01</td>\n",
       "      <td id=\"T_e6336_row5_col9\" class=\"data row5 col9\" >0.01</td>\n",
       "      <td id=\"T_e6336_row5_col10\" class=\"data row5 col10\" >0.12</td>\n",
       "    </tr>\n",
       "    <tr>\n",
       "      <th id=\"T_e6336_level0_row6\" class=\"row_heading level0 row6\" >NumOfProducts</th>\n",
       "      <td id=\"T_e6336_row6_col0\" class=\"data row6 col0\" >0.01</td>\n",
       "      <td id=\"T_e6336_row6_col1\" class=\"data row6 col1\" >0.02</td>\n",
       "      <td id=\"T_e6336_row6_col2\" class=\"data row6 col2\" >0.01</td>\n",
       "      <td id=\"T_e6336_row6_col3\" class=\"data row6 col3\" >-0.03</td>\n",
       "      <td id=\"T_e6336_row6_col4\" class=\"data row6 col4\" >0.01</td>\n",
       "      <td id=\"T_e6336_row6_col5\" class=\"data row6 col5\" >-0.30</td>\n",
       "      <td id=\"T_e6336_row6_col6\" class=\"data row6 col6\" >1.00</td>\n",
       "      <td id=\"T_e6336_row6_col7\" class=\"data row6 col7\" >0.00</td>\n",
       "      <td id=\"T_e6336_row6_col8\" class=\"data row6 col8\" >0.01</td>\n",
       "      <td id=\"T_e6336_row6_col9\" class=\"data row6 col9\" >0.01</td>\n",
       "      <td id=\"T_e6336_row6_col10\" class=\"data row6 col10\" >-0.05</td>\n",
       "    </tr>\n",
       "    <tr>\n",
       "      <th id=\"T_e6336_level0_row7\" class=\"row_heading level0 row7\" >HasCrCard</th>\n",
       "      <td id=\"T_e6336_row7_col0\" class=\"data row7 col0\" >0.00</td>\n",
       "      <td id=\"T_e6336_row7_col1\" class=\"data row7 col1\" >-0.01</td>\n",
       "      <td id=\"T_e6336_row7_col2\" class=\"data row7 col2\" >-0.01</td>\n",
       "      <td id=\"T_e6336_row7_col3\" class=\"data row7 col3\" >-0.01</td>\n",
       "      <td id=\"T_e6336_row7_col4\" class=\"data row7 col4\" >0.03</td>\n",
       "      <td id=\"T_e6336_row7_col5\" class=\"data row7 col5\" >-0.01</td>\n",
       "      <td id=\"T_e6336_row7_col6\" class=\"data row7 col6\" >0.00</td>\n",
       "      <td id=\"T_e6336_row7_col7\" class=\"data row7 col7\" >1.00</td>\n",
       "      <td id=\"T_e6336_row7_col8\" class=\"data row7 col8\" >-0.01</td>\n",
       "      <td id=\"T_e6336_row7_col9\" class=\"data row7 col9\" >-0.01</td>\n",
       "      <td id=\"T_e6336_row7_col10\" class=\"data row7 col10\" >-0.01</td>\n",
       "    </tr>\n",
       "    <tr>\n",
       "      <th id=\"T_e6336_level0_row8\" class=\"row_heading level0 row8\" >IsActiveMember</th>\n",
       "      <td id=\"T_e6336_row8_col0\" class=\"data row8 col0\" >0.01</td>\n",
       "      <td id=\"T_e6336_row8_col1\" class=\"data row8 col1\" >0.00</td>\n",
       "      <td id=\"T_e6336_row8_col2\" class=\"data row8 col2\" >0.03</td>\n",
       "      <td id=\"T_e6336_row8_col3\" class=\"data row8 col3\" >0.09</td>\n",
       "      <td id=\"T_e6336_row8_col4\" class=\"data row8 col4\" >-0.03</td>\n",
       "      <td id=\"T_e6336_row8_col5\" class=\"data row8 col5\" >-0.01</td>\n",
       "      <td id=\"T_e6336_row8_col6\" class=\"data row8 col6\" >0.01</td>\n",
       "      <td id=\"T_e6336_row8_col7\" class=\"data row8 col7\" >-0.01</td>\n",
       "      <td id=\"T_e6336_row8_col8\" class=\"data row8 col8\" >1.00</td>\n",
       "      <td id=\"T_e6336_row8_col9\" class=\"data row8 col9\" >-0.01</td>\n",
       "      <td id=\"T_e6336_row8_col10\" class=\"data row8 col10\" >-0.16</td>\n",
       "    </tr>\n",
       "    <tr>\n",
       "      <th id=\"T_e6336_level0_row9\" class=\"row_heading level0 row9\" >EstimatedSalary</th>\n",
       "      <td id=\"T_e6336_row9_col0\" class=\"data row9 col0\" >-0.01</td>\n",
       "      <td id=\"T_e6336_row9_col1\" class=\"data row9 col1\" >0.02</td>\n",
       "      <td id=\"T_e6336_row9_col2\" class=\"data row9 col2\" >-0.00</td>\n",
       "      <td id=\"T_e6336_row9_col3\" class=\"data row9 col3\" >-0.01</td>\n",
       "      <td id=\"T_e6336_row9_col4\" class=\"data row9 col4\" >0.01</td>\n",
       "      <td id=\"T_e6336_row9_col5\" class=\"data row9 col5\" >0.01</td>\n",
       "      <td id=\"T_e6336_row9_col6\" class=\"data row9 col6\" >0.01</td>\n",
       "      <td id=\"T_e6336_row9_col7\" class=\"data row9 col7\" >-0.01</td>\n",
       "      <td id=\"T_e6336_row9_col8\" class=\"data row9 col8\" >-0.01</td>\n",
       "      <td id=\"T_e6336_row9_col9\" class=\"data row9 col9\" >1.00</td>\n",
       "      <td id=\"T_e6336_row9_col10\" class=\"data row9 col10\" >0.01</td>\n",
       "    </tr>\n",
       "    <tr>\n",
       "      <th id=\"T_e6336_level0_row10\" class=\"row_heading level0 row10\" >Exited</th>\n",
       "      <td id=\"T_e6336_row10_col0\" class=\"data row10 col0\" >-0.02</td>\n",
       "      <td id=\"T_e6336_row10_col1\" class=\"data row10 col1\" >-0.01</td>\n",
       "      <td id=\"T_e6336_row10_col2\" class=\"data row10 col2\" >-0.03</td>\n",
       "      <td id=\"T_e6336_row10_col3\" class=\"data row10 col3\" >0.29</td>\n",
       "      <td id=\"T_e6336_row10_col4\" class=\"data row10 col4\" >-0.02</td>\n",
       "      <td id=\"T_e6336_row10_col5\" class=\"data row10 col5\" >0.12</td>\n",
       "      <td id=\"T_e6336_row10_col6\" class=\"data row10 col6\" >-0.05</td>\n",
       "      <td id=\"T_e6336_row10_col7\" class=\"data row10 col7\" >-0.01</td>\n",
       "      <td id=\"T_e6336_row10_col8\" class=\"data row10 col8\" >-0.16</td>\n",
       "      <td id=\"T_e6336_row10_col9\" class=\"data row10 col9\" >0.01</td>\n",
       "      <td id=\"T_e6336_row10_col10\" class=\"data row10 col10\" >1.00</td>\n",
       "    </tr>\n",
       "  </tbody>\n",
       "</table>\n"
      ],
      "text/plain": [
       "<pandas.io.formats.style.Styler at 0x2cb34c3eeb0>"
      ]
     },
     "execution_count": 6,
     "metadata": {},
     "output_type": "execute_result"
    }
   ],
   "source": [
    "cmap = cmap=sns.diverging_palette(5, 250, as_cmap=True)\n",
    "\n",
    "def magnify():\n",
    "    return [dict(selector=\"th\",\n",
    "                 props=[(\"font-size\", \"7pt\")]),\n",
    "            dict(selector=\"td\",\n",
    "                 props=[('padding', \"0em 0em\")]),\n",
    "            dict(selector=\"th:hover\",\n",
    "                 props=[(\"font-size\", \"12pt\")]),\n",
    "            dict(selector=\"tr:hover td:hover\",\n",
    "                 props=[('max-width', '200px'),\n",
    "                        ('font-size', '12pt')])\n",
    "]\n",
    "\n",
    "corr = round(data.corr(), 2)\n",
    "\n",
    "corr.style.background_gradient(cmap, axis=1)\\\n",
    "    .set_properties(**{'max-width': '80px', 'font-size': '10pt'})\\\n",
    "    .set_caption(\"Hover to magify\")\\\n",
    "    .set_precision(2)\\\n",
    "    .set_table_styles(magnify())"
   ]
  },
  {
   "cell_type": "markdown",
   "metadata": {},
   "source": [
    "### Форматирование наименований столбцов"
   ]
  },
  {
   "cell_type": "markdown",
   "metadata": {},
   "source": [
    "Выполнили форматирование столбцов в датафреме путем приведения названий столбцов к нижнему регистру, а также с разделением слов с помощью '_'."
   ]
  },
  {
   "cell_type": "code",
   "execution_count": 7,
   "metadata": {},
   "outputs": [
    {
     "data": {
      "text/html": [
       "<div>\n",
       "<style scoped>\n",
       "    .dataframe tbody tr th:only-of-type {\n",
       "        vertical-align: middle;\n",
       "    }\n",
       "\n",
       "    .dataframe tbody tr th {\n",
       "        vertical-align: top;\n",
       "    }\n",
       "\n",
       "    .dataframe thead th {\n",
       "        text-align: right;\n",
       "    }\n",
       "</style>\n",
       "<table border=\"1\" class=\"dataframe\">\n",
       "  <thead>\n",
       "    <tr style=\"text-align: right;\">\n",
       "      <th></th>\n",
       "      <th>row_number</th>\n",
       "      <th>customer_id</th>\n",
       "      <th>surname</th>\n",
       "      <th>credit_score</th>\n",
       "      <th>geography</th>\n",
       "      <th>gender</th>\n",
       "      <th>age</th>\n",
       "      <th>tenure</th>\n",
       "      <th>balance</th>\n",
       "      <th>num_of_products</th>\n",
       "      <th>has_cr_card</th>\n",
       "      <th>is_active_member</th>\n",
       "      <th>estimated_salary</th>\n",
       "      <th>exited</th>\n",
       "    </tr>\n",
       "  </thead>\n",
       "  <tbody>\n",
       "    <tr>\n",
       "      <th>0</th>\n",
       "      <td>1</td>\n",
       "      <td>15634602</td>\n",
       "      <td>Hargrave</td>\n",
       "      <td>619</td>\n",
       "      <td>France</td>\n",
       "      <td>Female</td>\n",
       "      <td>42</td>\n",
       "      <td>2.0</td>\n",
       "      <td>0.00</td>\n",
       "      <td>1</td>\n",
       "      <td>1</td>\n",
       "      <td>1</td>\n",
       "      <td>101348.88</td>\n",
       "      <td>1</td>\n",
       "    </tr>\n",
       "    <tr>\n",
       "      <th>1</th>\n",
       "      <td>2</td>\n",
       "      <td>15647311</td>\n",
       "      <td>Hill</td>\n",
       "      <td>608</td>\n",
       "      <td>Spain</td>\n",
       "      <td>Female</td>\n",
       "      <td>41</td>\n",
       "      <td>1.0</td>\n",
       "      <td>83807.86</td>\n",
       "      <td>1</td>\n",
       "      <td>0</td>\n",
       "      <td>1</td>\n",
       "      <td>112542.58</td>\n",
       "      <td>0</td>\n",
       "    </tr>\n",
       "    <tr>\n",
       "      <th>2</th>\n",
       "      <td>3</td>\n",
       "      <td>15619304</td>\n",
       "      <td>Onio</td>\n",
       "      <td>502</td>\n",
       "      <td>France</td>\n",
       "      <td>Female</td>\n",
       "      <td>42</td>\n",
       "      <td>8.0</td>\n",
       "      <td>159660.80</td>\n",
       "      <td>3</td>\n",
       "      <td>1</td>\n",
       "      <td>0</td>\n",
       "      <td>113931.57</td>\n",
       "      <td>1</td>\n",
       "    </tr>\n",
       "    <tr>\n",
       "      <th>3</th>\n",
       "      <td>4</td>\n",
       "      <td>15701354</td>\n",
       "      <td>Boni</td>\n",
       "      <td>699</td>\n",
       "      <td>France</td>\n",
       "      <td>Female</td>\n",
       "      <td>39</td>\n",
       "      <td>1.0</td>\n",
       "      <td>0.00</td>\n",
       "      <td>2</td>\n",
       "      <td>0</td>\n",
       "      <td>0</td>\n",
       "      <td>93826.63</td>\n",
       "      <td>0</td>\n",
       "    </tr>\n",
       "    <tr>\n",
       "      <th>4</th>\n",
       "      <td>5</td>\n",
       "      <td>15737888</td>\n",
       "      <td>Mitchell</td>\n",
       "      <td>850</td>\n",
       "      <td>Spain</td>\n",
       "      <td>Female</td>\n",
       "      <td>43</td>\n",
       "      <td>2.0</td>\n",
       "      <td>125510.82</td>\n",
       "      <td>1</td>\n",
       "      <td>1</td>\n",
       "      <td>1</td>\n",
       "      <td>79084.10</td>\n",
       "      <td>0</td>\n",
       "    </tr>\n",
       "  </tbody>\n",
       "</table>\n",
       "</div>"
      ],
      "text/plain": [
       "   row_number  customer_id   surname  credit_score geography  gender  age  \\\n",
       "0           1     15634602  Hargrave           619    France  Female   42   \n",
       "1           2     15647311      Hill           608     Spain  Female   41   \n",
       "2           3     15619304      Onio           502    France  Female   42   \n",
       "3           4     15701354      Boni           699    France  Female   39   \n",
       "4           5     15737888  Mitchell           850     Spain  Female   43   \n",
       "\n",
       "   tenure    balance  num_of_products  has_cr_card  is_active_member  \\\n",
       "0     2.0       0.00                1            1                 1   \n",
       "1     1.0   83807.86                1            0                 1   \n",
       "2     8.0  159660.80                3            1                 0   \n",
       "3     1.0       0.00                2            0                 0   \n",
       "4     2.0  125510.82                1            1                 1   \n",
       "\n",
       "   estimated_salary  exited  \n",
       "0         101348.88       1  \n",
       "1         112542.58       0  \n",
       "2         113931.57       1  \n",
       "3          93826.63       0  \n",
       "4          79084.10       0  "
      ]
     },
     "execution_count": 7,
     "metadata": {},
     "output_type": "execute_result"
    }
   ],
   "source": [
    "data.columns = [re.sub(r'(?<!^)(?=[A-Z])', '_', i).lower() for i in data.columns]\n",
    "data.head()"
   ]
  },
  {
   "cell_type": "markdown",
   "metadata": {},
   "source": [
    "### Обработка пропущенных значений в столбце \"tenure\""
   ]
  },
  {
   "cell_type": "markdown",
   "metadata": {},
   "source": [
    "Пропущенные значения:"
   ]
  },
  {
   "cell_type": "code",
   "execution_count": 8,
   "metadata": {},
   "outputs": [
    {
     "data": {
      "text/html": [
       "<div>\n",
       "<style scoped>\n",
       "    .dataframe tbody tr th:only-of-type {\n",
       "        vertical-align: middle;\n",
       "    }\n",
       "\n",
       "    .dataframe tbody tr th {\n",
       "        vertical-align: top;\n",
       "    }\n",
       "\n",
       "    .dataframe thead th {\n",
       "        text-align: right;\n",
       "    }\n",
       "</style>\n",
       "<table border=\"1\" class=\"dataframe\">\n",
       "  <thead>\n",
       "    <tr style=\"text-align: right;\">\n",
       "      <th></th>\n",
       "      <th>row_number</th>\n",
       "      <th>customer_id</th>\n",
       "      <th>surname</th>\n",
       "      <th>credit_score</th>\n",
       "      <th>geography</th>\n",
       "      <th>gender</th>\n",
       "      <th>age</th>\n",
       "      <th>tenure</th>\n",
       "      <th>balance</th>\n",
       "      <th>num_of_products</th>\n",
       "      <th>has_cr_card</th>\n",
       "      <th>is_active_member</th>\n",
       "      <th>estimated_salary</th>\n",
       "      <th>exited</th>\n",
       "    </tr>\n",
       "  </thead>\n",
       "  <tbody>\n",
       "    <tr>\n",
       "      <th>30</th>\n",
       "      <td>31</td>\n",
       "      <td>15589475</td>\n",
       "      <td>Azikiwe</td>\n",
       "      <td>591</td>\n",
       "      <td>Spain</td>\n",
       "      <td>Female</td>\n",
       "      <td>39</td>\n",
       "      <td>NaN</td>\n",
       "      <td>0.00</td>\n",
       "      <td>3</td>\n",
       "      <td>1</td>\n",
       "      <td>0</td>\n",
       "      <td>140469.38</td>\n",
       "      <td>1</td>\n",
       "    </tr>\n",
       "    <tr>\n",
       "      <th>48</th>\n",
       "      <td>49</td>\n",
       "      <td>15766205</td>\n",
       "      <td>Yin</td>\n",
       "      <td>550</td>\n",
       "      <td>Germany</td>\n",
       "      <td>Male</td>\n",
       "      <td>38</td>\n",
       "      <td>NaN</td>\n",
       "      <td>103391.38</td>\n",
       "      <td>1</td>\n",
       "      <td>0</td>\n",
       "      <td>1</td>\n",
       "      <td>90878.13</td>\n",
       "      <td>0</td>\n",
       "    </tr>\n",
       "    <tr>\n",
       "      <th>51</th>\n",
       "      <td>52</td>\n",
       "      <td>15768193</td>\n",
       "      <td>Trevisani</td>\n",
       "      <td>585</td>\n",
       "      <td>Germany</td>\n",
       "      <td>Male</td>\n",
       "      <td>36</td>\n",
       "      <td>NaN</td>\n",
       "      <td>146050.97</td>\n",
       "      <td>2</td>\n",
       "      <td>0</td>\n",
       "      <td>0</td>\n",
       "      <td>86424.57</td>\n",
       "      <td>0</td>\n",
       "    </tr>\n",
       "    <tr>\n",
       "      <th>53</th>\n",
       "      <td>54</td>\n",
       "      <td>15702298</td>\n",
       "      <td>Parkhill</td>\n",
       "      <td>655</td>\n",
       "      <td>Germany</td>\n",
       "      <td>Male</td>\n",
       "      <td>41</td>\n",
       "      <td>NaN</td>\n",
       "      <td>125561.97</td>\n",
       "      <td>1</td>\n",
       "      <td>0</td>\n",
       "      <td>0</td>\n",
       "      <td>164040.94</td>\n",
       "      <td>1</td>\n",
       "    </tr>\n",
       "    <tr>\n",
       "      <th>60</th>\n",
       "      <td>61</td>\n",
       "      <td>15651280</td>\n",
       "      <td>Hunter</td>\n",
       "      <td>742</td>\n",
       "      <td>Germany</td>\n",
       "      <td>Male</td>\n",
       "      <td>35</td>\n",
       "      <td>NaN</td>\n",
       "      <td>136857.00</td>\n",
       "      <td>1</td>\n",
       "      <td>0</td>\n",
       "      <td>0</td>\n",
       "      <td>84509.57</td>\n",
       "      <td>0</td>\n",
       "    </tr>\n",
       "    <tr>\n",
       "      <th>82</th>\n",
       "      <td>83</td>\n",
       "      <td>15641732</td>\n",
       "      <td>Mills</td>\n",
       "      <td>543</td>\n",
       "      <td>France</td>\n",
       "      <td>Female</td>\n",
       "      <td>36</td>\n",
       "      <td>NaN</td>\n",
       "      <td>0.00</td>\n",
       "      <td>2</td>\n",
       "      <td>0</td>\n",
       "      <td>0</td>\n",
       "      <td>26019.59</td>\n",
       "      <td>0</td>\n",
       "    </tr>\n",
       "    <tr>\n",
       "      <th>85</th>\n",
       "      <td>86</td>\n",
       "      <td>15805254</td>\n",
       "      <td>Ndukaku</td>\n",
       "      <td>652</td>\n",
       "      <td>Spain</td>\n",
       "      <td>Female</td>\n",
       "      <td>75</td>\n",
       "      <td>NaN</td>\n",
       "      <td>0.00</td>\n",
       "      <td>2</td>\n",
       "      <td>1</td>\n",
       "      <td>1</td>\n",
       "      <td>114675.75</td>\n",
       "      <td>0</td>\n",
       "    </tr>\n",
       "    <tr>\n",
       "      <th>94</th>\n",
       "      <td>95</td>\n",
       "      <td>15676966</td>\n",
       "      <td>Capon</td>\n",
       "      <td>730</td>\n",
       "      <td>Spain</td>\n",
       "      <td>Male</td>\n",
       "      <td>42</td>\n",
       "      <td>NaN</td>\n",
       "      <td>0.00</td>\n",
       "      <td>2</td>\n",
       "      <td>0</td>\n",
       "      <td>1</td>\n",
       "      <td>85982.47</td>\n",
       "      <td>0</td>\n",
       "    </tr>\n",
       "    <tr>\n",
       "      <th>99</th>\n",
       "      <td>100</td>\n",
       "      <td>15633059</td>\n",
       "      <td>Fanucci</td>\n",
       "      <td>413</td>\n",
       "      <td>France</td>\n",
       "      <td>Male</td>\n",
       "      <td>34</td>\n",
       "      <td>NaN</td>\n",
       "      <td>0.00</td>\n",
       "      <td>2</td>\n",
       "      <td>0</td>\n",
       "      <td>0</td>\n",
       "      <td>6534.18</td>\n",
       "      <td>0</td>\n",
       "    </tr>\n",
       "    <tr>\n",
       "      <th>111</th>\n",
       "      <td>112</td>\n",
       "      <td>15665790</td>\n",
       "      <td>Rowntree</td>\n",
       "      <td>538</td>\n",
       "      <td>Germany</td>\n",
       "      <td>Male</td>\n",
       "      <td>39</td>\n",
       "      <td>NaN</td>\n",
       "      <td>108055.10</td>\n",
       "      <td>2</td>\n",
       "      <td>1</td>\n",
       "      <td>0</td>\n",
       "      <td>27231.26</td>\n",
       "      <td>0</td>\n",
       "    </tr>\n",
       "    <tr>\n",
       "      <th>123</th>\n",
       "      <td>124</td>\n",
       "      <td>15760085</td>\n",
       "      <td>Calabresi</td>\n",
       "      <td>684</td>\n",
       "      <td>Germany</td>\n",
       "      <td>Female</td>\n",
       "      <td>48</td>\n",
       "      <td>NaN</td>\n",
       "      <td>126384.42</td>\n",
       "      <td>1</td>\n",
       "      <td>1</td>\n",
       "      <td>1</td>\n",
       "      <td>198129.36</td>\n",
       "      <td>0</td>\n",
       "    </tr>\n",
       "    <tr>\n",
       "      <th>125</th>\n",
       "      <td>126</td>\n",
       "      <td>15627360</td>\n",
       "      <td>Fuller</td>\n",
       "      <td>432</td>\n",
       "      <td>France</td>\n",
       "      <td>Male</td>\n",
       "      <td>42</td>\n",
       "      <td>NaN</td>\n",
       "      <td>152603.45</td>\n",
       "      <td>1</td>\n",
       "      <td>1</td>\n",
       "      <td>0</td>\n",
       "      <td>110265.24</td>\n",
       "      <td>1</td>\n",
       "    </tr>\n",
       "    <tr>\n",
       "      <th>146</th>\n",
       "      <td>147</td>\n",
       "      <td>15705707</td>\n",
       "      <td>Bennelong</td>\n",
       "      <td>635</td>\n",
       "      <td>Spain</td>\n",
       "      <td>Female</td>\n",
       "      <td>29</td>\n",
       "      <td>NaN</td>\n",
       "      <td>138296.94</td>\n",
       "      <td>2</td>\n",
       "      <td>1</td>\n",
       "      <td>0</td>\n",
       "      <td>141075.51</td>\n",
       "      <td>0</td>\n",
       "    </tr>\n",
       "    <tr>\n",
       "      <th>162</th>\n",
       "      <td>163</td>\n",
       "      <td>15630910</td>\n",
       "      <td>Treacy</td>\n",
       "      <td>800</td>\n",
       "      <td>France</td>\n",
       "      <td>Female</td>\n",
       "      <td>49</td>\n",
       "      <td>NaN</td>\n",
       "      <td>108007.36</td>\n",
       "      <td>1</td>\n",
       "      <td>0</td>\n",
       "      <td>0</td>\n",
       "      <td>47125.11</td>\n",
       "      <td>0</td>\n",
       "    </tr>\n",
       "    <tr>\n",
       "      <th>173</th>\n",
       "      <td>174</td>\n",
       "      <td>15586310</td>\n",
       "      <td>Ting</td>\n",
       "      <td>578</td>\n",
       "      <td>France</td>\n",
       "      <td>Male</td>\n",
       "      <td>30</td>\n",
       "      <td>NaN</td>\n",
       "      <td>169462.09</td>\n",
       "      <td>1</td>\n",
       "      <td>1</td>\n",
       "      <td>0</td>\n",
       "      <td>112187.11</td>\n",
       "      <td>0</td>\n",
       "    </tr>\n",
       "  </tbody>\n",
       "</table>\n",
       "</div>"
      ],
      "text/plain": [
       "     row_number  customer_id    surname  credit_score geography  gender  age  \\\n",
       "30           31     15589475    Azikiwe           591     Spain  Female   39   \n",
       "48           49     15766205        Yin           550   Germany    Male   38   \n",
       "51           52     15768193  Trevisani           585   Germany    Male   36   \n",
       "53           54     15702298   Parkhill           655   Germany    Male   41   \n",
       "60           61     15651280     Hunter           742   Germany    Male   35   \n",
       "82           83     15641732      Mills           543    France  Female   36   \n",
       "85           86     15805254    Ndukaku           652     Spain  Female   75   \n",
       "94           95     15676966      Capon           730     Spain    Male   42   \n",
       "99          100     15633059    Fanucci           413    France    Male   34   \n",
       "111         112     15665790   Rowntree           538   Germany    Male   39   \n",
       "123         124     15760085  Calabresi           684   Germany  Female   48   \n",
       "125         126     15627360     Fuller           432    France    Male   42   \n",
       "146         147     15705707  Bennelong           635     Spain  Female   29   \n",
       "162         163     15630910     Treacy           800    France  Female   49   \n",
       "173         174     15586310       Ting           578    France    Male   30   \n",
       "\n",
       "     tenure    balance  num_of_products  has_cr_card  is_active_member  \\\n",
       "30      NaN       0.00                3            1                 0   \n",
       "48      NaN  103391.38                1            0                 1   \n",
       "51      NaN  146050.97                2            0                 0   \n",
       "53      NaN  125561.97                1            0                 0   \n",
       "60      NaN  136857.00                1            0                 0   \n",
       "82      NaN       0.00                2            0                 0   \n",
       "85      NaN       0.00                2            1                 1   \n",
       "94      NaN       0.00                2            0                 1   \n",
       "99      NaN       0.00                2            0                 0   \n",
       "111     NaN  108055.10                2            1                 0   \n",
       "123     NaN  126384.42                1            1                 1   \n",
       "125     NaN  152603.45                1            1                 0   \n",
       "146     NaN  138296.94                2            1                 0   \n",
       "162     NaN  108007.36                1            0                 0   \n",
       "173     NaN  169462.09                1            1                 0   \n",
       "\n",
       "     estimated_salary  exited  \n",
       "30          140469.38       1  \n",
       "48           90878.13       0  \n",
       "51           86424.57       0  \n",
       "53          164040.94       1  \n",
       "60           84509.57       0  \n",
       "82           26019.59       0  \n",
       "85          114675.75       0  \n",
       "94           85982.47       0  \n",
       "99            6534.18       0  \n",
       "111          27231.26       0  \n",
       "123         198129.36       0  \n",
       "125         110265.24       1  \n",
       "146         141075.51       0  \n",
       "162          47125.11       0  \n",
       "173         112187.11       0  "
      ]
     },
     "execution_count": 8,
     "metadata": {},
     "output_type": "execute_result"
    }
   ],
   "source": [
    "data.loc[data['tenure'].isna()].head(15)"
   ]
  },
  {
   "cell_type": "markdown",
   "metadata": {},
   "source": [
    "Проверим, какую долю составляют пропущенные значения в столбце \"tenure\":"
   ]
  },
  {
   "cell_type": "code",
   "execution_count": 9,
   "metadata": {},
   "outputs": [
    {
     "data": {
      "text/plain": [
       "9.09"
      ]
     },
     "execution_count": 9,
     "metadata": {},
     "output_type": "execute_result"
    }
   ],
   "source": [
    "l = data['tenure'].isna().sum()\n",
    "k = data['tenure'].shape[0]\n",
    "round((l/k)*100,2)"
   ]
  },
  {
   "cell_type": "markdown",
   "metadata": {},
   "source": [
    "9% - уже выше 5%, поэтому нам стоит заполнить пропуски, а не удалять строки из датафрейма."
   ]
  },
  {
   "cell_type": "code",
   "execution_count": 10,
   "metadata": {},
   "outputs": [
    {
     "data": {
      "image/png": "[encoded data removed]",
      "text/plain": [
       "<Figure size 1000x500 with 1 Axes>"
      ]
     },
     "metadata": {},
     "output_type": "display_data"
    }
   ],
   "source": [
    "data['credit_score'].plot(kind='hist',\n",
    "        alpha=0.7,\n",
    "        bins=100,\n",
    "        title='Histogram of credit scores',\n",
    "        rot=45,\n",
    "        grid=True,\n",
    "        figsize=(10,5),\n",
    "        fontsize=10, \n",
    "        color='#32B5C9')\n",
    "plt.xlabel('Credit score')\n",
    "plt.ylabel(\"Number of people\");"
   ]
  },
  {
   "cell_type": "markdown",
   "metadata": {},
   "source": [
    "Попробуем, исходя из описательной статистики столбца \"credit_score\", категоризировать данные в столбце \"credit_score\" и найти медианные и средние значения в каждой из категорий."
   ]
  },
  {
   "cell_type": "code",
   "execution_count": 11,
   "metadata": {},
   "outputs": [
    {
     "data": {
      "text/plain": [
       "count    10000.000000\n",
       "mean       650.528800\n",
       "std         96.653299\n",
       "min        350.000000\n",
       "25%        584.000000\n",
       "50%        652.000000\n",
       "75%        718.000000\n",
       "max        850.000000\n",
       "Name: credit_score, dtype: float64"
      ]
     },
     "execution_count": 11,
     "metadata": {},
     "output_type": "execute_result"
    }
   ],
   "source": [
    "data['credit_score'].describe()"
   ]
  },
  {
   "cell_type": "markdown",
   "metadata": {},
   "source": [
    "Выделим пять категорий:\n",
    "- 350–467 — `'Poor'`;\n",
    "- 468–584 — `'Fair'`;\n",
    "- 585–652 — `'Good'`;\n",
    "- 653–717 — `'Very Good'`;\n",
    "- 718–850 — `'Excellent'`."
   ]
  },
  {
   "cell_type": "code",
   "execution_count": 12,
   "metadata": {},
   "outputs": [],
   "source": [
    "def categorize_scores(score):\n",
    "    try:\n",
    "        if 350 <= score <= 467:\n",
    "            return '5 - Poor'\n",
    "        elif 468 <= score <= 584:\n",
    "            return '4 - Fair'\n",
    "        elif 585 <= score <= 652:\n",
    "            return '3 - Good'\n",
    "        elif 653 <= score <= 717:\n",
    "            return '2 - Very Good'\n",
    "        elif 718 <= score <= 850:\n",
    "            return '1 - Excellent'\n",
    "    except:\n",
    "        pass"
   ]
  },
  {
   "cell_type": "code",
   "execution_count": 13,
   "metadata": {},
   "outputs": [],
   "source": [
    "data['credit_score_category'] = data['credit_score'].apply(categorize_scores)"
   ]
  },
  {
   "cell_type": "markdown",
   "metadata": {},
   "source": [
    "Посмотрим на сводную таблицу на среднее и медианное значения количества годов, когда человек является клиентом банка, по каждой категории:"
   ]
  },
  {
   "cell_type": "code",
   "execution_count": 14,
   "metadata": {},
   "outputs": [
    {
     "data": {
      "text/html": [
       "<div>\n",
       "<style scoped>\n",
       "    .dataframe tbody tr th:only-of-type {\n",
       "        vertical-align: middle;\n",
       "    }\n",
       "\n",
       "    .dataframe tbody tr th {\n",
       "        vertical-align: top;\n",
       "    }\n",
       "\n",
       "    .dataframe thead th {\n",
       "        text-align: right;\n",
       "    }\n",
       "</style>\n",
       "<table border=\"1\" class=\"dataframe\">\n",
       "  <thead>\n",
       "    <tr style=\"text-align: right;\">\n",
       "      <th></th>\n",
       "      <th>count</th>\n",
       "      <th>mean</th>\n",
       "      <th>median</th>\n",
       "    </tr>\n",
       "    <tr>\n",
       "      <th>credit_score_category</th>\n",
       "      <th></th>\n",
       "      <th></th>\n",
       "      <th></th>\n",
       "    </tr>\n",
       "  </thead>\n",
       "  <tbody>\n",
       "    <tr>\n",
       "      <th>1 - Excellent</th>\n",
       "      <td>2272</td>\n",
       "      <td>5.012764</td>\n",
       "      <td>5.0</td>\n",
       "    </tr>\n",
       "    <tr>\n",
       "      <th>2 - Very Good</th>\n",
       "      <td>2266</td>\n",
       "      <td>4.969109</td>\n",
       "      <td>5.0</td>\n",
       "    </tr>\n",
       "    <tr>\n",
       "      <th>3 - Good</th>\n",
       "      <td>2257</td>\n",
       "      <td>5.040762</td>\n",
       "      <td>5.0</td>\n",
       "    </tr>\n",
       "    <tr>\n",
       "      <th>4 - Fair</th>\n",
       "      <td>2034</td>\n",
       "      <td>4.951819</td>\n",
       "      <td>5.0</td>\n",
       "    </tr>\n",
       "    <tr>\n",
       "      <th>5 - Poor</th>\n",
       "      <td>262</td>\n",
       "      <td>5.099237</td>\n",
       "      <td>5.0</td>\n",
       "    </tr>\n",
       "  </tbody>\n",
       "</table>\n",
       "</div>"
      ],
      "text/plain": [
       "                       count      mean  median\n",
       "credit_score_category                         \n",
       "1 - Excellent           2272  5.012764     5.0\n",
       "2 - Very Good           2266  4.969109     5.0\n",
       "3 - Good                2257  5.040762     5.0\n",
       "4 - Fair                2034  4.951819     5.0\n",
       "5 - Poor                 262  5.099237     5.0"
      ]
     },
     "execution_count": 14,
     "metadata": {},
     "output_type": "execute_result"
    }
   ],
   "source": [
    "data_pivot = data.pivot_table(\n",
    "    index = 'credit_score_category', \n",
    "    values = 'tenure', \n",
    "    aggfunc = {'mean', 'median', 'count'})\n",
    "data_pivot.sort_values('credit_score_category', ascending=True)"
   ]
  },
  {
   "cell_type": "markdown",
   "metadata": {},
   "source": [
    "Видим, что среднее и медианное значение примерно одинаковое - 5 лет, заполниv пропуски медианным значением."
   ]
  },
  {
   "cell_type": "code",
   "execution_count": 15,
   "metadata": {},
   "outputs": [],
   "source": [
    "for t in data['credit_score_category'].unique():\n",
    "    data.loc[(data['credit_score_category'] == t) & \\\n",
    "                 (data['tenure'].isna()), 'tenure'] = \\\n",
    "    data.loc[(data['credit_score_category'] == t), 'tenure'].median()"
   ]
  },
  {
   "cell_type": "code",
   "execution_count": 16,
   "metadata": {},
   "outputs": [
    {
     "data": {
      "text/plain": [
       "0"
      ]
     },
     "execution_count": 16,
     "metadata": {},
     "output_type": "execute_result"
    }
   ],
   "source": [
    "data['tenure'].isna().sum()"
   ]
  },
  {
   "cell_type": "markdown",
   "metadata": {},
   "source": [
    "### Анализ данных на пропущенные значения или неявные дубликаты в других столбцах"
   ]
  },
  {
   "cell_type": "markdown",
   "metadata": {},
   "source": [
    "Проверим уникальные значения в столбце \"geography\":"
   ]
  },
  {
   "cell_type": "code",
   "execution_count": 17,
   "metadata": {},
   "outputs": [
    {
     "data": {
      "text/plain": [
       "array(['France', 'Spain', 'Germany'], dtype=object)"
      ]
     },
     "execution_count": 17,
     "metadata": {},
     "output_type": "execute_result"
    }
   ],
   "source": [
    "data['geography'].unique()"
   ]
  },
  {
   "cell_type": "markdown",
   "metadata": {},
   "source": [
    "Проверим уникальные значения в столбце \"gender\":"
   ]
  },
  {
   "cell_type": "code",
   "execution_count": 18,
   "metadata": {},
   "outputs": [
    {
     "data": {
      "text/plain": [
       "array(['Female', 'Male'], dtype=object)"
      ]
     },
     "execution_count": 18,
     "metadata": {},
     "output_type": "execute_result"
    }
   ],
   "source": [
    "data['gender'].unique()"
   ]
  },
  {
   "cell_type": "markdown",
   "metadata": {},
   "source": [
    "### Обработка выбивающихся значений в столбце \"surname\""
   ]
  },
  {
   "cell_type": "markdown",
   "metadata": {},
   "source": [
    "Проверим уникальные значения в столбце \"surname\":"
   ]
  },
  {
   "cell_type": "code",
   "execution_count": 19,
   "metadata": {
    "scrolled": true
   },
   "outputs": [
    {
     "data": {
      "text/html": [
       "<div>\n",
       "<style scoped>\n",
       "    .dataframe tbody tr th:only-of-type {\n",
       "        vertical-align: middle;\n",
       "    }\n",
       "\n",
       "    .dataframe tbody tr th {\n",
       "        vertical-align: top;\n",
       "    }\n",
       "\n",
       "    .dataframe thead th {\n",
       "        text-align: right;\n",
       "    }\n",
       "</style>\n",
       "<table border=\"1\" class=\"dataframe\">\n",
       "  <thead>\n",
       "    <tr style=\"text-align: right;\">\n",
       "      <th></th>\n",
       "      <th>row_number</th>\n",
       "      <th>customer_id</th>\n",
       "      <th>surname</th>\n",
       "      <th>credit_score</th>\n",
       "      <th>geography</th>\n",
       "      <th>gender</th>\n",
       "      <th>age</th>\n",
       "      <th>tenure</th>\n",
       "      <th>balance</th>\n",
       "      <th>num_of_products</th>\n",
       "      <th>has_cr_card</th>\n",
       "      <th>is_active_member</th>\n",
       "      <th>estimated_salary</th>\n",
       "      <th>exited</th>\n",
       "      <th>credit_score_category</th>\n",
       "    </tr>\n",
       "  </thead>\n",
       "  <tbody>\n",
       "    <tr>\n",
       "      <th>9</th>\n",
       "      <td>10</td>\n",
       "      <td>15592389</td>\n",
       "      <td>H?</td>\n",
       "      <td>684</td>\n",
       "      <td>France</td>\n",
       "      <td>Male</td>\n",
       "      <td>27</td>\n",
       "      <td>2.0</td>\n",
       "      <td>134603.88</td>\n",
       "      <td>1</td>\n",
       "      <td>1</td>\n",
       "      <td>1</td>\n",
       "      <td>71725.73</td>\n",
       "      <td>0</td>\n",
       "      <td>2 - Very Good</td>\n",
       "    </tr>\n",
       "    <tr>\n",
       "      <th>1280</th>\n",
       "      <td>1281</td>\n",
       "      <td>15671590</td>\n",
       "      <td>H?</td>\n",
       "      <td>741</td>\n",
       "      <td>Spain</td>\n",
       "      <td>Male</td>\n",
       "      <td>25</td>\n",
       "      <td>4.0</td>\n",
       "      <td>0.00</td>\n",
       "      <td>2</td>\n",
       "      <td>1</td>\n",
       "      <td>1</td>\n",
       "      <td>73873.65</td>\n",
       "      <td>0</td>\n",
       "      <td>1 - Excellent</td>\n",
       "    </tr>\n",
       "    <tr>\n",
       "      <th>1668</th>\n",
       "      <td>1669</td>\n",
       "      <td>15755722</td>\n",
       "      <td>H?</td>\n",
       "      <td>554</td>\n",
       "      <td>France</td>\n",
       "      <td>Male</td>\n",
       "      <td>24</td>\n",
       "      <td>10.0</td>\n",
       "      <td>0.00</td>\n",
       "      <td>1</td>\n",
       "      <td>0</td>\n",
       "      <td>0</td>\n",
       "      <td>92180.62</td>\n",
       "      <td>0</td>\n",
       "      <td>4 - Fair</td>\n",
       "    </tr>\n",
       "    <tr>\n",
       "      <th>1969</th>\n",
       "      <td>1970</td>\n",
       "      <td>15671930</td>\n",
       "      <td>H?</td>\n",
       "      <td>717</td>\n",
       "      <td>France</td>\n",
       "      <td>Female</td>\n",
       "      <td>36</td>\n",
       "      <td>5.0</td>\n",
       "      <td>0.00</td>\n",
       "      <td>2</td>\n",
       "      <td>1</td>\n",
       "      <td>1</td>\n",
       "      <td>145551.60</td>\n",
       "      <td>0</td>\n",
       "      <td>2 - Very Good</td>\n",
       "    </tr>\n",
       "    <tr>\n",
       "      <th>2302</th>\n",
       "      <td>2303</td>\n",
       "      <td>15736656</td>\n",
       "      <td>H?</td>\n",
       "      <td>723</td>\n",
       "      <td>France</td>\n",
       "      <td>Female</td>\n",
       "      <td>49</td>\n",
       "      <td>4.0</td>\n",
       "      <td>0.00</td>\n",
       "      <td>2</td>\n",
       "      <td>0</td>\n",
       "      <td>1</td>\n",
       "      <td>89972.25</td>\n",
       "      <td>0</td>\n",
       "      <td>1 - Excellent</td>\n",
       "    </tr>\n",
       "    <tr>\n",
       "      <th>2923</th>\n",
       "      <td>2924</td>\n",
       "      <td>15631159</td>\n",
       "      <td>H?</td>\n",
       "      <td>705</td>\n",
       "      <td>Germany</td>\n",
       "      <td>Male</td>\n",
       "      <td>41</td>\n",
       "      <td>4.0</td>\n",
       "      <td>72252.64</td>\n",
       "      <td>2</td>\n",
       "      <td>1</td>\n",
       "      <td>1</td>\n",
       "      <td>142514.66</td>\n",
       "      <td>0</td>\n",
       "      <td>2 - Very Good</td>\n",
       "    </tr>\n",
       "    <tr>\n",
       "      <th>3047</th>\n",
       "      <td>3048</td>\n",
       "      <td>15767871</td>\n",
       "      <td>H?</td>\n",
       "      <td>784</td>\n",
       "      <td>Spain</td>\n",
       "      <td>Male</td>\n",
       "      <td>48</td>\n",
       "      <td>7.0</td>\n",
       "      <td>0.00</td>\n",
       "      <td>2</td>\n",
       "      <td>1</td>\n",
       "      <td>1</td>\n",
       "      <td>182609.97</td>\n",
       "      <td>0</td>\n",
       "      <td>1 - Excellent</td>\n",
       "    </tr>\n",
       "    <tr>\n",
       "      <th>4071</th>\n",
       "      <td>4072</td>\n",
       "      <td>15732430</td>\n",
       "      <td>H?</td>\n",
       "      <td>850</td>\n",
       "      <td>Spain</td>\n",
       "      <td>Female</td>\n",
       "      <td>54</td>\n",
       "      <td>4.0</td>\n",
       "      <td>120952.74</td>\n",
       "      <td>1</td>\n",
       "      <td>1</td>\n",
       "      <td>0</td>\n",
       "      <td>66963.15</td>\n",
       "      <td>0</td>\n",
       "      <td>1 - Excellent</td>\n",
       "    </tr>\n",
       "    <tr>\n",
       "      <th>5072</th>\n",
       "      <td>5073</td>\n",
       "      <td>15572657</td>\n",
       "      <td>H?</td>\n",
       "      <td>472</td>\n",
       "      <td>France</td>\n",
       "      <td>Male</td>\n",
       "      <td>29</td>\n",
       "      <td>8.0</td>\n",
       "      <td>102490.27</td>\n",
       "      <td>1</td>\n",
       "      <td>0</td>\n",
       "      <td>1</td>\n",
       "      <td>181224.56</td>\n",
       "      <td>0</td>\n",
       "      <td>4 - Fair</td>\n",
       "    </tr>\n",
       "    <tr>\n",
       "      <th>5373</th>\n",
       "      <td>5374</td>\n",
       "      <td>15709412</td>\n",
       "      <td>H?</td>\n",
       "      <td>776</td>\n",
       "      <td>Spain</td>\n",
       "      <td>Male</td>\n",
       "      <td>30</td>\n",
       "      <td>6.0</td>\n",
       "      <td>0.00</td>\n",
       "      <td>2</td>\n",
       "      <td>0</td>\n",
       "      <td>1</td>\n",
       "      <td>63908.86</td>\n",
       "      <td>0</td>\n",
       "      <td>1 - Excellent</td>\n",
       "    </tr>\n",
       "    <tr>\n",
       "      <th>6002</th>\n",
       "      <td>6003</td>\n",
       "      <td>15783026</td>\n",
       "      <td>H?</td>\n",
       "      <td>701</td>\n",
       "      <td>France</td>\n",
       "      <td>Female</td>\n",
       "      <td>41</td>\n",
       "      <td>2.0</td>\n",
       "      <td>0.00</td>\n",
       "      <td>1</td>\n",
       "      <td>1</td>\n",
       "      <td>0</td>\n",
       "      <td>47856.78</td>\n",
       "      <td>0</td>\n",
       "      <td>2 - Very Good</td>\n",
       "    </tr>\n",
       "    <tr>\n",
       "      <th>6915</th>\n",
       "      <td>6916</td>\n",
       "      <td>15751549</td>\n",
       "      <td>H?</td>\n",
       "      <td>658</td>\n",
       "      <td>Germany</td>\n",
       "      <td>Male</td>\n",
       "      <td>31</td>\n",
       "      <td>2.0</td>\n",
       "      <td>77082.65</td>\n",
       "      <td>2</td>\n",
       "      <td>0</td>\n",
       "      <td>0</td>\n",
       "      <td>13482.28</td>\n",
       "      <td>0</td>\n",
       "      <td>2 - Very Good</td>\n",
       "    </tr>\n",
       "    <tr>\n",
       "      <th>6984</th>\n",
       "      <td>6985</td>\n",
       "      <td>15622631</td>\n",
       "      <td>H?</td>\n",
       "      <td>588</td>\n",
       "      <td>France</td>\n",
       "      <td>Male</td>\n",
       "      <td>44</td>\n",
       "      <td>8.0</td>\n",
       "      <td>154409.74</td>\n",
       "      <td>1</td>\n",
       "      <td>1</td>\n",
       "      <td>0</td>\n",
       "      <td>49324.03</td>\n",
       "      <td>1</td>\n",
       "      <td>3 - Good</td>\n",
       "    </tr>\n",
       "    <tr>\n",
       "      <th>7174</th>\n",
       "      <td>7175</td>\n",
       "      <td>15785339</td>\n",
       "      <td>H?</td>\n",
       "      <td>640</td>\n",
       "      <td>France</td>\n",
       "      <td>Female</td>\n",
       "      <td>50</td>\n",
       "      <td>9.0</td>\n",
       "      <td>117565.03</td>\n",
       "      <td>2</td>\n",
       "      <td>0</td>\n",
       "      <td>0</td>\n",
       "      <td>82559.77</td>\n",
       "      <td>0</td>\n",
       "      <td>3 - Good</td>\n",
       "    </tr>\n",
       "    <tr>\n",
       "      <th>7432</th>\n",
       "      <td>7433</td>\n",
       "      <td>15761047</td>\n",
       "      <td>H?</td>\n",
       "      <td>724</td>\n",
       "      <td>Germany</td>\n",
       "      <td>Male</td>\n",
       "      <td>31</td>\n",
       "      <td>2.0</td>\n",
       "      <td>160997.54</td>\n",
       "      <td>2</td>\n",
       "      <td>0</td>\n",
       "      <td>1</td>\n",
       "      <td>64831.36</td>\n",
       "      <td>0</td>\n",
       "      <td>1 - Excellent</td>\n",
       "    </tr>\n",
       "    <tr>\n",
       "      <th>8191</th>\n",
       "      <td>8192</td>\n",
       "      <td>15759480</td>\n",
       "      <td>H?</td>\n",
       "      <td>644</td>\n",
       "      <td>France</td>\n",
       "      <td>Female</td>\n",
       "      <td>40</td>\n",
       "      <td>10.0</td>\n",
       "      <td>139180.97</td>\n",
       "      <td>1</td>\n",
       "      <td>1</td>\n",
       "      <td>1</td>\n",
       "      <td>19959.67</td>\n",
       "      <td>0</td>\n",
       "      <td>3 - Good</td>\n",
       "    </tr>\n",
       "    <tr>\n",
       "      <th>8318</th>\n",
       "      <td>8319</td>\n",
       "      <td>15765402</td>\n",
       "      <td>H?</td>\n",
       "      <td>520</td>\n",
       "      <td>France</td>\n",
       "      <td>Female</td>\n",
       "      <td>39</td>\n",
       "      <td>6.0</td>\n",
       "      <td>145644.05</td>\n",
       "      <td>1</td>\n",
       "      <td>0</td>\n",
       "      <td>0</td>\n",
       "      <td>104118.93</td>\n",
       "      <td>0</td>\n",
       "      <td>4 - Fair</td>\n",
       "    </tr>\n",
       "    <tr>\n",
       "      <th>8375</th>\n",
       "      <td>8376</td>\n",
       "      <td>15658614</td>\n",
       "      <td>H?</td>\n",
       "      <td>565</td>\n",
       "      <td>Germany</td>\n",
       "      <td>Female</td>\n",
       "      <td>38</td>\n",
       "      <td>7.0</td>\n",
       "      <td>145400.69</td>\n",
       "      <td>2</td>\n",
       "      <td>1</td>\n",
       "      <td>1</td>\n",
       "      <td>83844.79</td>\n",
       "      <td>0</td>\n",
       "      <td>4 - Fair</td>\n",
       "    </tr>\n",
       "    <tr>\n",
       "      <th>9553</th>\n",
       "      <td>9554</td>\n",
       "      <td>15809585</td>\n",
       "      <td>H?</td>\n",
       "      <td>646</td>\n",
       "      <td>France</td>\n",
       "      <td>Male</td>\n",
       "      <td>38</td>\n",
       "      <td>7.0</td>\n",
       "      <td>0.00</td>\n",
       "      <td>2</td>\n",
       "      <td>1</td>\n",
       "      <td>0</td>\n",
       "      <td>1528.40</td>\n",
       "      <td>0</td>\n",
       "      <td>3 - Good</td>\n",
       "    </tr>\n",
       "  </tbody>\n",
       "</table>\n",
       "</div>"
      ],
      "text/plain": [
       "      row_number  customer_id surname  credit_score geography  gender  age  \\\n",
       "9             10     15592389      H?           684    France    Male   27   \n",
       "1280        1281     15671590      H?           741     Spain    Male   25   \n",
       "1668        1669     15755722      H?           554    France    Male   24   \n",
       "1969        1970     15671930      H?           717    France  Female   36   \n",
       "2302        2303     15736656      H?           723    France  Female   49   \n",
       "2923        2924     15631159      H?           705   Germany    Male   41   \n",
       "3047        3048     15767871      H?           784     Spain    Male   48   \n",
       "4071        4072     15732430      H?           850     Spain  Female   54   \n",
       "5072        5073     15572657      H?           472    France    Male   29   \n",
       "5373        5374     15709412      H?           776     Spain    Male   30   \n",
       "6002        6003     15783026      H?           701    France  Female   41   \n",
       "6915        6916     15751549      H?           658   Germany    Male   31   \n",
       "6984        6985     15622631      H?           588    France    Male   44   \n",
       "7174        7175     15785339      H?           640    France  Female   50   \n",
       "7432        7433     15761047      H?           724   Germany    Male   31   \n",
       "8191        8192     15759480      H?           644    France  Female   40   \n",
       "8318        8319     15765402      H?           520    France  Female   39   \n",
       "8375        8376     15658614      H?           565   Germany  Female   38   \n",
       "9553        9554     15809585      H?           646    France    Male   38   \n",
       "\n",
       "      tenure    balance  num_of_products  has_cr_card  is_active_member  \\\n",
       "9        2.0  134603.88                1            1                 1   \n",
       "1280     4.0       0.00                2            1                 1   \n",
       "1668    10.0       0.00                1            0                 0   \n",
       "1969     5.0       0.00                2            1                 1   \n",
       "2302     4.0       0.00                2            0                 1   \n",
       "2923     4.0   72252.64                2            1                 1   \n",
       "3047     7.0       0.00                2            1                 1   \n",
       "4071     4.0  120952.74                1            1                 0   \n",
       "5072     8.0  102490.27                1            0                 1   \n",
       "5373     6.0       0.00                2            0                 1   \n",
       "6002     2.0       0.00                1            1                 0   \n",
       "6915     2.0   77082.65                2            0                 0   \n",
       "6984     8.0  154409.74                1            1                 0   \n",
       "7174     9.0  117565.03                2            0                 0   \n",
       "7432     2.0  160997.54                2            0                 1   \n",
       "8191    10.0  139180.97                1            1                 1   \n",
       "8318     6.0  145644.05                1            0                 0   \n",
       "8375     7.0  145400.69                2            1                 1   \n",
       "9553     7.0       0.00                2            1                 0   \n",
       "\n",
       "      estimated_salary  exited credit_score_category  \n",
       "9             71725.73       0         2 - Very Good  \n",
       "1280          73873.65       0         1 - Excellent  \n",
       "1668          92180.62       0              4 - Fair  \n",
       "1969         145551.60       0         2 - Very Good  \n",
       "2302          89972.25       0         1 - Excellent  \n",
       "2923         142514.66       0         2 - Very Good  \n",
       "3047         182609.97       0         1 - Excellent  \n",
       "4071          66963.15       0         1 - Excellent  \n",
       "5072         181224.56       0              4 - Fair  \n",
       "5373          63908.86       0         1 - Excellent  \n",
       "6002          47856.78       0         2 - Very Good  \n",
       "6915          13482.28       0         2 - Very Good  \n",
       "6984          49324.03       1              3 - Good  \n",
       "7174          82559.77       0              3 - Good  \n",
       "7432          64831.36       0         1 - Excellent  \n",
       "8191          19959.67       0              3 - Good  \n",
       "8318         104118.93       0              4 - Fair  \n",
       "8375          83844.79       0              4 - Fair  \n",
       "9553           1528.40       0              3 - Good  "
      ]
     },
     "execution_count": 19,
     "metadata": {},
     "output_type": "execute_result"
    }
   ],
   "source": [
    "data.query('surname == \"H?\"')"
   ]
  },
  {
   "cell_type": "markdown",
   "metadata": {},
   "source": [
    "Посчитаем долю пропусков:"
   ]
  },
  {
   "cell_type": "code",
   "execution_count": 20,
   "metadata": {},
   "outputs": [
    {
     "data": {
      "text/plain": [
       "0.19"
      ]
     },
     "execution_count": 20,
     "metadata": {},
     "output_type": "execute_result"
    }
   ],
   "source": [
    "m = len(data[data['surname'] == \"H?\"])\n",
    "n = data['surname'].shape[0]\n",
    "round((m/n)*100,2)"
   ]
  },
  {
   "cell_type": "markdown",
   "metadata": {},
   "source": [
    "Доля пропусков здесь менее 5%, и для экономии времени их можно удалить."
   ]
  },
  {
   "cell_type": "code",
   "execution_count": 21,
   "metadata": {},
   "outputs": [],
   "source": [
    "data = data.loc[(data['surname'] != \"H?\")]"
   ]
  },
  {
   "cell_type": "markdown",
   "metadata": {},
   "source": [
    "Обновим индексы:"
   ]
  },
  {
   "cell_type": "code",
   "execution_count": 22,
   "metadata": {},
   "outputs": [
    {
     "data": {
      "text/html": [
       "<div>\n",
       "<style scoped>\n",
       "    .dataframe tbody tr th:only-of-type {\n",
       "        vertical-align: middle;\n",
       "    }\n",
       "\n",
       "    .dataframe tbody tr th {\n",
       "        vertical-align: top;\n",
       "    }\n",
       "\n",
       "    .dataframe thead th {\n",
       "        text-align: right;\n",
       "    }\n",
       "</style>\n",
       "<table border=\"1\" class=\"dataframe\">\n",
       "  <thead>\n",
       "    <tr style=\"text-align: right;\">\n",
       "      <th></th>\n",
       "      <th>row_number</th>\n",
       "      <th>customer_id</th>\n",
       "      <th>surname</th>\n",
       "      <th>credit_score</th>\n",
       "      <th>geography</th>\n",
       "      <th>gender</th>\n",
       "      <th>age</th>\n",
       "      <th>tenure</th>\n",
       "      <th>balance</th>\n",
       "      <th>num_of_products</th>\n",
       "      <th>has_cr_card</th>\n",
       "      <th>is_active_member</th>\n",
       "      <th>estimated_salary</th>\n",
       "      <th>exited</th>\n",
       "      <th>credit_score_category</th>\n",
       "    </tr>\n",
       "  </thead>\n",
       "  <tbody>\n",
       "    <tr>\n",
       "      <th>0</th>\n",
       "      <td>1</td>\n",
       "      <td>15634602</td>\n",
       "      <td>Hargrave</td>\n",
       "      <td>619</td>\n",
       "      <td>France</td>\n",
       "      <td>Female</td>\n",
       "      <td>42</td>\n",
       "      <td>2.0</td>\n",
       "      <td>0.00</td>\n",
       "      <td>1</td>\n",
       "      <td>1</td>\n",
       "      <td>1</td>\n",
       "      <td>101348.88</td>\n",
       "      <td>1</td>\n",
       "      <td>3 - Good</td>\n",
       "    </tr>\n",
       "    <tr>\n",
       "      <th>1</th>\n",
       "      <td>2</td>\n",
       "      <td>15647311</td>\n",
       "      <td>Hill</td>\n",
       "      <td>608</td>\n",
       "      <td>Spain</td>\n",
       "      <td>Female</td>\n",
       "      <td>41</td>\n",
       "      <td>1.0</td>\n",
       "      <td>83807.86</td>\n",
       "      <td>1</td>\n",
       "      <td>0</td>\n",
       "      <td>1</td>\n",
       "      <td>112542.58</td>\n",
       "      <td>0</td>\n",
       "      <td>3 - Good</td>\n",
       "    </tr>\n",
       "    <tr>\n",
       "      <th>2</th>\n",
       "      <td>3</td>\n",
       "      <td>15619304</td>\n",
       "      <td>Onio</td>\n",
       "      <td>502</td>\n",
       "      <td>France</td>\n",
       "      <td>Female</td>\n",
       "      <td>42</td>\n",
       "      <td>8.0</td>\n",
       "      <td>159660.80</td>\n",
       "      <td>3</td>\n",
       "      <td>1</td>\n",
       "      <td>0</td>\n",
       "      <td>113931.57</td>\n",
       "      <td>1</td>\n",
       "      <td>4 - Fair</td>\n",
       "    </tr>\n",
       "    <tr>\n",
       "      <th>3</th>\n",
       "      <td>4</td>\n",
       "      <td>15701354</td>\n",
       "      <td>Boni</td>\n",
       "      <td>699</td>\n",
       "      <td>France</td>\n",
       "      <td>Female</td>\n",
       "      <td>39</td>\n",
       "      <td>1.0</td>\n",
       "      <td>0.00</td>\n",
       "      <td>2</td>\n",
       "      <td>0</td>\n",
       "      <td>0</td>\n",
       "      <td>93826.63</td>\n",
       "      <td>0</td>\n",
       "      <td>2 - Very Good</td>\n",
       "    </tr>\n",
       "    <tr>\n",
       "      <th>4</th>\n",
       "      <td>5</td>\n",
       "      <td>15737888</td>\n",
       "      <td>Mitchell</td>\n",
       "      <td>850</td>\n",
       "      <td>Spain</td>\n",
       "      <td>Female</td>\n",
       "      <td>43</td>\n",
       "      <td>2.0</td>\n",
       "      <td>125510.82</td>\n",
       "      <td>1</td>\n",
       "      <td>1</td>\n",
       "      <td>1</td>\n",
       "      <td>79084.10</td>\n",
       "      <td>0</td>\n",
       "      <td>1 - Excellent</td>\n",
       "    </tr>\n",
       "    <tr>\n",
       "      <th>5</th>\n",
       "      <td>6</td>\n",
       "      <td>15574012</td>\n",
       "      <td>Chu</td>\n",
       "      <td>645</td>\n",
       "      <td>Spain</td>\n",
       "      <td>Male</td>\n",
       "      <td>44</td>\n",
       "      <td>8.0</td>\n",
       "      <td>113755.78</td>\n",
       "      <td>2</td>\n",
       "      <td>1</td>\n",
       "      <td>0</td>\n",
       "      <td>149756.71</td>\n",
       "      <td>1</td>\n",
       "      <td>3 - Good</td>\n",
       "    </tr>\n",
       "    <tr>\n",
       "      <th>6</th>\n",
       "      <td>7</td>\n",
       "      <td>15592531</td>\n",
       "      <td>Bartlett</td>\n",
       "      <td>822</td>\n",
       "      <td>France</td>\n",
       "      <td>Male</td>\n",
       "      <td>50</td>\n",
       "      <td>7.0</td>\n",
       "      <td>0.00</td>\n",
       "      <td>2</td>\n",
       "      <td>1</td>\n",
       "      <td>1</td>\n",
       "      <td>10062.80</td>\n",
       "      <td>0</td>\n",
       "      <td>1 - Excellent</td>\n",
       "    </tr>\n",
       "    <tr>\n",
       "      <th>7</th>\n",
       "      <td>8</td>\n",
       "      <td>15656148</td>\n",
       "      <td>Obinna</td>\n",
       "      <td>376</td>\n",
       "      <td>Germany</td>\n",
       "      <td>Female</td>\n",
       "      <td>29</td>\n",
       "      <td>4.0</td>\n",
       "      <td>115046.74</td>\n",
       "      <td>4</td>\n",
       "      <td>1</td>\n",
       "      <td>0</td>\n",
       "      <td>119346.88</td>\n",
       "      <td>1</td>\n",
       "      <td>5 - Poor</td>\n",
       "    </tr>\n",
       "    <tr>\n",
       "      <th>8</th>\n",
       "      <td>9</td>\n",
       "      <td>15792365</td>\n",
       "      <td>He</td>\n",
       "      <td>501</td>\n",
       "      <td>France</td>\n",
       "      <td>Male</td>\n",
       "      <td>44</td>\n",
       "      <td>4.0</td>\n",
       "      <td>142051.07</td>\n",
       "      <td>2</td>\n",
       "      <td>0</td>\n",
       "      <td>1</td>\n",
       "      <td>74940.50</td>\n",
       "      <td>0</td>\n",
       "      <td>4 - Fair</td>\n",
       "    </tr>\n",
       "    <tr>\n",
       "      <th>9</th>\n",
       "      <td>11</td>\n",
       "      <td>15767821</td>\n",
       "      <td>Bearce</td>\n",
       "      <td>528</td>\n",
       "      <td>France</td>\n",
       "      <td>Male</td>\n",
       "      <td>31</td>\n",
       "      <td>6.0</td>\n",
       "      <td>102016.72</td>\n",
       "      <td>2</td>\n",
       "      <td>0</td>\n",
       "      <td>0</td>\n",
       "      <td>80181.12</td>\n",
       "      <td>0</td>\n",
       "      <td>4 - Fair</td>\n",
       "    </tr>\n",
       "  </tbody>\n",
       "</table>\n",
       "</div>"
      ],
      "text/plain": [
       "   row_number  customer_id   surname  credit_score geography  gender  age  \\\n",
       "0           1     15634602  Hargrave           619    France  Female   42   \n",
       "1           2     15647311      Hill           608     Spain  Female   41   \n",
       "2           3     15619304      Onio           502    France  Female   42   \n",
       "3           4     15701354      Boni           699    France  Female   39   \n",
       "4           5     15737888  Mitchell           850     Spain  Female   43   \n",
       "5           6     15574012       Chu           645     Spain    Male   44   \n",
       "6           7     15592531  Bartlett           822    France    Male   50   \n",
       "7           8     15656148    Obinna           376   Germany  Female   29   \n",
       "8           9     15792365        He           501    France    Male   44   \n",
       "9          11     15767821    Bearce           528    France    Male   31   \n",
       "\n",
       "   tenure    balance  num_of_products  has_cr_card  is_active_member  \\\n",
       "0     2.0       0.00                1            1                 1   \n",
       "1     1.0   83807.86                1            0                 1   \n",
       "2     8.0  159660.80                3            1                 0   \n",
       "3     1.0       0.00                2            0                 0   \n",
       "4     2.0  125510.82                1            1                 1   \n",
       "5     8.0  113755.78                2            1                 0   \n",
       "6     7.0       0.00                2            1                 1   \n",
       "7     4.0  115046.74                4            1                 0   \n",
       "8     4.0  142051.07                2            0                 1   \n",
       "9     6.0  102016.72                2            0                 0   \n",
       "\n",
       "   estimated_salary  exited credit_score_category  \n",
       "0         101348.88       1              3 - Good  \n",
       "1         112542.58       0              3 - Good  \n",
       "2         113931.57       1              4 - Fair  \n",
       "3          93826.63       0         2 - Very Good  \n",
       "4          79084.10       0         1 - Excellent  \n",
       "5         149756.71       1              3 - Good  \n",
       "6          10062.80       0         1 - Excellent  \n",
       "7         119346.88       1              5 - Poor  \n",
       "8          74940.50       0              4 - Fair  \n",
       "9          80181.12       0              4 - Fair  "
      ]
     },
     "execution_count": 22,
     "metadata": {},
     "output_type": "execute_result"
    }
   ],
   "source": [
    "data.reset_index(drop=True, inplace=True)\n",
    "data.head(10)"
   ]
  },
  {
   "cell_type": "code",
   "execution_count": 23,
   "metadata": {},
   "outputs": [
    {
     "data": {
      "text/plain": [
       "9981"
      ]
     },
     "execution_count": 23,
     "metadata": {},
     "output_type": "execute_result"
    }
   ],
   "source": [
    "data.shape[0]"
   ]
  },
  {
   "cell_type": "markdown",
   "metadata": {},
   "source": [
    "### Замена типов данных и округление значений"
   ]
  },
  {
   "cell_type": "markdown",
   "metadata": {},
   "source": [
    "Заменим тип данных на целочисленный в столбце \"tenure\":"
   ]
  },
  {
   "cell_type": "code",
   "execution_count": 24,
   "metadata": {},
   "outputs": [],
   "source": [
    "data['tenure'] = data['tenure'].astype('int')"
   ]
  },
  {
   "cell_type": "markdown",
   "metadata": {},
   "source": [
    "Округлим данные в двух столбцах:"
   ]
  },
  {
   "cell_type": "code",
   "execution_count": 25,
   "metadata": {},
   "outputs": [],
   "source": [
    "to_round = {'balance', 'estimated_salary'}\n",
    "for o in to_round:\n",
    "        data[o] = round(data[o], 1)"
   ]
  },
  {
   "cell_type": "markdown",
   "metadata": {},
   "source": [
    "### Удаление столбцов"
   ]
  },
  {
   "cell_type": "markdown",
   "metadata": {},
   "source": [
    "Для дальнейшего исследования нам необходим датафрейм без следующих столбцов, которые не несут информации:"
   ]
  },
  {
   "cell_type": "code",
   "execution_count": 26,
   "metadata": {},
   "outputs": [],
   "source": [
    "data = data.drop(['row_number', 'customer_id', 'surname', 'credit_score_category'], axis=1)"
   ]
  },
  {
   "cell_type": "code",
   "execution_count": 27,
   "metadata": {},
   "outputs": [
    {
     "data": {
      "text/html": [
       "<div>\n",
       "<style scoped>\n",
       "    .dataframe tbody tr th:only-of-type {\n",
       "        vertical-align: middle;\n",
       "    }\n",
       "\n",
       "    .dataframe tbody tr th {\n",
       "        vertical-align: top;\n",
       "    }\n",
       "\n",
       "    .dataframe thead th {\n",
       "        text-align: right;\n",
       "    }\n",
       "</style>\n",
       "<table border=\"1\" class=\"dataframe\">\n",
       "  <thead>\n",
       "    <tr style=\"text-align: right;\">\n",
       "      <th></th>\n",
       "      <th>credit_score</th>\n",
       "      <th>geography</th>\n",
       "      <th>gender</th>\n",
       "      <th>age</th>\n",
       "      <th>tenure</th>\n",
       "      <th>balance</th>\n",
       "      <th>num_of_products</th>\n",
       "      <th>has_cr_card</th>\n",
       "      <th>is_active_member</th>\n",
       "      <th>estimated_salary</th>\n",
       "      <th>exited</th>\n",
       "    </tr>\n",
       "  </thead>\n",
       "  <tbody>\n",
       "    <tr>\n",
       "      <th>0</th>\n",
       "      <td>619</td>\n",
       "      <td>France</td>\n",
       "      <td>Female</td>\n",
       "      <td>42</td>\n",
       "      <td>2</td>\n",
       "      <td>0.0</td>\n",
       "      <td>1</td>\n",
       "      <td>1</td>\n",
       "      <td>1</td>\n",
       "      <td>101348.9</td>\n",
       "      <td>1</td>\n",
       "    </tr>\n",
       "    <tr>\n",
       "      <th>1</th>\n",
       "      <td>608</td>\n",
       "      <td>Spain</td>\n",
       "      <td>Female</td>\n",
       "      <td>41</td>\n",
       "      <td>1</td>\n",
       "      <td>83807.9</td>\n",
       "      <td>1</td>\n",
       "      <td>0</td>\n",
       "      <td>1</td>\n",
       "      <td>112542.6</td>\n",
       "      <td>0</td>\n",
       "    </tr>\n",
       "    <tr>\n",
       "      <th>2</th>\n",
       "      <td>502</td>\n",
       "      <td>France</td>\n",
       "      <td>Female</td>\n",
       "      <td>42</td>\n",
       "      <td>8</td>\n",
       "      <td>159660.8</td>\n",
       "      <td>3</td>\n",
       "      <td>1</td>\n",
       "      <td>0</td>\n",
       "      <td>113931.6</td>\n",
       "      <td>1</td>\n",
       "    </tr>\n",
       "    <tr>\n",
       "      <th>3</th>\n",
       "      <td>699</td>\n",
       "      <td>France</td>\n",
       "      <td>Female</td>\n",
       "      <td>39</td>\n",
       "      <td>1</td>\n",
       "      <td>0.0</td>\n",
       "      <td>2</td>\n",
       "      <td>0</td>\n",
       "      <td>0</td>\n",
       "      <td>93826.6</td>\n",
       "      <td>0</td>\n",
       "    </tr>\n",
       "    <tr>\n",
       "      <th>4</th>\n",
       "      <td>850</td>\n",
       "      <td>Spain</td>\n",
       "      <td>Female</td>\n",
       "      <td>43</td>\n",
       "      <td>2</td>\n",
       "      <td>125510.8</td>\n",
       "      <td>1</td>\n",
       "      <td>1</td>\n",
       "      <td>1</td>\n",
       "      <td>79084.1</td>\n",
       "      <td>0</td>\n",
       "    </tr>\n",
       "  </tbody>\n",
       "</table>\n",
       "</div>"
      ],
      "text/plain": [
       "   credit_score geography  gender  age  tenure   balance  num_of_products  \\\n",
       "0           619    France  Female   42       2       0.0                1   \n",
       "1           608     Spain  Female   41       1   83807.9                1   \n",
       "2           502    France  Female   42       8  159660.8                3   \n",
       "3           699    France  Female   39       1       0.0                2   \n",
       "4           850     Spain  Female   43       2  125510.8                1   \n",
       "\n",
       "   has_cr_card  is_active_member  estimated_salary  exited  \n",
       "0            1                 1          101348.9       1  \n",
       "1            0                 1          112542.6       0  \n",
       "2            1                 0          113931.6       1  \n",
       "3            0                 0           93826.6       0  \n",
       "4            1                 1           79084.1       0  "
      ]
     },
     "execution_count": 27,
     "metadata": {},
     "output_type": "execute_result"
    }
   ],
   "source": [
    "data.head()"
   ]
  },
  {
   "cell_type": "markdown",
   "metadata": {},
   "source": [
    "**Вывод:**\n",
    "\n",
    "При первичном анализе было выявлено, что в столбце \"tenure\" - сколько лет человек является клиентом банка, есть пустые значения (909). Явных дубликатов нет, судя по описательно статистике, явных аномалий не выявлено.\n",
    "\n",
    "Были отформатированы наименования столбцов из верхнего регистра в нижний с разделением словосочетаний через нижнее подчеркивание.\n",
    "\n",
    "Пропущенные значения в столбце \"tenure\" заполнены медианными значениями.\n",
    "\n",
    "Обработаны выбивающиеся значения в столбце \"surname\" - вместо имени \"H?\", такие строки были удалены. Итог - датафрейм с 9981 строками.\n",
    "\n",
    "Также был заменен тип данных в столбце \"tenure\" на целочисленный, а также округлены значения до одного знака после запятой в столбцах \"balance\" и \"estimated_salary\".\n",
    "\n",
    "Для дальнейшего анализа были удалены ненужные для обучения моделей столбцы."
   ]
  },
  {
   "cell_type": "markdown",
   "metadata": {},
   "source": [
    "## Исследование задачи"
   ]
  },
  {
   "cell_type": "markdown",
   "metadata": {},
   "source": [
    "### Разделение датафрейма на 3 выборки"
   ]
  },
  {
   "cell_type": "markdown",
   "metadata": {},
   "source": [
    "Для обучения модели разделим данные следующим образом:"
   ]
  },
  {
   "cell_type": "code",
   "execution_count": 28,
   "metadata": {},
   "outputs": [],
   "source": [
    "features = data.drop('exited', axis=1)\n",
    "target = data['exited']"
   ]
  },
  {
   "cell_type": "markdown",
   "metadata": {},
   "source": [
    "Разделим датафрейм на 3 выборки в соотношении 60/20/20:"
   ]
  },
  {
   "cell_type": "code",
   "execution_count": 29,
   "metadata": {},
   "outputs": [
    {
     "name": "stdout",
     "output_type": "stream",
     "text": [
      "Размер обучающей выборки 5988\n",
      "Размер валидационной выборки 1996\n",
      "Размер тестовой выборки 1997\n"
     ]
    }
   ],
   "source": [
    "train, valid, test = np.split(\n",
    "    data.sample(\n",
    "        frac=1, \n",
    "        random_state=12345\n",
    "    ),\n",
    "    [int(.6*len(data)), \n",
    "     int(.8*len(data))]\n",
    ")\n",
    "print('Размер обучающей выборки', train.shape[0])\n",
    "print('Размер валидационной выборки', valid.shape[0])\n",
    "print('Размер тестовой выборки', test.shape[0])"
   ]
  },
  {
   "cell_type": "markdown",
   "metadata": {},
   "source": [
    "### Объявление переменных"
   ]
  },
  {
   "cell_type": "markdown",
   "metadata": {},
   "source": [
    "Объявим переменные, в которые запишем:\n",
    "- **признаки**: features_train, features_valid, features_test\n",
    "- **целевой признак**: target_train, target_valid, target_test"
   ]
  },
  {
   "cell_type": "code",
   "execution_count": 30,
   "metadata": {},
   "outputs": [],
   "source": [
    "features_train = train.drop(['exited'], axis=1)\n",
    "target_train = train['exited']"
   ]
  },
  {
   "cell_type": "code",
   "execution_count": 31,
   "metadata": {},
   "outputs": [],
   "source": [
    "features_valid = valid.drop(['exited'], axis=1)\n",
    "target_valid = valid['exited']"
   ]
  },
  {
   "cell_type": "code",
   "execution_count": 32,
   "metadata": {},
   "outputs": [],
   "source": [
    "features_test = test.drop(['exited'], axis=1)\n",
    "target_test = test['exited']"
   ]
  },
  {
   "cell_type": "markdown",
   "metadata": {},
   "source": [
    "### OHE кодирование категориальных признаков"
   ]
  },
  {
   "cell_type": "markdown",
   "metadata": {},
   "source": [
    "Используем прямое кодирование для преобразования категориальных признаков в численные:"
   ]
  },
  {
   "cell_type": "code",
   "execution_count": 33,
   "metadata": {},
   "outputs": [
    {
     "name": "stdout",
     "output_type": "stream",
     "text": [
      "(5988, 11)\n",
      "(1996, 11)\n",
      "(1997, 11)\n"
     ]
    }
   ],
   "source": [
    "ohe_features = ['geography', 'gender']\n",
    "\n",
    "encoder_ohe = OneHotEncoder(drop='first', handle_unknown='ignore', sparse=False)\n",
    "encoder_ohe.fit(features_train[ohe_features])\n",
    "\n",
    "features_train[\n",
    "    encoder_ohe.get_feature_names_out()\n",
    "] = encoder_ohe.transform(features_train[ohe_features])\n",
    "features_train = features_train.drop(ohe_features, axis=1)\n",
    "\n",
    "features_valid[\n",
    "    encoder_ohe.get_feature_names_out()\n",
    "] = encoder_ohe.transform(features_valid[ohe_features])\n",
    "features_valid = features_valid.drop(ohe_features, axis=1)\n",
    "\n",
    "features_test[\n",
    "    encoder_ohe.get_feature_names_out()\n",
    "] = encoder_ohe.transform(features_test[ohe_features])\n",
    "features_test = features_test.drop(ohe_features, axis=1)\n",
    "\n",
    "print(features_train.shape)\n",
    "print(features_valid.shape)\n",
    "print(features_test.shape)"
   ]
  },
  {
   "cell_type": "markdown",
   "metadata": {},
   "source": [
    "### Масштабирование признаков"
   ]
  },
  {
   "cell_type": "markdown",
   "metadata": {},
   "source": [
    "Масштабируем признаки, чтобы избежать ситуации, когда алгоритм автоматически примет решение о том, что какой-то определенный признак важнее другого. Для нас все признаки одинаково значимы:"
   ]
  },
  {
   "cell_type": "code",
   "execution_count": 34,
   "metadata": {},
   "outputs": [
    {
     "name": "stdout",
     "output_type": "stream",
     "text": [
      "(5988, 11)\n",
      "(1996, 11)\n",
      "(1997, 11)\n"
     ]
    }
   ],
   "source": [
    "numeric = ['credit_score', 'age', 'tenure', 'balance', 'estimated_salary']\n",
    "\n",
    "scaler = StandardScaler()\n",
    "scaler.fit(features_train[numeric])\n",
    "features_train[numeric] = scaler.transform(features_train[numeric])\n",
    "features_valid[numeric] = scaler.transform(features_valid[numeric])\n",
    "features_test[numeric] = scaler.transform(features_test[numeric])\n",
    "\n",
    "print(features_train.shape)\n",
    "print(features_valid.shape)\n",
    "print(features_test.shape)"
   ]
  },
  {
   "cell_type": "code",
   "execution_count": 35,
   "metadata": {},
   "outputs": [
    {
     "data": {
      "image/png": "[encoded data removed]",
      "text/plain": [
       "<Figure size 700x2000 with 11 Axes>"
      ]
     },
     "metadata": {},
     "output_type": "display_data"
    }
   ],
   "source": [
    "_ = pd.DataFrame(features_train).plot(kind='hist', subplots=True, figsize=(7,20))"
   ]
  },
  {
   "cell_type": "markdown",
   "metadata": {},
   "source": [
    "Видим, что все данные уложились в один диапазон."
   ]
  },
  {
   "cell_type": "markdown",
   "metadata": {},
   "source": [
    "### Исследование баланса классов"
   ]
  },
  {
   "cell_type": "code",
   "execution_count": 36,
   "metadata": {},
   "outputs": [
    {
     "data": {
      "text/plain": [
       "0    1600\n",
       "1     396\n",
       "Name: exited, dtype: int64"
      ]
     },
     "execution_count": 36,
     "metadata": {},
     "output_type": "execute_result"
    }
   ],
   "source": [
    "target_valid.value_counts()"
   ]
  },
  {
   "cell_type": "markdown",
   "metadata": {},
   "source": [
    "Видим большой дисбаланс, отобразим его графически:"
   ]
  },
  {
   "cell_type": "code",
   "execution_count": 37,
   "metadata": {},
   "outputs": [
    {
     "data": {
      "image/png": "[encoded data removed]",
      "text/plain": [
       "<Figure size 640x480 with 1 Axes>"
      ]
     },
     "metadata": {},
     "output_type": "display_data"
    }
   ],
   "source": [
    "_ = target_valid.value_counts(normalize=True).plot(kind='bar')"
   ]
  },
  {
   "cell_type": "markdown",
   "metadata": {},
   "source": [
    "Дисбаланс 1:4 (примерно 20% на 80%) - достаточно большой."
   ]
  },
  {
   "cell_type": "markdown",
   "metadata": {},
   "source": [
    "### Обучение модели, метод DecisionTreeClassifier()"
   ]
  },
  {
   "cell_type": "markdown",
   "metadata": {},
   "source": [
    "Теперь приступим к обучению модели без учета дисбаланса."
   ]
  },
  {
   "cell_type": "code",
   "execution_count": 38,
   "metadata": {},
   "outputs": [
    {
     "name": "stdout",
     "output_type": "stream",
     "text": [
      "Максимальная глубина: 7\n",
      "F1-мера: 0.5705128205128205\n"
     ]
    }
   ],
   "source": [
    "best_model_d_nb = None\n",
    "best_parameter = []\n",
    "best_result = 0\n",
    "for depth in range(1, 11):\n",
    "    model_d_nb = DecisionTreeClassifier(random_state=12345, max_depth=depth)\n",
    "    model_d_nb.fit(features_train, target_train)\n",
    "    predicted_valid = model_d_nb.predict(features_valid)\n",
    "    result = f1_score(target_valid, predicted_valid)\n",
    "    if result > best_result:\n",
    "        best_model_d_nb = model_d_nb\n",
    "        best_parameter = depth\n",
    "        best_result = result     \n",
    "        \n",
    "print(\"Максимальная глубина:\", best_parameter)\n",
    "print('F1-мера:', best_result)"
   ]
  },
  {
   "cell_type": "markdown",
   "metadata": {},
   "source": [
    "### Обучение модели, метод RandomForestClassifier()"
   ]
  },
  {
   "cell_type": "markdown",
   "metadata": {},
   "source": [
    "Обучим модель, используя метод RandomForestClassifier(), подбирая нужные гиперпараметры: число деревьев от 10 до 150 с шагом 10, глубина от 1 до 21:"
   ]
  },
  {
   "cell_type": "code",
   "execution_count": 39,
   "metadata": {},
   "outputs": [
    {
     "name": "stdout",
     "output_type": "stream",
     "text": [
      "Лучшее количество деревьев: 80\n",
      "Лучшая глубина дерева: 16\n",
      "F1-мера: 0.615625\n"
     ]
    }
   ],
   "source": [
    "best_model_rf_nb = None\n",
    "best_parameters = []\n",
    "best_result = 0\n",
    "for est in range(10, 151, 10):\n",
    "    for depth in range(1, 21):\n",
    "        model_rf_nb = RandomForestClassifier(random_state=12345, n_estimators=est, max_depth=depth)\n",
    "        model_rf_nb.fit(features_train, target_train)\n",
    "        predicted_valid = model_rf_nb.predict(features_valid)\n",
    "        result = f1_score(target_valid, predicted_valid)\n",
    "        if result > best_result:\n",
    "            best_model_rf_nb = model_rf_nb\n",
    "            best_parameters = [est, depth]\n",
    "            best_result = result     \n",
    "print('Лучшее количество деревьев:', best_parameters[0])\n",
    "print('Лучшая глубина дерева:', best_parameters[1])\n",
    "print('F1-мера:', best_result)"
   ]
  },
  {
   "cell_type": "markdown",
   "metadata": {},
   "source": [
    "В данном случае F1-мера максимальная при глубине 16 и количестве деревьев 80 и составляет 0.615625"
   ]
  },
  {
   "cell_type": "markdown",
   "metadata": {},
   "source": [
    "### Обучение модели, метод LogisticRegression()"
   ]
  },
  {
   "cell_type": "code",
   "execution_count": 40,
   "metadata": {},
   "outputs": [
    {
     "name": "stdout",
     "output_type": "stream",
     "text": [
      "F1-мера: 0.3557168784029038\n"
     ]
    }
   ],
   "source": [
    "model_lr_nb = LogisticRegression(random_state=12345, solver='liblinear')\n",
    "model_lr_nb.fit(features_train, target_train)\n",
    "predicted_valid = model_lr_nb.predict(features_valid)\n",
    "\n",
    "print('F1-мера:', f1_score(target_valid, predicted_valid))"
   ]
  },
  {
   "cell_type": "markdown",
   "metadata": {},
   "source": [
    "Модель, обученная методом LogisticRegression(), показала худшую метрику F1-меры: 0.35."
   ]
  },
  {
   "cell_type": "markdown",
   "metadata": {},
   "source": [
    "### ROC-кривая, метрика AUC-ROC для лучшего решения"
   ]
  },
  {
   "cell_type": "markdown",
   "metadata": {},
   "source": [
    "Построим ROC-кривую для случайного леса:"
   ]
  },
  {
   "cell_type": "code",
   "execution_count": 41,
   "metadata": {},
   "outputs": [
    {
     "data": {
      "image/png": "[encoded data removed]",
      "text/plain": [
       "<Figure size 640x480 with 1 Axes>"
      ]
     },
     "metadata": {},
     "output_type": "display_data"
    }
   ],
   "source": [
    "best_model_rf_nb.fit(features_train, target_train)\n",
    "probabilities_valid = best_model_rf_nb.predict_proba(features_valid)\n",
    "probabilities_one_valid = probabilities_valid[:, 1]\n",
    "\n",
    "fpr, tpr, threshold = roc_curve(target_valid, probabilities_one_valid)\n",
    "plt.plot(fpr, tpr, color='indigo')\n",
    "\n",
    "plt.plot([0, 1], [0, 1], linestyle='--', color='#ACB698')\n",
    "\n",
    "plt.xlim([0.0, 1.0])\n",
    "plt.ylim([0.0, 1.0])\n",
    "plt.xlabel('False Positive Rate')\n",
    "plt.ylabel('True Positive Rate')\n",
    "plt.title('ROC-кривая')\n",
    "plt.legend(['Unbalanced', 'Random'])\n",
    "plt.show;"
   ]
  },
  {
   "cell_type": "markdown",
   "metadata": {},
   "source": [
    "Посчитаем AUC-ROC:"
   ]
  },
  {
   "cell_type": "code",
   "execution_count": 42,
   "metadata": {},
   "outputs": [
    {
     "data": {
      "text/plain": [
       "0.8672624684343436"
      ]
     },
     "execution_count": 42,
     "metadata": {},
     "output_type": "execute_result"
    }
   ],
   "source": [
    "auc_roc = roc_auc_score(target_valid, probabilities_one_valid)\n",
    "auc_roc"
   ]
  },
  {
   "cell_type": "markdown",
   "metadata": {},
   "source": [
    "AUC-ROC составляет 0.86, что достаточно далеко от 1, но уже метрика лучше."
   ]
  },
  {
   "cell_type": "markdown",
   "metadata": {},
   "source": [
    "**Вывод:**\n",
    "\n",
    "Преобразовали категориальные признаки в численные техникой прямого кодирования OHE, разделили датафрейм на 3 выборки - тренировочную (60%), валидационную (20%) и тестовую (20%). Объявили переменные с целевыми и прочими признаками, а также масштабировали и категоризировали признаки.\n",
    "\n",
    "Выявили дисбаланс - 1:4 и приступили к обучению модели без учета дисбаланса.\n",
    "\n",
    "- В условиях дисбаланса модель, обученная методом DecisionTreeClassifier() с максимальной глубиной 7, имеет значение метрики: F1-мера = 0.57.\n",
    "- Для метода RandomForestClassifier() F1-мера максимальная при глубине 16 и количестве деревьев 80 и составляет 0.615625.\n",
    "- Худший показатель F1-меры у модели, обученной LogisticRegression(), 0.35.\n",
    "\n",
    "AUC-ROC составляет 0.86, что достаточно далеко от 1, но уже метрика лучше."
   ]
  },
  {
   "cell_type": "markdown",
   "metadata": {},
   "source": [
    "## Борьба с дисбалансом"
   ]
  },
  {
   "cell_type": "markdown",
   "metadata": {},
   "source": [
    "### SMOTE & RandomUnderSampler"
   ]
  },
  {
   "cell_type": "code",
   "execution_count": 43,
   "metadata": {
    "scrolled": true
   },
   "outputs": [],
   "source": [
    "oversample = SMOTE(random_state=12345)\n",
    "features_train_up, target_train_up = oversample.fit_resample(features_train, target_train)"
   ]
  },
  {
   "cell_type": "code",
   "execution_count": 44,
   "metadata": {},
   "outputs": [
    {
     "name": "stdout",
     "output_type": "stream",
     "text": [
      "Максимальная глубина: 7\n",
      "F1-мера: 0.5772532188841202\n"
     ]
    }
   ],
   "source": [
    "best_model_up_d = None\n",
    "best_parameter = []\n",
    "best_result = 0\n",
    "for depth in range(1, 11):\n",
    "    model_up_d = DecisionTreeClassifier(random_state=12345, max_depth=depth)\n",
    "    model_up_d.fit(features_train_up, target_train_up)\n",
    "    predicted_valid = model_up_d.predict(features_valid)\n",
    "    result = f1_score(target_valid, predicted_valid)\n",
    "    if result > best_result:\n",
    "        best_model_up_d = model_up_d\n",
    "        best_parameter = depth\n",
    "        best_result = result     \n",
    "        \n",
    "print(\"Максимальная глубина:\", best_parameter)\n",
    "print('F1-мера:', best_result)"
   ]
  },
  {
   "cell_type": "code",
   "execution_count": 45,
   "metadata": {},
   "outputs": [
    {
     "name": "stdout",
     "output_type": "stream",
     "text": [
      "Лучшее количество деревьев: 70\n",
      "Лучшая глубина дерева: 9\n",
      "F1-мера: 0.6177514792899408\n"
     ]
    }
   ],
   "source": [
    "best_model_up_rf = None\n",
    "best_parameters = []\n",
    "best_result = 0\n",
    "for est in range(10, 151, 10):\n",
    "    for depth in range(1, 21):\n",
    "        model_up_rf = RandomForestClassifier(random_state=12345, n_estimators=est, max_depth=depth)\n",
    "        model_up_rf.fit(features_train_up, target_train_up)\n",
    "        predicted_valid = model_up_rf.predict(features_valid)\n",
    "        result = f1_score(target_valid, predicted_valid)\n",
    "        if result > best_result:\n",
    "            best_model_up_rf = model_up_rf\n",
    "            best_parameters = [est, depth]\n",
    "            best_result = result     \n",
    "print('Лучшее количество деревьев:', best_parameters[0])\n",
    "print('Лучшая глубина дерева:', best_parameters[1])\n",
    "print('F1-мера:', best_result)"
   ]
  },
  {
   "cell_type": "code",
   "execution_count": 46,
   "metadata": {},
   "outputs": [
    {
     "name": "stdout",
     "output_type": "stream",
     "text": [
      "F1-мера: 0.4818840579710144\n"
     ]
    }
   ],
   "source": [
    "model_up_lr = LogisticRegression(random_state=12345, solver='liblinear')\n",
    "model_up_lr.fit(features_train_up, target_train_up)\n",
    "predicted_valid = model_up_lr.predict(features_valid)\n",
    "print('F1-мера:', f1_score(target_valid, predicted_valid))"
   ]
  },
  {
   "cell_type": "code",
   "execution_count": 47,
   "metadata": {},
   "outputs": [],
   "source": [
    "undersampled = RandomUnderSampler(random_state=12345)\n",
    "features_train_resampled, target_train_resampled = undersampled.fit_resample(\n",
    "                                                            features_train, target_train)"
   ]
  },
  {
   "cell_type": "code",
   "execution_count": 48,
   "metadata": {},
   "outputs": [
    {
     "name": "stdout",
     "output_type": "stream",
     "text": [
      "Максимальная глубина: 6\n",
      "F1-мера: 0.5539637058261699\n"
     ]
    }
   ],
   "source": [
    "best_model_down_d = None\n",
    "best_parameter = []\n",
    "best_result = 0\n",
    "for depth in range(1, 11):\n",
    "    model_down_d = DecisionTreeClassifier(random_state=12345, max_depth=depth)\n",
    "    model_down_d.fit(features_train_resampled, target_train_resampled)\n",
    "    predicted_valid = model_down_d.predict(features_valid)\n",
    "    result = f1_score(target_valid, predicted_valid)\n",
    "    if result > best_result:\n",
    "        best_model_down_d = model_down_d\n",
    "        best_parameter = depth\n",
    "        best_result = result     \n",
    "        \n",
    "print(\"Максимальная глубина:\", best_parameter)\n",
    "print('F1-мера:', best_result)"
   ]
  },
  {
   "cell_type": "code",
   "execution_count": 49,
   "metadata": {},
   "outputs": [
    {
     "name": "stdout",
     "output_type": "stream",
     "text": [
      "Лучшее количество деревьев: 40\n",
      "Лучшая глубина дерева: 5\n",
      "F1-мера: 0.6115702479338844\n"
     ]
    }
   ],
   "source": [
    "best_model_down_rf = None\n",
    "best_parameters = []\n",
    "best_result = 0\n",
    "for est in range(10, 151, 10):\n",
    "    for depth in range(1, 21):\n",
    "        model_down_rf = RandomForestClassifier(random_state=12345, n_estimators=est, max_depth=depth)\n",
    "        model_down_rf.fit(features_train_resampled, target_train_resampled)\n",
    "        predicted_valid = model_down_rf.predict(features_valid)\n",
    "        result = f1_score(target_valid, predicted_valid)\n",
    "        if result > best_result:\n",
    "            best_model_down_r = model_down_rf\n",
    "            best_parameters = [est, depth]\n",
    "            best_result = result     \n",
    "print('Лучшее количество деревьев:', best_parameters[0])\n",
    "print('Лучшая глубина дерева:', best_parameters[1])\n",
    "print('F1-мера:', best_result)"
   ]
  },
  {
   "cell_type": "code",
   "execution_count": 50,
   "metadata": {},
   "outputs": [
    {
     "name": "stdout",
     "output_type": "stream",
     "text": [
      "F1-мера: 0.49192100538599637\n"
     ]
    }
   ],
   "source": [
    "model_down_lr = LogisticRegression(random_state=12345, solver='liblinear')\n",
    "model_down_lr.fit(features_train_resampled, target_train_resampled)\n",
    "predicted_valid = model_down_lr.predict(features_valid)\n",
    "print('F1-мера:', f1_score(target_valid, predicted_valid))"
   ]
  },
  {
   "cell_type": "markdown",
   "metadata": {},
   "source": [
    "Лучший результат F1-меры: 0.6177 у модели, обученной методом RandomForestClassifier() с глубиной 9 и количеством деревьев 70."
   ]
  },
  {
   "cell_type": "markdown",
   "metadata": {},
   "source": [
    "### Борьба с дисбалансом с использованием \"class_weight\""
   ]
  },
  {
   "cell_type": "markdown",
   "metadata": {},
   "source": [
    "Сделаем веса всех классов сбалансированными:"
   ]
  },
  {
   "cell_type": "code",
   "execution_count": 51,
   "metadata": {},
   "outputs": [
    {
     "name": "stdout",
     "output_type": "stream",
     "text": [
      "Максимальная глубина: 6\n",
      "F1-мера: 0.5778648383937317\n"
     ]
    }
   ],
   "source": [
    "best_model_cw_d = None\n",
    "best_parameter = []\n",
    "best_result = 0\n",
    "for depth in range(1, 11):\n",
    "    model_cw_d = DecisionTreeClassifier(random_state=12345, max_depth=depth, class_weight='balanced')\n",
    "    model_cw_d.fit(features_train, target_train)\n",
    "    predicted_valid = model_cw_d.predict(features_valid)\n",
    "    result = f1_score(target_valid, predicted_valid)\n",
    "    if result > best_result:\n",
    "        best_model_cw_d = model_cw_d\n",
    "        best_parameter = depth\n",
    "        best_result = result     \n",
    "        \n",
    "print(\"Максимальная глубина:\", best_parameter)\n",
    "print('F1-мера:', best_result)"
   ]
  },
  {
   "cell_type": "code",
   "execution_count": 52,
   "metadata": {},
   "outputs": [
    {
     "name": "stdout",
     "output_type": "stream",
     "text": [
      "Лучшее количество деревьев: 130\n",
      "Лучшая глубина дерева: 7\n",
      "F1-мера: 0.6283185840707965\n"
     ]
    }
   ],
   "source": [
    "best_model_cw_rf = None\n",
    "best_parameters = []\n",
    "best_result = 0\n",
    "for est in range(10, 151, 10):\n",
    "    for depth in range(1, 21):\n",
    "        model_cw_rf = RandomForestClassifier(\n",
    "            random_state=12345, \n",
    "            n_estimators=est, \n",
    "            max_depth=depth, \n",
    "            class_weight='balanced'\n",
    "        )\n",
    "        model_cw_rf.fit(features_train, target_train)\n",
    "        predicted_valid = model_cw_rf.predict(features_valid)\n",
    "        result = f1_score(target_valid, predicted_valid)\n",
    "        if result > best_result:\n",
    "            best_model_cw_rf = model_cw_rf\n",
    "            best_parameters = [est, depth]\n",
    "            best_result = result     \n",
    "print('Лучшее количество деревьев:', best_parameters[0])\n",
    "print('Лучшая глубина дерева:', best_parameters[1])\n",
    "print('F1-мера:', best_result)"
   ]
  },
  {
   "cell_type": "code",
   "execution_count": 53,
   "metadata": {},
   "outputs": [
    {
     "name": "stdout",
     "output_type": "stream",
     "text": [
      "F1-мера: 0.4919499105545617\n"
     ]
    }
   ],
   "source": [
    "model_cw_lr = LogisticRegression(random_state=12345, solver='liblinear', class_weight='balanced')\n",
    "model_cw_lr.fit(features_train, target_train)\n",
    "predicted_valid = model_cw_lr.predict(features_valid)\n",
    "print('F1-мера:', f1_score(target_valid, predicted_valid))"
   ]
  },
  {
   "cell_type": "markdown",
   "metadata": {},
   "source": [
    "Метод повышающей дискретизации:\n",
    "- F1-мера для метода DecisionTreeClassifier() = 0.57\n",
    "- F1-мера для метода RandomForestClassifier() = 0.6283\n",
    "- F1-мера для метода LogisticRegression() = 0.49\n",
    "\n",
    "F1-мера для метода RandomForestClassifier() = 0.6283 выше порогового значения 0.59."
   ]
  },
  {
   "cell_type": "markdown",
   "metadata": {},
   "source": [
    "### ROC-кривая, метрика AUC-ROC для лучшего решения"
   ]
  },
  {
   "cell_type": "markdown",
   "metadata": {},
   "source": [
    "Построим ROC-кривую для наилучшей модели:"
   ]
  },
  {
   "cell_type": "code",
   "execution_count": 54,
   "metadata": {},
   "outputs": [
    {
     "data": {
      "image/png": "[encoded data removed]",
      "text/plain": [
       "<Figure size 640x480 with 1 Axes>"
      ]
     },
     "metadata": {},
     "output_type": "display_data"
    }
   ],
   "source": [
    "best_model_up_rf.fit(features_train_up, target_train_up)\n",
    "probabilities_valid_balanced = best_model_up_rf.predict_proba(features_valid)\n",
    "probabilities_one_valid_balanced = probabilities_valid_balanced[:, 1]\n",
    "\n",
    "fpr, tpr, threshold = roc_curve(target_valid, probabilities_one_valid)\n",
    "plt.plot(fpr, tpr, color='indigo')\n",
    "fpr, tpr, threshold = roc_curve(target_valid, probabilities_one_valid_balanced)\n",
    "plt.plot(fpr, tpr, color='salmon')\n",
    "\n",
    "plt.plot([0, 1], [0, 1], linestyle='--', color='#ACB698')\n",
    "\n",
    "plt.xlim([0.0, 1.0])\n",
    "plt.ylim([0.0, 1.0])\n",
    "plt.xlabel('False Positive Rate')\n",
    "plt.ylabel('True Positive Rate')\n",
    "plt.title('ROC-кривая')\n",
    "plt.legend(['Unbalanced', 'Balanced', 'Random'])\n",
    "plt.show;"
   ]
  },
  {
   "cell_type": "markdown",
   "metadata": {},
   "source": [
    "Посчитаем AUC-ROC:"
   ]
  },
  {
   "cell_type": "code",
   "execution_count": 55,
   "metadata": {},
   "outputs": [
    {
     "data": {
      "text/plain": [
       "0.8603472222222223"
      ]
     },
     "execution_count": 55,
     "metadata": {},
     "output_type": "execute_result"
    }
   ],
   "source": [
    "auc_roc = roc_auc_score(target_valid, probabilities_one_valid_balanced)\n",
    "auc_roc"
   ]
  },
  {
   "cell_type": "markdown",
   "metadata": {},
   "source": [
    "AUC-ROC для сбалансированной модели составляет 0.86."
   ]
  },
  {
   "cell_type": "markdown",
   "metadata": {},
   "source": [
    "**Вывод:**\n",
    "\n",
    "Наилучший показатель F1-меры у модели, обученной методом RandomForestClassifier() с количеством деревьев 70 и глубиной 9 - 0.6177. AUC-ROC для сбалансированной модели при этом составляет 0.86."
   ]
  },
  {
   "cell_type": "markdown",
   "metadata": {},
   "source": [
    "## Тестирование модели"
   ]
  },
  {
   "cell_type": "markdown",
   "metadata": {},
   "source": [
    "Найдем значение метрики на тестовой выборке с помощью модели с лучшим показателем:"
   ]
  },
  {
   "cell_type": "code",
   "execution_count": 56,
   "metadata": {},
   "outputs": [
    {
     "name": "stdout",
     "output_type": "stream",
     "text": [
      "F1-мера: 0.6002290950744558\n"
     ]
    }
   ],
   "source": [
    "predicted_test = best_model_up_rf.predict(features_test)\n",
    "print('F1-мера:', f1_score(target_test, predicted_test))"
   ]
  },
  {
   "cell_type": "markdown",
   "metadata": {},
   "source": [
    "F1-мера немного ухудшилась и составляет 0.6002290950744558."
   ]
  },
  {
   "cell_type": "code",
   "execution_count": 57,
   "metadata": {},
   "outputs": [
    {
     "name": "stdout",
     "output_type": "stream",
     "text": [
      "Recall: 0.670076726342711\n"
     ]
    }
   ],
   "source": [
    "print('Recall:', recall_score(target_test, predicted_test))"
   ]
  },
  {
   "cell_type": "markdown",
   "metadata": {},
   "source": [
    "В 67% случаев модель правильно предсказывает долю оттока клиентов."
   ]
  },
  {
   "cell_type": "code",
   "execution_count": 58,
   "metadata": {},
   "outputs": [
    {
     "data": {
      "image/png": "[encoded data removed]",
      "text/plain": [
       "<Figure size 640x480 with 2 Axes>"
      ]
     },
     "metadata": {},
     "output_type": "display_data"
    }
   ],
   "source": [
    "cm = confusion_matrix(target_test, predicted_test, labels=best_model_up_rf.classes_)\n",
    "disp = ConfusionMatrixDisplay(confusion_matrix=cm, display_labels=best_model_up_rf.classes_)\n",
    "\n",
    "disp.plot()\n",
    "plt.show()"
   ]
  },
  {
   "cell_type": "markdown",
   "metadata": {},
   "source": [
    "Истинно положительных ответов - 262. Это количество клиентов, которые:\n",
    "- по прогнозу модели уйдут из банка;\n",
    "- фактически ушли из банка."
   ]
  },
  {
   "cell_type": "markdown",
   "metadata": {},
   "source": [
    "Построим ROC-кривую:"
   ]
  },
  {
   "cell_type": "code",
   "execution_count": 59,
   "metadata": {},
   "outputs": [
    {
     "data": {
      "image/png": "[encoded data removed]",
      "text/plain": [
       "<Figure size 640x480 with 1 Axes>"
      ]
     },
     "metadata": {},
     "output_type": "display_data"
    }
   ],
   "source": [
    "probabilities_test = best_model_up_rf.predict_proba(features_test)\n",
    "probabilities_one_test = probabilities_test[:, 1]\n",
    "\n",
    "fpr, tpr, threshold = roc_curve(target_valid, probabilities_one_valid)\n",
    "plt.plot(fpr, tpr, color='indigo')\n",
    "fpr, tpr, threshold = roc_curve(target_test, probabilities_one_test)\n",
    "plt.plot(fpr, tpr, color='darkgreen')\n",
    "\n",
    "plt.plot([0, 1], [0, 1], linestyle='--', color='#ACB698')\n",
    "\n",
    "plt.xlim([0.0, 1.0])\n",
    "plt.ylim([0.0, 1.0])\n",
    "plt.xlabel('False Positive Rate')\n",
    "plt.ylabel('True Positive Rate')\n",
    "plt.title('ROC-кривая')\n",
    "plt.legend(['Unbalanced', 'Balanced', 'Random'])\n",
    "plt.show;"
   ]
  },
  {
   "cell_type": "markdown",
   "metadata": {},
   "source": [
    "Посчитаем AUC-ROC:"
   ]
  },
  {
   "cell_type": "code",
   "execution_count": 60,
   "metadata": {},
   "outputs": [
    {
     "data": {
      "text/plain": [
       "0.8533584097995687"
      ]
     },
     "execution_count": 60,
     "metadata": {},
     "output_type": "execute_result"
    }
   ],
   "source": [
    "auc_roc = roc_auc_score(target_test, probabilities_one_test)\n",
    "auc_roc"
   ]
  },
  {
   "cell_type": "markdown",
   "metadata": {},
   "source": [
    "AUC-ROC для сбалансированной модели составляет 0.85."
   ]
  },
  {
   "cell_type": "markdown",
   "metadata": {},
   "source": [
    "**Вывод:**\n",
    "\n",
    "Проверили качество модели на тестовой выборке, F1-мера немного ухудшилась и составляет 0.60022, AUC-ROC для сбалансированной модели составляет 0.85."
   ]
  },
  {
   "cell_type": "markdown",
   "metadata": {},
   "source": [
    "## Общий вывод"
   ]
  },
  {
   "cell_type": "markdown",
   "metadata": {},
   "source": [
    "При первичном анализе было выявлено, что в столбце \"tenure\" - сколько лет человек является клиентом банка, есть пустые значения (909). Явных дубликатов нет, судя по описательно статистике, явных аномалий не выявлено.\n",
    "\n",
    "Были отформатированы наименования столбцов из верхнего регистра в нижний с разделением словосочетаний через нижнее подчеркивание.\n",
    "\n",
    "Пропущенные значения в столбце \"tenure\" заполнены медианными значениями.\n",
    "\n",
    "Обработаны выбивающиеся значения в столбце \"surname\" - вместо имени \"H?\", такие строки были удалены. Итог - датафрейм с 9981 строками.\n",
    "\n",
    "Также был заменен тип данных в столбце \"tenure\" на целочисленный, а также округлены значения до одного знака после запятой в столбцах \"balance\" и \"estimated_salary\".\n",
    "\n",
    "Для дальнейшего анализа были удалены ненужные для обучения моделей столбцы.\n",
    "\n",
    "Преобразовали категориальные признаки в численные техникой прямого кодирования OHE, разделили датафрейм на 3 выборки - тренировочную (60%), валидационную (20%) и тестовую (20%). Объявили переменные с целевыми и прочими признаками, а также обучили методом линейной регресии до масштабирования. После масштабирования повторно обучили модель и получили бОльшую значимость признаков.\n",
    "\n",
    "Далее приступили к обучению модели без учета дисбаланса.\n",
    "\n",
    "- В условиях дисбаланса модель, обученная методом DecisionTreeClassifier(), имеет значение метрики: F1-мера = 0.57.\n",
    "- Для метода RandomForestClassifier() F1-мера максимальная при глубине 16 и количестве деревьев 80 и составляет 0.61.\n",
    "- Худший показатель F1-меры у модели, обученной LogisticRegression(), 0.35.\n",
    "\n",
    "AUC-ROC составляет 0.86, что достаточно далеко от 1, но уже метрика лучше.\n",
    "\n",
    "В условиях борьбы с несбалансированностью модели, наилучший показатель F1-меры у модели, обученной методом RandomForestClassifier() с количеством деревьев 70 и глубиной 9, сбалансированной методом RandomUnderSampler - 0.6177. AUC-ROC при этом составляет 0.86.\n",
    "\n",
    "Проверили качество модели на тестовой выборке, F1-мера немного ухудшилась и составляет 0.60022, AUC-ROC для сбалансированной модели составляет 0.85."
   ]
  },
  {
   "cell_type": "code",
   "execution_count": 61,
   "metadata": {},
   "outputs": [
    {
     "name": "stdout",
     "output_type": "stream",
     "text": [
      "f1-мера: 0.3274706867671692\n"
     ]
    }
   ],
   "source": [
    "dummy_model = DummyClassifier(strategy='constant', constant=1)\n",
    "dummy_model.fit(features_train, target_train)\n",
    "predicted_test_dummy = dummy_model.predict(features_test)\n",
    "\n",
    "print('f1-мера:', f1_score(dummy_model.predict(features_test), target_test))"
   ]
  },
  {
   "cell_type": "markdown",
   "metadata": {},
   "source": [
    "DummyClassifier \"предсказывает\" наиболее часто встречающийся класс. Показатель F1-меры на нашей лучшей модели выше, чем у DummyClassifier."
   ]
  }
 ],
 "metadata": {
  "ExecuteTimeLog": [
   {
    "duration": 393,
    "start_time": "2023-06-16T14:32:02.137Z"
   },
   {
    "duration": 78,
    "start_time": "2023-06-16T14:32:02.532Z"
   },
   {
    "duration": 57,
    "start_time": "2023-06-16T14:32:08.735Z"
   },
   {
    "duration": 46,
    "start_time": "2023-06-19T09:07:20.691Z"
   },
   {
    "duration": 414,
    "start_time": "2023-06-19T09:07:26.642Z"
   },
   {
    "duration": 236,
    "start_time": "2023-06-19T09:07:27.058Z"
   },
   {
    "duration": 103,
    "start_time": "2023-06-19T09:09:42.244Z"
   },
   {
    "duration": 12,
    "start_time": "2023-06-19T09:11:42.320Z"
   },
   {
    "duration": 11,
    "start_time": "2023-06-19T09:12:47.920Z"
   },
   {
    "duration": 13,
    "start_time": "2023-06-19T09:13:12.225Z"
   },
   {
    "duration": 5,
    "start_time": "2023-06-19T09:22:10.892Z"
   },
   {
    "duration": 4,
    "start_time": "2023-06-19T09:22:34.414Z"
   },
   {
    "duration": 373,
    "start_time": "2023-06-19T09:26:25.735Z"
   },
   {
    "duration": 133,
    "start_time": "2023-06-19T09:26:26.109Z"
   },
   {
    "duration": 29,
    "start_time": "2023-06-19T09:26:26.243Z"
   },
   {
    "duration": 6,
    "start_time": "2023-06-19T09:26:26.273Z"
   },
   {
    "duration": 16,
    "start_time": "2023-06-19T09:26:26.281Z"
   },
   {
    "duration": 4,
    "start_time": "2023-06-19T09:26:26.298Z"
   },
   {
    "duration": 13,
    "start_time": "2023-06-19T09:26:26.304Z"
   },
   {
    "duration": 369,
    "start_time": "2023-06-19T09:26:46.999Z"
   },
   {
    "duration": 114,
    "start_time": "2023-06-19T09:26:47.370Z"
   },
   {
    "duration": 13,
    "start_time": "2023-06-19T09:26:47.486Z"
   },
   {
    "duration": 3,
    "start_time": "2023-06-19T09:26:47.501Z"
   },
   {
    "duration": 26,
    "start_time": "2023-06-19T09:26:47.505Z"
   },
   {
    "duration": 4,
    "start_time": "2023-06-19T09:26:47.533Z"
   },
   {
    "duration": 17,
    "start_time": "2023-06-19T09:26:47.538Z"
   },
   {
    "duration": 4,
    "start_time": "2023-06-19T09:29:28.371Z"
   },
   {
    "duration": 4,
    "start_time": "2023-06-19T09:30:21.173Z"
   },
   {
    "duration": 19,
    "start_time": "2023-06-19T09:31:12.581Z"
   },
   {
    "duration": 37,
    "start_time": "2023-06-19T09:33:57.621Z"
   },
   {
    "duration": 48,
    "start_time": "2023-06-19T09:34:10.108Z"
   },
   {
    "duration": 22,
    "start_time": "2023-06-19T09:34:15.551Z"
   },
   {
    "duration": 9,
    "start_time": "2023-06-19T09:34:29.197Z"
   },
   {
    "duration": 21,
    "start_time": "2023-06-19T09:34:32.420Z"
   },
   {
    "duration": 73,
    "start_time": "2023-06-19T09:36:20.146Z"
   },
   {
    "duration": 6,
    "start_time": "2023-06-19T09:36:36.907Z"
   },
   {
    "duration": 5,
    "start_time": "2023-06-19T09:36:48.995Z"
   },
   {
    "duration": 4,
    "start_time": "2023-06-19T09:37:00.937Z"
   },
   {
    "duration": 72,
    "start_time": "2023-06-19T09:37:46.815Z"
   },
   {
    "duration": 7,
    "start_time": "2023-06-19T09:42:13.958Z"
   },
   {
    "duration": 17,
    "start_time": "2023-06-19T09:42:27.196Z"
   },
   {
    "duration": 16,
    "start_time": "2023-06-19T09:42:30.691Z"
   },
   {
    "duration": 6,
    "start_time": "2023-06-19T09:43:00.558Z"
   },
   {
    "duration": 16,
    "start_time": "2023-06-19T09:43:12.925Z"
   },
   {
    "duration": 354,
    "start_time": "2023-06-19T09:43:35.815Z"
   },
   {
    "duration": 117,
    "start_time": "2023-06-19T09:43:36.171Z"
   },
   {
    "duration": 12,
    "start_time": "2023-06-19T09:43:36.289Z"
   },
   {
    "duration": 17,
    "start_time": "2023-06-19T09:43:36.303Z"
   },
   {
    "duration": 21,
    "start_time": "2023-06-19T09:43:36.322Z"
   },
   {
    "duration": 8,
    "start_time": "2023-06-19T09:43:36.344Z"
   },
   {
    "duration": 7,
    "start_time": "2023-06-19T09:43:36.354Z"
   },
   {
    "duration": 5,
    "start_time": "2023-06-19T09:43:36.363Z"
   },
   {
    "duration": 20,
    "start_time": "2023-06-19T09:43:36.370Z"
   },
   {
    "duration": 6,
    "start_time": "2023-06-19T09:43:36.392Z"
   },
   {
    "duration": 5,
    "start_time": "2023-06-19T09:43:36.400Z"
   },
   {
    "duration": 15,
    "start_time": "2023-06-19T09:43:36.406Z"
   },
   {
    "duration": 337,
    "start_time": "2023-06-19T09:51:50.624Z"
   },
   {
    "duration": 118,
    "start_time": "2023-06-19T09:51:50.963Z"
   },
   {
    "duration": 15,
    "start_time": "2023-06-19T09:51:51.083Z"
   },
   {
    "duration": 6,
    "start_time": "2023-06-19T09:51:51.100Z"
   },
   {
    "duration": 18,
    "start_time": "2023-06-19T09:51:51.108Z"
   },
   {
    "duration": 4,
    "start_time": "2023-06-19T09:51:51.127Z"
   },
   {
    "duration": 6,
    "start_time": "2023-06-19T09:51:51.132Z"
   },
   {
    "duration": 40,
    "start_time": "2023-06-19T09:51:51.140Z"
   },
   {
    "duration": 7,
    "start_time": "2023-06-19T09:51:51.182Z"
   },
   {
    "duration": 8,
    "start_time": "2023-06-19T09:51:51.191Z"
   },
   {
    "duration": 73,
    "start_time": "2023-06-19T09:51:51.201Z"
   },
   {
    "duration": 11,
    "start_time": "2023-06-19T09:51:51.276Z"
   },
   {
    "duration": 9,
    "start_time": "2023-06-19T09:51:51.288Z"
   },
   {
    "duration": 5,
    "start_time": "2023-06-19T09:52:55.388Z"
   },
   {
    "duration": 5,
    "start_time": "2023-06-19T09:53:20.099Z"
   },
   {
    "duration": 58,
    "start_time": "2023-06-19T09:53:25.090Z"
   },
   {
    "duration": 5,
    "start_time": "2023-06-19T09:53:32.854Z"
   },
   {
    "duration": 4,
    "start_time": "2023-06-19T09:53:52.888Z"
   },
   {
    "duration": 63,
    "start_time": "2023-06-19T09:53:58.603Z"
   },
   {
    "duration": 61,
    "start_time": "2023-06-19T09:54:11.347Z"
   },
   {
    "duration": 5,
    "start_time": "2023-06-19T09:54:20.403Z"
   },
   {
    "duration": 4,
    "start_time": "2023-06-19T09:55:16.822Z"
   },
   {
    "duration": 4,
    "start_time": "2023-06-19T09:57:10.857Z"
   },
   {
    "duration": 4,
    "start_time": "2023-06-19T09:57:11.803Z"
   },
   {
    "duration": 418,
    "start_time": "2023-06-19T09:57:14.658Z"
   },
   {
    "duration": 130,
    "start_time": "2023-06-19T09:57:15.078Z"
   },
   {
    "duration": 14,
    "start_time": "2023-06-19T09:57:15.210Z"
   },
   {
    "duration": 31,
    "start_time": "2023-06-19T09:57:15.225Z"
   },
   {
    "duration": 40,
    "start_time": "2023-06-19T09:57:15.258Z"
   },
   {
    "duration": 14,
    "start_time": "2023-06-19T09:57:15.299Z"
   },
   {
    "duration": 26,
    "start_time": "2023-06-19T09:57:15.314Z"
   },
   {
    "duration": 41,
    "start_time": "2023-06-19T09:57:15.342Z"
   },
   {
    "duration": 50,
    "start_time": "2023-06-19T09:57:15.384Z"
   },
   {
    "duration": 6,
    "start_time": "2023-06-19T09:57:15.436Z"
   },
   {
    "duration": 29,
    "start_time": "2023-06-19T09:57:15.443Z"
   },
   {
    "duration": 40,
    "start_time": "2023-06-19T09:57:15.474Z"
   },
   {
    "duration": 19,
    "start_time": "2023-06-19T09:57:15.515Z"
   },
   {
    "duration": 61,
    "start_time": "2023-06-19T09:57:15.535Z"
   },
   {
    "duration": 351,
    "start_time": "2023-06-19T09:59:39.315Z"
   },
   {
    "duration": 115,
    "start_time": "2023-06-19T09:59:39.668Z"
   },
   {
    "duration": 11,
    "start_time": "2023-06-19T09:59:39.785Z"
   },
   {
    "duration": 10,
    "start_time": "2023-06-19T09:59:39.798Z"
   },
   {
    "duration": 16,
    "start_time": "2023-06-19T09:59:39.810Z"
   },
   {
    "duration": 4,
    "start_time": "2023-06-19T09:59:39.828Z"
   },
   {
    "duration": 6,
    "start_time": "2023-06-19T09:59:39.834Z"
   },
   {
    "duration": 5,
    "start_time": "2023-06-19T09:59:39.841Z"
   },
   {
    "duration": 39,
    "start_time": "2023-06-19T09:59:39.847Z"
   },
   {
    "duration": 5,
    "start_time": "2023-06-19T09:59:39.888Z"
   },
   {
    "duration": 6,
    "start_time": "2023-06-19T09:59:39.894Z"
   },
   {
    "duration": 14,
    "start_time": "2023-06-19T09:59:39.901Z"
   },
   {
    "duration": 6,
    "start_time": "2023-06-19T09:59:39.916Z"
   },
   {
    "duration": 12,
    "start_time": "2023-06-19T09:59:39.923Z"
   },
   {
    "duration": 31,
    "start_time": "2023-06-19T09:59:39.937Z"
   },
   {
    "duration": 5,
    "start_time": "2023-06-19T09:59:39.970Z"
   },
   {
    "duration": 692,
    "start_time": "2023-06-19T11:12:59.592Z"
   },
   {
    "duration": 105,
    "start_time": "2023-06-19T11:17:48.718Z"
   },
   {
    "duration": 3,
    "start_time": "2023-06-19T11:18:09.708Z"
   },
   {
    "duration": 10,
    "start_time": "2023-06-19T11:18:11.923Z"
   },
   {
    "duration": 11,
    "start_time": "2023-06-19T11:18:22.802Z"
   },
   {
    "duration": 5,
    "start_time": "2023-06-19T11:23:16.318Z"
   },
   {
    "duration": 6,
    "start_time": "2023-06-19T11:23:16.583Z"
   },
   {
    "duration": 4,
    "start_time": "2023-06-19T11:23:16.905Z"
   },
   {
    "duration": 5,
    "start_time": "2023-06-19T11:25:01.253Z"
   },
   {
    "duration": 7,
    "start_time": "2023-06-19T11:25:01.567Z"
   },
   {
    "duration": 5,
    "start_time": "2023-06-19T11:25:01.830Z"
   },
   {
    "duration": 4,
    "start_time": "2023-06-19T11:25:22.919Z"
   },
   {
    "duration": 4,
    "start_time": "2023-06-19T11:25:23.100Z"
   },
   {
    "duration": 3,
    "start_time": "2023-06-19T11:25:23.246Z"
   },
   {
    "duration": 1057,
    "start_time": "2023-06-19T11:25:28.523Z"
   },
   {
    "duration": 130,
    "start_time": "2023-06-19T11:25:29.587Z"
   },
   {
    "duration": 12,
    "start_time": "2023-06-19T11:25:29.718Z"
   },
   {
    "duration": 10,
    "start_time": "2023-06-19T11:25:29.731Z"
   },
   {
    "duration": 36,
    "start_time": "2023-06-19T11:25:29.743Z"
   },
   {
    "duration": 6,
    "start_time": "2023-06-19T11:25:29.786Z"
   },
   {
    "duration": 9,
    "start_time": "2023-06-19T11:25:29.794Z"
   },
   {
    "duration": 25,
    "start_time": "2023-06-19T11:25:29.804Z"
   },
   {
    "duration": 33,
    "start_time": "2023-06-19T11:25:29.830Z"
   },
   {
    "duration": 26,
    "start_time": "2023-06-19T11:25:29.865Z"
   },
   {
    "duration": 4,
    "start_time": "2023-06-19T11:25:29.896Z"
   },
   {
    "duration": 13,
    "start_time": "2023-06-19T11:25:29.902Z"
   },
   {
    "duration": 7,
    "start_time": "2023-06-19T11:25:29.917Z"
   },
   {
    "duration": 6,
    "start_time": "2023-06-19T11:25:29.926Z"
   },
   {
    "duration": 7,
    "start_time": "2023-06-19T11:25:29.934Z"
   },
   {
    "duration": 4,
    "start_time": "2023-06-19T11:25:29.943Z"
   },
   {
    "duration": 13,
    "start_time": "2023-06-19T11:25:29.948Z"
   },
   {
    "duration": 21,
    "start_time": "2023-06-19T11:25:29.962Z"
   },
   {
    "duration": 5,
    "start_time": "2023-06-19T11:25:29.988Z"
   },
   {
    "duration": 5,
    "start_time": "2023-06-19T11:25:29.995Z"
   },
   {
    "duration": 3,
    "start_time": "2023-06-19T11:26:38.724Z"
   },
   {
    "duration": 4,
    "start_time": "2023-06-19T11:27:51.728Z"
   },
   {
    "duration": 6,
    "start_time": "2023-06-19T11:27:51.890Z"
   },
   {
    "duration": 4,
    "start_time": "2023-06-19T11:27:52.006Z"
   },
   {
    "duration": 124,
    "start_time": "2023-06-19T11:31:01.737Z"
   },
   {
    "duration": 25,
    "start_time": "2023-06-19T11:32:00.653Z"
   },
   {
    "duration": 17,
    "start_time": "2023-06-19T11:32:32.643Z"
   },
   {
    "duration": 16,
    "start_time": "2023-06-19T11:33:12.592Z"
   },
   {
    "duration": 15,
    "start_time": "2023-06-19T11:34:04.628Z"
   },
   {
    "duration": 21,
    "start_time": "2023-06-19T11:34:29.460Z"
   },
   {
    "duration": 27,
    "start_time": "2023-06-19T11:34:55.833Z"
   },
   {
    "duration": 24,
    "start_time": "2023-06-19T11:35:11.401Z"
   },
   {
    "duration": 1084,
    "start_time": "2023-06-19T11:36:24.911Z"
   },
   {
    "duration": 153,
    "start_time": "2023-06-19T11:36:25.999Z"
   },
   {
    "duration": 12,
    "start_time": "2023-06-19T11:36:26.153Z"
   },
   {
    "duration": 17,
    "start_time": "2023-06-19T11:36:26.167Z"
   },
   {
    "duration": 33,
    "start_time": "2023-06-19T11:36:26.186Z"
   },
   {
    "duration": 10,
    "start_time": "2023-06-19T11:36:26.221Z"
   },
   {
    "duration": 6,
    "start_time": "2023-06-19T11:36:26.232Z"
   },
   {
    "duration": 6,
    "start_time": "2023-06-19T11:36:26.239Z"
   },
   {
    "duration": 36,
    "start_time": "2023-06-19T11:36:26.246Z"
   },
   {
    "duration": 15,
    "start_time": "2023-06-19T11:36:26.287Z"
   },
   {
    "duration": 7,
    "start_time": "2023-06-19T11:36:26.303Z"
   },
   {
    "duration": 13,
    "start_time": "2023-06-19T11:36:26.311Z"
   },
   {
    "duration": 5,
    "start_time": "2023-06-19T11:36:26.326Z"
   },
   {
    "duration": 6,
    "start_time": "2023-06-19T11:36:26.332Z"
   },
   {
    "duration": 334,
    "start_time": "2023-06-19T11:36:26.339Z"
   },
   {
    "duration": 3,
    "start_time": "2023-06-19T11:36:26.674Z"
   },
   {
    "duration": 229,
    "start_time": "2023-06-19T11:36:26.679Z"
   },
   {
    "duration": 66,
    "start_time": "2023-06-19T11:36:26.912Z"
   },
   {
    "duration": 14,
    "start_time": "2023-06-19T11:36:26.981Z"
   },
   {
    "duration": 14,
    "start_time": "2023-06-19T11:36:26.998Z"
   },
   {
    "duration": 98,
    "start_time": "2023-06-19T11:36:27.015Z"
   },
   {
    "duration": 18,
    "start_time": "2023-06-19T11:42:49.898Z"
   },
   {
    "duration": 4,
    "start_time": "2023-06-19T11:43:11.129Z"
   },
   {
    "duration": 12,
    "start_time": "2023-06-19T11:43:11.136Z"
   },
   {
    "duration": 1124,
    "start_time": "2023-06-19T11:44:48.803Z"
   },
   {
    "duration": 133,
    "start_time": "2023-06-19T11:44:49.930Z"
   },
   {
    "duration": 15,
    "start_time": "2023-06-19T11:44:50.069Z"
   },
   {
    "duration": 4,
    "start_time": "2023-06-19T11:44:50.085Z"
   },
   {
    "duration": 19,
    "start_time": "2023-06-19T11:44:50.091Z"
   },
   {
    "duration": 5,
    "start_time": "2023-06-19T11:44:50.111Z"
   },
   {
    "duration": 22,
    "start_time": "2023-06-19T11:44:50.117Z"
   },
   {
    "duration": 18,
    "start_time": "2023-06-19T11:44:50.141Z"
   },
   {
    "duration": 45,
    "start_time": "2023-06-19T11:44:50.161Z"
   },
   {
    "duration": 6,
    "start_time": "2023-06-19T11:44:50.207Z"
   },
   {
    "duration": 11,
    "start_time": "2023-06-19T11:44:50.215Z"
   },
   {
    "duration": 23,
    "start_time": "2023-06-19T11:44:50.227Z"
   },
   {
    "duration": 8,
    "start_time": "2023-06-19T11:44:50.252Z"
   },
   {
    "duration": 7,
    "start_time": "2023-06-19T11:44:50.263Z"
   },
   {
    "duration": 32,
    "start_time": "2023-06-19T11:44:50.274Z"
   },
   {
    "duration": 13,
    "start_time": "2023-06-19T11:44:50.312Z"
   },
   {
    "duration": 19,
    "start_time": "2023-06-19T11:44:50.327Z"
   },
   {
    "duration": 2,
    "start_time": "2023-06-19T11:44:50.348Z"
   },
   {
    "duration": 13,
    "start_time": "2023-06-19T11:44:50.352Z"
   },
   {
    "duration": 15,
    "start_time": "2023-06-19T11:44:50.366Z"
   },
   {
    "duration": 12,
    "start_time": "2023-06-19T11:44:50.384Z"
   },
   {
    "duration": 10,
    "start_time": "2023-06-19T11:44:50.400Z"
   },
   {
    "duration": 23,
    "start_time": "2023-06-19T11:44:50.417Z"
   },
   {
    "duration": 1132,
    "start_time": "2023-06-19T11:51:10.417Z"
   },
   {
    "duration": 149,
    "start_time": "2023-06-19T11:51:11.550Z"
   },
   {
    "duration": 16,
    "start_time": "2023-06-19T11:51:11.704Z"
   },
   {
    "duration": 3,
    "start_time": "2023-06-19T11:51:11.722Z"
   },
   {
    "duration": 22,
    "start_time": "2023-06-19T11:51:11.727Z"
   },
   {
    "duration": 5,
    "start_time": "2023-06-19T11:51:11.750Z"
   },
   {
    "duration": 5,
    "start_time": "2023-06-19T11:51:11.756Z"
   },
   {
    "duration": 13,
    "start_time": "2023-06-19T11:51:11.762Z"
   },
   {
    "duration": 40,
    "start_time": "2023-06-19T11:51:11.776Z"
   },
   {
    "duration": 7,
    "start_time": "2023-06-19T11:51:11.819Z"
   },
   {
    "duration": 16,
    "start_time": "2023-06-19T11:51:11.829Z"
   },
   {
    "duration": 43,
    "start_time": "2023-06-19T11:51:11.847Z"
   },
   {
    "duration": 11,
    "start_time": "2023-06-19T11:51:11.892Z"
   },
   {
    "duration": 11,
    "start_time": "2023-06-19T11:51:11.904Z"
   },
   {
    "duration": 5,
    "start_time": "2023-06-19T11:51:11.918Z"
   },
   {
    "duration": 11,
    "start_time": "2023-06-19T11:51:11.924Z"
   },
   {
    "duration": 16,
    "start_time": "2023-06-19T11:51:11.936Z"
   },
   {
    "duration": 5,
    "start_time": "2023-06-19T11:51:11.954Z"
   },
   {
    "duration": 23,
    "start_time": "2023-06-19T11:51:11.960Z"
   },
   {
    "duration": 16,
    "start_time": "2023-06-19T11:51:11.988Z"
   },
   {
    "duration": 7,
    "start_time": "2023-06-19T11:51:12.006Z"
   },
   {
    "duration": 4,
    "start_time": "2023-06-19T11:51:12.014Z"
   },
   {
    "duration": 23,
    "start_time": "2023-06-19T11:51:12.020Z"
   },
   {
    "duration": 36,
    "start_time": "2023-06-19T11:56:17.908Z"
   },
   {
    "duration": 4,
    "start_time": "2023-06-19T12:01:32.852Z"
   },
   {
    "duration": 38,
    "start_time": "2023-06-19T12:01:37.488Z"
   },
   {
    "duration": 111,
    "start_time": "2023-06-19T12:01:37.904Z"
   },
   {
    "duration": 33,
    "start_time": "2023-06-19T12:01:44.327Z"
   },
   {
    "duration": 15,
    "start_time": "2023-06-19T12:01:44.515Z"
   },
   {
    "duration": 9,
    "start_time": "2023-06-19T12:02:01.486Z"
   },
   {
    "duration": 17,
    "start_time": "2023-06-19T14:05:09.666Z"
   },
   {
    "duration": 8,
    "start_time": "2023-06-19T14:06:05.923Z"
   },
   {
    "duration": 5,
    "start_time": "2023-06-19T14:06:35.304Z"
   },
   {
    "duration": 4,
    "start_time": "2023-06-19T14:08:19.203Z"
   },
   {
    "duration": 8,
    "start_time": "2023-06-19T14:08:24.223Z"
   },
   {
    "duration": 51,
    "start_time": "2023-06-20T07:47:20.258Z"
   },
   {
    "duration": 2082,
    "start_time": "2023-06-20T07:47:35.494Z"
   },
   {
    "duration": 211,
    "start_time": "2023-06-20T07:47:37.614Z"
   },
   {
    "duration": 17,
    "start_time": "2023-06-20T07:47:37.826Z"
   },
   {
    "duration": 30,
    "start_time": "2023-06-20T07:47:37.844Z"
   },
   {
    "duration": 78,
    "start_time": "2023-06-20T07:47:37.876Z"
   },
   {
    "duration": 8,
    "start_time": "2023-06-20T07:47:37.956Z"
   },
   {
    "duration": 18,
    "start_time": "2023-06-20T07:47:37.966Z"
   },
   {
    "duration": 33,
    "start_time": "2023-06-20T07:47:37.985Z"
   },
   {
    "duration": 65,
    "start_time": "2023-06-20T07:47:38.025Z"
   },
   {
    "duration": 5,
    "start_time": "2023-06-20T07:47:38.093Z"
   },
   {
    "duration": 60,
    "start_time": "2023-06-20T07:47:38.099Z"
   },
   {
    "duration": 22,
    "start_time": "2023-06-20T07:47:38.161Z"
   },
   {
    "duration": 6,
    "start_time": "2023-06-20T07:47:38.185Z"
   },
   {
    "duration": 64,
    "start_time": "2023-06-20T07:47:38.193Z"
   },
   {
    "duration": 11,
    "start_time": "2023-06-20T07:47:38.259Z"
   },
   {
    "duration": 13,
    "start_time": "2023-06-20T07:47:38.271Z"
   },
   {
    "duration": 53,
    "start_time": "2023-06-20T07:47:38.286Z"
   },
   {
    "duration": 32,
    "start_time": "2023-06-20T07:47:38.340Z"
   },
   {
    "duration": 19,
    "start_time": "2023-06-20T07:47:38.374Z"
   },
   {
    "duration": 37,
    "start_time": "2023-06-20T07:47:38.394Z"
   },
   {
    "duration": 23,
    "start_time": "2023-06-20T07:47:38.432Z"
   },
   {
    "duration": 12,
    "start_time": "2023-06-20T07:47:38.457Z"
   },
   {
    "duration": 27,
    "start_time": "2023-06-20T07:47:38.470Z"
   },
   {
    "duration": 78,
    "start_time": "2023-06-20T07:47:38.503Z"
   },
   {
    "duration": 5,
    "start_time": "2023-06-20T07:47:38.583Z"
   },
   {
    "duration": 7,
    "start_time": "2023-06-20T07:47:38.589Z"
   },
   {
    "duration": 173,
    "start_time": "2023-06-20T07:47:38.597Z"
   },
   {
    "duration": 0,
    "start_time": "2023-06-20T07:47:38.772Z"
   },
   {
    "duration": 0,
    "start_time": "2023-06-20T07:47:38.773Z"
   },
   {
    "duration": 0,
    "start_time": "2023-06-20T07:47:38.774Z"
   },
   {
    "duration": 858,
    "start_time": "2023-06-20T07:48:58.659Z"
   },
   {
    "duration": 73,
    "start_time": "2023-06-20T07:51:28.591Z"
   },
   {
    "duration": 38,
    "start_time": "2023-06-20T07:51:33.352Z"
   },
   {
    "duration": 3,
    "start_time": "2023-06-20T08:13:42.690Z"
   },
   {
    "duration": 137,
    "start_time": "2023-06-20T08:13:51.838Z"
   },
   {
    "duration": 4,
    "start_time": "2023-06-20T08:14:08.358Z"
   },
   {
    "duration": 222,
    "start_time": "2023-06-20T08:14:12.971Z"
   },
   {
    "duration": 653,
    "start_time": "2023-06-20T08:14:45.685Z"
   },
   {
    "duration": 136,
    "start_time": "2023-06-20T08:14:54.929Z"
   },
   {
    "duration": 237,
    "start_time": "2023-06-20T08:15:01.238Z"
   },
   {
    "duration": 184,
    "start_time": "2023-06-20T08:15:06.468Z"
   },
   {
    "duration": 230,
    "start_time": "2023-06-20T08:15:12.987Z"
   },
   {
    "duration": 226,
    "start_time": "2023-06-20T08:15:17.096Z"
   },
   {
    "duration": 227,
    "start_time": "2023-06-20T08:15:57.936Z"
   },
   {
    "duration": 168,
    "start_time": "2023-06-20T08:16:03.772Z"
   },
   {
    "duration": 182,
    "start_time": "2023-06-20T08:16:18.094Z"
   },
   {
    "duration": 150,
    "start_time": "2023-06-20T08:16:30.228Z"
   },
   {
    "duration": 176,
    "start_time": "2023-06-20T08:16:36.622Z"
   },
   {
    "duration": 198,
    "start_time": "2023-06-20T08:16:48.899Z"
   },
   {
    "duration": 182,
    "start_time": "2023-06-20T08:16:52.573Z"
   },
   {
    "duration": 559,
    "start_time": "2023-06-20T08:17:02.121Z"
   },
   {
    "duration": 132,
    "start_time": "2023-06-20T08:17:24.718Z"
   },
   {
    "duration": 142,
    "start_time": "2023-06-20T08:17:42.095Z"
   },
   {
    "duration": 160,
    "start_time": "2023-06-20T08:17:55.921Z"
   },
   {
    "duration": 139,
    "start_time": "2023-06-20T08:18:01.432Z"
   },
   {
    "duration": 143,
    "start_time": "2023-06-20T08:18:21.160Z"
   },
   {
    "duration": 130,
    "start_time": "2023-06-20T08:18:27.026Z"
   },
   {
    "duration": 5,
    "start_time": "2023-06-20T08:28:54.335Z"
   },
   {
    "duration": 5,
    "start_time": "2023-06-20T08:28:56.922Z"
   },
   {
    "duration": 6,
    "start_time": "2023-06-20T08:28:57.735Z"
   },
   {
    "duration": 9,
    "start_time": "2023-06-20T08:51:34.928Z"
   },
   {
    "duration": 12,
    "start_time": "2023-06-20T08:51:55.818Z"
   },
   {
    "duration": 241,
    "start_time": "2023-06-20T08:55:52.860Z"
   },
   {
    "duration": 1308,
    "start_time": "2023-06-20T08:56:16.390Z"
   },
   {
    "duration": 127,
    "start_time": "2023-06-20T08:56:17.705Z"
   },
   {
    "duration": 10,
    "start_time": "2023-06-20T08:56:17.833Z"
   },
   {
    "duration": 27,
    "start_time": "2023-06-20T08:56:17.845Z"
   },
   {
    "duration": 51,
    "start_time": "2023-06-20T08:56:17.874Z"
   },
   {
    "duration": 42,
    "start_time": "2023-06-20T08:56:17.926Z"
   },
   {
    "duration": 29,
    "start_time": "2023-06-20T08:56:17.969Z"
   },
   {
    "duration": 47,
    "start_time": "2023-06-20T08:56:17.999Z"
   },
   {
    "duration": 29,
    "start_time": "2023-06-20T08:56:18.047Z"
   },
   {
    "duration": 13,
    "start_time": "2023-06-20T08:56:18.078Z"
   },
   {
    "duration": 53,
    "start_time": "2023-06-20T08:56:18.092Z"
   },
   {
    "duration": 49,
    "start_time": "2023-06-20T08:56:18.147Z"
   },
   {
    "duration": 57,
    "start_time": "2023-06-20T08:56:18.198Z"
   },
   {
    "duration": 15,
    "start_time": "2023-06-20T08:56:18.257Z"
   },
   {
    "duration": 6,
    "start_time": "2023-06-20T08:56:18.274Z"
   },
   {
    "duration": 16,
    "start_time": "2023-06-20T08:56:18.281Z"
   },
   {
    "duration": 47,
    "start_time": "2023-06-20T08:56:18.299Z"
   },
   {
    "duration": 22,
    "start_time": "2023-06-20T08:56:18.347Z"
   },
   {
    "duration": 38,
    "start_time": "2023-06-20T08:56:18.371Z"
   },
   {
    "duration": 42,
    "start_time": "2023-06-20T08:56:18.410Z"
   },
   {
    "duration": 10,
    "start_time": "2023-06-20T08:56:18.454Z"
   },
   {
    "duration": 39,
    "start_time": "2023-06-20T08:56:18.466Z"
   },
   {
    "duration": 106,
    "start_time": "2023-06-20T08:56:18.507Z"
   },
   {
    "duration": 113,
    "start_time": "2023-06-20T08:56:18.614Z"
   },
   {
    "duration": 5,
    "start_time": "2023-06-20T08:56:18.728Z"
   },
   {
    "duration": 365,
    "start_time": "2023-06-20T08:56:18.735Z"
   },
   {
    "duration": 7,
    "start_time": "2023-06-20T08:56:19.101Z"
   },
   {
    "duration": 334,
    "start_time": "2023-06-20T08:56:19.111Z"
   },
   {
    "duration": 87,
    "start_time": "2023-06-20T08:56:19.446Z"
   },
   {
    "duration": 31,
    "start_time": "2023-06-20T08:56:19.534Z"
   },
   {
    "duration": 84,
    "start_time": "2023-06-20T08:56:19.566Z"
   },
   {
    "duration": 103,
    "start_time": "2023-06-20T08:56:19.652Z"
   },
   {
    "duration": 1564,
    "start_time": "2023-06-20T08:56:57.455Z"
   },
   {
    "duration": 2238,
    "start_time": "2023-06-20T08:57:29.130Z"
   },
   {
    "duration": 3352,
    "start_time": "2023-06-20T08:57:55.128Z"
   },
   {
    "duration": 1612,
    "start_time": "2023-06-20T08:58:28.697Z"
   },
   {
    "duration": 298,
    "start_time": "2023-06-20T08:58:30.311Z"
   },
   {
    "duration": 15,
    "start_time": "2023-06-20T08:58:30.610Z"
   },
   {
    "duration": 42,
    "start_time": "2023-06-20T08:58:30.627Z"
   },
   {
    "duration": 65,
    "start_time": "2023-06-20T08:58:30.702Z"
   },
   {
    "duration": 69,
    "start_time": "2023-06-20T08:58:30.769Z"
   },
   {
    "duration": 29,
    "start_time": "2023-06-20T08:58:30.840Z"
   },
   {
    "duration": 65,
    "start_time": "2023-06-20T08:58:30.871Z"
   },
   {
    "duration": 111,
    "start_time": "2023-06-20T08:58:30.937Z"
   },
   {
    "duration": 29,
    "start_time": "2023-06-20T08:58:31.051Z"
   },
   {
    "duration": 79,
    "start_time": "2023-06-20T08:58:31.082Z"
   },
   {
    "duration": 96,
    "start_time": "2023-06-20T08:58:31.162Z"
   },
   {
    "duration": 79,
    "start_time": "2023-06-20T08:58:31.260Z"
   },
   {
    "duration": 50,
    "start_time": "2023-06-20T08:58:31.341Z"
   },
   {
    "duration": 66,
    "start_time": "2023-06-20T08:58:31.392Z"
   },
   {
    "duration": 72,
    "start_time": "2023-06-20T08:58:31.459Z"
   },
   {
    "duration": 56,
    "start_time": "2023-06-20T08:58:31.537Z"
   },
   {
    "duration": 48,
    "start_time": "2023-06-20T08:58:31.594Z"
   },
   {
    "duration": 26,
    "start_time": "2023-06-20T08:58:31.643Z"
   },
   {
    "duration": 74,
    "start_time": "2023-06-20T08:58:31.670Z"
   },
   {
    "duration": 39,
    "start_time": "2023-06-20T08:58:31.745Z"
   },
   {
    "duration": 65,
    "start_time": "2023-06-20T08:58:31.786Z"
   },
   {
    "duration": 76,
    "start_time": "2023-06-20T08:58:31.852Z"
   },
   {
    "duration": 137,
    "start_time": "2023-06-20T08:58:31.930Z"
   },
   {
    "duration": 8,
    "start_time": "2023-06-20T08:58:32.068Z"
   },
   {
    "duration": 169,
    "start_time": "2023-06-20T08:58:32.078Z"
   },
   {
    "duration": 6,
    "start_time": "2023-06-20T08:58:32.248Z"
   },
   {
    "duration": 173,
    "start_time": "2023-06-20T08:58:32.257Z"
   },
   {
    "duration": 11,
    "start_time": "2023-06-20T08:58:32.432Z"
   },
   {
    "duration": 24,
    "start_time": "2023-06-20T08:58:32.445Z"
   },
   {
    "duration": 33,
    "start_time": "2023-06-20T08:58:32.471Z"
   },
   {
    "duration": 2317,
    "start_time": "2023-06-20T08:58:32.506Z"
   },
   {
    "duration": 3466,
    "start_time": "2023-06-20T08:58:34.824Z"
   },
   {
    "duration": 4437,
    "start_time": "2023-06-20T08:58:38.292Z"
   },
   {
    "duration": 5647,
    "start_time": "2023-06-20T08:58:42.735Z"
   },
   {
    "duration": 6696,
    "start_time": "2023-06-20T08:58:48.383Z"
   },
   {
    "duration": 7616,
    "start_time": "2023-06-20T08:58:55.081Z"
   },
   {
    "duration": 8924,
    "start_time": "2023-06-20T08:59:02.699Z"
   },
   {
    "duration": 10210,
    "start_time": "2023-06-20T08:59:11.627Z"
   },
   {
    "duration": 10749,
    "start_time": "2023-06-20T08:59:21.838Z"
   },
   {
    "duration": 202,
    "start_time": "2023-06-20T09:46:44.251Z"
   },
   {
    "duration": 110,
    "start_time": "2023-06-20T09:48:14.467Z"
   },
   {
    "duration": 3,
    "start_time": "2023-06-20T09:48:51.454Z"
   },
   {
    "duration": 24,
    "start_time": "2023-06-20T09:48:59.314Z"
   },
   {
    "duration": 3,
    "start_time": "2023-06-20T09:51:40.760Z"
   },
   {
    "duration": 333,
    "start_time": "2023-06-20T10:03:40.608Z"
   },
   {
    "duration": 283,
    "start_time": "2023-06-20T10:03:47.388Z"
   },
   {
    "duration": 299,
    "start_time": "2023-06-20T10:04:26.816Z"
   },
   {
    "duration": 382,
    "start_time": "2023-06-20T10:05:23.677Z"
   },
   {
    "duration": 297,
    "start_time": "2023-06-20T10:05:31.718Z"
   },
   {
    "duration": 11,
    "start_time": "2023-06-20T10:06:14.878Z"
   },
   {
    "duration": 8,
    "start_time": "2023-06-20T10:07:08.120Z"
   },
   {
    "duration": 11,
    "start_time": "2023-06-20T10:07:24.010Z"
   },
   {
    "duration": 4,
    "start_time": "2023-06-20T10:07:30.207Z"
   },
   {
    "duration": 10,
    "start_time": "2023-06-20T10:07:35.810Z"
   },
   {
    "duration": 25,
    "start_time": "2023-06-20T11:18:40.725Z"
   },
   {
    "duration": 4,
    "start_time": "2023-06-20T11:19:11.897Z"
   },
   {
    "duration": 13,
    "start_time": "2023-06-20T11:19:18.853Z"
   },
   {
    "duration": 57,
    "start_time": "2023-06-20T11:19:21.445Z"
   },
   {
    "duration": 401,
    "start_time": "2023-06-20T11:23:42.612Z"
   },
   {
    "duration": 58,
    "start_time": "2023-06-20T11:24:07.729Z"
   },
   {
    "duration": 4,
    "start_time": "2023-06-20T11:31:52.943Z"
   },
   {
    "duration": 17,
    "start_time": "2023-06-20T11:31:58.786Z"
   },
   {
    "duration": 10,
    "start_time": "2023-06-20T11:32:16.992Z"
   },
   {
    "duration": 21,
    "start_time": "2023-06-20T11:32:57.353Z"
   },
   {
    "duration": 92,
    "start_time": "2023-06-20T11:32:57.572Z"
   },
   {
    "duration": 28,
    "start_time": "2023-06-20T11:32:57.771Z"
   },
   {
    "duration": 41,
    "start_time": "2023-06-20T11:33:00.295Z"
   },
   {
    "duration": 271,
    "start_time": "2023-06-20T11:33:00.493Z"
   },
   {
    "duration": 36,
    "start_time": "2023-06-20T11:33:00.981Z"
   },
   {
    "duration": 11,
    "start_time": "2023-06-20T11:46:50.035Z"
   },
   {
    "duration": 1665,
    "start_time": "2023-06-22T08:06:34.399Z"
   },
   {
    "duration": 170,
    "start_time": "2023-06-22T08:06:36.066Z"
   },
   {
    "duration": 12,
    "start_time": "2023-06-22T08:06:36.238Z"
   },
   {
    "duration": 4,
    "start_time": "2023-06-22T08:06:36.303Z"
   },
   {
    "duration": 31,
    "start_time": "2023-06-22T08:06:36.308Z"
   },
   {
    "duration": 5,
    "start_time": "2023-06-22T08:06:36.341Z"
   },
   {
    "duration": 56,
    "start_time": "2023-06-22T08:06:36.347Z"
   },
   {
    "duration": 5,
    "start_time": "2023-06-22T08:06:36.405Z"
   },
   {
    "duration": 34,
    "start_time": "2023-06-22T08:06:36.412Z"
   },
   {
    "duration": 54,
    "start_time": "2023-06-22T08:06:36.449Z"
   },
   {
    "duration": 5,
    "start_time": "2023-06-22T08:06:36.505Z"
   },
   {
    "duration": 29,
    "start_time": "2023-06-22T08:06:36.512Z"
   },
   {
    "duration": 10,
    "start_time": "2023-06-22T08:06:36.543Z"
   },
   {
    "duration": 48,
    "start_time": "2023-06-22T08:06:36.554Z"
   },
   {
    "duration": 10,
    "start_time": "2023-06-22T08:06:36.604Z"
   },
   {
    "duration": 13,
    "start_time": "2023-06-22T08:06:36.615Z"
   },
   {
    "duration": 76,
    "start_time": "2023-06-22T08:06:36.630Z"
   },
   {
    "duration": 6,
    "start_time": "2023-06-22T08:06:36.707Z"
   },
   {
    "duration": 22,
    "start_time": "2023-06-22T08:06:36.714Z"
   },
   {
    "duration": 4,
    "start_time": "2023-06-22T08:06:36.738Z"
   },
   {
    "duration": 59,
    "start_time": "2023-06-22T08:06:36.743Z"
   },
   {
    "duration": 4,
    "start_time": "2023-06-22T08:06:36.804Z"
   },
   {
    "duration": 37,
    "start_time": "2023-06-22T08:06:36.809Z"
   },
   {
    "duration": 78,
    "start_time": "2023-06-22T08:06:36.847Z"
   },
   {
    "duration": 5,
    "start_time": "2023-06-22T08:06:36.926Z"
   },
   {
    "duration": 283,
    "start_time": "2023-06-22T08:06:36.932Z"
   },
   {
    "duration": 5,
    "start_time": "2023-06-22T08:06:37.217Z"
   },
   {
    "duration": 376,
    "start_time": "2023-06-22T08:06:37.226Z"
   },
   {
    "duration": 6,
    "start_time": "2023-06-22T08:06:37.604Z"
   },
   {
    "duration": 7,
    "start_time": "2023-06-22T08:06:37.612Z"
   },
   {
    "duration": 10,
    "start_time": "2023-06-22T08:06:37.620Z"
   },
   {
    "duration": 2447,
    "start_time": "2023-06-22T08:06:37.632Z"
   },
   {
    "duration": 3343,
    "start_time": "2023-06-22T08:06:40.080Z"
   },
   {
    "duration": 4340,
    "start_time": "2023-06-22T08:06:43.425Z"
   },
   {
    "duration": 5464,
    "start_time": "2023-06-22T08:06:47.767Z"
   },
   {
    "duration": 9504,
    "start_time": "2023-06-22T08:06:53.233Z"
   },
   {
    "duration": 9183,
    "start_time": "2023-06-22T08:07:02.739Z"
   },
   {
    "duration": 8581,
    "start_time": "2023-06-22T08:07:11.924Z"
   },
   {
    "duration": 9606,
    "start_time": "2023-06-22T08:07:20.507Z"
   },
   {
    "duration": 10842,
    "start_time": "2023-06-22T08:07:30.115Z"
   },
   {
    "duration": 189,
    "start_time": "2023-06-22T08:07:40.958Z"
   },
   {
    "duration": 57,
    "start_time": "2023-06-22T08:07:41.149Z"
   },
   {
    "duration": 435,
    "start_time": "2023-06-22T08:07:41.209Z"
   },
   {
    "duration": 7,
    "start_time": "2023-06-22T08:07:41.646Z"
   },
   {
    "duration": 18,
    "start_time": "2023-06-22T08:07:41.654Z"
   },
   {
    "duration": 73,
    "start_time": "2023-06-22T08:07:41.674Z"
   },
   {
    "duration": 369,
    "start_time": "2023-06-22T08:07:41.749Z"
   },
   {
    "duration": 83,
    "start_time": "2023-06-22T08:07:42.120Z"
   },
   {
    "duration": 106,
    "start_time": "2023-06-22T08:07:42.204Z"
   },
   {
    "duration": 19,
    "start_time": "2023-06-22T08:07:42.312Z"
   },
   {
    "duration": 104,
    "start_time": "2023-06-22T08:07:42.333Z"
   },
   {
    "duration": 72,
    "start_time": "2023-06-22T08:07:42.439Z"
   },
   {
    "duration": 37,
    "start_time": "2023-06-22T08:07:42.603Z"
   },
   {
    "duration": 214,
    "start_time": "2023-06-22T08:07:42.642Z"
   },
   {
    "duration": 48,
    "start_time": "2023-06-22T08:07:42.858Z"
   },
   {
    "duration": 93,
    "start_time": "2023-06-22T08:07:42.908Z"
   },
   {
    "duration": 15,
    "start_time": "2023-06-22T08:07:43.003Z"
   },
   {
    "duration": 13,
    "start_time": "2023-06-22T08:07:43.020Z"
   },
   {
    "duration": 14,
    "start_time": "2023-06-22T08:07:43.034Z"
   },
   {
    "duration": 5,
    "start_time": "2023-06-22T08:16:53.330Z"
   },
   {
    "duration": 122,
    "start_time": "2023-06-22T08:17:02.397Z"
   },
   {
    "duration": 1819,
    "start_time": "2023-06-22T08:17:14.425Z"
   },
   {
    "duration": 271,
    "start_time": "2023-06-22T08:17:16.246Z"
   },
   {
    "duration": 12,
    "start_time": "2023-06-22T08:17:16.519Z"
   },
   {
    "duration": 6,
    "start_time": "2023-06-22T08:17:16.533Z"
   },
   {
    "duration": 75,
    "start_time": "2023-06-22T08:17:16.541Z"
   },
   {
    "duration": 5,
    "start_time": "2023-06-22T08:17:16.617Z"
   },
   {
    "duration": 18,
    "start_time": "2023-06-22T08:17:16.623Z"
   },
   {
    "duration": 5,
    "start_time": "2023-06-22T08:17:16.643Z"
   },
   {
    "duration": 63,
    "start_time": "2023-06-22T08:17:16.650Z"
   },
   {
    "duration": 30,
    "start_time": "2023-06-22T08:17:16.715Z"
   },
   {
    "duration": 5,
    "start_time": "2023-06-22T08:17:16.747Z"
   },
   {
    "duration": 49,
    "start_time": "2023-06-22T08:17:16.754Z"
   },
   {
    "duration": 15,
    "start_time": "2023-06-22T08:17:16.805Z"
   },
   {
    "duration": 8,
    "start_time": "2023-06-22T08:17:16.823Z"
   },
   {
    "duration": 13,
    "start_time": "2023-06-22T08:17:16.833Z"
   },
   {
    "duration": 55,
    "start_time": "2023-06-22T08:17:16.848Z"
   },
   {
    "duration": 25,
    "start_time": "2023-06-22T08:17:16.905Z"
   },
   {
    "duration": 72,
    "start_time": "2023-06-22T08:17:16.932Z"
   },
   {
    "duration": 6,
    "start_time": "2023-06-22T08:17:17.005Z"
   },
   {
    "duration": 19,
    "start_time": "2023-06-22T08:17:17.012Z"
   },
   {
    "duration": 10,
    "start_time": "2023-06-22T08:17:17.033Z"
   },
   {
    "duration": 58,
    "start_time": "2023-06-22T08:17:17.044Z"
   },
   {
    "duration": 17,
    "start_time": "2023-06-22T08:17:17.104Z"
   },
   {
    "duration": 47,
    "start_time": "2023-06-22T08:17:17.122Z"
   },
   {
    "duration": 54,
    "start_time": "2023-06-22T08:17:17.170Z"
   },
   {
    "duration": 5,
    "start_time": "2023-06-22T08:17:17.226Z"
   },
   {
    "duration": 143,
    "start_time": "2023-06-22T08:17:17.233Z"
   },
   {
    "duration": 5,
    "start_time": "2023-06-22T08:17:17.377Z"
   },
   {
    "duration": 171,
    "start_time": "2023-06-22T08:17:17.384Z"
   },
   {
    "duration": 6,
    "start_time": "2023-06-22T08:17:17.556Z"
   },
   {
    "duration": 21,
    "start_time": "2023-06-22T08:17:17.564Z"
   },
   {
    "duration": 11,
    "start_time": "2023-06-22T08:17:17.587Z"
   },
   {
    "duration": 2273,
    "start_time": "2023-06-22T08:17:17.602Z"
   },
   {
    "duration": 3493,
    "start_time": "2023-06-22T08:17:19.878Z"
   },
   {
    "duration": 4494,
    "start_time": "2023-06-22T08:17:23.373Z"
   },
   {
    "duration": 5639,
    "start_time": "2023-06-22T08:17:27.869Z"
   },
   {
    "duration": 6529,
    "start_time": "2023-06-22T08:17:33.510Z"
   },
   {
    "duration": 7671,
    "start_time": "2023-06-22T08:17:40.041Z"
   },
   {
    "duration": 8736,
    "start_time": "2023-06-22T08:17:47.714Z"
   },
   {
    "duration": 9935,
    "start_time": "2023-06-22T08:17:56.451Z"
   },
   {
    "duration": 11021,
    "start_time": "2023-06-22T08:18:06.390Z"
   },
   {
    "duration": 194,
    "start_time": "2023-06-22T08:18:17.413Z"
   },
   {
    "duration": 22,
    "start_time": "2023-06-22T08:18:17.609Z"
   },
   {
    "duration": 548,
    "start_time": "2023-06-22T08:18:17.632Z"
   },
   {
    "duration": 6,
    "start_time": "2023-06-22T08:18:18.182Z"
   },
   {
    "duration": 23,
    "start_time": "2023-06-22T08:18:18.189Z"
   },
   {
    "duration": 62,
    "start_time": "2023-06-22T08:18:18.214Z"
   },
   {
    "duration": 407,
    "start_time": "2023-06-22T08:18:18.278Z"
   },
   {
    "duration": 50,
    "start_time": "2023-06-22T08:18:18.687Z"
   },
   {
    "duration": 103,
    "start_time": "2023-06-22T08:18:18.804Z"
   },
   {
    "duration": 28,
    "start_time": "2023-06-22T08:18:18.908Z"
   },
   {
    "duration": 103,
    "start_time": "2023-06-22T08:18:18.937Z"
   },
   {
    "duration": 59,
    "start_time": "2023-06-22T08:18:19.042Z"
   },
   {
    "duration": 131,
    "start_time": "2023-06-22T08:18:19.104Z"
   },
   {
    "duration": 212,
    "start_time": "2023-06-22T08:18:19.237Z"
   },
   {
    "duration": 52,
    "start_time": "2023-06-22T08:18:19.451Z"
   },
   {
    "duration": 110,
    "start_time": "2023-06-22T08:18:19.505Z"
   },
   {
    "duration": 23,
    "start_time": "2023-06-22T08:18:19.617Z"
   },
   {
    "duration": 11,
    "start_time": "2023-06-22T08:18:19.642Z"
   },
   {
    "duration": 38,
    "start_time": "2023-06-22T08:18:19.655Z"
   },
   {
    "duration": 21,
    "start_time": "2023-06-22T08:30:03.117Z"
   },
   {
    "duration": 1607,
    "start_time": "2023-06-22T08:30:13.511Z"
   },
   {
    "duration": 147,
    "start_time": "2023-06-22T08:30:15.120Z"
   },
   {
    "duration": 14,
    "start_time": "2023-06-22T08:30:15.269Z"
   },
   {
    "duration": 4,
    "start_time": "2023-06-22T08:30:15.302Z"
   },
   {
    "duration": 23,
    "start_time": "2023-06-22T08:30:15.308Z"
   },
   {
    "duration": 13,
    "start_time": "2023-06-22T08:30:15.333Z"
   },
   {
    "duration": 35,
    "start_time": "2023-06-22T08:30:15.348Z"
   },
   {
    "duration": 132,
    "start_time": "2023-06-22T08:30:15.385Z"
   },
   {
    "duration": 0,
    "start_time": "2023-06-22T08:30:15.521Z"
   },
   {
    "duration": 0,
    "start_time": "2023-06-22T08:30:15.523Z"
   },
   {
    "duration": 0,
    "start_time": "2023-06-22T08:30:15.524Z"
   },
   {
    "duration": 0,
    "start_time": "2023-06-22T08:30:15.525Z"
   },
   {
    "duration": 0,
    "start_time": "2023-06-22T08:30:15.526Z"
   },
   {
    "duration": 0,
    "start_time": "2023-06-22T08:30:15.527Z"
   },
   {
    "duration": 0,
    "start_time": "2023-06-22T08:30:15.528Z"
   },
   {
    "duration": 0,
    "start_time": "2023-06-22T08:30:15.529Z"
   },
   {
    "duration": 0,
    "start_time": "2023-06-22T08:30:15.530Z"
   },
   {
    "duration": 0,
    "start_time": "2023-06-22T08:30:15.531Z"
   },
   {
    "duration": 0,
    "start_time": "2023-06-22T08:30:15.532Z"
   },
   {
    "duration": 0,
    "start_time": "2023-06-22T08:30:15.533Z"
   },
   {
    "duration": 0,
    "start_time": "2023-06-22T08:30:15.534Z"
   },
   {
    "duration": 0,
    "start_time": "2023-06-22T08:30:15.535Z"
   },
   {
    "duration": 0,
    "start_time": "2023-06-22T08:30:15.536Z"
   },
   {
    "duration": 0,
    "start_time": "2023-06-22T08:30:15.537Z"
   },
   {
    "duration": 0,
    "start_time": "2023-06-22T08:30:15.538Z"
   },
   {
    "duration": 0,
    "start_time": "2023-06-22T08:30:15.539Z"
   },
   {
    "duration": 0,
    "start_time": "2023-06-22T08:30:15.540Z"
   },
   {
    "duration": 0,
    "start_time": "2023-06-22T08:30:15.541Z"
   },
   {
    "duration": 0,
    "start_time": "2023-06-22T08:30:15.542Z"
   },
   {
    "duration": 0,
    "start_time": "2023-06-22T08:30:15.543Z"
   },
   {
    "duration": 0,
    "start_time": "2023-06-22T08:30:15.544Z"
   },
   {
    "duration": 0,
    "start_time": "2023-06-22T08:30:15.545Z"
   },
   {
    "duration": 0,
    "start_time": "2023-06-22T08:30:15.546Z"
   },
   {
    "duration": 0,
    "start_time": "2023-06-22T08:30:15.547Z"
   },
   {
    "duration": 0,
    "start_time": "2023-06-22T08:30:15.548Z"
   },
   {
    "duration": 0,
    "start_time": "2023-06-22T08:30:15.602Z"
   },
   {
    "duration": 0,
    "start_time": "2023-06-22T08:30:15.603Z"
   },
   {
    "duration": 0,
    "start_time": "2023-06-22T08:30:15.605Z"
   },
   {
    "duration": 0,
    "start_time": "2023-06-22T08:30:15.606Z"
   },
   {
    "duration": 0,
    "start_time": "2023-06-22T08:30:15.607Z"
   },
   {
    "duration": 0,
    "start_time": "2023-06-22T08:30:15.608Z"
   },
   {
    "duration": 0,
    "start_time": "2023-06-22T08:30:15.609Z"
   },
   {
    "duration": 0,
    "start_time": "2023-06-22T08:30:15.610Z"
   },
   {
    "duration": 0,
    "start_time": "2023-06-22T08:30:15.611Z"
   },
   {
    "duration": 0,
    "start_time": "2023-06-22T08:30:15.612Z"
   },
   {
    "duration": 0,
    "start_time": "2023-06-22T08:30:15.613Z"
   },
   {
    "duration": 0,
    "start_time": "2023-06-22T08:30:15.614Z"
   },
   {
    "duration": 0,
    "start_time": "2023-06-22T08:30:15.616Z"
   },
   {
    "duration": 0,
    "start_time": "2023-06-22T08:30:15.617Z"
   },
   {
    "duration": 0,
    "start_time": "2023-06-22T08:30:15.618Z"
   },
   {
    "duration": 0,
    "start_time": "2023-06-22T08:30:15.620Z"
   },
   {
    "duration": 0,
    "start_time": "2023-06-22T08:30:15.622Z"
   },
   {
    "duration": 0,
    "start_time": "2023-06-22T08:30:15.622Z"
   },
   {
    "duration": 0,
    "start_time": "2023-06-22T08:30:15.624Z"
   },
   {
    "duration": 0,
    "start_time": "2023-06-22T08:30:15.625Z"
   },
   {
    "duration": 0,
    "start_time": "2023-06-22T08:30:15.626Z"
   },
   {
    "duration": 0,
    "start_time": "2023-06-22T08:30:15.627Z"
   },
   {
    "duration": 0,
    "start_time": "2023-06-22T08:30:15.628Z"
   },
   {
    "duration": 0,
    "start_time": "2023-06-22T08:30:15.629Z"
   },
   {
    "duration": 0,
    "start_time": "2023-06-22T08:30:15.630Z"
   },
   {
    "duration": 0,
    "start_time": "2023-06-22T08:30:15.631Z"
   },
   {
    "duration": 0,
    "start_time": "2023-06-22T08:30:15.632Z"
   },
   {
    "duration": 81,
    "start_time": "2023-06-22T08:30:42.596Z"
   },
   {
    "duration": 106,
    "start_time": "2023-06-22T08:30:45.736Z"
   },
   {
    "duration": 15,
    "start_time": "2023-06-22T08:32:10.255Z"
   },
   {
    "duration": 2862,
    "start_time": "2023-06-22T08:32:15.903Z"
   },
   {
    "duration": 164,
    "start_time": "2023-06-22T08:32:18.768Z"
   },
   {
    "duration": 18,
    "start_time": "2023-06-22T08:32:18.934Z"
   },
   {
    "duration": 23,
    "start_time": "2023-06-22T08:32:18.956Z"
   },
   {
    "duration": 39,
    "start_time": "2023-06-22T08:32:18.982Z"
   },
   {
    "duration": 22,
    "start_time": "2023-06-22T08:32:19.024Z"
   },
   {
    "duration": 41,
    "start_time": "2023-06-22T08:32:19.049Z"
   },
   {
    "duration": 141,
    "start_time": "2023-06-22T08:32:19.093Z"
   },
   {
    "duration": 11,
    "start_time": "2023-06-22T08:32:19.236Z"
   },
   {
    "duration": 6,
    "start_time": "2023-06-22T08:32:19.251Z"
   },
   {
    "duration": 19,
    "start_time": "2023-06-22T08:32:19.258Z"
   },
   {
    "duration": 52,
    "start_time": "2023-06-22T08:32:19.279Z"
   },
   {
    "duration": 7,
    "start_time": "2023-06-22T08:32:19.333Z"
   },
   {
    "duration": 27,
    "start_time": "2023-06-22T08:32:19.342Z"
   },
   {
    "duration": 44,
    "start_time": "2023-06-22T08:32:19.371Z"
   },
   {
    "duration": 23,
    "start_time": "2023-06-22T08:32:19.417Z"
   },
   {
    "duration": 41,
    "start_time": "2023-06-22T08:32:19.442Z"
   },
   {
    "duration": 60,
    "start_time": "2023-06-22T08:32:19.485Z"
   },
   {
    "duration": 36,
    "start_time": "2023-06-22T08:32:19.547Z"
   },
   {
    "duration": 36,
    "start_time": "2023-06-22T08:32:19.585Z"
   },
   {
    "duration": 8,
    "start_time": "2023-06-22T08:32:19.623Z"
   },
   {
    "duration": 18,
    "start_time": "2023-06-22T08:32:19.634Z"
   },
   {
    "duration": 13,
    "start_time": "2023-06-22T08:32:19.655Z"
   },
   {
    "duration": 10,
    "start_time": "2023-06-22T08:32:19.671Z"
   },
   {
    "duration": 19,
    "start_time": "2023-06-22T08:32:19.683Z"
   },
   {
    "duration": 60,
    "start_time": "2023-06-22T08:32:19.706Z"
   },
   {
    "duration": 174,
    "start_time": "2023-06-22T08:32:19.768Z"
   },
   {
    "duration": 0,
    "start_time": "2023-06-22T08:32:19.946Z"
   },
   {
    "duration": 0,
    "start_time": "2023-06-22T08:32:19.947Z"
   },
   {
    "duration": 0,
    "start_time": "2023-06-22T08:32:19.948Z"
   },
   {
    "duration": 0,
    "start_time": "2023-06-22T08:32:19.950Z"
   },
   {
    "duration": 0,
    "start_time": "2023-06-22T08:32:19.951Z"
   },
   {
    "duration": 0,
    "start_time": "2023-06-22T08:32:19.952Z"
   },
   {
    "duration": 0,
    "start_time": "2023-06-22T08:32:19.955Z"
   },
   {
    "duration": 0,
    "start_time": "2023-06-22T08:32:19.956Z"
   },
   {
    "duration": 0,
    "start_time": "2023-06-22T08:32:19.958Z"
   },
   {
    "duration": 0,
    "start_time": "2023-06-22T08:32:19.959Z"
   },
   {
    "duration": 0,
    "start_time": "2023-06-22T08:32:19.961Z"
   },
   {
    "duration": 0,
    "start_time": "2023-06-22T08:32:19.963Z"
   },
   {
    "duration": 0,
    "start_time": "2023-06-22T08:32:19.964Z"
   },
   {
    "duration": 0,
    "start_time": "2023-06-22T08:32:19.965Z"
   },
   {
    "duration": 0,
    "start_time": "2023-06-22T08:32:20.006Z"
   },
   {
    "duration": 0,
    "start_time": "2023-06-22T08:32:20.008Z"
   },
   {
    "duration": 0,
    "start_time": "2023-06-22T08:32:20.009Z"
   },
   {
    "duration": 0,
    "start_time": "2023-06-22T08:32:20.011Z"
   },
   {
    "duration": 0,
    "start_time": "2023-06-22T08:32:20.012Z"
   },
   {
    "duration": 0,
    "start_time": "2023-06-22T08:32:20.013Z"
   },
   {
    "duration": 0,
    "start_time": "2023-06-22T08:32:20.015Z"
   },
   {
    "duration": 0,
    "start_time": "2023-06-22T08:32:20.016Z"
   },
   {
    "duration": 0,
    "start_time": "2023-06-22T08:32:20.018Z"
   },
   {
    "duration": 0,
    "start_time": "2023-06-22T08:32:20.020Z"
   },
   {
    "duration": 0,
    "start_time": "2023-06-22T08:32:20.023Z"
   },
   {
    "duration": 0,
    "start_time": "2023-06-22T08:32:20.024Z"
   },
   {
    "duration": 0,
    "start_time": "2023-06-22T08:32:20.025Z"
   },
   {
    "duration": 0,
    "start_time": "2023-06-22T08:32:20.026Z"
   },
   {
    "duration": 0,
    "start_time": "2023-06-22T08:32:20.029Z"
   },
   {
    "duration": 0,
    "start_time": "2023-06-22T08:32:20.031Z"
   },
   {
    "duration": 0,
    "start_time": "2023-06-22T08:32:20.032Z"
   },
   {
    "duration": 0,
    "start_time": "2023-06-22T08:32:20.033Z"
   },
   {
    "duration": 0,
    "start_time": "2023-06-22T08:32:20.034Z"
   },
   {
    "duration": 0,
    "start_time": "2023-06-22T08:32:20.035Z"
   },
   {
    "duration": 0,
    "start_time": "2023-06-22T08:32:20.037Z"
   },
   {
    "duration": 0,
    "start_time": "2023-06-22T08:32:20.038Z"
   },
   {
    "duration": 2744,
    "start_time": "2023-06-22T08:35:36.862Z"
   },
   {
    "duration": 143,
    "start_time": "2023-06-22T08:35:39.608Z"
   },
   {
    "duration": 22,
    "start_time": "2023-06-22T08:35:39.754Z"
   },
   {
    "duration": 6,
    "start_time": "2023-06-22T08:35:39.779Z"
   },
   {
    "duration": 28,
    "start_time": "2023-06-22T08:35:39.801Z"
   },
   {
    "duration": 6,
    "start_time": "2023-06-22T08:35:39.831Z"
   },
   {
    "duration": 67,
    "start_time": "2023-06-22T08:35:39.839Z"
   },
   {
    "duration": 116,
    "start_time": "2023-06-22T08:35:39.908Z"
   },
   {
    "duration": 14,
    "start_time": "2023-06-22T08:35:40.027Z"
   },
   {
    "duration": 35,
    "start_time": "2023-06-22T08:35:40.043Z"
   },
   {
    "duration": 44,
    "start_time": "2023-06-22T08:35:40.080Z"
   },
   {
    "duration": 45,
    "start_time": "2023-06-22T08:35:40.127Z"
   },
   {
    "duration": 7,
    "start_time": "2023-06-22T08:35:40.175Z"
   },
   {
    "duration": 35,
    "start_time": "2023-06-22T08:35:40.188Z"
   },
   {
    "duration": 43,
    "start_time": "2023-06-22T08:35:40.225Z"
   },
   {
    "duration": 22,
    "start_time": "2023-06-22T08:35:40.271Z"
   },
   {
    "duration": 17,
    "start_time": "2023-06-22T08:35:40.296Z"
   },
   {
    "duration": 17,
    "start_time": "2023-06-22T08:35:40.315Z"
   },
   {
    "duration": 40,
    "start_time": "2023-06-22T08:35:40.335Z"
   },
   {
    "duration": 48,
    "start_time": "2023-06-22T08:35:40.377Z"
   },
   {
    "duration": 53,
    "start_time": "2023-06-22T08:35:40.428Z"
   },
   {
    "duration": 14,
    "start_time": "2023-06-22T08:35:40.483Z"
   },
   {
    "duration": 45,
    "start_time": "2023-06-22T08:35:40.498Z"
   },
   {
    "duration": 20,
    "start_time": "2023-06-22T08:35:40.545Z"
   },
   {
    "duration": 29,
    "start_time": "2023-06-22T08:35:40.567Z"
   },
   {
    "duration": 97,
    "start_time": "2023-06-22T08:35:40.600Z"
   },
   {
    "duration": 200,
    "start_time": "2023-06-22T08:35:40.699Z"
   },
   {
    "duration": 0,
    "start_time": "2023-06-22T08:35:40.901Z"
   },
   {
    "duration": 0,
    "start_time": "2023-06-22T08:35:40.903Z"
   },
   {
    "duration": 0,
    "start_time": "2023-06-22T08:35:40.904Z"
   },
   {
    "duration": 0,
    "start_time": "2023-06-22T08:35:40.905Z"
   },
   {
    "duration": 0,
    "start_time": "2023-06-22T08:35:40.906Z"
   },
   {
    "duration": 0,
    "start_time": "2023-06-22T08:35:40.907Z"
   },
   {
    "duration": 0,
    "start_time": "2023-06-22T08:35:40.909Z"
   },
   {
    "duration": 0,
    "start_time": "2023-06-22T08:35:40.911Z"
   },
   {
    "duration": 0,
    "start_time": "2023-06-22T08:35:40.914Z"
   },
   {
    "duration": 0,
    "start_time": "2023-06-22T08:35:40.915Z"
   },
   {
    "duration": 0,
    "start_time": "2023-06-22T08:35:40.916Z"
   },
   {
    "duration": 0,
    "start_time": "2023-06-22T08:35:40.917Z"
   },
   {
    "duration": 1,
    "start_time": "2023-06-22T08:35:40.918Z"
   },
   {
    "duration": 0,
    "start_time": "2023-06-22T08:35:40.920Z"
   },
   {
    "duration": 0,
    "start_time": "2023-06-22T08:35:40.921Z"
   },
   {
    "duration": 0,
    "start_time": "2023-06-22T08:35:40.922Z"
   },
   {
    "duration": 0,
    "start_time": "2023-06-22T08:35:40.924Z"
   },
   {
    "duration": 0,
    "start_time": "2023-06-22T08:35:40.925Z"
   },
   {
    "duration": 0,
    "start_time": "2023-06-22T08:35:40.926Z"
   },
   {
    "duration": 0,
    "start_time": "2023-06-22T08:35:40.927Z"
   },
   {
    "duration": 0,
    "start_time": "2023-06-22T08:35:40.928Z"
   },
   {
    "duration": 0,
    "start_time": "2023-06-22T08:35:40.930Z"
   },
   {
    "duration": 0,
    "start_time": "2023-06-22T08:35:40.931Z"
   },
   {
    "duration": 0,
    "start_time": "2023-06-22T08:35:40.933Z"
   },
   {
    "duration": 0,
    "start_time": "2023-06-22T08:35:40.935Z"
   },
   {
    "duration": 0,
    "start_time": "2023-06-22T08:35:40.936Z"
   },
   {
    "duration": 0,
    "start_time": "2023-06-22T08:35:40.938Z"
   },
   {
    "duration": 0,
    "start_time": "2023-06-22T08:35:40.939Z"
   },
   {
    "duration": 0,
    "start_time": "2023-06-22T08:35:40.941Z"
   },
   {
    "duration": 0,
    "start_time": "2023-06-22T08:35:40.942Z"
   },
   {
    "duration": 0,
    "start_time": "2023-06-22T08:35:40.943Z"
   },
   {
    "duration": 0,
    "start_time": "2023-06-22T08:35:40.944Z"
   },
   {
    "duration": 0,
    "start_time": "2023-06-22T08:35:40.945Z"
   },
   {
    "duration": 0,
    "start_time": "2023-06-22T08:35:40.946Z"
   },
   {
    "duration": 0,
    "start_time": "2023-06-22T08:35:40.947Z"
   },
   {
    "duration": 0,
    "start_time": "2023-06-22T08:35:41.005Z"
   },
   {
    "duration": 0,
    "start_time": "2023-06-22T08:35:41.006Z"
   },
   {
    "duration": 0,
    "start_time": "2023-06-22T08:35:41.007Z"
   },
   {
    "duration": 5,
    "start_time": "2023-06-22T08:36:23.724Z"
   },
   {
    "duration": 2667,
    "start_time": "2023-06-22T08:36:30.635Z"
   },
   {
    "duration": 243,
    "start_time": "2023-06-22T08:36:33.305Z"
   },
   {
    "duration": 78,
    "start_time": "2023-06-22T08:36:33.550Z"
   },
   {
    "duration": 71,
    "start_time": "2023-06-22T08:36:33.631Z"
   },
   {
    "duration": 57,
    "start_time": "2023-06-22T08:36:33.704Z"
   },
   {
    "duration": 8,
    "start_time": "2023-06-22T08:36:33.802Z"
   },
   {
    "duration": 104,
    "start_time": "2023-06-22T08:36:33.813Z"
   },
   {
    "duration": 224,
    "start_time": "2023-06-22T08:36:33.920Z"
   },
   {
    "duration": 59,
    "start_time": "2023-06-22T08:36:34.146Z"
   },
   {
    "duration": 6,
    "start_time": "2023-06-22T08:36:34.207Z"
   },
   {
    "duration": 8,
    "start_time": "2023-06-22T08:36:34.216Z"
   },
   {
    "duration": 102,
    "start_time": "2023-06-22T08:36:34.226Z"
   },
   {
    "duration": 7,
    "start_time": "2023-06-22T08:36:34.329Z"
   },
   {
    "duration": 64,
    "start_time": "2023-06-22T08:36:34.338Z"
   },
   {
    "duration": 52,
    "start_time": "2023-06-22T08:36:34.405Z"
   },
   {
    "duration": 45,
    "start_time": "2023-06-22T08:36:34.460Z"
   },
   {
    "duration": 50,
    "start_time": "2023-06-22T08:36:34.508Z"
   },
   {
    "duration": 10,
    "start_time": "2023-06-22T08:36:34.560Z"
   },
   {
    "duration": 46,
    "start_time": "2023-06-22T08:36:34.572Z"
   },
   {
    "duration": 93,
    "start_time": "2023-06-22T08:36:34.622Z"
   },
   {
    "duration": 6,
    "start_time": "2023-06-22T08:36:34.718Z"
   },
   {
    "duration": 83,
    "start_time": "2023-06-22T08:36:34.726Z"
   },
   {
    "duration": 35,
    "start_time": "2023-06-22T08:36:34.811Z"
   },
   {
    "duration": 8,
    "start_time": "2023-06-22T08:36:34.849Z"
   },
   {
    "duration": 44,
    "start_time": "2023-06-22T08:36:34.860Z"
   },
   {
    "duration": 110,
    "start_time": "2023-06-22T08:36:34.906Z"
   },
   {
    "duration": 431,
    "start_time": "2023-06-22T08:36:35.019Z"
   },
   {
    "duration": 0,
    "start_time": "2023-06-22T08:36:35.455Z"
   },
   {
    "duration": 0,
    "start_time": "2023-06-22T08:36:35.456Z"
   },
   {
    "duration": 0,
    "start_time": "2023-06-22T08:36:35.458Z"
   },
   {
    "duration": 0,
    "start_time": "2023-06-22T08:36:35.459Z"
   },
   {
    "duration": 0,
    "start_time": "2023-06-22T08:36:35.461Z"
   },
   {
    "duration": 0,
    "start_time": "2023-06-22T08:36:35.462Z"
   },
   {
    "duration": 1,
    "start_time": "2023-06-22T08:36:35.464Z"
   },
   {
    "duration": 0,
    "start_time": "2023-06-22T08:36:35.466Z"
   },
   {
    "duration": 0,
    "start_time": "2023-06-22T08:36:35.467Z"
   },
   {
    "duration": 0,
    "start_time": "2023-06-22T08:36:35.469Z"
   },
   {
    "duration": 0,
    "start_time": "2023-06-22T08:36:35.470Z"
   },
   {
    "duration": 0,
    "start_time": "2023-06-22T08:36:35.471Z"
   },
   {
    "duration": 1,
    "start_time": "2023-06-22T08:36:35.472Z"
   },
   {
    "duration": 0,
    "start_time": "2023-06-22T08:36:35.474Z"
   },
   {
    "duration": 0,
    "start_time": "2023-06-22T08:36:35.475Z"
   },
   {
    "duration": 0,
    "start_time": "2023-06-22T08:36:35.476Z"
   },
   {
    "duration": 0,
    "start_time": "2023-06-22T08:36:35.502Z"
   },
   {
    "duration": 0,
    "start_time": "2023-06-22T08:36:35.503Z"
   },
   {
    "duration": 0,
    "start_time": "2023-06-22T08:36:35.504Z"
   },
   {
    "duration": 0,
    "start_time": "2023-06-22T08:36:35.505Z"
   },
   {
    "duration": 0,
    "start_time": "2023-06-22T08:36:35.506Z"
   },
   {
    "duration": 0,
    "start_time": "2023-06-22T08:36:35.507Z"
   },
   {
    "duration": 0,
    "start_time": "2023-06-22T08:36:35.508Z"
   },
   {
    "duration": 0,
    "start_time": "2023-06-22T08:36:35.509Z"
   },
   {
    "duration": 0,
    "start_time": "2023-06-22T08:36:35.510Z"
   },
   {
    "duration": 0,
    "start_time": "2023-06-22T08:36:35.511Z"
   },
   {
    "duration": 0,
    "start_time": "2023-06-22T08:36:35.512Z"
   },
   {
    "duration": 0,
    "start_time": "2023-06-22T08:36:35.513Z"
   },
   {
    "duration": 0,
    "start_time": "2023-06-22T08:36:35.513Z"
   },
   {
    "duration": 0,
    "start_time": "2023-06-22T08:36:35.514Z"
   },
   {
    "duration": 0,
    "start_time": "2023-06-22T08:36:35.515Z"
   },
   {
    "duration": 0,
    "start_time": "2023-06-22T08:36:35.516Z"
   },
   {
    "duration": 0,
    "start_time": "2023-06-22T08:36:35.517Z"
   },
   {
    "duration": 0,
    "start_time": "2023-06-22T08:36:35.518Z"
   },
   {
    "duration": 0,
    "start_time": "2023-06-22T08:36:35.519Z"
   },
   {
    "duration": 0,
    "start_time": "2023-06-22T08:36:35.520Z"
   },
   {
    "duration": 0,
    "start_time": "2023-06-22T08:36:35.521Z"
   },
   {
    "duration": 0,
    "start_time": "2023-06-22T08:36:35.522Z"
   },
   {
    "duration": 74,
    "start_time": "2023-06-22T08:37:03.433Z"
   },
   {
    "duration": 10,
    "start_time": "2023-06-22T08:37:05.624Z"
   },
   {
    "duration": 4,
    "start_time": "2023-06-22T08:40:58.051Z"
   },
   {
    "duration": 2490,
    "start_time": "2023-06-22T08:41:04.121Z"
   },
   {
    "duration": 5,
    "start_time": "2023-06-22T08:41:06.613Z"
   },
   {
    "duration": 149,
    "start_time": "2023-06-22T08:41:06.620Z"
   },
   {
    "duration": 34,
    "start_time": "2023-06-22T08:41:06.771Z"
   },
   {
    "duration": 8,
    "start_time": "2023-06-22T08:41:06.808Z"
   },
   {
    "duration": 20,
    "start_time": "2023-06-22T08:41:06.817Z"
   },
   {
    "duration": 6,
    "start_time": "2023-06-22T08:41:06.839Z"
   },
   {
    "duration": 29,
    "start_time": "2023-06-22T08:41:06.847Z"
   },
   {
    "duration": 106,
    "start_time": "2023-06-22T08:41:06.879Z"
   },
   {
    "duration": 24,
    "start_time": "2023-06-22T08:41:06.987Z"
   },
   {
    "duration": 5,
    "start_time": "2023-06-22T08:41:07.012Z"
   },
   {
    "duration": 7,
    "start_time": "2023-06-22T08:41:07.019Z"
   },
   {
    "duration": 29,
    "start_time": "2023-06-22T08:41:07.027Z"
   },
   {
    "duration": 6,
    "start_time": "2023-06-22T08:41:07.059Z"
   },
   {
    "duration": 10,
    "start_time": "2023-06-22T08:41:07.066Z"
   },
   {
    "duration": 14,
    "start_time": "2023-06-22T08:41:07.101Z"
   },
   {
    "duration": 6,
    "start_time": "2023-06-22T08:41:07.117Z"
   },
   {
    "duration": 10,
    "start_time": "2023-06-22T08:41:07.125Z"
   },
   {
    "duration": 9,
    "start_time": "2023-06-22T08:41:07.137Z"
   },
   {
    "duration": 12,
    "start_time": "2023-06-22T08:41:07.148Z"
   },
   {
    "duration": 44,
    "start_time": "2023-06-22T08:41:07.161Z"
   },
   {
    "duration": 5,
    "start_time": "2023-06-22T08:41:07.207Z"
   },
   {
    "duration": 9,
    "start_time": "2023-06-22T08:41:07.214Z"
   },
   {
    "duration": 6,
    "start_time": "2023-06-22T08:41:07.225Z"
   },
   {
    "duration": 16,
    "start_time": "2023-06-22T08:41:07.233Z"
   },
   {
    "duration": 10,
    "start_time": "2023-06-22T08:41:07.251Z"
   },
   {
    "duration": 65,
    "start_time": "2023-06-22T08:41:07.263Z"
   },
   {
    "duration": 173,
    "start_time": "2023-06-22T08:41:07.330Z"
   },
   {
    "duration": 192,
    "start_time": "2023-06-22T08:41:07.505Z"
   },
   {
    "duration": 32,
    "start_time": "2023-06-22T08:41:07.702Z"
   },
   {
    "duration": 132,
    "start_time": "2023-06-22T08:41:07.736Z"
   },
   {
    "duration": 0,
    "start_time": "2023-06-22T08:41:07.870Z"
   },
   {
    "duration": 0,
    "start_time": "2023-06-22T08:41:07.872Z"
   },
   {
    "duration": 1,
    "start_time": "2023-06-22T08:41:07.872Z"
   },
   {
    "duration": 0,
    "start_time": "2023-06-22T08:41:07.873Z"
   },
   {
    "duration": 0,
    "start_time": "2023-06-22T08:41:07.874Z"
   },
   {
    "duration": 0,
    "start_time": "2023-06-22T08:41:07.875Z"
   },
   {
    "duration": 0,
    "start_time": "2023-06-22T08:41:07.876Z"
   },
   {
    "duration": 0,
    "start_time": "2023-06-22T08:41:07.877Z"
   },
   {
    "duration": 0,
    "start_time": "2023-06-22T08:41:07.878Z"
   },
   {
    "duration": 0,
    "start_time": "2023-06-22T08:41:07.879Z"
   },
   {
    "duration": 0,
    "start_time": "2023-06-22T08:41:07.880Z"
   },
   {
    "duration": 0,
    "start_time": "2023-06-22T08:41:07.881Z"
   },
   {
    "duration": 0,
    "start_time": "2023-06-22T08:41:07.902Z"
   },
   {
    "duration": 0,
    "start_time": "2023-06-22T08:41:07.903Z"
   },
   {
    "duration": 0,
    "start_time": "2023-06-22T08:41:07.904Z"
   },
   {
    "duration": 0,
    "start_time": "2023-06-22T08:41:07.905Z"
   },
   {
    "duration": 0,
    "start_time": "2023-06-22T08:41:07.906Z"
   },
   {
    "duration": 0,
    "start_time": "2023-06-22T08:41:07.907Z"
   },
   {
    "duration": 0,
    "start_time": "2023-06-22T08:41:07.908Z"
   },
   {
    "duration": 0,
    "start_time": "2023-06-22T08:41:07.910Z"
   },
   {
    "duration": 0,
    "start_time": "2023-06-22T08:41:07.911Z"
   },
   {
    "duration": 0,
    "start_time": "2023-06-22T08:41:07.912Z"
   },
   {
    "duration": 0,
    "start_time": "2023-06-22T08:41:07.913Z"
   },
   {
    "duration": 0,
    "start_time": "2023-06-22T08:41:07.914Z"
   },
   {
    "duration": 0,
    "start_time": "2023-06-22T08:41:07.916Z"
   },
   {
    "duration": 0,
    "start_time": "2023-06-22T08:41:07.916Z"
   },
   {
    "duration": 0,
    "start_time": "2023-06-22T08:41:07.918Z"
   },
   {
    "duration": 0,
    "start_time": "2023-06-22T08:41:07.919Z"
   },
   {
    "duration": 0,
    "start_time": "2023-06-22T08:41:07.920Z"
   },
   {
    "duration": 0,
    "start_time": "2023-06-22T08:41:07.921Z"
   },
   {
    "duration": 0,
    "start_time": "2023-06-22T08:41:07.922Z"
   },
   {
    "duration": 0,
    "start_time": "2023-06-22T08:41:07.923Z"
   },
   {
    "duration": 0,
    "start_time": "2023-06-22T08:41:07.924Z"
   },
   {
    "duration": 0,
    "start_time": "2023-06-22T08:41:07.925Z"
   },
   {
    "duration": 0,
    "start_time": "2023-06-22T08:41:07.926Z"
   },
   {
    "duration": 2310,
    "start_time": "2023-06-22T08:49:15.234Z"
   },
   {
    "duration": 56,
    "start_time": "2023-06-22T08:49:17.546Z"
   },
   {
    "duration": 311,
    "start_time": "2023-06-22T08:49:17.604Z"
   },
   {
    "duration": 29,
    "start_time": "2023-06-22T08:49:17.917Z"
   },
   {
    "duration": 199,
    "start_time": "2023-06-22T08:49:17.948Z"
   },
   {
    "duration": 19414,
    "start_time": "2023-06-22T08:49:18.148Z"
   },
   {
    "duration": 14,
    "start_time": "2023-06-22T08:49:37.564Z"
   },
   {
    "duration": 45,
    "start_time": "2023-06-22T08:49:37.580Z"
   },
   {
    "duration": 50,
    "start_time": "2023-06-22T08:49:37.628Z"
   },
   {
    "duration": 48,
    "start_time": "2023-06-22T08:49:37.679Z"
   },
   {
    "duration": 48,
    "start_time": "2023-06-22T08:49:37.729Z"
   },
   {
    "duration": 50,
    "start_time": "2023-06-22T08:49:37.779Z"
   },
   {
    "duration": 44,
    "start_time": "2023-06-22T08:49:37.831Z"
   },
   {
    "duration": 61,
    "start_time": "2023-06-22T08:49:37.878Z"
   },
   {
    "duration": 28,
    "start_time": "2023-06-22T08:49:37.941Z"
   },
   {
    "duration": 33,
    "start_time": "2023-06-22T08:49:37.971Z"
   },
   {
    "duration": 67,
    "start_time": "2023-06-22T08:49:38.006Z"
   },
   {
    "duration": 22,
    "start_time": "2023-06-22T08:49:38.075Z"
   },
   {
    "duration": 59,
    "start_time": "2023-06-22T08:49:38.098Z"
   },
   {
    "duration": 12,
    "start_time": "2023-06-22T08:49:38.159Z"
   },
   {
    "duration": 17,
    "start_time": "2023-06-22T08:49:38.172Z"
   },
   {
    "duration": 60,
    "start_time": "2023-06-22T08:49:38.190Z"
   },
   {
    "duration": 12,
    "start_time": "2023-06-22T08:49:38.252Z"
   },
   {
    "duration": 60,
    "start_time": "2023-06-22T08:49:38.266Z"
   },
   {
    "duration": 108,
    "start_time": "2023-06-22T08:49:38.329Z"
   },
   {
    "duration": 133,
    "start_time": "2023-06-22T08:49:38.439Z"
   },
   {
    "duration": 48,
    "start_time": "2023-06-22T08:49:38.574Z"
   },
   {
    "duration": 35,
    "start_time": "2023-06-22T08:49:38.629Z"
   },
   {
    "duration": 60,
    "start_time": "2023-06-22T08:49:38.666Z"
   },
   {
    "duration": 225,
    "start_time": "2023-06-22T08:49:38.817Z"
   },
   {
    "duration": 34,
    "start_time": "2023-06-22T08:49:39.043Z"
   },
   {
    "duration": 164,
    "start_time": "2023-06-22T08:49:39.079Z"
   },
   {
    "duration": 0,
    "start_time": "2023-06-22T08:49:39.246Z"
   },
   {
    "duration": 0,
    "start_time": "2023-06-22T08:49:39.248Z"
   },
   {
    "duration": 0,
    "start_time": "2023-06-22T08:49:39.249Z"
   },
   {
    "duration": 0,
    "start_time": "2023-06-22T08:49:39.251Z"
   },
   {
    "duration": 0,
    "start_time": "2023-06-22T08:49:39.253Z"
   },
   {
    "duration": 1,
    "start_time": "2023-06-22T08:49:39.254Z"
   },
   {
    "duration": 0,
    "start_time": "2023-06-22T08:49:39.256Z"
   },
   {
    "duration": 0,
    "start_time": "2023-06-22T08:49:39.257Z"
   },
   {
    "duration": 0,
    "start_time": "2023-06-22T08:49:39.259Z"
   },
   {
    "duration": 0,
    "start_time": "2023-06-22T08:49:39.261Z"
   },
   {
    "duration": 0,
    "start_time": "2023-06-22T08:49:39.262Z"
   },
   {
    "duration": 0,
    "start_time": "2023-06-22T08:49:39.263Z"
   },
   {
    "duration": 0,
    "start_time": "2023-06-22T08:49:39.265Z"
   },
   {
    "duration": 0,
    "start_time": "2023-06-22T08:49:39.266Z"
   },
   {
    "duration": 0,
    "start_time": "2023-06-22T08:49:39.303Z"
   },
   {
    "duration": 0,
    "start_time": "2023-06-22T08:49:39.305Z"
   },
   {
    "duration": 0,
    "start_time": "2023-06-22T08:49:39.306Z"
   },
   {
    "duration": 0,
    "start_time": "2023-06-22T08:49:39.307Z"
   },
   {
    "duration": 0,
    "start_time": "2023-06-22T08:49:39.308Z"
   },
   {
    "duration": 0,
    "start_time": "2023-06-22T08:49:39.310Z"
   },
   {
    "duration": 0,
    "start_time": "2023-06-22T08:49:39.310Z"
   },
   {
    "duration": 0,
    "start_time": "2023-06-22T08:49:39.311Z"
   },
   {
    "duration": 0,
    "start_time": "2023-06-22T08:49:39.313Z"
   },
   {
    "duration": 0,
    "start_time": "2023-06-22T08:49:39.314Z"
   },
   {
    "duration": 0,
    "start_time": "2023-06-22T08:49:39.315Z"
   },
   {
    "duration": 0,
    "start_time": "2023-06-22T08:49:39.317Z"
   },
   {
    "duration": 0,
    "start_time": "2023-06-22T08:49:39.318Z"
   },
   {
    "duration": 0,
    "start_time": "2023-06-22T08:49:39.319Z"
   },
   {
    "duration": 0,
    "start_time": "2023-06-22T08:49:39.320Z"
   },
   {
    "duration": 0,
    "start_time": "2023-06-22T08:49:39.322Z"
   },
   {
    "duration": 0,
    "start_time": "2023-06-22T08:49:39.324Z"
   },
   {
    "duration": 0,
    "start_time": "2023-06-22T08:49:39.326Z"
   },
   {
    "duration": 0,
    "start_time": "2023-06-22T08:49:39.328Z"
   },
   {
    "duration": 0,
    "start_time": "2023-06-22T08:49:39.329Z"
   },
   {
    "duration": 0,
    "start_time": "2023-06-22T08:49:39.331Z"
   },
   {
    "duration": 12603,
    "start_time": "2023-06-22T08:50:32.038Z"
   },
   {
    "duration": 12693,
    "start_time": "2023-06-22T08:50:50.925Z"
   },
   {
    "duration": 1679,
    "start_time": "2023-06-22T08:51:13.628Z"
   },
   {
    "duration": 5,
    "start_time": "2023-06-22T08:51:15.309Z"
   },
   {
    "duration": 161,
    "start_time": "2023-06-22T08:51:15.315Z"
   },
   {
    "duration": 50,
    "start_time": "2023-06-22T08:51:15.479Z"
   },
   {
    "duration": 197,
    "start_time": "2023-06-22T08:51:15.531Z"
   },
   {
    "duration": 19950,
    "start_time": "2023-06-22T08:51:15.730Z"
   },
   {
    "duration": 32,
    "start_time": "2023-06-22T08:51:35.682Z"
   },
   {
    "duration": 15,
    "start_time": "2023-06-22T08:51:35.717Z"
   },
   {
    "duration": 28,
    "start_time": "2023-06-22T08:51:35.734Z"
   },
   {
    "duration": 12,
    "start_time": "2023-06-22T08:51:35.765Z"
   },
   {
    "duration": 25,
    "start_time": "2023-06-22T08:51:35.779Z"
   },
   {
    "duration": 19,
    "start_time": "2023-06-22T08:51:35.806Z"
   },
   {
    "duration": 26,
    "start_time": "2023-06-22T08:51:35.827Z"
   },
   {
    "duration": 28,
    "start_time": "2023-06-22T08:51:35.855Z"
   },
   {
    "duration": 33,
    "start_time": "2023-06-22T08:51:35.885Z"
   },
   {
    "duration": 20,
    "start_time": "2023-06-22T08:51:35.919Z"
   },
   {
    "duration": 34,
    "start_time": "2023-06-22T08:51:35.941Z"
   },
   {
    "duration": 19,
    "start_time": "2023-06-22T08:51:35.977Z"
   },
   {
    "duration": 26,
    "start_time": "2023-06-22T08:51:35.998Z"
   },
   {
    "duration": 9,
    "start_time": "2023-06-22T08:51:36.025Z"
   },
   {
    "duration": 22,
    "start_time": "2023-06-22T08:51:36.035Z"
   },
   {
    "duration": 30,
    "start_time": "2023-06-22T08:51:36.059Z"
   },
   {
    "duration": 20,
    "start_time": "2023-06-22T08:51:36.091Z"
   },
   {
    "duration": 38,
    "start_time": "2023-06-22T08:51:36.113Z"
   },
   {
    "duration": 16,
    "start_time": "2023-06-22T08:51:36.153Z"
   },
   {
    "duration": 9,
    "start_time": "2023-06-22T08:51:36.171Z"
   },
   {
    "duration": 46,
    "start_time": "2023-06-22T08:51:36.182Z"
   },
   {
    "duration": 40,
    "start_time": "2023-06-22T08:51:36.232Z"
   },
   {
    "duration": 33,
    "start_time": "2023-06-22T08:51:36.274Z"
   },
   {
    "duration": 337,
    "start_time": "2023-06-22T08:51:36.309Z"
   },
   {
    "duration": 33,
    "start_time": "2023-06-22T08:51:36.648Z"
   },
   {
    "duration": 139,
    "start_time": "2023-06-22T08:51:36.683Z"
   },
   {
    "duration": 1,
    "start_time": "2023-06-22T08:51:36.823Z"
   },
   {
    "duration": 0,
    "start_time": "2023-06-22T08:51:36.825Z"
   },
   {
    "duration": 0,
    "start_time": "2023-06-22T08:51:36.826Z"
   },
   {
    "duration": 0,
    "start_time": "2023-06-22T08:51:36.827Z"
   },
   {
    "duration": 0,
    "start_time": "2023-06-22T08:51:36.828Z"
   },
   {
    "duration": 0,
    "start_time": "2023-06-22T08:51:36.829Z"
   },
   {
    "duration": 0,
    "start_time": "2023-06-22T08:51:36.830Z"
   },
   {
    "duration": 0,
    "start_time": "2023-06-22T08:51:36.831Z"
   },
   {
    "duration": 0,
    "start_time": "2023-06-22T08:51:36.832Z"
   },
   {
    "duration": 0,
    "start_time": "2023-06-22T08:51:36.833Z"
   },
   {
    "duration": 0,
    "start_time": "2023-06-22T08:51:36.835Z"
   },
   {
    "duration": 0,
    "start_time": "2023-06-22T08:51:36.836Z"
   },
   {
    "duration": 0,
    "start_time": "2023-06-22T08:51:36.837Z"
   },
   {
    "duration": 0,
    "start_time": "2023-06-22T08:51:36.838Z"
   },
   {
    "duration": 0,
    "start_time": "2023-06-22T08:51:36.839Z"
   },
   {
    "duration": 0,
    "start_time": "2023-06-22T08:51:36.840Z"
   },
   {
    "duration": 0,
    "start_time": "2023-06-22T08:51:36.842Z"
   },
   {
    "duration": 0,
    "start_time": "2023-06-22T08:51:36.843Z"
   },
   {
    "duration": 0,
    "start_time": "2023-06-22T08:51:36.844Z"
   },
   {
    "duration": 0,
    "start_time": "2023-06-22T08:51:36.845Z"
   },
   {
    "duration": 0,
    "start_time": "2023-06-22T08:51:36.846Z"
   },
   {
    "duration": 0,
    "start_time": "2023-06-22T08:51:36.847Z"
   },
   {
    "duration": 0,
    "start_time": "2023-06-22T08:51:36.848Z"
   },
   {
    "duration": 0,
    "start_time": "2023-06-22T08:51:36.849Z"
   },
   {
    "duration": 0,
    "start_time": "2023-06-22T08:51:36.850Z"
   },
   {
    "duration": 0,
    "start_time": "2023-06-22T08:51:36.851Z"
   },
   {
    "duration": 0,
    "start_time": "2023-06-22T08:51:36.852Z"
   },
   {
    "duration": 0,
    "start_time": "2023-06-22T08:51:36.902Z"
   },
   {
    "duration": 0,
    "start_time": "2023-06-22T08:51:36.903Z"
   },
   {
    "duration": 0,
    "start_time": "2023-06-22T08:51:36.904Z"
   },
   {
    "duration": 0,
    "start_time": "2023-06-22T08:51:36.905Z"
   },
   {
    "duration": 0,
    "start_time": "2023-06-22T08:51:36.906Z"
   },
   {
    "duration": 0,
    "start_time": "2023-06-22T08:51:36.907Z"
   },
   {
    "duration": 0,
    "start_time": "2023-06-22T08:51:36.910Z"
   },
   {
    "duration": 0,
    "start_time": "2023-06-22T08:51:36.912Z"
   },
   {
    "duration": 22,
    "start_time": "2023-06-22T09:01:06.960Z"
   },
   {
    "duration": 5,
    "start_time": "2023-06-22T09:01:17.925Z"
   },
   {
    "duration": 14,
    "start_time": "2023-06-22T09:03:34.129Z"
   },
   {
    "duration": 8,
    "start_time": "2023-06-22T09:04:51.701Z"
   },
   {
    "duration": 74,
    "start_time": "2023-06-22T09:23:04.511Z"
   },
   {
    "duration": 368,
    "start_time": "2023-06-22T09:23:19.008Z"
   },
   {
    "duration": 361,
    "start_time": "2023-06-22T09:23:28.115Z"
   },
   {
    "duration": 463,
    "start_time": "2023-06-22T09:23:43.393Z"
   },
   {
    "duration": 341,
    "start_time": "2023-06-22T09:23:47.603Z"
   },
   {
    "duration": 430,
    "start_time": "2023-06-22T09:23:52.118Z"
   },
   {
    "duration": 615,
    "start_time": "2023-06-22T09:24:28.827Z"
   },
   {
    "duration": 289,
    "start_time": "2023-06-22T09:24:53.824Z"
   },
   {
    "duration": 287,
    "start_time": "2023-06-22T09:24:58.694Z"
   },
   {
    "duration": 290,
    "start_time": "2023-06-22T09:25:03.531Z"
   },
   {
    "duration": 360,
    "start_time": "2023-06-22T09:25:13.595Z"
   },
   {
    "duration": 95,
    "start_time": "2023-06-22T09:25:46.332Z"
   },
   {
    "duration": 91,
    "start_time": "2023-06-22T09:25:51.062Z"
   },
   {
    "duration": 106,
    "start_time": "2023-06-22T09:26:01.093Z"
   },
   {
    "duration": 278,
    "start_time": "2023-06-22T09:26:25.073Z"
   },
   {
    "duration": 310,
    "start_time": "2023-06-22T09:26:33.209Z"
   },
   {
    "duration": 320,
    "start_time": "2023-06-22T09:27:22.995Z"
   },
   {
    "duration": 307,
    "start_time": "2023-06-22T09:27:31.697Z"
   },
   {
    "duration": 350,
    "start_time": "2023-06-22T09:28:39.951Z"
   },
   {
    "duration": 639,
    "start_time": "2023-06-22T09:28:57.663Z"
   },
   {
    "duration": 343,
    "start_time": "2023-06-22T09:29:08.008Z"
   },
   {
    "duration": 270,
    "start_time": "2023-06-22T09:29:11.763Z"
   },
   {
    "duration": 112,
    "start_time": "2023-06-22T09:29:51.636Z"
   },
   {
    "duration": 262,
    "start_time": "2023-06-22T09:29:57.406Z"
   },
   {
    "duration": 274,
    "start_time": "2023-06-22T09:31:31.937Z"
   },
   {
    "duration": 278,
    "start_time": "2023-06-22T09:31:39.261Z"
   },
   {
    "duration": 291,
    "start_time": "2023-06-22T09:31:46.700Z"
   },
   {
    "duration": 269,
    "start_time": "2023-06-22T09:31:55.046Z"
   },
   {
    "duration": 255,
    "start_time": "2023-06-22T09:31:58.514Z"
   },
   {
    "duration": 175,
    "start_time": "2023-06-22T09:32:13.799Z"
   },
   {
    "duration": 79,
    "start_time": "2023-06-22T09:32:23.216Z"
   },
   {
    "duration": 78,
    "start_time": "2023-06-22T09:32:28.512Z"
   },
   {
    "duration": 248,
    "start_time": "2023-06-22T09:32:34.631Z"
   },
   {
    "duration": 429,
    "start_time": "2023-06-22T09:33:00.012Z"
   },
   {
    "duration": 1998,
    "start_time": "2023-06-22T09:34:24.537Z"
   },
   {
    "duration": 278,
    "start_time": "2023-06-22T09:34:38.804Z"
   },
   {
    "duration": 297,
    "start_time": "2023-06-22T09:34:52.416Z"
   },
   {
    "duration": 302,
    "start_time": "2023-06-22T09:35:23.620Z"
   },
   {
    "duration": 305,
    "start_time": "2023-06-22T09:35:41.216Z"
   },
   {
    "duration": 299,
    "start_time": "2023-06-22T09:35:46.287Z"
   },
   {
    "duration": 285,
    "start_time": "2023-06-22T09:35:56.514Z"
   },
   {
    "duration": 6,
    "start_time": "2023-06-22T09:39:01.148Z"
   },
   {
    "duration": 14,
    "start_time": "2023-06-22T09:39:05.431Z"
   },
   {
    "duration": 8,
    "start_time": "2023-06-22T09:39:10.116Z"
   },
   {
    "duration": 2277,
    "start_time": "2023-06-22T09:47:28.663Z"
   },
   {
    "duration": 4,
    "start_time": "2023-06-22T09:47:30.942Z"
   },
   {
    "duration": 281,
    "start_time": "2023-06-22T09:47:30.948Z"
   },
   {
    "duration": 78,
    "start_time": "2023-06-22T09:47:31.231Z"
   },
   {
    "duration": 212,
    "start_time": "2023-06-22T09:47:31.311Z"
   },
   {
    "duration": 19197,
    "start_time": "2023-06-22T09:47:31.525Z"
   },
   {
    "duration": 16,
    "start_time": "2023-06-22T09:47:50.723Z"
   },
   {
    "duration": 14,
    "start_time": "2023-06-22T09:47:50.740Z"
   },
   {
    "duration": 47,
    "start_time": "2023-06-22T09:47:50.756Z"
   },
   {
    "duration": 7,
    "start_time": "2023-06-22T09:47:50.807Z"
   },
   {
    "duration": 305,
    "start_time": "2023-06-22T09:47:50.815Z"
   },
   {
    "duration": 9,
    "start_time": "2023-06-22T09:47:51.122Z"
   },
   {
    "duration": 5,
    "start_time": "2023-06-22T09:47:51.132Z"
   },
   {
    "duration": 14,
    "start_time": "2023-06-22T09:47:51.138Z"
   },
   {
    "duration": 149,
    "start_time": "2023-06-22T09:47:51.154Z"
   },
   {
    "duration": 0,
    "start_time": "2023-06-22T09:47:51.307Z"
   },
   {
    "duration": 0,
    "start_time": "2023-06-22T09:47:51.309Z"
   },
   {
    "duration": 0,
    "start_time": "2023-06-22T09:47:51.311Z"
   },
   {
    "duration": 0,
    "start_time": "2023-06-22T09:47:51.312Z"
   },
   {
    "duration": 0,
    "start_time": "2023-06-22T09:47:51.314Z"
   },
   {
    "duration": 0,
    "start_time": "2023-06-22T09:47:51.315Z"
   },
   {
    "duration": 0,
    "start_time": "2023-06-22T09:47:51.316Z"
   },
   {
    "duration": 0,
    "start_time": "2023-06-22T09:47:51.317Z"
   },
   {
    "duration": 0,
    "start_time": "2023-06-22T09:47:51.318Z"
   },
   {
    "duration": 0,
    "start_time": "2023-06-22T09:47:51.319Z"
   },
   {
    "duration": 0,
    "start_time": "2023-06-22T09:47:51.320Z"
   },
   {
    "duration": 1,
    "start_time": "2023-06-22T09:47:51.320Z"
   },
   {
    "duration": 0,
    "start_time": "2023-06-22T09:47:51.322Z"
   },
   {
    "duration": 0,
    "start_time": "2023-06-22T09:47:51.323Z"
   },
   {
    "duration": 0,
    "start_time": "2023-06-22T09:47:51.324Z"
   },
   {
    "duration": 0,
    "start_time": "2023-06-22T09:47:51.325Z"
   },
   {
    "duration": 0,
    "start_time": "2023-06-22T09:47:51.326Z"
   },
   {
    "duration": 0,
    "start_time": "2023-06-22T09:47:51.327Z"
   },
   {
    "duration": 0,
    "start_time": "2023-06-22T09:47:51.328Z"
   },
   {
    "duration": 0,
    "start_time": "2023-06-22T09:47:51.329Z"
   },
   {
    "duration": 0,
    "start_time": "2023-06-22T09:47:51.330Z"
   },
   {
    "duration": 0,
    "start_time": "2023-06-22T09:47:51.331Z"
   },
   {
    "duration": 0,
    "start_time": "2023-06-22T09:47:51.332Z"
   },
   {
    "duration": 0,
    "start_time": "2023-06-22T09:47:51.333Z"
   },
   {
    "duration": 0,
    "start_time": "2023-06-22T09:47:51.334Z"
   },
   {
    "duration": 0,
    "start_time": "2023-06-22T09:47:51.335Z"
   },
   {
    "duration": 0,
    "start_time": "2023-06-22T09:47:51.336Z"
   },
   {
    "duration": 0,
    "start_time": "2023-06-22T09:47:51.337Z"
   },
   {
    "duration": 0,
    "start_time": "2023-06-22T09:47:51.338Z"
   },
   {
    "duration": 0,
    "start_time": "2023-06-22T09:47:51.339Z"
   },
   {
    "duration": 0,
    "start_time": "2023-06-22T09:47:51.340Z"
   },
   {
    "duration": 0,
    "start_time": "2023-06-22T09:47:51.341Z"
   },
   {
    "duration": 0,
    "start_time": "2023-06-22T09:47:51.342Z"
   },
   {
    "duration": 0,
    "start_time": "2023-06-22T09:47:51.343Z"
   },
   {
    "duration": 0,
    "start_time": "2023-06-22T09:47:51.343Z"
   },
   {
    "duration": 0,
    "start_time": "2023-06-22T09:47:51.344Z"
   },
   {
    "duration": 0,
    "start_time": "2023-06-22T09:47:51.402Z"
   },
   {
    "duration": 0,
    "start_time": "2023-06-22T09:47:51.403Z"
   },
   {
    "duration": 0,
    "start_time": "2023-06-22T09:47:51.404Z"
   },
   {
    "duration": 0,
    "start_time": "2023-06-22T09:47:51.405Z"
   },
   {
    "duration": 0,
    "start_time": "2023-06-22T09:47:51.406Z"
   },
   {
    "duration": 0,
    "start_time": "2023-06-22T09:47:51.407Z"
   },
   {
    "duration": 0,
    "start_time": "2023-06-22T09:47:51.408Z"
   },
   {
    "duration": 0,
    "start_time": "2023-06-22T09:47:51.409Z"
   },
   {
    "duration": 0,
    "start_time": "2023-06-22T09:47:51.410Z"
   },
   {
    "duration": 0,
    "start_time": "2023-06-22T09:47:51.411Z"
   },
   {
    "duration": 0,
    "start_time": "2023-06-22T09:47:51.412Z"
   },
   {
    "duration": 0,
    "start_time": "2023-06-22T09:47:51.413Z"
   },
   {
    "duration": 0,
    "start_time": "2023-06-22T09:47:51.414Z"
   },
   {
    "duration": 0,
    "start_time": "2023-06-22T09:47:51.415Z"
   },
   {
    "duration": 0,
    "start_time": "2023-06-22T09:47:51.416Z"
   },
   {
    "duration": 0,
    "start_time": "2023-06-22T09:47:51.418Z"
   },
   {
    "duration": 0,
    "start_time": "2023-06-22T09:47:51.419Z"
   },
   {
    "duration": 0,
    "start_time": "2023-06-22T09:47:51.419Z"
   },
   {
    "duration": 0,
    "start_time": "2023-06-22T09:47:51.421Z"
   },
   {
    "duration": 0,
    "start_time": "2023-06-22T09:47:51.422Z"
   },
   {
    "duration": 0,
    "start_time": "2023-06-22T09:47:51.423Z"
   },
   {
    "duration": 0,
    "start_time": "2023-06-22T09:47:51.425Z"
   },
   {
    "duration": 14,
    "start_time": "2023-06-22T09:48:20.614Z"
   },
   {
    "duration": 14,
    "start_time": "2023-06-22T09:48:26.621Z"
   },
   {
    "duration": 17,
    "start_time": "2023-06-22T09:49:15.505Z"
   },
   {
    "duration": 14,
    "start_time": "2023-06-22T09:49:21.928Z"
   },
   {
    "duration": 15,
    "start_time": "2023-06-22T09:54:24.231Z"
   },
   {
    "duration": 3,
    "start_time": "2023-06-22T09:55:16.870Z"
   },
   {
    "duration": 17,
    "start_time": "2023-06-22T09:55:51.843Z"
   },
   {
    "duration": 25,
    "start_time": "2023-06-22T09:55:52.301Z"
   },
   {
    "duration": 1721,
    "start_time": "2023-06-22T09:56:52.749Z"
   },
   {
    "duration": 0,
    "start_time": "2023-06-22T09:57:01.085Z"
   },
   {
    "duration": 35,
    "start_time": "2023-06-22T09:57:26.043Z"
   },
   {
    "duration": 20,
    "start_time": "2023-06-22T09:58:17.619Z"
   },
   {
    "duration": 14,
    "start_time": "2023-06-22T09:58:24.743Z"
   },
   {
    "duration": 17,
    "start_time": "2023-06-22T09:58:29.760Z"
   },
   {
    "duration": 14,
    "start_time": "2023-06-22T09:58:37.747Z"
   },
   {
    "duration": 18,
    "start_time": "2023-06-22T09:58:50.016Z"
   },
   {
    "duration": 19,
    "start_time": "2023-06-22T09:59:52.700Z"
   },
   {
    "duration": 20,
    "start_time": "2023-06-22T09:59:55.116Z"
   },
   {
    "duration": 15,
    "start_time": "2023-06-22T09:59:57.421Z"
   },
   {
    "duration": 13,
    "start_time": "2023-06-22T10:00:17.819Z"
   },
   {
    "duration": 22,
    "start_time": "2023-06-22T10:00:40.319Z"
   },
   {
    "duration": 19,
    "start_time": "2023-06-22T10:01:28.439Z"
   },
   {
    "duration": 18,
    "start_time": "2023-06-22T10:01:36.351Z"
   },
   {
    "duration": 22,
    "start_time": "2023-06-22T10:01:43.619Z"
   },
   {
    "duration": 6,
    "start_time": "2023-06-22T10:02:12.509Z"
   },
   {
    "duration": 11,
    "start_time": "2023-06-22T10:02:14.303Z"
   },
   {
    "duration": 24,
    "start_time": "2023-06-22T10:02:14.439Z"
   },
   {
    "duration": 29,
    "start_time": "2023-06-22T10:02:53.020Z"
   },
   {
    "duration": 7,
    "start_time": "2023-06-22T10:03:49.528Z"
   },
   {
    "duration": 5,
    "start_time": "2023-06-22T10:03:55.050Z"
   },
   {
    "duration": 284,
    "start_time": "2023-06-22T10:07:58.420Z"
   },
   {
    "duration": 1538,
    "start_time": "2023-06-22T10:08:14.826Z"
   },
   {
    "duration": 4,
    "start_time": "2023-06-22T10:08:16.366Z"
   },
   {
    "duration": 142,
    "start_time": "2023-06-22T10:08:16.372Z"
   },
   {
    "duration": 25,
    "start_time": "2023-06-22T10:08:16.516Z"
   },
   {
    "duration": 108,
    "start_time": "2023-06-22T10:08:16.543Z"
   },
   {
    "duration": 2307,
    "start_time": "2023-06-22T10:08:39.225Z"
   },
   {
    "duration": 5,
    "start_time": "2023-06-22T10:08:41.534Z"
   },
   {
    "duration": 273,
    "start_time": "2023-06-22T10:08:41.540Z"
   },
   {
    "duration": 27,
    "start_time": "2023-06-22T10:08:41.815Z"
   },
   {
    "duration": 147,
    "start_time": "2023-06-22T10:08:41.844Z"
   },
   {
    "duration": 10,
    "start_time": "2023-06-22T10:08:41.993Z"
   },
   {
    "duration": 33,
    "start_time": "2023-06-22T10:08:42.004Z"
   },
   {
    "duration": 9,
    "start_time": "2023-06-22T10:08:42.039Z"
   },
   {
    "duration": 29,
    "start_time": "2023-06-22T10:08:42.049Z"
   },
   {
    "duration": 25,
    "start_time": "2023-06-22T10:08:42.080Z"
   },
   {
    "duration": 304,
    "start_time": "2023-06-22T10:08:42.108Z"
   },
   {
    "duration": 9,
    "start_time": "2023-06-22T10:08:42.414Z"
   },
   {
    "duration": 5,
    "start_time": "2023-06-22T10:08:42.425Z"
   },
   {
    "duration": 13,
    "start_time": "2023-06-22T10:08:42.432Z"
   },
   {
    "duration": 23,
    "start_time": "2023-06-22T10:08:42.446Z"
   },
   {
    "duration": 38,
    "start_time": "2023-06-22T10:08:42.471Z"
   },
   {
    "duration": 4,
    "start_time": "2023-06-22T10:08:42.511Z"
   },
   {
    "duration": 10,
    "start_time": "2023-06-22T10:08:42.516Z"
   },
   {
    "duration": 10,
    "start_time": "2023-06-22T10:08:42.527Z"
   },
   {
    "duration": 25,
    "start_time": "2023-06-22T10:08:42.538Z"
   },
   {
    "duration": 9,
    "start_time": "2023-06-22T10:08:42.565Z"
   },
   {
    "duration": 27,
    "start_time": "2023-06-22T10:08:42.575Z"
   },
   {
    "duration": 16,
    "start_time": "2023-06-22T10:08:42.604Z"
   },
   {
    "duration": 16,
    "start_time": "2023-06-22T10:08:42.621Z"
   },
   {
    "duration": 8,
    "start_time": "2023-06-22T10:08:42.638Z"
   },
   {
    "duration": 21,
    "start_time": "2023-06-22T10:08:42.648Z"
   },
   {
    "duration": 12,
    "start_time": "2023-06-22T10:08:42.670Z"
   },
   {
    "duration": 26,
    "start_time": "2023-06-22T10:08:42.684Z"
   },
   {
    "duration": 8,
    "start_time": "2023-06-22T10:08:42.712Z"
   },
   {
    "duration": 29,
    "start_time": "2023-06-22T10:08:42.722Z"
   },
   {
    "duration": 15,
    "start_time": "2023-06-22T10:08:42.752Z"
   },
   {
    "duration": 16,
    "start_time": "2023-06-22T10:08:42.769Z"
   },
   {
    "duration": 13,
    "start_time": "2023-06-22T10:08:42.787Z"
   },
   {
    "duration": 38,
    "start_time": "2023-06-22T10:08:42.801Z"
   },
   {
    "duration": 67,
    "start_time": "2023-06-22T10:08:42.841Z"
   },
   {
    "duration": 426,
    "start_time": "2023-06-22T10:08:42.911Z"
   },
   {
    "duration": 34,
    "start_time": "2023-06-22T10:08:43.338Z"
   },
   {
    "duration": 129,
    "start_time": "2023-06-22T10:08:43.374Z"
   },
   {
    "duration": 0,
    "start_time": "2023-06-22T10:08:43.507Z"
   },
   {
    "duration": 0,
    "start_time": "2023-06-22T10:08:43.508Z"
   },
   {
    "duration": 0,
    "start_time": "2023-06-22T10:08:43.509Z"
   },
   {
    "duration": 0,
    "start_time": "2023-06-22T10:08:43.510Z"
   },
   {
    "duration": 0,
    "start_time": "2023-06-22T10:08:43.511Z"
   },
   {
    "duration": 0,
    "start_time": "2023-06-22T10:08:43.512Z"
   },
   {
    "duration": 0,
    "start_time": "2023-06-22T10:08:43.513Z"
   },
   {
    "duration": 0,
    "start_time": "2023-06-22T10:08:43.514Z"
   },
   {
    "duration": 0,
    "start_time": "2023-06-22T10:08:43.515Z"
   },
   {
    "duration": 0,
    "start_time": "2023-06-22T10:08:43.516Z"
   },
   {
    "duration": 0,
    "start_time": "2023-06-22T10:08:43.517Z"
   },
   {
    "duration": 0,
    "start_time": "2023-06-22T10:08:43.518Z"
   },
   {
    "duration": 0,
    "start_time": "2023-06-22T10:08:43.519Z"
   },
   {
    "duration": 0,
    "start_time": "2023-06-22T10:08:43.520Z"
   },
   {
    "duration": 0,
    "start_time": "2023-06-22T10:08:43.521Z"
   },
   {
    "duration": 0,
    "start_time": "2023-06-22T10:08:43.522Z"
   },
   {
    "duration": 1,
    "start_time": "2023-06-22T10:08:43.522Z"
   },
   {
    "duration": 0,
    "start_time": "2023-06-22T10:08:43.523Z"
   },
   {
    "duration": 0,
    "start_time": "2023-06-22T10:08:43.524Z"
   },
   {
    "duration": 0,
    "start_time": "2023-06-22T10:08:43.526Z"
   },
   {
    "duration": 0,
    "start_time": "2023-06-22T10:08:43.527Z"
   },
   {
    "duration": 0,
    "start_time": "2023-06-22T10:08:43.528Z"
   },
   {
    "duration": 0,
    "start_time": "2023-06-22T10:08:43.529Z"
   },
   {
    "duration": 0,
    "start_time": "2023-06-22T10:08:43.530Z"
   },
   {
    "duration": 0,
    "start_time": "2023-06-22T10:08:43.531Z"
   },
   {
    "duration": 0,
    "start_time": "2023-06-22T10:08:43.532Z"
   },
   {
    "duration": 0,
    "start_time": "2023-06-22T10:08:43.533Z"
   },
   {
    "duration": 0,
    "start_time": "2023-06-22T10:08:43.534Z"
   },
   {
    "duration": 0,
    "start_time": "2023-06-22T10:08:43.535Z"
   },
   {
    "duration": 0,
    "start_time": "2023-06-22T10:08:43.536Z"
   },
   {
    "duration": 0,
    "start_time": "2023-06-22T10:08:43.537Z"
   },
   {
    "duration": 0,
    "start_time": "2023-06-22T10:08:43.539Z"
   },
   {
    "duration": 0,
    "start_time": "2023-06-22T10:08:43.539Z"
   },
   {
    "duration": 0,
    "start_time": "2023-06-22T10:08:43.541Z"
   },
   {
    "duration": 0,
    "start_time": "2023-06-22T10:08:43.602Z"
   },
   {
    "duration": 1892,
    "start_time": "2023-06-22T10:09:37.232Z"
   },
   {
    "duration": 4,
    "start_time": "2023-06-22T10:09:39.126Z"
   },
   {
    "duration": 271,
    "start_time": "2023-06-22T10:09:39.132Z"
   },
   {
    "duration": 25,
    "start_time": "2023-06-22T10:09:39.405Z"
   },
   {
    "duration": 193,
    "start_time": "2023-06-22T10:09:39.433Z"
   },
   {
    "duration": 3,
    "start_time": "2023-06-22T10:09:39.627Z"
   },
   {
    "duration": 72,
    "start_time": "2023-06-22T10:09:39.632Z"
   },
   {
    "duration": 10,
    "start_time": "2023-06-22T10:09:39.705Z"
   },
   {
    "duration": 33,
    "start_time": "2023-06-22T10:09:39.717Z"
   },
   {
    "duration": 6,
    "start_time": "2023-06-22T10:09:39.752Z"
   },
   {
    "duration": 302,
    "start_time": "2023-06-22T10:09:39.802Z"
   },
   {
    "duration": 9,
    "start_time": "2023-06-22T10:09:40.105Z"
   },
   {
    "duration": 7,
    "start_time": "2023-06-22T10:09:40.116Z"
   },
   {
    "duration": 12,
    "start_time": "2023-06-22T10:09:40.126Z"
   },
   {
    "duration": 26,
    "start_time": "2023-06-22T10:09:40.140Z"
   },
   {
    "duration": 34,
    "start_time": "2023-06-22T10:09:40.168Z"
   },
   {
    "duration": 5,
    "start_time": "2023-06-22T10:09:40.204Z"
   },
   {
    "duration": 8,
    "start_time": "2023-06-22T10:09:40.210Z"
   },
   {
    "duration": 21,
    "start_time": "2023-06-22T10:09:40.219Z"
   },
   {
    "duration": 23,
    "start_time": "2023-06-22T10:09:40.242Z"
   },
   {
    "duration": 6,
    "start_time": "2023-06-22T10:09:40.266Z"
   },
   {
    "duration": 9,
    "start_time": "2023-06-22T10:09:40.274Z"
   },
   {
    "duration": 33,
    "start_time": "2023-06-22T10:09:40.285Z"
   },
   {
    "duration": 10,
    "start_time": "2023-06-22T10:09:40.320Z"
   },
   {
    "duration": 27,
    "start_time": "2023-06-22T10:09:40.332Z"
   },
   {
    "duration": 35,
    "start_time": "2023-06-22T10:09:40.362Z"
   },
   {
    "duration": 31,
    "start_time": "2023-06-22T10:09:40.400Z"
   },
   {
    "duration": 42,
    "start_time": "2023-06-22T10:09:40.434Z"
   },
   {
    "duration": 6,
    "start_time": "2023-06-22T10:09:40.478Z"
   },
   {
    "duration": 14,
    "start_time": "2023-06-22T10:09:40.486Z"
   },
   {
    "duration": 14,
    "start_time": "2023-06-22T10:09:40.503Z"
   },
   {
    "duration": 15,
    "start_time": "2023-06-22T10:09:40.519Z"
   },
   {
    "duration": 27,
    "start_time": "2023-06-22T10:09:40.536Z"
   },
   {
    "duration": 45,
    "start_time": "2023-06-22T10:09:40.565Z"
   },
   {
    "duration": 95,
    "start_time": "2023-06-22T10:09:40.613Z"
   },
   {
    "duration": 337,
    "start_time": "2023-06-22T10:09:40.801Z"
   },
   {
    "duration": 40,
    "start_time": "2023-06-22T10:09:41.139Z"
   },
   {
    "duration": 135,
    "start_time": "2023-06-22T10:09:41.180Z"
   },
   {
    "duration": 0,
    "start_time": "2023-06-22T10:09:41.318Z"
   },
   {
    "duration": 0,
    "start_time": "2023-06-22T10:09:41.319Z"
   },
   {
    "duration": 0,
    "start_time": "2023-06-22T10:09:41.320Z"
   },
   {
    "duration": 0,
    "start_time": "2023-06-22T10:09:41.322Z"
   },
   {
    "duration": 0,
    "start_time": "2023-06-22T10:09:41.322Z"
   },
   {
    "duration": 0,
    "start_time": "2023-06-22T10:09:41.323Z"
   },
   {
    "duration": 0,
    "start_time": "2023-06-22T10:09:41.324Z"
   },
   {
    "duration": 0,
    "start_time": "2023-06-22T10:09:41.326Z"
   },
   {
    "duration": 0,
    "start_time": "2023-06-22T10:09:41.327Z"
   },
   {
    "duration": 0,
    "start_time": "2023-06-22T10:09:41.328Z"
   },
   {
    "duration": 0,
    "start_time": "2023-06-22T10:09:41.330Z"
   },
   {
    "duration": 0,
    "start_time": "2023-06-22T10:09:41.331Z"
   },
   {
    "duration": 0,
    "start_time": "2023-06-22T10:09:41.332Z"
   },
   {
    "duration": 0,
    "start_time": "2023-06-22T10:09:41.333Z"
   },
   {
    "duration": 0,
    "start_time": "2023-06-22T10:09:41.334Z"
   },
   {
    "duration": 0,
    "start_time": "2023-06-22T10:09:41.335Z"
   },
   {
    "duration": 0,
    "start_time": "2023-06-22T10:09:41.336Z"
   },
   {
    "duration": 0,
    "start_time": "2023-06-22T10:09:41.337Z"
   },
   {
    "duration": 0,
    "start_time": "2023-06-22T10:09:41.339Z"
   },
   {
    "duration": 0,
    "start_time": "2023-06-22T10:09:41.340Z"
   },
   {
    "duration": 0,
    "start_time": "2023-06-22T10:09:41.341Z"
   },
   {
    "duration": 0,
    "start_time": "2023-06-22T10:09:41.342Z"
   },
   {
    "duration": 0,
    "start_time": "2023-06-22T10:09:41.343Z"
   },
   {
    "duration": 0,
    "start_time": "2023-06-22T10:09:41.344Z"
   },
   {
    "duration": 0,
    "start_time": "2023-06-22T10:09:41.345Z"
   },
   {
    "duration": 0,
    "start_time": "2023-06-22T10:09:41.346Z"
   },
   {
    "duration": 0,
    "start_time": "2023-06-22T10:09:41.347Z"
   },
   {
    "duration": 0,
    "start_time": "2023-06-22T10:09:41.349Z"
   },
   {
    "duration": 0,
    "start_time": "2023-06-22T10:09:41.350Z"
   },
   {
    "duration": 0,
    "start_time": "2023-06-22T10:09:41.401Z"
   },
   {
    "duration": 0,
    "start_time": "2023-06-22T10:09:41.402Z"
   },
   {
    "duration": 0,
    "start_time": "2023-06-22T10:09:41.404Z"
   },
   {
    "duration": 0,
    "start_time": "2023-06-22T10:09:41.405Z"
   },
   {
    "duration": 0,
    "start_time": "2023-06-22T10:09:41.406Z"
   },
   {
    "duration": 0,
    "start_time": "2023-06-22T10:09:41.407Z"
   },
   {
    "duration": 22,
    "start_time": "2023-06-22T10:10:37.033Z"
   },
   {
    "duration": 27,
    "start_time": "2023-06-22T10:15:34.708Z"
   },
   {
    "duration": 25,
    "start_time": "2023-06-22T10:16:23.718Z"
   },
   {
    "duration": 275,
    "start_time": "2023-06-22T10:18:43.366Z"
   },
   {
    "duration": 267,
    "start_time": "2023-06-22T10:19:54.643Z"
   },
   {
    "duration": 1497,
    "start_time": "2023-06-22T10:19:59.120Z"
   },
   {
    "duration": 4,
    "start_time": "2023-06-22T10:20:00.620Z"
   },
   {
    "duration": 162,
    "start_time": "2023-06-22T10:20:00.626Z"
   },
   {
    "duration": 25,
    "start_time": "2023-06-22T10:20:00.802Z"
   },
   {
    "duration": 106,
    "start_time": "2023-06-22T10:20:00.829Z"
   },
   {
    "duration": 3,
    "start_time": "2023-06-22T10:20:00.938Z"
   },
   {
    "duration": 67,
    "start_time": "2023-06-22T10:20:00.943Z"
   },
   {
    "duration": 50,
    "start_time": "2023-06-22T10:20:01.012Z"
   },
   {
    "duration": 213,
    "start_time": "2023-06-22T10:20:01.063Z"
   },
   {
    "duration": 513,
    "start_time": "2023-06-22T10:20:01.277Z"
   },
   {
    "duration": 783,
    "start_time": "2023-06-22T10:20:01.792Z"
   },
   {
    "duration": 9,
    "start_time": "2023-06-22T10:20:02.578Z"
   },
   {
    "duration": 37,
    "start_time": "2023-06-22T10:20:02.589Z"
   },
   {
    "duration": 58,
    "start_time": "2023-06-22T10:20:02.630Z"
   },
   {
    "duration": 56,
    "start_time": "2023-06-22T10:20:02.690Z"
   },
   {
    "duration": 37,
    "start_time": "2023-06-22T10:20:02.748Z"
   },
   {
    "duration": 29,
    "start_time": "2023-06-22T10:20:02.787Z"
   },
   {
    "duration": 34,
    "start_time": "2023-06-22T10:20:02.818Z"
   },
   {
    "duration": 37,
    "start_time": "2023-06-22T10:20:02.854Z"
   },
   {
    "duration": 83,
    "start_time": "2023-06-22T10:20:02.893Z"
   },
   {
    "duration": 51,
    "start_time": "2023-06-22T10:20:02.977Z"
   },
   {
    "duration": 58,
    "start_time": "2023-06-22T10:20:03.029Z"
   },
   {
    "duration": 48,
    "start_time": "2023-06-22T10:20:03.089Z"
   },
   {
    "duration": 40,
    "start_time": "2023-06-22T10:20:03.139Z"
   },
   {
    "duration": 67,
    "start_time": "2023-06-22T10:20:03.181Z"
   },
   {
    "duration": 35,
    "start_time": "2023-06-22T10:20:03.250Z"
   },
   {
    "duration": 51,
    "start_time": "2023-06-22T10:20:03.287Z"
   },
   {
    "duration": 117,
    "start_time": "2023-06-22T10:20:03.340Z"
   },
   {
    "duration": 46,
    "start_time": "2023-06-22T10:20:03.458Z"
   },
   {
    "duration": 51,
    "start_time": "2023-06-22T10:20:03.505Z"
   },
   {
    "duration": 60,
    "start_time": "2023-06-22T10:20:03.557Z"
   },
   {
    "duration": 44,
    "start_time": "2023-06-22T10:20:03.619Z"
   },
   {
    "duration": 59,
    "start_time": "2023-06-22T10:20:03.664Z"
   },
   {
    "duration": 68,
    "start_time": "2023-06-22T10:20:03.725Z"
   },
   {
    "duration": 33,
    "start_time": "2023-06-22T10:20:03.795Z"
   },
   {
    "duration": 490,
    "start_time": "2023-06-22T10:20:03.830Z"
   },
   {
    "duration": 33,
    "start_time": "2023-06-22T10:20:04.322Z"
   },
   {
    "duration": 129,
    "start_time": "2023-06-22T10:20:04.357Z"
   },
   {
    "duration": 0,
    "start_time": "2023-06-22T10:20:04.489Z"
   },
   {
    "duration": 0,
    "start_time": "2023-06-22T10:20:04.491Z"
   },
   {
    "duration": 0,
    "start_time": "2023-06-22T10:20:04.492Z"
   },
   {
    "duration": 0,
    "start_time": "2023-06-22T10:20:04.493Z"
   },
   {
    "duration": 0,
    "start_time": "2023-06-22T10:20:04.494Z"
   },
   {
    "duration": 0,
    "start_time": "2023-06-22T10:20:04.502Z"
   },
   {
    "duration": 0,
    "start_time": "2023-06-22T10:20:04.503Z"
   },
   {
    "duration": 0,
    "start_time": "2023-06-22T10:20:04.504Z"
   },
   {
    "duration": 0,
    "start_time": "2023-06-22T10:20:04.505Z"
   },
   {
    "duration": 0,
    "start_time": "2023-06-22T10:20:04.506Z"
   },
   {
    "duration": 0,
    "start_time": "2023-06-22T10:20:04.507Z"
   },
   {
    "duration": 0,
    "start_time": "2023-06-22T10:20:04.508Z"
   },
   {
    "duration": 0,
    "start_time": "2023-06-22T10:20:04.509Z"
   },
   {
    "duration": 0,
    "start_time": "2023-06-22T10:20:04.510Z"
   },
   {
    "duration": 0,
    "start_time": "2023-06-22T10:20:04.511Z"
   },
   {
    "duration": 0,
    "start_time": "2023-06-22T10:20:04.512Z"
   },
   {
    "duration": 0,
    "start_time": "2023-06-22T10:20:04.513Z"
   },
   {
    "duration": 0,
    "start_time": "2023-06-22T10:20:04.514Z"
   },
   {
    "duration": 0,
    "start_time": "2023-06-22T10:20:04.515Z"
   },
   {
    "duration": 0,
    "start_time": "2023-06-22T10:20:04.516Z"
   },
   {
    "duration": 0,
    "start_time": "2023-06-22T10:20:04.517Z"
   },
   {
    "duration": 0,
    "start_time": "2023-06-22T10:20:04.518Z"
   },
   {
    "duration": 0,
    "start_time": "2023-06-22T10:20:04.519Z"
   },
   {
    "duration": 0,
    "start_time": "2023-06-22T10:20:04.520Z"
   },
   {
    "duration": 0,
    "start_time": "2023-06-22T10:20:04.522Z"
   },
   {
    "duration": 0,
    "start_time": "2023-06-22T10:20:04.523Z"
   },
   {
    "duration": 0,
    "start_time": "2023-06-22T10:20:04.524Z"
   },
   {
    "duration": 0,
    "start_time": "2023-06-22T10:20:04.525Z"
   },
   {
    "duration": 0,
    "start_time": "2023-06-22T10:20:04.526Z"
   },
   {
    "duration": 0,
    "start_time": "2023-06-22T10:20:04.528Z"
   },
   {
    "duration": 0,
    "start_time": "2023-06-22T10:20:04.529Z"
   },
   {
    "duration": 0,
    "start_time": "2023-06-22T10:20:04.530Z"
   },
   {
    "duration": 0,
    "start_time": "2023-06-22T10:20:04.531Z"
   },
   {
    "duration": 0,
    "start_time": "2023-06-22T10:20:04.531Z"
   },
   {
    "duration": 0,
    "start_time": "2023-06-22T10:20:04.533Z"
   },
   {
    "duration": 1815,
    "start_time": "2023-06-22T10:23:02.518Z"
   },
   {
    "duration": 3,
    "start_time": "2023-06-22T10:23:04.336Z"
   },
   {
    "duration": 132,
    "start_time": "2023-06-22T10:23:04.341Z"
   },
   {
    "duration": 46,
    "start_time": "2023-06-22T10:23:04.475Z"
   },
   {
    "duration": 107,
    "start_time": "2023-06-22T10:23:04.524Z"
   },
   {
    "duration": 3,
    "start_time": "2023-06-22T10:23:04.633Z"
   },
   {
    "duration": 21,
    "start_time": "2023-06-22T10:23:04.638Z"
   },
   {
    "duration": 6,
    "start_time": "2023-06-22T10:23:04.661Z"
   },
   {
    "duration": 36,
    "start_time": "2023-06-22T10:23:04.669Z"
   },
   {
    "duration": 6,
    "start_time": "2023-06-22T10:23:04.707Z"
   },
   {
    "duration": 294,
    "start_time": "2023-06-22T10:23:04.714Z"
   },
   {
    "duration": 9,
    "start_time": "2023-06-22T10:23:05.009Z"
   },
   {
    "duration": 4,
    "start_time": "2023-06-22T10:23:05.020Z"
   },
   {
    "duration": 9,
    "start_time": "2023-06-22T10:23:05.027Z"
   },
   {
    "duration": 23,
    "start_time": "2023-06-22T10:23:05.037Z"
   },
   {
    "duration": 45,
    "start_time": "2023-06-22T10:23:05.062Z"
   },
   {
    "duration": 5,
    "start_time": "2023-06-22T10:23:05.109Z"
   },
   {
    "duration": 369,
    "start_time": "2023-06-22T10:23:05.115Z"
   },
   {
    "duration": 5,
    "start_time": "2023-06-22T10:23:05.486Z"
   },
   {
    "duration": 5,
    "start_time": "2023-06-22T10:23:05.501Z"
   },
   {
    "duration": 37,
    "start_time": "2023-06-22T10:23:05.508Z"
   },
   {
    "duration": 12,
    "start_time": "2023-06-22T10:23:05.547Z"
   },
   {
    "duration": 12,
    "start_time": "2023-06-22T10:23:05.561Z"
   },
   {
    "duration": 25,
    "start_time": "2023-06-22T10:23:05.575Z"
   },
   {
    "duration": 14,
    "start_time": "2023-06-22T10:23:05.601Z"
   },
   {
    "duration": 6,
    "start_time": "2023-06-22T10:23:05.617Z"
   },
   {
    "duration": 14,
    "start_time": "2023-06-22T10:23:05.624Z"
   },
   {
    "duration": 13,
    "start_time": "2023-06-22T10:23:05.640Z"
   },
   {
    "duration": 22,
    "start_time": "2023-06-22T10:23:05.655Z"
   },
   {
    "duration": 5,
    "start_time": "2023-06-22T10:23:05.678Z"
   },
   {
    "duration": 27,
    "start_time": "2023-06-22T10:23:05.685Z"
   },
   {
    "duration": 4,
    "start_time": "2023-06-22T10:23:05.714Z"
   },
   {
    "duration": 31,
    "start_time": "2023-06-22T10:23:05.719Z"
   },
   {
    "duration": 16,
    "start_time": "2023-06-22T10:23:05.752Z"
   },
   {
    "duration": 40,
    "start_time": "2023-06-22T10:23:05.770Z"
   },
   {
    "duration": 14,
    "start_time": "2023-06-22T10:23:05.812Z"
   },
   {
    "duration": 386,
    "start_time": "2023-06-22T10:23:05.828Z"
   },
   {
    "duration": 35,
    "start_time": "2023-06-22T10:23:06.216Z"
   },
   {
    "duration": 132,
    "start_time": "2023-06-22T10:23:06.252Z"
   },
   {
    "duration": 0,
    "start_time": "2023-06-22T10:23:06.387Z"
   },
   {
    "duration": 0,
    "start_time": "2023-06-22T10:23:06.388Z"
   },
   {
    "duration": 0,
    "start_time": "2023-06-22T10:23:06.401Z"
   },
   {
    "duration": 0,
    "start_time": "2023-06-22T10:23:06.402Z"
   },
   {
    "duration": 0,
    "start_time": "2023-06-22T10:23:06.404Z"
   },
   {
    "duration": 0,
    "start_time": "2023-06-22T10:23:06.405Z"
   },
   {
    "duration": 0,
    "start_time": "2023-06-22T10:23:06.406Z"
   },
   {
    "duration": 0,
    "start_time": "2023-06-22T10:23:06.407Z"
   },
   {
    "duration": 0,
    "start_time": "2023-06-22T10:23:06.408Z"
   },
   {
    "duration": 0,
    "start_time": "2023-06-22T10:23:06.409Z"
   },
   {
    "duration": 0,
    "start_time": "2023-06-22T10:23:06.410Z"
   },
   {
    "duration": 0,
    "start_time": "2023-06-22T10:23:06.411Z"
   },
   {
    "duration": 0,
    "start_time": "2023-06-22T10:23:06.412Z"
   },
   {
    "duration": 0,
    "start_time": "2023-06-22T10:23:06.413Z"
   },
   {
    "duration": 0,
    "start_time": "2023-06-22T10:23:06.414Z"
   },
   {
    "duration": 0,
    "start_time": "2023-06-22T10:23:06.415Z"
   },
   {
    "duration": 0,
    "start_time": "2023-06-22T10:23:06.416Z"
   },
   {
    "duration": 0,
    "start_time": "2023-06-22T10:23:06.417Z"
   },
   {
    "duration": 0,
    "start_time": "2023-06-22T10:23:06.418Z"
   },
   {
    "duration": 0,
    "start_time": "2023-06-22T10:23:06.420Z"
   },
   {
    "duration": 0,
    "start_time": "2023-06-22T10:23:06.421Z"
   },
   {
    "duration": 0,
    "start_time": "2023-06-22T10:23:06.422Z"
   },
   {
    "duration": 0,
    "start_time": "2023-06-22T10:23:06.423Z"
   },
   {
    "duration": 0,
    "start_time": "2023-06-22T10:23:06.423Z"
   },
   {
    "duration": 0,
    "start_time": "2023-06-22T10:23:06.424Z"
   },
   {
    "duration": 0,
    "start_time": "2023-06-22T10:23:06.426Z"
   },
   {
    "duration": 0,
    "start_time": "2023-06-22T10:23:06.426Z"
   },
   {
    "duration": 0,
    "start_time": "2023-06-22T10:23:06.427Z"
   },
   {
    "duration": 0,
    "start_time": "2023-06-22T10:23:06.428Z"
   },
   {
    "duration": 0,
    "start_time": "2023-06-22T10:23:06.429Z"
   },
   {
    "duration": 0,
    "start_time": "2023-06-22T10:23:06.430Z"
   },
   {
    "duration": 0,
    "start_time": "2023-06-22T10:23:06.431Z"
   },
   {
    "duration": 0,
    "start_time": "2023-06-22T10:23:06.432Z"
   },
   {
    "duration": 0,
    "start_time": "2023-06-22T10:23:06.433Z"
   },
   {
    "duration": 0,
    "start_time": "2023-06-22T10:23:06.435Z"
   },
   {
    "duration": 1735,
    "start_time": "2023-06-22T10:57:52.235Z"
   },
   {
    "duration": 5,
    "start_time": "2023-06-22T10:57:53.973Z"
   },
   {
    "duration": 179,
    "start_time": "2023-06-22T10:57:53.979Z"
   },
   {
    "duration": 47,
    "start_time": "2023-06-22T10:57:54.161Z"
   },
   {
    "duration": 119,
    "start_time": "2023-06-22T10:57:54.211Z"
   },
   {
    "duration": 3,
    "start_time": "2023-06-22T10:57:54.332Z"
   },
   {
    "duration": 19,
    "start_time": "2023-06-22T10:57:54.339Z"
   },
   {
    "duration": 11,
    "start_time": "2023-06-22T10:57:54.361Z"
   },
   {
    "duration": 34,
    "start_time": "2023-06-22T10:57:54.374Z"
   },
   {
    "duration": 8,
    "start_time": "2023-06-22T10:57:54.412Z"
   },
   {
    "duration": 307,
    "start_time": "2023-06-22T10:57:54.423Z"
   },
   {
    "duration": 10,
    "start_time": "2023-06-22T10:57:54.733Z"
   },
   {
    "duration": 15,
    "start_time": "2023-06-22T10:57:54.746Z"
   },
   {
    "duration": 17,
    "start_time": "2023-06-22T10:57:54.764Z"
   },
   {
    "duration": 146,
    "start_time": "2023-06-22T10:57:54.784Z"
   },
   {
    "duration": 0,
    "start_time": "2023-06-22T10:57:54.934Z"
   },
   {
    "duration": 0,
    "start_time": "2023-06-22T10:57:54.936Z"
   },
   {
    "duration": 0,
    "start_time": "2023-06-22T10:57:54.937Z"
   },
   {
    "duration": 0,
    "start_time": "2023-06-22T10:57:54.939Z"
   },
   {
    "duration": 0,
    "start_time": "2023-06-22T10:57:54.940Z"
   },
   {
    "duration": 0,
    "start_time": "2023-06-22T10:57:54.941Z"
   },
   {
    "duration": 0,
    "start_time": "2023-06-22T10:57:54.942Z"
   },
   {
    "duration": 0,
    "start_time": "2023-06-22T10:57:54.943Z"
   },
   {
    "duration": 0,
    "start_time": "2023-06-22T10:57:54.944Z"
   },
   {
    "duration": 0,
    "start_time": "2023-06-22T10:57:54.945Z"
   },
   {
    "duration": 0,
    "start_time": "2023-06-22T10:57:54.946Z"
   },
   {
    "duration": 0,
    "start_time": "2023-06-22T10:57:54.947Z"
   },
   {
    "duration": 0,
    "start_time": "2023-06-22T10:57:54.948Z"
   },
   {
    "duration": 0,
    "start_time": "2023-06-22T10:57:54.949Z"
   },
   {
    "duration": 0,
    "start_time": "2023-06-22T10:57:54.950Z"
   },
   {
    "duration": 0,
    "start_time": "2023-06-22T10:57:54.951Z"
   },
   {
    "duration": 0,
    "start_time": "2023-06-22T10:57:54.952Z"
   },
   {
    "duration": 0,
    "start_time": "2023-06-22T10:57:54.953Z"
   },
   {
    "duration": 0,
    "start_time": "2023-06-22T10:57:54.955Z"
   },
   {
    "duration": 0,
    "start_time": "2023-06-22T10:57:54.957Z"
   },
   {
    "duration": 0,
    "start_time": "2023-06-22T10:57:54.958Z"
   },
   {
    "duration": 0,
    "start_time": "2023-06-22T10:57:55.002Z"
   },
   {
    "duration": 0,
    "start_time": "2023-06-22T10:57:55.004Z"
   },
   {
    "duration": 0,
    "start_time": "2023-06-22T10:57:55.006Z"
   },
   {
    "duration": 0,
    "start_time": "2023-06-22T10:57:55.008Z"
   },
   {
    "duration": 0,
    "start_time": "2023-06-22T10:57:55.009Z"
   },
   {
    "duration": 0,
    "start_time": "2023-06-22T10:57:55.011Z"
   },
   {
    "duration": 0,
    "start_time": "2023-06-22T10:57:55.012Z"
   },
   {
    "duration": 0,
    "start_time": "2023-06-22T10:57:55.014Z"
   },
   {
    "duration": 0,
    "start_time": "2023-06-22T10:57:55.015Z"
   },
   {
    "duration": 0,
    "start_time": "2023-06-22T10:57:55.017Z"
   },
   {
    "duration": 0,
    "start_time": "2023-06-22T10:57:55.019Z"
   },
   {
    "duration": 0,
    "start_time": "2023-06-22T10:57:55.021Z"
   },
   {
    "duration": 0,
    "start_time": "2023-06-22T10:57:55.022Z"
   },
   {
    "duration": 0,
    "start_time": "2023-06-22T10:57:55.023Z"
   },
   {
    "duration": 0,
    "start_time": "2023-06-22T10:57:55.024Z"
   },
   {
    "duration": 0,
    "start_time": "2023-06-22T10:57:55.027Z"
   },
   {
    "duration": 0,
    "start_time": "2023-06-22T10:57:55.028Z"
   },
   {
    "duration": 0,
    "start_time": "2023-06-22T10:57:55.030Z"
   },
   {
    "duration": 0,
    "start_time": "2023-06-22T10:57:55.032Z"
   },
   {
    "duration": 0,
    "start_time": "2023-06-22T10:57:55.033Z"
   },
   {
    "duration": 0,
    "start_time": "2023-06-22T10:57:55.035Z"
   },
   {
    "duration": 0,
    "start_time": "2023-06-22T10:57:55.036Z"
   },
   {
    "duration": 0,
    "start_time": "2023-06-22T10:57:55.038Z"
   },
   {
    "duration": 0,
    "start_time": "2023-06-22T10:57:55.039Z"
   },
   {
    "duration": 60,
    "start_time": "2023-06-22T10:57:55.041Z"
   },
   {
    "duration": 0,
    "start_time": "2023-06-22T10:57:55.103Z"
   },
   {
    "duration": 0,
    "start_time": "2023-06-22T10:57:55.105Z"
   },
   {
    "duration": 0,
    "start_time": "2023-06-22T10:57:55.106Z"
   },
   {
    "duration": 0,
    "start_time": "2023-06-22T10:57:55.107Z"
   },
   {
    "duration": 0,
    "start_time": "2023-06-22T10:57:55.109Z"
   },
   {
    "duration": 0,
    "start_time": "2023-06-22T10:57:55.110Z"
   },
   {
    "duration": 0,
    "start_time": "2023-06-22T10:57:55.111Z"
   },
   {
    "duration": 0,
    "start_time": "2023-06-22T10:57:55.112Z"
   },
   {
    "duration": 0,
    "start_time": "2023-06-22T10:57:55.113Z"
   },
   {
    "duration": 0,
    "start_time": "2023-06-22T10:57:55.114Z"
   },
   {
    "duration": 0,
    "start_time": "2023-06-22T10:57:55.115Z"
   },
   {
    "duration": 0,
    "start_time": "2023-06-22T10:57:55.117Z"
   },
   {
    "duration": 0,
    "start_time": "2023-06-22T10:57:55.118Z"
   },
   {
    "duration": 0,
    "start_time": "2023-06-22T10:57:55.120Z"
   },
   {
    "duration": 0,
    "start_time": "2023-06-22T10:57:55.122Z"
   },
   {
    "duration": 2142,
    "start_time": "2023-06-22T11:00:04.713Z"
   },
   {
    "duration": 5,
    "start_time": "2023-06-22T11:00:06.858Z"
   },
   {
    "duration": 181,
    "start_time": "2023-06-22T11:00:06.865Z"
   },
   {
    "duration": 64,
    "start_time": "2023-06-22T11:00:07.049Z"
   },
   {
    "duration": 142,
    "start_time": "2023-06-22T11:00:07.117Z"
   },
   {
    "duration": 4,
    "start_time": "2023-06-22T11:00:07.261Z"
   },
   {
    "duration": 72,
    "start_time": "2023-06-22T11:00:07.268Z"
   },
   {
    "duration": 17,
    "start_time": "2023-06-22T11:00:07.342Z"
   },
   {
    "duration": 44,
    "start_time": "2023-06-22T11:00:07.362Z"
   },
   {
    "duration": 8,
    "start_time": "2023-06-22T11:00:07.408Z"
   },
   {
    "duration": 340,
    "start_time": "2023-06-22T11:00:07.419Z"
   },
   {
    "duration": 4,
    "start_time": "2023-06-22T11:00:07.762Z"
   },
   {
    "duration": 45,
    "start_time": "2023-06-22T11:00:07.768Z"
   },
   {
    "duration": 6,
    "start_time": "2023-06-22T11:00:07.819Z"
   },
   {
    "duration": 33,
    "start_time": "2023-06-22T11:00:07.827Z"
   },
   {
    "duration": 42,
    "start_time": "2023-06-22T11:00:07.862Z"
   },
   {
    "duration": 28,
    "start_time": "2023-06-22T11:00:07.906Z"
   },
   {
    "duration": 11,
    "start_time": "2023-06-22T11:00:07.937Z"
   },
   {
    "duration": 466,
    "start_time": "2023-06-22T11:00:07.951Z"
   },
   {
    "duration": 6,
    "start_time": "2023-06-22T11:00:08.420Z"
   },
   {
    "duration": 50,
    "start_time": "2023-06-22T11:00:08.430Z"
   },
   {
    "duration": 50,
    "start_time": "2023-06-22T11:00:08.482Z"
   },
   {
    "duration": 17,
    "start_time": "2023-06-22T11:00:08.534Z"
   },
   {
    "duration": 55,
    "start_time": "2023-06-22T11:00:08.554Z"
   },
   {
    "duration": 7,
    "start_time": "2023-06-22T11:00:08.612Z"
   },
   {
    "duration": 31,
    "start_time": "2023-06-22T11:00:08.622Z"
   },
   {
    "duration": 30,
    "start_time": "2023-06-22T11:00:08.656Z"
   },
   {
    "duration": 13,
    "start_time": "2023-06-22T11:00:08.689Z"
   },
   {
    "duration": 18,
    "start_time": "2023-06-22T11:00:08.705Z"
   },
   {
    "duration": 20,
    "start_time": "2023-06-22T11:00:08.726Z"
   },
   {
    "duration": 24,
    "start_time": "2023-06-22T11:00:08.748Z"
   },
   {
    "duration": 52,
    "start_time": "2023-06-22T11:00:08.775Z"
   },
   {
    "duration": 6,
    "start_time": "2023-06-22T11:00:08.829Z"
   },
   {
    "duration": 16,
    "start_time": "2023-06-22T11:00:08.837Z"
   },
   {
    "duration": 15,
    "start_time": "2023-06-22T11:00:08.855Z"
   },
   {
    "duration": 20,
    "start_time": "2023-06-22T11:00:08.872Z"
   },
   {
    "duration": 33,
    "start_time": "2023-06-22T11:00:08.895Z"
   },
   {
    "duration": 71,
    "start_time": "2023-06-22T11:00:08.930Z"
   },
   {
    "duration": 205,
    "start_time": "2023-06-22T11:00:09.003Z"
   },
   {
    "duration": 361,
    "start_time": "2023-06-22T11:00:09.212Z"
   },
   {
    "duration": 49,
    "start_time": "2023-06-22T11:00:09.580Z"
   },
   {
    "duration": 234,
    "start_time": "2023-06-22T11:00:09.632Z"
   },
   {
    "duration": 0,
    "start_time": "2023-06-22T11:00:09.869Z"
   },
   {
    "duration": 0,
    "start_time": "2023-06-22T11:00:09.871Z"
   },
   {
    "duration": 0,
    "start_time": "2023-06-22T11:00:09.873Z"
   },
   {
    "duration": 0,
    "start_time": "2023-06-22T11:00:09.875Z"
   },
   {
    "duration": 0,
    "start_time": "2023-06-22T11:00:09.876Z"
   },
   {
    "duration": 0,
    "start_time": "2023-06-22T11:00:09.878Z"
   },
   {
    "duration": 1,
    "start_time": "2023-06-22T11:00:09.878Z"
   },
   {
    "duration": 0,
    "start_time": "2023-06-22T11:00:09.880Z"
   },
   {
    "duration": 0,
    "start_time": "2023-06-22T11:00:09.902Z"
   },
   {
    "duration": 0,
    "start_time": "2023-06-22T11:00:09.903Z"
   },
   {
    "duration": 0,
    "start_time": "2023-06-22T11:00:09.906Z"
   },
   {
    "duration": 0,
    "start_time": "2023-06-22T11:00:09.908Z"
   },
   {
    "duration": 0,
    "start_time": "2023-06-22T11:00:09.908Z"
   },
   {
    "duration": 0,
    "start_time": "2023-06-22T11:00:09.910Z"
   },
   {
    "duration": 0,
    "start_time": "2023-06-22T11:00:09.911Z"
   },
   {
    "duration": 0,
    "start_time": "2023-06-22T11:00:09.912Z"
   },
   {
    "duration": 0,
    "start_time": "2023-06-22T11:00:09.912Z"
   },
   {
    "duration": 0,
    "start_time": "2023-06-22T11:00:09.914Z"
   },
   {
    "duration": 0,
    "start_time": "2023-06-22T11:00:09.915Z"
   },
   {
    "duration": 0,
    "start_time": "2023-06-22T11:00:09.916Z"
   },
   {
    "duration": 0,
    "start_time": "2023-06-22T11:00:09.917Z"
   },
   {
    "duration": 0,
    "start_time": "2023-06-22T11:00:09.919Z"
   },
   {
    "duration": 0,
    "start_time": "2023-06-22T11:00:09.920Z"
   },
   {
    "duration": 0,
    "start_time": "2023-06-22T11:00:09.922Z"
   },
   {
    "duration": 0,
    "start_time": "2023-06-22T11:00:09.923Z"
   },
   {
    "duration": 0,
    "start_time": "2023-06-22T11:00:09.924Z"
   },
   {
    "duration": 0,
    "start_time": "2023-06-22T11:00:09.925Z"
   },
   {
    "duration": 0,
    "start_time": "2023-06-22T11:00:09.926Z"
   },
   {
    "duration": 0,
    "start_time": "2023-06-22T11:00:09.927Z"
   },
   {
    "duration": 0,
    "start_time": "2023-06-22T11:00:09.928Z"
   },
   {
    "duration": 0,
    "start_time": "2023-06-22T11:00:09.929Z"
   },
   {
    "duration": 0,
    "start_time": "2023-06-22T11:00:09.930Z"
   },
   {
    "duration": 0,
    "start_time": "2023-06-22T11:00:09.932Z"
   },
   {
    "duration": 0,
    "start_time": "2023-06-22T11:00:09.933Z"
   },
   {
    "duration": 0,
    "start_time": "2023-06-22T11:00:09.934Z"
   },
   {
    "duration": 26,
    "start_time": "2023-06-22T11:02:26.125Z"
   },
   {
    "duration": 25,
    "start_time": "2023-06-22T11:03:44.209Z"
   },
   {
    "duration": 298,
    "start_time": "2023-06-22T11:04:05.836Z"
   },
   {
    "duration": 2579,
    "start_time": "2023-06-22T11:04:15.241Z"
   },
   {
    "duration": 6,
    "start_time": "2023-06-22T11:04:17.824Z"
   },
   {
    "duration": 409,
    "start_time": "2023-06-22T11:04:17.832Z"
   },
   {
    "duration": 94,
    "start_time": "2023-06-22T11:04:18.244Z"
   },
   {
    "duration": 321,
    "start_time": "2023-06-22T11:04:18.341Z"
   },
   {
    "duration": 4,
    "start_time": "2023-06-22T11:04:18.706Z"
   },
   {
    "duration": 45,
    "start_time": "2023-06-22T11:04:18.713Z"
   },
   {
    "duration": 17,
    "start_time": "2023-06-22T11:04:18.761Z"
   },
   {
    "duration": 46,
    "start_time": "2023-06-22T11:04:18.780Z"
   },
   {
    "duration": 59,
    "start_time": "2023-06-22T11:04:18.831Z"
   },
   {
    "duration": 498,
    "start_time": "2023-06-22T11:04:18.893Z"
   },
   {
    "duration": 8,
    "start_time": "2023-06-22T11:04:19.395Z"
   },
   {
    "duration": 34,
    "start_time": "2023-06-22T11:04:19.406Z"
   },
   {
    "duration": 17,
    "start_time": "2023-06-22T11:04:19.442Z"
   },
   {
    "duration": 42,
    "start_time": "2023-06-22T11:04:19.466Z"
   },
   {
    "duration": 39,
    "start_time": "2023-06-22T11:04:19.510Z"
   },
   {
    "duration": 78,
    "start_time": "2023-06-22T11:04:19.552Z"
   },
   {
    "duration": 8,
    "start_time": "2023-06-22T11:04:19.633Z"
   },
   {
    "duration": 559,
    "start_time": "2023-06-22T11:04:19.643Z"
   },
   {
    "duration": 4,
    "start_time": "2023-06-22T11:04:20.204Z"
   },
   {
    "duration": 403,
    "start_time": "2023-06-22T11:04:20.210Z"
   },
   {
    "duration": 7,
    "start_time": "2023-06-22T11:04:20.616Z"
   },
   {
    "duration": 44,
    "start_time": "2023-06-22T11:04:20.625Z"
   },
   {
    "duration": 88,
    "start_time": "2023-06-22T11:04:20.672Z"
   },
   {
    "duration": 14,
    "start_time": "2023-06-22T11:04:20.763Z"
   },
   {
    "duration": 21,
    "start_time": "2023-06-22T11:04:20.779Z"
   },
   {
    "duration": 48,
    "start_time": "2023-06-22T11:04:20.803Z"
   },
   {
    "duration": 15,
    "start_time": "2023-06-22T11:04:20.856Z"
   },
   {
    "duration": 50,
    "start_time": "2023-06-22T11:04:20.873Z"
   },
   {
    "duration": 13,
    "start_time": "2023-06-22T11:04:20.925Z"
   },
   {
    "duration": 32,
    "start_time": "2023-06-22T11:04:20.941Z"
   },
   {
    "duration": 52,
    "start_time": "2023-06-22T11:04:20.976Z"
   },
   {
    "duration": 7,
    "start_time": "2023-06-22T11:04:21.031Z"
   },
   {
    "duration": 26,
    "start_time": "2023-06-22T11:04:21.040Z"
   },
   {
    "duration": 19,
    "start_time": "2023-06-22T11:04:21.068Z"
   },
   {
    "duration": 17,
    "start_time": "2023-06-22T11:04:21.090Z"
   },
   {
    "duration": 19,
    "start_time": "2023-06-22T11:04:21.110Z"
   },
   {
    "duration": 81,
    "start_time": "2023-06-22T11:04:21.131Z"
   },
   {
    "duration": 193,
    "start_time": "2023-06-22T11:04:21.215Z"
   },
   {
    "duration": 398,
    "start_time": "2023-06-22T11:04:21.410Z"
   },
   {
    "duration": 63,
    "start_time": "2023-06-22T11:04:21.811Z"
   },
   {
    "duration": 201,
    "start_time": "2023-06-22T11:04:21.876Z"
   },
   {
    "duration": 0,
    "start_time": "2023-06-22T11:04:22.080Z"
   },
   {
    "duration": 0,
    "start_time": "2023-06-22T11:04:22.082Z"
   },
   {
    "duration": 0,
    "start_time": "2023-06-22T11:04:22.083Z"
   },
   {
    "duration": 0,
    "start_time": "2023-06-22T11:04:22.085Z"
   },
   {
    "duration": 0,
    "start_time": "2023-06-22T11:04:22.102Z"
   },
   {
    "duration": 0,
    "start_time": "2023-06-22T11:04:22.103Z"
   },
   {
    "duration": 0,
    "start_time": "2023-06-22T11:04:22.106Z"
   },
   {
    "duration": 0,
    "start_time": "2023-06-22T11:04:22.107Z"
   },
   {
    "duration": 0,
    "start_time": "2023-06-22T11:04:22.109Z"
   },
   {
    "duration": 0,
    "start_time": "2023-06-22T11:04:22.110Z"
   },
   {
    "duration": 0,
    "start_time": "2023-06-22T11:04:22.112Z"
   },
   {
    "duration": 0,
    "start_time": "2023-06-22T11:04:22.114Z"
   },
   {
    "duration": 0,
    "start_time": "2023-06-22T11:04:22.115Z"
   },
   {
    "duration": 0,
    "start_time": "2023-06-22T11:04:22.116Z"
   },
   {
    "duration": 0,
    "start_time": "2023-06-22T11:04:22.117Z"
   },
   {
    "duration": 0,
    "start_time": "2023-06-22T11:04:22.118Z"
   },
   {
    "duration": 0,
    "start_time": "2023-06-22T11:04:22.120Z"
   },
   {
    "duration": 0,
    "start_time": "2023-06-22T11:04:22.121Z"
   },
   {
    "duration": 0,
    "start_time": "2023-06-22T11:04:22.122Z"
   },
   {
    "duration": 0,
    "start_time": "2023-06-22T11:04:22.124Z"
   },
   {
    "duration": 0,
    "start_time": "2023-06-22T11:04:22.126Z"
   },
   {
    "duration": 0,
    "start_time": "2023-06-22T11:04:22.127Z"
   },
   {
    "duration": 0,
    "start_time": "2023-06-22T11:04:22.128Z"
   },
   {
    "duration": 0,
    "start_time": "2023-06-22T11:04:22.129Z"
   },
   {
    "duration": 0,
    "start_time": "2023-06-22T11:04:22.130Z"
   },
   {
    "duration": 0,
    "start_time": "2023-06-22T11:04:22.131Z"
   },
   {
    "duration": 0,
    "start_time": "2023-06-22T11:04:22.133Z"
   },
   {
    "duration": 0,
    "start_time": "2023-06-22T11:04:22.134Z"
   },
   {
    "duration": 0,
    "start_time": "2023-06-22T11:04:22.136Z"
   },
   {
    "duration": 0,
    "start_time": "2023-06-22T11:04:22.137Z"
   },
   {
    "duration": 0,
    "start_time": "2023-06-22T11:04:22.138Z"
   },
   {
    "duration": 0,
    "start_time": "2023-06-22T11:04:22.139Z"
   },
   {
    "duration": 0,
    "start_time": "2023-06-22T11:04:22.141Z"
   },
   {
    "duration": 0,
    "start_time": "2023-06-22T11:04:22.142Z"
   },
   {
    "duration": 0,
    "start_time": "2023-06-22T11:04:22.202Z"
   },
   {
    "duration": 1618,
    "start_time": "2023-06-22T11:05:27.667Z"
   },
   {
    "duration": 4,
    "start_time": "2023-06-22T11:05:29.288Z"
   },
   {
    "duration": 177,
    "start_time": "2023-06-22T11:05:29.294Z"
   },
   {
    "duration": 65,
    "start_time": "2023-06-22T11:05:29.473Z"
   },
   {
    "duration": 118,
    "start_time": "2023-06-22T11:05:29.540Z"
   },
   {
    "duration": 3,
    "start_time": "2023-06-22T11:05:29.660Z"
   },
   {
    "duration": 27,
    "start_time": "2023-06-22T11:05:29.665Z"
   },
   {
    "duration": 13,
    "start_time": "2023-06-22T11:05:29.704Z"
   },
   {
    "duration": 36,
    "start_time": "2023-06-22T11:05:29.718Z"
   },
   {
    "duration": 7,
    "start_time": "2023-06-22T11:05:29.757Z"
   },
   {
    "duration": 296,
    "start_time": "2023-06-22T11:05:29.766Z"
   },
   {
    "duration": 4,
    "start_time": "2023-06-22T11:05:30.064Z"
   },
   {
    "duration": 73,
    "start_time": "2023-06-22T11:05:30.069Z"
   },
   {
    "duration": 84,
    "start_time": "2023-06-22T11:05:30.145Z"
   },
   {
    "duration": 34,
    "start_time": "2023-06-22T11:05:30.232Z"
   },
   {
    "duration": 86,
    "start_time": "2023-06-22T11:05:30.269Z"
   },
   {
    "duration": 44,
    "start_time": "2023-06-22T11:05:30.357Z"
   },
   {
    "duration": 33,
    "start_time": "2023-06-22T11:05:30.407Z"
   },
   {
    "duration": 599,
    "start_time": "2023-06-22T11:05:30.443Z"
   },
   {
    "duration": 5,
    "start_time": "2023-06-22T11:05:31.044Z"
   },
   {
    "duration": 562,
    "start_time": "2023-06-22T11:05:31.051Z"
   },
   {
    "duration": 7,
    "start_time": "2023-06-22T11:05:31.617Z"
   },
   {
    "duration": 84,
    "start_time": "2023-06-22T11:05:31.625Z"
   },
   {
    "duration": 124,
    "start_time": "2023-06-22T11:05:31.712Z"
   },
   {
    "duration": 65,
    "start_time": "2023-06-22T11:05:31.838Z"
   },
   {
    "duration": 8,
    "start_time": "2023-06-22T11:05:31.905Z"
   },
   {
    "duration": 109,
    "start_time": "2023-06-22T11:05:31.915Z"
   },
   {
    "duration": 30,
    "start_time": "2023-06-22T11:05:32.032Z"
   },
   {
    "duration": 38,
    "start_time": "2023-06-22T11:05:32.103Z"
   },
   {
    "duration": 21,
    "start_time": "2023-06-22T11:05:32.143Z"
   },
   {
    "duration": 48,
    "start_time": "2023-06-22T11:05:32.167Z"
   },
   {
    "duration": 94,
    "start_time": "2023-06-22T11:05:32.217Z"
   },
   {
    "duration": 11,
    "start_time": "2023-06-22T11:05:32.314Z"
   },
   {
    "duration": 110,
    "start_time": "2023-06-22T11:05:32.327Z"
   },
   {
    "duration": 41,
    "start_time": "2023-06-22T11:05:32.439Z"
   },
   {
    "duration": 38,
    "start_time": "2023-06-22T11:05:32.503Z"
   },
   {
    "duration": 26,
    "start_time": "2023-06-22T11:05:32.543Z"
   },
   {
    "duration": 62,
    "start_time": "2023-06-22T11:05:32.571Z"
   },
   {
    "duration": 78,
    "start_time": "2023-06-22T11:05:32.635Z"
   },
   {
    "duration": 792,
    "start_time": "2023-06-22T11:05:32.715Z"
   },
   {
    "duration": 104,
    "start_time": "2023-06-22T11:05:33.510Z"
   },
   {
    "duration": 391,
    "start_time": "2023-06-22T11:05:33.616Z"
   },
   {
    "duration": 0,
    "start_time": "2023-06-22T11:05:34.009Z"
   },
   {
    "duration": 0,
    "start_time": "2023-06-22T11:05:34.010Z"
   },
   {
    "duration": 0,
    "start_time": "2023-06-22T11:05:34.010Z"
   },
   {
    "duration": 0,
    "start_time": "2023-06-22T11:05:34.012Z"
   },
   {
    "duration": 0,
    "start_time": "2023-06-22T11:05:34.012Z"
   },
   {
    "duration": 0,
    "start_time": "2023-06-22T11:05:34.013Z"
   },
   {
    "duration": 0,
    "start_time": "2023-06-22T11:05:34.014Z"
   },
   {
    "duration": 0,
    "start_time": "2023-06-22T11:05:34.015Z"
   },
   {
    "duration": 0,
    "start_time": "2023-06-22T11:05:34.017Z"
   },
   {
    "duration": 0,
    "start_time": "2023-06-22T11:05:34.018Z"
   },
   {
    "duration": 0,
    "start_time": "2023-06-22T11:05:34.019Z"
   },
   {
    "duration": 0,
    "start_time": "2023-06-22T11:05:34.020Z"
   },
   {
    "duration": 0,
    "start_time": "2023-06-22T11:05:34.021Z"
   },
   {
    "duration": 0,
    "start_time": "2023-06-22T11:05:34.022Z"
   },
   {
    "duration": 0,
    "start_time": "2023-06-22T11:05:34.023Z"
   },
   {
    "duration": 0,
    "start_time": "2023-06-22T11:05:34.024Z"
   },
   {
    "duration": 0,
    "start_time": "2023-06-22T11:05:34.025Z"
   },
   {
    "duration": 0,
    "start_time": "2023-06-22T11:05:34.026Z"
   },
   {
    "duration": 0,
    "start_time": "2023-06-22T11:05:34.030Z"
   },
   {
    "duration": 0,
    "start_time": "2023-06-22T11:05:34.032Z"
   },
   {
    "duration": 0,
    "start_time": "2023-06-22T11:05:34.033Z"
   },
   {
    "duration": 0,
    "start_time": "2023-06-22T11:05:34.033Z"
   },
   {
    "duration": 0,
    "start_time": "2023-06-22T11:05:34.034Z"
   },
   {
    "duration": 0,
    "start_time": "2023-06-22T11:05:34.036Z"
   },
   {
    "duration": 0,
    "start_time": "2023-06-22T11:05:34.037Z"
   },
   {
    "duration": 0,
    "start_time": "2023-06-22T11:05:34.039Z"
   },
   {
    "duration": 0,
    "start_time": "2023-06-22T11:05:34.040Z"
   },
   {
    "duration": 0,
    "start_time": "2023-06-22T11:05:34.041Z"
   },
   {
    "duration": 0,
    "start_time": "2023-06-22T11:05:34.042Z"
   },
   {
    "duration": 0,
    "start_time": "2023-06-22T11:05:34.042Z"
   },
   {
    "duration": 0,
    "start_time": "2023-06-22T11:05:34.044Z"
   },
   {
    "duration": 0,
    "start_time": "2023-06-22T11:05:34.045Z"
   },
   {
    "duration": 0,
    "start_time": "2023-06-22T11:05:34.046Z"
   },
   {
    "duration": 0,
    "start_time": "2023-06-22T11:05:34.102Z"
   },
   {
    "duration": 0,
    "start_time": "2023-06-22T11:05:34.102Z"
   },
   {
    "duration": 4,
    "start_time": "2023-06-22T11:06:10.119Z"
   },
   {
    "duration": 325,
    "start_time": "2023-06-22T11:06:10.903Z"
   },
   {
    "duration": 6,
    "start_time": "2023-06-22T11:06:16.919Z"
   },
   {
    "duration": 313,
    "start_time": "2023-06-22T11:06:20.124Z"
   },
   {
    "duration": 1689,
    "start_time": "2023-06-22T11:07:54.044Z"
   },
   {
    "duration": 9,
    "start_time": "2023-06-22T11:07:55.735Z"
   },
   {
    "duration": 165,
    "start_time": "2023-06-22T11:07:55.746Z"
   },
   {
    "duration": 42,
    "start_time": "2023-06-22T11:07:55.914Z"
   },
   {
    "duration": 130,
    "start_time": "2023-06-22T11:07:55.960Z"
   },
   {
    "duration": 2,
    "start_time": "2023-06-22T11:07:56.092Z"
   },
   {
    "duration": 57,
    "start_time": "2023-06-22T11:07:56.096Z"
   },
   {
    "duration": 7,
    "start_time": "2023-06-22T11:07:56.155Z"
   },
   {
    "duration": 28,
    "start_time": "2023-06-22T11:07:56.164Z"
   },
   {
    "duration": 10,
    "start_time": "2023-06-22T11:07:56.195Z"
   },
   {
    "duration": 430,
    "start_time": "2023-06-22T11:07:56.210Z"
   },
   {
    "duration": 3,
    "start_time": "2023-06-22T11:07:56.642Z"
   },
   {
    "duration": 20,
    "start_time": "2023-06-22T11:07:56.647Z"
   },
   {
    "duration": 4,
    "start_time": "2023-06-22T11:07:56.672Z"
   },
   {
    "duration": 13,
    "start_time": "2023-06-22T11:07:56.677Z"
   },
   {
    "duration": 65,
    "start_time": "2023-06-22T11:07:56.692Z"
   },
   {
    "duration": 27,
    "start_time": "2023-06-22T11:07:56.759Z"
   },
   {
    "duration": 6,
    "start_time": "2023-06-22T11:07:56.789Z"
   },
   {
    "duration": 512,
    "start_time": "2023-06-22T11:07:56.797Z"
   },
   {
    "duration": 5,
    "start_time": "2023-06-22T11:07:57.311Z"
   },
   {
    "duration": 316,
    "start_time": "2023-06-22T11:07:57.328Z"
   },
   {
    "duration": 5,
    "start_time": "2023-06-22T11:07:57.646Z"
   },
   {
    "duration": 9,
    "start_time": "2023-06-22T11:07:57.653Z"
   },
   {
    "duration": 47,
    "start_time": "2023-06-22T11:07:57.663Z"
   },
   {
    "duration": 29,
    "start_time": "2023-06-22T11:07:57.713Z"
   },
   {
    "duration": 9,
    "start_time": "2023-06-22T11:07:57.744Z"
   },
   {
    "duration": 26,
    "start_time": "2023-06-22T11:07:57.754Z"
   },
   {
    "duration": 7,
    "start_time": "2023-06-22T11:07:57.783Z"
   },
   {
    "duration": 7,
    "start_time": "2023-06-22T11:07:57.792Z"
   },
   {
    "duration": 58,
    "start_time": "2023-06-22T11:07:57.801Z"
   },
   {
    "duration": 81,
    "start_time": "2023-06-22T11:07:57.861Z"
   },
   {
    "duration": 28,
    "start_time": "2023-06-22T11:07:57.945Z"
   },
   {
    "duration": 7,
    "start_time": "2023-06-22T11:07:57.975Z"
   },
   {
    "duration": 10,
    "start_time": "2023-06-22T11:07:57.984Z"
   },
   {
    "duration": 7,
    "start_time": "2023-06-22T11:07:57.996Z"
   },
   {
    "duration": 35,
    "start_time": "2023-06-22T11:07:58.009Z"
   },
   {
    "duration": 9,
    "start_time": "2023-06-22T11:07:58.046Z"
   },
   {
    "duration": 33,
    "start_time": "2023-06-22T11:07:58.057Z"
   },
   {
    "duration": 26,
    "start_time": "2023-06-22T11:07:58.092Z"
   },
   {
    "duration": 387,
    "start_time": "2023-06-22T11:07:58.119Z"
   },
   {
    "duration": 41,
    "start_time": "2023-06-22T11:07:58.516Z"
   },
   {
    "duration": 218,
    "start_time": "2023-06-22T11:07:58.559Z"
   },
   {
    "duration": 0,
    "start_time": "2023-06-22T11:07:58.780Z"
   },
   {
    "duration": 0,
    "start_time": "2023-06-22T11:07:58.781Z"
   },
   {
    "duration": 0,
    "start_time": "2023-06-22T11:07:58.783Z"
   },
   {
    "duration": 0,
    "start_time": "2023-06-22T11:07:58.784Z"
   },
   {
    "duration": 0,
    "start_time": "2023-06-22T11:07:58.785Z"
   },
   {
    "duration": 0,
    "start_time": "2023-06-22T11:07:58.801Z"
   },
   {
    "duration": 0,
    "start_time": "2023-06-22T11:07:58.810Z"
   },
   {
    "duration": 0,
    "start_time": "2023-06-22T11:07:58.815Z"
   },
   {
    "duration": 0,
    "start_time": "2023-06-22T11:07:58.818Z"
   },
   {
    "duration": 0,
    "start_time": "2023-06-22T11:07:58.823Z"
   },
   {
    "duration": 0,
    "start_time": "2023-06-22T11:07:58.826Z"
   },
   {
    "duration": 0,
    "start_time": "2023-06-22T11:07:58.830Z"
   },
   {
    "duration": 0,
    "start_time": "2023-06-22T11:07:58.831Z"
   },
   {
    "duration": 0,
    "start_time": "2023-06-22T11:07:58.838Z"
   },
   {
    "duration": 0,
    "start_time": "2023-06-22T11:07:58.839Z"
   },
   {
    "duration": 0,
    "start_time": "2023-06-22T11:07:58.842Z"
   },
   {
    "duration": 0,
    "start_time": "2023-06-22T11:07:58.845Z"
   },
   {
    "duration": 0,
    "start_time": "2023-06-22T11:07:58.846Z"
   },
   {
    "duration": 0,
    "start_time": "2023-06-22T11:07:58.847Z"
   },
   {
    "duration": 0,
    "start_time": "2023-06-22T11:07:58.847Z"
   },
   {
    "duration": 0,
    "start_time": "2023-06-22T11:07:58.848Z"
   },
   {
    "duration": 0,
    "start_time": "2023-06-22T11:07:58.849Z"
   },
   {
    "duration": 1,
    "start_time": "2023-06-22T11:07:58.852Z"
   },
   {
    "duration": 0,
    "start_time": "2023-06-22T11:07:58.854Z"
   },
   {
    "duration": 0,
    "start_time": "2023-06-22T11:07:58.855Z"
   },
   {
    "duration": 0,
    "start_time": "2023-06-22T11:07:58.856Z"
   },
   {
    "duration": 0,
    "start_time": "2023-06-22T11:07:58.858Z"
   },
   {
    "duration": 0,
    "start_time": "2023-06-22T11:07:58.860Z"
   },
   {
    "duration": 0,
    "start_time": "2023-06-22T11:07:58.861Z"
   },
   {
    "duration": 1,
    "start_time": "2023-06-22T11:07:58.862Z"
   },
   {
    "duration": 1,
    "start_time": "2023-06-22T11:07:58.864Z"
   },
   {
    "duration": 0,
    "start_time": "2023-06-22T11:07:58.910Z"
   },
   {
    "duration": 0,
    "start_time": "2023-06-22T11:07:58.911Z"
   },
   {
    "duration": 0,
    "start_time": "2023-06-22T11:07:58.912Z"
   },
   {
    "duration": 0,
    "start_time": "2023-06-22T11:07:58.913Z"
   },
   {
    "duration": 8,
    "start_time": "2023-06-22T11:10:16.536Z"
   },
   {
    "duration": 15,
    "start_time": "2023-06-22T11:10:17.430Z"
   },
   {
    "duration": 2266,
    "start_time": "2023-06-22T11:10:22.042Z"
   },
   {
    "duration": 13,
    "start_time": "2023-06-22T11:10:24.317Z"
   },
   {
    "duration": 378,
    "start_time": "2023-06-22T11:10:24.337Z"
   },
   {
    "duration": 44,
    "start_time": "2023-06-22T11:10:24.716Z"
   },
   {
    "duration": 239,
    "start_time": "2023-06-22T11:10:24.802Z"
   },
   {
    "duration": 5,
    "start_time": "2023-06-22T11:10:25.043Z"
   },
   {
    "duration": 79,
    "start_time": "2023-06-22T11:10:25.050Z"
   },
   {
    "duration": 7,
    "start_time": "2023-06-22T11:10:25.132Z"
   },
   {
    "duration": 104,
    "start_time": "2023-06-22T11:10:25.141Z"
   },
   {
    "duration": 8,
    "start_time": "2023-06-22T11:10:25.247Z"
   },
   {
    "duration": 482,
    "start_time": "2023-06-22T11:10:25.301Z"
   },
   {
    "duration": 4,
    "start_time": "2023-06-22T11:10:25.785Z"
   },
   {
    "duration": 78,
    "start_time": "2023-06-22T11:10:25.790Z"
   },
   {
    "duration": 22,
    "start_time": "2023-06-22T11:10:25.873Z"
   },
   {
    "duration": 91,
    "start_time": "2023-06-22T11:10:25.897Z"
   },
   {
    "duration": 151,
    "start_time": "2023-06-22T11:10:25.990Z"
   },
   {
    "duration": 49,
    "start_time": "2023-06-22T11:10:26.143Z"
   },
   {
    "duration": 58,
    "start_time": "2023-06-22T11:10:26.195Z"
   },
   {
    "duration": 453,
    "start_time": "2023-06-22T11:10:26.255Z"
   },
   {
    "duration": 18,
    "start_time": "2023-06-22T11:10:26.709Z"
   },
   {
    "duration": 267,
    "start_time": "2023-06-22T11:10:26.730Z"
   },
   {
    "duration": 0,
    "start_time": "2023-06-22T11:10:27.005Z"
   },
   {
    "duration": 0,
    "start_time": "2023-06-22T11:10:27.006Z"
   },
   {
    "duration": 0,
    "start_time": "2023-06-22T11:10:27.007Z"
   },
   {
    "duration": 0,
    "start_time": "2023-06-22T11:10:27.009Z"
   },
   {
    "duration": 0,
    "start_time": "2023-06-22T11:10:27.010Z"
   },
   {
    "duration": 1,
    "start_time": "2023-06-22T11:10:27.011Z"
   },
   {
    "duration": 0,
    "start_time": "2023-06-22T11:10:27.014Z"
   },
   {
    "duration": 0,
    "start_time": "2023-06-22T11:10:27.015Z"
   },
   {
    "duration": 0,
    "start_time": "2023-06-22T11:10:27.017Z"
   },
   {
    "duration": 0,
    "start_time": "2023-06-22T11:10:27.018Z"
   },
   {
    "duration": 0,
    "start_time": "2023-06-22T11:10:27.020Z"
   },
   {
    "duration": 0,
    "start_time": "2023-06-22T11:10:27.022Z"
   },
   {
    "duration": 0,
    "start_time": "2023-06-22T11:10:27.023Z"
   },
   {
    "duration": 0,
    "start_time": "2023-06-22T11:10:27.025Z"
   },
   {
    "duration": 0,
    "start_time": "2023-06-22T11:10:27.027Z"
   },
   {
    "duration": 0,
    "start_time": "2023-06-22T11:10:27.028Z"
   },
   {
    "duration": 0,
    "start_time": "2023-06-22T11:10:27.030Z"
   },
   {
    "duration": 0,
    "start_time": "2023-06-22T11:10:27.031Z"
   },
   {
    "duration": 0,
    "start_time": "2023-06-22T11:10:27.033Z"
   },
   {
    "duration": 0,
    "start_time": "2023-06-22T11:10:27.034Z"
   },
   {
    "duration": 0,
    "start_time": "2023-06-22T11:10:27.036Z"
   },
   {
    "duration": 1,
    "start_time": "2023-06-22T11:10:27.038Z"
   },
   {
    "duration": 0,
    "start_time": "2023-06-22T11:10:27.040Z"
   },
   {
    "duration": 0,
    "start_time": "2023-06-22T11:10:27.042Z"
   },
   {
    "duration": 0,
    "start_time": "2023-06-22T11:10:27.044Z"
   },
   {
    "duration": 0,
    "start_time": "2023-06-22T11:10:27.046Z"
   },
   {
    "duration": 0,
    "start_time": "2023-06-22T11:10:27.048Z"
   },
   {
    "duration": 0,
    "start_time": "2023-06-22T11:10:27.050Z"
   },
   {
    "duration": 0,
    "start_time": "2023-06-22T11:10:27.051Z"
   },
   {
    "duration": 0,
    "start_time": "2023-06-22T11:10:27.053Z"
   },
   {
    "duration": 0,
    "start_time": "2023-06-22T11:10:27.102Z"
   },
   {
    "duration": 0,
    "start_time": "2023-06-22T11:10:27.103Z"
   },
   {
    "duration": 0,
    "start_time": "2023-06-22T11:10:27.104Z"
   },
   {
    "duration": 0,
    "start_time": "2023-06-22T11:10:27.107Z"
   },
   {
    "duration": 0,
    "start_time": "2023-06-22T11:10:27.108Z"
   },
   {
    "duration": 0,
    "start_time": "2023-06-22T11:10:27.108Z"
   },
   {
    "duration": 0,
    "start_time": "2023-06-22T11:10:27.109Z"
   },
   {
    "duration": 0,
    "start_time": "2023-06-22T11:10:27.110Z"
   },
   {
    "duration": 0,
    "start_time": "2023-06-22T11:10:27.110Z"
   },
   {
    "duration": 0,
    "start_time": "2023-06-22T11:10:27.111Z"
   },
   {
    "duration": 0,
    "start_time": "2023-06-22T11:10:27.112Z"
   },
   {
    "duration": 0,
    "start_time": "2023-06-22T11:10:27.112Z"
   },
   {
    "duration": 0,
    "start_time": "2023-06-22T11:10:27.117Z"
   },
   {
    "duration": 0,
    "start_time": "2023-06-22T11:10:27.118Z"
   },
   {
    "duration": 0,
    "start_time": "2023-06-22T11:10:27.119Z"
   },
   {
    "duration": 0,
    "start_time": "2023-06-22T11:10:27.120Z"
   },
   {
    "duration": 0,
    "start_time": "2023-06-22T11:10:27.121Z"
   },
   {
    "duration": 0,
    "start_time": "2023-06-22T11:10:27.122Z"
   },
   {
    "duration": 0,
    "start_time": "2023-06-22T11:10:27.125Z"
   },
   {
    "duration": 0,
    "start_time": "2023-06-22T11:10:27.126Z"
   },
   {
    "duration": 0,
    "start_time": "2023-06-22T11:10:27.127Z"
   },
   {
    "duration": 0,
    "start_time": "2023-06-22T11:10:27.129Z"
   },
   {
    "duration": 0,
    "start_time": "2023-06-22T11:10:27.130Z"
   },
   {
    "duration": 0,
    "start_time": "2023-06-22T11:10:27.131Z"
   },
   {
    "duration": 0,
    "start_time": "2023-06-22T11:10:27.132Z"
   },
   {
    "duration": 0,
    "start_time": "2023-06-22T11:10:27.135Z"
   },
   {
    "duration": 2681,
    "start_time": "2023-06-22T11:15:01.545Z"
   },
   {
    "duration": 4,
    "start_time": "2023-06-22T11:15:04.228Z"
   },
   {
    "duration": 398,
    "start_time": "2023-06-22T11:15:04.234Z"
   },
   {
    "duration": 94,
    "start_time": "2023-06-22T11:15:04.635Z"
   },
   {
    "duration": 214,
    "start_time": "2023-06-22T11:15:04.732Z"
   },
   {
    "duration": 3,
    "start_time": "2023-06-22T11:15:04.948Z"
   },
   {
    "duration": 33,
    "start_time": "2023-06-22T11:15:05.004Z"
   },
   {
    "duration": 84,
    "start_time": "2023-06-22T11:15:05.039Z"
   },
   {
    "duration": 115,
    "start_time": "2023-06-22T11:15:05.126Z"
   },
   {
    "duration": 17,
    "start_time": "2023-06-22T11:15:05.247Z"
   },
   {
    "duration": 336,
    "start_time": "2023-06-22T11:15:05.307Z"
   },
   {
    "duration": 5,
    "start_time": "2023-06-22T11:15:05.646Z"
   },
   {
    "duration": 84,
    "start_time": "2023-06-22T11:15:05.653Z"
   },
   {
    "duration": 53,
    "start_time": "2023-06-22T11:15:05.740Z"
   },
   {
    "duration": 66,
    "start_time": "2023-06-22T11:15:05.795Z"
   },
   {
    "duration": 111,
    "start_time": "2023-06-22T11:15:05.863Z"
   },
   {
    "duration": 31,
    "start_time": "2023-06-22T11:15:05.976Z"
   },
   {
    "duration": 67,
    "start_time": "2023-06-22T11:15:06.014Z"
   },
   {
    "duration": 478,
    "start_time": "2023-06-22T11:15:06.083Z"
   },
   {
    "duration": 7,
    "start_time": "2023-06-22T11:15:06.564Z"
   },
   {
    "duration": 339,
    "start_time": "2023-06-22T11:15:06.574Z"
   },
   {
    "duration": 0,
    "start_time": "2023-06-22T11:15:06.924Z"
   },
   {
    "duration": 0,
    "start_time": "2023-06-22T11:15:06.925Z"
   },
   {
    "duration": 0,
    "start_time": "2023-06-22T11:15:06.930Z"
   },
   {
    "duration": 0,
    "start_time": "2023-06-22T11:15:06.938Z"
   },
   {
    "duration": 0,
    "start_time": "2023-06-22T11:15:06.942Z"
   },
   {
    "duration": 0,
    "start_time": "2023-06-22T11:15:06.945Z"
   },
   {
    "duration": 0,
    "start_time": "2023-06-22T11:15:06.946Z"
   },
   {
    "duration": 0,
    "start_time": "2023-06-22T11:15:06.948Z"
   },
   {
    "duration": 0,
    "start_time": "2023-06-22T11:15:06.949Z"
   },
   {
    "duration": 0,
    "start_time": "2023-06-22T11:15:06.951Z"
   },
   {
    "duration": 0,
    "start_time": "2023-06-22T11:15:06.954Z"
   },
   {
    "duration": 0,
    "start_time": "2023-06-22T11:15:06.956Z"
   },
   {
    "duration": 0,
    "start_time": "2023-06-22T11:15:06.958Z"
   },
   {
    "duration": 0,
    "start_time": "2023-06-22T11:15:06.960Z"
   },
   {
    "duration": 0,
    "start_time": "2023-06-22T11:15:06.962Z"
   },
   {
    "duration": 0,
    "start_time": "2023-06-22T11:15:06.964Z"
   },
   {
    "duration": 0,
    "start_time": "2023-06-22T11:15:06.966Z"
   },
   {
    "duration": 0,
    "start_time": "2023-06-22T11:15:06.968Z"
   },
   {
    "duration": 0,
    "start_time": "2023-06-22T11:15:07.001Z"
   },
   {
    "duration": 0,
    "start_time": "2023-06-22T11:15:07.003Z"
   },
   {
    "duration": 0,
    "start_time": "2023-06-22T11:15:07.005Z"
   },
   {
    "duration": 0,
    "start_time": "2023-06-22T11:15:07.006Z"
   },
   {
    "duration": 0,
    "start_time": "2023-06-22T11:15:07.007Z"
   },
   {
    "duration": 0,
    "start_time": "2023-06-22T11:15:07.009Z"
   },
   {
    "duration": 0,
    "start_time": "2023-06-22T11:15:07.010Z"
   },
   {
    "duration": 0,
    "start_time": "2023-06-22T11:15:07.011Z"
   },
   {
    "duration": 0,
    "start_time": "2023-06-22T11:15:07.012Z"
   },
   {
    "duration": 0,
    "start_time": "2023-06-22T11:15:07.014Z"
   },
   {
    "duration": 0,
    "start_time": "2023-06-22T11:15:07.015Z"
   },
   {
    "duration": 0,
    "start_time": "2023-06-22T11:15:07.016Z"
   },
   {
    "duration": 0,
    "start_time": "2023-06-22T11:15:07.017Z"
   },
   {
    "duration": 0,
    "start_time": "2023-06-22T11:15:07.018Z"
   },
   {
    "duration": 0,
    "start_time": "2023-06-22T11:15:07.019Z"
   },
   {
    "duration": 0,
    "start_time": "2023-06-22T11:15:07.020Z"
   },
   {
    "duration": 0,
    "start_time": "2023-06-22T11:15:07.023Z"
   },
   {
    "duration": 0,
    "start_time": "2023-06-22T11:15:07.024Z"
   },
   {
    "duration": 0,
    "start_time": "2023-06-22T11:15:07.025Z"
   },
   {
    "duration": 0,
    "start_time": "2023-06-22T11:15:07.026Z"
   },
   {
    "duration": 0,
    "start_time": "2023-06-22T11:15:07.027Z"
   },
   {
    "duration": 0,
    "start_time": "2023-06-22T11:15:07.028Z"
   },
   {
    "duration": 0,
    "start_time": "2023-06-22T11:15:07.029Z"
   },
   {
    "duration": 0,
    "start_time": "2023-06-22T11:15:07.030Z"
   },
   {
    "duration": 0,
    "start_time": "2023-06-22T11:15:07.031Z"
   },
   {
    "duration": 0,
    "start_time": "2023-06-22T11:15:07.032Z"
   },
   {
    "duration": 0,
    "start_time": "2023-06-22T11:15:07.033Z"
   },
   {
    "duration": 0,
    "start_time": "2023-06-22T11:15:07.034Z"
   },
   {
    "duration": 0,
    "start_time": "2023-06-22T11:15:07.035Z"
   },
   {
    "duration": 0,
    "start_time": "2023-06-22T11:15:07.036Z"
   },
   {
    "duration": 0,
    "start_time": "2023-06-22T11:15:07.037Z"
   },
   {
    "duration": 0,
    "start_time": "2023-06-22T11:15:07.038Z"
   },
   {
    "duration": 0,
    "start_time": "2023-06-22T11:15:07.039Z"
   },
   {
    "duration": 0,
    "start_time": "2023-06-22T11:15:07.040Z"
   },
   {
    "duration": 0,
    "start_time": "2023-06-22T11:15:07.042Z"
   },
   {
    "duration": 0,
    "start_time": "2023-06-22T11:15:07.043Z"
   },
   {
    "duration": 0,
    "start_time": "2023-06-22T11:15:07.044Z"
   },
   {
    "duration": 0,
    "start_time": "2023-06-22T11:15:07.045Z"
   },
   {
    "duration": 25,
    "start_time": "2023-06-22T11:17:05.348Z"
   },
   {
    "duration": 37,
    "start_time": "2023-06-22T11:17:14.322Z"
   },
   {
    "duration": 7,
    "start_time": "2023-06-22T11:17:30.970Z"
   },
   {
    "duration": 21,
    "start_time": "2023-06-22T11:17:33.134Z"
   },
   {
    "duration": 1705,
    "start_time": "2023-06-22T11:18:38.427Z"
   },
   {
    "duration": 5,
    "start_time": "2023-06-22T11:18:40.135Z"
   },
   {
    "duration": 270,
    "start_time": "2023-06-22T11:18:40.143Z"
   },
   {
    "duration": 97,
    "start_time": "2023-06-22T11:18:40.415Z"
   },
   {
    "duration": 217,
    "start_time": "2023-06-22T11:18:40.521Z"
   },
   {
    "duration": 62,
    "start_time": "2023-06-22T11:18:40.740Z"
   },
   {
    "duration": 126,
    "start_time": "2023-06-22T11:18:40.805Z"
   },
   {
    "duration": 25,
    "start_time": "2023-06-22T11:18:40.935Z"
   },
   {
    "duration": 116,
    "start_time": "2023-06-22T11:18:40.963Z"
   },
   {
    "duration": 28,
    "start_time": "2023-06-22T11:18:41.080Z"
   },
   {
    "duration": 935,
    "start_time": "2023-06-22T11:18:41.110Z"
   },
   {
    "duration": 58,
    "start_time": "2023-06-22T11:18:42.048Z"
   },
   {
    "duration": 32,
    "start_time": "2023-06-22T11:18:42.111Z"
   },
   {
    "duration": 8,
    "start_time": "2023-06-22T11:18:42.147Z"
   },
   {
    "duration": 62,
    "start_time": "2023-06-22T11:18:42.158Z"
   },
   {
    "duration": 97,
    "start_time": "2023-06-22T11:18:42.223Z"
   },
   {
    "duration": 87,
    "start_time": "2023-06-22T11:18:42.323Z"
   },
   {
    "duration": 12,
    "start_time": "2023-06-22T11:18:42.413Z"
   },
   {
    "duration": 1122,
    "start_time": "2023-06-22T11:18:42.428Z"
   },
   {
    "duration": 61,
    "start_time": "2023-06-22T11:18:43.552Z"
   },
   {
    "duration": 30,
    "start_time": "2023-06-22T11:18:43.615Z"
   },
   {
    "duration": 103,
    "start_time": "2023-06-22T11:18:43.648Z"
   },
   {
    "duration": 1071,
    "start_time": "2023-06-22T11:18:43.753Z"
   },
   {
    "duration": 10,
    "start_time": "2023-06-22T11:18:44.827Z"
   },
   {
    "duration": 68,
    "start_time": "2023-06-22T11:18:44.841Z"
   },
   {
    "duration": 105,
    "start_time": "2023-06-22T11:18:44.917Z"
   },
   {
    "duration": 80,
    "start_time": "2023-06-22T11:18:45.025Z"
   },
   {
    "duration": 57,
    "start_time": "2023-06-22T11:18:45.107Z"
   },
   {
    "duration": 79,
    "start_time": "2023-06-22T11:18:45.167Z"
   },
   {
    "duration": 57,
    "start_time": "2023-06-22T11:18:45.249Z"
   },
   {
    "duration": 66,
    "start_time": "2023-06-22T11:18:45.313Z"
   },
   {
    "duration": 61,
    "start_time": "2023-06-22T11:18:45.381Z"
   },
   {
    "duration": 47,
    "start_time": "2023-06-22T11:18:45.444Z"
   },
   {
    "duration": 74,
    "start_time": "2023-06-22T11:18:45.494Z"
   },
   {
    "duration": 9,
    "start_time": "2023-06-22T11:18:45.571Z"
   },
   {
    "duration": 129,
    "start_time": "2023-06-22T11:18:45.582Z"
   },
   {
    "duration": 27,
    "start_time": "2023-06-22T11:18:45.715Z"
   },
   {
    "duration": 30,
    "start_time": "2023-06-22T11:18:45.744Z"
   },
   {
    "duration": 17,
    "start_time": "2023-06-22T11:18:45.777Z"
   },
   {
    "duration": 80,
    "start_time": "2023-06-22T11:18:45.797Z"
   },
   {
    "duration": 149,
    "start_time": "2023-06-22T11:18:45.885Z"
   },
   {
    "duration": 357,
    "start_time": "2023-06-22T11:18:46.038Z"
   },
   {
    "duration": 47,
    "start_time": "2023-06-22T11:18:46.401Z"
   },
   {
    "duration": 153,
    "start_time": "2023-06-22T11:18:46.450Z"
   },
   {
    "duration": 0,
    "start_time": "2023-06-22T11:18:46.616Z"
   },
   {
    "duration": 1,
    "start_time": "2023-06-22T11:18:46.620Z"
   },
   {
    "duration": 0,
    "start_time": "2023-06-22T11:18:46.622Z"
   },
   {
    "duration": 0,
    "start_time": "2023-06-22T11:18:46.624Z"
   },
   {
    "duration": 0,
    "start_time": "2023-06-22T11:18:46.626Z"
   },
   {
    "duration": 0,
    "start_time": "2023-06-22T11:18:46.628Z"
   },
   {
    "duration": 0,
    "start_time": "2023-06-22T11:18:46.630Z"
   },
   {
    "duration": 0,
    "start_time": "2023-06-22T11:18:46.632Z"
   },
   {
    "duration": 0,
    "start_time": "2023-06-22T11:18:46.633Z"
   },
   {
    "duration": 0,
    "start_time": "2023-06-22T11:18:46.635Z"
   },
   {
    "duration": 0,
    "start_time": "2023-06-22T11:18:46.637Z"
   },
   {
    "duration": 0,
    "start_time": "2023-06-22T11:18:46.638Z"
   },
   {
    "duration": 0,
    "start_time": "2023-06-22T11:18:46.642Z"
   },
   {
    "duration": 0,
    "start_time": "2023-06-22T11:18:46.643Z"
   },
   {
    "duration": 0,
    "start_time": "2023-06-22T11:18:46.644Z"
   },
   {
    "duration": 0,
    "start_time": "2023-06-22T11:18:46.646Z"
   },
   {
    "duration": 0,
    "start_time": "2023-06-22T11:18:46.648Z"
   },
   {
    "duration": 0,
    "start_time": "2023-06-22T11:18:46.649Z"
   },
   {
    "duration": 0,
    "start_time": "2023-06-22T11:18:46.651Z"
   },
   {
    "duration": 0,
    "start_time": "2023-06-22T11:18:46.654Z"
   },
   {
    "duration": 0,
    "start_time": "2023-06-22T11:18:46.655Z"
   },
   {
    "duration": 0,
    "start_time": "2023-06-22T11:18:46.657Z"
   },
   {
    "duration": 0,
    "start_time": "2023-06-22T11:18:46.659Z"
   },
   {
    "duration": 0,
    "start_time": "2023-06-22T11:18:46.707Z"
   },
   {
    "duration": 0,
    "start_time": "2023-06-22T11:18:46.708Z"
   },
   {
    "duration": 1,
    "start_time": "2023-06-22T11:18:46.709Z"
   },
   {
    "duration": 0,
    "start_time": "2023-06-22T11:18:46.711Z"
   },
   {
    "duration": 0,
    "start_time": "2023-06-22T11:18:46.713Z"
   },
   {
    "duration": 0,
    "start_time": "2023-06-22T11:18:46.714Z"
   },
   {
    "duration": 0,
    "start_time": "2023-06-22T11:18:46.721Z"
   },
   {
    "duration": 0,
    "start_time": "2023-06-22T11:18:46.723Z"
   },
   {
    "duration": 0,
    "start_time": "2023-06-22T11:18:46.724Z"
   },
   {
    "duration": 0,
    "start_time": "2023-06-22T11:18:46.726Z"
   },
   {
    "duration": 0,
    "start_time": "2023-06-22T11:18:46.728Z"
   },
   {
    "duration": 0,
    "start_time": "2023-06-22T11:18:46.729Z"
   },
   {
    "duration": 10,
    "start_time": "2023-06-22T11:19:14.462Z"
   },
   {
    "duration": 363,
    "start_time": "2023-06-22T11:19:14.629Z"
   },
   {
    "duration": 2638,
    "start_time": "2023-06-22T11:22:26.965Z"
   },
   {
    "duration": 8,
    "start_time": "2023-06-22T11:22:29.607Z"
   },
   {
    "duration": 405,
    "start_time": "2023-06-22T11:22:29.618Z"
   },
   {
    "duration": 102,
    "start_time": "2023-06-22T11:22:30.027Z"
   },
   {
    "duration": 202,
    "start_time": "2023-06-22T11:22:30.131Z"
   },
   {
    "duration": 3,
    "start_time": "2023-06-22T11:22:30.335Z"
   },
   {
    "duration": 93,
    "start_time": "2023-06-22T11:22:30.340Z"
   },
   {
    "duration": 108,
    "start_time": "2023-06-22T11:22:30.435Z"
   },
   {
    "duration": 179,
    "start_time": "2023-06-22T11:22:30.547Z"
   },
   {
    "duration": 17,
    "start_time": "2023-06-22T11:22:30.734Z"
   },
   {
    "duration": 520,
    "start_time": "2023-06-22T11:22:30.753Z"
   },
   {
    "duration": 10,
    "start_time": "2023-06-22T11:22:31.276Z"
   },
   {
    "duration": 67,
    "start_time": "2023-06-22T11:22:31.289Z"
   },
   {
    "duration": 39,
    "start_time": "2023-06-22T11:22:31.358Z"
   },
   {
    "duration": 68,
    "start_time": "2023-06-22T11:22:31.400Z"
   },
   {
    "duration": 111,
    "start_time": "2023-06-22T11:22:31.470Z"
   },
   {
    "duration": 106,
    "start_time": "2023-06-22T11:22:31.583Z"
   },
   {
    "duration": 54,
    "start_time": "2023-06-22T11:22:31.692Z"
   },
   {
    "duration": 424,
    "start_time": "2023-06-22T11:22:31.748Z"
   },
   {
    "duration": 8,
    "start_time": "2023-06-22T11:22:32.175Z"
   },
   {
    "duration": 620,
    "start_time": "2023-06-22T11:22:32.186Z"
   },
   {
    "duration": 20,
    "start_time": "2023-06-22T11:22:32.809Z"
   },
   {
    "duration": 45,
    "start_time": "2023-06-22T11:22:32.831Z"
   },
   {
    "duration": 89,
    "start_time": "2023-06-22T11:22:32.878Z"
   },
   {
    "duration": 58,
    "start_time": "2023-06-22T11:22:32.969Z"
   },
   {
    "duration": 37,
    "start_time": "2023-06-22T11:22:33.029Z"
   },
   {
    "duration": 100,
    "start_time": "2023-06-22T11:22:33.068Z"
   },
   {
    "duration": 102,
    "start_time": "2023-06-22T11:22:33.174Z"
   },
   {
    "duration": 125,
    "start_time": "2023-06-22T11:22:33.278Z"
   },
   {
    "duration": 49,
    "start_time": "2023-06-22T11:22:33.407Z"
   },
   {
    "duration": 41,
    "start_time": "2023-06-22T11:22:33.458Z"
   },
   {
    "duration": 125,
    "start_time": "2023-06-22T11:22:33.501Z"
   },
   {
    "duration": 48,
    "start_time": "2023-06-22T11:22:33.628Z"
   },
   {
    "duration": 53,
    "start_time": "2023-06-22T11:22:33.678Z"
   },
   {
    "duration": 47,
    "start_time": "2023-06-22T11:22:33.733Z"
   },
   {
    "duration": 46,
    "start_time": "2023-06-22T11:22:33.783Z"
   },
   {
    "duration": 15,
    "start_time": "2023-06-22T11:22:33.831Z"
   },
   {
    "duration": 63,
    "start_time": "2023-06-22T11:22:33.849Z"
   },
   {
    "duration": 203,
    "start_time": "2023-06-22T11:22:33.921Z"
   },
   {
    "duration": 299,
    "start_time": "2023-06-22T11:22:34.134Z"
   },
   {
    "duration": 49,
    "start_time": "2023-06-22T11:22:34.435Z"
   },
   {
    "duration": 200,
    "start_time": "2023-06-22T11:22:34.505Z"
   },
   {
    "duration": 0,
    "start_time": "2023-06-22T11:22:34.710Z"
   },
   {
    "duration": 0,
    "start_time": "2023-06-22T11:22:34.711Z"
   },
   {
    "duration": 0,
    "start_time": "2023-06-22T11:22:34.713Z"
   },
   {
    "duration": 0,
    "start_time": "2023-06-22T11:22:34.714Z"
   },
   {
    "duration": 0,
    "start_time": "2023-06-22T11:22:34.716Z"
   },
   {
    "duration": 0,
    "start_time": "2023-06-22T11:22:34.718Z"
   },
   {
    "duration": 0,
    "start_time": "2023-06-22T11:22:34.720Z"
   },
   {
    "duration": 1,
    "start_time": "2023-06-22T11:22:34.721Z"
   },
   {
    "duration": 0,
    "start_time": "2023-06-22T11:22:34.723Z"
   },
   {
    "duration": 0,
    "start_time": "2023-06-22T11:22:34.725Z"
   },
   {
    "duration": 0,
    "start_time": "2023-06-22T11:22:34.727Z"
   },
   {
    "duration": 0,
    "start_time": "2023-06-22T11:22:34.729Z"
   },
   {
    "duration": 0,
    "start_time": "2023-06-22T11:22:34.731Z"
   },
   {
    "duration": 0,
    "start_time": "2023-06-22T11:22:34.733Z"
   },
   {
    "duration": 0,
    "start_time": "2023-06-22T11:22:34.735Z"
   },
   {
    "duration": 0,
    "start_time": "2023-06-22T11:22:34.737Z"
   },
   {
    "duration": 0,
    "start_time": "2023-06-22T11:22:34.738Z"
   },
   {
    "duration": 0,
    "start_time": "2023-06-22T11:22:34.741Z"
   },
   {
    "duration": 0,
    "start_time": "2023-06-22T11:22:34.742Z"
   },
   {
    "duration": 0,
    "start_time": "2023-06-22T11:22:34.745Z"
   },
   {
    "duration": 0,
    "start_time": "2023-06-22T11:22:34.746Z"
   },
   {
    "duration": 0,
    "start_time": "2023-06-22T11:22:34.748Z"
   },
   {
    "duration": 0,
    "start_time": "2023-06-22T11:22:34.750Z"
   },
   {
    "duration": 0,
    "start_time": "2023-06-22T11:22:34.752Z"
   },
   {
    "duration": 0,
    "start_time": "2023-06-22T11:22:34.801Z"
   },
   {
    "duration": 0,
    "start_time": "2023-06-22T11:22:34.805Z"
   },
   {
    "duration": 0,
    "start_time": "2023-06-22T11:22:34.806Z"
   },
   {
    "duration": 0,
    "start_time": "2023-06-22T11:22:34.807Z"
   },
   {
    "duration": 0,
    "start_time": "2023-06-22T11:22:34.809Z"
   },
   {
    "duration": 0,
    "start_time": "2023-06-22T11:22:34.810Z"
   },
   {
    "duration": 0,
    "start_time": "2023-06-22T11:22:34.811Z"
   },
   {
    "duration": 0,
    "start_time": "2023-06-22T11:22:34.813Z"
   },
   {
    "duration": 0,
    "start_time": "2023-06-22T11:22:34.814Z"
   },
   {
    "duration": 0,
    "start_time": "2023-06-22T11:22:34.815Z"
   },
   {
    "duration": 0,
    "start_time": "2023-06-22T11:22:34.816Z"
   },
   {
    "duration": 1796,
    "start_time": "2023-06-22T11:26:14.747Z"
   },
   {
    "duration": 4,
    "start_time": "2023-06-22T11:26:16.545Z"
   },
   {
    "duration": 177,
    "start_time": "2023-06-22T11:26:16.551Z"
   },
   {
    "duration": 27,
    "start_time": "2023-06-22T11:26:16.731Z"
   },
   {
    "duration": 165,
    "start_time": "2023-06-22T11:26:16.760Z"
   },
   {
    "duration": 3,
    "start_time": "2023-06-22T11:26:16.926Z"
   },
   {
    "duration": 29,
    "start_time": "2023-06-22T11:26:16.931Z"
   },
   {
    "duration": 8,
    "start_time": "2023-06-22T11:26:16.962Z"
   },
   {
    "duration": 49,
    "start_time": "2023-06-22T11:26:16.971Z"
   },
   {
    "duration": 56,
    "start_time": "2023-06-22T11:26:17.024Z"
   },
   {
    "duration": 341,
    "start_time": "2023-06-22T11:26:17.083Z"
   },
   {
    "duration": 5,
    "start_time": "2023-06-22T11:26:17.426Z"
   },
   {
    "duration": 19,
    "start_time": "2023-06-22T11:26:17.434Z"
   },
   {
    "duration": 6,
    "start_time": "2023-06-22T11:26:17.455Z"
   },
   {
    "duration": 17,
    "start_time": "2023-06-22T11:26:17.463Z"
   },
   {
    "duration": 59,
    "start_time": "2023-06-22T11:26:17.482Z"
   },
   {
    "duration": 23,
    "start_time": "2023-06-22T11:26:17.543Z"
   },
   {
    "duration": 5,
    "start_time": "2023-06-22T11:26:17.568Z"
   },
   {
    "duration": 1342,
    "start_time": "2023-06-22T11:26:17.575Z"
   },
   {
    "duration": 6,
    "start_time": "2023-06-22T11:26:18.919Z"
   },
   {
    "duration": 22,
    "start_time": "2023-06-22T11:26:18.930Z"
   },
   {
    "duration": 981,
    "start_time": "2023-06-22T11:26:18.955Z"
   },
   {
    "duration": 8,
    "start_time": "2023-06-22T11:26:19.939Z"
   },
   {
    "duration": 64,
    "start_time": "2023-06-22T11:26:19.949Z"
   },
   {
    "duration": 90,
    "start_time": "2023-06-22T11:26:20.016Z"
   },
   {
    "duration": 51,
    "start_time": "2023-06-22T11:26:20.111Z"
   },
   {
    "duration": 73,
    "start_time": "2023-06-22T11:26:20.165Z"
   },
   {
    "duration": 41,
    "start_time": "2023-06-22T11:26:20.246Z"
   },
   {
    "duration": 8,
    "start_time": "2023-06-22T11:26:20.290Z"
   },
   {
    "duration": 26,
    "start_time": "2023-06-22T11:26:20.299Z"
   },
   {
    "duration": 13,
    "start_time": "2023-06-22T11:26:20.326Z"
   },
   {
    "duration": 34,
    "start_time": "2023-06-22T11:26:20.340Z"
   },
   {
    "duration": 117,
    "start_time": "2023-06-22T11:26:20.377Z"
   },
   {
    "duration": 31,
    "start_time": "2023-06-22T11:26:20.496Z"
   },
   {
    "duration": 53,
    "start_time": "2023-06-22T11:26:20.530Z"
   },
   {
    "duration": 47,
    "start_time": "2023-06-22T11:26:20.587Z"
   },
   {
    "duration": 25,
    "start_time": "2023-06-22T11:26:20.636Z"
   },
   {
    "duration": 65,
    "start_time": "2023-06-22T11:26:20.664Z"
   },
   {
    "duration": 89,
    "start_time": "2023-06-22T11:26:20.732Z"
   },
   {
    "duration": 65,
    "start_time": "2023-06-22T11:26:20.823Z"
   },
   {
    "duration": 314,
    "start_time": "2023-06-22T11:26:20.889Z"
   },
   {
    "duration": 51,
    "start_time": "2023-06-22T11:26:21.208Z"
   },
   {
    "duration": 146,
    "start_time": "2023-06-22T11:26:21.262Z"
   },
   {
    "duration": 0,
    "start_time": "2023-06-22T11:26:21.411Z"
   },
   {
    "duration": 0,
    "start_time": "2023-06-22T11:26:21.413Z"
   },
   {
    "duration": 0,
    "start_time": "2023-06-22T11:26:21.415Z"
   },
   {
    "duration": 0,
    "start_time": "2023-06-22T11:26:21.416Z"
   },
   {
    "duration": 0,
    "start_time": "2023-06-22T11:26:21.419Z"
   },
   {
    "duration": 0,
    "start_time": "2023-06-22T11:26:21.421Z"
   },
   {
    "duration": 0,
    "start_time": "2023-06-22T11:26:21.423Z"
   },
   {
    "duration": 0,
    "start_time": "2023-06-22T11:26:21.425Z"
   },
   {
    "duration": 0,
    "start_time": "2023-06-22T11:26:21.429Z"
   },
   {
    "duration": 0,
    "start_time": "2023-06-22T11:26:21.431Z"
   },
   {
    "duration": 0,
    "start_time": "2023-06-22T11:26:21.432Z"
   },
   {
    "duration": 0,
    "start_time": "2023-06-22T11:26:21.433Z"
   },
   {
    "duration": 0,
    "start_time": "2023-06-22T11:26:21.434Z"
   },
   {
    "duration": 0,
    "start_time": "2023-06-22T11:26:21.435Z"
   },
   {
    "duration": 0,
    "start_time": "2023-06-22T11:26:21.437Z"
   },
   {
    "duration": 0,
    "start_time": "2023-06-22T11:26:21.438Z"
   },
   {
    "duration": 0,
    "start_time": "2023-06-22T11:26:21.440Z"
   },
   {
    "duration": 1,
    "start_time": "2023-06-22T11:26:21.441Z"
   },
   {
    "duration": 0,
    "start_time": "2023-06-22T11:26:21.444Z"
   },
   {
    "duration": 0,
    "start_time": "2023-06-22T11:26:21.445Z"
   },
   {
    "duration": 0,
    "start_time": "2023-06-22T11:26:21.447Z"
   },
   {
    "duration": 0,
    "start_time": "2023-06-22T11:26:21.449Z"
   },
   {
    "duration": 0,
    "start_time": "2023-06-22T11:26:21.450Z"
   },
   {
    "duration": 0,
    "start_time": "2023-06-22T11:26:21.451Z"
   },
   {
    "duration": 0,
    "start_time": "2023-06-22T11:26:21.453Z"
   },
   {
    "duration": 0,
    "start_time": "2023-06-22T11:26:21.502Z"
   },
   {
    "duration": 0,
    "start_time": "2023-06-22T11:26:21.506Z"
   },
   {
    "duration": 0,
    "start_time": "2023-06-22T11:26:21.507Z"
   },
   {
    "duration": 0,
    "start_time": "2023-06-22T11:26:21.509Z"
   },
   {
    "duration": 0,
    "start_time": "2023-06-22T11:26:21.510Z"
   },
   {
    "duration": 0,
    "start_time": "2023-06-22T11:26:21.511Z"
   },
   {
    "duration": 0,
    "start_time": "2023-06-22T11:26:21.512Z"
   },
   {
    "duration": 0,
    "start_time": "2023-06-22T11:26:21.513Z"
   },
   {
    "duration": 0,
    "start_time": "2023-06-22T11:26:21.514Z"
   },
   {
    "duration": 0,
    "start_time": "2023-06-22T11:26:21.518Z"
   },
   {
    "duration": 8,
    "start_time": "2023-06-22T11:27:18.135Z"
   },
   {
    "duration": 158,
    "start_time": "2023-06-22T11:27:23.710Z"
   },
   {
    "duration": 36,
    "start_time": "2023-06-22T11:28:17.326Z"
   },
   {
    "duration": 39,
    "start_time": "2023-06-22T11:28:40.434Z"
   },
   {
    "duration": 354,
    "start_time": "2023-06-22T11:28:43.518Z"
   },
   {
    "duration": 2695,
    "start_time": "2023-06-22T11:31:03.465Z"
   },
   {
    "duration": 7,
    "start_time": "2023-06-22T11:31:06.211Z"
   },
   {
    "duration": 409,
    "start_time": "2023-06-22T11:31:06.224Z"
   },
   {
    "duration": 96,
    "start_time": "2023-06-22T11:31:06.637Z"
   },
   {
    "duration": 327,
    "start_time": "2023-06-22T11:31:06.736Z"
   },
   {
    "duration": 3,
    "start_time": "2023-06-22T11:31:07.065Z"
   },
   {
    "duration": 29,
    "start_time": "2023-06-22T11:31:07.071Z"
   },
   {
    "duration": 78,
    "start_time": "2023-06-22T11:31:07.109Z"
   },
   {
    "duration": 78,
    "start_time": "2023-06-22T11:31:07.190Z"
   },
   {
    "duration": 13,
    "start_time": "2023-06-22T11:31:07.273Z"
   },
   {
    "duration": 435,
    "start_time": "2023-06-22T11:31:07.288Z"
   },
   {
    "duration": 5,
    "start_time": "2023-06-22T11:31:07.725Z"
   },
   {
    "duration": 39,
    "start_time": "2023-06-22T11:31:07.732Z"
   },
   {
    "duration": 4,
    "start_time": "2023-06-22T11:31:07.773Z"
   },
   {
    "duration": 11,
    "start_time": "2023-06-22T11:31:07.779Z"
   },
   {
    "duration": 74,
    "start_time": "2023-06-22T11:31:07.792Z"
   },
   {
    "duration": 19,
    "start_time": "2023-06-22T11:31:07.868Z"
   },
   {
    "duration": 16,
    "start_time": "2023-06-22T11:31:07.889Z"
   },
   {
    "duration": 519,
    "start_time": "2023-06-22T11:31:07.907Z"
   },
   {
    "duration": 2735,
    "start_time": "2023-06-22T11:31:08.434Z"
   },
   {
    "duration": 0,
    "start_time": "2023-06-22T11:31:11.175Z"
   },
   {
    "duration": 0,
    "start_time": "2023-06-22T11:31:11.177Z"
   },
   {
    "duration": 0,
    "start_time": "2023-06-22T11:31:11.178Z"
   },
   {
    "duration": 0,
    "start_time": "2023-06-22T11:31:11.180Z"
   },
   {
    "duration": 0,
    "start_time": "2023-06-22T11:31:11.182Z"
   },
   {
    "duration": 0,
    "start_time": "2023-06-22T11:31:11.183Z"
   },
   {
    "duration": 0,
    "start_time": "2023-06-22T11:31:11.184Z"
   },
   {
    "duration": 0,
    "start_time": "2023-06-22T11:31:11.186Z"
   },
   {
    "duration": 0,
    "start_time": "2023-06-22T11:31:11.187Z"
   },
   {
    "duration": 0,
    "start_time": "2023-06-22T11:31:11.188Z"
   },
   {
    "duration": 0,
    "start_time": "2023-06-22T11:31:11.190Z"
   },
   {
    "duration": 0,
    "start_time": "2023-06-22T11:31:11.191Z"
   },
   {
    "duration": 0,
    "start_time": "2023-06-22T11:31:11.192Z"
   },
   {
    "duration": 0,
    "start_time": "2023-06-22T11:31:11.194Z"
   },
   {
    "duration": 0,
    "start_time": "2023-06-22T11:31:11.196Z"
   },
   {
    "duration": 0,
    "start_time": "2023-06-22T11:31:11.197Z"
   },
   {
    "duration": 0,
    "start_time": "2023-06-22T11:31:11.199Z"
   },
   {
    "duration": 0,
    "start_time": "2023-06-22T11:31:11.201Z"
   },
   {
    "duration": 0,
    "start_time": "2023-06-22T11:31:11.202Z"
   },
   {
    "duration": 0,
    "start_time": "2023-06-22T11:31:11.203Z"
   },
   {
    "duration": 0,
    "start_time": "2023-06-22T11:31:11.204Z"
   },
   {
    "duration": 0,
    "start_time": "2023-06-22T11:31:11.206Z"
   },
   {
    "duration": 0,
    "start_time": "2023-06-22T11:31:11.208Z"
   },
   {
    "duration": 0,
    "start_time": "2023-06-22T11:31:11.209Z"
   },
   {
    "duration": 0,
    "start_time": "2023-06-22T11:31:11.210Z"
   },
   {
    "duration": 1,
    "start_time": "2023-06-22T11:31:11.217Z"
   },
   {
    "duration": 0,
    "start_time": "2023-06-22T11:31:11.219Z"
   },
   {
    "duration": 0,
    "start_time": "2023-06-22T11:31:11.220Z"
   },
   {
    "duration": 0,
    "start_time": "2023-06-22T11:31:11.222Z"
   },
   {
    "duration": 0,
    "start_time": "2023-06-22T11:31:11.224Z"
   },
   {
    "duration": 0,
    "start_time": "2023-06-22T11:31:11.226Z"
   },
   {
    "duration": 1,
    "start_time": "2023-06-22T11:31:11.227Z"
   },
   {
    "duration": 0,
    "start_time": "2023-06-22T11:31:11.230Z"
   },
   {
    "duration": 0,
    "start_time": "2023-06-22T11:31:11.232Z"
   },
   {
    "duration": 0,
    "start_time": "2023-06-22T11:31:11.236Z"
   },
   {
    "duration": 1,
    "start_time": "2023-06-22T11:31:11.237Z"
   },
   {
    "duration": 0,
    "start_time": "2023-06-22T11:31:11.239Z"
   },
   {
    "duration": 1,
    "start_time": "2023-06-22T11:31:11.240Z"
   },
   {
    "duration": 0,
    "start_time": "2023-06-22T11:31:11.242Z"
   },
   {
    "duration": 0,
    "start_time": "2023-06-22T11:31:11.244Z"
   },
   {
    "duration": 0,
    "start_time": "2023-06-22T11:31:11.247Z"
   },
   {
    "duration": 0,
    "start_time": "2023-06-22T11:31:11.249Z"
   },
   {
    "duration": 0,
    "start_time": "2023-06-22T11:31:11.250Z"
   },
   {
    "duration": 0,
    "start_time": "2023-06-22T11:31:11.252Z"
   },
   {
    "duration": 0,
    "start_time": "2023-06-22T11:31:11.253Z"
   },
   {
    "duration": 0,
    "start_time": "2023-06-22T11:31:11.254Z"
   },
   {
    "duration": 0,
    "start_time": "2023-06-22T11:31:11.255Z"
   },
   {
    "duration": 0,
    "start_time": "2023-06-22T11:31:11.256Z"
   },
   {
    "duration": 0,
    "start_time": "2023-06-22T11:31:11.257Z"
   },
   {
    "duration": 0,
    "start_time": "2023-06-22T11:31:11.258Z"
   },
   {
    "duration": 0,
    "start_time": "2023-06-22T11:31:11.260Z"
   },
   {
    "duration": 0,
    "start_time": "2023-06-22T11:31:11.261Z"
   },
   {
    "duration": 0,
    "start_time": "2023-06-22T11:31:11.262Z"
   },
   {
    "duration": 0,
    "start_time": "2023-06-22T11:31:11.263Z"
   },
   {
    "duration": 0,
    "start_time": "2023-06-22T11:31:11.266Z"
   },
   {
    "duration": 0,
    "start_time": "2023-06-22T11:31:11.267Z"
   },
   {
    "duration": 0,
    "start_time": "2023-06-22T11:31:11.301Z"
   },
   {
    "duration": 338,
    "start_time": "2023-06-22T11:41:25.040Z"
   },
   {
    "duration": 1708,
    "start_time": "2023-06-22T11:42:08.451Z"
   },
   {
    "duration": 5,
    "start_time": "2023-06-22T11:42:10.161Z"
   },
   {
    "duration": 244,
    "start_time": "2023-06-22T11:42:10.168Z"
   },
   {
    "duration": 35,
    "start_time": "2023-06-22T11:42:10.415Z"
   },
   {
    "duration": 166,
    "start_time": "2023-06-22T11:42:10.453Z"
   },
   {
    "duration": 5,
    "start_time": "2023-06-22T11:42:10.620Z"
   },
   {
    "duration": 94,
    "start_time": "2023-06-22T11:42:10.626Z"
   },
   {
    "duration": 82,
    "start_time": "2023-06-22T11:42:10.722Z"
   },
   {
    "duration": 124,
    "start_time": "2023-06-22T11:42:10.810Z"
   },
   {
    "duration": 5,
    "start_time": "2023-06-22T11:42:10.937Z"
   },
   {
    "duration": 784,
    "start_time": "2023-06-22T11:42:10.944Z"
   },
   {
    "duration": 12,
    "start_time": "2023-06-22T11:42:11.729Z"
   },
   {
    "duration": 6,
    "start_time": "2023-06-22T11:42:11.743Z"
   },
   {
    "duration": 68,
    "start_time": "2023-06-22T11:42:11.751Z"
   },
   {
    "duration": 92,
    "start_time": "2023-06-22T11:42:11.822Z"
   },
   {
    "duration": 26,
    "start_time": "2023-06-22T11:42:11.916Z"
   },
   {
    "duration": 4,
    "start_time": "2023-06-22T11:42:11.944Z"
   },
   {
    "duration": 57,
    "start_time": "2023-06-22T11:42:11.950Z"
   },
   {
    "duration": 49,
    "start_time": "2023-06-22T11:42:12.008Z"
   },
   {
    "duration": 74,
    "start_time": "2023-06-22T11:42:12.059Z"
   },
   {
    "duration": 10,
    "start_time": "2023-06-22T11:42:12.136Z"
   },
   {
    "duration": 54,
    "start_time": "2023-06-22T11:42:12.148Z"
   },
   {
    "duration": 24,
    "start_time": "2023-06-22T11:42:12.203Z"
   },
   {
    "duration": 22,
    "start_time": "2023-06-22T11:42:12.229Z"
   },
   {
    "duration": 15,
    "start_time": "2023-06-22T11:42:12.253Z"
   },
   {
    "duration": 16,
    "start_time": "2023-06-22T11:42:12.304Z"
   },
   {
    "duration": 40,
    "start_time": "2023-06-22T11:42:12.322Z"
   },
   {
    "duration": 38,
    "start_time": "2023-06-22T11:42:12.403Z"
   },
   {
    "duration": 7,
    "start_time": "2023-06-22T11:42:12.443Z"
   },
   {
    "duration": 60,
    "start_time": "2023-06-22T11:42:12.452Z"
   },
   {
    "duration": 7,
    "start_time": "2023-06-22T11:42:12.518Z"
   },
   {
    "duration": 19,
    "start_time": "2023-06-22T11:42:12.527Z"
   },
   {
    "duration": 6,
    "start_time": "2023-06-22T11:42:12.548Z"
   },
   {
    "duration": 93,
    "start_time": "2023-06-22T11:42:12.556Z"
   },
   {
    "duration": 261,
    "start_time": "2023-06-22T11:42:12.651Z"
   },
   {
    "duration": 826,
    "start_time": "2023-06-22T11:42:12.916Z"
   },
   {
    "duration": 99,
    "start_time": "2023-06-22T11:42:13.744Z"
   },
   {
    "duration": 319,
    "start_time": "2023-06-22T11:42:13.844Z"
   },
   {
    "duration": 0,
    "start_time": "2023-06-22T11:42:14.202Z"
   },
   {
    "duration": 0,
    "start_time": "2023-06-22T11:42:14.203Z"
   },
   {
    "duration": 0,
    "start_time": "2023-06-22T11:42:14.204Z"
   },
   {
    "duration": 0,
    "start_time": "2023-06-22T11:42:14.205Z"
   },
   {
    "duration": 0,
    "start_time": "2023-06-22T11:42:14.207Z"
   },
   {
    "duration": 0,
    "start_time": "2023-06-22T11:42:14.208Z"
   },
   {
    "duration": 0,
    "start_time": "2023-06-22T11:42:14.209Z"
   },
   {
    "duration": 0,
    "start_time": "2023-06-22T11:42:14.211Z"
   },
   {
    "duration": 0,
    "start_time": "2023-06-22T11:42:14.212Z"
   },
   {
    "duration": 0,
    "start_time": "2023-06-22T11:42:14.214Z"
   },
   {
    "duration": 1,
    "start_time": "2023-06-22T11:42:14.215Z"
   },
   {
    "duration": 0,
    "start_time": "2023-06-22T11:42:14.217Z"
   },
   {
    "duration": 0,
    "start_time": "2023-06-22T11:42:14.218Z"
   },
   {
    "duration": 0,
    "start_time": "2023-06-22T11:42:14.219Z"
   },
   {
    "duration": 0,
    "start_time": "2023-06-22T11:42:14.221Z"
   },
   {
    "duration": 0,
    "start_time": "2023-06-22T11:42:14.223Z"
   },
   {
    "duration": 0,
    "start_time": "2023-06-22T11:42:14.224Z"
   },
   {
    "duration": 0,
    "start_time": "2023-06-22T11:42:14.225Z"
   },
   {
    "duration": 0,
    "start_time": "2023-06-22T11:42:14.227Z"
   },
   {
    "duration": 0,
    "start_time": "2023-06-22T11:42:14.228Z"
   },
   {
    "duration": 0,
    "start_time": "2023-06-22T11:42:14.231Z"
   },
   {
    "duration": 0,
    "start_time": "2023-06-22T11:42:14.232Z"
   },
   {
    "duration": 0,
    "start_time": "2023-06-22T11:42:14.233Z"
   },
   {
    "duration": 0,
    "start_time": "2023-06-22T11:42:14.234Z"
   },
   {
    "duration": 0,
    "start_time": "2023-06-22T11:42:14.235Z"
   },
   {
    "duration": 0,
    "start_time": "2023-06-22T11:42:14.236Z"
   },
   {
    "duration": 0,
    "start_time": "2023-06-22T11:42:14.236Z"
   },
   {
    "duration": 0,
    "start_time": "2023-06-22T11:42:14.237Z"
   },
   {
    "duration": 0,
    "start_time": "2023-06-22T11:42:14.238Z"
   },
   {
    "duration": 0,
    "start_time": "2023-06-22T11:42:14.239Z"
   },
   {
    "duration": 0,
    "start_time": "2023-06-22T11:42:14.240Z"
   },
   {
    "duration": 0,
    "start_time": "2023-06-22T11:42:14.242Z"
   },
   {
    "duration": 0,
    "start_time": "2023-06-22T11:42:14.244Z"
   },
   {
    "duration": 0,
    "start_time": "2023-06-22T11:42:14.245Z"
   },
   {
    "duration": 0,
    "start_time": "2023-06-22T11:42:14.247Z"
   },
   {
    "duration": 1745,
    "start_time": "2023-06-22T11:42:26.931Z"
   },
   {
    "duration": 4,
    "start_time": "2023-06-22T11:42:28.678Z"
   },
   {
    "duration": 207,
    "start_time": "2023-06-22T11:42:28.683Z"
   },
   {
    "duration": 42,
    "start_time": "2023-06-22T11:42:28.903Z"
   },
   {
    "duration": 114,
    "start_time": "2023-06-22T11:42:28.947Z"
   },
   {
    "duration": 21655,
    "start_time": "2023-06-22T11:42:29.062Z"
   },
   {
    "duration": 25,
    "start_time": "2023-06-22T11:42:50.719Z"
   },
   {
    "duration": 9,
    "start_time": "2023-06-22T11:42:50.746Z"
   },
   {
    "duration": 49,
    "start_time": "2023-06-22T11:42:50.757Z"
   },
   {
    "duration": 7,
    "start_time": "2023-06-22T11:42:50.808Z"
   },
   {
    "duration": 366,
    "start_time": "2023-06-22T11:42:50.817Z"
   },
   {
    "duration": 18,
    "start_time": "2023-06-22T11:42:51.185Z"
   },
   {
    "duration": 34,
    "start_time": "2023-06-22T11:42:51.204Z"
   },
   {
    "duration": 23,
    "start_time": "2023-06-22T11:42:51.241Z"
   },
   {
    "duration": 31,
    "start_time": "2023-06-22T11:42:51.266Z"
   },
   {
    "duration": 25,
    "start_time": "2023-06-22T11:42:51.299Z"
   },
   {
    "duration": 48,
    "start_time": "2023-06-22T11:42:51.326Z"
   },
   {
    "duration": 73,
    "start_time": "2023-06-22T11:42:51.376Z"
   },
   {
    "duration": 24,
    "start_time": "2023-06-22T11:42:51.450Z"
   },
   {
    "duration": 31,
    "start_time": "2023-06-22T11:42:51.476Z"
   },
   {
    "duration": 29,
    "start_time": "2023-06-22T11:42:51.508Z"
   },
   {
    "duration": 18,
    "start_time": "2023-06-22T11:42:51.538Z"
   },
   {
    "duration": 27,
    "start_time": "2023-06-22T11:42:51.558Z"
   },
   {
    "duration": 53,
    "start_time": "2023-06-22T11:42:51.588Z"
   },
   {
    "duration": 9,
    "start_time": "2023-06-22T11:42:51.643Z"
   },
   {
    "duration": 32,
    "start_time": "2023-06-22T11:42:51.653Z"
   },
   {
    "duration": 61,
    "start_time": "2023-06-22T11:42:51.687Z"
   },
   {
    "duration": 48,
    "start_time": "2023-06-22T11:42:51.751Z"
   },
   {
    "duration": 10,
    "start_time": "2023-06-22T11:42:51.801Z"
   },
   {
    "duration": 47,
    "start_time": "2023-06-22T11:42:51.814Z"
   },
   {
    "duration": 34,
    "start_time": "2023-06-22T11:42:51.864Z"
   },
   {
    "duration": 34,
    "start_time": "2023-06-22T11:42:51.900Z"
   },
   {
    "duration": 30,
    "start_time": "2023-06-22T11:42:51.937Z"
   },
   {
    "duration": 38,
    "start_time": "2023-06-22T11:42:51.969Z"
   },
   {
    "duration": 95,
    "start_time": "2023-06-22T11:42:52.009Z"
   },
   {
    "duration": 354,
    "start_time": "2023-06-22T11:42:52.106Z"
   },
   {
    "duration": 59,
    "start_time": "2023-06-22T11:42:52.461Z"
   },
   {
    "duration": 139,
    "start_time": "2023-06-22T11:42:52.524Z"
   },
   {
    "duration": 0,
    "start_time": "2023-06-22T11:42:52.667Z"
   },
   {
    "duration": 0,
    "start_time": "2023-06-22T11:42:52.669Z"
   },
   {
    "duration": 0,
    "start_time": "2023-06-22T11:42:52.670Z"
   },
   {
    "duration": 0,
    "start_time": "2023-06-22T11:42:52.671Z"
   },
   {
    "duration": 0,
    "start_time": "2023-06-22T11:42:52.673Z"
   },
   {
    "duration": 0,
    "start_time": "2023-06-22T11:42:52.674Z"
   },
   {
    "duration": 0,
    "start_time": "2023-06-22T11:42:52.676Z"
   },
   {
    "duration": 0,
    "start_time": "2023-06-22T11:42:52.677Z"
   },
   {
    "duration": 0,
    "start_time": "2023-06-22T11:42:52.701Z"
   },
   {
    "duration": 0,
    "start_time": "2023-06-22T11:42:52.702Z"
   },
   {
    "duration": 0,
    "start_time": "2023-06-22T11:42:52.703Z"
   },
   {
    "duration": 0,
    "start_time": "2023-06-22T11:42:52.705Z"
   },
   {
    "duration": 0,
    "start_time": "2023-06-22T11:42:52.706Z"
   },
   {
    "duration": 0,
    "start_time": "2023-06-22T11:42:52.707Z"
   },
   {
    "duration": 0,
    "start_time": "2023-06-22T11:42:52.709Z"
   },
   {
    "duration": 0,
    "start_time": "2023-06-22T11:42:52.712Z"
   },
   {
    "duration": 0,
    "start_time": "2023-06-22T11:42:52.713Z"
   },
   {
    "duration": 0,
    "start_time": "2023-06-22T11:42:52.714Z"
   },
   {
    "duration": 0,
    "start_time": "2023-06-22T11:42:52.718Z"
   },
   {
    "duration": 0,
    "start_time": "2023-06-22T11:42:52.719Z"
   },
   {
    "duration": 0,
    "start_time": "2023-06-22T11:42:52.720Z"
   },
   {
    "duration": 0,
    "start_time": "2023-06-22T11:42:52.721Z"
   },
   {
    "duration": 0,
    "start_time": "2023-06-22T11:42:52.723Z"
   },
   {
    "duration": 0,
    "start_time": "2023-06-22T11:42:52.724Z"
   },
   {
    "duration": 0,
    "start_time": "2023-06-22T11:42:52.725Z"
   },
   {
    "duration": 0,
    "start_time": "2023-06-22T11:42:52.726Z"
   },
   {
    "duration": 0,
    "start_time": "2023-06-22T11:42:52.728Z"
   },
   {
    "duration": 0,
    "start_time": "2023-06-22T11:42:52.729Z"
   },
   {
    "duration": 0,
    "start_time": "2023-06-22T11:42:52.731Z"
   },
   {
    "duration": 0,
    "start_time": "2023-06-22T11:42:52.733Z"
   },
   {
    "duration": 0,
    "start_time": "2023-06-22T11:42:52.735Z"
   },
   {
    "duration": 0,
    "start_time": "2023-06-22T11:42:52.736Z"
   },
   {
    "duration": 0,
    "start_time": "2023-06-22T11:42:52.738Z"
   },
   {
    "duration": 0,
    "start_time": "2023-06-22T11:42:52.739Z"
   },
   {
    "duration": 0,
    "start_time": "2023-06-22T11:42:52.741Z"
   },
   {
    "duration": 5,
    "start_time": "2023-06-22T11:44:17.833Z"
   },
   {
    "duration": 6,
    "start_time": "2023-06-22T11:44:42.518Z"
   },
   {
    "duration": 1801,
    "start_time": "2023-06-22T11:44:48.244Z"
   },
   {
    "duration": 4,
    "start_time": "2023-06-22T11:44:50.048Z"
   },
   {
    "duration": 353,
    "start_time": "2023-06-22T11:44:50.053Z"
   },
   {
    "duration": 40,
    "start_time": "2023-06-22T11:44:50.408Z"
   },
   {
    "duration": 242,
    "start_time": "2023-06-22T11:44:50.505Z"
   },
   {
    "duration": 1671,
    "start_time": "2023-06-22T11:45:16.129Z"
   },
   {
    "duration": 5,
    "start_time": "2023-06-22T11:45:17.802Z"
   },
   {
    "duration": 172,
    "start_time": "2023-06-22T11:45:17.809Z"
   },
   {
    "duration": 50,
    "start_time": "2023-06-22T11:45:17.982Z"
   },
   {
    "duration": 107,
    "start_time": "2023-06-22T11:45:18.035Z"
   },
   {
    "duration": 21095,
    "start_time": "2023-06-22T11:45:18.144Z"
   },
   {
    "duration": 17,
    "start_time": "2023-06-22T11:45:39.241Z"
   },
   {
    "duration": 13,
    "start_time": "2023-06-22T11:45:39.260Z"
   },
   {
    "duration": 41,
    "start_time": "2023-06-22T11:45:39.275Z"
   },
   {
    "duration": 32,
    "start_time": "2023-06-22T11:45:39.318Z"
   },
   {
    "duration": 350,
    "start_time": "2023-06-22T11:45:39.352Z"
   },
   {
    "duration": 10,
    "start_time": "2023-06-22T11:45:39.705Z"
   },
   {
    "duration": 27,
    "start_time": "2023-06-22T11:45:39.717Z"
   },
   {
    "duration": 17,
    "start_time": "2023-06-22T11:45:39.749Z"
   },
   {
    "duration": 39,
    "start_time": "2023-06-22T11:45:39.769Z"
   },
   {
    "duration": 75,
    "start_time": "2023-06-22T11:45:39.810Z"
   },
   {
    "duration": 10,
    "start_time": "2023-06-22T11:45:39.887Z"
   },
   {
    "duration": 49,
    "start_time": "2023-06-22T11:45:39.899Z"
   },
   {
    "duration": 19,
    "start_time": "2023-06-22T11:45:39.949Z"
   },
   {
    "duration": 58,
    "start_time": "2023-06-22T11:45:39.970Z"
   },
   {
    "duration": 37,
    "start_time": "2023-06-22T11:45:40.029Z"
   },
   {
    "duration": 22,
    "start_time": "2023-06-22T11:45:40.068Z"
   },
   {
    "duration": 60,
    "start_time": "2023-06-22T11:45:40.092Z"
   },
   {
    "duration": 17,
    "start_time": "2023-06-22T11:45:40.154Z"
   },
   {
    "duration": 9,
    "start_time": "2023-06-22T11:45:40.174Z"
   },
   {
    "duration": 18,
    "start_time": "2023-06-22T11:45:40.184Z"
   },
   {
    "duration": 49,
    "start_time": "2023-06-22T11:45:40.206Z"
   },
   {
    "duration": 41,
    "start_time": "2023-06-22T11:45:40.256Z"
   },
   {
    "duration": 42,
    "start_time": "2023-06-22T11:45:40.299Z"
   },
   {
    "duration": 31,
    "start_time": "2023-06-22T11:45:40.343Z"
   },
   {
    "duration": 28,
    "start_time": "2023-06-22T11:45:40.376Z"
   },
   {
    "duration": 50,
    "start_time": "2023-06-22T11:45:40.408Z"
   },
   {
    "duration": 36,
    "start_time": "2023-06-22T11:45:40.460Z"
   },
   {
    "duration": 106,
    "start_time": "2023-06-22T11:45:40.498Z"
   },
   {
    "duration": 202,
    "start_time": "2023-06-22T11:45:40.606Z"
   },
   {
    "duration": 280,
    "start_time": "2023-06-22T11:45:40.811Z"
   },
   {
    "duration": 52,
    "start_time": "2023-06-22T11:45:41.093Z"
   },
   {
    "duration": 162,
    "start_time": "2023-06-22T11:45:41.147Z"
   },
   {
    "duration": 0,
    "start_time": "2023-06-22T11:45:41.316Z"
   },
   {
    "duration": 0,
    "start_time": "2023-06-22T11:45:41.318Z"
   },
   {
    "duration": 0,
    "start_time": "2023-06-22T11:45:41.319Z"
   },
   {
    "duration": 0,
    "start_time": "2023-06-22T11:45:41.320Z"
   },
   {
    "duration": 0,
    "start_time": "2023-06-22T11:45:41.321Z"
   },
   {
    "duration": 0,
    "start_time": "2023-06-22T11:45:41.322Z"
   },
   {
    "duration": 0,
    "start_time": "2023-06-22T11:45:41.324Z"
   },
   {
    "duration": 0,
    "start_time": "2023-06-22T11:45:41.325Z"
   },
   {
    "duration": 0,
    "start_time": "2023-06-22T11:45:41.328Z"
   },
   {
    "duration": 0,
    "start_time": "2023-06-22T11:45:41.329Z"
   },
   {
    "duration": 0,
    "start_time": "2023-06-22T11:45:41.330Z"
   },
   {
    "duration": 0,
    "start_time": "2023-06-22T11:45:41.330Z"
   },
   {
    "duration": 0,
    "start_time": "2023-06-22T11:45:41.331Z"
   },
   {
    "duration": 0,
    "start_time": "2023-06-22T11:45:41.332Z"
   },
   {
    "duration": 0,
    "start_time": "2023-06-22T11:45:41.341Z"
   },
   {
    "duration": 0,
    "start_time": "2023-06-22T11:45:41.344Z"
   },
   {
    "duration": 0,
    "start_time": "2023-06-22T11:45:41.345Z"
   },
   {
    "duration": 0,
    "start_time": "2023-06-22T11:45:41.346Z"
   },
   {
    "duration": 0,
    "start_time": "2023-06-22T11:45:41.347Z"
   },
   {
    "duration": 0,
    "start_time": "2023-06-22T11:45:41.349Z"
   },
   {
    "duration": 0,
    "start_time": "2023-06-22T11:45:41.350Z"
   },
   {
    "duration": 0,
    "start_time": "2023-06-22T11:45:41.352Z"
   },
   {
    "duration": 0,
    "start_time": "2023-06-22T11:45:41.353Z"
   },
   {
    "duration": 0,
    "start_time": "2023-06-22T11:45:41.354Z"
   },
   {
    "duration": 0,
    "start_time": "2023-06-22T11:45:41.355Z"
   },
   {
    "duration": 0,
    "start_time": "2023-06-22T11:45:41.357Z"
   },
   {
    "duration": 0,
    "start_time": "2023-06-22T11:45:41.358Z"
   },
   {
    "duration": 0,
    "start_time": "2023-06-22T11:45:41.360Z"
   },
   {
    "duration": 0,
    "start_time": "2023-06-22T11:45:41.361Z"
   },
   {
    "duration": 0,
    "start_time": "2023-06-22T11:45:41.362Z"
   },
   {
    "duration": 0,
    "start_time": "2023-06-22T11:45:41.363Z"
   },
   {
    "duration": 0,
    "start_time": "2023-06-22T11:45:41.365Z"
   },
   {
    "duration": 0,
    "start_time": "2023-06-22T11:45:41.402Z"
   },
   {
    "duration": 0,
    "start_time": "2023-06-22T11:45:41.402Z"
   },
   {
    "duration": 0,
    "start_time": "2023-06-22T11:45:41.403Z"
   },
   {
    "duration": 6,
    "start_time": "2023-06-22T11:46:58.468Z"
   },
   {
    "duration": 5,
    "start_time": "2023-06-22T11:47:03.923Z"
   },
   {
    "duration": 6,
    "start_time": "2023-06-22T11:47:07.879Z"
   },
   {
    "duration": 6,
    "start_time": "2023-06-22T11:48:18.940Z"
   },
   {
    "duration": 83,
    "start_time": "2023-06-22T11:51:28.710Z"
   },
   {
    "duration": 18,
    "start_time": "2023-06-22T11:51:28.802Z"
   },
   {
    "duration": 3321,
    "start_time": "2023-06-22T11:51:35.247Z"
   },
   {
    "duration": 41,
    "start_time": "2023-06-22T11:51:38.571Z"
   },
   {
    "duration": 412,
    "start_time": "2023-06-22T11:51:38.617Z"
   },
   {
    "duration": 82,
    "start_time": "2023-06-22T11:51:39.031Z"
   },
   {
    "duration": 225,
    "start_time": "2023-06-22T11:51:39.116Z"
   },
   {
    "duration": 2239,
    "start_time": "2023-06-22T11:52:05.637Z"
   },
   {
    "duration": 6,
    "start_time": "2023-06-22T11:52:07.879Z"
   },
   {
    "duration": 274,
    "start_time": "2023-06-22T11:52:07.887Z"
   },
   {
    "duration": 45,
    "start_time": "2023-06-22T11:52:08.165Z"
   },
   {
    "duration": 173,
    "start_time": "2023-06-22T11:52:08.214Z"
   },
   {
    "duration": 24729,
    "start_time": "2023-06-22T11:52:08.390Z"
   },
   {
    "duration": 43,
    "start_time": "2023-06-22T11:52:33.120Z"
   },
   {
    "duration": 34,
    "start_time": "2023-06-22T11:52:33.164Z"
   },
   {
    "duration": 77,
    "start_time": "2023-06-22T11:52:33.200Z"
   },
   {
    "duration": 19,
    "start_time": "2023-06-22T11:52:33.280Z"
   },
   {
    "duration": 427,
    "start_time": "2023-06-22T11:52:33.302Z"
   },
   {
    "duration": 18,
    "start_time": "2023-06-22T11:52:33.732Z"
   },
   {
    "duration": 45,
    "start_time": "2023-06-22T11:52:33.753Z"
   },
   {
    "duration": 50,
    "start_time": "2023-06-22T11:52:33.805Z"
   },
   {
    "duration": 70,
    "start_time": "2023-06-22T11:52:33.857Z"
   },
   {
    "duration": 31,
    "start_time": "2023-06-22T11:52:33.935Z"
   },
   {
    "duration": 12,
    "start_time": "2023-06-22T11:52:33.969Z"
   },
   {
    "duration": 26,
    "start_time": "2023-06-22T11:52:33.987Z"
   },
   {
    "duration": 40,
    "start_time": "2023-06-22T11:52:34.015Z"
   },
   {
    "duration": 27,
    "start_time": "2023-06-22T11:52:34.057Z"
   },
   {
    "duration": 53,
    "start_time": "2023-06-22T11:52:34.087Z"
   },
   {
    "duration": 21,
    "start_time": "2023-06-22T11:52:34.145Z"
   },
   {
    "duration": 28,
    "start_time": "2023-06-22T11:52:34.168Z"
   },
   {
    "duration": 51,
    "start_time": "2023-06-22T11:52:34.199Z"
   },
   {
    "duration": 16,
    "start_time": "2023-06-22T11:52:34.254Z"
   },
   {
    "duration": 20,
    "start_time": "2023-06-22T11:52:34.273Z"
   },
   {
    "duration": 32,
    "start_time": "2023-06-22T11:52:34.295Z"
   },
   {
    "duration": 30,
    "start_time": "2023-06-22T11:52:34.329Z"
   },
   {
    "duration": 39,
    "start_time": "2023-06-22T11:52:34.362Z"
   },
   {
    "duration": 40,
    "start_time": "2023-06-22T11:52:34.402Z"
   },
   {
    "duration": 26,
    "start_time": "2023-06-22T11:52:34.444Z"
   },
   {
    "duration": 78,
    "start_time": "2023-06-22T11:52:34.477Z"
   },
   {
    "duration": 23,
    "start_time": "2023-06-22T11:52:34.557Z"
   },
   {
    "duration": 10,
    "start_time": "2023-06-22T11:52:34.582Z"
   },
   {
    "duration": 48,
    "start_time": "2023-06-22T11:52:34.593Z"
   },
   {
    "duration": 92,
    "start_time": "2023-06-22T11:52:34.646Z"
   },
   {
    "duration": 386,
    "start_time": "2023-06-22T11:52:34.743Z"
   },
   {
    "duration": 49,
    "start_time": "2023-06-22T11:52:35.131Z"
   },
   {
    "duration": 22,
    "start_time": "2023-06-22T11:52:35.183Z"
   },
   {
    "duration": 91,
    "start_time": "2023-06-22T11:52:35.208Z"
   },
   {
    "duration": 278,
    "start_time": "2023-06-22T11:52:35.308Z"
   },
   {
    "duration": 9,
    "start_time": "2023-06-22T11:52:35.588Z"
   },
   {
    "duration": 244,
    "start_time": "2023-06-22T11:52:35.599Z"
   },
   {
    "duration": 9,
    "start_time": "2023-06-22T11:52:35.845Z"
   },
   {
    "duration": 202,
    "start_time": "2023-06-22T11:52:35.857Z"
   },
   {
    "duration": 107,
    "start_time": "2023-06-22T11:52:36.067Z"
   },
   {
    "duration": 2938,
    "start_time": "2023-06-22T11:52:36.177Z"
   },
   {
    "duration": 4409,
    "start_time": "2023-06-22T11:52:39.121Z"
   },
   {
    "duration": 6378,
    "start_time": "2023-06-22T11:52:43.533Z"
   },
   {
    "duration": 7513,
    "start_time": "2023-06-22T11:52:49.917Z"
   },
   {
    "duration": 7765,
    "start_time": "2023-06-22T11:52:57.432Z"
   },
   {
    "duration": 8781,
    "start_time": "2023-06-22T11:53:05.202Z"
   },
   {
    "duration": 10495,
    "start_time": "2023-06-22T11:53:13.985Z"
   },
   {
    "duration": 12264,
    "start_time": "2023-06-22T11:53:24.482Z"
   },
   {
    "duration": 12744,
    "start_time": "2023-06-22T11:53:36.748Z"
   },
   {
    "duration": 259,
    "start_time": "2023-06-22T11:53:49.494Z"
   },
   {
    "duration": 89,
    "start_time": "2023-06-22T11:53:49.757Z"
   },
   {
    "duration": 418,
    "start_time": "2023-06-22T11:53:49.904Z"
   },
   {
    "duration": 13,
    "start_time": "2023-06-22T11:53:50.324Z"
   },
   {
    "duration": 47,
    "start_time": "2023-06-22T11:53:50.339Z"
   },
   {
    "duration": 157,
    "start_time": "2023-06-22T11:53:50.388Z"
   },
   {
    "duration": 501,
    "start_time": "2023-06-22T11:53:50.550Z"
   },
   {
    "duration": 80,
    "start_time": "2023-06-22T11:53:51.053Z"
   },
   {
    "duration": 88,
    "start_time": "2023-06-22T11:53:51.138Z"
   },
   {
    "duration": 58,
    "start_time": "2023-06-22T11:53:51.229Z"
   },
   {
    "duration": 120,
    "start_time": "2023-06-22T11:53:51.289Z"
   },
   {
    "duration": 18,
    "start_time": "2023-06-22T11:53:51.411Z"
   },
   {
    "duration": 219,
    "start_time": "2023-06-22T11:53:51.431Z"
   },
   {
    "duration": 234,
    "start_time": "2023-06-22T11:53:51.652Z"
   },
   {
    "duration": 58,
    "start_time": "2023-06-22T11:53:51.888Z"
   },
   {
    "duration": 199,
    "start_time": "2023-06-22T11:53:51.948Z"
   },
   {
    "duration": 18,
    "start_time": "2023-06-22T11:53:52.150Z"
   },
   {
    "duration": 23,
    "start_time": "2023-06-22T11:53:52.169Z"
   },
   {
    "duration": 37,
    "start_time": "2023-06-22T11:53:52.194Z"
   },
   {
    "duration": 22,
    "start_time": "2023-06-22T11:57:59.530Z"
   },
   {
    "duration": 42,
    "start_time": "2023-06-22T12:01:15.619Z"
   },
   {
    "duration": 29,
    "start_time": "2023-06-22T12:01:31.531Z"
   },
   {
    "duration": 25,
    "start_time": "2023-06-22T12:01:42.928Z"
   },
   {
    "duration": 26,
    "start_time": "2023-06-22T12:02:04.621Z"
   },
   {
    "duration": 3390,
    "start_time": "2023-06-22T12:11:03.052Z"
   },
   {
    "duration": 5,
    "start_time": "2023-06-22T12:11:06.445Z"
   },
   {
    "duration": 346,
    "start_time": "2023-06-22T12:11:06.512Z"
   },
   {
    "duration": 49,
    "start_time": "2023-06-22T12:11:06.863Z"
   },
   {
    "duration": 152,
    "start_time": "2023-06-22T12:11:06.915Z"
   },
   {
    "duration": 22836,
    "start_time": "2023-06-22T12:11:07.070Z"
   },
   {
    "duration": 21,
    "start_time": "2023-06-22T12:11:29.919Z"
   },
   {
    "duration": 33,
    "start_time": "2023-06-22T12:11:29.944Z"
   },
   {
    "duration": 39,
    "start_time": "2023-06-22T12:11:29.980Z"
   },
   {
    "duration": 52,
    "start_time": "2023-06-22T12:11:30.022Z"
   },
   {
    "duration": 480,
    "start_time": "2023-06-22T12:11:30.076Z"
   },
   {
    "duration": 20,
    "start_time": "2023-06-22T12:11:30.566Z"
   },
   {
    "duration": 104,
    "start_time": "2023-06-22T12:11:30.588Z"
   },
   {
    "duration": 123,
    "start_time": "2023-06-22T12:11:30.697Z"
   },
   {
    "duration": 268,
    "start_time": "2023-06-22T12:11:30.822Z"
   },
   {
    "duration": 191,
    "start_time": "2023-06-22T12:11:31.093Z"
   },
   {
    "duration": 178,
    "start_time": "2023-06-22T12:11:31.286Z"
   },
   {
    "duration": 65,
    "start_time": "2023-06-22T12:11:31.467Z"
   },
   {
    "duration": 71,
    "start_time": "2023-06-22T12:11:31.534Z"
   },
   {
    "duration": 127,
    "start_time": "2023-06-22T12:11:31.607Z"
   },
   {
    "duration": 25,
    "start_time": "2023-06-22T12:11:31.737Z"
   },
   {
    "duration": 37,
    "start_time": "2023-06-22T12:11:31.764Z"
   },
   {
    "duration": 125,
    "start_time": "2023-06-22T12:11:31.803Z"
   },
   {
    "duration": 52,
    "start_time": "2023-06-22T12:11:31.931Z"
   },
   {
    "duration": 57,
    "start_time": "2023-06-22T12:11:31.986Z"
   },
   {
    "duration": 28,
    "start_time": "2023-06-22T12:11:32.046Z"
   },
   {
    "duration": 17,
    "start_time": "2023-06-22T12:11:32.076Z"
   },
   {
    "duration": 79,
    "start_time": "2023-06-22T12:11:32.095Z"
   },
   {
    "duration": 49,
    "start_time": "2023-06-22T12:11:32.177Z"
   },
   {
    "duration": 30,
    "start_time": "2023-06-22T12:11:32.237Z"
   },
   {
    "duration": 18,
    "start_time": "2023-06-22T12:11:32.270Z"
   },
   {
    "duration": 68,
    "start_time": "2023-06-22T12:11:32.290Z"
   },
   {
    "duration": 14,
    "start_time": "2023-06-22T12:11:32.367Z"
   },
   {
    "duration": 74,
    "start_time": "2023-06-22T12:11:32.383Z"
   },
   {
    "duration": 254,
    "start_time": "2023-06-22T12:11:32.459Z"
   },
   {
    "duration": 303,
    "start_time": "2023-06-22T12:11:32.714Z"
   },
   {
    "duration": 36,
    "start_time": "2023-06-22T12:11:33.025Z"
   },
   {
    "duration": 170,
    "start_time": "2023-06-22T12:11:33.067Z"
   },
   {
    "duration": 24,
    "start_time": "2023-06-22T12:11:33.239Z"
   },
   {
    "duration": 16,
    "start_time": "2023-06-22T12:11:33.265Z"
   },
   {
    "duration": 223,
    "start_time": "2023-06-22T12:11:33.285Z"
   },
   {
    "duration": 14,
    "start_time": "2023-06-22T12:11:33.510Z"
   },
   {
    "duration": 250,
    "start_time": "2023-06-22T12:11:33.538Z"
   },
   {
    "duration": 8,
    "start_time": "2023-06-22T12:11:33.790Z"
   },
   {
    "duration": 72,
    "start_time": "2023-06-22T12:11:33.800Z"
   },
   {
    "duration": 89,
    "start_time": "2023-06-22T12:11:33.875Z"
   },
   {
    "duration": 2887,
    "start_time": "2023-06-22T12:11:33.966Z"
   },
   {
    "duration": 4701,
    "start_time": "2023-06-22T12:11:36.858Z"
   },
   {
    "duration": 5617,
    "start_time": "2023-06-22T12:11:41.564Z"
   },
   {
    "duration": 6863,
    "start_time": "2023-06-22T12:11:47.184Z"
   },
   {
    "duration": 7774,
    "start_time": "2023-06-22T12:11:54.049Z"
   },
   {
    "duration": 8984,
    "start_time": "2023-06-22T12:12:01.832Z"
   },
   {
    "duration": 10219,
    "start_time": "2023-06-22T12:12:10.824Z"
   },
   {
    "duration": 11999,
    "start_time": "2023-06-22T12:12:21.045Z"
   },
   {
    "duration": 13909,
    "start_time": "2023-06-22T12:12:33.046Z"
   },
   {
    "duration": 224,
    "start_time": "2023-06-22T12:12:46.957Z"
   },
   {
    "duration": 133,
    "start_time": "2023-06-22T12:12:47.183Z"
   },
   {
    "duration": 464,
    "start_time": "2023-06-22T12:12:47.323Z"
   },
   {
    "duration": 26,
    "start_time": "2023-06-22T12:12:47.788Z"
   },
   {
    "duration": 22,
    "start_time": "2023-06-22T12:12:47.815Z"
   },
   {
    "duration": 74,
    "start_time": "2023-06-22T12:12:47.839Z"
   },
   {
    "duration": 433,
    "start_time": "2023-06-22T12:12:47.914Z"
   },
   {
    "duration": 72,
    "start_time": "2023-06-22T12:12:48.349Z"
   },
   {
    "duration": 98,
    "start_time": "2023-06-22T12:12:48.424Z"
   },
   {
    "duration": 51,
    "start_time": "2023-06-22T12:12:48.528Z"
   },
   {
    "duration": 120,
    "start_time": "2023-06-22T12:12:48.581Z"
   },
   {
    "duration": 100,
    "start_time": "2023-06-22T12:12:48.705Z"
   },
   {
    "duration": 148,
    "start_time": "2023-06-22T12:12:48.808Z"
   },
   {
    "duration": 267,
    "start_time": "2023-06-22T12:12:48.958Z"
   },
   {
    "duration": 80,
    "start_time": "2023-06-22T12:12:49.227Z"
   },
   {
    "duration": 120,
    "start_time": "2023-06-22T12:12:49.313Z"
   },
   {
    "duration": 36,
    "start_time": "2023-06-22T12:12:49.435Z"
   },
   {
    "duration": 18,
    "start_time": "2023-06-22T12:12:49.473Z"
   },
   {
    "duration": 53,
    "start_time": "2023-06-22T12:12:49.494Z"
   },
   {
    "duration": 1968,
    "start_time": "2023-06-22T12:15:26.557Z"
   },
   {
    "duration": 10,
    "start_time": "2023-06-22T12:15:28.527Z"
   },
   {
    "duration": 170,
    "start_time": "2023-06-22T12:15:28.539Z"
   },
   {
    "duration": 42,
    "start_time": "2023-06-22T12:15:28.711Z"
   },
   {
    "duration": 227,
    "start_time": "2023-06-22T12:15:28.755Z"
   },
   {
    "duration": 22482,
    "start_time": "2023-06-22T12:15:29.010Z"
   },
   {
    "duration": 32,
    "start_time": "2023-06-22T12:15:51.494Z"
   },
   {
    "duration": 28,
    "start_time": "2023-06-22T12:15:51.528Z"
   },
   {
    "duration": 53,
    "start_time": "2023-06-22T12:15:51.558Z"
   },
   {
    "duration": 33,
    "start_time": "2023-06-22T12:15:51.613Z"
   },
   {
    "duration": 337,
    "start_time": "2023-06-22T12:15:51.648Z"
   },
   {
    "duration": 42,
    "start_time": "2023-06-22T12:15:51.986Z"
   },
   {
    "duration": 7,
    "start_time": "2023-06-22T12:15:52.032Z"
   },
   {
    "duration": 20,
    "start_time": "2023-06-22T12:15:52.048Z"
   },
   {
    "duration": 37,
    "start_time": "2023-06-22T12:15:52.070Z"
   },
   {
    "duration": 42,
    "start_time": "2023-06-22T12:15:52.109Z"
   },
   {
    "duration": 20,
    "start_time": "2023-06-22T12:15:52.153Z"
   },
   {
    "duration": 59,
    "start_time": "2023-06-22T12:15:52.176Z"
   },
   {
    "duration": 32,
    "start_time": "2023-06-22T12:15:52.237Z"
   },
   {
    "duration": 39,
    "start_time": "2023-06-22T12:15:52.271Z"
   },
   {
    "duration": 41,
    "start_time": "2023-06-22T12:15:52.312Z"
   },
   {
    "duration": 21,
    "start_time": "2023-06-22T12:15:52.356Z"
   },
   {
    "duration": 48,
    "start_time": "2023-06-22T12:15:52.379Z"
   },
   {
    "duration": 29,
    "start_time": "2023-06-22T12:15:52.435Z"
   },
   {
    "duration": 20,
    "start_time": "2023-06-22T12:15:52.466Z"
   },
   {
    "duration": 46,
    "start_time": "2023-06-22T12:15:52.488Z"
   },
   {
    "duration": 28,
    "start_time": "2023-06-22T12:15:52.536Z"
   },
   {
    "duration": 19,
    "start_time": "2023-06-22T12:15:52.566Z"
   },
   {
    "duration": 37,
    "start_time": "2023-06-22T12:15:52.587Z"
   },
   {
    "duration": 40,
    "start_time": "2023-06-22T12:15:52.626Z"
   },
   {
    "duration": 27,
    "start_time": "2023-06-22T12:15:52.668Z"
   },
   {
    "duration": 61,
    "start_time": "2023-06-22T12:15:52.698Z"
   },
   {
    "duration": 20,
    "start_time": "2023-06-22T12:15:52.762Z"
   },
   {
    "duration": 24,
    "start_time": "2023-06-22T12:15:52.785Z"
   },
   {
    "duration": 152,
    "start_time": "2023-06-22T12:15:52.811Z"
   },
   {
    "duration": 380,
    "start_time": "2023-06-22T12:15:53.044Z"
   },
   {
    "duration": 48,
    "start_time": "2023-06-22T12:15:53.427Z"
   },
   {
    "duration": 222,
    "start_time": "2023-06-22T12:15:53.480Z"
   },
   {
    "duration": 230,
    "start_time": "2023-06-22T12:15:53.709Z"
   },
   {
    "duration": 38,
    "start_time": "2023-06-22T12:15:53.945Z"
   },
   {
    "duration": 5,
    "start_time": "2023-06-22T12:15:53.988Z"
   },
   {
    "duration": 25,
    "start_time": "2023-06-22T12:15:54.016Z"
   },
   {
    "duration": 143,
    "start_time": "2023-06-22T12:15:54.049Z"
   },
   {
    "duration": 13,
    "start_time": "2023-06-22T12:15:54.194Z"
   },
   {
    "duration": 229,
    "start_time": "2023-06-22T12:15:54.209Z"
   },
   {
    "duration": 8,
    "start_time": "2023-06-22T12:15:54.443Z"
   },
   {
    "duration": 14,
    "start_time": "2023-06-22T12:15:54.453Z"
   },
   {
    "duration": 14,
    "start_time": "2023-06-22T12:15:54.469Z"
   },
   {
    "duration": 2814,
    "start_time": "2023-06-22T12:15:54.485Z"
   },
   {
    "duration": 4229,
    "start_time": "2023-06-22T12:15:57.302Z"
   },
   {
    "duration": 5627,
    "start_time": "2023-06-22T12:16:01.534Z"
   },
   {
    "duration": 6680,
    "start_time": "2023-06-22T12:16:07.164Z"
   },
   {
    "duration": 8773,
    "start_time": "2023-06-22T12:16:13.846Z"
   },
   {
    "duration": 9647,
    "start_time": "2023-06-22T12:16:22.623Z"
   },
   {
    "duration": 11970,
    "start_time": "2023-06-22T12:16:32.272Z"
   },
   {
    "duration": 11796,
    "start_time": "2023-06-22T12:16:44.244Z"
   },
   {
    "duration": 13578,
    "start_time": "2023-06-22T12:16:56.043Z"
   },
   {
    "duration": 230,
    "start_time": "2023-06-22T12:17:09.623Z"
   },
   {
    "duration": 50,
    "start_time": "2023-06-22T12:17:09.855Z"
   },
   {
    "duration": 545,
    "start_time": "2023-06-22T12:17:09.911Z"
   },
   {
    "duration": 12,
    "start_time": "2023-06-22T12:17:10.464Z"
   },
   {
    "duration": 83,
    "start_time": "2023-06-22T12:17:10.479Z"
   },
   {
    "duration": 99,
    "start_time": "2023-06-22T12:17:10.565Z"
   },
   {
    "duration": 521,
    "start_time": "2023-06-22T12:17:10.667Z"
   },
   {
    "duration": 92,
    "start_time": "2023-06-22T12:17:11.190Z"
   },
   {
    "duration": 150,
    "start_time": "2023-06-22T12:17:11.285Z"
   },
   {
    "duration": 32,
    "start_time": "2023-06-22T12:17:11.444Z"
   },
   {
    "duration": 131,
    "start_time": "2023-06-22T12:17:11.479Z"
   },
   {
    "duration": 27,
    "start_time": "2023-06-22T12:17:11.612Z"
   },
   {
    "duration": 181,
    "start_time": "2023-06-22T12:17:11.644Z"
   },
   {
    "duration": 242,
    "start_time": "2023-06-22T12:17:11.835Z"
   },
   {
    "duration": 124,
    "start_time": "2023-06-22T12:17:12.080Z"
   },
   {
    "duration": 6,
    "start_time": "2023-06-22T12:17:12.206Z"
   },
   {
    "duration": 144,
    "start_time": "2023-06-22T12:17:12.214Z"
   },
   {
    "duration": 7,
    "start_time": "2023-06-22T12:17:12.360Z"
   },
   {
    "duration": 11,
    "start_time": "2023-06-22T12:17:12.369Z"
   },
   {
    "duration": 1513,
    "start_time": "2023-06-22T12:26:08.149Z"
   },
   {
    "duration": 2177,
    "start_time": "2023-06-22T12:26:22.626Z"
   },
   {
    "duration": 1831,
    "start_time": "2023-06-22T12:26:31.380Z"
   },
   {
    "duration": 1753,
    "start_time": "2023-06-22T12:26:40.520Z"
   },
   {
    "duration": 162,
    "start_time": "2023-06-22T12:38:25.203Z"
   },
   {
    "duration": 1654,
    "start_time": "2023-06-22T12:38:38.221Z"
   },
   {
    "duration": 4,
    "start_time": "2023-06-22T12:38:39.877Z"
   },
   {
    "duration": 161,
    "start_time": "2023-06-22T12:38:39.882Z"
   },
   {
    "duration": 26,
    "start_time": "2023-06-22T12:38:40.045Z"
   },
   {
    "duration": 148,
    "start_time": "2023-06-22T12:38:40.075Z"
   },
   {
    "duration": 20192,
    "start_time": "2023-06-22T12:38:40.225Z"
   },
   {
    "duration": 20,
    "start_time": "2023-06-22T12:39:00.420Z"
   },
   {
    "duration": 46,
    "start_time": "2023-06-22T12:39:00.442Z"
   },
   {
    "duration": 69,
    "start_time": "2023-06-22T12:39:00.490Z"
   },
   {
    "duration": 83,
    "start_time": "2023-06-22T12:39:00.561Z"
   },
   {
    "duration": 426,
    "start_time": "2023-06-22T12:39:00.647Z"
   },
   {
    "duration": 11,
    "start_time": "2023-06-22T12:39:01.075Z"
   },
   {
    "duration": 128,
    "start_time": "2023-06-22T12:39:01.101Z"
   },
   {
    "duration": 125,
    "start_time": "2023-06-22T12:39:01.232Z"
   },
   {
    "duration": 112,
    "start_time": "2023-06-22T12:39:01.359Z"
   },
   {
    "duration": 79,
    "start_time": "2023-06-22T12:39:01.472Z"
   },
   {
    "duration": 69,
    "start_time": "2023-06-22T12:39:01.553Z"
   },
   {
    "duration": 178,
    "start_time": "2023-06-22T12:39:01.623Z"
   },
   {
    "duration": 272,
    "start_time": "2023-06-22T12:39:01.806Z"
   },
   {
    "duration": 71,
    "start_time": "2023-06-22T12:39:02.079Z"
   },
   {
    "duration": 31,
    "start_time": "2023-06-22T12:39:02.153Z"
   },
   {
    "duration": 56,
    "start_time": "2023-06-22T12:39:02.186Z"
   },
   {
    "duration": 68,
    "start_time": "2023-06-22T12:39:02.245Z"
   },
   {
    "duration": 35,
    "start_time": "2023-06-22T12:39:02.315Z"
   },
   {
    "duration": 18,
    "start_time": "2023-06-22T12:39:02.351Z"
   },
   {
    "duration": 22,
    "start_time": "2023-06-22T12:39:02.372Z"
   },
   {
    "duration": 41,
    "start_time": "2023-06-22T12:39:02.396Z"
   },
   {
    "duration": 41,
    "start_time": "2023-06-22T12:39:02.439Z"
   },
   {
    "duration": 48,
    "start_time": "2023-06-22T12:39:02.483Z"
   },
   {
    "duration": 6,
    "start_time": "2023-06-22T12:39:02.534Z"
   },
   {
    "duration": 21,
    "start_time": "2023-06-22T12:39:02.542Z"
   },
   {
    "duration": 35,
    "start_time": "2023-06-22T12:39:02.565Z"
   },
   {
    "duration": 23,
    "start_time": "2023-06-22T12:39:02.606Z"
   },
   {
    "duration": 65,
    "start_time": "2023-06-22T12:39:02.630Z"
   },
   {
    "duration": 105,
    "start_time": "2023-06-22T12:39:02.697Z"
   },
   {
    "duration": 291,
    "start_time": "2023-06-22T12:39:02.805Z"
   },
   {
    "duration": 34,
    "start_time": "2023-06-22T12:39:03.102Z"
   },
   {
    "duration": 1621,
    "start_time": "2023-06-22T12:39:03.138Z"
   },
   {
    "duration": 147,
    "start_time": "2023-06-22T12:39:04.762Z"
   },
   {
    "duration": 266,
    "start_time": "2023-06-22T12:39:04.915Z"
   },
   {
    "duration": 47,
    "start_time": "2023-06-22T12:39:05.187Z"
   },
   {
    "duration": 5,
    "start_time": "2023-06-22T12:39:05.236Z"
   },
   {
    "duration": 52,
    "start_time": "2023-06-22T12:39:05.242Z"
   },
   {
    "duration": 165,
    "start_time": "2023-06-22T12:39:05.296Z"
   },
   {
    "duration": 8,
    "start_time": "2023-06-22T12:39:05.463Z"
   },
   {
    "duration": 208,
    "start_time": "2023-06-22T12:39:05.474Z"
   },
   {
    "duration": 28,
    "start_time": "2023-06-22T12:39:05.685Z"
   },
   {
    "duration": 15,
    "start_time": "2023-06-22T12:39:05.715Z"
   },
   {
    "duration": 23,
    "start_time": "2023-06-22T12:39:05.732Z"
   },
   {
    "duration": 3099,
    "start_time": "2023-06-22T12:39:05.757Z"
   },
   {
    "duration": 4076,
    "start_time": "2023-06-22T12:39:08.858Z"
   },
   {
    "duration": 5065,
    "start_time": "2023-06-22T12:39:12.937Z"
   },
   {
    "duration": 6156,
    "start_time": "2023-06-22T12:39:18.003Z"
   },
   {
    "duration": 7658,
    "start_time": "2023-06-22T12:39:24.162Z"
   },
   {
    "duration": 8399,
    "start_time": "2023-06-22T12:39:31.822Z"
   },
   {
    "duration": 10267,
    "start_time": "2023-06-22T12:39:40.224Z"
   },
   {
    "duration": 11497,
    "start_time": "2023-06-22T12:39:50.495Z"
   },
   {
    "duration": 12484,
    "start_time": "2023-06-22T12:40:01.994Z"
   },
   {
    "duration": 237,
    "start_time": "2023-06-22T12:40:14.479Z"
   },
   {
    "duration": 32,
    "start_time": "2023-06-22T12:40:14.721Z"
   },
   {
    "duration": 486,
    "start_time": "2023-06-22T12:40:14.807Z"
   },
   {
    "duration": 27,
    "start_time": "2023-06-22T12:40:15.296Z"
   },
   {
    "duration": 34,
    "start_time": "2023-06-22T12:40:15.326Z"
   },
   {
    "duration": 86,
    "start_time": "2023-06-22T12:40:15.363Z"
   },
   {
    "duration": 426,
    "start_time": "2023-06-22T12:40:15.451Z"
   },
   {
    "duration": 138,
    "start_time": "2023-06-22T12:40:15.879Z"
   },
   {
    "duration": 94,
    "start_time": "2023-06-22T12:40:16.021Z"
   },
   {
    "duration": 38,
    "start_time": "2023-06-22T12:40:16.120Z"
   },
   {
    "duration": 120,
    "start_time": "2023-06-22T12:40:16.159Z"
   },
   {
    "duration": 30,
    "start_time": "2023-06-22T12:40:16.281Z"
   },
   {
    "duration": 138,
    "start_time": "2023-06-22T12:40:16.315Z"
   },
   {
    "duration": 273,
    "start_time": "2023-06-22T12:40:16.455Z"
   },
   {
    "duration": 79,
    "start_time": "2023-06-22T12:40:16.730Z"
   },
   {
    "duration": 5,
    "start_time": "2023-06-22T12:40:16.811Z"
   },
   {
    "duration": 118,
    "start_time": "2023-06-22T12:40:16.818Z"
   },
   {
    "duration": 13,
    "start_time": "2023-06-22T12:40:16.940Z"
   },
   {
    "duration": 31,
    "start_time": "2023-06-22T12:40:16.956Z"
   },
   {
    "duration": 1545,
    "start_time": "2023-06-22T12:42:32.875Z"
   },
   {
    "duration": 1573,
    "start_time": "2023-06-22T12:42:42.120Z"
   },
   {
    "duration": 1554,
    "start_time": "2023-06-22T12:42:50.368Z"
   },
   {
    "duration": 579,
    "start_time": "2023-06-22T13:07:21.051Z"
   },
   {
    "duration": 2053,
    "start_time": "2023-06-22T13:18:15.252Z"
   },
   {
    "duration": 4,
    "start_time": "2023-06-22T13:18:17.307Z"
   },
   {
    "duration": 318,
    "start_time": "2023-06-22T13:18:17.313Z"
   },
   {
    "duration": 92,
    "start_time": "2023-06-22T13:18:17.634Z"
   },
   {
    "duration": 283,
    "start_time": "2023-06-22T13:18:17.728Z"
   },
   {
    "duration": 21872,
    "start_time": "2023-06-22T13:18:18.013Z"
   },
   {
    "duration": 22,
    "start_time": "2023-06-22T13:18:39.887Z"
   },
   {
    "duration": 24,
    "start_time": "2023-06-22T13:18:39.910Z"
   },
   {
    "duration": 29,
    "start_time": "2023-06-22T13:18:39.937Z"
   },
   {
    "duration": 8,
    "start_time": "2023-06-22T13:18:39.970Z"
   },
   {
    "duration": 379,
    "start_time": "2023-06-22T13:18:39.980Z"
   },
   {
    "duration": 20,
    "start_time": "2023-06-22T13:18:40.363Z"
   },
   {
    "duration": 28,
    "start_time": "2023-06-22T13:18:40.386Z"
   },
   {
    "duration": 52,
    "start_time": "2023-06-22T13:18:40.417Z"
   },
   {
    "duration": 57,
    "start_time": "2023-06-22T13:18:40.472Z"
   },
   {
    "duration": 31,
    "start_time": "2023-06-22T13:18:40.532Z"
   },
   {
    "duration": 19,
    "start_time": "2023-06-22T13:18:40.568Z"
   },
   {
    "duration": 50,
    "start_time": "2023-06-22T13:18:40.590Z"
   },
   {
    "duration": 31,
    "start_time": "2023-06-22T13:18:40.641Z"
   },
   {
    "duration": 55,
    "start_time": "2023-06-22T13:18:40.674Z"
   },
   {
    "duration": 62,
    "start_time": "2023-06-22T13:18:40.731Z"
   },
   {
    "duration": 22,
    "start_time": "2023-06-22T13:18:40.795Z"
   },
   {
    "duration": 52,
    "start_time": "2023-06-22T13:18:40.819Z"
   },
   {
    "duration": 38,
    "start_time": "2023-06-22T13:18:40.874Z"
   },
   {
    "duration": 35,
    "start_time": "2023-06-22T13:18:40.915Z"
   },
   {
    "duration": 47,
    "start_time": "2023-06-22T13:18:40.953Z"
   },
   {
    "duration": 28,
    "start_time": "2023-06-22T13:18:41.003Z"
   },
   {
    "duration": 41,
    "start_time": "2023-06-22T13:18:41.039Z"
   },
   {
    "duration": 43,
    "start_time": "2023-06-22T13:18:41.082Z"
   },
   {
    "duration": 8,
    "start_time": "2023-06-22T13:18:41.127Z"
   },
   {
    "duration": 31,
    "start_time": "2023-06-22T13:18:41.137Z"
   },
   {
    "duration": 23,
    "start_time": "2023-06-22T13:18:41.170Z"
   },
   {
    "duration": 21,
    "start_time": "2023-06-22T13:18:41.196Z"
   },
   {
    "duration": 19,
    "start_time": "2023-06-22T13:18:41.219Z"
   },
   {
    "duration": 69,
    "start_time": "2023-06-22T13:18:41.241Z"
   },
   {
    "duration": 344,
    "start_time": "2023-06-22T13:18:41.312Z"
   },
   {
    "duration": 46,
    "start_time": "2023-06-22T13:18:41.658Z"
   },
   {
    "duration": 1583,
    "start_time": "2023-06-22T13:18:41.706Z"
   },
   {
    "duration": 226,
    "start_time": "2023-06-22T13:18:43.291Z"
   },
   {
    "duration": 288,
    "start_time": "2023-06-22T13:18:43.520Z"
   },
   {
    "duration": 37,
    "start_time": "2023-06-22T13:18:43.810Z"
   },
   {
    "duration": 5,
    "start_time": "2023-06-22T13:18:43.849Z"
   },
   {
    "duration": 68,
    "start_time": "2023-06-22T13:18:43.856Z"
   },
   {
    "duration": 150,
    "start_time": "2023-06-22T13:18:43.926Z"
   },
   {
    "duration": 8,
    "start_time": "2023-06-22T13:18:44.078Z"
   },
   {
    "duration": 262,
    "start_time": "2023-06-22T13:18:44.088Z"
   },
   {
    "duration": 8,
    "start_time": "2023-06-22T13:18:44.354Z"
   },
   {
    "duration": 146,
    "start_time": "2023-06-22T13:18:44.365Z"
   },
   {
    "duration": 6,
    "start_time": "2023-06-22T13:18:44.513Z"
   },
   {
    "duration": 3028,
    "start_time": "2023-06-22T13:18:44.522Z"
   },
   {
    "duration": 3769,
    "start_time": "2023-06-22T13:18:47.552Z"
   },
   {
    "duration": 4775,
    "start_time": "2023-06-22T13:18:51.322Z"
   },
   {
    "duration": 5952,
    "start_time": "2023-06-22T13:18:56.099Z"
   },
   {
    "duration": 6956,
    "start_time": "2023-06-22T13:19:02.053Z"
   },
   {
    "duration": 8101,
    "start_time": "2023-06-22T13:19:09.011Z"
   },
   {
    "duration": 9079,
    "start_time": "2023-06-22T13:19:17.114Z"
   },
   {
    "duration": 10766,
    "start_time": "2023-06-22T13:19:26.201Z"
   },
   {
    "duration": 11464,
    "start_time": "2023-06-22T13:19:36.969Z"
   },
   {
    "duration": 548,
    "start_time": "2023-06-22T13:19:48.435Z"
   },
   {
    "duration": 31,
    "start_time": "2023-06-22T13:19:48.985Z"
   },
   {
    "duration": 863,
    "start_time": "2023-06-22T13:19:49.018Z"
   },
   {
    "duration": 9,
    "start_time": "2023-06-22T13:19:49.882Z"
   },
   {
    "duration": 21,
    "start_time": "2023-06-22T13:19:49.903Z"
   },
   {
    "duration": 76,
    "start_time": "2023-06-22T13:19:49.927Z"
   },
   {
    "duration": 411,
    "start_time": "2023-06-22T13:19:50.005Z"
   },
   {
    "duration": 89,
    "start_time": "2023-06-22T13:19:50.418Z"
   },
   {
    "duration": 105,
    "start_time": "2023-06-22T13:19:50.509Z"
   },
   {
    "duration": 100,
    "start_time": "2023-06-22T13:19:50.616Z"
   },
   {
    "duration": 139,
    "start_time": "2023-06-22T13:19:50.718Z"
   },
   {
    "duration": 53,
    "start_time": "2023-06-22T13:19:50.858Z"
   },
   {
    "duration": 204,
    "start_time": "2023-06-22T13:19:50.913Z"
   },
   {
    "duration": 237,
    "start_time": "2023-06-22T13:19:51.119Z"
   },
   {
    "duration": 53,
    "start_time": "2023-06-22T13:19:51.358Z"
   },
   {
    "duration": 113,
    "start_time": "2023-06-22T13:19:51.413Z"
   },
   {
    "duration": 96,
    "start_time": "2023-06-22T13:19:51.528Z"
   },
   {
    "duration": 29,
    "start_time": "2023-06-22T13:19:51.626Z"
   },
   {
    "duration": 31,
    "start_time": "2023-06-22T13:19:51.657Z"
   },
   {
    "duration": 1546,
    "start_time": "2023-06-22T13:36:14.554Z"
   },
   {
    "duration": 5,
    "start_time": "2023-06-22T13:36:16.102Z"
   },
   {
    "duration": 152,
    "start_time": "2023-06-22T13:36:16.109Z"
   },
   {
    "duration": 46,
    "start_time": "2023-06-22T13:36:16.264Z"
   },
   {
    "duration": 105,
    "start_time": "2023-06-22T13:36:16.313Z"
   },
   {
    "duration": 18616,
    "start_time": "2023-06-22T13:36:16.420Z"
   },
   {
    "duration": 25,
    "start_time": "2023-06-22T13:36:35.039Z"
   },
   {
    "duration": 38,
    "start_time": "2023-06-22T13:36:35.067Z"
   },
   {
    "duration": 34,
    "start_time": "2023-06-22T13:36:35.107Z"
   },
   {
    "duration": 6,
    "start_time": "2023-06-22T13:36:35.142Z"
   },
   {
    "duration": 300,
    "start_time": "2023-06-22T13:36:35.150Z"
   },
   {
    "duration": 9,
    "start_time": "2023-06-22T13:36:35.453Z"
   },
   {
    "duration": 15,
    "start_time": "2023-06-22T13:36:35.464Z"
   },
   {
    "duration": 45,
    "start_time": "2023-06-22T13:36:35.483Z"
   },
   {
    "duration": 45,
    "start_time": "2023-06-22T13:36:35.530Z"
   },
   {
    "duration": 99,
    "start_time": "2023-06-22T13:36:35.577Z"
   },
   {
    "duration": 4,
    "start_time": "2023-06-22T13:36:35.678Z"
   },
   {
    "duration": 21,
    "start_time": "2023-06-22T13:36:35.689Z"
   },
   {
    "duration": 29,
    "start_time": "2023-06-22T13:36:35.712Z"
   },
   {
    "duration": 51,
    "start_time": "2023-06-22T13:36:35.744Z"
   },
   {
    "duration": 16,
    "start_time": "2023-06-22T13:36:35.797Z"
   },
   {
    "duration": 9,
    "start_time": "2023-06-22T13:36:35.815Z"
   },
   {
    "duration": 23,
    "start_time": "2023-06-22T13:36:35.826Z"
   },
   {
    "duration": 16,
    "start_time": "2023-06-22T13:36:35.851Z"
   },
   {
    "duration": 9,
    "start_time": "2023-06-22T13:36:35.868Z"
   },
   {
    "duration": 6,
    "start_time": "2023-06-22T13:36:35.879Z"
   },
   {
    "duration": 9,
    "start_time": "2023-06-22T13:36:35.887Z"
   },
   {
    "duration": 17,
    "start_time": "2023-06-22T13:36:35.901Z"
   },
   {
    "duration": 30,
    "start_time": "2023-06-22T13:36:35.920Z"
   },
   {
    "duration": 6,
    "start_time": "2023-06-22T13:36:35.953Z"
   },
   {
    "duration": 39,
    "start_time": "2023-06-22T13:36:35.961Z"
   },
   {
    "duration": 29,
    "start_time": "2023-06-22T13:36:36.002Z"
   },
   {
    "duration": 35,
    "start_time": "2023-06-22T13:36:36.033Z"
   },
   {
    "duration": 22,
    "start_time": "2023-06-22T13:36:36.070Z"
   },
   {
    "duration": 18,
    "start_time": "2023-06-22T13:36:36.094Z"
   },
   {
    "duration": 368,
    "start_time": "2023-06-22T13:36:36.114Z"
   },
   {
    "duration": 36,
    "start_time": "2023-06-22T13:36:36.484Z"
   },
   {
    "duration": 1522,
    "start_time": "2023-06-22T13:36:36.521Z"
   },
   {
    "duration": 71,
    "start_time": "2023-06-22T13:36:38.046Z"
   },
   {
    "duration": 365,
    "start_time": "2023-06-22T13:36:38.119Z"
   },
   {
    "duration": 40,
    "start_time": "2023-06-22T13:36:38.489Z"
   },
   {
    "duration": 12,
    "start_time": "2023-06-22T13:36:38.531Z"
   },
   {
    "duration": 23,
    "start_time": "2023-06-22T13:36:38.544Z"
   },
   {
    "duration": 124,
    "start_time": "2023-06-22T13:36:38.570Z"
   },
   {
    "duration": 6,
    "start_time": "2023-06-22T13:36:38.702Z"
   },
   {
    "duration": 184,
    "start_time": "2023-06-22T13:36:38.710Z"
   },
   {
    "duration": 8,
    "start_time": "2023-06-22T13:36:38.901Z"
   },
   {
    "duration": 18,
    "start_time": "2023-06-22T13:36:38.910Z"
   },
   {
    "duration": 16,
    "start_time": "2023-06-22T13:36:38.930Z"
   },
   {
    "duration": 3011,
    "start_time": "2023-06-22T13:36:38.949Z"
   },
   {
    "duration": 3568,
    "start_time": "2023-06-22T13:36:41.962Z"
   },
   {
    "duration": 4902,
    "start_time": "2023-06-22T13:36:45.532Z"
   },
   {
    "duration": 5996,
    "start_time": "2023-06-22T13:36:50.437Z"
   },
   {
    "duration": 7161,
    "start_time": "2023-06-22T13:36:56.435Z"
   },
   {
    "duration": 10174,
    "start_time": "2023-06-22T13:37:03.603Z"
   },
   {
    "duration": 9391,
    "start_time": "2023-06-22T13:37:13.780Z"
   },
   {
    "duration": 10545,
    "start_time": "2023-06-22T13:37:23.174Z"
   },
   {
    "duration": 11511,
    "start_time": "2023-06-22T13:37:33.720Z"
   },
   {
    "duration": 552,
    "start_time": "2023-06-22T13:37:45.233Z"
   },
   {
    "duration": 41,
    "start_time": "2023-06-22T13:37:45.787Z"
   },
   {
    "duration": 848,
    "start_time": "2023-06-22T13:37:45.903Z"
   },
   {
    "duration": 8,
    "start_time": "2023-06-22T13:37:46.756Z"
   },
   {
    "duration": 115,
    "start_time": "2023-06-22T13:37:46.766Z"
   },
   {
    "duration": 68,
    "start_time": "2023-06-22T13:37:46.883Z"
   },
   {
    "duration": 1210,
    "start_time": "2023-06-22T13:37:46.953Z"
   },
   {
    "duration": 138,
    "start_time": "2023-06-22T13:37:48.165Z"
   },
   {
    "duration": 15,
    "start_time": "2023-06-22T13:37:48.304Z"
   },
   {
    "duration": 115,
    "start_time": "2023-06-22T13:37:48.323Z"
   },
   {
    "duration": 255,
    "start_time": "2023-06-22T13:37:48.441Z"
   },
   {
    "duration": 113,
    "start_time": "2023-06-22T13:37:48.703Z"
   },
   {
    "duration": 117,
    "start_time": "2023-06-22T13:37:48.820Z"
   },
   {
    "duration": 636,
    "start_time": "2023-06-22T13:37:48.939Z"
   },
   {
    "duration": 225,
    "start_time": "2023-06-22T13:37:49.577Z"
   },
   {
    "duration": 7,
    "start_time": "2023-06-22T13:37:49.804Z"
   },
   {
    "duration": 17,
    "start_time": "2023-06-22T13:37:49.814Z"
   },
   {
    "duration": 13,
    "start_time": "2023-06-22T13:37:49.834Z"
   },
   {
    "duration": 10,
    "start_time": "2023-06-22T13:37:49.849Z"
   },
   {
    "duration": 765,
    "start_time": "2023-06-22T13:42:48.048Z"
   },
   {
    "duration": 8,
    "start_time": "2023-06-22T13:42:48.963Z"
   },
   {
    "duration": 1569,
    "start_time": "2023-06-22T13:44:13.023Z"
   },
   {
    "duration": 1477,
    "start_time": "2023-06-22T13:45:00.927Z"
   },
   {
    "duration": 1616,
    "start_time": "2023-06-22T13:45:12.852Z"
   },
   {
    "duration": 10,
    "start_time": "2023-06-22T13:45:14.473Z"
   },
   {
    "duration": 172,
    "start_time": "2023-06-22T13:45:14.485Z"
   },
   {
    "duration": 52,
    "start_time": "2023-06-22T13:45:14.659Z"
   },
   {
    "duration": 148,
    "start_time": "2023-06-22T13:45:14.714Z"
   },
   {
    "duration": 22171,
    "start_time": "2023-06-22T13:45:14.864Z"
   },
   {
    "duration": 27,
    "start_time": "2023-06-22T13:45:37.037Z"
   },
   {
    "duration": 41,
    "start_time": "2023-06-22T13:45:37.067Z"
   },
   {
    "duration": 31,
    "start_time": "2023-06-22T13:45:37.110Z"
   },
   {
    "duration": 28,
    "start_time": "2023-06-22T13:45:37.144Z"
   },
   {
    "duration": 546,
    "start_time": "2023-06-22T13:45:37.176Z"
   },
   {
    "duration": 11,
    "start_time": "2023-06-22T13:45:37.724Z"
   },
   {
    "duration": 29,
    "start_time": "2023-06-22T13:45:37.737Z"
   },
   {
    "duration": 28,
    "start_time": "2023-06-22T13:45:37.770Z"
   },
   {
    "duration": 28,
    "start_time": "2023-06-22T13:45:37.800Z"
   },
   {
    "duration": 29,
    "start_time": "2023-06-22T13:45:37.831Z"
   },
   {
    "duration": 6,
    "start_time": "2023-06-22T13:45:37.863Z"
   },
   {
    "duration": 32,
    "start_time": "2023-06-22T13:45:37.871Z"
   },
   {
    "duration": 7,
    "start_time": "2023-06-22T13:45:37.906Z"
   },
   {
    "duration": 43,
    "start_time": "2023-06-22T13:45:37.914Z"
   },
   {
    "duration": 12,
    "start_time": "2023-06-22T13:45:37.959Z"
   },
   {
    "duration": 25,
    "start_time": "2023-06-22T13:45:37.974Z"
   },
   {
    "duration": 31,
    "start_time": "2023-06-22T13:45:38.001Z"
   },
   {
    "duration": 12,
    "start_time": "2023-06-22T13:45:38.035Z"
   },
   {
    "duration": 12,
    "start_time": "2023-06-22T13:45:38.049Z"
   },
   {
    "duration": 20,
    "start_time": "2023-06-22T13:45:38.063Z"
   },
   {
    "duration": 12,
    "start_time": "2023-06-22T13:45:38.085Z"
   },
   {
    "duration": 21,
    "start_time": "2023-06-22T13:45:38.099Z"
   },
   {
    "duration": 34,
    "start_time": "2023-06-22T13:45:38.122Z"
   },
   {
    "duration": 6,
    "start_time": "2023-06-22T13:45:38.158Z"
   },
   {
    "duration": 36,
    "start_time": "2023-06-22T13:45:38.167Z"
   },
   {
    "duration": 6,
    "start_time": "2023-06-22T13:45:38.206Z"
   },
   {
    "duration": 38,
    "start_time": "2023-06-22T13:45:38.213Z"
   },
   {
    "duration": 12,
    "start_time": "2023-06-22T13:45:38.254Z"
   },
   {
    "duration": 139,
    "start_time": "2023-06-22T13:45:38.269Z"
   },
   {
    "duration": 331,
    "start_time": "2023-06-22T13:45:38.410Z"
   },
   {
    "duration": 60,
    "start_time": "2023-06-22T13:45:38.744Z"
   },
   {
    "duration": 2209,
    "start_time": "2023-06-22T13:45:38.818Z"
   },
   {
    "duration": 181,
    "start_time": "2023-06-22T13:45:41.029Z"
   },
   {
    "duration": 413,
    "start_time": "2023-06-22T13:45:41.215Z"
   },
   {
    "duration": 35,
    "start_time": "2023-06-22T13:45:41.634Z"
   },
   {
    "duration": 8,
    "start_time": "2023-06-22T13:45:41.671Z"
   },
   {
    "duration": 34,
    "start_time": "2023-06-22T13:45:41.681Z"
   },
   {
    "duration": 225,
    "start_time": "2023-06-22T13:45:41.717Z"
   },
   {
    "duration": 8,
    "start_time": "2023-06-22T13:45:41.944Z"
   },
   {
    "duration": 240,
    "start_time": "2023-06-22T13:45:41.955Z"
   },
   {
    "duration": 9,
    "start_time": "2023-06-22T13:45:42.202Z"
   },
   {
    "duration": 40,
    "start_time": "2023-06-22T13:45:42.213Z"
   },
   {
    "duration": 56,
    "start_time": "2023-06-22T13:45:42.255Z"
   },
   {
    "duration": 3657,
    "start_time": "2023-06-22T13:45:42.314Z"
   },
   {
    "duration": 4007,
    "start_time": "2023-06-22T13:45:45.973Z"
   },
   {
    "duration": 6126,
    "start_time": "2023-06-22T13:45:49.983Z"
   },
   {
    "duration": 7673,
    "start_time": "2023-06-22T13:45:56.112Z"
   },
   {
    "duration": 8081,
    "start_time": "2023-06-22T13:46:03.787Z"
   },
   {
    "duration": 10177,
    "start_time": "2023-06-22T13:46:11.870Z"
   },
   {
    "duration": 10871,
    "start_time": "2023-06-22T13:46:22.050Z"
   },
   {
    "duration": 14168,
    "start_time": "2023-06-22T13:46:32.924Z"
   },
   {
    "duration": 13594,
    "start_time": "2023-06-22T13:46:47.095Z"
   },
   {
    "duration": 738,
    "start_time": "2023-06-22T13:47:00.691Z"
   },
   {
    "duration": 162,
    "start_time": "2023-06-22T13:47:01.440Z"
   },
   {
    "duration": 885,
    "start_time": "2023-06-22T13:47:01.607Z"
   },
   {
    "duration": 10,
    "start_time": "2023-06-22T13:47:02.502Z"
   },
   {
    "duration": 85,
    "start_time": "2023-06-22T13:47:02.514Z"
   },
   {
    "duration": 162,
    "start_time": "2023-06-22T13:47:02.606Z"
   },
   {
    "duration": 1236,
    "start_time": "2023-06-22T13:47:02.771Z"
   },
   {
    "duration": 100,
    "start_time": "2023-06-22T13:47:04.010Z"
   },
   {
    "duration": 94,
    "start_time": "2023-06-22T13:47:04.113Z"
   },
   {
    "duration": 61,
    "start_time": "2023-06-22T13:47:04.210Z"
   },
   {
    "duration": 367,
    "start_time": "2023-06-22T13:47:04.274Z"
   },
   {
    "duration": 76,
    "start_time": "2023-06-22T13:47:04.643Z"
   },
   {
    "duration": 117,
    "start_time": "2023-06-22T13:47:04.734Z"
   },
   {
    "duration": 693,
    "start_time": "2023-06-22T13:47:04.853Z"
   },
   {
    "duration": 76,
    "start_time": "2023-06-22T13:47:05.548Z"
   },
   {
    "duration": 1882,
    "start_time": "2023-06-22T13:47:05.627Z"
   },
   {
    "duration": 9,
    "start_time": "2023-06-22T13:47:07.512Z"
   },
   {
    "duration": 27,
    "start_time": "2023-06-22T13:47:07.523Z"
   },
   {
    "duration": 21,
    "start_time": "2023-06-22T13:47:07.557Z"
   },
   {
    "duration": 1594,
    "start_time": "2023-06-22T13:47:14.745Z"
   },
   {
    "duration": 1958,
    "start_time": "2023-06-22T13:47:52.671Z"
   },
   {
    "duration": 10,
    "start_time": "2023-06-22T13:48:09.857Z"
   },
   {
    "duration": 1397,
    "start_time": "2023-06-22T13:50:06.001Z"
   },
   {
    "duration": 58,
    "start_time": "2023-06-22T13:50:38.908Z"
   },
   {
    "duration": 184,
    "start_time": "2023-06-22T13:57:11.960Z"
   },
   {
    "duration": 177,
    "start_time": "2023-06-22T13:57:23.416Z"
   },
   {
    "duration": 316,
    "start_time": "2023-06-22T13:57:39.844Z"
   },
   {
    "duration": 178,
    "start_time": "2023-06-22T13:57:41.854Z"
   },
   {
    "duration": 267,
    "start_time": "2023-06-22T13:57:45.325Z"
   },
   {
    "duration": 193,
    "start_time": "2023-06-22T13:57:51.177Z"
   },
   {
    "duration": 188,
    "start_time": "2023-06-22T13:57:54.373Z"
   },
   {
    "duration": 264,
    "start_time": "2023-06-22T13:57:56.383Z"
   },
   {
    "duration": 210,
    "start_time": "2023-06-22T13:58:33.816Z"
   },
   {
    "duration": 1253,
    "start_time": "2023-06-22T13:59:19.004Z"
   },
   {
    "duration": 1265,
    "start_time": "2023-06-22T14:02:04.439Z"
   },
   {
    "duration": 1278,
    "start_time": "2023-06-22T14:02:15.804Z"
   },
   {
    "duration": 1357,
    "start_time": "2023-06-22T14:03:20.405Z"
   },
   {
    "duration": 1263,
    "start_time": "2023-06-22T14:03:27.032Z"
   },
   {
    "duration": 712,
    "start_time": "2023-06-22T14:03:44.356Z"
   },
   {
    "duration": 1371,
    "start_time": "2023-06-22T14:03:50.260Z"
   },
   {
    "duration": 1260,
    "start_time": "2023-06-22T14:03:59.119Z"
   },
   {
    "duration": 815,
    "start_time": "2023-06-22T14:04:10.338Z"
   },
   {
    "duration": 748,
    "start_time": "2023-06-22T14:06:53.971Z"
   },
   {
    "duration": 1400,
    "start_time": "2023-06-22T14:06:59.703Z"
   },
   {
    "duration": 1292,
    "start_time": "2023-06-22T14:07:30.328Z"
   },
   {
    "duration": 1424,
    "start_time": "2023-06-22T14:07:42.315Z"
   },
   {
    "duration": 1395,
    "start_time": "2023-06-22T14:07:52.807Z"
   },
   {
    "duration": 1401,
    "start_time": "2023-06-22T14:08:45.648Z"
   },
   {
    "duration": 1377,
    "start_time": "2023-06-22T14:09:00.311Z"
   },
   {
    "duration": 1318,
    "start_time": "2023-06-22T14:09:11.663Z"
   },
   {
    "duration": 1282,
    "start_time": "2023-06-22T14:09:24.951Z"
   },
   {
    "duration": 800,
    "start_time": "2023-06-22T14:09:46.702Z"
   },
   {
    "duration": 928,
    "start_time": "2023-06-22T14:10:02.216Z"
   },
   {
    "duration": 734,
    "start_time": "2023-06-22T14:10:12.655Z"
   },
   {
    "duration": 765,
    "start_time": "2023-06-22T14:11:13.026Z"
   },
   {
    "duration": 813,
    "start_time": "2023-06-22T14:12:17.209Z"
   },
   {
    "duration": 849,
    "start_time": "2023-06-22T14:12:33.609Z"
   },
   {
    "duration": 845,
    "start_time": "2023-06-22T14:14:04.467Z"
   },
   {
    "duration": 989,
    "start_time": "2023-06-22T14:15:50.030Z"
   },
   {
    "duration": 924,
    "start_time": "2023-06-22T14:16:51.650Z"
   },
   {
    "duration": 819,
    "start_time": "2023-06-22T14:16:58.050Z"
   },
   {
    "duration": 871,
    "start_time": "2023-06-22T14:17:03.320Z"
   },
   {
    "duration": 784,
    "start_time": "2023-06-22T14:17:19.138Z"
   },
   {
    "duration": 988,
    "start_time": "2023-06-22T14:18:45.645Z"
   },
   {
    "duration": 902,
    "start_time": "2023-06-22T14:18:54.056Z"
   },
   {
    "duration": 823,
    "start_time": "2023-06-22T14:19:14.344Z"
   },
   {
    "duration": 1475,
    "start_time": "2023-06-22T14:19:45.938Z"
   },
   {
    "duration": 1400,
    "start_time": "2023-06-22T14:19:55.039Z"
   },
   {
    "duration": 1594,
    "start_time": "2023-06-22T14:20:10.038Z"
   },
   {
    "duration": 1987,
    "start_time": "2023-06-22T14:22:08.478Z"
   },
   {
    "duration": 1695,
    "start_time": "2023-06-22T14:22:38.063Z"
   },
   {
    "duration": 826,
    "start_time": "2023-06-22T14:22:57.035Z"
   },
   {
    "duration": 335,
    "start_time": "2023-06-22T14:23:19.529Z"
   },
   {
    "duration": 293,
    "start_time": "2023-06-22T14:25:01.246Z"
   },
   {
    "duration": 261,
    "start_time": "2023-06-22T14:25:11.136Z"
   },
   {
    "duration": 240,
    "start_time": "2023-06-22T14:27:49.024Z"
   },
   {
    "duration": 283,
    "start_time": "2023-06-22T14:28:39.539Z"
   },
   {
    "duration": 231,
    "start_time": "2023-06-22T14:28:58.517Z"
   },
   {
    "duration": 1730,
    "start_time": "2023-06-22T14:45:28.535Z"
   },
   {
    "duration": 4,
    "start_time": "2023-06-22T14:45:30.268Z"
   },
   {
    "duration": 279,
    "start_time": "2023-06-22T14:45:30.275Z"
   },
   {
    "duration": 32,
    "start_time": "2023-06-22T14:45:30.557Z"
   },
   {
    "duration": 138,
    "start_time": "2023-06-22T14:45:30.607Z"
   },
   {
    "duration": 18570,
    "start_time": "2023-06-22T14:45:30.747Z"
   },
   {
    "duration": 27,
    "start_time": "2023-06-22T14:45:49.320Z"
   },
   {
    "duration": 31,
    "start_time": "2023-06-22T14:45:49.350Z"
   },
   {
    "duration": 34,
    "start_time": "2023-06-22T14:45:49.383Z"
   },
   {
    "duration": 86,
    "start_time": "2023-06-22T14:45:49.420Z"
   },
   {
    "duration": 312,
    "start_time": "2023-06-22T14:45:49.509Z"
   },
   {
    "duration": 9,
    "start_time": "2023-06-22T14:45:49.823Z"
   },
   {
    "duration": 13,
    "start_time": "2023-06-22T14:45:49.833Z"
   },
   {
    "duration": 13,
    "start_time": "2023-06-22T14:45:49.848Z"
   },
   {
    "duration": 49,
    "start_time": "2023-06-22T14:45:49.863Z"
   },
   {
    "duration": 19,
    "start_time": "2023-06-22T14:45:49.914Z"
   },
   {
    "duration": 9,
    "start_time": "2023-06-22T14:45:49.935Z"
   },
   {
    "duration": 18,
    "start_time": "2023-06-22T14:45:49.946Z"
   },
   {
    "duration": 16,
    "start_time": "2023-06-22T14:45:49.966Z"
   },
   {
    "duration": 55,
    "start_time": "2023-06-22T14:45:50.003Z"
   },
   {
    "duration": 9,
    "start_time": "2023-06-22T14:45:50.061Z"
   },
   {
    "duration": 18,
    "start_time": "2023-06-22T14:45:50.082Z"
   },
   {
    "duration": 18,
    "start_time": "2023-06-22T14:45:50.102Z"
   },
   {
    "duration": 10,
    "start_time": "2023-06-22T14:45:50.122Z"
   },
   {
    "duration": 17,
    "start_time": "2023-06-22T14:45:50.134Z"
   },
   {
    "duration": 26,
    "start_time": "2023-06-22T14:45:50.153Z"
   },
   {
    "duration": 31,
    "start_time": "2023-06-22T14:45:50.181Z"
   },
   {
    "duration": 13,
    "start_time": "2023-06-22T14:45:50.218Z"
   },
   {
    "duration": 51,
    "start_time": "2023-06-22T14:45:50.234Z"
   },
   {
    "duration": 20,
    "start_time": "2023-06-22T14:45:50.287Z"
   },
   {
    "duration": 28,
    "start_time": "2023-06-22T14:45:50.309Z"
   },
   {
    "duration": 5,
    "start_time": "2023-06-22T14:45:50.340Z"
   },
   {
    "duration": 20,
    "start_time": "2023-06-22T14:45:50.347Z"
   },
   {
    "duration": 14,
    "start_time": "2023-06-22T14:45:50.369Z"
   },
   {
    "duration": 124,
    "start_time": "2023-06-22T14:45:50.386Z"
   },
   {
    "duration": 339,
    "start_time": "2023-06-22T14:45:50.512Z"
   },
   {
    "duration": 27,
    "start_time": "2023-06-22T14:45:50.853Z"
   },
   {
    "duration": 1496,
    "start_time": "2023-06-22T14:45:50.883Z"
   },
   {
    "duration": 26,
    "start_time": "2023-06-22T14:45:52.380Z"
   },
   {
    "duration": 349,
    "start_time": "2023-06-22T14:45:52.409Z"
   },
   {
    "duration": 43,
    "start_time": "2023-06-22T14:45:52.761Z"
   },
   {
    "duration": 35,
    "start_time": "2023-06-22T14:45:52.807Z"
   },
   {
    "duration": 151,
    "start_time": "2023-06-22T14:45:52.844Z"
   },
   {
    "duration": 142,
    "start_time": "2023-06-22T14:45:52.997Z"
   },
   {
    "duration": 7,
    "start_time": "2023-06-22T14:45:53.141Z"
   },
   {
    "duration": 171,
    "start_time": "2023-06-22T14:45:53.150Z"
   },
   {
    "duration": 7,
    "start_time": "2023-06-22T14:45:53.323Z"
   },
   {
    "duration": 15,
    "start_time": "2023-06-22T14:45:53.332Z"
   },
   {
    "duration": 9,
    "start_time": "2023-06-22T14:45:53.348Z"
   },
   {
    "duration": 2975,
    "start_time": "2023-06-22T14:45:53.359Z"
   },
   {
    "duration": 3583,
    "start_time": "2023-06-22T14:45:56.337Z"
   },
   {
    "duration": 4873,
    "start_time": "2023-06-22T14:45:59.922Z"
   },
   {
    "duration": 6285,
    "start_time": "2023-06-22T14:46:04.802Z"
   },
   {
    "duration": 7008,
    "start_time": "2023-06-22T14:46:11.089Z"
   },
   {
    "duration": 8111,
    "start_time": "2023-06-22T14:46:18.102Z"
   },
   {
    "duration": 9507,
    "start_time": "2023-06-22T14:46:26.215Z"
   },
   {
    "duration": 11671,
    "start_time": "2023-06-22T14:46:35.725Z"
   },
   {
    "duration": 12306,
    "start_time": "2023-06-22T14:46:47.397Z"
   },
   {
    "duration": 579,
    "start_time": "2023-06-22T14:46:59.705Z"
   },
   {
    "duration": 128,
    "start_time": "2023-06-22T14:47:00.287Z"
   },
   {
    "duration": 943,
    "start_time": "2023-06-22T14:47:00.423Z"
   },
   {
    "duration": 8,
    "start_time": "2023-06-22T14:47:01.368Z"
   },
   {
    "duration": 77,
    "start_time": "2023-06-22T14:47:01.378Z"
   },
   {
    "duration": 154,
    "start_time": "2023-06-22T14:47:01.458Z"
   },
   {
    "duration": 1204,
    "start_time": "2023-06-22T14:47:01.616Z"
   },
   {
    "duration": 99,
    "start_time": "2023-06-22T14:47:02.824Z"
   },
   {
    "duration": 20,
    "start_time": "2023-06-22T14:47:03.003Z"
   },
   {
    "duration": 116,
    "start_time": "2023-06-22T14:47:03.025Z"
   },
   {
    "duration": 353,
    "start_time": "2023-06-22T14:47:03.144Z"
   },
   {
    "duration": 104,
    "start_time": "2023-06-22T14:47:03.502Z"
   },
   {
    "duration": 149,
    "start_time": "2023-06-22T14:47:03.609Z"
   },
   {
    "duration": 659,
    "start_time": "2023-06-22T14:47:03.761Z"
   },
   {
    "duration": 90,
    "start_time": "2023-06-22T14:47:04.423Z"
   },
   {
    "duration": 1511,
    "start_time": "2023-06-22T14:47:04.517Z"
   },
   {
    "duration": 17,
    "start_time": "2023-06-22T14:47:06.030Z"
   },
   {
    "duration": 1286,
    "start_time": "2023-06-22T14:47:06.050Z"
   },
   {
    "duration": 79,
    "start_time": "2023-06-22T14:47:07.339Z"
   },
   {
    "duration": 227,
    "start_time": "2023-06-22T14:47:07.423Z"
   },
   {
    "duration": 7,
    "start_time": "2023-06-22T14:47:07.652Z"
   },
   {
    "duration": 1593,
    "start_time": "2023-06-22T15:01:07.010Z"
   },
   {
    "duration": 5,
    "start_time": "2023-06-22T15:01:08.605Z"
   },
   {
    "duration": 173,
    "start_time": "2023-06-22T15:01:08.612Z"
   },
   {
    "duration": 41,
    "start_time": "2023-06-22T15:01:08.787Z"
   },
   {
    "duration": 134,
    "start_time": "2023-06-22T15:01:08.831Z"
   },
   {
    "duration": 15,
    "start_time": "2023-06-22T15:01:08.967Z"
   },
   {
    "duration": 19,
    "start_time": "2023-06-22T15:01:09.001Z"
   },
   {
    "duration": 26,
    "start_time": "2023-06-22T15:01:09.023Z"
   },
   {
    "duration": 5,
    "start_time": "2023-06-22T15:01:09.051Z"
   },
   {
    "duration": 317,
    "start_time": "2023-06-22T15:01:09.059Z"
   },
   {
    "duration": 9,
    "start_time": "2023-06-22T15:01:09.378Z"
   },
   {
    "duration": 5,
    "start_time": "2023-06-22T15:01:09.403Z"
   },
   {
    "duration": 30,
    "start_time": "2023-06-22T15:01:09.410Z"
   },
   {
    "duration": 27,
    "start_time": "2023-06-22T15:01:09.442Z"
   },
   {
    "duration": 20,
    "start_time": "2023-06-22T15:01:09.471Z"
   },
   {
    "duration": 17,
    "start_time": "2023-06-22T15:01:09.493Z"
   },
   {
    "duration": 39,
    "start_time": "2023-06-22T15:01:09.512Z"
   },
   {
    "duration": 20,
    "start_time": "2023-06-22T15:01:09.553Z"
   },
   {
    "duration": 49,
    "start_time": "2023-06-22T15:01:09.576Z"
   },
   {
    "duration": 15,
    "start_time": "2023-06-22T15:01:09.628Z"
   },
   {
    "duration": 21,
    "start_time": "2023-06-22T15:01:09.646Z"
   },
   {
    "duration": 34,
    "start_time": "2023-06-22T15:01:09.669Z"
   },
   {
    "duration": 35,
    "start_time": "2023-06-22T15:01:09.705Z"
   },
   {
    "duration": 11,
    "start_time": "2023-06-22T15:01:09.742Z"
   },
   {
    "duration": 12,
    "start_time": "2023-06-22T15:01:09.754Z"
   },
   {
    "duration": 22,
    "start_time": "2023-06-22T15:01:09.768Z"
   },
   {
    "duration": 24,
    "start_time": "2023-06-22T15:01:09.792Z"
   },
   {
    "duration": 31,
    "start_time": "2023-06-22T15:01:09.822Z"
   },
   {
    "duration": 6,
    "start_time": "2023-06-22T15:01:09.855Z"
   },
   {
    "duration": 15,
    "start_time": "2023-06-22T15:01:09.862Z"
   },
   {
    "duration": 6,
    "start_time": "2023-06-22T15:01:09.879Z"
   },
   {
    "duration": 19,
    "start_time": "2023-06-22T15:01:09.903Z"
   },
   {
    "duration": 11,
    "start_time": "2023-06-22T15:01:09.924Z"
   },
   {
    "duration": 169,
    "start_time": "2023-06-22T15:01:09.937Z"
   },
   {
    "duration": 301,
    "start_time": "2023-06-22T15:01:10.107Z"
   },
   {
    "duration": 41,
    "start_time": "2023-06-22T15:01:10.410Z"
   },
   {
    "duration": 1672,
    "start_time": "2023-06-22T15:01:10.454Z"
   },
   {
    "duration": 80,
    "start_time": "2023-06-22T15:01:12.128Z"
   },
   {
    "duration": 285,
    "start_time": "2023-06-22T15:01:12.210Z"
   },
   {
    "duration": 41,
    "start_time": "2023-06-22T15:01:12.496Z"
   },
   {
    "duration": 4,
    "start_time": "2023-06-22T15:01:12.539Z"
   },
   {
    "duration": 8,
    "start_time": "2023-06-22T15:01:12.545Z"
   },
   {
    "duration": 172,
    "start_time": "2023-06-22T15:01:12.555Z"
   },
   {
    "duration": 7,
    "start_time": "2023-06-22T15:01:12.730Z"
   },
   {
    "duration": 194,
    "start_time": "2023-06-22T15:01:12.738Z"
   },
   {
    "duration": 6,
    "start_time": "2023-06-22T15:01:12.935Z"
   },
   {
    "duration": 6,
    "start_time": "2023-06-22T15:01:12.943Z"
   },
   {
    "duration": 7,
    "start_time": "2023-06-22T15:01:12.951Z"
   },
   {
    "duration": 2773,
    "start_time": "2023-06-22T15:01:12.960Z"
   },
   {
    "duration": 3788,
    "start_time": "2023-06-22T15:01:15.735Z"
   },
   {
    "duration": 5031,
    "start_time": "2023-06-22T15:01:19.526Z"
   },
   {
    "duration": 5923,
    "start_time": "2023-06-22T15:01:24.559Z"
   },
   {
    "duration": 7721,
    "start_time": "2023-06-22T15:01:30.485Z"
   },
   {
    "duration": 8589,
    "start_time": "2023-06-22T15:01:38.209Z"
   },
   {
    "duration": 9736,
    "start_time": "2023-06-22T15:01:46.802Z"
   },
   {
    "duration": 11628,
    "start_time": "2023-06-22T15:01:56.540Z"
   },
   {
    "duration": 12768,
    "start_time": "2023-06-22T15:02:08.170Z"
   },
   {
    "duration": 585,
    "start_time": "2023-06-22T15:02:20.940Z"
   },
   {
    "duration": 26,
    "start_time": "2023-06-22T15:02:21.527Z"
   },
   {
    "duration": 955,
    "start_time": "2023-06-22T15:02:21.621Z"
   },
   {
    "duration": 24,
    "start_time": "2023-06-22T15:02:22.578Z"
   },
   {
    "duration": 31,
    "start_time": "2023-06-22T15:02:22.604Z"
   },
   {
    "duration": 83,
    "start_time": "2023-06-22T15:02:22.636Z"
   },
   {
    "duration": 1141,
    "start_time": "2023-06-22T15:02:22.721Z"
   },
   {
    "duration": 154,
    "start_time": "2023-06-22T15:02:23.864Z"
   },
   {
    "duration": 89,
    "start_time": "2023-06-22T15:02:24.020Z"
   },
   {
    "duration": 46,
    "start_time": "2023-06-22T15:02:24.111Z"
   },
   {
    "duration": 303,
    "start_time": "2023-06-22T15:02:24.160Z"
   },
   {
    "duration": 41,
    "start_time": "2023-06-22T15:02:24.465Z"
   },
   {
    "duration": 149,
    "start_time": "2023-06-22T15:02:24.507Z"
   },
   {
    "duration": 622,
    "start_time": "2023-06-22T15:02:24.659Z"
   },
   {
    "duration": 47,
    "start_time": "2023-06-22T15:02:25.283Z"
   },
   {
    "duration": 1453,
    "start_time": "2023-06-22T15:02:25.403Z"
   },
   {
    "duration": 9,
    "start_time": "2023-06-22T15:02:26.858Z"
   },
   {
    "duration": 1166,
    "start_time": "2023-06-22T15:02:26.869Z"
   },
   {
    "duration": 49,
    "start_time": "2023-06-22T15:02:28.038Z"
   },
   {
    "duration": 243,
    "start_time": "2023-06-22T15:02:28.089Z"
   },
   {
    "duration": 8,
    "start_time": "2023-06-22T15:02:28.335Z"
   },
   {
    "duration": 2342,
    "start_time": "2023-06-22T15:21:01.532Z"
   },
   {
    "duration": 4,
    "start_time": "2023-06-22T15:21:03.876Z"
   },
   {
    "duration": 180,
    "start_time": "2023-06-22T15:21:03.882Z"
   },
   {
    "duration": 33,
    "start_time": "2023-06-22T15:21:04.065Z"
   },
   {
    "duration": 124,
    "start_time": "2023-06-22T15:21:04.100Z"
   },
   {
    "duration": 14,
    "start_time": "2023-06-22T15:21:04.226Z"
   },
   {
    "duration": 22,
    "start_time": "2023-06-22T15:21:04.242Z"
   },
   {
    "duration": 44,
    "start_time": "2023-06-22T15:21:04.266Z"
   },
   {
    "duration": 14,
    "start_time": "2023-06-22T15:21:04.312Z"
   },
   {
    "duration": 304,
    "start_time": "2023-06-22T15:21:04.329Z"
   },
   {
    "duration": 18,
    "start_time": "2023-06-22T15:21:04.635Z"
   },
   {
    "duration": 9,
    "start_time": "2023-06-22T15:21:04.656Z"
   },
   {
    "duration": 35,
    "start_time": "2023-06-22T15:21:04.667Z"
   },
   {
    "duration": 32,
    "start_time": "2023-06-22T15:21:04.703Z"
   },
   {
    "duration": 18,
    "start_time": "2023-06-22T15:21:04.737Z"
   },
   {
    "duration": 5,
    "start_time": "2023-06-22T15:21:04.757Z"
   },
   {
    "duration": 15,
    "start_time": "2023-06-22T15:21:04.763Z"
   },
   {
    "duration": 58,
    "start_time": "2023-06-22T15:21:04.780Z"
   },
   {
    "duration": 50,
    "start_time": "2023-06-22T15:21:04.840Z"
   },
   {
    "duration": 29,
    "start_time": "2023-06-22T15:21:04.891Z"
   },
   {
    "duration": 28,
    "start_time": "2023-06-22T15:21:04.921Z"
   },
   {
    "duration": 50,
    "start_time": "2023-06-22T15:21:04.951Z"
   },
   {
    "duration": 15,
    "start_time": "2023-06-22T15:21:05.003Z"
   },
   {
    "duration": 22,
    "start_time": "2023-06-22T15:21:05.020Z"
   },
   {
    "duration": 8,
    "start_time": "2023-06-22T15:21:05.043Z"
   },
   {
    "duration": 11,
    "start_time": "2023-06-22T15:21:05.052Z"
   },
   {
    "duration": 33,
    "start_time": "2023-06-22T15:21:05.065Z"
   },
   {
    "duration": 57,
    "start_time": "2023-06-22T15:21:05.103Z"
   },
   {
    "duration": 17,
    "start_time": "2023-06-22T15:21:05.162Z"
   },
   {
    "duration": 15,
    "start_time": "2023-06-22T15:21:05.181Z"
   },
   {
    "duration": 11,
    "start_time": "2023-06-22T15:21:05.199Z"
   },
   {
    "duration": 22,
    "start_time": "2023-06-22T15:21:05.211Z"
   },
   {
    "duration": 26,
    "start_time": "2023-06-22T15:21:05.235Z"
   },
   {
    "duration": 92,
    "start_time": "2023-06-22T15:21:05.263Z"
   },
   {
    "duration": 300,
    "start_time": "2023-06-22T15:21:05.357Z"
   },
   {
    "duration": 27,
    "start_time": "2023-06-22T15:21:05.659Z"
   },
   {
    "duration": 1483,
    "start_time": "2023-06-22T15:21:05.688Z"
   },
   {
    "duration": 83,
    "start_time": "2023-06-22T15:21:07.172Z"
   },
   {
    "duration": 275,
    "start_time": "2023-06-22T15:21:07.257Z"
   },
   {
    "duration": 40,
    "start_time": "2023-06-22T15:21:07.534Z"
   },
   {
    "duration": 5,
    "start_time": "2023-06-22T15:21:07.576Z"
   },
   {
    "duration": 8,
    "start_time": "2023-06-22T15:21:07.583Z"
   },
   {
    "duration": 135,
    "start_time": "2023-06-22T15:21:07.593Z"
   },
   {
    "duration": 7,
    "start_time": "2023-06-22T15:21:07.730Z"
   },
   {
    "duration": 159,
    "start_time": "2023-06-22T15:21:07.751Z"
   },
   {
    "duration": 6,
    "start_time": "2023-06-22T15:21:07.911Z"
   },
   {
    "duration": 11,
    "start_time": "2023-06-22T15:21:07.918Z"
   },
   {
    "duration": 22,
    "start_time": "2023-06-22T15:21:07.931Z"
   },
   {
    "duration": 2501,
    "start_time": "2023-06-22T15:21:07.955Z"
   },
   {
    "duration": 3542,
    "start_time": "2023-06-22T15:21:10.459Z"
   },
   {
    "duration": 4730,
    "start_time": "2023-06-22T15:21:14.003Z"
   },
   {
    "duration": 5721,
    "start_time": "2023-06-22T15:21:18.736Z"
   },
   {
    "duration": 6854,
    "start_time": "2023-06-22T15:21:24.459Z"
   },
   {
    "duration": 7909,
    "start_time": "2023-06-22T15:21:31.315Z"
   },
   {
    "duration": 8808,
    "start_time": "2023-06-22T15:21:39.225Z"
   },
   {
    "duration": 10457,
    "start_time": "2023-06-22T15:21:48.035Z"
   },
   {
    "duration": 11493,
    "start_time": "2023-06-22T15:21:58.494Z"
   },
   {
    "duration": 559,
    "start_time": "2023-06-22T15:22:09.989Z"
   },
   {
    "duration": 27,
    "start_time": "2023-06-22T15:22:10.549Z"
   },
   {
    "duration": 942,
    "start_time": "2023-06-22T15:22:10.653Z"
   },
   {
    "duration": 7,
    "start_time": "2023-06-22T15:22:11.597Z"
   },
   {
    "duration": 23,
    "start_time": "2023-06-22T15:22:11.606Z"
   },
   {
    "duration": 70,
    "start_time": "2023-06-22T15:22:11.631Z"
   },
   {
    "duration": 1091,
    "start_time": "2023-06-22T15:22:11.703Z"
   },
   {
    "duration": 61,
    "start_time": "2023-06-22T15:22:12.796Z"
   },
   {
    "duration": 15,
    "start_time": "2023-06-22T15:22:12.951Z"
   },
   {
    "duration": 96,
    "start_time": "2023-06-22T15:22:12.968Z"
   },
   {
    "duration": 257,
    "start_time": "2023-06-22T15:22:13.066Z"
   },
   {
    "duration": 29,
    "start_time": "2023-06-22T15:22:13.324Z"
   },
   {
    "duration": 219,
    "start_time": "2023-06-22T15:22:13.354Z"
   },
   {
    "duration": 589,
    "start_time": "2023-06-22T15:22:13.575Z"
   },
   {
    "duration": 22,
    "start_time": "2023-06-22T15:22:14.166Z"
   },
   {
    "duration": 1527,
    "start_time": "2023-06-22T15:22:14.190Z"
   },
   {
    "duration": 7,
    "start_time": "2023-06-22T15:22:15.719Z"
   },
   {
    "duration": 1105,
    "start_time": "2023-06-22T15:22:15.728Z"
   },
   {
    "duration": 61,
    "start_time": "2023-06-22T15:22:16.834Z"
   },
   {
    "duration": 216,
    "start_time": "2023-06-22T15:22:16.897Z"
   },
   {
    "duration": 8,
    "start_time": "2023-06-22T15:22:17.115Z"
   },
   {
    "duration": 256,
    "start_time": "2023-06-28T08:16:31.101Z"
   },
   {
    "duration": 0,
    "start_time": "2023-06-28T08:16:31.360Z"
   },
   {
    "duration": 0,
    "start_time": "2023-06-28T08:16:31.362Z"
   },
   {
    "duration": 0,
    "start_time": "2023-06-28T08:16:31.363Z"
   },
   {
    "duration": 0,
    "start_time": "2023-06-28T08:16:31.365Z"
   },
   {
    "duration": 0,
    "start_time": "2023-06-28T08:16:31.366Z"
   },
   {
    "duration": 0,
    "start_time": "2023-06-28T08:16:31.367Z"
   },
   {
    "duration": 0,
    "start_time": "2023-06-28T08:16:31.368Z"
   },
   {
    "duration": 0,
    "start_time": "2023-06-28T08:16:31.370Z"
   },
   {
    "duration": 0,
    "start_time": "2023-06-28T08:16:31.371Z"
   },
   {
    "duration": 0,
    "start_time": "2023-06-28T08:16:31.372Z"
   },
   {
    "duration": 0,
    "start_time": "2023-06-28T08:16:31.373Z"
   },
   {
    "duration": 0,
    "start_time": "2023-06-28T08:16:31.374Z"
   },
   {
    "duration": 0,
    "start_time": "2023-06-28T08:16:31.376Z"
   },
   {
    "duration": 0,
    "start_time": "2023-06-28T08:16:31.377Z"
   },
   {
    "duration": 0,
    "start_time": "2023-06-28T08:16:31.378Z"
   },
   {
    "duration": 0,
    "start_time": "2023-06-28T08:16:31.380Z"
   },
   {
    "duration": 0,
    "start_time": "2023-06-28T08:16:31.381Z"
   },
   {
    "duration": 0,
    "start_time": "2023-06-28T08:16:31.382Z"
   },
   {
    "duration": 0,
    "start_time": "2023-06-28T08:16:31.383Z"
   },
   {
    "duration": 0,
    "start_time": "2023-06-28T08:16:31.384Z"
   },
   {
    "duration": 0,
    "start_time": "2023-06-28T08:16:31.385Z"
   },
   {
    "duration": 0,
    "start_time": "2023-06-28T08:16:31.387Z"
   },
   {
    "duration": 0,
    "start_time": "2023-06-28T08:16:31.388Z"
   },
   {
    "duration": 0,
    "start_time": "2023-06-28T08:16:31.389Z"
   },
   {
    "duration": 0,
    "start_time": "2023-06-28T08:16:31.390Z"
   },
   {
    "duration": 0,
    "start_time": "2023-06-28T08:16:31.391Z"
   },
   {
    "duration": 0,
    "start_time": "2023-06-28T08:16:31.392Z"
   },
   {
    "duration": 0,
    "start_time": "2023-06-28T08:16:31.394Z"
   },
   {
    "duration": 0,
    "start_time": "2023-06-28T08:16:31.395Z"
   },
   {
    "duration": 0,
    "start_time": "2023-06-28T08:16:31.431Z"
   },
   {
    "duration": 0,
    "start_time": "2023-06-28T08:16:31.433Z"
   },
   {
    "duration": 0,
    "start_time": "2023-06-28T08:16:31.434Z"
   },
   {
    "duration": 0,
    "start_time": "2023-06-28T08:16:31.436Z"
   },
   {
    "duration": 0,
    "start_time": "2023-06-28T08:16:31.437Z"
   },
   {
    "duration": 0,
    "start_time": "2023-06-28T08:16:31.438Z"
   },
   {
    "duration": 0,
    "start_time": "2023-06-28T08:16:31.439Z"
   },
   {
    "duration": 0,
    "start_time": "2023-06-28T08:16:31.440Z"
   },
   {
    "duration": 0,
    "start_time": "2023-06-28T08:16:31.441Z"
   },
   {
    "duration": 0,
    "start_time": "2023-06-28T08:16:31.442Z"
   },
   {
    "duration": 0,
    "start_time": "2023-06-28T08:16:31.443Z"
   },
   {
    "duration": 0,
    "start_time": "2023-06-28T08:16:31.444Z"
   },
   {
    "duration": 0,
    "start_time": "2023-06-28T08:16:31.446Z"
   },
   {
    "duration": 0,
    "start_time": "2023-06-28T08:16:31.447Z"
   },
   {
    "duration": 0,
    "start_time": "2023-06-28T08:16:31.448Z"
   },
   {
    "duration": 0,
    "start_time": "2023-06-28T08:16:31.449Z"
   },
   {
    "duration": 0,
    "start_time": "2023-06-28T08:16:31.450Z"
   },
   {
    "duration": 0,
    "start_time": "2023-06-28T08:16:31.452Z"
   },
   {
    "duration": 0,
    "start_time": "2023-06-28T08:16:31.453Z"
   },
   {
    "duration": 0,
    "start_time": "2023-06-28T08:16:31.453Z"
   },
   {
    "duration": 0,
    "start_time": "2023-06-28T08:16:31.454Z"
   },
   {
    "duration": 0,
    "start_time": "2023-06-28T08:16:31.455Z"
   },
   {
    "duration": 0,
    "start_time": "2023-06-28T08:16:31.456Z"
   },
   {
    "duration": 0,
    "start_time": "2023-06-28T08:16:31.458Z"
   },
   {
    "duration": 0,
    "start_time": "2023-06-28T08:16:31.459Z"
   },
   {
    "duration": 0,
    "start_time": "2023-06-28T08:16:31.461Z"
   },
   {
    "duration": 0,
    "start_time": "2023-06-28T08:16:31.462Z"
   },
   {
    "duration": 0,
    "start_time": "2023-06-28T08:16:31.463Z"
   },
   {
    "duration": 0,
    "start_time": "2023-06-28T08:16:31.464Z"
   },
   {
    "duration": 0,
    "start_time": "2023-06-28T08:16:31.465Z"
   },
   {
    "duration": 0,
    "start_time": "2023-06-28T08:16:31.466Z"
   },
   {
    "duration": 0,
    "start_time": "2023-06-28T08:16:31.468Z"
   },
   {
    "duration": 0,
    "start_time": "2023-06-28T08:16:31.469Z"
   },
   {
    "duration": 0,
    "start_time": "2023-06-28T08:16:31.532Z"
   },
   {
    "duration": 0,
    "start_time": "2023-06-28T08:16:31.533Z"
   },
   {
    "duration": 0,
    "start_time": "2023-06-28T08:16:31.535Z"
   },
   {
    "duration": 0,
    "start_time": "2023-06-28T08:16:31.536Z"
   },
   {
    "duration": 0,
    "start_time": "2023-06-28T08:16:31.537Z"
   },
   {
    "duration": 0,
    "start_time": "2023-06-28T08:16:31.538Z"
   },
   {
    "duration": 0,
    "start_time": "2023-06-28T08:16:31.539Z"
   },
   {
    "duration": 130,
    "start_time": "2023-06-28T08:16:31.545Z"
   },
   {
    "duration": 0,
    "start_time": "2023-06-28T08:16:31.676Z"
   },
   {
    "duration": 0,
    "start_time": "2023-06-28T08:16:31.732Z"
   },
   {
    "duration": 0,
    "start_time": "2023-06-28T08:16:31.733Z"
   },
   {
    "duration": 0,
    "start_time": "2023-06-28T08:16:31.735Z"
   },
   {
    "duration": 0,
    "start_time": "2023-06-28T08:16:31.736Z"
   },
   {
    "duration": 0,
    "start_time": "2023-06-28T08:16:31.737Z"
   },
   {
    "duration": 0,
    "start_time": "2023-06-28T08:16:31.739Z"
   },
   {
    "duration": 1798,
    "start_time": "2023-06-28T08:17:53.842Z"
   },
   {
    "duration": 5,
    "start_time": "2023-06-28T08:17:55.643Z"
   },
   {
    "duration": 182,
    "start_time": "2023-06-28T08:17:55.650Z"
   },
   {
    "duration": 35,
    "start_time": "2023-06-28T08:17:55.834Z"
   },
   {
    "duration": 113,
    "start_time": "2023-06-28T08:17:55.872Z"
   },
   {
    "duration": 14,
    "start_time": "2023-06-28T08:17:55.987Z"
   },
   {
    "duration": 34,
    "start_time": "2023-06-28T08:17:56.002Z"
   },
   {
    "duration": 39,
    "start_time": "2023-06-28T08:17:56.038Z"
   },
   {
    "duration": 5,
    "start_time": "2023-06-28T08:17:56.079Z"
   },
   {
    "duration": 446,
    "start_time": "2023-06-28T08:17:56.087Z"
   },
   {
    "duration": 10,
    "start_time": "2023-06-28T08:17:56.536Z"
   },
   {
    "duration": 25,
    "start_time": "2023-06-28T08:17:56.548Z"
   },
   {
    "duration": 59,
    "start_time": "2023-06-28T08:17:56.575Z"
   },
   {
    "duration": 38,
    "start_time": "2023-06-28T08:17:56.638Z"
   },
   {
    "duration": 77,
    "start_time": "2023-06-28T08:17:56.678Z"
   },
   {
    "duration": 6,
    "start_time": "2023-06-28T08:17:56.757Z"
   },
   {
    "duration": 13,
    "start_time": "2023-06-28T08:17:56.765Z"
   },
   {
    "duration": 8,
    "start_time": "2023-06-28T08:17:56.832Z"
   },
   {
    "duration": 98,
    "start_time": "2023-06-28T08:17:56.842Z"
   },
   {
    "duration": 24,
    "start_time": "2023-06-28T08:17:56.943Z"
   },
   {
    "duration": 20,
    "start_time": "2023-06-28T08:17:56.969Z"
   },
   {
    "duration": 21,
    "start_time": "2023-06-28T08:17:57.031Z"
   },
   {
    "duration": 20,
    "start_time": "2023-06-28T08:17:57.054Z"
   },
   {
    "duration": 56,
    "start_time": "2023-06-28T08:17:57.077Z"
   },
   {
    "duration": 10,
    "start_time": "2023-06-28T08:17:57.135Z"
   },
   {
    "duration": 7,
    "start_time": "2023-06-28T08:17:57.147Z"
   },
   {
    "duration": 30,
    "start_time": "2023-06-28T08:17:57.156Z"
   },
   {
    "duration": 24,
    "start_time": "2023-06-28T08:17:57.232Z"
   },
   {
    "duration": 14,
    "start_time": "2023-06-28T08:17:57.258Z"
   },
   {
    "duration": 80,
    "start_time": "2023-06-28T08:17:57.274Z"
   },
   {
    "duration": 8,
    "start_time": "2023-06-28T08:17:57.356Z"
   },
   {
    "duration": 22,
    "start_time": "2023-06-28T08:17:57.366Z"
   },
   {
    "duration": 42,
    "start_time": "2023-06-28T08:17:57.390Z"
   },
   {
    "duration": 114,
    "start_time": "2023-06-28T08:17:57.434Z"
   },
   {
    "duration": 516,
    "start_time": "2023-06-28T08:17:57.631Z"
   },
   {
    "duration": 83,
    "start_time": "2023-06-28T08:17:58.149Z"
   },
   {
    "duration": 1717,
    "start_time": "2023-06-28T08:17:58.234Z"
   },
   {
    "duration": 80,
    "start_time": "2023-06-28T08:17:59.952Z"
   },
   {
    "duration": 263,
    "start_time": "2023-06-28T08:18:00.034Z"
   },
   {
    "duration": 50,
    "start_time": "2023-06-28T08:18:00.298Z"
   },
   {
    "duration": 8,
    "start_time": "2023-06-28T08:18:00.354Z"
   },
   {
    "duration": 58,
    "start_time": "2023-06-28T08:18:00.364Z"
   },
   {
    "duration": 143,
    "start_time": "2023-06-28T08:18:00.424Z"
   },
   {
    "duration": 6,
    "start_time": "2023-06-28T08:18:00.568Z"
   },
   {
    "duration": 214,
    "start_time": "2023-06-28T08:18:00.575Z"
   },
   {
    "duration": 6,
    "start_time": "2023-06-28T08:18:00.792Z"
   },
   {
    "duration": 93,
    "start_time": "2023-06-28T08:18:00.801Z"
   },
   {
    "duration": 78,
    "start_time": "2023-06-28T08:18:00.897Z"
   },
   {
    "duration": 2417,
    "start_time": "2023-06-28T08:18:00.977Z"
   },
   {
    "duration": 3311,
    "start_time": "2023-06-28T08:18:03.396Z"
   },
   {
    "duration": 4342,
    "start_time": "2023-06-28T08:18:06.709Z"
   },
   {
    "duration": 5615,
    "start_time": "2023-06-28T08:18:11.053Z"
   },
   {
    "duration": 2128,
    "start_time": "2023-06-28T08:18:20.547Z"
   },
   {
    "duration": 54,
    "start_time": "2023-06-28T08:18:22.678Z"
   },
   {
    "duration": 299,
    "start_time": "2023-06-28T08:18:22.735Z"
   },
   {
    "duration": 397,
    "start_time": "2023-06-28T08:18:23.037Z"
   },
   {
    "duration": 1,
    "start_time": "2023-06-28T08:18:23.438Z"
   },
   {
    "duration": 0,
    "start_time": "2023-06-28T08:18:23.440Z"
   },
   {
    "duration": 0,
    "start_time": "2023-06-28T08:18:23.441Z"
   },
   {
    "duration": 0,
    "start_time": "2023-06-28T08:18:23.442Z"
   },
   {
    "duration": 0,
    "start_time": "2023-06-28T08:18:23.444Z"
   },
   {
    "duration": 0,
    "start_time": "2023-06-28T08:18:23.445Z"
   },
   {
    "duration": 0,
    "start_time": "2023-06-28T08:18:23.446Z"
   },
   {
    "duration": 0,
    "start_time": "2023-06-28T08:18:23.448Z"
   },
   {
    "duration": 0,
    "start_time": "2023-06-28T08:18:23.450Z"
   },
   {
    "duration": 1,
    "start_time": "2023-06-28T08:18:23.451Z"
   },
   {
    "duration": 0,
    "start_time": "2023-06-28T08:18:23.453Z"
   },
   {
    "duration": 0,
    "start_time": "2023-06-28T08:18:23.454Z"
   },
   {
    "duration": 0,
    "start_time": "2023-06-28T08:18:23.455Z"
   },
   {
    "duration": 0,
    "start_time": "2023-06-28T08:18:23.456Z"
   },
   {
    "duration": 0,
    "start_time": "2023-06-28T08:18:23.457Z"
   },
   {
    "duration": 0,
    "start_time": "2023-06-28T08:18:23.459Z"
   },
   {
    "duration": 0,
    "start_time": "2023-06-28T08:18:23.460Z"
   },
   {
    "duration": 0,
    "start_time": "2023-06-28T08:18:23.461Z"
   },
   {
    "duration": 0,
    "start_time": "2023-06-28T08:18:23.463Z"
   },
   {
    "duration": 0,
    "start_time": "2023-06-28T08:18:23.464Z"
   },
   {
    "duration": 0,
    "start_time": "2023-06-28T08:18:23.465Z"
   },
   {
    "duration": 0,
    "start_time": "2023-06-28T08:18:23.466Z"
   },
   {
    "duration": 0,
    "start_time": "2023-06-28T08:18:23.468Z"
   },
   {
    "duration": 0,
    "start_time": "2023-06-28T08:18:23.469Z"
   },
   {
    "duration": 0,
    "start_time": "2023-06-28T08:18:23.470Z"
   },
   {
    "duration": 0,
    "start_time": "2023-06-28T08:18:23.471Z"
   },
   {
    "duration": 0,
    "start_time": "2023-06-28T08:18:23.473Z"
   },
   {
    "duration": 0,
    "start_time": "2023-06-28T08:18:23.474Z"
   },
   {
    "duration": 0,
    "start_time": "2023-06-28T08:18:23.475Z"
   },
   {
    "duration": 0,
    "start_time": "2023-06-28T08:18:23.476Z"
   },
   {
    "duration": 0,
    "start_time": "2023-06-28T08:18:23.477Z"
   },
   {
    "duration": 0,
    "start_time": "2023-06-28T08:18:23.478Z"
   },
   {
    "duration": 0,
    "start_time": "2023-06-28T08:18:23.478Z"
   },
   {
    "duration": 0,
    "start_time": "2023-06-28T08:18:23.532Z"
   },
   {
    "duration": 0,
    "start_time": "2023-06-28T08:18:23.533Z"
   },
   {
    "duration": 0,
    "start_time": "2023-06-28T08:18:23.535Z"
   },
   {
    "duration": 0,
    "start_time": "2023-06-28T08:18:23.536Z"
   },
   {
    "duration": 0,
    "start_time": "2023-06-28T08:18:23.538Z"
   },
   {
    "duration": 0,
    "start_time": "2023-06-28T08:18:23.540Z"
   },
   {
    "duration": 0,
    "start_time": "2023-06-28T08:18:23.541Z"
   },
   {
    "duration": 0,
    "start_time": "2023-06-28T08:18:23.543Z"
   },
   {
    "duration": 0,
    "start_time": "2023-06-28T08:18:23.544Z"
   },
   {
    "duration": 0,
    "start_time": "2023-06-28T08:18:23.546Z"
   },
   {
    "duration": 0,
    "start_time": "2023-06-28T08:18:23.547Z"
   },
   {
    "duration": 0,
    "start_time": "2023-06-28T08:18:23.548Z"
   },
   {
    "duration": 0,
    "start_time": "2023-06-28T08:18:23.550Z"
   },
   {
    "duration": 0,
    "start_time": "2023-06-28T08:18:23.551Z"
   },
   {
    "duration": 0,
    "start_time": "2023-06-28T08:18:23.552Z"
   },
   {
    "duration": 0,
    "start_time": "2023-06-28T08:18:23.553Z"
   },
   {
    "duration": 0,
    "start_time": "2023-06-28T08:18:23.555Z"
   },
   {
    "duration": 0,
    "start_time": "2023-06-28T08:18:23.556Z"
   },
   {
    "duration": 0,
    "start_time": "2023-06-28T08:18:23.557Z"
   },
   {
    "duration": 0,
    "start_time": "2023-06-28T08:18:23.558Z"
   },
   {
    "duration": 0,
    "start_time": "2023-06-28T08:18:23.559Z"
   },
   {
    "duration": 0,
    "start_time": "2023-06-28T08:18:23.561Z"
   },
   {
    "duration": 0,
    "start_time": "2023-06-28T08:18:23.565Z"
   },
   {
    "duration": 0,
    "start_time": "2023-06-28T08:18:23.567Z"
   },
   {
    "duration": 0,
    "start_time": "2023-06-28T08:18:23.568Z"
   },
   {
    "duration": 0,
    "start_time": "2023-06-28T08:18:23.632Z"
   },
   {
    "duration": 0,
    "start_time": "2023-06-28T08:18:23.634Z"
   },
   {
    "duration": 0,
    "start_time": "2023-06-28T08:18:23.636Z"
   },
   {
    "duration": 0,
    "start_time": "2023-06-28T08:18:23.637Z"
   },
   {
    "duration": 0,
    "start_time": "2023-06-28T08:18:23.638Z"
   },
   {
    "duration": 0,
    "start_time": "2023-06-28T08:18:23.639Z"
   },
   {
    "duration": 0,
    "start_time": "2023-06-28T08:18:23.641Z"
   },
   {
    "duration": 0,
    "start_time": "2023-06-28T08:18:23.643Z"
   },
   {
    "duration": 0,
    "start_time": "2023-06-28T08:18:23.645Z"
   },
   {
    "duration": 0,
    "start_time": "2023-06-28T08:18:23.646Z"
   },
   {
    "duration": 0,
    "start_time": "2023-06-28T08:18:23.648Z"
   },
   {
    "duration": 0,
    "start_time": "2023-06-28T08:18:23.649Z"
   },
   {
    "duration": 0,
    "start_time": "2023-06-28T08:18:23.650Z"
   },
   {
    "duration": 0,
    "start_time": "2023-06-28T08:18:23.652Z"
   },
   {
    "duration": 1,
    "start_time": "2023-06-28T08:18:23.653Z"
   },
   {
    "duration": 23,
    "start_time": "2023-06-28T08:21:23.212Z"
   },
   {
    "duration": 98,
    "start_time": "2023-06-28T08:21:31.373Z"
   },
   {
    "duration": 1794,
    "start_time": "2023-06-28T08:21:42.709Z"
   },
   {
    "duration": 3,
    "start_time": "2023-06-28T08:21:44.506Z"
   },
   {
    "duration": 132,
    "start_time": "2023-06-28T08:21:44.511Z"
   },
   {
    "duration": 147,
    "start_time": "2023-06-28T08:21:44.650Z"
   },
   {
    "duration": 21,
    "start_time": "2023-06-28T08:21:44.799Z"
   },
   {
    "duration": 80,
    "start_time": "2023-06-28T08:21:44.822Z"
   },
   {
    "duration": 50,
    "start_time": "2023-06-28T08:21:44.906Z"
   },
   {
    "duration": 23,
    "start_time": "2023-06-28T08:21:44.959Z"
   },
   {
    "duration": 291,
    "start_time": "2023-06-28T08:21:44.984Z"
   },
   {
    "duration": 9,
    "start_time": "2023-06-28T08:21:45.276Z"
   },
   {
    "duration": 29,
    "start_time": "2023-06-28T08:21:45.287Z"
   },
   {
    "duration": 42,
    "start_time": "2023-06-28T08:21:45.318Z"
   },
   {
    "duration": 49,
    "start_time": "2023-06-28T08:21:45.362Z"
   },
   {
    "duration": 27,
    "start_time": "2023-06-28T08:21:45.414Z"
   },
   {
    "duration": 7,
    "start_time": "2023-06-28T08:21:45.448Z"
   },
   {
    "duration": 21,
    "start_time": "2023-06-28T08:21:45.456Z"
   },
   {
    "duration": 12,
    "start_time": "2023-06-28T08:21:45.479Z"
   },
   {
    "duration": 46,
    "start_time": "2023-06-28T08:21:45.492Z"
   },
   {
    "duration": 29,
    "start_time": "2023-06-28T08:21:45.540Z"
   },
   {
    "duration": 10,
    "start_time": "2023-06-28T08:21:45.571Z"
   },
   {
    "duration": 21,
    "start_time": "2023-06-28T08:21:45.583Z"
   },
   {
    "duration": 8,
    "start_time": "2023-06-28T08:21:45.605Z"
   },
   {
    "duration": 13,
    "start_time": "2023-06-28T08:21:45.615Z"
   },
   {
    "duration": 35,
    "start_time": "2023-06-28T08:21:45.629Z"
   },
   {
    "duration": 14,
    "start_time": "2023-06-28T08:21:45.666Z"
   },
   {
    "duration": 32,
    "start_time": "2023-06-28T08:21:45.682Z"
   },
   {
    "duration": 35,
    "start_time": "2023-06-28T08:21:45.716Z"
   },
   {
    "duration": 6,
    "start_time": "2023-06-28T08:21:45.753Z"
   },
   {
    "duration": 24,
    "start_time": "2023-06-28T08:21:45.761Z"
   },
   {
    "duration": 19,
    "start_time": "2023-06-28T08:21:45.787Z"
   },
   {
    "duration": 42,
    "start_time": "2023-06-28T08:21:45.808Z"
   },
   {
    "duration": 14,
    "start_time": "2023-06-28T08:21:45.852Z"
   },
   {
    "duration": 93,
    "start_time": "2023-06-28T08:21:45.868Z"
   },
   {
    "duration": 226,
    "start_time": "2023-06-28T08:21:46.039Z"
   },
   {
    "duration": 26,
    "start_time": "2023-06-28T08:21:46.266Z"
   },
   {
    "duration": 2391,
    "start_time": "2023-06-28T08:21:46.293Z"
   },
   {
    "duration": 57,
    "start_time": "2023-06-28T08:21:48.686Z"
   },
   {
    "duration": 291,
    "start_time": "2023-06-28T08:21:48.745Z"
   },
   {
    "duration": 31,
    "start_time": "2023-06-28T08:21:49.037Z"
   },
   {
    "duration": 4,
    "start_time": "2023-06-28T08:21:49.069Z"
   },
   {
    "duration": 8,
    "start_time": "2023-06-28T08:21:49.077Z"
   },
   {
    "duration": 124,
    "start_time": "2023-06-28T08:21:49.086Z"
   },
   {
    "duration": 6,
    "start_time": "2023-06-28T08:21:49.211Z"
   },
   {
    "duration": 148,
    "start_time": "2023-06-28T08:21:49.219Z"
   },
   {
    "duration": 6,
    "start_time": "2023-06-28T08:21:49.368Z"
   },
   {
    "duration": 13,
    "start_time": "2023-06-28T08:21:49.375Z"
   },
   {
    "duration": 7,
    "start_time": "2023-06-28T08:21:49.389Z"
   },
   {
    "duration": 2128,
    "start_time": "2023-06-28T08:21:49.397Z"
   },
   {
    "duration": 3105,
    "start_time": "2023-06-28T08:21:51.532Z"
   },
   {
    "duration": 4572,
    "start_time": "2023-06-28T08:21:54.638Z"
   },
   {
    "duration": 5456,
    "start_time": "2023-06-28T08:21:59.212Z"
   },
   {
    "duration": 6888,
    "start_time": "2023-06-28T08:22:04.671Z"
   },
   {
    "duration": 7379,
    "start_time": "2023-06-28T08:22:11.561Z"
   },
   {
    "duration": 8423,
    "start_time": "2023-06-28T08:22:18.942Z"
   },
   {
    "duration": 9232,
    "start_time": "2023-06-28T08:22:27.367Z"
   },
   {
    "duration": 10843,
    "start_time": "2023-06-28T08:22:36.601Z"
   },
   {
    "duration": 524,
    "start_time": "2023-06-28T08:22:47.445Z"
   },
   {
    "duration": 63,
    "start_time": "2023-06-28T08:22:47.971Z"
   },
   {
    "duration": 846,
    "start_time": "2023-06-28T08:22:48.036Z"
   },
   {
    "duration": 6,
    "start_time": "2023-06-28T08:22:48.884Z"
   },
   {
    "duration": 25,
    "start_time": "2023-06-28T08:22:48.892Z"
   },
   {
    "duration": 61,
    "start_time": "2023-06-28T08:22:48.919Z"
   },
   {
    "duration": 985,
    "start_time": "2023-06-28T08:22:48.982Z"
   },
   {
    "duration": 65,
    "start_time": "2023-06-28T08:22:49.968Z"
   },
   {
    "duration": 101,
    "start_time": "2023-06-28T08:22:50.035Z"
   },
   {
    "duration": 54,
    "start_time": "2023-06-28T08:22:50.138Z"
   },
   {
    "duration": 242,
    "start_time": "2023-06-28T08:22:50.194Z"
   },
   {
    "duration": 95,
    "start_time": "2023-06-28T08:22:50.438Z"
   },
   {
    "duration": 120,
    "start_time": "2023-06-28T08:22:50.535Z"
   },
   {
    "duration": 513,
    "start_time": "2023-06-28T08:22:50.656Z"
   },
   {
    "duration": 19,
    "start_time": "2023-06-28T08:22:51.171Z"
   },
   {
    "duration": 1215,
    "start_time": "2023-06-28T08:22:51.191Z"
   },
   {
    "duration": 6,
    "start_time": "2023-06-28T08:22:52.408Z"
   },
   {
    "duration": 1047,
    "start_time": "2023-06-28T08:22:52.416Z"
   },
   {
    "duration": 44,
    "start_time": "2023-06-28T08:22:53.465Z"
   },
   {
    "duration": 203,
    "start_time": "2023-06-28T08:22:53.511Z"
   },
   {
    "duration": 19,
    "start_time": "2023-06-28T08:22:53.716Z"
   },
   {
    "duration": 4,
    "start_time": "2023-06-28T08:31:16.005Z"
   },
   {
    "duration": 2757,
    "start_time": "2023-06-28T08:33:18.306Z"
   },
   {
    "duration": 5,
    "start_time": "2023-06-28T08:33:21.065Z"
   },
   {
    "duration": 218,
    "start_time": "2023-06-28T08:33:21.072Z"
   },
   {
    "duration": 119,
    "start_time": "2023-06-28T08:33:21.292Z"
   },
   {
    "duration": 20,
    "start_time": "2023-06-28T08:33:21.413Z"
   },
   {
    "duration": 49,
    "start_time": "2023-06-28T08:33:21.435Z"
   },
   {
    "duration": 40,
    "start_time": "2023-06-28T08:33:21.485Z"
   },
   {
    "duration": 56,
    "start_time": "2023-06-28T08:33:21.526Z"
   },
   {
    "duration": 18,
    "start_time": "2023-06-28T08:33:21.583Z"
   },
   {
    "duration": 4645,
    "start_time": "2023-06-28T08:33:21.604Z"
   },
   {
    "duration": 0,
    "start_time": "2023-06-28T08:33:26.252Z"
   },
   {
    "duration": 0,
    "start_time": "2023-06-28T08:33:26.253Z"
   },
   {
    "duration": 0,
    "start_time": "2023-06-28T08:33:26.254Z"
   },
   {
    "duration": 0,
    "start_time": "2023-06-28T08:33:26.255Z"
   },
   {
    "duration": 0,
    "start_time": "2023-06-28T08:33:26.256Z"
   },
   {
    "duration": 0,
    "start_time": "2023-06-28T08:33:26.258Z"
   },
   {
    "duration": 0,
    "start_time": "2023-06-28T08:33:26.258Z"
   },
   {
    "duration": 1,
    "start_time": "2023-06-28T08:33:26.259Z"
   },
   {
    "duration": 0,
    "start_time": "2023-06-28T08:33:26.261Z"
   },
   {
    "duration": 0,
    "start_time": "2023-06-28T08:33:26.262Z"
   },
   {
    "duration": 0,
    "start_time": "2023-06-28T08:33:26.263Z"
   },
   {
    "duration": 0,
    "start_time": "2023-06-28T08:33:26.264Z"
   },
   {
    "duration": 0,
    "start_time": "2023-06-28T08:33:26.265Z"
   },
   {
    "duration": 0,
    "start_time": "2023-06-28T08:33:26.266Z"
   },
   {
    "duration": 0,
    "start_time": "2023-06-28T08:33:26.267Z"
   },
   {
    "duration": 0,
    "start_time": "2023-06-28T08:33:26.268Z"
   },
   {
    "duration": 0,
    "start_time": "2023-06-28T08:33:26.269Z"
   },
   {
    "duration": 0,
    "start_time": "2023-06-28T08:33:26.271Z"
   },
   {
    "duration": 0,
    "start_time": "2023-06-28T08:33:26.272Z"
   },
   {
    "duration": 0,
    "start_time": "2023-06-28T08:33:26.273Z"
   },
   {
    "duration": 0,
    "start_time": "2023-06-28T08:33:26.275Z"
   },
   {
    "duration": 0,
    "start_time": "2023-06-28T08:33:26.276Z"
   },
   {
    "duration": 0,
    "start_time": "2023-06-28T08:33:26.277Z"
   },
   {
    "duration": 0,
    "start_time": "2023-06-28T08:33:26.279Z"
   },
   {
    "duration": 0,
    "start_time": "2023-06-28T08:33:26.280Z"
   },
   {
    "duration": 0,
    "start_time": "2023-06-28T08:33:26.281Z"
   },
   {
    "duration": 0,
    "start_time": "2023-06-28T08:33:26.283Z"
   },
   {
    "duration": 0,
    "start_time": "2023-06-28T08:33:26.284Z"
   },
   {
    "duration": 0,
    "start_time": "2023-06-28T08:33:26.285Z"
   },
   {
    "duration": 0,
    "start_time": "2023-06-28T08:33:26.286Z"
   },
   {
    "duration": 0,
    "start_time": "2023-06-28T08:33:26.288Z"
   },
   {
    "duration": 0,
    "start_time": "2023-06-28T08:33:26.332Z"
   },
   {
    "duration": 0,
    "start_time": "2023-06-28T08:33:26.334Z"
   },
   {
    "duration": 0,
    "start_time": "2023-06-28T08:33:26.336Z"
   },
   {
    "duration": 0,
    "start_time": "2023-06-28T08:33:26.337Z"
   },
   {
    "duration": 0,
    "start_time": "2023-06-28T08:33:26.338Z"
   },
   {
    "duration": 0,
    "start_time": "2023-06-28T08:33:26.340Z"
   },
   {
    "duration": 0,
    "start_time": "2023-06-28T08:33:26.341Z"
   },
   {
    "duration": 0,
    "start_time": "2023-06-28T08:33:26.342Z"
   },
   {
    "duration": 0,
    "start_time": "2023-06-28T08:33:26.343Z"
   },
   {
    "duration": 0,
    "start_time": "2023-06-28T08:33:26.348Z"
   },
   {
    "duration": 0,
    "start_time": "2023-06-28T08:33:26.348Z"
   },
   {
    "duration": 0,
    "start_time": "2023-06-28T08:33:26.349Z"
   },
   {
    "duration": 0,
    "start_time": "2023-06-28T08:33:26.350Z"
   },
   {
    "duration": 0,
    "start_time": "2023-06-28T08:33:26.351Z"
   },
   {
    "duration": 0,
    "start_time": "2023-06-28T08:33:26.353Z"
   },
   {
    "duration": 0,
    "start_time": "2023-06-28T08:33:26.354Z"
   },
   {
    "duration": 0,
    "start_time": "2023-06-28T08:33:26.356Z"
   },
   {
    "duration": 0,
    "start_time": "2023-06-28T08:33:26.356Z"
   },
   {
    "duration": 0,
    "start_time": "2023-06-28T08:33:26.358Z"
   },
   {
    "duration": 0,
    "start_time": "2023-06-28T08:33:26.359Z"
   },
   {
    "duration": 0,
    "start_time": "2023-06-28T08:33:26.360Z"
   },
   {
    "duration": 0,
    "start_time": "2023-06-28T08:33:26.361Z"
   },
   {
    "duration": 0,
    "start_time": "2023-06-28T08:33:26.362Z"
   },
   {
    "duration": 0,
    "start_time": "2023-06-28T08:33:26.363Z"
   },
   {
    "duration": 0,
    "start_time": "2023-06-28T08:33:26.363Z"
   },
   {
    "duration": 0,
    "start_time": "2023-06-28T08:33:26.364Z"
   },
   {
    "duration": 0,
    "start_time": "2023-06-28T08:33:26.365Z"
   },
   {
    "duration": 0,
    "start_time": "2023-06-28T08:33:26.366Z"
   },
   {
    "duration": 0,
    "start_time": "2023-06-28T08:33:26.367Z"
   },
   {
    "duration": 0,
    "start_time": "2023-06-28T08:33:26.368Z"
   },
   {
    "duration": 0,
    "start_time": "2023-06-28T08:33:26.369Z"
   },
   {
    "duration": 0,
    "start_time": "2023-06-28T08:33:26.370Z"
   },
   {
    "duration": 0,
    "start_time": "2023-06-28T08:33:26.371Z"
   },
   {
    "duration": 0,
    "start_time": "2023-06-28T08:33:26.372Z"
   },
   {
    "duration": 0,
    "start_time": "2023-06-28T08:33:26.373Z"
   },
   {
    "duration": 0,
    "start_time": "2023-06-28T08:33:26.374Z"
   },
   {
    "duration": 0,
    "start_time": "2023-06-28T08:33:26.432Z"
   },
   {
    "duration": 14,
    "start_time": "2023-06-28T08:43:56.603Z"
   },
   {
    "duration": 21,
    "start_time": "2023-06-28T08:47:53.241Z"
   },
   {
    "duration": 19,
    "start_time": "2023-06-28T08:47:56.417Z"
   },
   {
    "duration": 2532,
    "start_time": "2023-06-28T08:51:45.715Z"
   },
   {
    "duration": 6,
    "start_time": "2023-06-28T08:51:48.249Z"
   },
   {
    "duration": 242,
    "start_time": "2023-06-28T08:51:48.257Z"
   },
   {
    "duration": 114,
    "start_time": "2023-06-28T08:51:48.500Z"
   },
   {
    "duration": 14,
    "start_time": "2023-06-28T08:51:48.617Z"
   },
   {
    "duration": 11,
    "start_time": "2023-06-28T08:51:48.633Z"
   },
   {
    "duration": 32,
    "start_time": "2023-06-28T08:51:48.646Z"
   },
   {
    "duration": 3690,
    "start_time": "2023-06-28T08:51:48.681Z"
   },
   {
    "duration": 0,
    "start_time": "2023-06-28T08:51:52.377Z"
   },
   {
    "duration": 0,
    "start_time": "2023-06-28T08:51:52.379Z"
   },
   {
    "duration": 0,
    "start_time": "2023-06-28T08:51:52.380Z"
   },
   {
    "duration": 0,
    "start_time": "2023-06-28T08:51:52.382Z"
   },
   {
    "duration": 0,
    "start_time": "2023-06-28T08:51:52.383Z"
   },
   {
    "duration": 0,
    "start_time": "2023-06-28T08:51:52.384Z"
   },
   {
    "duration": 0,
    "start_time": "2023-06-28T08:51:52.385Z"
   },
   {
    "duration": 0,
    "start_time": "2023-06-28T08:51:52.386Z"
   },
   {
    "duration": 0,
    "start_time": "2023-06-28T08:51:52.387Z"
   },
   {
    "duration": 0,
    "start_time": "2023-06-28T08:51:52.388Z"
   },
   {
    "duration": 0,
    "start_time": "2023-06-28T08:51:52.388Z"
   },
   {
    "duration": 0,
    "start_time": "2023-06-28T08:51:52.389Z"
   },
   {
    "duration": 0,
    "start_time": "2023-06-28T08:51:52.391Z"
   },
   {
    "duration": 0,
    "start_time": "2023-06-28T08:51:52.391Z"
   },
   {
    "duration": 0,
    "start_time": "2023-06-28T08:51:52.392Z"
   },
   {
    "duration": 0,
    "start_time": "2023-06-28T08:51:52.393Z"
   },
   {
    "duration": 0,
    "start_time": "2023-06-28T08:51:52.394Z"
   },
   {
    "duration": 0,
    "start_time": "2023-06-28T08:51:52.395Z"
   },
   {
    "duration": 0,
    "start_time": "2023-06-28T08:51:52.396Z"
   },
   {
    "duration": 0,
    "start_time": "2023-06-28T08:51:52.397Z"
   },
   {
    "duration": 0,
    "start_time": "2023-06-28T08:51:52.399Z"
   },
   {
    "duration": 0,
    "start_time": "2023-06-28T08:51:52.400Z"
   },
   {
    "duration": 0,
    "start_time": "2023-06-28T08:51:52.400Z"
   },
   {
    "duration": 0,
    "start_time": "2023-06-28T08:51:52.401Z"
   },
   {
    "duration": 0,
    "start_time": "2023-06-28T08:51:52.402Z"
   },
   {
    "duration": 0,
    "start_time": "2023-06-28T08:51:52.403Z"
   },
   {
    "duration": 0,
    "start_time": "2023-06-28T08:51:52.404Z"
   },
   {
    "duration": 0,
    "start_time": "2023-06-28T08:51:52.405Z"
   },
   {
    "duration": 0,
    "start_time": "2023-06-28T08:51:52.406Z"
   },
   {
    "duration": 0,
    "start_time": "2023-06-28T08:51:52.407Z"
   },
   {
    "duration": 0,
    "start_time": "2023-06-28T08:51:52.409Z"
   },
   {
    "duration": 0,
    "start_time": "2023-06-28T08:51:52.410Z"
   },
   {
    "duration": 0,
    "start_time": "2023-06-28T08:51:52.412Z"
   },
   {
    "duration": 0,
    "start_time": "2023-06-28T08:51:52.432Z"
   },
   {
    "duration": 0,
    "start_time": "2023-06-28T08:51:52.434Z"
   },
   {
    "duration": 0,
    "start_time": "2023-06-28T08:51:52.436Z"
   },
   {
    "duration": 0,
    "start_time": "2023-06-28T08:51:52.437Z"
   },
   {
    "duration": 0,
    "start_time": "2023-06-28T08:51:52.440Z"
   },
   {
    "duration": 0,
    "start_time": "2023-06-28T08:51:52.441Z"
   },
   {
    "duration": 0,
    "start_time": "2023-06-28T08:51:52.442Z"
   },
   {
    "duration": 0,
    "start_time": "2023-06-28T08:51:52.444Z"
   },
   {
    "duration": 0,
    "start_time": "2023-06-28T08:51:52.445Z"
   },
   {
    "duration": 0,
    "start_time": "2023-06-28T08:51:52.446Z"
   },
   {
    "duration": 0,
    "start_time": "2023-06-28T08:51:52.448Z"
   },
   {
    "duration": 0,
    "start_time": "2023-06-28T08:51:52.449Z"
   },
   {
    "duration": 0,
    "start_time": "2023-06-28T08:51:52.450Z"
   },
   {
    "duration": 0,
    "start_time": "2023-06-28T08:51:52.451Z"
   },
   {
    "duration": 0,
    "start_time": "2023-06-28T08:51:52.452Z"
   },
   {
    "duration": 0,
    "start_time": "2023-06-28T08:51:52.454Z"
   },
   {
    "duration": 0,
    "start_time": "2023-06-28T08:51:52.454Z"
   },
   {
    "duration": 0,
    "start_time": "2023-06-28T08:51:52.458Z"
   },
   {
    "duration": 0,
    "start_time": "2023-06-28T08:51:52.459Z"
   },
   {
    "duration": 0,
    "start_time": "2023-06-28T08:51:52.460Z"
   },
   {
    "duration": 0,
    "start_time": "2023-06-28T08:51:52.462Z"
   },
   {
    "duration": 0,
    "start_time": "2023-06-28T08:51:52.463Z"
   },
   {
    "duration": 0,
    "start_time": "2023-06-28T08:51:52.465Z"
   },
   {
    "duration": 0,
    "start_time": "2023-06-28T08:51:52.467Z"
   },
   {
    "duration": 0,
    "start_time": "2023-06-28T08:51:52.469Z"
   },
   {
    "duration": 0,
    "start_time": "2023-06-28T08:51:52.470Z"
   },
   {
    "duration": 0,
    "start_time": "2023-06-28T08:51:52.533Z"
   },
   {
    "duration": 0,
    "start_time": "2023-06-28T08:51:52.534Z"
   },
   {
    "duration": 0,
    "start_time": "2023-06-28T08:51:52.536Z"
   },
   {
    "duration": 0,
    "start_time": "2023-06-28T08:51:52.538Z"
   },
   {
    "duration": 0,
    "start_time": "2023-06-28T08:51:52.539Z"
   },
   {
    "duration": 0,
    "start_time": "2023-06-28T08:51:52.540Z"
   },
   {
    "duration": 0,
    "start_time": "2023-06-28T08:51:52.542Z"
   },
   {
    "duration": 0,
    "start_time": "2023-06-28T08:51:52.544Z"
   },
   {
    "duration": 0,
    "start_time": "2023-06-28T08:51:52.545Z"
   },
   {
    "duration": 0,
    "start_time": "2023-06-28T08:51:52.547Z"
   },
   {
    "duration": 0,
    "start_time": "2023-06-28T08:51:52.548Z"
   },
   {
    "duration": 2448,
    "start_time": "2023-06-28T08:52:11.121Z"
   },
   {
    "duration": 5,
    "start_time": "2023-06-28T08:52:13.571Z"
   },
   {
    "duration": 289,
    "start_time": "2023-06-28T08:52:13.578Z"
   },
   {
    "duration": 238,
    "start_time": "2023-06-28T08:52:13.870Z"
   },
   {
    "duration": 25,
    "start_time": "2023-06-28T08:52:14.110Z"
   },
   {
    "duration": 18,
    "start_time": "2023-06-28T08:52:14.137Z"
   },
   {
    "duration": 25,
    "start_time": "2023-06-28T08:52:14.157Z"
   },
   {
    "duration": 5292,
    "start_time": "2023-06-28T08:52:14.184Z"
   },
   {
    "duration": 0,
    "start_time": "2023-06-28T08:52:19.480Z"
   },
   {
    "duration": 0,
    "start_time": "2023-06-28T08:52:19.481Z"
   },
   {
    "duration": 0,
    "start_time": "2023-06-28T08:52:19.482Z"
   },
   {
    "duration": 0,
    "start_time": "2023-06-28T08:52:19.482Z"
   },
   {
    "duration": 0,
    "start_time": "2023-06-28T08:52:19.484Z"
   },
   {
    "duration": 0,
    "start_time": "2023-06-28T08:52:19.486Z"
   },
   {
    "duration": 0,
    "start_time": "2023-06-28T08:52:19.487Z"
   },
   {
    "duration": 0,
    "start_time": "2023-06-28T08:52:19.488Z"
   },
   {
    "duration": 0,
    "start_time": "2023-06-28T08:52:19.489Z"
   },
   {
    "duration": 0,
    "start_time": "2023-06-28T08:52:19.490Z"
   },
   {
    "duration": 0,
    "start_time": "2023-06-28T08:52:19.491Z"
   },
   {
    "duration": 0,
    "start_time": "2023-06-28T08:52:19.492Z"
   },
   {
    "duration": 0,
    "start_time": "2023-06-28T08:52:19.493Z"
   },
   {
    "duration": 0,
    "start_time": "2023-06-28T08:52:19.494Z"
   },
   {
    "duration": 0,
    "start_time": "2023-06-28T08:52:19.496Z"
   },
   {
    "duration": 0,
    "start_time": "2023-06-28T08:52:19.497Z"
   },
   {
    "duration": 0,
    "start_time": "2023-06-28T08:52:19.498Z"
   },
   {
    "duration": 0,
    "start_time": "2023-06-28T08:52:19.499Z"
   },
   {
    "duration": 0,
    "start_time": "2023-06-28T08:52:19.500Z"
   },
   {
    "duration": 0,
    "start_time": "2023-06-28T08:52:19.501Z"
   },
   {
    "duration": 0,
    "start_time": "2023-06-28T08:52:19.502Z"
   },
   {
    "duration": 0,
    "start_time": "2023-06-28T08:52:19.503Z"
   },
   {
    "duration": 0,
    "start_time": "2023-06-28T08:52:19.504Z"
   },
   {
    "duration": 0,
    "start_time": "2023-06-28T08:52:19.505Z"
   },
   {
    "duration": 0,
    "start_time": "2023-06-28T08:52:19.506Z"
   },
   {
    "duration": 0,
    "start_time": "2023-06-28T08:52:19.508Z"
   },
   {
    "duration": 0,
    "start_time": "2023-06-28T08:52:19.509Z"
   },
   {
    "duration": 0,
    "start_time": "2023-06-28T08:52:19.511Z"
   },
   {
    "duration": 0,
    "start_time": "2023-06-28T08:52:19.512Z"
   },
   {
    "duration": 0,
    "start_time": "2023-06-28T08:52:19.514Z"
   },
   {
    "duration": 0,
    "start_time": "2023-06-28T08:52:19.515Z"
   },
   {
    "duration": 0,
    "start_time": "2023-06-28T08:52:19.532Z"
   },
   {
    "duration": 0,
    "start_time": "2023-06-28T08:52:19.533Z"
   },
   {
    "duration": 0,
    "start_time": "2023-06-28T08:52:19.534Z"
   },
   {
    "duration": 0,
    "start_time": "2023-06-28T08:52:19.536Z"
   },
   {
    "duration": 0,
    "start_time": "2023-06-28T08:52:19.536Z"
   },
   {
    "duration": 0,
    "start_time": "2023-06-28T08:52:19.537Z"
   },
   {
    "duration": 0,
    "start_time": "2023-06-28T08:52:19.538Z"
   },
   {
    "duration": 0,
    "start_time": "2023-06-28T08:52:19.540Z"
   },
   {
    "duration": 0,
    "start_time": "2023-06-28T08:52:19.541Z"
   },
   {
    "duration": 0,
    "start_time": "2023-06-28T08:52:19.542Z"
   },
   {
    "duration": 0,
    "start_time": "2023-06-28T08:52:19.543Z"
   },
   {
    "duration": 0,
    "start_time": "2023-06-28T08:52:19.545Z"
   },
   {
    "duration": 0,
    "start_time": "2023-06-28T08:52:19.546Z"
   },
   {
    "duration": 0,
    "start_time": "2023-06-28T08:52:19.547Z"
   },
   {
    "duration": 0,
    "start_time": "2023-06-28T08:52:19.548Z"
   },
   {
    "duration": 0,
    "start_time": "2023-06-28T08:52:19.549Z"
   },
   {
    "duration": 0,
    "start_time": "2023-06-28T08:52:19.550Z"
   },
   {
    "duration": 0,
    "start_time": "2023-06-28T08:52:19.552Z"
   },
   {
    "duration": 0,
    "start_time": "2023-06-28T08:52:19.553Z"
   },
   {
    "duration": 0,
    "start_time": "2023-06-28T08:52:19.554Z"
   },
   {
    "duration": 0,
    "start_time": "2023-06-28T08:52:19.555Z"
   },
   {
    "duration": 0,
    "start_time": "2023-06-28T08:52:19.556Z"
   },
   {
    "duration": 0,
    "start_time": "2023-06-28T08:52:19.557Z"
   },
   {
    "duration": 0,
    "start_time": "2023-06-28T08:52:19.559Z"
   },
   {
    "duration": 0,
    "start_time": "2023-06-28T08:52:19.560Z"
   },
   {
    "duration": 0,
    "start_time": "2023-06-28T08:52:19.561Z"
   },
   {
    "duration": 0,
    "start_time": "2023-06-28T08:52:19.562Z"
   },
   {
    "duration": 0,
    "start_time": "2023-06-28T08:52:19.563Z"
   },
   {
    "duration": 0,
    "start_time": "2023-06-28T08:52:19.564Z"
   },
   {
    "duration": 0,
    "start_time": "2023-06-28T08:52:19.565Z"
   },
   {
    "duration": 0,
    "start_time": "2023-06-28T08:52:19.566Z"
   },
   {
    "duration": 0,
    "start_time": "2023-06-28T08:52:19.567Z"
   },
   {
    "duration": 0,
    "start_time": "2023-06-28T08:52:19.568Z"
   },
   {
    "duration": 0,
    "start_time": "2023-06-28T08:52:19.569Z"
   },
   {
    "duration": 0,
    "start_time": "2023-06-28T08:52:19.570Z"
   },
   {
    "duration": 0,
    "start_time": "2023-06-28T08:52:19.632Z"
   },
   {
    "duration": 0,
    "start_time": "2023-06-28T08:52:19.633Z"
   },
   {
    "duration": 0,
    "start_time": "2023-06-28T08:52:19.634Z"
   },
   {
    "duration": 0,
    "start_time": "2023-06-28T08:52:19.636Z"
   },
   {
    "duration": 21,
    "start_time": "2023-06-28T08:53:13.773Z"
   },
   {
    "duration": 21,
    "start_time": "2023-06-28T08:53:18.744Z"
   },
   {
    "duration": 28,
    "start_time": "2023-06-28T08:53:26.502Z"
   },
   {
    "duration": 21,
    "start_time": "2023-06-28T08:53:33.587Z"
   },
   {
    "duration": 14,
    "start_time": "2023-06-28T08:53:44.201Z"
   },
   {
    "duration": 13,
    "start_time": "2023-06-28T08:53:49.717Z"
   },
   {
    "duration": 19,
    "start_time": "2023-06-28T08:53:54.952Z"
   },
   {
    "duration": 2495,
    "start_time": "2023-06-28T08:54:02.459Z"
   },
   {
    "duration": 4,
    "start_time": "2023-06-28T08:54:04.957Z"
   },
   {
    "duration": 296,
    "start_time": "2023-06-28T08:54:04.963Z"
   },
   {
    "duration": 296,
    "start_time": "2023-06-28T08:54:05.263Z"
   },
   {
    "duration": 71,
    "start_time": "2023-06-28T08:54:05.561Z"
   },
   {
    "duration": 2,
    "start_time": "2023-06-28T08:54:05.635Z"
   },
   {
    "duration": 37,
    "start_time": "2023-06-28T08:54:05.640Z"
   },
   {
    "duration": 65,
    "start_time": "2023-06-28T08:54:05.679Z"
   },
   {
    "duration": 6,
    "start_time": "2023-06-28T08:54:05.747Z"
   },
   {
    "duration": 4241,
    "start_time": "2023-06-28T08:54:05.755Z"
   },
   {
    "duration": 0,
    "start_time": "2023-06-28T08:54:09.999Z"
   },
   {
    "duration": 0,
    "start_time": "2023-06-28T08:54:10.000Z"
   },
   {
    "duration": 0,
    "start_time": "2023-06-28T08:54:10.001Z"
   },
   {
    "duration": 0,
    "start_time": "2023-06-28T08:54:10.003Z"
   },
   {
    "duration": 0,
    "start_time": "2023-06-28T08:54:10.004Z"
   },
   {
    "duration": 0,
    "start_time": "2023-06-28T08:54:10.005Z"
   },
   {
    "duration": 0,
    "start_time": "2023-06-28T08:54:10.005Z"
   },
   {
    "duration": 0,
    "start_time": "2023-06-28T08:54:10.006Z"
   },
   {
    "duration": 0,
    "start_time": "2023-06-28T08:54:10.008Z"
   },
   {
    "duration": 0,
    "start_time": "2023-06-28T08:54:10.009Z"
   },
   {
    "duration": 0,
    "start_time": "2023-06-28T08:54:10.010Z"
   },
   {
    "duration": 0,
    "start_time": "2023-06-28T08:54:10.011Z"
   },
   {
    "duration": 0,
    "start_time": "2023-06-28T08:54:10.012Z"
   },
   {
    "duration": 0,
    "start_time": "2023-06-28T08:54:10.013Z"
   },
   {
    "duration": 0,
    "start_time": "2023-06-28T08:54:10.014Z"
   },
   {
    "duration": 0,
    "start_time": "2023-06-28T08:54:10.015Z"
   },
   {
    "duration": 0,
    "start_time": "2023-06-28T08:54:10.016Z"
   },
   {
    "duration": 0,
    "start_time": "2023-06-28T08:54:10.017Z"
   },
   {
    "duration": 0,
    "start_time": "2023-06-28T08:54:10.018Z"
   },
   {
    "duration": 0,
    "start_time": "2023-06-28T08:54:10.020Z"
   },
   {
    "duration": 0,
    "start_time": "2023-06-28T08:54:10.021Z"
   },
   {
    "duration": 0,
    "start_time": "2023-06-28T08:54:10.023Z"
   },
   {
    "duration": 0,
    "start_time": "2023-06-28T08:54:10.024Z"
   },
   {
    "duration": 0,
    "start_time": "2023-06-28T08:54:10.025Z"
   },
   {
    "duration": 0,
    "start_time": "2023-06-28T08:54:10.026Z"
   },
   {
    "duration": 0,
    "start_time": "2023-06-28T08:54:10.027Z"
   },
   {
    "duration": 0,
    "start_time": "2023-06-28T08:54:10.029Z"
   },
   {
    "duration": 0,
    "start_time": "2023-06-28T08:54:10.030Z"
   },
   {
    "duration": 0,
    "start_time": "2023-06-28T08:54:10.031Z"
   },
   {
    "duration": 0,
    "start_time": "2023-06-28T08:54:10.032Z"
   },
   {
    "duration": 0,
    "start_time": "2023-06-28T08:54:10.033Z"
   },
   {
    "duration": 1,
    "start_time": "2023-06-28T08:54:10.034Z"
   },
   {
    "duration": 0,
    "start_time": "2023-06-28T08:54:10.036Z"
   },
   {
    "duration": 0,
    "start_time": "2023-06-28T08:54:10.037Z"
   },
   {
    "duration": 0,
    "start_time": "2023-06-28T08:54:10.038Z"
   },
   {
    "duration": 0,
    "start_time": "2023-06-28T08:54:10.040Z"
   },
   {
    "duration": 0,
    "start_time": "2023-06-28T08:54:10.041Z"
   },
   {
    "duration": 0,
    "start_time": "2023-06-28T08:54:10.043Z"
   },
   {
    "duration": 0,
    "start_time": "2023-06-28T08:54:10.044Z"
   },
   {
    "duration": 0,
    "start_time": "2023-06-28T08:54:10.045Z"
   },
   {
    "duration": 0,
    "start_time": "2023-06-28T08:54:10.046Z"
   },
   {
    "duration": 0,
    "start_time": "2023-06-28T08:54:10.047Z"
   },
   {
    "duration": 0,
    "start_time": "2023-06-28T08:54:10.049Z"
   },
   {
    "duration": 0,
    "start_time": "2023-06-28T08:54:10.050Z"
   },
   {
    "duration": 0,
    "start_time": "2023-06-28T08:54:10.051Z"
   },
   {
    "duration": 0,
    "start_time": "2023-06-28T08:54:10.052Z"
   },
   {
    "duration": 0,
    "start_time": "2023-06-28T08:54:10.053Z"
   },
   {
    "duration": 0,
    "start_time": "2023-06-28T08:54:10.054Z"
   },
   {
    "duration": 0,
    "start_time": "2023-06-28T08:54:10.055Z"
   },
   {
    "duration": 0,
    "start_time": "2023-06-28T08:54:10.056Z"
   },
   {
    "duration": 0,
    "start_time": "2023-06-28T08:54:10.057Z"
   },
   {
    "duration": 0,
    "start_time": "2023-06-28T08:54:10.058Z"
   },
   {
    "duration": 0,
    "start_time": "2023-06-28T08:54:10.059Z"
   },
   {
    "duration": 0,
    "start_time": "2023-06-28T08:54:10.060Z"
   },
   {
    "duration": 1,
    "start_time": "2023-06-28T08:54:10.061Z"
   },
   {
    "duration": 0,
    "start_time": "2023-06-28T08:54:10.063Z"
   },
   {
    "duration": 0,
    "start_time": "2023-06-28T08:54:10.065Z"
   },
   {
    "duration": 0,
    "start_time": "2023-06-28T08:54:10.066Z"
   },
   {
    "duration": 0,
    "start_time": "2023-06-28T08:54:10.067Z"
   },
   {
    "duration": 0,
    "start_time": "2023-06-28T08:54:10.068Z"
   },
   {
    "duration": 0,
    "start_time": "2023-06-28T08:54:10.069Z"
   },
   {
    "duration": 0,
    "start_time": "2023-06-28T08:54:10.070Z"
   },
   {
    "duration": 1,
    "start_time": "2023-06-28T08:54:10.071Z"
   },
   {
    "duration": 0,
    "start_time": "2023-06-28T08:54:10.073Z"
   },
   {
    "duration": 0,
    "start_time": "2023-06-28T08:54:10.132Z"
   },
   {
    "duration": 0,
    "start_time": "2023-06-28T08:54:10.134Z"
   },
   {
    "duration": 0,
    "start_time": "2023-06-28T08:54:10.135Z"
   },
   {
    "duration": 0,
    "start_time": "2023-06-28T08:54:10.137Z"
   },
   {
    "duration": 3434,
    "start_time": "2023-06-28T08:54:24.741Z"
   },
   {
    "duration": 54,
    "start_time": "2023-06-28T08:54:28.178Z"
   },
   {
    "duration": 315,
    "start_time": "2023-06-28T08:54:28.235Z"
   },
   {
    "duration": 291,
    "start_time": "2023-06-28T08:54:28.553Z"
   },
   {
    "duration": 23,
    "start_time": "2023-06-28T08:54:28.846Z"
   },
   {
    "duration": 62,
    "start_time": "2023-06-28T08:54:28.872Z"
   },
   {
    "duration": 28,
    "start_time": "2023-06-28T08:54:28.936Z"
   },
   {
    "duration": 75,
    "start_time": "2023-06-28T08:54:28.966Z"
   },
   {
    "duration": 6,
    "start_time": "2023-06-28T08:54:29.043Z"
   },
   {
    "duration": 6649,
    "start_time": "2023-06-28T08:54:29.053Z"
   },
   {
    "duration": 0,
    "start_time": "2023-06-28T08:54:35.707Z"
   },
   {
    "duration": 0,
    "start_time": "2023-06-28T08:54:35.709Z"
   },
   {
    "duration": 0,
    "start_time": "2023-06-28T08:54:35.710Z"
   },
   {
    "duration": 0,
    "start_time": "2023-06-28T08:54:35.711Z"
   },
   {
    "duration": 0,
    "start_time": "2023-06-28T08:54:35.713Z"
   },
   {
    "duration": 0,
    "start_time": "2023-06-28T08:54:35.714Z"
   },
   {
    "duration": 0,
    "start_time": "2023-06-28T08:54:35.716Z"
   },
   {
    "duration": 0,
    "start_time": "2023-06-28T08:54:35.717Z"
   },
   {
    "duration": 0,
    "start_time": "2023-06-28T08:54:35.719Z"
   },
   {
    "duration": 0,
    "start_time": "2023-06-28T08:54:35.720Z"
   },
   {
    "duration": 0,
    "start_time": "2023-06-28T08:54:35.721Z"
   },
   {
    "duration": 0,
    "start_time": "2023-06-28T08:54:35.723Z"
   },
   {
    "duration": 0,
    "start_time": "2023-06-28T08:54:35.724Z"
   },
   {
    "duration": 0,
    "start_time": "2023-06-28T08:54:35.725Z"
   },
   {
    "duration": 0,
    "start_time": "2023-06-28T08:54:35.726Z"
   },
   {
    "duration": 0,
    "start_time": "2023-06-28T08:54:35.728Z"
   },
   {
    "duration": 0,
    "start_time": "2023-06-28T08:54:35.736Z"
   },
   {
    "duration": 0,
    "start_time": "2023-06-28T08:54:35.737Z"
   },
   {
    "duration": 0,
    "start_time": "2023-06-28T08:54:35.738Z"
   },
   {
    "duration": 0,
    "start_time": "2023-06-28T08:54:35.740Z"
   },
   {
    "duration": 0,
    "start_time": "2023-06-28T08:54:35.741Z"
   },
   {
    "duration": 0,
    "start_time": "2023-06-28T08:54:35.742Z"
   },
   {
    "duration": 0,
    "start_time": "2023-06-28T08:54:35.742Z"
   },
   {
    "duration": 0,
    "start_time": "2023-06-28T08:54:35.745Z"
   },
   {
    "duration": 0,
    "start_time": "2023-06-28T08:54:35.746Z"
   },
   {
    "duration": 0,
    "start_time": "2023-06-28T08:54:35.747Z"
   },
   {
    "duration": 0,
    "start_time": "2023-06-28T08:54:35.748Z"
   },
   {
    "duration": 0,
    "start_time": "2023-06-28T08:54:35.749Z"
   },
   {
    "duration": 0,
    "start_time": "2023-06-28T08:54:35.750Z"
   },
   {
    "duration": 0,
    "start_time": "2023-06-28T08:54:35.752Z"
   },
   {
    "duration": 0,
    "start_time": "2023-06-28T08:54:35.753Z"
   },
   {
    "duration": 0,
    "start_time": "2023-06-28T08:54:35.754Z"
   },
   {
    "duration": 0,
    "start_time": "2023-06-28T08:54:35.755Z"
   },
   {
    "duration": 0,
    "start_time": "2023-06-28T08:54:35.757Z"
   },
   {
    "duration": 0,
    "start_time": "2023-06-28T08:54:35.758Z"
   },
   {
    "duration": 0,
    "start_time": "2023-06-28T08:54:35.759Z"
   },
   {
    "duration": 0,
    "start_time": "2023-06-28T08:54:35.760Z"
   },
   {
    "duration": 0,
    "start_time": "2023-06-28T08:54:35.761Z"
   },
   {
    "duration": 0,
    "start_time": "2023-06-28T08:54:35.763Z"
   },
   {
    "duration": 0,
    "start_time": "2023-06-28T08:54:35.764Z"
   },
   {
    "duration": 0,
    "start_time": "2023-06-28T08:54:35.765Z"
   },
   {
    "duration": 0,
    "start_time": "2023-06-28T08:54:35.766Z"
   },
   {
    "duration": 0,
    "start_time": "2023-06-28T08:54:35.767Z"
   },
   {
    "duration": 0,
    "start_time": "2023-06-28T08:54:35.768Z"
   },
   {
    "duration": 0,
    "start_time": "2023-06-28T08:54:35.769Z"
   },
   {
    "duration": 0,
    "start_time": "2023-06-28T08:54:35.774Z"
   },
   {
    "duration": 0,
    "start_time": "2023-06-28T08:54:35.777Z"
   },
   {
    "duration": 0,
    "start_time": "2023-06-28T08:54:35.778Z"
   },
   {
    "duration": 0,
    "start_time": "2023-06-28T08:54:35.779Z"
   },
   {
    "duration": 0,
    "start_time": "2023-06-28T08:54:35.781Z"
   },
   {
    "duration": 0,
    "start_time": "2023-06-28T08:54:35.790Z"
   },
   {
    "duration": 0,
    "start_time": "2023-06-28T08:54:35.831Z"
   },
   {
    "duration": 1,
    "start_time": "2023-06-28T08:54:35.832Z"
   },
   {
    "duration": 0,
    "start_time": "2023-06-28T08:54:35.834Z"
   },
   {
    "duration": 0,
    "start_time": "2023-06-28T08:54:35.835Z"
   },
   {
    "duration": 0,
    "start_time": "2023-06-28T08:54:35.837Z"
   },
   {
    "duration": 0,
    "start_time": "2023-06-28T08:54:35.838Z"
   },
   {
    "duration": 0,
    "start_time": "2023-06-28T08:54:35.840Z"
   },
   {
    "duration": 0,
    "start_time": "2023-06-28T08:54:35.841Z"
   },
   {
    "duration": 0,
    "start_time": "2023-06-28T08:54:35.842Z"
   },
   {
    "duration": 0,
    "start_time": "2023-06-28T08:54:35.844Z"
   },
   {
    "duration": 0,
    "start_time": "2023-06-28T08:54:35.845Z"
   },
   {
    "duration": 0,
    "start_time": "2023-06-28T08:54:35.846Z"
   },
   {
    "duration": 0,
    "start_time": "2023-06-28T08:54:35.848Z"
   },
   {
    "duration": 0,
    "start_time": "2023-06-28T08:54:35.849Z"
   },
   {
    "duration": 0,
    "start_time": "2023-06-28T08:54:35.851Z"
   },
   {
    "duration": 0,
    "start_time": "2023-06-28T08:54:35.852Z"
   },
   {
    "duration": 0,
    "start_time": "2023-06-28T08:54:35.854Z"
   },
   {
    "duration": 1788,
    "start_time": "2023-06-28T08:56:52.460Z"
   },
   {
    "duration": 4,
    "start_time": "2023-06-28T08:56:54.250Z"
   },
   {
    "duration": 199,
    "start_time": "2023-06-28T08:56:54.256Z"
   },
   {
    "duration": 306,
    "start_time": "2023-06-28T08:56:54.458Z"
   },
   {
    "duration": 68,
    "start_time": "2023-06-28T08:56:54.769Z"
   },
   {
    "duration": 17,
    "start_time": "2023-06-28T08:56:54.840Z"
   },
   {
    "duration": 27,
    "start_time": "2023-06-28T08:56:54.860Z"
   },
   {
    "duration": 81,
    "start_time": "2023-06-28T08:56:54.889Z"
   },
   {
    "duration": 12,
    "start_time": "2023-06-28T08:56:54.972Z"
   },
   {
    "duration": 552,
    "start_time": "2023-06-28T08:56:54.988Z"
   },
   {
    "duration": 10,
    "start_time": "2023-06-28T08:56:55.543Z"
   },
   {
    "duration": 29,
    "start_time": "2023-06-28T08:56:55.554Z"
   },
   {
    "duration": 53,
    "start_time": "2023-06-28T08:56:55.585Z"
   },
   {
    "duration": 40,
    "start_time": "2023-06-28T08:56:55.640Z"
   },
   {
    "duration": 25,
    "start_time": "2023-06-28T08:56:55.733Z"
   },
   {
    "duration": 5,
    "start_time": "2023-06-28T08:56:55.761Z"
   },
   {
    "duration": 8,
    "start_time": "2023-06-28T08:56:55.768Z"
   },
   {
    "duration": 58,
    "start_time": "2023-06-28T08:56:55.778Z"
   },
   {
    "duration": 33,
    "start_time": "2023-06-28T08:56:55.838Z"
   },
   {
    "duration": 65,
    "start_time": "2023-06-28T08:56:55.872Z"
   },
   {
    "duration": 13,
    "start_time": "2023-06-28T08:56:55.939Z"
   },
   {
    "duration": 20,
    "start_time": "2023-06-28T08:56:55.954Z"
   },
   {
    "duration": 67,
    "start_time": "2023-06-28T08:56:55.976Z"
   },
   {
    "duration": 5,
    "start_time": "2023-06-28T08:56:56.045Z"
   },
   {
    "duration": 16,
    "start_time": "2023-06-28T08:56:56.051Z"
   },
   {
    "duration": 11,
    "start_time": "2023-06-28T08:56:56.069Z"
   },
   {
    "duration": 53,
    "start_time": "2023-06-28T08:56:56.082Z"
   },
   {
    "duration": 17,
    "start_time": "2023-06-28T08:56:56.141Z"
   },
   {
    "duration": 7,
    "start_time": "2023-06-28T08:56:56.159Z"
   },
   {
    "duration": 11,
    "start_time": "2023-06-28T08:56:56.168Z"
   },
   {
    "duration": 5,
    "start_time": "2023-06-28T08:56:56.232Z"
   },
   {
    "duration": 8,
    "start_time": "2023-06-28T08:56:56.239Z"
   },
   {
    "duration": 9,
    "start_time": "2023-06-28T08:56:56.249Z"
   },
   {
    "duration": 173,
    "start_time": "2023-06-28T08:56:56.260Z"
   },
   {
    "duration": 336,
    "start_time": "2023-06-28T08:56:56.435Z"
   },
   {
    "duration": 77,
    "start_time": "2023-06-28T08:56:56.773Z"
   },
   {
    "duration": 2695,
    "start_time": "2023-06-28T08:56:56.852Z"
   },
   {
    "duration": 184,
    "start_time": "2023-06-28T08:56:59.550Z"
   },
   {
    "duration": 403,
    "start_time": "2023-06-28T08:56:59.736Z"
   },
   {
    "duration": 37,
    "start_time": "2023-06-28T08:57:00.140Z"
   },
   {
    "duration": 56,
    "start_time": "2023-06-28T08:57:00.179Z"
   },
   {
    "duration": 35,
    "start_time": "2023-06-28T08:57:00.237Z"
   },
   {
    "duration": 134,
    "start_time": "2023-06-28T08:57:00.274Z"
   },
   {
    "duration": 6,
    "start_time": "2023-06-28T08:57:00.409Z"
   },
   {
    "duration": 201,
    "start_time": "2023-06-28T08:57:00.432Z"
   },
   {
    "duration": 6,
    "start_time": "2023-06-28T08:57:00.635Z"
   },
   {
    "duration": 99,
    "start_time": "2023-06-28T08:57:00.642Z"
   },
   {
    "duration": 36,
    "start_time": "2023-06-28T08:57:00.743Z"
   },
   {
    "duration": 2357,
    "start_time": "2023-06-28T08:57:00.780Z"
   },
   {
    "duration": 3420,
    "start_time": "2023-06-28T08:57:03.139Z"
   },
   {
    "duration": 4293,
    "start_time": "2023-06-28T08:57:06.562Z"
   },
   {
    "duration": 6211,
    "start_time": "2023-06-28T08:57:10.857Z"
   },
   {
    "duration": 6655,
    "start_time": "2023-06-28T08:57:17.070Z"
   },
   {
    "duration": 7497,
    "start_time": "2023-06-28T08:57:23.731Z"
   },
   {
    "duration": 8377,
    "start_time": "2023-06-28T08:57:31.229Z"
   },
   {
    "duration": 9607,
    "start_time": "2023-06-28T08:57:39.607Z"
   },
   {
    "duration": 10047,
    "start_time": "2023-06-28T08:57:49.216Z"
   },
   {
    "duration": 477,
    "start_time": "2023-06-28T08:57:59.264Z"
   },
   {
    "duration": 19,
    "start_time": "2023-06-28T08:57:59.743Z"
   },
   {
    "duration": 1089,
    "start_time": "2023-06-28T08:57:59.765Z"
   },
   {
    "duration": 6,
    "start_time": "2023-06-28T08:58:00.855Z"
   },
   {
    "duration": 45,
    "start_time": "2023-06-28T08:58:00.863Z"
   },
   {
    "duration": 90,
    "start_time": "2023-06-28T08:58:00.909Z"
   },
   {
    "duration": 999,
    "start_time": "2023-06-28T08:58:01.000Z"
   },
   {
    "duration": 47,
    "start_time": "2023-06-28T08:58:02.000Z"
   },
   {
    "duration": 93,
    "start_time": "2023-06-28T08:58:02.049Z"
   },
   {
    "duration": 155,
    "start_time": "2023-06-28T08:58:02.144Z"
   },
   {
    "duration": 243,
    "start_time": "2023-06-28T08:58:02.302Z"
   },
   {
    "duration": 15,
    "start_time": "2023-06-28T08:58:02.546Z"
   },
   {
    "duration": 206,
    "start_time": "2023-06-28T08:58:02.563Z"
   },
   {
    "duration": 549,
    "start_time": "2023-06-28T08:58:02.771Z"
   },
   {
    "duration": 27,
    "start_time": "2023-06-28T08:58:03.322Z"
   },
   {
    "duration": 1310,
    "start_time": "2023-06-28T08:58:03.352Z"
   },
   {
    "duration": 7,
    "start_time": "2023-06-28T08:58:04.664Z"
   },
   {
    "duration": 1006,
    "start_time": "2023-06-28T08:58:04.673Z"
   },
   {
    "duration": 55,
    "start_time": "2023-06-28T08:58:05.681Z"
   },
   {
    "duration": 193,
    "start_time": "2023-06-28T08:58:05.738Z"
   },
   {
    "duration": 7,
    "start_time": "2023-06-28T08:58:05.933Z"
   },
   {
    "duration": 6,
    "start_time": "2023-06-28T09:29:25.416Z"
   },
   {
    "duration": 9687,
    "start_time": "2023-06-28T09:34:48.272Z"
   },
   {
    "duration": 1212,
    "start_time": "2023-06-28T09:34:57.961Z"
   },
   {
    "duration": 4,
    "start_time": "2023-06-28T09:34:59.175Z"
   },
   {
    "duration": 136,
    "start_time": "2023-06-28T09:34:59.181Z"
   },
   {
    "duration": 97,
    "start_time": "2023-06-28T09:34:59.319Z"
   },
   {
    "duration": 14,
    "start_time": "2023-06-28T09:34:59.431Z"
   },
   {
    "duration": 26,
    "start_time": "2023-06-28T09:34:59.447Z"
   },
   {
    "duration": 12,
    "start_time": "2023-06-28T09:34:59.474Z"
   },
   {
    "duration": 379,
    "start_time": "2023-06-28T09:34:59.487Z"
   },
   {
    "duration": 9,
    "start_time": "2023-06-28T09:34:59.870Z"
   },
   {
    "duration": 56,
    "start_time": "2023-06-28T09:34:59.880Z"
   },
   {
    "duration": 49,
    "start_time": "2023-06-28T09:34:59.938Z"
   },
   {
    "duration": 114,
    "start_time": "2023-06-28T09:34:59.989Z"
   },
   {
    "duration": 39,
    "start_time": "2023-06-28T09:35:00.105Z"
   },
   {
    "duration": 80,
    "start_time": "2023-06-28T09:35:00.146Z"
   },
   {
    "duration": 46,
    "start_time": "2023-06-28T09:35:00.229Z"
   },
   {
    "duration": 35,
    "start_time": "2023-06-28T09:35:00.277Z"
   },
   {
    "duration": 91,
    "start_time": "2023-06-28T09:35:00.314Z"
   },
   {
    "duration": 41,
    "start_time": "2023-06-28T09:35:00.407Z"
   },
   {
    "duration": 43,
    "start_time": "2023-06-28T09:35:00.451Z"
   },
   {
    "duration": 56,
    "start_time": "2023-06-28T09:35:00.496Z"
   },
   {
    "duration": 30,
    "start_time": "2023-06-28T09:35:00.553Z"
   },
   {
    "duration": 52,
    "start_time": "2023-06-28T09:35:00.585Z"
   },
   {
    "duration": 40,
    "start_time": "2023-06-28T09:35:00.639Z"
   },
   {
    "duration": 42,
    "start_time": "2023-06-28T09:35:00.681Z"
   },
   {
    "duration": 73,
    "start_time": "2023-06-28T09:35:00.725Z"
   },
   {
    "duration": 66,
    "start_time": "2023-06-28T09:35:00.799Z"
   },
   {
    "duration": 152,
    "start_time": "2023-06-28T09:35:00.869Z"
   },
   {
    "duration": 63,
    "start_time": "2023-06-28T09:35:01.023Z"
   },
   {
    "duration": 60,
    "start_time": "2023-06-28T09:35:01.087Z"
   },
   {
    "duration": 51,
    "start_time": "2023-06-28T09:35:01.149Z"
   },
   {
    "duration": 30,
    "start_time": "2023-06-28T09:35:01.201Z"
   },
   {
    "duration": 99,
    "start_time": "2023-06-28T09:35:01.233Z"
   },
   {
    "duration": 315,
    "start_time": "2023-06-28T09:35:01.334Z"
   },
   {
    "duration": 28,
    "start_time": "2023-06-28T09:35:01.650Z"
   },
   {
    "duration": 1301,
    "start_time": "2023-06-28T09:35:01.680Z"
   },
   {
    "duration": 51,
    "start_time": "2023-06-28T09:35:02.983Z"
   },
   {
    "duration": 252,
    "start_time": "2023-06-28T09:35:03.036Z"
   },
   {
    "duration": 42,
    "start_time": "2023-06-28T09:35:03.289Z"
   },
   {
    "duration": 5,
    "start_time": "2023-06-28T09:35:03.334Z"
   },
   {
    "duration": 44,
    "start_time": "2023-06-28T09:35:03.341Z"
   },
   {
    "duration": 146,
    "start_time": "2023-06-28T09:35:03.386Z"
   },
   {
    "duration": 7,
    "start_time": "2023-06-28T09:35:03.533Z"
   },
   {
    "duration": 164,
    "start_time": "2023-06-28T09:35:03.541Z"
   },
   {
    "duration": 5,
    "start_time": "2023-06-28T09:35:03.707Z"
   },
   {
    "duration": 19,
    "start_time": "2023-06-28T09:35:03.713Z"
   },
   {
    "duration": 21,
    "start_time": "2023-06-28T09:35:03.734Z"
   },
   {
    "duration": 2211,
    "start_time": "2023-06-28T09:35:03.757Z"
   },
   {
    "duration": 3163,
    "start_time": "2023-06-28T09:35:05.970Z"
   },
   {
    "duration": 4253,
    "start_time": "2023-06-28T09:35:09.135Z"
   },
   {
    "duration": 5511,
    "start_time": "2023-06-28T09:35:13.390Z"
   },
   {
    "duration": 6239,
    "start_time": "2023-06-28T09:35:18.903Z"
   },
   {
    "duration": 7181,
    "start_time": "2023-06-28T09:35:25.144Z"
   },
   {
    "duration": 8254,
    "start_time": "2023-06-28T09:35:32.327Z"
   },
   {
    "duration": 9816,
    "start_time": "2023-06-28T09:35:40.583Z"
   },
   {
    "duration": 10317,
    "start_time": "2023-06-28T09:35:50.400Z"
   },
   {
    "duration": 489,
    "start_time": "2023-06-28T09:36:00.719Z"
   },
   {
    "duration": 28,
    "start_time": "2023-06-28T09:36:01.209Z"
   },
   {
    "duration": 858,
    "start_time": "2023-06-28T09:36:01.238Z"
   },
   {
    "duration": 6,
    "start_time": "2023-06-28T09:36:02.098Z"
   },
   {
    "duration": 56,
    "start_time": "2023-06-28T09:36:02.105Z"
   },
   {
    "duration": 90,
    "start_time": "2023-06-28T09:36:02.163Z"
   },
   {
    "duration": 969,
    "start_time": "2023-06-28T09:36:02.254Z"
   },
   {
    "duration": 108,
    "start_time": "2023-06-28T09:36:03.225Z"
   },
   {
    "duration": 99,
    "start_time": "2023-06-28T09:36:03.335Z"
   },
   {
    "duration": 53,
    "start_time": "2023-06-28T09:36:03.436Z"
   },
   {
    "duration": 322,
    "start_time": "2023-06-28T09:36:03.490Z"
   },
   {
    "duration": 121,
    "start_time": "2023-06-28T09:36:03.813Z"
   },
   {
    "duration": 124,
    "start_time": "2023-06-28T09:36:03.937Z"
   },
   {
    "duration": 529,
    "start_time": "2023-06-28T09:36:04.062Z"
   },
   {
    "duration": 49,
    "start_time": "2023-06-28T09:36:04.593Z"
   },
   {
    "duration": 1273,
    "start_time": "2023-06-28T09:36:04.645Z"
   },
   {
    "duration": 12,
    "start_time": "2023-06-28T09:36:05.920Z"
   },
   {
    "duration": 980,
    "start_time": "2023-06-28T09:36:05.934Z"
   },
   {
    "duration": 51,
    "start_time": "2023-06-28T09:36:06.915Z"
   },
   {
    "duration": 190,
    "start_time": "2023-06-28T09:36:06.968Z"
   },
   {
    "duration": 5,
    "start_time": "2023-06-28T09:36:07.160Z"
   },
   {
    "duration": 4597,
    "start_time": "2023-06-28T09:45:24.181Z"
   },
   {
    "duration": 1423,
    "start_time": "2023-06-28T09:45:28.781Z"
   },
   {
    "duration": 4,
    "start_time": "2023-06-28T09:45:30.206Z"
   },
   {
    "duration": 240,
    "start_time": "2023-06-28T09:45:30.212Z"
   },
   {
    "duration": 124,
    "start_time": "2023-06-28T09:45:30.454Z"
   },
   {
    "duration": 22,
    "start_time": "2023-06-28T09:45:30.581Z"
   },
   {
    "duration": 78,
    "start_time": "2023-06-28T09:45:30.606Z"
   },
   {
    "duration": 92,
    "start_time": "2023-06-28T09:45:30.686Z"
   },
   {
    "duration": 360,
    "start_time": "2023-06-28T09:45:30.781Z"
   },
   {
    "duration": 10,
    "start_time": "2023-06-28T09:45:31.145Z"
   },
   {
    "duration": 29,
    "start_time": "2023-06-28T09:45:31.157Z"
   },
   {
    "duration": 57,
    "start_time": "2023-06-28T09:45:31.188Z"
   },
   {
    "duration": 51,
    "start_time": "2023-06-28T09:45:31.247Z"
   },
   {
    "duration": 70,
    "start_time": "2023-06-28T09:45:31.300Z"
   },
   {
    "duration": 5,
    "start_time": "2023-06-28T09:45:31.372Z"
   },
   {
    "duration": 51,
    "start_time": "2023-06-28T09:45:31.378Z"
   },
   {
    "duration": 32,
    "start_time": "2023-06-28T09:45:31.431Z"
   },
   {
    "duration": 46,
    "start_time": "2023-06-28T09:45:31.465Z"
   },
   {
    "duration": 10,
    "start_time": "2023-06-28T09:45:31.514Z"
   },
   {
    "duration": 39,
    "start_time": "2023-06-28T09:45:31.525Z"
   },
   {
    "duration": 46,
    "start_time": "2023-06-28T09:45:31.565Z"
   },
   {
    "duration": 31,
    "start_time": "2023-06-28T09:45:31.613Z"
   },
   {
    "duration": 37,
    "start_time": "2023-06-28T09:45:31.646Z"
   },
   {
    "duration": 52,
    "start_time": "2023-06-28T09:45:31.686Z"
   },
   {
    "duration": 22,
    "start_time": "2023-06-28T09:45:31.741Z"
   },
   {
    "duration": 39,
    "start_time": "2023-06-28T09:45:31.765Z"
   },
   {
    "duration": 43,
    "start_time": "2023-06-28T09:45:31.807Z"
   },
   {
    "duration": 28,
    "start_time": "2023-06-28T09:45:31.854Z"
   },
   {
    "duration": 45,
    "start_time": "2023-06-28T09:45:31.884Z"
   },
   {
    "duration": 50,
    "start_time": "2023-06-28T09:45:31.932Z"
   },
   {
    "duration": 29,
    "start_time": "2023-06-28T09:45:31.984Z"
   },
   {
    "duration": 54,
    "start_time": "2023-06-28T09:45:32.015Z"
   },
   {
    "duration": 58,
    "start_time": "2023-06-28T09:45:32.071Z"
   },
   {
    "duration": 1132,
    "start_time": "2023-06-28T09:45:32.131Z"
   },
   {
    "duration": 142,
    "start_time": "2023-06-28T09:45:33.265Z"
   },
   {
    "duration": 0,
    "start_time": "2023-06-28T09:45:33.410Z"
   },
   {
    "duration": 0,
    "start_time": "2023-06-28T09:45:33.411Z"
   },
   {
    "duration": 0,
    "start_time": "2023-06-28T09:45:33.412Z"
   },
   {
    "duration": 0,
    "start_time": "2023-06-28T09:45:33.415Z"
   },
   {
    "duration": 0,
    "start_time": "2023-06-28T09:45:33.416Z"
   },
   {
    "duration": 0,
    "start_time": "2023-06-28T09:45:33.417Z"
   },
   {
    "duration": 0,
    "start_time": "2023-06-28T09:45:33.418Z"
   },
   {
    "duration": 0,
    "start_time": "2023-06-28T09:45:33.419Z"
   },
   {
    "duration": 0,
    "start_time": "2023-06-28T09:45:33.421Z"
   },
   {
    "duration": 0,
    "start_time": "2023-06-28T09:45:33.422Z"
   },
   {
    "duration": 0,
    "start_time": "2023-06-28T09:45:33.434Z"
   },
   {
    "duration": 0,
    "start_time": "2023-06-28T09:45:33.435Z"
   },
   {
    "duration": 0,
    "start_time": "2023-06-28T09:45:33.437Z"
   },
   {
    "duration": 0,
    "start_time": "2023-06-28T09:45:33.438Z"
   },
   {
    "duration": 0,
    "start_time": "2023-06-28T09:45:33.440Z"
   },
   {
    "duration": 0,
    "start_time": "2023-06-28T09:45:33.441Z"
   },
   {
    "duration": 0,
    "start_time": "2023-06-28T09:45:33.443Z"
   },
   {
    "duration": 0,
    "start_time": "2023-06-28T09:45:33.446Z"
   },
   {
    "duration": 0,
    "start_time": "2023-06-28T09:45:33.448Z"
   },
   {
    "duration": 0,
    "start_time": "2023-06-28T09:45:33.450Z"
   },
   {
    "duration": 0,
    "start_time": "2023-06-28T09:45:33.451Z"
   },
   {
    "duration": 0,
    "start_time": "2023-06-28T09:45:33.453Z"
   },
   {
    "duration": 0,
    "start_time": "2023-06-28T09:45:33.454Z"
   },
   {
    "duration": 0,
    "start_time": "2023-06-28T09:45:33.455Z"
   },
   {
    "duration": 0,
    "start_time": "2023-06-28T09:45:33.456Z"
   },
   {
    "duration": 0,
    "start_time": "2023-06-28T09:45:33.458Z"
   },
   {
    "duration": 0,
    "start_time": "2023-06-28T09:45:33.459Z"
   },
   {
    "duration": 0,
    "start_time": "2023-06-28T09:45:33.459Z"
   },
   {
    "duration": 0,
    "start_time": "2023-06-28T09:45:33.460Z"
   },
   {
    "duration": 0,
    "start_time": "2023-06-28T09:45:33.461Z"
   },
   {
    "duration": 0,
    "start_time": "2023-06-28T09:45:33.463Z"
   },
   {
    "duration": 0,
    "start_time": "2023-06-28T09:45:33.464Z"
   },
   {
    "duration": 0,
    "start_time": "2023-06-28T09:45:33.465Z"
   },
   {
    "duration": 0,
    "start_time": "2023-06-28T09:45:33.467Z"
   },
   {
    "duration": 0,
    "start_time": "2023-06-28T09:45:33.468Z"
   },
   {
    "duration": 0,
    "start_time": "2023-06-28T09:45:33.469Z"
   },
   {
    "duration": 0,
    "start_time": "2023-06-28T09:45:33.470Z"
   },
   {
    "duration": 0,
    "start_time": "2023-06-28T09:45:33.471Z"
   },
   {
    "duration": 0,
    "start_time": "2023-06-28T09:45:33.472Z"
   },
   {
    "duration": 0,
    "start_time": "2023-06-28T09:45:33.473Z"
   },
   {
    "duration": 7077,
    "start_time": "2023-07-03T06:12:20.233Z"
   },
   {
    "duration": 2127,
    "start_time": "2023-07-03T06:12:27.313Z"
   },
   {
    "duration": 3,
    "start_time": "2023-07-03T06:12:29.443Z"
   },
   {
    "duration": 165,
    "start_time": "2023-07-03T06:12:29.448Z"
   },
   {
    "duration": 92,
    "start_time": "2023-07-03T06:12:29.615Z"
   },
   {
    "duration": 14,
    "start_time": "2023-07-03T06:12:29.708Z"
   },
   {
    "duration": 43,
    "start_time": "2023-07-03T06:12:29.723Z"
   },
   {
    "duration": 6,
    "start_time": "2023-07-03T06:12:29.768Z"
   },
   {
    "duration": 279,
    "start_time": "2023-07-03T06:12:29.776Z"
   },
   {
    "duration": 19,
    "start_time": "2023-07-03T06:12:30.057Z"
   },
   {
    "duration": 39,
    "start_time": "2023-07-03T06:12:30.078Z"
   },
   {
    "duration": 30,
    "start_time": "2023-07-03T06:12:30.119Z"
   },
   {
    "duration": 58,
    "start_time": "2023-07-03T06:12:30.151Z"
   },
   {
    "duration": 21,
    "start_time": "2023-07-03T06:12:30.212Z"
   },
   {
    "duration": 61,
    "start_time": "2023-07-03T06:12:30.236Z"
   },
   {
    "duration": 34,
    "start_time": "2023-07-03T06:12:30.298Z"
   },
   {
    "duration": 29,
    "start_time": "2023-07-03T06:12:30.333Z"
   },
   {
    "duration": 38,
    "start_time": "2023-07-03T06:12:30.363Z"
   },
   {
    "duration": 9,
    "start_time": "2023-07-03T06:12:30.403Z"
   },
   {
    "duration": 32,
    "start_time": "2023-07-03T06:12:30.414Z"
   },
   {
    "duration": 34,
    "start_time": "2023-07-03T06:12:30.447Z"
   },
   {
    "duration": 35,
    "start_time": "2023-07-03T06:12:30.483Z"
   },
   {
    "duration": 42,
    "start_time": "2023-07-03T06:12:30.520Z"
   },
   {
    "duration": 50,
    "start_time": "2023-07-03T06:12:30.564Z"
   },
   {
    "duration": 41,
    "start_time": "2023-07-03T06:12:30.616Z"
   },
   {
    "duration": 42,
    "start_time": "2023-07-03T06:12:30.659Z"
   },
   {
    "duration": 47,
    "start_time": "2023-07-03T06:12:30.702Z"
   },
   {
    "duration": 62,
    "start_time": "2023-07-03T06:12:30.750Z"
   },
   {
    "duration": 75,
    "start_time": "2023-07-03T06:12:30.813Z"
   },
   {
    "duration": 103,
    "start_time": "2023-07-03T06:12:30.889Z"
   },
   {
    "duration": 83,
    "start_time": "2023-07-03T06:12:30.994Z"
   },
   {
    "duration": 60,
    "start_time": "2023-07-03T06:12:31.079Z"
   },
   {
    "duration": 4,
    "start_time": "2023-07-03T06:12:31.140Z"
   },
   {
    "duration": 34,
    "start_time": "2023-07-03T06:12:31.146Z"
   },
   {
    "duration": 31,
    "start_time": "2023-07-03T06:12:31.182Z"
   },
   {
    "duration": 58,
    "start_time": "2023-07-03T06:12:31.215Z"
   },
   {
    "duration": 1115,
    "start_time": "2023-07-03T06:12:31.275Z"
   },
   {
    "duration": 152,
    "start_time": "2023-07-03T06:12:32.392Z"
   },
   {
    "duration": 0,
    "start_time": "2023-07-03T06:12:32.548Z"
   },
   {
    "duration": 0,
    "start_time": "2023-07-03T06:12:32.550Z"
   },
   {
    "duration": 0,
    "start_time": "2023-07-03T06:12:32.552Z"
   },
   {
    "duration": 0,
    "start_time": "2023-07-03T06:12:32.554Z"
   },
   {
    "duration": 0,
    "start_time": "2023-07-03T06:12:32.555Z"
   },
   {
    "duration": 0,
    "start_time": "2023-07-03T06:12:32.556Z"
   },
   {
    "duration": 0,
    "start_time": "2023-07-03T06:12:32.558Z"
   },
   {
    "duration": 0,
    "start_time": "2023-07-03T06:12:32.559Z"
   },
   {
    "duration": 0,
    "start_time": "2023-07-03T06:12:32.575Z"
   },
   {
    "duration": 0,
    "start_time": "2023-07-03T06:12:32.577Z"
   },
   {
    "duration": 0,
    "start_time": "2023-07-03T06:12:32.578Z"
   },
   {
    "duration": 0,
    "start_time": "2023-07-03T06:12:32.579Z"
   },
   {
    "duration": 0,
    "start_time": "2023-07-03T06:12:32.581Z"
   },
   {
    "duration": 0,
    "start_time": "2023-07-03T06:12:32.583Z"
   },
   {
    "duration": 0,
    "start_time": "2023-07-03T06:12:32.584Z"
   },
   {
    "duration": 0,
    "start_time": "2023-07-03T06:12:32.586Z"
   },
   {
    "duration": 0,
    "start_time": "2023-07-03T06:12:32.587Z"
   },
   {
    "duration": 0,
    "start_time": "2023-07-03T06:12:32.588Z"
   },
   {
    "duration": 0,
    "start_time": "2023-07-03T06:12:32.590Z"
   },
   {
    "duration": 0,
    "start_time": "2023-07-03T06:12:32.592Z"
   },
   {
    "duration": 0,
    "start_time": "2023-07-03T06:12:32.593Z"
   },
   {
    "duration": 0,
    "start_time": "2023-07-03T06:12:32.594Z"
   },
   {
    "duration": 0,
    "start_time": "2023-07-03T06:12:32.596Z"
   },
   {
    "duration": 0,
    "start_time": "2023-07-03T06:12:32.598Z"
   },
   {
    "duration": 0,
    "start_time": "2023-07-03T06:12:32.599Z"
   },
   {
    "duration": 0,
    "start_time": "2023-07-03T06:12:32.601Z"
   },
   {
    "duration": 0,
    "start_time": "2023-07-03T06:12:32.602Z"
   },
   {
    "duration": 0,
    "start_time": "2023-07-03T06:12:32.603Z"
   },
   {
    "duration": 0,
    "start_time": "2023-07-03T06:12:32.605Z"
   },
   {
    "duration": 0,
    "start_time": "2023-07-03T06:12:32.606Z"
   },
   {
    "duration": 0,
    "start_time": "2023-07-03T06:12:32.607Z"
   },
   {
    "duration": 0,
    "start_time": "2023-07-03T06:12:32.608Z"
   },
   {
    "duration": 0,
    "start_time": "2023-07-03T06:12:32.609Z"
   },
   {
    "duration": 0,
    "start_time": "2023-07-03T06:12:32.611Z"
   },
   {
    "duration": 0,
    "start_time": "2023-07-03T06:12:32.612Z"
   },
   {
    "duration": 0,
    "start_time": "2023-07-03T06:12:32.613Z"
   },
   {
    "duration": 0,
    "start_time": "2023-07-03T06:12:32.676Z"
   },
   {
    "duration": 0,
    "start_time": "2023-07-03T06:12:32.677Z"
   },
   {
    "duration": 0,
    "start_time": "2023-07-03T06:12:32.678Z"
   },
   {
    "duration": 0,
    "start_time": "2023-07-03T06:12:32.679Z"
   },
   {
    "duration": 3,
    "start_time": "2023-07-03T06:15:54.271Z"
   },
   {
    "duration": 23,
    "start_time": "2023-07-03T06:21:51.581Z"
   },
   {
    "duration": 11,
    "start_time": "2023-07-03T06:21:58.982Z"
   },
   {
    "duration": 5,
    "start_time": "2023-07-03T06:27:03.057Z"
   },
   {
    "duration": 12,
    "start_time": "2023-07-03T06:27:52.029Z"
   },
   {
    "duration": 12,
    "start_time": "2023-07-03T06:28:10.941Z"
   },
   {
    "duration": 2985,
    "start_time": "2023-07-03T06:28:31.680Z"
   },
   {
    "duration": 1190,
    "start_time": "2023-07-03T06:28:34.667Z"
   },
   {
    "duration": 3,
    "start_time": "2023-07-03T06:28:35.859Z"
   },
   {
    "duration": 119,
    "start_time": "2023-07-03T06:28:35.864Z"
   },
   {
    "duration": 92,
    "start_time": "2023-07-03T06:28:35.985Z"
   },
   {
    "duration": 13,
    "start_time": "2023-07-03T06:28:36.078Z"
   },
   {
    "duration": 22,
    "start_time": "2023-07-03T06:28:36.093Z"
   },
   {
    "duration": 4,
    "start_time": "2023-07-03T06:28:36.117Z"
   },
   {
    "duration": 305,
    "start_time": "2023-07-03T06:28:36.123Z"
   },
   {
    "duration": 12,
    "start_time": "2023-07-03T06:28:36.432Z"
   },
   {
    "duration": 16,
    "start_time": "2023-07-03T06:28:36.446Z"
   },
   {
    "duration": 28,
    "start_time": "2023-07-03T06:28:36.466Z"
   },
   {
    "duration": 36,
    "start_time": "2023-07-03T06:28:36.496Z"
   },
   {
    "duration": 24,
    "start_time": "2023-07-03T06:28:36.534Z"
   },
   {
    "duration": 6,
    "start_time": "2023-07-03T06:28:36.559Z"
   },
   {
    "duration": 10,
    "start_time": "2023-07-03T06:28:36.566Z"
   },
   {
    "duration": 7,
    "start_time": "2023-07-03T06:28:36.577Z"
   },
   {
    "duration": 30,
    "start_time": "2023-07-03T06:28:36.585Z"
   },
   {
    "duration": 6,
    "start_time": "2023-07-03T06:28:36.617Z"
   },
   {
    "duration": 8,
    "start_time": "2023-07-03T06:28:36.625Z"
   },
   {
    "duration": 20,
    "start_time": "2023-07-03T06:28:36.635Z"
   },
   {
    "duration": 3,
    "start_time": "2023-07-03T06:28:36.676Z"
   },
   {
    "duration": 12,
    "start_time": "2023-07-03T06:28:36.681Z"
   },
   {
    "duration": 16,
    "start_time": "2023-07-03T06:28:36.694Z"
   },
   {
    "duration": 20,
    "start_time": "2023-07-03T06:28:36.712Z"
   },
   {
    "duration": 14,
    "start_time": "2023-07-03T06:28:36.734Z"
   },
   {
    "duration": 31,
    "start_time": "2023-07-03T06:28:36.749Z"
   },
   {
    "duration": 21,
    "start_time": "2023-07-03T06:28:36.785Z"
   },
   {
    "duration": 14,
    "start_time": "2023-07-03T06:28:36.808Z"
   },
   {
    "duration": 6,
    "start_time": "2023-07-03T06:28:36.824Z"
   },
   {
    "duration": 19,
    "start_time": "2023-07-03T06:28:36.831Z"
   },
   {
    "duration": 17,
    "start_time": "2023-07-03T06:28:36.851Z"
   },
   {
    "duration": 25,
    "start_time": "2023-07-03T06:28:36.870Z"
   },
   {
    "duration": 119,
    "start_time": "2023-07-03T06:28:36.897Z"
   },
   {
    "duration": 0,
    "start_time": "2023-07-03T06:28:37.018Z"
   },
   {
    "duration": 0,
    "start_time": "2023-07-03T06:28:37.019Z"
   },
   {
    "duration": 0,
    "start_time": "2023-07-03T06:28:37.020Z"
   },
   {
    "duration": 0,
    "start_time": "2023-07-03T06:28:37.021Z"
   },
   {
    "duration": 0,
    "start_time": "2023-07-03T06:28:37.023Z"
   },
   {
    "duration": 0,
    "start_time": "2023-07-03T06:28:37.024Z"
   },
   {
    "duration": 0,
    "start_time": "2023-07-03T06:28:37.026Z"
   },
   {
    "duration": 0,
    "start_time": "2023-07-03T06:28:37.027Z"
   },
   {
    "duration": 0,
    "start_time": "2023-07-03T06:28:37.028Z"
   },
   {
    "duration": 0,
    "start_time": "2023-07-03T06:28:37.030Z"
   },
   {
    "duration": 0,
    "start_time": "2023-07-03T06:28:37.031Z"
   },
   {
    "duration": 0,
    "start_time": "2023-07-03T06:28:37.032Z"
   },
   {
    "duration": 1,
    "start_time": "2023-07-03T06:28:37.033Z"
   },
   {
    "duration": 0,
    "start_time": "2023-07-03T06:28:37.035Z"
   },
   {
    "duration": 0,
    "start_time": "2023-07-03T06:28:37.036Z"
   },
   {
    "duration": 0,
    "start_time": "2023-07-03T06:28:37.038Z"
   },
   {
    "duration": 0,
    "start_time": "2023-07-03T06:28:37.039Z"
   },
   {
    "duration": 0,
    "start_time": "2023-07-03T06:28:37.076Z"
   },
   {
    "duration": 0,
    "start_time": "2023-07-03T06:28:37.077Z"
   },
   {
    "duration": 0,
    "start_time": "2023-07-03T06:28:37.078Z"
   },
   {
    "duration": 0,
    "start_time": "2023-07-03T06:28:37.080Z"
   },
   {
    "duration": 0,
    "start_time": "2023-07-03T06:28:37.081Z"
   },
   {
    "duration": 0,
    "start_time": "2023-07-03T06:28:37.083Z"
   },
   {
    "duration": 0,
    "start_time": "2023-07-03T06:28:37.084Z"
   },
   {
    "duration": 0,
    "start_time": "2023-07-03T06:28:37.085Z"
   },
   {
    "duration": 0,
    "start_time": "2023-07-03T06:28:37.086Z"
   },
   {
    "duration": 0,
    "start_time": "2023-07-03T06:28:37.089Z"
   },
   {
    "duration": 0,
    "start_time": "2023-07-03T06:28:37.090Z"
   },
   {
    "duration": 0,
    "start_time": "2023-07-03T06:28:37.091Z"
   },
   {
    "duration": 0,
    "start_time": "2023-07-03T06:28:37.093Z"
   },
   {
    "duration": 0,
    "start_time": "2023-07-03T06:28:37.094Z"
   },
   {
    "duration": 0,
    "start_time": "2023-07-03T06:28:37.095Z"
   },
   {
    "duration": 1,
    "start_time": "2023-07-03T06:28:37.096Z"
   },
   {
    "duration": 0,
    "start_time": "2023-07-03T06:28:37.099Z"
   },
   {
    "duration": 0,
    "start_time": "2023-07-03T06:28:37.101Z"
   },
   {
    "duration": 0,
    "start_time": "2023-07-03T06:28:37.102Z"
   },
   {
    "duration": 0,
    "start_time": "2023-07-03T06:28:37.103Z"
   },
   {
    "duration": 0,
    "start_time": "2023-07-03T06:28:37.104Z"
   },
   {
    "duration": 0,
    "start_time": "2023-07-03T06:28:37.106Z"
   },
   {
    "duration": 0,
    "start_time": "2023-07-03T06:28:37.107Z"
   },
   {
    "duration": 0,
    "start_time": "2023-07-03T06:28:37.108Z"
   },
   {
    "duration": 0,
    "start_time": "2023-07-03T06:28:37.109Z"
   },
   {
    "duration": 0,
    "start_time": "2023-07-03T06:28:37.110Z"
   },
   {
    "duration": 5,
    "start_time": "2023-07-03T06:29:07.257Z"
   },
   {
    "duration": 32,
    "start_time": "2023-07-03T06:50:30.426Z"
   },
   {
    "duration": 3547,
    "start_time": "2023-07-03T06:50:59.915Z"
   },
   {
    "duration": 1288,
    "start_time": "2023-07-03T06:51:03.464Z"
   },
   {
    "duration": 4,
    "start_time": "2023-07-03T06:51:04.753Z"
   },
   {
    "duration": 136,
    "start_time": "2023-07-03T06:51:04.759Z"
   },
   {
    "duration": 94,
    "start_time": "2023-07-03T06:51:04.897Z"
   },
   {
    "duration": 13,
    "start_time": "2023-07-03T06:51:04.994Z"
   },
   {
    "duration": 24,
    "start_time": "2023-07-03T06:51:05.010Z"
   },
   {
    "duration": 11,
    "start_time": "2023-07-03T06:51:05.036Z"
   },
   {
    "duration": 290,
    "start_time": "2023-07-03T06:51:05.048Z"
   },
   {
    "duration": 9,
    "start_time": "2023-07-03T06:51:05.341Z"
   },
   {
    "duration": 40,
    "start_time": "2023-07-03T06:51:05.351Z"
   },
   {
    "duration": 16,
    "start_time": "2023-07-03T06:51:05.393Z"
   },
   {
    "duration": 24,
    "start_time": "2023-07-03T06:51:05.411Z"
   },
   {
    "duration": 16,
    "start_time": "2023-07-03T06:51:05.436Z"
   },
   {
    "duration": 8,
    "start_time": "2023-07-03T06:51:05.453Z"
   },
   {
    "duration": 30,
    "start_time": "2023-07-03T06:51:05.463Z"
   },
   {
    "duration": 10,
    "start_time": "2023-07-03T06:51:05.495Z"
   },
   {
    "duration": 39,
    "start_time": "2023-07-03T06:51:05.509Z"
   },
   {
    "duration": 10,
    "start_time": "2023-07-03T06:51:05.550Z"
   },
   {
    "duration": 24,
    "start_time": "2023-07-03T06:51:05.561Z"
   },
   {
    "duration": 34,
    "start_time": "2023-07-03T06:51:05.587Z"
   },
   {
    "duration": 16,
    "start_time": "2023-07-03T06:51:05.623Z"
   },
   {
    "duration": 18,
    "start_time": "2023-07-03T06:51:05.641Z"
   },
   {
    "duration": 11,
    "start_time": "2023-07-03T06:51:05.661Z"
   },
   {
    "duration": 36,
    "start_time": "2023-07-03T06:51:05.674Z"
   },
   {
    "duration": 10,
    "start_time": "2023-07-03T06:51:05.712Z"
   },
   {
    "duration": 5,
    "start_time": "2023-07-03T06:51:05.724Z"
   },
   {
    "duration": 8,
    "start_time": "2023-07-03T06:51:05.733Z"
   },
   {
    "duration": 13,
    "start_time": "2023-07-03T06:51:05.742Z"
   },
   {
    "duration": 9,
    "start_time": "2023-07-03T06:51:05.756Z"
   },
   {
    "duration": 9,
    "start_time": "2023-07-03T06:51:05.767Z"
   },
   {
    "duration": 32,
    "start_time": "2023-07-03T06:51:05.777Z"
   },
   {
    "duration": 7,
    "start_time": "2023-07-03T06:51:05.811Z"
   },
   {
    "duration": 8,
    "start_time": "2023-07-03T06:51:05.820Z"
   },
   {
    "duration": 31,
    "start_time": "2023-07-03T06:51:05.829Z"
   },
   {
    "duration": 26,
    "start_time": "2023-07-03T06:51:05.862Z"
   },
   {
    "duration": 1385,
    "start_time": "2023-07-03T06:51:05.890Z"
   },
   {
    "duration": 20,
    "start_time": "2023-07-03T06:51:07.285Z"
   },
   {
    "duration": 83,
    "start_time": "2023-07-03T06:51:07.306Z"
   },
   {
    "duration": 249,
    "start_time": "2023-07-03T06:51:07.403Z"
   },
   {
    "duration": 0,
    "start_time": "2023-07-03T06:51:07.653Z"
   },
   {
    "duration": 0,
    "start_time": "2023-07-03T06:51:07.654Z"
   },
   {
    "duration": 0,
    "start_time": "2023-07-03T06:51:07.656Z"
   },
   {
    "duration": 0,
    "start_time": "2023-07-03T06:51:07.657Z"
   },
   {
    "duration": 0,
    "start_time": "2023-07-03T06:51:07.658Z"
   },
   {
    "duration": 0,
    "start_time": "2023-07-03T06:51:07.659Z"
   },
   {
    "duration": 0,
    "start_time": "2023-07-03T06:51:07.660Z"
   },
   {
    "duration": 0,
    "start_time": "2023-07-03T06:51:07.660Z"
   },
   {
    "duration": 0,
    "start_time": "2023-07-03T06:51:07.660Z"
   },
   {
    "duration": 0,
    "start_time": "2023-07-03T06:51:07.661Z"
   },
   {
    "duration": 0,
    "start_time": "2023-07-03T06:51:07.661Z"
   },
   {
    "duration": 0,
    "start_time": "2023-07-03T06:51:07.662Z"
   },
   {
    "duration": 0,
    "start_time": "2023-07-03T06:51:07.675Z"
   },
   {
    "duration": 0,
    "start_time": "2023-07-03T06:51:07.676Z"
   },
   {
    "duration": 0,
    "start_time": "2023-07-03T06:51:07.678Z"
   },
   {
    "duration": 0,
    "start_time": "2023-07-03T06:51:07.679Z"
   },
   {
    "duration": 0,
    "start_time": "2023-07-03T06:51:07.680Z"
   },
   {
    "duration": 0,
    "start_time": "2023-07-03T06:51:07.681Z"
   },
   {
    "duration": 0,
    "start_time": "2023-07-03T06:51:07.681Z"
   },
   {
    "duration": 0,
    "start_time": "2023-07-03T06:51:07.682Z"
   },
   {
    "duration": 1,
    "start_time": "2023-07-03T06:51:07.685Z"
   },
   {
    "duration": 0,
    "start_time": "2023-07-03T06:51:07.687Z"
   },
   {
    "duration": 0,
    "start_time": "2023-07-03T06:51:07.688Z"
   },
   {
    "duration": 0,
    "start_time": "2023-07-03T06:51:07.689Z"
   },
   {
    "duration": 0,
    "start_time": "2023-07-03T06:51:07.690Z"
   },
   {
    "duration": 0,
    "start_time": "2023-07-03T06:51:07.691Z"
   },
   {
    "duration": 0,
    "start_time": "2023-07-03T06:51:07.692Z"
   },
   {
    "duration": 0,
    "start_time": "2023-07-03T06:51:07.693Z"
   },
   {
    "duration": 0,
    "start_time": "2023-07-03T06:51:07.696Z"
   },
   {
    "duration": 1,
    "start_time": "2023-07-03T06:51:07.697Z"
   },
   {
    "duration": 0,
    "start_time": "2023-07-03T06:51:07.699Z"
   },
   {
    "duration": 0,
    "start_time": "2023-07-03T06:51:07.699Z"
   },
   {
    "duration": 0,
    "start_time": "2023-07-03T06:51:07.700Z"
   },
   {
    "duration": 0,
    "start_time": "2023-07-03T06:51:07.701Z"
   },
   {
    "duration": 0,
    "start_time": "2023-07-03T06:51:07.702Z"
   },
   {
    "duration": 0,
    "start_time": "2023-07-03T06:51:07.703Z"
   },
   {
    "duration": 0,
    "start_time": "2023-07-03T06:51:07.705Z"
   },
   {
    "duration": 0,
    "start_time": "2023-07-03T06:51:07.706Z"
   },
   {
    "duration": 21,
    "start_time": "2023-07-03T06:55:18.834Z"
   },
   {
    "duration": 3750,
    "start_time": "2023-07-03T06:56:26.327Z"
   },
   {
    "duration": 1286,
    "start_time": "2023-07-03T06:56:30.080Z"
   },
   {
    "duration": 4,
    "start_time": "2023-07-03T06:56:31.367Z"
   },
   {
    "duration": 184,
    "start_time": "2023-07-03T06:56:31.375Z"
   },
   {
    "duration": 135,
    "start_time": "2023-07-03T06:56:31.579Z"
   },
   {
    "duration": 12,
    "start_time": "2023-07-03T06:56:31.718Z"
   },
   {
    "duration": 37,
    "start_time": "2023-07-03T06:56:31.732Z"
   },
   {
    "duration": 47,
    "start_time": "2023-07-03T06:56:31.771Z"
   },
   {
    "duration": 308,
    "start_time": "2023-07-03T06:56:31.820Z"
   },
   {
    "duration": 9,
    "start_time": "2023-07-03T06:56:32.130Z"
   },
   {
    "duration": 4,
    "start_time": "2023-07-03T06:56:32.140Z"
   },
   {
    "duration": 11,
    "start_time": "2023-07-03T06:56:32.145Z"
   },
   {
    "duration": 50,
    "start_time": "2023-07-03T06:56:32.158Z"
   },
   {
    "duration": 17,
    "start_time": "2023-07-03T06:56:32.212Z"
   },
   {
    "duration": 6,
    "start_time": "2023-07-03T06:56:32.230Z"
   },
   {
    "duration": 12,
    "start_time": "2023-07-03T06:56:32.238Z"
   },
   {
    "duration": 9,
    "start_time": "2023-07-03T06:56:32.251Z"
   },
   {
    "duration": 36,
    "start_time": "2023-07-03T06:56:32.262Z"
   },
   {
    "duration": 15,
    "start_time": "2023-07-03T06:56:32.300Z"
   },
   {
    "duration": 195,
    "start_time": "2023-07-03T06:56:32.316Z"
   },
   {
    "duration": 59,
    "start_time": "2023-07-03T06:56:32.513Z"
   },
   {
    "duration": 51,
    "start_time": "2023-07-03T06:56:32.574Z"
   },
   {
    "duration": 13,
    "start_time": "2023-07-03T06:56:32.626Z"
   },
   {
    "duration": 19,
    "start_time": "2023-07-03T06:56:32.641Z"
   },
   {
    "duration": 15,
    "start_time": "2023-07-03T06:56:32.662Z"
   },
   {
    "duration": 38,
    "start_time": "2023-07-03T06:56:32.679Z"
   },
   {
    "duration": 6,
    "start_time": "2023-07-03T06:56:32.718Z"
   },
   {
    "duration": 9,
    "start_time": "2023-07-03T06:56:32.726Z"
   },
   {
    "duration": 17,
    "start_time": "2023-07-03T06:56:32.736Z"
   },
   {
    "duration": 12,
    "start_time": "2023-07-03T06:56:32.754Z"
   },
   {
    "duration": 6,
    "start_time": "2023-07-03T06:56:32.768Z"
   },
   {
    "duration": 29,
    "start_time": "2023-07-03T06:56:32.776Z"
   },
   {
    "duration": 33,
    "start_time": "2023-07-03T06:56:32.808Z"
   },
   {
    "duration": 28,
    "start_time": "2023-07-03T06:56:32.843Z"
   },
   {
    "duration": 1486,
    "start_time": "2023-07-03T06:56:32.873Z"
   },
   {
    "duration": 42,
    "start_time": "2023-07-03T06:56:34.361Z"
   },
   {
    "duration": 7,
    "start_time": "2023-07-03T06:56:34.406Z"
   },
   {
    "duration": 118,
    "start_time": "2023-07-03T06:56:34.415Z"
   },
   {
    "duration": 4,
    "start_time": "2023-07-03T06:56:34.535Z"
   },
   {
    "duration": 165,
    "start_time": "2023-07-03T06:56:34.541Z"
   },
   {
    "duration": 7,
    "start_time": "2023-07-03T06:56:34.712Z"
   },
   {
    "duration": 6,
    "start_time": "2023-07-03T06:56:34.721Z"
   },
   {
    "duration": 6,
    "start_time": "2023-07-03T06:56:34.729Z"
   },
   {
    "duration": 2771,
    "start_time": "2023-07-03T06:56:34.737Z"
   },
   {
    "duration": 3547,
    "start_time": "2023-07-03T06:56:37.510Z"
   },
   {
    "duration": 4789,
    "start_time": "2023-07-03T06:56:41.059Z"
   },
   {
    "duration": 5976,
    "start_time": "2023-07-03T06:56:45.850Z"
   },
   {
    "duration": 7283,
    "start_time": "2023-07-03T06:56:51.828Z"
   },
   {
    "duration": 8235,
    "start_time": "2023-07-03T06:56:59.113Z"
   },
   {
    "duration": 9136,
    "start_time": "2023-07-03T06:57:07.349Z"
   },
   {
    "duration": 10561,
    "start_time": "2023-07-03T06:57:16.488Z"
   },
   {
    "duration": 11176,
    "start_time": "2023-07-03T06:57:27.051Z"
   },
   {
    "duration": 576,
    "start_time": "2023-07-03T06:57:38.229Z"
   },
   {
    "duration": 21,
    "start_time": "2023-07-03T06:57:38.814Z"
   },
   {
    "duration": 848,
    "start_time": "2023-07-03T06:57:38.882Z"
   },
   {
    "duration": 9,
    "start_time": "2023-07-03T06:57:39.731Z"
   },
   {
    "duration": 10,
    "start_time": "2023-07-03T06:57:39.741Z"
   },
   {
    "duration": 68,
    "start_time": "2023-07-03T06:57:39.753Z"
   },
   {
    "duration": 818,
    "start_time": "2023-07-03T06:57:39.822Z"
   },
   {
    "duration": 68,
    "start_time": "2023-07-03T06:57:40.642Z"
   },
   {
    "duration": 101,
    "start_time": "2023-07-03T06:57:40.715Z"
   },
   {
    "duration": 25,
    "start_time": "2023-07-03T06:57:40.820Z"
   },
   {
    "duration": 249,
    "start_time": "2023-07-03T06:57:40.846Z"
   },
   {
    "duration": 19,
    "start_time": "2023-07-03T06:57:41.096Z"
   },
   {
    "duration": 195,
    "start_time": "2023-07-03T06:57:41.118Z"
   },
   {
    "duration": 578,
    "start_time": "2023-07-03T06:57:41.315Z"
   },
   {
    "duration": 30,
    "start_time": "2023-07-03T06:57:41.900Z"
   },
   {
    "duration": 1091,
    "start_time": "2023-07-03T06:57:41.932Z"
   },
   {
    "duration": 6,
    "start_time": "2023-07-03T06:57:43.025Z"
   },
   {
    "duration": 813,
    "start_time": "2023-07-03T06:57:43.033Z"
   },
   {
    "duration": 56,
    "start_time": "2023-07-03T06:57:43.848Z"
   },
   {
    "duration": 217,
    "start_time": "2023-07-03T06:57:43.906Z"
   },
   {
    "duration": 7,
    "start_time": "2023-07-03T06:57:44.125Z"
   },
   {
    "duration": 139,
    "start_time": "2023-07-03T06:57:53.044Z"
   },
   {
    "duration": 17,
    "start_time": "2023-07-03T06:57:57.045Z"
   },
   {
    "duration": 2388,
    "start_time": "2023-07-03T06:58:04.467Z"
   },
   {
    "duration": 1564,
    "start_time": "2023-07-03T06:58:06.857Z"
   },
   {
    "duration": 56,
    "start_time": "2023-07-03T06:58:08.423Z"
   },
   {
    "duration": 244,
    "start_time": "2023-07-03T06:58:08.484Z"
   },
   {
    "duration": 288,
    "start_time": "2023-07-03T06:58:08.729Z"
   },
   {
    "duration": 90,
    "start_time": "2023-07-03T06:58:09.019Z"
   },
   {
    "duration": 20,
    "start_time": "2023-07-03T06:58:09.111Z"
   },
   {
    "duration": 13,
    "start_time": "2023-07-03T06:58:09.177Z"
   },
   {
    "duration": 889,
    "start_time": "2023-07-03T06:58:09.193Z"
   },
   {
    "duration": 12,
    "start_time": "2023-07-03T06:58:10.086Z"
   },
   {
    "duration": 28,
    "start_time": "2023-07-03T06:58:10.100Z"
   },
   {
    "duration": 25,
    "start_time": "2023-07-03T06:58:10.130Z"
   },
   {
    "duration": 37,
    "start_time": "2023-07-03T06:58:10.157Z"
   },
   {
    "duration": 32,
    "start_time": "2023-07-03T06:58:10.197Z"
   },
   {
    "duration": 6,
    "start_time": "2023-07-03T06:58:10.230Z"
   },
   {
    "duration": 12,
    "start_time": "2023-07-03T06:58:10.237Z"
   },
   {
    "duration": 12,
    "start_time": "2023-07-03T06:58:10.251Z"
   },
   {
    "duration": 42,
    "start_time": "2023-07-03T06:58:10.264Z"
   },
   {
    "duration": 19,
    "start_time": "2023-07-03T06:58:10.309Z"
   },
   {
    "duration": 18,
    "start_time": "2023-07-03T06:58:10.331Z"
   },
   {
    "duration": 16,
    "start_time": "2023-07-03T06:58:10.350Z"
   },
   {
    "duration": 31,
    "start_time": "2023-07-03T06:58:10.368Z"
   },
   {
    "duration": 7,
    "start_time": "2023-07-03T06:58:10.401Z"
   },
   {
    "duration": 8,
    "start_time": "2023-07-03T06:58:10.409Z"
   },
   {
    "duration": 15,
    "start_time": "2023-07-03T06:58:10.419Z"
   },
   {
    "duration": 14,
    "start_time": "2023-07-03T06:58:10.436Z"
   },
   {
    "duration": 15,
    "start_time": "2023-07-03T06:58:10.452Z"
   },
   {
    "duration": 24,
    "start_time": "2023-07-03T06:58:10.472Z"
   },
   {
    "duration": 15,
    "start_time": "2023-07-03T06:58:10.497Z"
   },
   {
    "duration": 31,
    "start_time": "2023-07-03T06:58:10.514Z"
   },
   {
    "duration": 9,
    "start_time": "2023-07-03T06:58:10.547Z"
   },
   {
    "duration": 9,
    "start_time": "2023-07-03T06:58:10.559Z"
   },
   {
    "duration": 60,
    "start_time": "2023-07-03T06:58:10.570Z"
   },
   {
    "duration": 24,
    "start_time": "2023-07-03T06:58:10.631Z"
   },
   {
    "duration": 1407,
    "start_time": "2023-07-03T06:58:10.657Z"
   },
   {
    "duration": 52,
    "start_time": "2023-07-03T06:58:12.066Z"
   },
   {
    "duration": 7,
    "start_time": "2023-07-03T06:58:12.119Z"
   },
   {
    "duration": 119,
    "start_time": "2023-07-03T06:58:12.127Z"
   },
   {
    "duration": 5,
    "start_time": "2023-07-03T06:58:12.248Z"
   },
   {
    "duration": 177,
    "start_time": "2023-07-03T06:58:12.255Z"
   },
   {
    "duration": 5,
    "start_time": "2023-07-03T06:58:12.434Z"
   },
   {
    "duration": 14,
    "start_time": "2023-07-03T06:58:12.441Z"
   },
   {
    "duration": 22,
    "start_time": "2023-07-03T06:58:12.457Z"
   },
   {
    "duration": 2722,
    "start_time": "2023-07-03T06:58:12.486Z"
   },
   {
    "duration": 3689,
    "start_time": "2023-07-03T06:58:15.210Z"
   },
   {
    "duration": 4740,
    "start_time": "2023-07-03T06:58:18.901Z"
   },
   {
    "duration": 5937,
    "start_time": "2023-07-03T06:58:23.643Z"
   },
   {
    "duration": 6917,
    "start_time": "2023-07-03T06:58:29.584Z"
   },
   {
    "duration": 7812,
    "start_time": "2023-07-03T06:58:36.507Z"
   },
   {
    "duration": 2801,
    "start_time": "2023-07-03T06:58:54.798Z"
   },
   {
    "duration": 1992,
    "start_time": "2023-07-03T06:58:57.602Z"
   },
   {
    "duration": 4,
    "start_time": "2023-07-03T06:58:59.595Z"
   },
   {
    "duration": 143,
    "start_time": "2023-07-03T06:58:59.602Z"
   },
   {
    "duration": 104,
    "start_time": "2023-07-03T06:58:59.747Z"
   },
   {
    "duration": 25,
    "start_time": "2023-07-03T06:58:59.852Z"
   },
   {
    "duration": 45,
    "start_time": "2023-07-03T06:58:59.879Z"
   },
   {
    "duration": 5,
    "start_time": "2023-07-03T06:58:59.926Z"
   },
   {
    "duration": 339,
    "start_time": "2023-07-03T06:58:59.933Z"
   },
   {
    "duration": 12,
    "start_time": "2023-07-03T06:59:00.274Z"
   },
   {
    "duration": 38,
    "start_time": "2023-07-03T06:59:00.288Z"
   },
   {
    "duration": 45,
    "start_time": "2023-07-03T06:59:00.327Z"
   },
   {
    "duration": 67,
    "start_time": "2023-07-03T06:59:00.378Z"
   },
   {
    "duration": 21,
    "start_time": "2023-07-03T06:59:00.446Z"
   },
   {
    "duration": 50,
    "start_time": "2023-07-03T06:59:00.468Z"
   },
   {
    "duration": 49,
    "start_time": "2023-07-03T06:59:00.520Z"
   },
   {
    "duration": 50,
    "start_time": "2023-07-03T06:59:00.571Z"
   },
   {
    "duration": 41,
    "start_time": "2023-07-03T06:59:00.623Z"
   },
   {
    "duration": 45,
    "start_time": "2023-07-03T06:59:00.666Z"
   },
   {
    "duration": 42,
    "start_time": "2023-07-03T06:59:00.713Z"
   },
   {
    "duration": 76,
    "start_time": "2023-07-03T06:59:00.756Z"
   },
   {
    "duration": 36,
    "start_time": "2023-07-03T06:59:00.834Z"
   },
   {
    "duration": 98,
    "start_time": "2023-07-03T06:59:00.872Z"
   },
   {
    "duration": 65,
    "start_time": "2023-07-03T06:59:00.973Z"
   },
   {
    "duration": 20,
    "start_time": "2023-07-03T06:59:01.039Z"
   },
   {
    "duration": 60,
    "start_time": "2023-07-03T06:59:01.061Z"
   },
   {
    "duration": 47,
    "start_time": "2023-07-03T06:59:01.123Z"
   },
   {
    "duration": 100,
    "start_time": "2023-07-03T06:59:01.174Z"
   },
   {
    "duration": 74,
    "start_time": "2023-07-03T06:59:01.278Z"
   },
   {
    "duration": 104,
    "start_time": "2023-07-03T06:59:01.354Z"
   },
   {
    "duration": 54,
    "start_time": "2023-07-03T06:59:01.460Z"
   },
   {
    "duration": 28,
    "start_time": "2023-07-03T06:59:01.516Z"
   },
   {
    "duration": 80,
    "start_time": "2023-07-03T06:59:01.546Z"
   },
   {
    "duration": 56,
    "start_time": "2023-07-03T06:59:01.630Z"
   },
   {
    "duration": 52,
    "start_time": "2023-07-03T06:59:01.687Z"
   },
   {
    "duration": 1449,
    "start_time": "2023-07-03T06:59:01.741Z"
   },
   {
    "duration": 54,
    "start_time": "2023-07-03T06:59:03.192Z"
   },
   {
    "duration": 5,
    "start_time": "2023-07-03T06:59:03.248Z"
   },
   {
    "duration": 137,
    "start_time": "2023-07-03T06:59:03.254Z"
   },
   {
    "duration": 9,
    "start_time": "2023-07-03T06:59:03.392Z"
   },
   {
    "duration": 154,
    "start_time": "2023-07-03T06:59:03.405Z"
   },
   {
    "duration": 16,
    "start_time": "2023-07-03T06:59:03.561Z"
   },
   {
    "duration": 8,
    "start_time": "2023-07-03T06:59:03.579Z"
   },
   {
    "duration": 29,
    "start_time": "2023-07-03T06:59:03.590Z"
   },
   {
    "duration": 2390,
    "start_time": "2023-07-03T06:59:03.621Z"
   },
   {
    "duration": 3522,
    "start_time": "2023-07-03T06:59:06.012Z"
   },
   {
    "duration": 4606,
    "start_time": "2023-07-03T06:59:09.536Z"
   },
   {
    "duration": 5731,
    "start_time": "2023-07-03T06:59:14.143Z"
   },
   {
    "duration": 7116,
    "start_time": "2023-07-03T06:59:19.885Z"
   },
   {
    "duration": 8035,
    "start_time": "2023-07-03T06:59:27.005Z"
   },
   {
    "duration": 9042,
    "start_time": "2023-07-03T06:59:35.042Z"
   },
   {
    "duration": 10494,
    "start_time": "2023-07-03T06:59:44.089Z"
   },
   {
    "duration": 11607,
    "start_time": "2023-07-03T06:59:54.591Z"
   },
   {
    "duration": 583,
    "start_time": "2023-07-03T07:00:06.200Z"
   },
   {
    "duration": 95,
    "start_time": "2023-07-03T07:00:06.785Z"
   },
   {
    "duration": 831,
    "start_time": "2023-07-03T07:00:06.884Z"
   },
   {
    "duration": 7,
    "start_time": "2023-07-03T07:00:07.717Z"
   },
   {
    "duration": 12,
    "start_time": "2023-07-03T07:00:07.726Z"
   },
   {
    "duration": 74,
    "start_time": "2023-07-03T07:00:07.740Z"
   },
   {
    "duration": 813,
    "start_time": "2023-07-03T07:00:07.815Z"
   },
   {
    "duration": 64,
    "start_time": "2023-07-03T07:00:08.629Z"
   },
   {
    "duration": 97,
    "start_time": "2023-07-03T07:00:08.695Z"
   },
   {
    "duration": 38,
    "start_time": "2023-07-03T07:00:08.794Z"
   },
   {
    "duration": 207,
    "start_time": "2023-07-03T07:00:08.834Z"
   },
   {
    "duration": 41,
    "start_time": "2023-07-03T07:00:09.043Z"
   },
   {
    "duration": 135,
    "start_time": "2023-07-03T07:00:09.097Z"
   },
   {
    "duration": 613,
    "start_time": "2023-07-03T07:00:09.233Z"
   },
   {
    "duration": 40,
    "start_time": "2023-07-03T07:00:09.848Z"
   },
   {
    "duration": 1064,
    "start_time": "2023-07-03T07:00:09.890Z"
   },
   {
    "duration": 6,
    "start_time": "2023-07-03T07:00:10.956Z"
   },
   {
    "duration": 822,
    "start_time": "2023-07-03T07:00:10.963Z"
   },
   {
    "duration": 46,
    "start_time": "2023-07-03T07:00:11.787Z"
   },
   {
    "duration": 213,
    "start_time": "2023-07-03T07:00:11.834Z"
   },
   {
    "duration": 7,
    "start_time": "2023-07-03T07:00:12.048Z"
   },
   {
    "duration": 3413,
    "start_time": "2023-07-03T07:01:11.670Z"
   },
   {
    "duration": 1535,
    "start_time": "2023-07-03T07:01:15.085Z"
   },
   {
    "duration": 4,
    "start_time": "2023-07-03T07:01:16.622Z"
   },
   {
    "duration": 133,
    "start_time": "2023-07-03T07:01:16.628Z"
   },
   {
    "duration": 105,
    "start_time": "2023-07-03T07:01:16.779Z"
   },
   {
    "duration": 19,
    "start_time": "2023-07-03T07:01:16.886Z"
   },
   {
    "duration": 18,
    "start_time": "2023-07-03T07:01:16.907Z"
   },
   {
    "duration": 23,
    "start_time": "2023-07-03T07:01:16.926Z"
   },
   {
    "duration": 311,
    "start_time": "2023-07-03T07:01:16.950Z"
   },
   {
    "duration": 13,
    "start_time": "2023-07-03T07:01:17.263Z"
   },
   {
    "duration": 31,
    "start_time": "2023-07-03T07:01:17.277Z"
   },
   {
    "duration": 14,
    "start_time": "2023-07-03T07:01:17.309Z"
   },
   {
    "duration": 25,
    "start_time": "2023-07-03T07:01:17.324Z"
   },
   {
    "duration": 19,
    "start_time": "2023-07-03T07:01:17.350Z"
   },
   {
    "duration": 12,
    "start_time": "2023-07-03T07:01:17.371Z"
   },
   {
    "duration": 21,
    "start_time": "2023-07-03T07:01:17.390Z"
   },
   {
    "duration": 6,
    "start_time": "2023-07-03T07:01:17.413Z"
   },
   {
    "duration": 21,
    "start_time": "2023-07-03T07:01:17.420Z"
   },
   {
    "duration": 5,
    "start_time": "2023-07-03T07:01:17.442Z"
   },
   {
    "duration": 7,
    "start_time": "2023-07-03T07:01:17.449Z"
   },
   {
    "duration": 17,
    "start_time": "2023-07-03T07:01:17.457Z"
   },
   {
    "duration": 18,
    "start_time": "2023-07-03T07:01:17.486Z"
   },
   {
    "duration": 5,
    "start_time": "2023-07-03T07:01:17.506Z"
   },
   {
    "duration": 9,
    "start_time": "2023-07-03T07:01:17.512Z"
   },
   {
    "duration": 8,
    "start_time": "2023-07-03T07:01:17.522Z"
   },
   {
    "duration": 15,
    "start_time": "2023-07-03T07:01:17.531Z"
   },
   {
    "duration": 4,
    "start_time": "2023-07-03T07:01:17.547Z"
   },
   {
    "duration": 9,
    "start_time": "2023-07-03T07:01:17.554Z"
   },
   {
    "duration": 10,
    "start_time": "2023-07-03T07:01:17.564Z"
   },
   {
    "duration": 35,
    "start_time": "2023-07-03T07:01:17.578Z"
   },
   {
    "duration": 7,
    "start_time": "2023-07-03T07:01:17.614Z"
   },
   {
    "duration": 6,
    "start_time": "2023-07-03T07:01:17.622Z"
   },
   {
    "duration": 32,
    "start_time": "2023-07-03T07:01:17.629Z"
   },
   {
    "duration": 29,
    "start_time": "2023-07-03T07:01:17.663Z"
   },
   {
    "duration": 1359,
    "start_time": "2023-07-03T07:01:17.693Z"
   },
   {
    "duration": 49,
    "start_time": "2023-07-03T07:01:19.054Z"
   },
   {
    "duration": 5,
    "start_time": "2023-07-03T07:01:19.104Z"
   },
   {
    "duration": 123,
    "start_time": "2023-07-03T07:01:19.110Z"
   },
   {
    "duration": 5,
    "start_time": "2023-07-03T07:01:19.235Z"
   },
   {
    "duration": 171,
    "start_time": "2023-07-03T07:01:19.242Z"
   },
   {
    "duration": 6,
    "start_time": "2023-07-03T07:01:19.414Z"
   },
   {
    "duration": 15,
    "start_time": "2023-07-03T07:01:19.422Z"
   },
   {
    "duration": 15,
    "start_time": "2023-07-03T07:01:19.438Z"
   },
   {
    "duration": 2360,
    "start_time": "2023-07-03T07:01:19.455Z"
   },
   {
    "duration": 3488,
    "start_time": "2023-07-03T07:01:21.816Z"
   },
   {
    "duration": 4578,
    "start_time": "2023-07-03T07:01:25.305Z"
   },
   {
    "duration": 5506,
    "start_time": "2023-07-03T07:01:29.891Z"
   },
   {
    "duration": 6808,
    "start_time": "2023-07-03T07:01:35.399Z"
   },
   {
    "duration": 8578,
    "start_time": "2023-07-03T07:01:42.210Z"
   },
   {
    "duration": 9744,
    "start_time": "2023-07-03T07:01:50.791Z"
   },
   {
    "duration": 10607,
    "start_time": "2023-07-03T07:02:00.536Z"
   },
   {
    "duration": 12721,
    "start_time": "2023-07-03T07:02:11.146Z"
   },
   {
    "duration": 596,
    "start_time": "2023-07-03T07:02:23.869Z"
   },
   {
    "duration": 126,
    "start_time": "2023-07-03T07:02:24.466Z"
   },
   {
    "duration": 851,
    "start_time": "2023-07-03T07:02:24.597Z"
   },
   {
    "duration": 7,
    "start_time": "2023-07-03T07:02:25.450Z"
   },
   {
    "duration": 30,
    "start_time": "2023-07-03T07:02:25.458Z"
   },
   {
    "duration": 106,
    "start_time": "2023-07-03T07:02:25.492Z"
   },
   {
    "duration": 858,
    "start_time": "2023-07-03T07:02:25.601Z"
   },
   {
    "duration": 62,
    "start_time": "2023-07-03T07:02:26.461Z"
   },
   {
    "duration": 101,
    "start_time": "2023-07-03T07:02:26.580Z"
   },
   {
    "duration": 54,
    "start_time": "2023-07-03T07:02:26.688Z"
   },
   {
    "duration": 219,
    "start_time": "2023-07-03T07:02:26.744Z"
   },
   {
    "duration": 115,
    "start_time": "2023-07-03T07:02:26.965Z"
   },
   {
    "duration": 145,
    "start_time": "2023-07-03T07:02:27.086Z"
   },
   {
    "duration": 593,
    "start_time": "2023-07-03T07:02:27.233Z"
   },
   {
    "duration": 75,
    "start_time": "2023-07-03T07:02:27.828Z"
   },
   {
    "duration": 1039,
    "start_time": "2023-07-03T07:02:27.980Z"
   },
   {
    "duration": 9,
    "start_time": "2023-07-03T07:02:29.023Z"
   },
   {
    "duration": 884,
    "start_time": "2023-07-03T07:02:29.035Z"
   },
   {
    "duration": 60,
    "start_time": "2023-07-03T07:02:29.921Z"
   },
   {
    "duration": 254,
    "start_time": "2023-07-03T07:02:29.983Z"
   },
   {
    "duration": 6,
    "start_time": "2023-07-03T07:02:30.238Z"
   },
   {
    "duration": 2842,
    "start_time": "2023-07-03T07:13:46.268Z"
   },
   {
    "duration": 2100,
    "start_time": "2023-07-03T07:13:49.113Z"
   },
   {
    "duration": 4,
    "start_time": "2023-07-03T07:13:51.217Z"
   },
   {
    "duration": 165,
    "start_time": "2023-07-03T07:13:51.223Z"
   },
   {
    "duration": 127,
    "start_time": "2023-07-03T07:13:51.391Z"
   },
   {
    "duration": 14,
    "start_time": "2023-07-03T07:13:51.520Z"
   },
   {
    "duration": 60,
    "start_time": "2023-07-03T07:13:51.536Z"
   },
   {
    "duration": 22,
    "start_time": "2023-07-03T07:13:51.603Z"
   },
   {
    "duration": 312,
    "start_time": "2023-07-03T07:13:51.627Z"
   },
   {
    "duration": 9,
    "start_time": "2023-07-03T07:13:51.941Z"
   },
   {
    "duration": 40,
    "start_time": "2023-07-03T07:13:51.951Z"
   },
   {
    "duration": 33,
    "start_time": "2023-07-03T07:13:51.993Z"
   },
   {
    "duration": 23,
    "start_time": "2023-07-03T07:13:52.028Z"
   },
   {
    "duration": 15,
    "start_time": "2023-07-03T07:13:52.054Z"
   },
   {
    "duration": 11,
    "start_time": "2023-07-03T07:13:52.071Z"
   },
   {
    "duration": 31,
    "start_time": "2023-07-03T07:13:52.084Z"
   },
   {
    "duration": 7,
    "start_time": "2023-07-03T07:13:52.117Z"
   },
   {
    "duration": 34,
    "start_time": "2023-07-03T07:13:52.126Z"
   },
   {
    "duration": 47,
    "start_time": "2023-07-03T07:13:52.162Z"
   },
   {
    "duration": 18,
    "start_time": "2023-07-03T07:13:52.211Z"
   },
   {
    "duration": 56,
    "start_time": "2023-07-03T07:13:52.231Z"
   },
   {
    "duration": 26,
    "start_time": "2023-07-03T07:13:52.289Z"
   },
   {
    "duration": 10,
    "start_time": "2023-07-03T07:13:52.317Z"
   },
   {
    "duration": 11,
    "start_time": "2023-07-03T07:13:52.329Z"
   },
   {
    "duration": 12,
    "start_time": "2023-07-03T07:13:52.342Z"
   },
   {
    "duration": 61,
    "start_time": "2023-07-03T07:13:52.356Z"
   },
   {
    "duration": 19,
    "start_time": "2023-07-03T07:13:52.418Z"
   },
   {
    "duration": 68,
    "start_time": "2023-07-03T07:13:52.439Z"
   },
   {
    "duration": 47,
    "start_time": "2023-07-03T07:13:52.509Z"
   },
   {
    "duration": 52,
    "start_time": "2023-07-03T07:13:52.558Z"
   },
   {
    "duration": 7,
    "start_time": "2023-07-03T07:13:52.612Z"
   },
   {
    "duration": 12,
    "start_time": "2023-07-03T07:13:52.620Z"
   },
   {
    "duration": 71,
    "start_time": "2023-07-03T07:13:52.633Z"
   },
   {
    "duration": 37,
    "start_time": "2023-07-03T07:13:52.708Z"
   },
   {
    "duration": 1602,
    "start_time": "2023-07-03T07:13:52.746Z"
   },
   {
    "duration": 6,
    "start_time": "2023-07-03T07:13:54.349Z"
   },
   {
    "duration": 171,
    "start_time": "2023-07-03T07:13:54.356Z"
   },
   {
    "duration": 140,
    "start_time": "2023-07-03T07:13:54.529Z"
   },
   {
    "duration": 0,
    "start_time": "2023-07-03T07:13:54.671Z"
   },
   {
    "duration": 0,
    "start_time": "2023-07-03T07:13:54.673Z"
   },
   {
    "duration": 0,
    "start_time": "2023-07-03T07:13:54.676Z"
   },
   {
    "duration": 0,
    "start_time": "2023-07-03T07:13:54.681Z"
   },
   {
    "duration": 0,
    "start_time": "2023-07-03T07:13:54.682Z"
   },
   {
    "duration": 0,
    "start_time": "2023-07-03T07:13:54.683Z"
   },
   {
    "duration": 0,
    "start_time": "2023-07-03T07:13:54.684Z"
   },
   {
    "duration": 0,
    "start_time": "2023-07-03T07:13:54.685Z"
   },
   {
    "duration": 0,
    "start_time": "2023-07-03T07:13:54.686Z"
   },
   {
    "duration": 0,
    "start_time": "2023-07-03T07:13:54.687Z"
   },
   {
    "duration": 0,
    "start_time": "2023-07-03T07:13:54.689Z"
   },
   {
    "duration": 0,
    "start_time": "2023-07-03T07:13:54.690Z"
   },
   {
    "duration": 0,
    "start_time": "2023-07-03T07:13:54.693Z"
   },
   {
    "duration": 0,
    "start_time": "2023-07-03T07:13:54.694Z"
   },
   {
    "duration": 0,
    "start_time": "2023-07-03T07:13:54.695Z"
   },
   {
    "duration": 0,
    "start_time": "2023-07-03T07:13:54.696Z"
   },
   {
    "duration": 0,
    "start_time": "2023-07-03T07:13:54.697Z"
   },
   {
    "duration": 0,
    "start_time": "2023-07-03T07:13:54.699Z"
   },
   {
    "duration": 0,
    "start_time": "2023-07-03T07:13:54.700Z"
   },
   {
    "duration": 0,
    "start_time": "2023-07-03T07:13:54.701Z"
   },
   {
    "duration": 0,
    "start_time": "2023-07-03T07:13:54.702Z"
   },
   {
    "duration": 0,
    "start_time": "2023-07-03T07:13:54.703Z"
   },
   {
    "duration": 0,
    "start_time": "2023-07-03T07:13:54.705Z"
   },
   {
    "duration": 0,
    "start_time": "2023-07-03T07:13:54.706Z"
   },
   {
    "duration": 0,
    "start_time": "2023-07-03T07:13:54.709Z"
   },
   {
    "duration": 0,
    "start_time": "2023-07-03T07:13:54.710Z"
   },
   {
    "duration": 0,
    "start_time": "2023-07-03T07:13:54.710Z"
   },
   {
    "duration": 0,
    "start_time": "2023-07-03T07:13:54.715Z"
   },
   {
    "duration": 0,
    "start_time": "2023-07-03T07:13:54.717Z"
   },
   {
    "duration": 0,
    "start_time": "2023-07-03T07:13:54.718Z"
   },
   {
    "duration": 0,
    "start_time": "2023-07-03T07:13:54.719Z"
   },
   {
    "duration": 0,
    "start_time": "2023-07-03T07:13:54.720Z"
   },
   {
    "duration": 0,
    "start_time": "2023-07-03T07:13:54.721Z"
   },
   {
    "duration": 0,
    "start_time": "2023-07-03T07:13:54.722Z"
   },
   {
    "duration": 0,
    "start_time": "2023-07-03T07:13:54.723Z"
   },
   {
    "duration": 0,
    "start_time": "2023-07-03T07:13:54.724Z"
   },
   {
    "duration": 3661,
    "start_time": "2023-07-03T07:14:37.454Z"
   },
   {
    "duration": 1311,
    "start_time": "2023-07-03T07:14:41.119Z"
   },
   {
    "duration": 5,
    "start_time": "2023-07-03T07:14:42.432Z"
   },
   {
    "duration": 176,
    "start_time": "2023-07-03T07:14:42.439Z"
   },
   {
    "duration": 123,
    "start_time": "2023-07-03T07:14:42.617Z"
   },
   {
    "duration": 13,
    "start_time": "2023-07-03T07:14:42.742Z"
   },
   {
    "duration": 51,
    "start_time": "2023-07-03T07:14:42.757Z"
   },
   {
    "duration": 5,
    "start_time": "2023-07-03T07:14:42.810Z"
   },
   {
    "duration": 273,
    "start_time": "2023-07-03T07:14:42.816Z"
   },
   {
    "duration": 22,
    "start_time": "2023-07-03T07:14:43.092Z"
   },
   {
    "duration": 6,
    "start_time": "2023-07-03T07:14:43.116Z"
   },
   {
    "duration": 21,
    "start_time": "2023-07-03T07:14:43.124Z"
   },
   {
    "duration": 33,
    "start_time": "2023-07-03T07:14:43.147Z"
   },
   {
    "duration": 26,
    "start_time": "2023-07-03T07:14:43.182Z"
   },
   {
    "duration": 16,
    "start_time": "2023-07-03T07:14:43.210Z"
   },
   {
    "duration": 12,
    "start_time": "2023-07-03T07:14:43.227Z"
   },
   {
    "duration": 8,
    "start_time": "2023-07-03T07:14:43.241Z"
   },
   {
    "duration": 28,
    "start_time": "2023-07-03T07:14:43.250Z"
   },
   {
    "duration": 29,
    "start_time": "2023-07-03T07:14:43.284Z"
   },
   {
    "duration": 7,
    "start_time": "2023-07-03T07:14:43.314Z"
   },
   {
    "duration": 27,
    "start_time": "2023-07-03T07:14:43.323Z"
   },
   {
    "duration": 8,
    "start_time": "2023-07-03T07:14:43.352Z"
   },
   {
    "duration": 9,
    "start_time": "2023-07-03T07:14:43.361Z"
   },
   {
    "duration": 34,
    "start_time": "2023-07-03T07:14:43.372Z"
   },
   {
    "duration": 11,
    "start_time": "2023-07-03T07:14:43.408Z"
   },
   {
    "duration": 17,
    "start_time": "2023-07-03T07:14:43.421Z"
   },
   {
    "duration": 7,
    "start_time": "2023-07-03T07:14:43.440Z"
   },
   {
    "duration": 7,
    "start_time": "2023-07-03T07:14:43.451Z"
   },
   {
    "duration": 12,
    "start_time": "2023-07-03T07:14:43.459Z"
   },
   {
    "duration": 14,
    "start_time": "2023-07-03T07:14:43.472Z"
   },
   {
    "duration": 17,
    "start_time": "2023-07-03T07:14:43.495Z"
   },
   {
    "duration": 10,
    "start_time": "2023-07-03T07:14:43.513Z"
   },
   {
    "duration": 31,
    "start_time": "2023-07-03T07:14:43.524Z"
   },
   {
    "duration": 26,
    "start_time": "2023-07-03T07:14:43.556Z"
   },
   {
    "duration": 1463,
    "start_time": "2023-07-03T07:14:43.584Z"
   },
   {
    "duration": 6,
    "start_time": "2023-07-03T07:14:45.049Z"
   },
   {
    "duration": 168,
    "start_time": "2023-07-03T07:14:45.057Z"
   },
   {
    "duration": 3,
    "start_time": "2023-07-03T07:14:45.227Z"
   },
   {
    "duration": 11,
    "start_time": "2023-07-03T07:14:45.232Z"
   },
   {
    "duration": 16,
    "start_time": "2023-07-03T07:14:45.245Z"
   },
   {
    "duration": 7,
    "start_time": "2023-07-03T07:14:45.263Z"
   },
   {
    "duration": 32,
    "start_time": "2023-07-03T07:14:45.271Z"
   },
   {
    "duration": 50,
    "start_time": "2023-07-03T07:14:45.305Z"
   },
   {
    "duration": 3811,
    "start_time": "2023-07-03T07:15:07.493Z"
   },
   {
    "duration": 1290,
    "start_time": "2023-07-03T07:15:11.306Z"
   },
   {
    "duration": 6,
    "start_time": "2023-07-03T07:15:12.599Z"
   },
   {
    "duration": 194,
    "start_time": "2023-07-03T07:15:12.608Z"
   },
   {
    "duration": 122,
    "start_time": "2023-07-03T07:15:12.809Z"
   },
   {
    "duration": 13,
    "start_time": "2023-07-03T07:15:12.933Z"
   },
   {
    "duration": 34,
    "start_time": "2023-07-03T07:15:12.947Z"
   },
   {
    "duration": 33,
    "start_time": "2023-07-03T07:15:12.984Z"
   },
   {
    "duration": 313,
    "start_time": "2023-07-03T07:15:13.018Z"
   },
   {
    "duration": 9,
    "start_time": "2023-07-03T07:15:13.333Z"
   },
   {
    "duration": 10,
    "start_time": "2023-07-03T07:15:13.343Z"
   },
   {
    "duration": 31,
    "start_time": "2023-07-03T07:15:13.354Z"
   },
   {
    "duration": 41,
    "start_time": "2023-07-03T07:15:13.387Z"
   },
   {
    "duration": 232,
    "start_time": "2023-07-03T07:15:13.430Z"
   },
   {
    "duration": 4,
    "start_time": "2023-07-03T07:15:13.664Z"
   },
   {
    "duration": 52,
    "start_time": "2023-07-03T07:15:13.669Z"
   },
   {
    "duration": 12,
    "start_time": "2023-07-03T07:15:13.723Z"
   },
   {
    "duration": 97,
    "start_time": "2023-07-03T07:15:13.736Z"
   },
   {
    "duration": 24,
    "start_time": "2023-07-03T07:15:13.835Z"
   },
   {
    "duration": 47,
    "start_time": "2023-07-03T07:15:13.861Z"
   },
   {
    "duration": 17,
    "start_time": "2023-07-03T07:15:13.910Z"
   },
   {
    "duration": 9,
    "start_time": "2023-07-03T07:15:13.931Z"
   },
   {
    "duration": 16,
    "start_time": "2023-07-03T07:15:13.942Z"
   },
   {
    "duration": 10,
    "start_time": "2023-07-03T07:15:13.959Z"
   },
   {
    "duration": 37,
    "start_time": "2023-07-03T07:15:13.971Z"
   },
   {
    "duration": 11,
    "start_time": "2023-07-03T07:15:14.010Z"
   },
   {
    "duration": 6,
    "start_time": "2023-07-03T07:15:14.022Z"
   },
   {
    "duration": 7,
    "start_time": "2023-07-03T07:15:14.031Z"
   },
   {
    "duration": 28,
    "start_time": "2023-07-03T07:15:14.040Z"
   },
   {
    "duration": 51,
    "start_time": "2023-07-03T07:15:14.070Z"
   },
   {
    "duration": 10,
    "start_time": "2023-07-03T07:15:14.122Z"
   },
   {
    "duration": 11,
    "start_time": "2023-07-03T07:15:14.133Z"
   },
   {
    "duration": 38,
    "start_time": "2023-07-03T07:15:14.145Z"
   },
   {
    "duration": 34,
    "start_time": "2023-07-03T07:15:14.188Z"
   },
   {
    "duration": 1405,
    "start_time": "2023-07-03T07:15:14.224Z"
   },
   {
    "duration": 5,
    "start_time": "2023-07-03T07:15:15.630Z"
   },
   {
    "duration": 182,
    "start_time": "2023-07-03T07:15:15.637Z"
   },
   {
    "duration": 3,
    "start_time": "2023-07-03T07:15:15.820Z"
   },
   {
    "duration": 146,
    "start_time": "2023-07-03T07:15:15.824Z"
   },
   {
    "duration": 43,
    "start_time": "2023-07-03T07:15:15.972Z"
   },
   {
    "duration": 23,
    "start_time": "2023-07-03T07:15:16.017Z"
   },
   {
    "duration": 27,
    "start_time": "2023-07-03T07:15:16.041Z"
   },
   {
    "duration": 57,
    "start_time": "2023-07-03T07:15:16.070Z"
   },
   {
    "duration": 95555,
    "start_time": "2023-07-03T07:15:16.129Z"
   },
   {
    "duration": 10,
    "start_time": "2023-07-03T07:16:51.686Z"
   },
   {
    "duration": 27,
    "start_time": "2023-07-03T07:16:51.698Z"
   },
   {
    "duration": 16,
    "start_time": "2023-07-03T07:16:51.727Z"
   },
   {
    "duration": 22,
    "start_time": "2023-07-03T07:16:51.744Z"
   },
   {
    "duration": 34,
    "start_time": "2023-07-03T07:16:51.768Z"
   },
   {
    "duration": 6,
    "start_time": "2023-07-03T07:16:51.806Z"
   },
   {
    "duration": 9,
    "start_time": "2023-07-03T07:16:51.813Z"
   },
   {
    "duration": 7,
    "start_time": "2023-07-03T07:16:51.824Z"
   },
   {
    "duration": 12,
    "start_time": "2023-07-03T07:16:51.832Z"
   },
   {
    "duration": 540,
    "start_time": "2023-07-03T07:16:51.846Z"
   },
   {
    "duration": 87,
    "start_time": "2023-07-03T07:16:52.391Z"
   },
   {
    "duration": 946,
    "start_time": "2023-07-03T07:16:52.481Z"
   },
   {
    "duration": 7,
    "start_time": "2023-07-03T07:16:53.429Z"
   },
   {
    "duration": 12,
    "start_time": "2023-07-03T07:16:53.438Z"
   },
   {
    "duration": 71,
    "start_time": "2023-07-03T07:16:53.451Z"
   },
   {
    "duration": 835,
    "start_time": "2023-07-03T07:16:53.524Z"
   },
   {
    "duration": 52,
    "start_time": "2023-07-03T07:16:54.360Z"
   },
   {
    "duration": 73,
    "start_time": "2023-07-03T07:16:54.414Z"
   },
   {
    "duration": 111,
    "start_time": "2023-07-03T07:16:54.490Z"
   },
   {
    "duration": 258,
    "start_time": "2023-07-03T07:16:54.604Z"
   },
   {
    "duration": 47,
    "start_time": "2023-07-03T07:16:54.864Z"
   },
   {
    "duration": 140,
    "start_time": "2023-07-03T07:16:54.978Z"
   },
   {
    "duration": 579,
    "start_time": "2023-07-03T07:16:55.119Z"
   },
   {
    "duration": 82,
    "start_time": "2023-07-03T07:16:55.700Z"
   },
   {
    "duration": 1066,
    "start_time": "2023-07-03T07:16:55.784Z"
   },
   {
    "duration": 8,
    "start_time": "2023-07-03T07:16:56.852Z"
   },
   {
    "duration": 852,
    "start_time": "2023-07-03T07:16:56.862Z"
   },
   {
    "duration": 43,
    "start_time": "2023-07-03T07:16:57.716Z"
   },
   {
    "duration": 219,
    "start_time": "2023-07-03T07:16:57.761Z"
   },
   {
    "duration": 17,
    "start_time": "2023-07-03T07:16:57.981Z"
   },
   {
    "duration": 2473,
    "start_time": "2023-07-03T07:17:55.074Z"
   },
   {
    "duration": 1440,
    "start_time": "2023-07-03T07:17:57.549Z"
   },
   {
    "duration": 7,
    "start_time": "2023-07-03T07:17:58.991Z"
   },
   {
    "duration": 430,
    "start_time": "2023-07-03T07:17:59.002Z"
   },
   {
    "duration": 105,
    "start_time": "2023-07-03T07:17:59.434Z"
   },
   {
    "duration": 12,
    "start_time": "2023-07-03T07:17:59.541Z"
   },
   {
    "duration": 33,
    "start_time": "2023-07-03T07:17:59.555Z"
   },
   {
    "duration": 22,
    "start_time": "2023-07-03T07:17:59.592Z"
   },
   {
    "duration": 301,
    "start_time": "2023-07-03T07:17:59.618Z"
   },
   {
    "duration": 9,
    "start_time": "2023-07-03T07:17:59.921Z"
   },
   {
    "duration": 18,
    "start_time": "2023-07-03T07:17:59.932Z"
   },
   {
    "duration": 14,
    "start_time": "2023-07-03T07:17:59.952Z"
   },
   {
    "duration": 61,
    "start_time": "2023-07-03T07:17:59.968Z"
   },
   {
    "duration": 36,
    "start_time": "2023-07-03T07:18:00.031Z"
   },
   {
    "duration": 28,
    "start_time": "2023-07-03T07:18:00.069Z"
   },
   {
    "duration": 46,
    "start_time": "2023-07-03T07:18:00.100Z"
   },
   {
    "duration": 22,
    "start_time": "2023-07-03T07:18:00.148Z"
   },
   {
    "duration": 71,
    "start_time": "2023-07-03T07:18:00.171Z"
   },
   {
    "duration": 24,
    "start_time": "2023-07-03T07:18:00.244Z"
   },
   {
    "duration": 59,
    "start_time": "2023-07-03T07:18:00.270Z"
   },
   {
    "duration": 33,
    "start_time": "2023-07-03T07:18:00.331Z"
   },
   {
    "duration": 57,
    "start_time": "2023-07-03T07:18:00.365Z"
   },
   {
    "duration": 67,
    "start_time": "2023-07-03T07:18:00.424Z"
   },
   {
    "duration": 63,
    "start_time": "2023-07-03T07:18:00.494Z"
   },
   {
    "duration": 64,
    "start_time": "2023-07-03T07:18:00.559Z"
   },
   {
    "duration": 38,
    "start_time": "2023-07-03T07:18:00.625Z"
   },
   {
    "duration": 53,
    "start_time": "2023-07-03T07:18:00.678Z"
   },
   {
    "duration": 27,
    "start_time": "2023-07-03T07:18:00.735Z"
   },
   {
    "duration": 60,
    "start_time": "2023-07-03T07:18:00.764Z"
   },
   {
    "duration": 82,
    "start_time": "2023-07-03T07:18:00.826Z"
   },
   {
    "duration": 28,
    "start_time": "2023-07-03T07:18:00.909Z"
   },
   {
    "duration": 68,
    "start_time": "2023-07-03T07:18:00.939Z"
   },
   {
    "duration": 208,
    "start_time": "2023-07-03T07:18:01.009Z"
   },
   {
    "duration": 105,
    "start_time": "2023-07-03T07:18:01.220Z"
   },
   {
    "duration": 1520,
    "start_time": "2023-07-03T07:18:01.326Z"
   },
   {
    "duration": 5,
    "start_time": "2023-07-03T07:18:02.847Z"
   },
   {
    "duration": 125,
    "start_time": "2023-07-03T07:18:02.854Z"
   },
   {
    "duration": 2,
    "start_time": "2023-07-03T07:18:02.982Z"
   },
   {
    "duration": 27,
    "start_time": "2023-07-03T07:18:02.986Z"
   },
   {
    "duration": 8,
    "start_time": "2023-07-03T07:18:03.014Z"
   },
   {
    "duration": 6,
    "start_time": "2023-07-03T07:18:03.023Z"
   },
   {
    "duration": 6,
    "start_time": "2023-07-03T07:18:03.030Z"
   },
   {
    "duration": 12,
    "start_time": "2023-07-03T07:18:03.037Z"
   },
   {
    "duration": 93778,
    "start_time": "2023-07-03T07:18:03.051Z"
   },
   {
    "duration": 0,
    "start_time": "2023-07-03T07:19:36.830Z"
   },
   {
    "duration": 0,
    "start_time": "2023-07-03T07:19:36.832Z"
   },
   {
    "duration": 0,
    "start_time": "2023-07-03T07:19:36.833Z"
   },
   {
    "duration": 0,
    "start_time": "2023-07-03T07:19:36.834Z"
   },
   {
    "duration": 0,
    "start_time": "2023-07-03T07:19:36.835Z"
   },
   {
    "duration": 0,
    "start_time": "2023-07-03T07:19:36.836Z"
   },
   {
    "duration": 0,
    "start_time": "2023-07-03T07:19:36.837Z"
   },
   {
    "duration": 0,
    "start_time": "2023-07-03T07:19:36.838Z"
   },
   {
    "duration": 0,
    "start_time": "2023-07-03T07:19:36.839Z"
   },
   {
    "duration": 0,
    "start_time": "2023-07-03T07:19:36.840Z"
   },
   {
    "duration": 0,
    "start_time": "2023-07-03T07:19:36.842Z"
   },
   {
    "duration": 0,
    "start_time": "2023-07-03T07:19:36.843Z"
   },
   {
    "duration": 0,
    "start_time": "2023-07-03T07:19:36.843Z"
   },
   {
    "duration": 0,
    "start_time": "2023-07-03T07:19:36.844Z"
   },
   {
    "duration": 0,
    "start_time": "2023-07-03T07:19:36.845Z"
   },
   {
    "duration": 0,
    "start_time": "2023-07-03T07:19:36.846Z"
   },
   {
    "duration": 0,
    "start_time": "2023-07-03T07:19:36.877Z"
   },
   {
    "duration": 0,
    "start_time": "2023-07-03T07:19:36.878Z"
   },
   {
    "duration": 0,
    "start_time": "2023-07-03T07:19:36.879Z"
   },
   {
    "duration": 0,
    "start_time": "2023-07-03T07:19:36.880Z"
   },
   {
    "duration": 0,
    "start_time": "2023-07-03T07:19:36.881Z"
   },
   {
    "duration": 3308,
    "start_time": "2023-07-03T07:20:50.208Z"
   },
   {
    "duration": 2306,
    "start_time": "2023-07-03T07:20:53.518Z"
   },
   {
    "duration": 3,
    "start_time": "2023-07-03T07:20:55.826Z"
   },
   {
    "duration": 128,
    "start_time": "2023-07-03T07:20:55.831Z"
   },
   {
    "duration": 113,
    "start_time": "2023-07-03T07:20:55.979Z"
   },
   {
    "duration": 16,
    "start_time": "2023-07-03T07:20:56.094Z"
   },
   {
    "duration": 18,
    "start_time": "2023-07-03T07:20:56.111Z"
   },
   {
    "duration": 5,
    "start_time": "2023-07-03T07:20:56.130Z"
   },
   {
    "duration": 327,
    "start_time": "2023-07-03T07:20:56.136Z"
   },
   {
    "duration": 18,
    "start_time": "2023-07-03T07:20:56.474Z"
   },
   {
    "duration": 32,
    "start_time": "2023-07-03T07:20:56.497Z"
   },
   {
    "duration": 19,
    "start_time": "2023-07-03T07:20:56.531Z"
   },
   {
    "duration": 29,
    "start_time": "2023-07-03T07:20:56.552Z"
   },
   {
    "duration": 27,
    "start_time": "2023-07-03T07:20:56.583Z"
   },
   {
    "duration": 5,
    "start_time": "2023-07-03T07:20:56.611Z"
   },
   {
    "duration": 8,
    "start_time": "2023-07-03T07:20:56.617Z"
   },
   {
    "duration": 6,
    "start_time": "2023-07-03T07:20:56.627Z"
   },
   {
    "duration": 43,
    "start_time": "2023-07-03T07:20:56.635Z"
   },
   {
    "duration": 7,
    "start_time": "2023-07-03T07:20:56.681Z"
   },
   {
    "duration": 27,
    "start_time": "2023-07-03T07:20:56.691Z"
   },
   {
    "duration": 14,
    "start_time": "2023-07-03T07:20:56.721Z"
   },
   {
    "duration": 6,
    "start_time": "2023-07-03T07:20:56.736Z"
   },
   {
    "duration": 6,
    "start_time": "2023-07-03T07:20:56.744Z"
   },
   {
    "duration": 9,
    "start_time": "2023-07-03T07:20:56.752Z"
   },
   {
    "duration": 16,
    "start_time": "2023-07-03T07:20:56.763Z"
   },
   {
    "duration": 38,
    "start_time": "2023-07-03T07:20:56.780Z"
   },
   {
    "duration": 17,
    "start_time": "2023-07-03T07:20:56.820Z"
   },
   {
    "duration": 6,
    "start_time": "2023-07-03T07:20:56.842Z"
   },
   {
    "duration": 16,
    "start_time": "2023-07-03T07:20:56.850Z"
   },
   {
    "duration": 9,
    "start_time": "2023-07-03T07:20:56.868Z"
   },
   {
    "duration": 17,
    "start_time": "2023-07-03T07:20:56.879Z"
   },
   {
    "duration": 19,
    "start_time": "2023-07-03T07:20:56.897Z"
   },
   {
    "duration": 30,
    "start_time": "2023-07-03T07:20:56.918Z"
   },
   {
    "duration": 21,
    "start_time": "2023-07-03T07:20:56.950Z"
   },
   {
    "duration": 1417,
    "start_time": "2023-07-03T07:20:56.973Z"
   },
   {
    "duration": 8,
    "start_time": "2023-07-03T07:20:58.392Z"
   },
   {
    "duration": 129,
    "start_time": "2023-07-03T07:20:58.402Z"
   },
   {
    "duration": 3,
    "start_time": "2023-07-03T07:20:58.533Z"
   },
   {
    "duration": 16,
    "start_time": "2023-07-03T07:20:58.537Z"
   },
   {
    "duration": 12,
    "start_time": "2023-07-03T07:20:58.554Z"
   },
   {
    "duration": 38,
    "start_time": "2023-07-03T07:20:58.568Z"
   },
   {
    "duration": 4,
    "start_time": "2023-07-03T07:20:58.608Z"
   },
   {
    "duration": 2950,
    "start_time": "2023-07-03T07:20:58.614Z"
   },
   {
    "duration": 0,
    "start_time": "2023-07-03T07:21:01.566Z"
   },
   {
    "duration": 0,
    "start_time": "2023-07-03T07:21:01.568Z"
   },
   {
    "duration": 0,
    "start_time": "2023-07-03T07:21:01.569Z"
   },
   {
    "duration": 0,
    "start_time": "2023-07-03T07:21:01.577Z"
   },
   {
    "duration": 0,
    "start_time": "2023-07-03T07:21:01.580Z"
   },
   {
    "duration": 0,
    "start_time": "2023-07-03T07:21:01.581Z"
   },
   {
    "duration": 0,
    "start_time": "2023-07-03T07:21:01.582Z"
   },
   {
    "duration": 0,
    "start_time": "2023-07-03T07:21:01.583Z"
   },
   {
    "duration": 0,
    "start_time": "2023-07-03T07:21:01.583Z"
   },
   {
    "duration": 0,
    "start_time": "2023-07-03T07:21:01.584Z"
   },
   {
    "duration": 0,
    "start_time": "2023-07-03T07:21:01.585Z"
   },
   {
    "duration": 0,
    "start_time": "2023-07-03T07:21:01.586Z"
   },
   {
    "duration": 0,
    "start_time": "2023-07-03T07:21:01.587Z"
   },
   {
    "duration": 0,
    "start_time": "2023-07-03T07:21:01.588Z"
   },
   {
    "duration": 0,
    "start_time": "2023-07-03T07:21:01.588Z"
   },
   {
    "duration": 0,
    "start_time": "2023-07-03T07:21:01.589Z"
   },
   {
    "duration": 0,
    "start_time": "2023-07-03T07:21:01.590Z"
   },
   {
    "duration": 0,
    "start_time": "2023-07-03T07:21:01.591Z"
   },
   {
    "duration": 0,
    "start_time": "2023-07-03T07:21:01.593Z"
   },
   {
    "duration": 0,
    "start_time": "2023-07-03T07:21:01.594Z"
   },
   {
    "duration": 0,
    "start_time": "2023-07-03T07:21:01.595Z"
   },
   {
    "duration": 0,
    "start_time": "2023-07-03T07:21:01.596Z"
   },
   {
    "duration": 2881,
    "start_time": "2023-07-03T07:22:51.202Z"
   },
   {
    "duration": 4079,
    "start_time": "2023-07-03T07:23:49.569Z"
   },
   {
    "duration": 1366,
    "start_time": "2023-07-03T07:23:53.650Z"
   },
   {
    "duration": 4,
    "start_time": "2023-07-03T07:23:55.018Z"
   },
   {
    "duration": 179,
    "start_time": "2023-07-03T07:23:55.025Z"
   },
   {
    "duration": 133,
    "start_time": "2023-07-03T07:23:55.205Z"
   },
   {
    "duration": 24,
    "start_time": "2023-07-03T07:23:55.341Z"
   },
   {
    "duration": 61,
    "start_time": "2023-07-03T07:23:55.367Z"
   },
   {
    "duration": 12,
    "start_time": "2023-07-03T07:23:55.429Z"
   },
   {
    "duration": 311,
    "start_time": "2023-07-03T07:23:55.443Z"
   },
   {
    "duration": 23,
    "start_time": "2023-07-03T07:23:55.757Z"
   },
   {
    "duration": 4,
    "start_time": "2023-07-03T07:23:55.781Z"
   },
   {
    "duration": 10,
    "start_time": "2023-07-03T07:23:55.786Z"
   },
   {
    "duration": 25,
    "start_time": "2023-07-03T07:23:55.798Z"
   },
   {
    "duration": 18,
    "start_time": "2023-07-03T07:23:55.824Z"
   },
   {
    "duration": 4,
    "start_time": "2023-07-03T07:23:55.844Z"
   },
   {
    "duration": 59,
    "start_time": "2023-07-03T07:23:55.850Z"
   },
   {
    "duration": 6,
    "start_time": "2023-07-03T07:23:55.910Z"
   },
   {
    "duration": 21,
    "start_time": "2023-07-03T07:23:55.917Z"
   },
   {
    "duration": 6,
    "start_time": "2023-07-03T07:23:55.940Z"
   },
   {
    "duration": 8,
    "start_time": "2023-07-03T07:23:55.948Z"
   },
   {
    "duration": 16,
    "start_time": "2023-07-03T07:23:55.957Z"
   },
   {
    "duration": 30,
    "start_time": "2023-07-03T07:23:55.978Z"
   },
   {
    "duration": 6,
    "start_time": "2023-07-03T07:23:56.010Z"
   },
   {
    "duration": 9,
    "start_time": "2023-07-03T07:23:56.017Z"
   },
   {
    "duration": 7,
    "start_time": "2023-07-03T07:23:56.027Z"
   },
   {
    "duration": 14,
    "start_time": "2023-07-03T07:23:56.036Z"
   },
   {
    "duration": 6,
    "start_time": "2023-07-03T07:23:56.051Z"
   },
   {
    "duration": 5,
    "start_time": "2023-07-03T07:23:56.061Z"
   },
   {
    "duration": 14,
    "start_time": "2023-07-03T07:23:56.068Z"
   },
   {
    "duration": 33,
    "start_time": "2023-07-03T07:23:56.084Z"
   },
   {
    "duration": 7,
    "start_time": "2023-07-03T07:23:56.118Z"
   },
   {
    "duration": 11,
    "start_time": "2023-07-03T07:23:56.127Z"
   },
   {
    "duration": 37,
    "start_time": "2023-07-03T07:23:56.140Z"
   },
   {
    "duration": 44,
    "start_time": "2023-07-03T07:23:56.182Z"
   },
   {
    "duration": 1499,
    "start_time": "2023-07-03T07:23:56.228Z"
   },
   {
    "duration": 4,
    "start_time": "2023-07-03T07:23:57.729Z"
   },
   {
    "duration": 134,
    "start_time": "2023-07-03T07:23:57.735Z"
   },
   {
    "duration": 4,
    "start_time": "2023-07-03T07:23:57.871Z"
   },
   {
    "duration": 246,
    "start_time": "2023-07-03T07:23:57.877Z"
   },
   {
    "duration": 13,
    "start_time": "2023-07-03T07:23:58.125Z"
   },
   {
    "duration": 14,
    "start_time": "2023-07-03T07:23:58.140Z"
   },
   {
    "duration": 12,
    "start_time": "2023-07-03T07:23:58.155Z"
   },
   {
    "duration": 166,
    "start_time": "2023-07-03T07:23:58.169Z"
   },
   {
    "duration": 2331,
    "start_time": "2023-07-03T07:24:35.103Z"
   },
   {
    "duration": 1274,
    "start_time": "2023-07-03T07:24:37.436Z"
   },
   {
    "duration": 3,
    "start_time": "2023-07-03T07:24:38.712Z"
   },
   {
    "duration": 335,
    "start_time": "2023-07-03T07:24:38.717Z"
   },
   {
    "duration": 102,
    "start_time": "2023-07-03T07:24:39.054Z"
   },
   {
    "duration": 36,
    "start_time": "2023-07-03T07:24:39.157Z"
   },
   {
    "duration": 21,
    "start_time": "2023-07-03T07:24:39.207Z"
   },
   {
    "duration": 22,
    "start_time": "2023-07-03T07:24:39.230Z"
   },
   {
    "duration": 314,
    "start_time": "2023-07-03T07:24:39.253Z"
   },
   {
    "duration": 19,
    "start_time": "2023-07-03T07:24:39.569Z"
   },
   {
    "duration": 16,
    "start_time": "2023-07-03T07:24:39.591Z"
   },
   {
    "duration": 24,
    "start_time": "2023-07-03T07:24:39.608Z"
   },
   {
    "duration": 25,
    "start_time": "2023-07-03T07:24:39.634Z"
   },
   {
    "duration": 17,
    "start_time": "2023-07-03T07:24:39.660Z"
   },
   {
    "duration": 4,
    "start_time": "2023-07-03T07:24:39.678Z"
   },
   {
    "duration": 29,
    "start_time": "2023-07-03T07:24:39.684Z"
   },
   {
    "duration": 8,
    "start_time": "2023-07-03T07:24:39.714Z"
   },
   {
    "duration": 30,
    "start_time": "2023-07-03T07:24:39.723Z"
   },
   {
    "duration": 11,
    "start_time": "2023-07-03T07:24:39.755Z"
   },
   {
    "duration": 37,
    "start_time": "2023-07-03T07:24:39.768Z"
   },
   {
    "duration": 19,
    "start_time": "2023-07-03T07:24:39.807Z"
   },
   {
    "duration": 10,
    "start_time": "2023-07-03T07:24:39.828Z"
   },
   {
    "duration": 13,
    "start_time": "2023-07-03T07:24:39.840Z"
   },
   {
    "duration": 5,
    "start_time": "2023-07-03T07:24:39.855Z"
   },
   {
    "duration": 9,
    "start_time": "2023-07-03T07:24:39.862Z"
   },
   {
    "duration": 47,
    "start_time": "2023-07-03T07:24:39.873Z"
   },
   {
    "duration": 9,
    "start_time": "2023-07-03T07:24:39.922Z"
   },
   {
    "duration": 6,
    "start_time": "2023-07-03T07:24:39.935Z"
   },
   {
    "duration": 15,
    "start_time": "2023-07-03T07:24:39.943Z"
   },
   {
    "duration": 12,
    "start_time": "2023-07-03T07:24:39.960Z"
   },
   {
    "duration": 35,
    "start_time": "2023-07-03T07:24:39.973Z"
   },
   {
    "duration": 34,
    "start_time": "2023-07-03T07:24:40.010Z"
   },
   {
    "duration": 84,
    "start_time": "2023-07-03T07:24:40.046Z"
   },
   {
    "duration": 22,
    "start_time": "2023-07-03T07:24:40.131Z"
   },
   {
    "duration": 1372,
    "start_time": "2023-07-03T07:24:40.154Z"
   },
   {
    "duration": 6,
    "start_time": "2023-07-03T07:24:41.527Z"
   },
   {
    "duration": 132,
    "start_time": "2023-07-03T07:24:41.534Z"
   },
   {
    "duration": 2,
    "start_time": "2023-07-03T07:24:41.668Z"
   },
   {
    "duration": 32,
    "start_time": "2023-07-03T07:24:41.679Z"
   },
   {
    "duration": 9,
    "start_time": "2023-07-03T07:24:41.713Z"
   },
   {
    "duration": 13,
    "start_time": "2023-07-03T07:24:41.724Z"
   },
   {
    "duration": 11,
    "start_time": "2023-07-03T07:24:41.739Z"
   },
   {
    "duration": 4004,
    "start_time": "2023-07-03T07:24:41.751Z"
   },
   {
    "duration": 3391,
    "start_time": "2023-07-03T07:25:35.841Z"
   },
   {
    "duration": 1214,
    "start_time": "2023-07-03T07:25:39.234Z"
   },
   {
    "duration": 3,
    "start_time": "2023-07-03T07:25:40.449Z"
   },
   {
    "duration": 128,
    "start_time": "2023-07-03T07:25:40.454Z"
   },
   {
    "duration": 98,
    "start_time": "2023-07-03T07:25:40.584Z"
   },
   {
    "duration": 22,
    "start_time": "2023-07-03T07:25:40.690Z"
   },
   {
    "duration": 38,
    "start_time": "2023-07-03T07:25:40.714Z"
   },
   {
    "duration": 5,
    "start_time": "2023-07-03T07:25:40.753Z"
   },
   {
    "duration": 275,
    "start_time": "2023-07-03T07:25:40.759Z"
   },
   {
    "duration": 8,
    "start_time": "2023-07-03T07:25:41.035Z"
   },
   {
    "duration": 7,
    "start_time": "2023-07-03T07:25:41.044Z"
   },
   {
    "duration": 9,
    "start_time": "2023-07-03T07:25:41.052Z"
   },
   {
    "duration": 43,
    "start_time": "2023-07-03T07:25:41.082Z"
   },
   {
    "duration": 17,
    "start_time": "2023-07-03T07:25:41.127Z"
   },
   {
    "duration": 4,
    "start_time": "2023-07-03T07:25:41.146Z"
   },
   {
    "duration": 15,
    "start_time": "2023-07-03T07:25:41.151Z"
   },
   {
    "duration": 34,
    "start_time": "2023-07-03T07:25:41.168Z"
   },
   {
    "duration": 30,
    "start_time": "2023-07-03T07:25:41.204Z"
   },
   {
    "duration": 7,
    "start_time": "2023-07-03T07:25:41.236Z"
   },
   {
    "duration": 33,
    "start_time": "2023-07-03T07:25:41.245Z"
   },
   {
    "duration": 23,
    "start_time": "2023-07-03T07:25:41.279Z"
   },
   {
    "duration": 28,
    "start_time": "2023-07-03T07:25:41.304Z"
   },
   {
    "duration": 44,
    "start_time": "2023-07-03T07:25:41.334Z"
   },
   {
    "duration": 48,
    "start_time": "2023-07-03T07:25:41.381Z"
   },
   {
    "duration": 45,
    "start_time": "2023-07-03T07:25:41.431Z"
   },
   {
    "duration": 20,
    "start_time": "2023-07-03T07:25:41.479Z"
   },
   {
    "duration": 255,
    "start_time": "2023-07-03T07:25:41.501Z"
   },
   {
    "duration": 83,
    "start_time": "2023-07-03T07:25:41.758Z"
   },
   {
    "duration": 38,
    "start_time": "2023-07-03T07:25:41.844Z"
   },
   {
    "duration": 56,
    "start_time": "2023-07-03T07:25:41.885Z"
   },
   {
    "duration": 34,
    "start_time": "2023-07-03T07:25:41.942Z"
   },
   {
    "duration": 67,
    "start_time": "2023-07-03T07:25:41.978Z"
   },
   {
    "duration": 79,
    "start_time": "2023-07-03T07:25:42.047Z"
   },
   {
    "duration": 194,
    "start_time": "2023-07-03T07:25:42.127Z"
   },
   {
    "duration": 3769,
    "start_time": "2023-07-03T07:25:42.323Z"
   },
   {
    "duration": 7,
    "start_time": "2023-07-03T07:25:46.094Z"
   },
   {
    "duration": 287,
    "start_time": "2023-07-03T07:25:46.103Z"
   },
   {
    "duration": 2,
    "start_time": "2023-07-03T07:25:46.392Z"
   },
   {
    "duration": 32,
    "start_time": "2023-07-03T07:25:46.396Z"
   },
   {
    "duration": 8,
    "start_time": "2023-07-03T07:25:46.432Z"
   },
   {
    "duration": 39,
    "start_time": "2023-07-03T07:25:46.477Z"
   },
   {
    "duration": 9,
    "start_time": "2023-07-03T07:25:46.518Z"
   },
   {
    "duration": 3286,
    "start_time": "2023-07-03T07:25:46.529Z"
   },
   {
    "duration": 2771,
    "start_time": "2023-07-03T07:26:01.725Z"
   },
   {
    "duration": 1660,
    "start_time": "2023-07-03T07:26:04.499Z"
   },
   {
    "duration": 3,
    "start_time": "2023-07-03T07:26:06.161Z"
   },
   {
    "duration": 181,
    "start_time": "2023-07-03T07:26:06.166Z"
   },
   {
    "duration": 118,
    "start_time": "2023-07-03T07:26:06.349Z"
   },
   {
    "duration": 27,
    "start_time": "2023-07-03T07:26:06.469Z"
   },
   {
    "duration": 32,
    "start_time": "2023-07-03T07:26:06.497Z"
   },
   {
    "duration": 12,
    "start_time": "2023-07-03T07:26:06.531Z"
   },
   {
    "duration": 273,
    "start_time": "2023-07-03T07:26:06.545Z"
   },
   {
    "duration": 7,
    "start_time": "2023-07-03T07:26:06.821Z"
   },
   {
    "duration": 5,
    "start_time": "2023-07-03T07:26:06.830Z"
   },
   {
    "duration": 15,
    "start_time": "2023-07-03T07:26:06.836Z"
   },
   {
    "duration": 35,
    "start_time": "2023-07-03T07:26:06.852Z"
   },
   {
    "duration": 21,
    "start_time": "2023-07-03T07:26:06.888Z"
   },
   {
    "duration": 4,
    "start_time": "2023-07-03T07:26:06.910Z"
   },
   {
    "duration": 10,
    "start_time": "2023-07-03T07:26:06.916Z"
   },
   {
    "duration": 7,
    "start_time": "2023-07-03T07:26:06.927Z"
   },
   {
    "duration": 30,
    "start_time": "2023-07-03T07:26:06.935Z"
   },
   {
    "duration": 13,
    "start_time": "2023-07-03T07:26:06.967Z"
   },
   {
    "duration": 7,
    "start_time": "2023-07-03T07:26:06.990Z"
   },
   {
    "duration": 28,
    "start_time": "2023-07-03T07:26:06.999Z"
   },
   {
    "duration": 8,
    "start_time": "2023-07-03T07:26:07.029Z"
   },
   {
    "duration": 6,
    "start_time": "2023-07-03T07:26:07.038Z"
   },
   {
    "duration": 7,
    "start_time": "2023-07-03T07:26:07.045Z"
   },
   {
    "duration": 19,
    "start_time": "2023-07-03T07:26:07.053Z"
   },
   {
    "duration": 36,
    "start_time": "2023-07-03T07:26:07.073Z"
   },
   {
    "duration": 6,
    "start_time": "2023-07-03T07:26:07.111Z"
   },
   {
    "duration": 8,
    "start_time": "2023-07-03T07:26:07.120Z"
   },
   {
    "duration": 14,
    "start_time": "2023-07-03T07:26:07.129Z"
   },
   {
    "duration": 15,
    "start_time": "2023-07-03T07:26:07.144Z"
   },
   {
    "duration": 20,
    "start_time": "2023-07-03T07:26:07.160Z"
   },
   {
    "duration": 32,
    "start_time": "2023-07-03T07:26:07.182Z"
   },
   {
    "duration": 37,
    "start_time": "2023-07-03T07:26:07.216Z"
   },
   {
    "duration": 30,
    "start_time": "2023-07-03T07:26:07.255Z"
   },
   {
    "duration": 1310,
    "start_time": "2023-07-03T07:26:07.291Z"
   },
   {
    "duration": 7,
    "start_time": "2023-07-03T07:26:08.603Z"
   },
   {
    "duration": 114,
    "start_time": "2023-07-03T07:26:08.611Z"
   },
   {
    "duration": 2,
    "start_time": "2023-07-03T07:26:08.727Z"
   },
   {
    "duration": 7,
    "start_time": "2023-07-03T07:26:08.730Z"
   },
   {
    "duration": 4,
    "start_time": "2023-07-03T07:26:08.738Z"
   },
   {
    "duration": 8,
    "start_time": "2023-07-03T07:26:08.744Z"
   },
   {
    "duration": 11,
    "start_time": "2023-07-03T07:26:08.753Z"
   },
   {
    "duration": 2867,
    "start_time": "2023-07-03T07:26:08.765Z"
   },
   {
    "duration": 0,
    "start_time": "2023-07-03T07:26:11.633Z"
   },
   {
    "duration": 0,
    "start_time": "2023-07-03T07:26:11.634Z"
   },
   {
    "duration": 0,
    "start_time": "2023-07-03T07:26:11.635Z"
   },
   {
    "duration": 0,
    "start_time": "2023-07-03T07:26:11.637Z"
   },
   {
    "duration": 0,
    "start_time": "2023-07-03T07:26:11.638Z"
   },
   {
    "duration": 0,
    "start_time": "2023-07-03T07:26:11.639Z"
   },
   {
    "duration": 0,
    "start_time": "2023-07-03T07:26:11.640Z"
   },
   {
    "duration": 0,
    "start_time": "2023-07-03T07:26:11.641Z"
   },
   {
    "duration": 0,
    "start_time": "2023-07-03T07:26:11.643Z"
   },
   {
    "duration": 0,
    "start_time": "2023-07-03T07:26:11.644Z"
   },
   {
    "duration": 0,
    "start_time": "2023-07-03T07:26:11.645Z"
   },
   {
    "duration": 0,
    "start_time": "2023-07-03T07:26:11.646Z"
   },
   {
    "duration": 0,
    "start_time": "2023-07-03T07:26:11.647Z"
   },
   {
    "duration": 0,
    "start_time": "2023-07-03T07:26:11.679Z"
   },
   {
    "duration": 0,
    "start_time": "2023-07-03T07:26:11.682Z"
   },
   {
    "duration": 0,
    "start_time": "2023-07-03T07:26:11.685Z"
   },
   {
    "duration": 0,
    "start_time": "2023-07-03T07:26:11.687Z"
   },
   {
    "duration": 0,
    "start_time": "2023-07-03T07:26:11.688Z"
   },
   {
    "duration": 0,
    "start_time": "2023-07-03T07:26:11.691Z"
   },
   {
    "duration": 0,
    "start_time": "2023-07-03T07:26:11.693Z"
   },
   {
    "duration": 0,
    "start_time": "2023-07-03T07:26:11.694Z"
   },
   {
    "duration": 0,
    "start_time": "2023-07-03T07:26:11.695Z"
   },
   {
    "duration": 2984,
    "start_time": "2023-07-03T07:26:25.209Z"
   },
   {
    "duration": 2969,
    "start_time": "2023-07-03T07:28:36.644Z"
   },
   {
    "duration": 1649,
    "start_time": "2023-07-03T07:28:39.616Z"
   },
   {
    "duration": 9,
    "start_time": "2023-07-03T07:28:41.266Z"
   },
   {
    "duration": 205,
    "start_time": "2023-07-03T07:28:41.278Z"
   },
   {
    "duration": 124,
    "start_time": "2023-07-03T07:28:41.485Z"
   },
   {
    "duration": 20,
    "start_time": "2023-07-03T07:28:41.612Z"
   },
   {
    "duration": 38,
    "start_time": "2023-07-03T07:28:41.634Z"
   },
   {
    "duration": 21,
    "start_time": "2023-07-03T07:28:41.676Z"
   },
   {
    "duration": 307,
    "start_time": "2023-07-03T07:28:41.700Z"
   },
   {
    "duration": 8,
    "start_time": "2023-07-03T07:28:42.010Z"
   },
   {
    "duration": 7,
    "start_time": "2023-07-03T07:28:42.020Z"
   },
   {
    "duration": 19,
    "start_time": "2023-07-03T07:28:42.029Z"
   },
   {
    "duration": 29,
    "start_time": "2023-07-03T07:28:42.050Z"
   },
   {
    "duration": 28,
    "start_time": "2023-07-03T07:28:42.081Z"
   },
   {
    "duration": 14,
    "start_time": "2023-07-03T07:28:42.111Z"
   },
   {
    "duration": 12,
    "start_time": "2023-07-03T07:28:42.126Z"
   },
   {
    "duration": 11,
    "start_time": "2023-07-03T07:28:42.139Z"
   },
   {
    "duration": 21,
    "start_time": "2023-07-03T07:28:42.152Z"
   },
   {
    "duration": 21,
    "start_time": "2023-07-03T07:28:42.175Z"
   },
   {
    "duration": 27,
    "start_time": "2023-07-03T07:28:42.197Z"
   },
   {
    "duration": 19,
    "start_time": "2023-07-03T07:28:42.225Z"
   },
   {
    "duration": 23,
    "start_time": "2023-07-03T07:28:42.245Z"
   },
   {
    "duration": 25,
    "start_time": "2023-07-03T07:28:42.269Z"
   },
   {
    "duration": 5,
    "start_time": "2023-07-03T07:28:42.296Z"
   },
   {
    "duration": 15,
    "start_time": "2023-07-03T07:28:42.303Z"
   },
   {
    "duration": 26,
    "start_time": "2023-07-03T07:28:42.320Z"
   },
   {
    "duration": 12,
    "start_time": "2023-07-03T07:28:42.348Z"
   },
   {
    "duration": 8,
    "start_time": "2023-07-03T07:28:42.365Z"
   },
   {
    "duration": 43,
    "start_time": "2023-07-03T07:28:42.374Z"
   },
   {
    "duration": 17,
    "start_time": "2023-07-03T07:28:42.419Z"
   },
   {
    "duration": 6,
    "start_time": "2023-07-03T07:28:42.438Z"
   },
   {
    "duration": 8,
    "start_time": "2023-07-03T07:28:42.445Z"
   },
   {
    "duration": 74,
    "start_time": "2023-07-03T07:28:42.455Z"
   },
   {
    "duration": 29,
    "start_time": "2023-07-03T07:28:42.531Z"
   },
   {
    "duration": 1281,
    "start_time": "2023-07-03T07:28:42.561Z"
   },
   {
    "duration": 5,
    "start_time": "2023-07-03T07:28:43.844Z"
   },
   {
    "duration": 114,
    "start_time": "2023-07-03T07:28:43.851Z"
   },
   {
    "duration": 3,
    "start_time": "2023-07-03T07:28:43.974Z"
   },
   {
    "duration": 17,
    "start_time": "2023-07-03T07:28:43.980Z"
   },
   {
    "duration": 6,
    "start_time": "2023-07-03T07:28:43.998Z"
   },
   {
    "duration": 5,
    "start_time": "2023-07-03T07:28:44.005Z"
   },
   {
    "duration": 7,
    "start_time": "2023-07-03T07:28:44.012Z"
   },
   {
    "duration": 2668,
    "start_time": "2023-07-03T07:28:44.020Z"
   },
   {
    "duration": 3997,
    "start_time": "2023-07-03T07:29:50.319Z"
   },
   {
    "duration": 2303,
    "start_time": "2023-07-03T07:29:54.318Z"
   },
   {
    "duration": 54,
    "start_time": "2023-07-03T07:29:56.622Z"
   },
   {
    "duration": 237,
    "start_time": "2023-07-03T07:29:56.679Z"
   },
   {
    "duration": 205,
    "start_time": "2023-07-03T07:29:56.918Z"
   },
   {
    "duration": 18,
    "start_time": "2023-07-03T07:29:57.176Z"
   },
   {
    "duration": 16,
    "start_time": "2023-07-03T07:29:57.196Z"
   },
   {
    "duration": 64,
    "start_time": "2023-07-03T07:29:57.213Z"
   },
   {
    "duration": 705,
    "start_time": "2023-07-03T07:29:57.291Z"
   },
   {
    "duration": 8,
    "start_time": "2023-07-03T07:29:57.999Z"
   },
   {
    "duration": 12,
    "start_time": "2023-07-03T07:29:58.009Z"
   },
   {
    "duration": 63,
    "start_time": "2023-07-03T07:29:58.022Z"
   },
   {
    "duration": 31,
    "start_time": "2023-07-03T07:29:58.087Z"
   },
   {
    "duration": 74,
    "start_time": "2023-07-03T07:29:58.119Z"
   },
   {
    "duration": 5,
    "start_time": "2023-07-03T07:29:58.195Z"
   },
   {
    "duration": 11,
    "start_time": "2023-07-03T07:29:58.201Z"
   },
   {
    "duration": 11,
    "start_time": "2023-07-03T07:29:58.213Z"
   },
   {
    "duration": 71,
    "start_time": "2023-07-03T07:29:58.225Z"
   },
   {
    "duration": 5,
    "start_time": "2023-07-03T07:29:58.297Z"
   },
   {
    "duration": 6,
    "start_time": "2023-07-03T07:29:58.304Z"
   },
   {
    "duration": 76,
    "start_time": "2023-07-03T07:29:58.312Z"
   },
   {
    "duration": 7,
    "start_time": "2023-07-03T07:29:58.390Z"
   },
   {
    "duration": 6,
    "start_time": "2023-07-03T07:29:58.398Z"
   },
   {
    "duration": 6,
    "start_time": "2023-07-03T07:29:58.406Z"
   },
   {
    "duration": 6,
    "start_time": "2023-07-03T07:29:58.413Z"
   },
   {
    "duration": 12,
    "start_time": "2023-07-03T07:29:58.420Z"
   },
   {
    "duration": 6,
    "start_time": "2023-07-03T07:29:58.476Z"
   },
   {
    "duration": 18,
    "start_time": "2023-07-03T07:29:58.487Z"
   },
   {
    "duration": 10,
    "start_time": "2023-07-03T07:29:58.507Z"
   },
   {
    "duration": 5,
    "start_time": "2023-07-03T07:29:58.519Z"
   },
   {
    "duration": 51,
    "start_time": "2023-07-03T07:29:58.526Z"
   },
   {
    "duration": 19,
    "start_time": "2023-07-03T07:29:58.579Z"
   },
   {
    "duration": 75,
    "start_time": "2023-07-03T07:29:58.600Z"
   },
   {
    "duration": 33,
    "start_time": "2023-07-03T07:29:58.677Z"
   },
   {
    "duration": 2969,
    "start_time": "2023-07-03T07:29:58.712Z"
   },
   {
    "duration": 13,
    "start_time": "2023-07-03T07:30:01.684Z"
   },
   {
    "duration": 152,
    "start_time": "2023-07-03T07:30:01.699Z"
   },
   {
    "duration": 2,
    "start_time": "2023-07-03T07:30:01.853Z"
   },
   {
    "duration": 51,
    "start_time": "2023-07-03T07:30:01.856Z"
   },
   {
    "duration": 101,
    "start_time": "2023-07-03T07:30:01.909Z"
   },
   {
    "duration": 78,
    "start_time": "2023-07-03T07:30:02.012Z"
   },
   {
    "duration": 60,
    "start_time": "2023-07-03T07:30:02.092Z"
   },
   {
    "duration": 125,
    "start_time": "2023-07-03T07:30:02.153Z"
   },
   {
    "duration": 2775,
    "start_time": "2023-07-03T07:30:34.343Z"
   },
   {
    "duration": 2365,
    "start_time": "2023-07-03T07:30:37.120Z"
   },
   {
    "duration": 5,
    "start_time": "2023-07-03T07:30:39.488Z"
   },
   {
    "duration": 217,
    "start_time": "2023-07-03T07:30:39.495Z"
   },
   {
    "duration": 204,
    "start_time": "2023-07-03T07:30:39.713Z"
   },
   {
    "duration": 12,
    "start_time": "2023-07-03T07:30:39.918Z"
   },
   {
    "duration": 58,
    "start_time": "2023-07-03T07:30:39.931Z"
   },
   {
    "duration": 7,
    "start_time": "2023-07-03T07:30:39.991Z"
   },
   {
    "duration": 289,
    "start_time": "2023-07-03T07:30:39.999Z"
   },
   {
    "duration": 8,
    "start_time": "2023-07-03T07:30:40.291Z"
   },
   {
    "duration": 11,
    "start_time": "2023-07-03T07:30:40.300Z"
   },
   {
    "duration": 21,
    "start_time": "2023-07-03T07:30:40.312Z"
   },
   {
    "duration": 33,
    "start_time": "2023-07-03T07:30:40.335Z"
   },
   {
    "duration": 22,
    "start_time": "2023-07-03T07:30:40.369Z"
   },
   {
    "duration": 16,
    "start_time": "2023-07-03T07:30:40.392Z"
   },
   {
    "duration": 19,
    "start_time": "2023-07-03T07:30:40.410Z"
   },
   {
    "duration": 24,
    "start_time": "2023-07-03T07:30:40.431Z"
   },
   {
    "duration": 30,
    "start_time": "2023-07-03T07:30:40.456Z"
   },
   {
    "duration": 19,
    "start_time": "2023-07-03T07:30:40.488Z"
   },
   {
    "duration": 15,
    "start_time": "2023-07-03T07:30:40.508Z"
   },
   {
    "duration": 21,
    "start_time": "2023-07-03T07:30:40.525Z"
   },
   {
    "duration": 6,
    "start_time": "2023-07-03T07:30:40.548Z"
   },
   {
    "duration": 9,
    "start_time": "2023-07-03T07:30:40.555Z"
   },
   {
    "duration": 13,
    "start_time": "2023-07-03T07:30:40.565Z"
   },
   {
    "duration": 20,
    "start_time": "2023-07-03T07:30:40.581Z"
   },
   {
    "duration": 12,
    "start_time": "2023-07-03T07:30:40.603Z"
   },
   {
    "duration": 13,
    "start_time": "2023-07-03T07:30:40.617Z"
   },
   {
    "duration": 7,
    "start_time": "2023-07-03T07:30:40.634Z"
   },
   {
    "duration": 10,
    "start_time": "2023-07-03T07:30:40.642Z"
   },
   {
    "duration": 4,
    "start_time": "2023-07-03T07:30:40.653Z"
   },
   {
    "duration": 6,
    "start_time": "2023-07-03T07:30:40.659Z"
   },
   {
    "duration": 22,
    "start_time": "2023-07-03T07:30:40.666Z"
   },
   {
    "duration": 31,
    "start_time": "2023-07-03T07:30:40.690Z"
   },
   {
    "duration": 21,
    "start_time": "2023-07-03T07:30:40.723Z"
   },
   {
    "duration": 1377,
    "start_time": "2023-07-03T07:30:40.746Z"
   },
   {
    "duration": 6,
    "start_time": "2023-07-03T07:30:42.124Z"
   },
   {
    "duration": 113,
    "start_time": "2023-07-03T07:30:42.131Z"
   },
   {
    "duration": 2,
    "start_time": "2023-07-03T07:30:42.246Z"
   },
   {
    "duration": 8,
    "start_time": "2023-07-03T07:30:42.249Z"
   },
   {
    "duration": 10,
    "start_time": "2023-07-03T07:30:42.259Z"
   },
   {
    "duration": 22,
    "start_time": "2023-07-03T07:30:42.271Z"
   },
   {
    "duration": 9,
    "start_time": "2023-07-03T07:30:42.295Z"
   },
   {
    "duration": 59,
    "start_time": "2023-07-03T07:30:42.306Z"
   },
   {
    "duration": 85936,
    "start_time": "2023-07-03T07:30:42.366Z"
   },
   {
    "duration": 0,
    "start_time": "2023-07-03T07:32:08.304Z"
   },
   {
    "duration": 0,
    "start_time": "2023-07-03T07:32:08.305Z"
   },
   {
    "duration": 0,
    "start_time": "2023-07-03T07:32:08.306Z"
   },
   {
    "duration": 0,
    "start_time": "2023-07-03T07:32:08.307Z"
   },
   {
    "duration": 0,
    "start_time": "2023-07-03T07:32:08.308Z"
   },
   {
    "duration": 0,
    "start_time": "2023-07-03T07:32:08.309Z"
   },
   {
    "duration": 0,
    "start_time": "2023-07-03T07:32:08.310Z"
   },
   {
    "duration": 0,
    "start_time": "2023-07-03T07:32:08.312Z"
   },
   {
    "duration": 0,
    "start_time": "2023-07-03T07:32:08.313Z"
   },
   {
    "duration": 0,
    "start_time": "2023-07-03T07:32:08.314Z"
   },
   {
    "duration": 0,
    "start_time": "2023-07-03T07:32:08.315Z"
   },
   {
    "duration": 0,
    "start_time": "2023-07-03T07:32:08.316Z"
   },
   {
    "duration": 0,
    "start_time": "2023-07-03T07:32:08.317Z"
   },
   {
    "duration": 0,
    "start_time": "2023-07-03T07:32:08.317Z"
   },
   {
    "duration": 0,
    "start_time": "2023-07-03T07:32:08.319Z"
   },
   {
    "duration": 0,
    "start_time": "2023-07-03T07:32:08.320Z"
   },
   {
    "duration": 0,
    "start_time": "2023-07-03T07:32:08.321Z"
   },
   {
    "duration": 0,
    "start_time": "2023-07-03T07:32:08.322Z"
   },
   {
    "duration": 0,
    "start_time": "2023-07-03T07:32:08.323Z"
   },
   {
    "duration": 0,
    "start_time": "2023-07-03T07:32:08.324Z"
   },
   {
    "duration": 0,
    "start_time": "2023-07-03T07:32:08.325Z"
   },
   {
    "duration": 3207,
    "start_time": "2023-07-03T07:33:13.409Z"
   },
   {
    "duration": 1232,
    "start_time": "2023-07-03T07:33:16.619Z"
   },
   {
    "duration": 4,
    "start_time": "2023-07-03T07:33:17.852Z"
   },
   {
    "duration": 128,
    "start_time": "2023-07-03T07:33:17.858Z"
   },
   {
    "duration": 90,
    "start_time": "2023-07-03T07:33:17.988Z"
   },
   {
    "duration": 20,
    "start_time": "2023-07-03T07:33:18.080Z"
   },
   {
    "duration": 19,
    "start_time": "2023-07-03T07:33:18.101Z"
   },
   {
    "duration": 5,
    "start_time": "2023-07-03T07:33:18.121Z"
   },
   {
    "duration": 283,
    "start_time": "2023-07-03T07:33:18.127Z"
   },
   {
    "duration": 7,
    "start_time": "2023-07-03T07:33:18.413Z"
   },
   {
    "duration": 4,
    "start_time": "2023-07-03T07:33:18.421Z"
   },
   {
    "duration": 19,
    "start_time": "2023-07-03T07:33:18.427Z"
   },
   {
    "duration": 40,
    "start_time": "2023-07-03T07:33:18.447Z"
   },
   {
    "duration": 18,
    "start_time": "2023-07-03T07:33:18.488Z"
   },
   {
    "duration": 4,
    "start_time": "2023-07-03T07:33:18.508Z"
   },
   {
    "duration": 11,
    "start_time": "2023-07-03T07:33:18.514Z"
   },
   {
    "duration": 9,
    "start_time": "2023-07-03T07:33:18.527Z"
   },
   {
    "duration": 24,
    "start_time": "2023-07-03T07:33:18.537Z"
   },
   {
    "duration": 15,
    "start_time": "2023-07-03T07:33:18.562Z"
   },
   {
    "duration": 20,
    "start_time": "2023-07-03T07:33:18.578Z"
   },
   {
    "duration": 27,
    "start_time": "2023-07-03T07:33:18.600Z"
   },
   {
    "duration": 10,
    "start_time": "2023-07-03T07:33:18.628Z"
   },
   {
    "duration": 9,
    "start_time": "2023-07-03T07:33:18.639Z"
   },
   {
    "duration": 15,
    "start_time": "2023-07-03T07:33:18.650Z"
   },
   {
    "duration": 29,
    "start_time": "2023-07-03T07:33:18.666Z"
   },
   {
    "duration": 12,
    "start_time": "2023-07-03T07:33:18.697Z"
   },
   {
    "duration": 6,
    "start_time": "2023-07-03T07:33:18.710Z"
   },
   {
    "duration": 4,
    "start_time": "2023-07-03T07:33:18.719Z"
   },
   {
    "duration": 16,
    "start_time": "2023-07-03T07:33:18.725Z"
   },
   {
    "duration": 4,
    "start_time": "2023-07-03T07:33:18.742Z"
   },
   {
    "duration": 8,
    "start_time": "2023-07-03T07:33:18.747Z"
   },
   {
    "duration": 8,
    "start_time": "2023-07-03T07:33:18.756Z"
   },
   {
    "duration": 41,
    "start_time": "2023-07-03T07:33:18.765Z"
   },
   {
    "duration": 21,
    "start_time": "2023-07-03T07:33:18.808Z"
   },
   {
    "duration": 1375,
    "start_time": "2023-07-03T07:33:18.831Z"
   },
   {
    "duration": 5,
    "start_time": "2023-07-03T07:33:20.208Z"
   },
   {
    "duration": 124,
    "start_time": "2023-07-03T07:33:20.215Z"
   },
   {
    "duration": 3,
    "start_time": "2023-07-03T07:33:20.340Z"
   },
   {
    "duration": 19,
    "start_time": "2023-07-03T07:33:20.344Z"
   },
   {
    "duration": 9,
    "start_time": "2023-07-03T07:33:20.364Z"
   },
   {
    "duration": 36,
    "start_time": "2023-07-03T07:33:20.375Z"
   },
   {
    "duration": 15,
    "start_time": "2023-07-03T07:33:20.413Z"
   },
   {
    "duration": 129,
    "start_time": "2023-07-03T07:33:20.429Z"
   },
   {
    "duration": 0,
    "start_time": "2023-07-03T07:33:20.560Z"
   },
   {
    "duration": 0,
    "start_time": "2023-07-03T07:33:20.561Z"
   },
   {
    "duration": 0,
    "start_time": "2023-07-03T07:33:20.562Z"
   },
   {
    "duration": 0,
    "start_time": "2023-07-03T07:33:20.562Z"
   },
   {
    "duration": 0,
    "start_time": "2023-07-03T07:33:20.563Z"
   },
   {
    "duration": 0,
    "start_time": "2023-07-03T07:33:20.575Z"
   },
   {
    "duration": 0,
    "start_time": "2023-07-03T07:33:20.577Z"
   },
   {
    "duration": 0,
    "start_time": "2023-07-03T07:33:20.578Z"
   },
   {
    "duration": 0,
    "start_time": "2023-07-03T07:33:20.579Z"
   },
   {
    "duration": 0,
    "start_time": "2023-07-03T07:33:20.581Z"
   },
   {
    "duration": 0,
    "start_time": "2023-07-03T07:33:20.582Z"
   },
   {
    "duration": 0,
    "start_time": "2023-07-03T07:33:20.583Z"
   },
   {
    "duration": 0,
    "start_time": "2023-07-03T07:33:20.584Z"
   },
   {
    "duration": 0,
    "start_time": "2023-07-03T07:33:20.585Z"
   },
   {
    "duration": 0,
    "start_time": "2023-07-03T07:33:20.586Z"
   },
   {
    "duration": 0,
    "start_time": "2023-07-03T07:33:20.587Z"
   },
   {
    "duration": 0,
    "start_time": "2023-07-03T07:33:20.589Z"
   },
   {
    "duration": 0,
    "start_time": "2023-07-03T07:33:20.590Z"
   },
   {
    "duration": 0,
    "start_time": "2023-07-03T07:33:20.591Z"
   },
   {
    "duration": 0,
    "start_time": "2023-07-03T07:33:20.593Z"
   },
   {
    "duration": 0,
    "start_time": "2023-07-03T07:33:20.594Z"
   },
   {
    "duration": 0,
    "start_time": "2023-07-03T07:33:20.595Z"
   },
   {
    "duration": 3444,
    "start_time": "2023-07-03T07:33:31.456Z"
   },
   {
    "duration": 1235,
    "start_time": "2023-07-03T07:33:34.903Z"
   },
   {
    "duration": 3,
    "start_time": "2023-07-03T07:33:36.140Z"
   },
   {
    "duration": 214,
    "start_time": "2023-07-03T07:33:36.145Z"
   },
   {
    "duration": 114,
    "start_time": "2023-07-03T07:33:36.376Z"
   },
   {
    "duration": 16,
    "start_time": "2023-07-03T07:33:36.492Z"
   },
   {
    "duration": 19,
    "start_time": "2023-07-03T07:33:36.510Z"
   },
   {
    "duration": 10,
    "start_time": "2023-07-03T07:33:36.533Z"
   },
   {
    "duration": 273,
    "start_time": "2023-07-03T07:33:36.545Z"
   },
   {
    "duration": 8,
    "start_time": "2023-07-03T07:33:36.820Z"
   },
   {
    "duration": 6,
    "start_time": "2023-07-03T07:33:36.829Z"
   },
   {
    "duration": 8,
    "start_time": "2023-07-03T07:33:36.837Z"
   },
   {
    "duration": 43,
    "start_time": "2023-07-03T07:33:36.846Z"
   },
   {
    "duration": 16,
    "start_time": "2023-07-03T07:33:36.891Z"
   },
   {
    "duration": 7,
    "start_time": "2023-07-03T07:33:36.909Z"
   },
   {
    "duration": 10,
    "start_time": "2023-07-03T07:33:36.917Z"
   },
   {
    "duration": 20,
    "start_time": "2023-07-03T07:33:36.928Z"
   },
   {
    "duration": 26,
    "start_time": "2023-07-03T07:33:36.949Z"
   },
   {
    "duration": 8,
    "start_time": "2023-07-03T07:33:36.977Z"
   },
   {
    "duration": 19,
    "start_time": "2023-07-03T07:33:36.986Z"
   },
   {
    "duration": 17,
    "start_time": "2023-07-03T07:33:37.007Z"
   },
   {
    "duration": 8,
    "start_time": "2023-07-03T07:33:37.025Z"
   },
   {
    "duration": 5,
    "start_time": "2023-07-03T07:33:37.035Z"
   },
   {
    "duration": 5,
    "start_time": "2023-07-03T07:33:37.041Z"
   },
   {
    "duration": 6,
    "start_time": "2023-07-03T07:33:37.047Z"
   },
   {
    "duration": 12,
    "start_time": "2023-07-03T07:33:37.054Z"
   },
   {
    "duration": 11,
    "start_time": "2023-07-03T07:33:37.076Z"
   },
   {
    "duration": 22,
    "start_time": "2023-07-03T07:33:37.093Z"
   },
   {
    "duration": 13,
    "start_time": "2023-07-03T07:33:37.117Z"
   },
   {
    "duration": 4,
    "start_time": "2023-07-03T07:33:37.131Z"
   },
   {
    "duration": 8,
    "start_time": "2023-07-03T07:33:37.136Z"
   },
   {
    "duration": 19,
    "start_time": "2023-07-03T07:33:37.145Z"
   },
   {
    "duration": 38,
    "start_time": "2023-07-03T07:33:37.165Z"
   },
   {
    "duration": 27,
    "start_time": "2023-07-03T07:33:37.205Z"
   },
   {
    "duration": 1305,
    "start_time": "2023-07-03T07:33:37.234Z"
   },
   {
    "duration": 6,
    "start_time": "2023-07-03T07:33:38.540Z"
   },
   {
    "duration": 115,
    "start_time": "2023-07-03T07:33:38.547Z"
   },
   {
    "duration": 11,
    "start_time": "2023-07-03T07:33:38.664Z"
   },
   {
    "duration": 24,
    "start_time": "2023-07-03T07:33:38.677Z"
   },
   {
    "duration": 5,
    "start_time": "2023-07-03T07:33:38.702Z"
   },
   {
    "duration": 5,
    "start_time": "2023-07-03T07:33:38.709Z"
   },
   {
    "duration": 5,
    "start_time": "2023-07-03T07:33:38.716Z"
   },
   {
    "duration": 176,
    "start_time": "2023-07-03T07:33:38.723Z"
   },
   {
    "duration": 39126,
    "start_time": "2023-07-03T07:33:38.901Z"
   },
   {
    "duration": 0,
    "start_time": "2023-07-03T07:34:18.030Z"
   },
   {
    "duration": 0,
    "start_time": "2023-07-03T07:34:18.031Z"
   },
   {
    "duration": 0,
    "start_time": "2023-07-03T07:34:18.032Z"
   },
   {
    "duration": 0,
    "start_time": "2023-07-03T07:34:18.033Z"
   },
   {
    "duration": 0,
    "start_time": "2023-07-03T07:34:18.034Z"
   },
   {
    "duration": 0,
    "start_time": "2023-07-03T07:34:18.036Z"
   },
   {
    "duration": 0,
    "start_time": "2023-07-03T07:34:18.037Z"
   },
   {
    "duration": 0,
    "start_time": "2023-07-03T07:34:18.038Z"
   },
   {
    "duration": 0,
    "start_time": "2023-07-03T07:34:18.040Z"
   },
   {
    "duration": 0,
    "start_time": "2023-07-03T07:34:18.042Z"
   },
   {
    "duration": 0,
    "start_time": "2023-07-03T07:34:18.043Z"
   },
   {
    "duration": 0,
    "start_time": "2023-07-03T07:34:18.045Z"
   },
   {
    "duration": 0,
    "start_time": "2023-07-03T07:34:18.046Z"
   },
   {
    "duration": 0,
    "start_time": "2023-07-03T07:34:18.075Z"
   },
   {
    "duration": 0,
    "start_time": "2023-07-03T07:34:18.077Z"
   },
   {
    "duration": 0,
    "start_time": "2023-07-03T07:34:18.078Z"
   },
   {
    "duration": 0,
    "start_time": "2023-07-03T07:34:18.079Z"
   },
   {
    "duration": 0,
    "start_time": "2023-07-03T07:34:18.081Z"
   },
   {
    "duration": 0,
    "start_time": "2023-07-03T07:34:18.083Z"
   },
   {
    "duration": 0,
    "start_time": "2023-07-03T07:34:18.084Z"
   },
   {
    "duration": 0,
    "start_time": "2023-07-03T07:34:18.086Z"
   },
   {
    "duration": 2205,
    "start_time": "2023-07-03T07:34:33.624Z"
   },
   {
    "duration": 2174,
    "start_time": "2023-07-03T07:34:35.832Z"
   },
   {
    "duration": 4,
    "start_time": "2023-07-03T07:34:38.008Z"
   },
   {
    "duration": 138,
    "start_time": "2023-07-03T07:34:38.014Z"
   },
   {
    "duration": 106,
    "start_time": "2023-07-03T07:34:38.153Z"
   },
   {
    "duration": 17,
    "start_time": "2023-07-03T07:34:38.261Z"
   },
   {
    "duration": 43,
    "start_time": "2023-07-03T07:34:38.280Z"
   },
   {
    "duration": 4,
    "start_time": "2023-07-03T07:34:38.325Z"
   },
   {
    "duration": 264,
    "start_time": "2023-07-03T07:34:38.330Z"
   },
   {
    "duration": 9,
    "start_time": "2023-07-03T07:34:38.599Z"
   },
   {
    "duration": 5,
    "start_time": "2023-07-03T07:34:38.610Z"
   },
   {
    "duration": 9,
    "start_time": "2023-07-03T07:34:38.616Z"
   },
   {
    "duration": 20,
    "start_time": "2023-07-03T07:34:38.626Z"
   },
   {
    "duration": 14,
    "start_time": "2023-07-03T07:34:38.648Z"
   },
   {
    "duration": 4,
    "start_time": "2023-07-03T07:34:38.663Z"
   },
   {
    "duration": 9,
    "start_time": "2023-07-03T07:34:38.668Z"
   },
   {
    "duration": 16,
    "start_time": "2023-07-03T07:34:38.679Z"
   },
   {
    "duration": 21,
    "start_time": "2023-07-03T07:34:38.696Z"
   },
   {
    "duration": 10,
    "start_time": "2023-07-03T07:34:38.718Z"
   },
   {
    "duration": 10,
    "start_time": "2023-07-03T07:34:38.730Z"
   },
   {
    "duration": 13,
    "start_time": "2023-07-03T07:34:38.742Z"
   },
   {
    "duration": 9,
    "start_time": "2023-07-03T07:34:38.756Z"
   },
   {
    "duration": 5,
    "start_time": "2023-07-03T07:34:38.767Z"
   },
   {
    "duration": 9,
    "start_time": "2023-07-03T07:34:38.773Z"
   },
   {
    "duration": 9,
    "start_time": "2023-07-03T07:34:38.784Z"
   },
   {
    "duration": 19,
    "start_time": "2023-07-03T07:34:38.795Z"
   },
   {
    "duration": 4,
    "start_time": "2023-07-03T07:34:38.815Z"
   },
   {
    "duration": 4,
    "start_time": "2023-07-03T07:34:38.822Z"
   },
   {
    "duration": 10,
    "start_time": "2023-07-03T07:34:38.827Z"
   },
   {
    "duration": 3,
    "start_time": "2023-07-03T07:34:38.838Z"
   },
   {
    "duration": 11,
    "start_time": "2023-07-03T07:34:38.843Z"
   },
   {
    "duration": 9,
    "start_time": "2023-07-03T07:34:38.855Z"
   },
   {
    "duration": 37,
    "start_time": "2023-07-03T07:34:38.865Z"
   },
   {
    "duration": 22,
    "start_time": "2023-07-03T07:34:38.904Z"
   },
   {
    "duration": 1588,
    "start_time": "2023-07-03T07:34:38.928Z"
   },
   {
    "duration": 59,
    "start_time": "2023-07-03T07:34:40.517Z"
   },
   {
    "duration": 109,
    "start_time": "2023-07-03T07:34:40.579Z"
   },
   {
    "duration": 3,
    "start_time": "2023-07-03T07:34:40.689Z"
   },
   {
    "duration": 19,
    "start_time": "2023-07-03T07:34:40.693Z"
   },
   {
    "duration": 5,
    "start_time": "2023-07-03T07:34:40.714Z"
   },
   {
    "duration": 5,
    "start_time": "2023-07-03T07:34:40.720Z"
   },
   {
    "duration": 8,
    "start_time": "2023-07-03T07:34:40.727Z"
   },
   {
    "duration": 183,
    "start_time": "2023-07-03T07:34:40.737Z"
   },
   {
    "duration": 83363,
    "start_time": "2023-07-03T07:34:40.922Z"
   },
   {
    "duration": 499,
    "start_time": "2023-07-03T07:36:04.287Z"
   },
   {
    "duration": 92,
    "start_time": "2023-07-03T07:36:04.787Z"
   },
   {
    "duration": 783,
    "start_time": "2023-07-03T07:36:04.881Z"
   },
   {
    "duration": 16,
    "start_time": "2023-07-03T07:36:05.666Z"
   },
   {
    "duration": 32,
    "start_time": "2023-07-03T07:36:05.684Z"
   },
   {
    "duration": 40,
    "start_time": "2023-07-03T07:36:05.718Z"
   },
   {
    "duration": 767,
    "start_time": "2023-07-03T07:36:05.760Z"
   },
   {
    "duration": 57,
    "start_time": "2023-07-03T07:36:06.529Z"
   },
   {
    "duration": 101,
    "start_time": "2023-07-03T07:36:06.588Z"
   },
   {
    "duration": 87,
    "start_time": "2023-07-03T07:36:06.691Z"
   },
   {
    "duration": 210,
    "start_time": "2023-07-03T07:36:06.780Z"
   },
   {
    "duration": 19,
    "start_time": "2023-07-03T07:36:06.993Z"
   },
   {
    "duration": 129,
    "start_time": "2023-07-03T07:36:07.076Z"
   },
   {
    "duration": 513,
    "start_time": "2023-07-03T07:36:07.207Z"
   },
   {
    "duration": 20,
    "start_time": "2023-07-03T07:36:07.721Z"
   },
   {
    "duration": 960,
    "start_time": "2023-07-03T07:36:07.742Z"
   },
   {
    "duration": 6,
    "start_time": "2023-07-03T07:36:08.704Z"
   },
   {
    "duration": 723,
    "start_time": "2023-07-03T07:36:08.712Z"
   },
   {
    "duration": 56,
    "start_time": "2023-07-03T07:36:09.436Z"
   },
   {
    "duration": 197,
    "start_time": "2023-07-03T07:36:09.493Z"
   },
   {
    "duration": 7,
    "start_time": "2023-07-03T07:36:09.692Z"
   },
   {
    "duration": 167,
    "start_time": "2023-07-03T07:43:18.309Z"
   },
   {
    "duration": 2655,
    "start_time": "2023-07-03T07:43:37.755Z"
   },
   {
    "duration": 1219,
    "start_time": "2023-07-03T07:43:40.412Z"
   },
   {
    "duration": 4,
    "start_time": "2023-07-03T07:43:41.633Z"
   },
   {
    "duration": 162,
    "start_time": "2023-07-03T07:43:41.639Z"
   },
   {
    "duration": 101,
    "start_time": "2023-07-03T07:43:41.803Z"
   },
   {
    "duration": 12,
    "start_time": "2023-07-03T07:43:41.906Z"
   },
   {
    "duration": 22,
    "start_time": "2023-07-03T07:43:41.919Z"
   },
   {
    "duration": 7,
    "start_time": "2023-07-03T07:43:41.942Z"
   },
   {
    "duration": 277,
    "start_time": "2023-07-03T07:43:41.951Z"
   },
   {
    "duration": 7,
    "start_time": "2023-07-03T07:43:42.231Z"
   },
   {
    "duration": 6,
    "start_time": "2023-07-03T07:43:42.240Z"
   },
   {
    "duration": 11,
    "start_time": "2023-07-03T07:43:42.247Z"
   },
   {
    "duration": 35,
    "start_time": "2023-07-03T07:43:42.259Z"
   },
   {
    "duration": 16,
    "start_time": "2023-07-03T07:43:42.296Z"
   },
   {
    "duration": 5,
    "start_time": "2023-07-03T07:43:42.313Z"
   },
   {
    "duration": 12,
    "start_time": "2023-07-03T07:43:42.319Z"
   },
   {
    "duration": 7,
    "start_time": "2023-07-03T07:43:42.332Z"
   },
   {
    "duration": 46,
    "start_time": "2023-07-03T07:43:42.341Z"
   },
   {
    "duration": 23,
    "start_time": "2023-07-03T07:43:42.389Z"
   },
   {
    "duration": 10,
    "start_time": "2023-07-03T07:43:42.414Z"
   },
   {
    "duration": 55,
    "start_time": "2023-07-03T07:43:42.426Z"
   },
   {
    "duration": 18,
    "start_time": "2023-07-03T07:43:42.482Z"
   },
   {
    "duration": 7,
    "start_time": "2023-07-03T07:43:42.501Z"
   },
   {
    "duration": 8,
    "start_time": "2023-07-03T07:43:42.509Z"
   },
   {
    "duration": 9,
    "start_time": "2023-07-03T07:43:42.518Z"
   },
   {
    "duration": 10,
    "start_time": "2023-07-03T07:43:42.528Z"
   },
   {
    "duration": 4,
    "start_time": "2023-07-03T07:43:42.540Z"
   },
   {
    "duration": 10,
    "start_time": "2023-07-03T07:43:42.547Z"
   },
   {
    "duration": 13,
    "start_time": "2023-07-03T07:43:42.558Z"
   },
   {
    "duration": 16,
    "start_time": "2023-07-03T07:43:42.573Z"
   },
   {
    "duration": 8,
    "start_time": "2023-07-03T07:43:42.591Z"
   },
   {
    "duration": 21,
    "start_time": "2023-07-03T07:43:42.601Z"
   },
   {
    "duration": 49,
    "start_time": "2023-07-03T07:43:42.623Z"
   },
   {
    "duration": 34,
    "start_time": "2023-07-03T07:43:42.674Z"
   },
   {
    "duration": 1328,
    "start_time": "2023-07-03T07:43:42.711Z"
   },
   {
    "duration": 5,
    "start_time": "2023-07-03T07:43:44.040Z"
   },
   {
    "duration": 120,
    "start_time": "2023-07-03T07:43:44.046Z"
   },
   {
    "duration": 8,
    "start_time": "2023-07-03T07:43:44.168Z"
   },
   {
    "duration": 24,
    "start_time": "2023-07-03T07:43:44.178Z"
   },
   {
    "duration": 9,
    "start_time": "2023-07-03T07:43:44.203Z"
   },
   {
    "duration": 10,
    "start_time": "2023-07-03T07:43:44.213Z"
   },
   {
    "duration": 6,
    "start_time": "2023-07-03T07:43:44.224Z"
   },
   {
    "duration": 169,
    "start_time": "2023-07-03T07:43:44.231Z"
   },
   {
    "duration": 88314,
    "start_time": "2023-07-03T07:43:44.402Z"
   },
   {
    "duration": 60,
    "start_time": "2023-07-03T07:45:12.718Z"
   },
   {
    "duration": 775,
    "start_time": "2023-07-03T07:45:12.781Z"
   },
   {
    "duration": 6,
    "start_time": "2023-07-03T07:45:13.558Z"
   },
   {
    "duration": 18,
    "start_time": "2023-07-03T07:45:13.574Z"
   },
   {
    "duration": 51,
    "start_time": "2023-07-03T07:45:13.594Z"
   },
   {
    "duration": 754,
    "start_time": "2023-07-03T07:45:13.647Z"
   },
   {
    "duration": 73,
    "start_time": "2023-07-03T07:45:14.403Z"
   },
   {
    "duration": 102,
    "start_time": "2023-07-03T07:45:14.480Z"
   },
   {
    "duration": 39,
    "start_time": "2023-07-03T07:45:14.584Z"
   },
   {
    "duration": 219,
    "start_time": "2023-07-03T07:45:14.624Z"
   },
   {
    "duration": 31,
    "start_time": "2023-07-03T07:45:14.845Z"
   },
   {
    "duration": 134,
    "start_time": "2023-07-03T07:45:14.878Z"
   },
   {
    "duration": 585,
    "start_time": "2023-07-03T07:45:15.014Z"
   },
   {
    "duration": 175,
    "start_time": "2023-07-03T07:45:15.602Z"
   },
   {
    "duration": 981,
    "start_time": "2023-07-03T07:45:15.780Z"
   },
   {
    "duration": 15,
    "start_time": "2023-07-03T07:45:16.763Z"
   },
   {
    "duration": 764,
    "start_time": "2023-07-03T07:45:16.780Z"
   },
   {
    "duration": 54,
    "start_time": "2023-07-03T07:45:17.546Z"
   },
   {
    "duration": 211,
    "start_time": "2023-07-03T07:45:17.602Z"
   },
   {
    "duration": 8,
    "start_time": "2023-07-03T07:45:17.815Z"
   },
   {
    "duration": 2326,
    "start_time": "2023-07-03T07:53:09.798Z"
   },
   {
    "duration": 1183,
    "start_time": "2023-07-03T07:53:12.127Z"
   },
   {
    "duration": 4,
    "start_time": "2023-07-03T07:53:13.311Z"
   },
   {
    "duration": 131,
    "start_time": "2023-07-03T07:53:13.316Z"
   },
   {
    "duration": 114,
    "start_time": "2023-07-03T07:53:13.449Z"
   },
   {
    "duration": 12,
    "start_time": "2023-07-03T07:53:13.565Z"
   },
   {
    "duration": 31,
    "start_time": "2023-07-03T07:53:13.579Z"
   },
   {
    "duration": 5,
    "start_time": "2023-07-03T07:53:13.611Z"
   },
   {
    "duration": 278,
    "start_time": "2023-07-03T07:53:13.617Z"
   },
   {
    "duration": 11,
    "start_time": "2023-07-03T07:53:13.896Z"
   },
   {
    "duration": 14,
    "start_time": "2023-07-03T07:53:13.909Z"
   },
   {
    "duration": 16,
    "start_time": "2023-07-03T07:53:13.925Z"
   },
   {
    "duration": 32,
    "start_time": "2023-07-03T07:53:13.943Z"
   },
   {
    "duration": 22,
    "start_time": "2023-07-03T07:53:13.978Z"
   },
   {
    "duration": 5,
    "start_time": "2023-07-03T07:53:14.002Z"
   },
   {
    "duration": 7,
    "start_time": "2023-07-03T07:53:14.009Z"
   },
   {
    "duration": 11,
    "start_time": "2023-07-03T07:53:14.017Z"
   },
   {
    "duration": 21,
    "start_time": "2023-07-03T07:53:14.029Z"
   },
   {
    "duration": 8,
    "start_time": "2023-07-03T07:53:14.075Z"
   },
   {
    "duration": 16,
    "start_time": "2023-07-03T07:53:14.085Z"
   },
   {
    "duration": 17,
    "start_time": "2023-07-03T07:53:14.102Z"
   },
   {
    "duration": 7,
    "start_time": "2023-07-03T07:53:14.120Z"
   },
   {
    "duration": 13,
    "start_time": "2023-07-03T07:53:14.128Z"
   },
   {
    "duration": 9,
    "start_time": "2023-07-03T07:53:14.143Z"
   },
   {
    "duration": 11,
    "start_time": "2023-07-03T07:53:14.154Z"
   },
   {
    "duration": 12,
    "start_time": "2023-07-03T07:53:14.166Z"
   },
   {
    "duration": 19,
    "start_time": "2023-07-03T07:53:14.180Z"
   },
   {
    "duration": 13,
    "start_time": "2023-07-03T07:53:14.200Z"
   },
   {
    "duration": 11,
    "start_time": "2023-07-03T07:53:14.215Z"
   },
   {
    "duration": 11,
    "start_time": "2023-07-03T07:53:14.228Z"
   },
   {
    "duration": 13,
    "start_time": "2023-07-03T07:53:14.240Z"
   },
   {
    "duration": 15,
    "start_time": "2023-07-03T07:53:14.255Z"
   },
   {
    "duration": 46,
    "start_time": "2023-07-03T07:53:14.271Z"
   },
   {
    "duration": 22,
    "start_time": "2023-07-03T07:53:14.318Z"
   },
   {
    "duration": 1281,
    "start_time": "2023-07-03T07:53:14.341Z"
   },
   {
    "duration": 5,
    "start_time": "2023-07-03T07:53:15.624Z"
   },
   {
    "duration": 115,
    "start_time": "2023-07-03T07:53:15.631Z"
   },
   {
    "duration": 2,
    "start_time": "2023-07-03T07:53:15.748Z"
   },
   {
    "duration": 15,
    "start_time": "2023-07-03T07:53:15.751Z"
   },
   {
    "duration": 11,
    "start_time": "2023-07-03T07:53:15.768Z"
   },
   {
    "duration": 6,
    "start_time": "2023-07-03T07:53:15.784Z"
   },
   {
    "duration": 5,
    "start_time": "2023-07-03T07:53:15.792Z"
   },
   {
    "duration": 161,
    "start_time": "2023-07-03T07:53:15.799Z"
   },
   {
    "duration": 129786,
    "start_time": "2023-07-03T07:53:15.962Z"
   },
   {
    "duration": 35,
    "start_time": "2023-07-03T07:55:25.750Z"
   },
   {
    "duration": 921,
    "start_time": "2023-07-03T07:55:25.787Z"
   },
   {
    "duration": 6,
    "start_time": "2023-07-03T07:55:26.709Z"
   },
   {
    "duration": 12,
    "start_time": "2023-07-03T07:55:26.716Z"
   },
   {
    "duration": 58,
    "start_time": "2023-07-03T07:55:26.730Z"
   },
   {
    "duration": 760,
    "start_time": "2023-07-03T07:55:26.789Z"
   },
   {
    "duration": 46,
    "start_time": "2023-07-03T07:55:27.551Z"
   },
   {
    "duration": 179,
    "start_time": "2023-07-03T07:55:27.600Z"
   },
   {
    "duration": 34,
    "start_time": "2023-07-03T07:55:27.781Z"
   },
   {
    "duration": 194,
    "start_time": "2023-07-03T07:55:27.817Z"
   },
   {
    "duration": 62,
    "start_time": "2023-07-03T07:55:28.013Z"
   },
   {
    "duration": 131,
    "start_time": "2023-07-03T07:55:28.078Z"
   },
   {
    "duration": 541,
    "start_time": "2023-07-03T07:55:28.210Z"
   },
   {
    "duration": 44,
    "start_time": "2023-07-03T07:55:28.753Z"
   },
   {
    "duration": 1053,
    "start_time": "2023-07-03T07:55:28.799Z"
   },
   {
    "duration": 6,
    "start_time": "2023-07-03T07:55:29.854Z"
   },
   {
    "duration": 806,
    "start_time": "2023-07-03T07:55:29.861Z"
   },
   {
    "duration": 52,
    "start_time": "2023-07-03T07:55:30.669Z"
   },
   {
    "duration": 199,
    "start_time": "2023-07-03T07:55:30.723Z"
   },
   {
    "duration": 6,
    "start_time": "2023-07-03T07:55:30.924Z"
   },
   {
    "duration": 2163,
    "start_time": "2023-07-03T08:18:30.749Z"
   },
   {
    "duration": 1210,
    "start_time": "2023-07-03T08:18:32.915Z"
   },
   {
    "duration": 4,
    "start_time": "2023-07-03T08:18:34.127Z"
   },
   {
    "duration": 122,
    "start_time": "2023-07-03T08:18:34.133Z"
   },
   {
    "duration": 104,
    "start_time": "2023-07-03T08:18:34.256Z"
   },
   {
    "duration": 29,
    "start_time": "2023-07-03T08:18:34.362Z"
   },
   {
    "duration": 16,
    "start_time": "2023-07-03T08:18:34.392Z"
   },
   {
    "duration": 7,
    "start_time": "2023-07-03T08:18:34.409Z"
   },
   {
    "duration": 271,
    "start_time": "2023-07-03T08:18:34.417Z"
   },
   {
    "duration": 9,
    "start_time": "2023-07-03T08:18:34.692Z"
   },
   {
    "duration": 3,
    "start_time": "2023-07-03T08:18:34.703Z"
   },
   {
    "duration": 11,
    "start_time": "2023-07-03T08:18:34.708Z"
   },
   {
    "duration": 33,
    "start_time": "2023-07-03T08:18:34.721Z"
   },
   {
    "duration": 34,
    "start_time": "2023-07-03T08:18:34.756Z"
   },
   {
    "duration": 5,
    "start_time": "2023-07-03T08:18:34.791Z"
   },
   {
    "duration": 12,
    "start_time": "2023-07-03T08:18:34.797Z"
   },
   {
    "duration": 12,
    "start_time": "2023-07-03T08:18:34.811Z"
   },
   {
    "duration": 25,
    "start_time": "2023-07-03T08:18:34.824Z"
   },
   {
    "duration": 7,
    "start_time": "2023-07-03T08:18:34.851Z"
   },
   {
    "duration": 5,
    "start_time": "2023-07-03T08:18:34.875Z"
   },
   {
    "duration": 28,
    "start_time": "2023-07-03T08:18:34.881Z"
   },
   {
    "duration": 5,
    "start_time": "2023-07-03T08:18:34.910Z"
   },
   {
    "duration": 6,
    "start_time": "2023-07-03T08:18:34.917Z"
   },
   {
    "duration": 6,
    "start_time": "2023-07-03T08:18:34.924Z"
   },
   {
    "duration": 7,
    "start_time": "2023-07-03T08:18:34.932Z"
   },
   {
    "duration": 10,
    "start_time": "2023-07-03T08:18:34.940Z"
   },
   {
    "duration": 5,
    "start_time": "2023-07-03T08:18:34.951Z"
   },
   {
    "duration": 17,
    "start_time": "2023-07-03T08:18:34.959Z"
   },
   {
    "duration": 12,
    "start_time": "2023-07-03T08:18:34.977Z"
   },
   {
    "duration": 9,
    "start_time": "2023-07-03T08:18:34.991Z"
   },
   {
    "duration": 24,
    "start_time": "2023-07-03T08:18:35.001Z"
   },
   {
    "duration": 7,
    "start_time": "2023-07-03T08:18:35.026Z"
   },
   {
    "duration": 32,
    "start_time": "2023-07-03T08:18:35.035Z"
   },
   {
    "duration": 30,
    "start_time": "2023-07-03T08:18:35.068Z"
   },
   {
    "duration": 1262,
    "start_time": "2023-07-03T08:18:35.100Z"
   },
   {
    "duration": 18,
    "start_time": "2023-07-03T08:18:36.365Z"
   },
   {
    "duration": 137,
    "start_time": "2023-07-03T08:18:36.385Z"
   },
   {
    "duration": 175,
    "start_time": "2023-07-03T08:18:36.524Z"
   },
   {
    "duration": 129553,
    "start_time": "2023-07-03T08:18:36.701Z"
   },
   {
    "duration": 128,
    "start_time": "2023-07-03T08:20:46.255Z"
   },
   {
    "duration": 781,
    "start_time": "2023-07-03T08:20:46.386Z"
   },
   {
    "duration": 11,
    "start_time": "2023-07-03T08:20:47.169Z"
   },
   {
    "duration": 30,
    "start_time": "2023-07-03T08:20:47.181Z"
   },
   {
    "duration": 219,
    "start_time": "2023-07-03T08:20:47.213Z"
   },
   {
    "duration": 187978,
    "start_time": "2023-07-03T08:20:47.434Z"
   },
   {
    "duration": 65,
    "start_time": "2023-07-03T08:23:55.414Z"
   },
   {
    "duration": 95,
    "start_time": "2023-07-03T08:23:55.481Z"
   },
   {
    "duration": 156,
    "start_time": "2023-07-03T08:23:55.578Z"
   },
   {
    "duration": 80985,
    "start_time": "2023-07-03T08:23:55.736Z"
   },
   {
    "duration": 16,
    "start_time": "2023-07-03T08:25:16.725Z"
   },
   {
    "duration": 307,
    "start_time": "2023-07-03T08:25:16.790Z"
   },
   {
    "duration": 141899,
    "start_time": "2023-07-03T08:25:17.099Z"
   },
   {
    "duration": 175,
    "start_time": "2023-07-03T08:27:39.000Z"
   },
   {
    "duration": 950,
    "start_time": "2023-07-03T08:27:39.177Z"
   },
   {
    "duration": 6,
    "start_time": "2023-07-03T08:27:40.129Z"
   },
   {
    "duration": 834,
    "start_time": "2023-07-03T08:27:40.136Z"
   },
   {
    "duration": 52,
    "start_time": "2023-07-03T08:27:40.975Z"
   },
   {
    "duration": 229,
    "start_time": "2023-07-03T08:27:41.029Z"
   },
   {
    "duration": 17,
    "start_time": "2023-07-03T08:27:41.260Z"
   },
   {
    "duration": 197,
    "start_time": "2023-07-03T08:35:34.692Z"
   },
   {
    "duration": 14,
    "start_time": "2023-07-03T08:35:41.757Z"
   },
   {
    "duration": 182,
    "start_time": "2023-07-03T08:36:02.672Z"
   },
   {
    "duration": 7,
    "start_time": "2023-07-03T08:36:07.101Z"
   },
   {
    "duration": 2380,
    "start_time": "2023-07-03T09:13:08.365Z"
   },
   {
    "duration": 4947,
    "start_time": "2023-07-03T09:13:10.747Z"
   },
   {
    "duration": 1617,
    "start_time": "2023-07-03T09:13:15.697Z"
   },
   {
    "duration": 4,
    "start_time": "2023-07-03T09:13:17.316Z"
   },
   {
    "duration": 131,
    "start_time": "2023-07-03T09:13:17.321Z"
   },
   {
    "duration": 129,
    "start_time": "2023-07-03T09:13:17.454Z"
   },
   {
    "duration": 20,
    "start_time": "2023-07-03T09:13:17.584Z"
   },
   {
    "duration": 18,
    "start_time": "2023-07-03T09:13:17.605Z"
   },
   {
    "duration": 8,
    "start_time": "2023-07-03T09:13:17.625Z"
   },
   {
    "duration": 285,
    "start_time": "2023-07-03T09:13:17.636Z"
   },
   {
    "duration": 7,
    "start_time": "2023-07-03T09:13:17.923Z"
   },
   {
    "duration": 4,
    "start_time": "2023-07-03T09:13:17.931Z"
   },
   {
    "duration": 9,
    "start_time": "2023-07-03T09:13:17.936Z"
   },
   {
    "duration": 42,
    "start_time": "2023-07-03T09:13:17.947Z"
   },
   {
    "duration": 15,
    "start_time": "2023-07-03T09:13:17.991Z"
   },
   {
    "duration": 3,
    "start_time": "2023-07-03T09:13:18.008Z"
   },
   {
    "duration": 17,
    "start_time": "2023-07-03T09:13:18.013Z"
   },
   {
    "duration": 10,
    "start_time": "2023-07-03T09:13:18.031Z"
   },
   {
    "duration": 27,
    "start_time": "2023-07-03T09:13:18.042Z"
   },
   {
    "duration": 6,
    "start_time": "2023-07-03T09:13:18.070Z"
   },
   {
    "duration": 19,
    "start_time": "2023-07-03T09:13:18.078Z"
   },
   {
    "duration": 14,
    "start_time": "2023-07-03T09:13:18.098Z"
   },
   {
    "duration": 6,
    "start_time": "2023-07-03T09:13:18.114Z"
   },
   {
    "duration": 9,
    "start_time": "2023-07-03T09:13:18.122Z"
   },
   {
    "duration": 5,
    "start_time": "2023-07-03T09:13:18.132Z"
   },
   {
    "duration": 10,
    "start_time": "2023-07-03T09:13:18.138Z"
   },
   {
    "duration": 11,
    "start_time": "2023-07-03T09:13:18.149Z"
   },
   {
    "duration": 22,
    "start_time": "2023-07-03T09:13:18.164Z"
   },
   {
    "duration": 12,
    "start_time": "2023-07-03T09:13:18.188Z"
   },
   {
    "duration": 10,
    "start_time": "2023-07-03T09:13:18.201Z"
   },
   {
    "duration": 4,
    "start_time": "2023-07-03T09:13:18.212Z"
   },
   {
    "duration": 11,
    "start_time": "2023-07-03T09:13:18.217Z"
   },
   {
    "duration": 6,
    "start_time": "2023-07-03T09:13:18.230Z"
   },
   {
    "duration": 35,
    "start_time": "2023-07-03T09:13:18.237Z"
   },
   {
    "duration": 29,
    "start_time": "2023-07-03T09:13:18.273Z"
   },
   {
    "duration": 1309,
    "start_time": "2023-07-03T09:13:18.304Z"
   },
   {
    "duration": 6,
    "start_time": "2023-07-03T09:13:19.614Z"
   },
   {
    "duration": 111,
    "start_time": "2023-07-03T09:13:19.622Z"
   },
   {
    "duration": 179,
    "start_time": "2023-07-03T09:13:19.734Z"
   },
   {
    "duration": 126086,
    "start_time": "2023-07-03T09:13:19.914Z"
   },
   {
    "duration": 80,
    "start_time": "2023-07-03T09:15:26.002Z"
   },
   {
    "duration": 749,
    "start_time": "2023-07-03T09:15:26.178Z"
   },
   {
    "duration": 7,
    "start_time": "2023-07-03T09:15:26.928Z"
   },
   {
    "duration": 15,
    "start_time": "2023-07-03T09:15:26.936Z"
   },
   {
    "duration": 76,
    "start_time": "2023-07-03T09:15:26.952Z"
   },
   {
    "duration": 3,
    "start_time": "2023-07-03T09:15:27.029Z"
   },
   {
    "duration": 290,
    "start_time": "2023-07-03T09:15:27.034Z"
   },
   {
    "duration": 2,
    "start_time": "2023-07-03T09:15:27.326Z"
   },
   {
    "duration": 200210,
    "start_time": "2023-07-03T09:15:27.330Z"
   },
   {
    "duration": 2,
    "start_time": "2023-07-03T09:18:47.542Z"
   },
   {
    "duration": 48,
    "start_time": "2023-07-03T09:18:47.546Z"
   },
   {
    "duration": 88,
    "start_time": "2023-07-03T09:18:47.597Z"
   },
   {
    "duration": 212,
    "start_time": "2023-07-03T09:18:47.687Z"
   },
   {
    "duration": 0,
    "start_time": "2023-07-03T09:18:47.900Z"
   },
   {
    "duration": 0,
    "start_time": "2023-07-03T09:18:47.901Z"
   },
   {
    "duration": 0,
    "start_time": "2023-07-03T09:18:47.903Z"
   },
   {
    "duration": 0,
    "start_time": "2023-07-03T09:18:47.904Z"
   },
   {
    "duration": 0,
    "start_time": "2023-07-03T09:18:47.904Z"
   },
   {
    "duration": 0,
    "start_time": "2023-07-03T09:18:47.905Z"
   },
   {
    "duration": 0,
    "start_time": "2023-07-03T09:18:47.906Z"
   },
   {
    "duration": 0,
    "start_time": "2023-07-03T09:18:47.908Z"
   },
   {
    "duration": 0,
    "start_time": "2023-07-03T09:18:47.909Z"
   },
   {
    "duration": 0,
    "start_time": "2023-07-03T09:18:47.910Z"
   },
   {
    "duration": 0,
    "start_time": "2023-07-03T09:18:47.911Z"
   },
   {
    "duration": 0,
    "start_time": "2023-07-03T09:18:47.912Z"
   },
   {
    "duration": 0,
    "start_time": "2023-07-03T09:18:47.913Z"
   },
   {
    "duration": 0,
    "start_time": "2023-07-03T09:18:47.914Z"
   },
   {
    "duration": 0,
    "start_time": "2023-07-03T09:18:47.915Z"
   },
   {
    "duration": 11,
    "start_time": "2023-07-03T09:21:11.759Z"
   },
   {
    "duration": 2,
    "start_time": "2023-07-03T09:21:13.199Z"
   },
   {
    "duration": 101,
    "start_time": "2023-07-03T09:21:14.727Z"
   },
   {
    "duration": 2,
    "start_time": "2023-07-03T09:21:15.546Z"
   },
   {
    "duration": 2194,
    "start_time": "2023-07-03T09:22:27.369Z"
   },
   {
    "duration": 2260,
    "start_time": "2023-07-03T09:22:29.565Z"
   },
   {
    "duration": 1219,
    "start_time": "2023-07-03T09:22:31.827Z"
   },
   {
    "duration": 4,
    "start_time": "2023-07-03T09:22:33.048Z"
   },
   {
    "duration": 121,
    "start_time": "2023-07-03T09:22:33.054Z"
   },
   {
    "duration": 111,
    "start_time": "2023-07-03T09:22:33.177Z"
   },
   {
    "duration": 13,
    "start_time": "2023-07-03T09:22:33.290Z"
   },
   {
    "duration": 18,
    "start_time": "2023-07-03T09:22:33.305Z"
   },
   {
    "duration": 4,
    "start_time": "2023-07-03T09:22:33.325Z"
   },
   {
    "duration": 276,
    "start_time": "2023-07-03T09:22:33.331Z"
   },
   {
    "duration": 8,
    "start_time": "2023-07-03T09:22:33.608Z"
   },
   {
    "duration": 8,
    "start_time": "2023-07-03T09:22:33.617Z"
   },
   {
    "duration": 15,
    "start_time": "2023-07-03T09:22:33.627Z"
   },
   {
    "duration": 29,
    "start_time": "2023-07-03T09:22:33.643Z"
   },
   {
    "duration": 21,
    "start_time": "2023-07-03T09:22:33.674Z"
   },
   {
    "duration": 14,
    "start_time": "2023-07-03T09:22:33.697Z"
   },
   {
    "duration": 7,
    "start_time": "2023-07-03T09:22:33.712Z"
   },
   {
    "duration": 7,
    "start_time": "2023-07-03T09:22:33.720Z"
   },
   {
    "duration": 23,
    "start_time": "2023-07-03T09:22:33.728Z"
   },
   {
    "duration": 14,
    "start_time": "2023-07-03T09:22:33.752Z"
   },
   {
    "duration": 12,
    "start_time": "2023-07-03T09:22:33.768Z"
   },
   {
    "duration": 20,
    "start_time": "2023-07-03T09:22:33.782Z"
   },
   {
    "duration": 10,
    "start_time": "2023-07-03T09:22:33.804Z"
   },
   {
    "duration": 7,
    "start_time": "2023-07-03T09:22:33.815Z"
   },
   {
    "duration": 6,
    "start_time": "2023-07-03T09:22:33.823Z"
   },
   {
    "duration": 7,
    "start_time": "2023-07-03T09:22:33.831Z"
   },
   {
    "duration": 17,
    "start_time": "2023-07-03T09:22:33.839Z"
   },
   {
    "duration": 31,
    "start_time": "2023-07-03T09:22:33.859Z"
   },
   {
    "duration": 19,
    "start_time": "2023-07-03T09:22:33.892Z"
   },
   {
    "duration": 15,
    "start_time": "2023-07-03T09:22:33.913Z"
   },
   {
    "duration": 5,
    "start_time": "2023-07-03T09:22:33.929Z"
   },
   {
    "duration": 10,
    "start_time": "2023-07-03T09:22:33.935Z"
   },
   {
    "duration": 6,
    "start_time": "2023-07-03T09:22:33.946Z"
   },
   {
    "duration": 31,
    "start_time": "2023-07-03T09:22:33.954Z"
   },
   {
    "duration": 23,
    "start_time": "2023-07-03T09:22:33.987Z"
   },
   {
    "duration": 1303,
    "start_time": "2023-07-03T09:22:34.012Z"
   },
   {
    "duration": 6,
    "start_time": "2023-07-03T09:22:35.316Z"
   },
   {
    "duration": 124,
    "start_time": "2023-07-03T09:22:35.324Z"
   },
   {
    "duration": 185,
    "start_time": "2023-07-03T09:22:35.450Z"
   },
   {
    "duration": 126134,
    "start_time": "2023-07-03T09:22:35.644Z"
   },
   {
    "duration": 23,
    "start_time": "2023-07-03T09:24:41.780Z"
   },
   {
    "duration": 835,
    "start_time": "2023-07-03T09:24:41.805Z"
   },
   {
    "duration": 6,
    "start_time": "2023-07-03T09:24:42.642Z"
   },
   {
    "duration": 10,
    "start_time": "2023-07-03T09:24:42.650Z"
   },
   {
    "duration": 55,
    "start_time": "2023-07-03T09:24:42.661Z"
   },
   {
    "duration": 3,
    "start_time": "2023-07-03T09:24:42.718Z"
   },
   {
    "duration": 306,
    "start_time": "2023-07-03T09:24:42.723Z"
   },
   {
    "duration": 3,
    "start_time": "2023-07-03T09:24:43.030Z"
   },
   {
    "duration": 194715,
    "start_time": "2023-07-03T09:24:43.035Z"
   },
   {
    "duration": 2,
    "start_time": "2023-07-03T09:27:57.752Z"
   },
   {
    "duration": 41,
    "start_time": "2023-07-03T09:27:57.755Z"
   },
   {
    "duration": 177,
    "start_time": "2023-07-03T09:27:57.798Z"
   },
   {
    "duration": 28,
    "start_time": "2023-07-03T09:27:57.977Z"
   },
   {
    "duration": 18,
    "start_time": "2023-07-03T09:27:58.007Z"
   },
   {
    "duration": 116,
    "start_time": "2023-07-03T09:27:58.026Z"
   },
   {
    "duration": 2,
    "start_time": "2023-07-03T09:27:58.144Z"
   },
   {
    "duration": 66597,
    "start_time": "2023-07-03T09:27:58.148Z"
   },
   {
    "duration": 2,
    "start_time": "2023-07-03T09:29:04.747Z"
   },
   {
    "duration": 34,
    "start_time": "2023-07-03T09:29:04.751Z"
   },
   {
    "duration": 355,
    "start_time": "2023-07-03T09:29:04.787Z"
   },
   {
    "duration": 123326,
    "start_time": "2023-07-03T09:29:05.144Z"
   },
   {
    "duration": 23,
    "start_time": "2023-07-03T09:31:08.472Z"
   },
   {
    "duration": 286,
    "start_time": "2023-07-03T09:31:08.497Z"
   },
   {
    "duration": 0,
    "start_time": "2023-07-03T09:31:08.785Z"
   },
   {
    "duration": 0,
    "start_time": "2023-07-03T09:31:08.786Z"
   },
   {
    "duration": 0,
    "start_time": "2023-07-03T09:31:08.787Z"
   },
   {
    "duration": 0,
    "start_time": "2023-07-03T09:31:08.788Z"
   },
   {
    "duration": 0,
    "start_time": "2023-07-03T09:31:08.789Z"
   },
   {
    "duration": 2124,
    "start_time": "2023-07-03T09:37:04.002Z"
   },
   {
    "duration": 2098,
    "start_time": "2023-07-03T09:37:06.129Z"
   },
   {
    "duration": 1772,
    "start_time": "2023-07-03T09:37:08.229Z"
   },
   {
    "duration": 4,
    "start_time": "2023-07-03T09:37:10.003Z"
   },
   {
    "duration": 275,
    "start_time": "2023-07-03T09:37:10.009Z"
   },
   {
    "duration": 189,
    "start_time": "2023-07-03T09:37:10.286Z"
   },
   {
    "duration": 13,
    "start_time": "2023-07-03T09:37:10.477Z"
   },
   {
    "duration": 35,
    "start_time": "2023-07-03T09:37:10.491Z"
   },
   {
    "duration": 5,
    "start_time": "2023-07-03T09:37:10.527Z"
   },
   {
    "duration": 418,
    "start_time": "2023-07-03T09:37:10.575Z"
   },
   {
    "duration": 8,
    "start_time": "2023-07-03T09:37:10.995Z"
   },
   {
    "duration": 7,
    "start_time": "2023-07-03T09:37:11.005Z"
   },
   {
    "duration": 65,
    "start_time": "2023-07-03T09:37:11.013Z"
   },
   {
    "duration": 24,
    "start_time": "2023-07-03T09:37:11.082Z"
   },
   {
    "duration": 77,
    "start_time": "2023-07-03T09:37:11.108Z"
   },
   {
    "duration": 5,
    "start_time": "2023-07-03T09:37:11.187Z"
   },
   {
    "duration": 13,
    "start_time": "2023-07-03T09:37:11.193Z"
   },
   {
    "duration": 70,
    "start_time": "2023-07-03T09:37:11.208Z"
   },
   {
    "duration": 22,
    "start_time": "2023-07-03T09:37:11.280Z"
   },
   {
    "duration": 18,
    "start_time": "2023-07-03T09:37:11.303Z"
   },
   {
    "duration": 54,
    "start_time": "2023-07-03T09:37:11.323Z"
   },
   {
    "duration": 14,
    "start_time": "2023-07-03T09:37:11.379Z"
   },
   {
    "duration": 6,
    "start_time": "2023-07-03T09:37:11.394Z"
   },
   {
    "duration": 7,
    "start_time": "2023-07-03T09:37:11.402Z"
   },
   {
    "duration": 7,
    "start_time": "2023-07-03T09:37:11.410Z"
   },
   {
    "duration": 57,
    "start_time": "2023-07-03T09:37:11.419Z"
   },
   {
    "duration": 16,
    "start_time": "2023-07-03T09:37:11.478Z"
   },
   {
    "duration": 6,
    "start_time": "2023-07-03T09:37:11.497Z"
   },
   {
    "duration": 8,
    "start_time": "2023-07-03T09:37:11.504Z"
   },
   {
    "duration": 66,
    "start_time": "2023-07-03T09:37:11.514Z"
   },
   {
    "duration": 4,
    "start_time": "2023-07-03T09:37:11.583Z"
   },
   {
    "duration": 11,
    "start_time": "2023-07-03T09:37:11.589Z"
   },
   {
    "duration": 28,
    "start_time": "2023-07-03T09:37:11.602Z"
   },
   {
    "duration": 73,
    "start_time": "2023-07-03T09:37:11.633Z"
   },
   {
    "duration": 96,
    "start_time": "2023-07-03T09:37:11.708Z"
   },
   {
    "duration": 1784,
    "start_time": "2023-07-03T09:37:11.806Z"
   },
   {
    "duration": 6,
    "start_time": "2023-07-03T09:37:13.592Z"
   },
   {
    "duration": 112,
    "start_time": "2023-07-03T09:37:13.600Z"
   },
   {
    "duration": 168,
    "start_time": "2023-07-03T09:37:13.713Z"
   },
   {
    "duration": 123045,
    "start_time": "2023-07-03T09:37:13.883Z"
   },
   {
    "duration": 53,
    "start_time": "2023-07-03T09:39:16.930Z"
   },
   {
    "duration": 780,
    "start_time": "2023-07-03T09:39:16.985Z"
   },
   {
    "duration": 10,
    "start_time": "2023-07-03T09:39:17.767Z"
   },
   {
    "duration": 2,
    "start_time": "2023-07-03T09:39:17.779Z"
   },
   {
    "duration": 15,
    "start_time": "2023-07-03T09:39:17.783Z"
   },
   {
    "duration": 9,
    "start_time": "2023-07-03T09:39:17.800Z"
   },
   {
    "duration": 16,
    "start_time": "2023-07-03T09:39:17.810Z"
   },
   {
    "duration": 14,
    "start_time": "2023-07-03T09:39:17.827Z"
   },
   {
    "duration": 22,
    "start_time": "2023-07-03T09:39:17.842Z"
   },
   {
    "duration": 12,
    "start_time": "2023-07-03T09:39:17.865Z"
   },
   {
    "duration": 108,
    "start_time": "2023-07-03T09:39:17.878Z"
   },
   {
    "duration": 3,
    "start_time": "2023-07-03T09:39:17.987Z"
   },
   {
    "duration": 70121,
    "start_time": "2023-07-03T09:39:17.991Z"
   },
   {
    "duration": 2,
    "start_time": "2023-07-03T09:40:28.114Z"
   },
   {
    "duration": 67,
    "start_time": "2023-07-03T09:40:28.117Z"
   },
   {
    "duration": 35,
    "start_time": "2023-07-03T09:40:28.276Z"
   },
   {
    "duration": 298,
    "start_time": "2023-07-03T09:40:28.313Z"
   },
   {
    "duration": 22856,
    "start_time": "2023-07-03T09:40:28.613Z"
   },
   {
    "duration": 0,
    "start_time": "2023-07-03T09:40:51.475Z"
   },
   {
    "duration": 0,
    "start_time": "2023-07-03T09:40:51.477Z"
   },
   {
    "duration": 0,
    "start_time": "2023-07-03T09:40:51.478Z"
   },
   {
    "duration": 0,
    "start_time": "2023-07-03T09:40:51.480Z"
   },
   {
    "duration": 0,
    "start_time": "2023-07-03T09:40:51.481Z"
   },
   {
    "duration": 0,
    "start_time": "2023-07-03T09:40:51.482Z"
   },
   {
    "duration": 0,
    "start_time": "2023-07-03T09:40:51.484Z"
   },
   {
    "duration": 0,
    "start_time": "2023-07-03T09:40:51.486Z"
   },
   {
    "duration": 0,
    "start_time": "2023-07-03T09:40:51.487Z"
   },
   {
    "duration": 0,
    "start_time": "2023-07-03T09:40:51.489Z"
   },
   {
    "duration": 0,
    "start_time": "2023-07-03T09:40:51.490Z"
   },
   {
    "duration": 2212,
    "start_time": "2023-07-03T09:43:02.086Z"
   },
   {
    "duration": 2196,
    "start_time": "2023-07-03T09:43:04.301Z"
   },
   {
    "duration": 1236,
    "start_time": "2023-07-03T09:43:06.500Z"
   },
   {
    "duration": 4,
    "start_time": "2023-07-03T09:43:07.738Z"
   },
   {
    "duration": 138,
    "start_time": "2023-07-03T09:43:07.744Z"
   },
   {
    "duration": 102,
    "start_time": "2023-07-03T09:43:07.884Z"
   },
   {
    "duration": 12,
    "start_time": "2023-07-03T09:43:07.988Z"
   },
   {
    "duration": 28,
    "start_time": "2023-07-03T09:43:08.002Z"
   },
   {
    "duration": 4,
    "start_time": "2023-07-03T09:43:08.032Z"
   },
   {
    "duration": 264,
    "start_time": "2023-07-03T09:43:08.038Z"
   },
   {
    "duration": 8,
    "start_time": "2023-07-03T09:43:08.304Z"
   },
   {
    "duration": 9,
    "start_time": "2023-07-03T09:43:08.313Z"
   },
   {
    "duration": 20,
    "start_time": "2023-07-03T09:43:08.324Z"
   },
   {
    "duration": 39,
    "start_time": "2023-07-03T09:43:08.346Z"
   },
   {
    "duration": 16,
    "start_time": "2023-07-03T09:43:08.387Z"
   },
   {
    "duration": 23,
    "start_time": "2023-07-03T09:43:08.404Z"
   },
   {
    "duration": 39,
    "start_time": "2023-07-03T09:43:08.429Z"
   },
   {
    "duration": 13,
    "start_time": "2023-07-03T09:43:08.469Z"
   },
   {
    "duration": 36,
    "start_time": "2023-07-03T09:43:08.483Z"
   },
   {
    "duration": 5,
    "start_time": "2023-07-03T09:43:08.521Z"
   },
   {
    "duration": 17,
    "start_time": "2023-07-03T09:43:08.528Z"
   },
   {
    "duration": 25,
    "start_time": "2023-07-03T09:43:08.547Z"
   },
   {
    "duration": 9,
    "start_time": "2023-07-03T09:43:08.574Z"
   },
   {
    "duration": 7,
    "start_time": "2023-07-03T09:43:08.585Z"
   },
   {
    "duration": 25,
    "start_time": "2023-07-03T09:43:08.593Z"
   },
   {
    "duration": 7,
    "start_time": "2023-07-03T09:43:08.619Z"
   },
   {
    "duration": 27,
    "start_time": "2023-07-03T09:43:08.628Z"
   },
   {
    "duration": 10,
    "start_time": "2023-07-03T09:43:08.656Z"
   },
   {
    "duration": 24,
    "start_time": "2023-07-03T09:43:08.667Z"
   },
   {
    "duration": 23,
    "start_time": "2023-07-03T09:43:08.693Z"
   },
   {
    "duration": 4,
    "start_time": "2023-07-03T09:43:08.717Z"
   },
   {
    "duration": 18,
    "start_time": "2023-07-03T09:43:08.723Z"
   },
   {
    "duration": 9,
    "start_time": "2023-07-03T09:43:08.743Z"
   },
   {
    "duration": 30,
    "start_time": "2023-07-03T09:43:08.754Z"
   },
   {
    "duration": 24,
    "start_time": "2023-07-03T09:43:08.785Z"
   },
   {
    "duration": 1264,
    "start_time": "2023-07-03T09:43:08.811Z"
   },
   {
    "duration": 6,
    "start_time": "2023-07-03T09:43:10.077Z"
   },
   {
    "duration": 113,
    "start_time": "2023-07-03T09:43:10.085Z"
   },
   {
    "duration": 220,
    "start_time": "2023-07-03T09:43:10.199Z"
   },
   {
    "duration": 119794,
    "start_time": "2023-07-03T09:43:10.421Z"
   },
   {
    "duration": 20,
    "start_time": "2023-07-03T09:45:10.219Z"
   },
   {
    "duration": 753,
    "start_time": "2023-07-03T09:45:10.240Z"
   },
   {
    "duration": 6,
    "start_time": "2023-07-03T09:45:10.995Z"
   },
   {
    "duration": 24,
    "start_time": "2023-07-03T09:45:11.002Z"
   },
   {
    "duration": 247,
    "start_time": "2023-07-03T09:45:11.028Z"
   },
   {
    "duration": 164916,
    "start_time": "2023-07-03T09:45:11.277Z"
   },
   {
    "duration": 86,
    "start_time": "2023-07-03T09:47:56.195Z"
   },
   {
    "duration": 96,
    "start_time": "2023-07-03T09:47:56.284Z"
   },
   {
    "duration": 164,
    "start_time": "2023-07-03T09:47:56.382Z"
   },
   {
    "duration": 68620,
    "start_time": "2023-07-03T09:47:56.548Z"
   },
   {
    "duration": 24,
    "start_time": "2023-07-03T09:49:05.174Z"
   },
   {
    "duration": 208,
    "start_time": "2023-07-03T09:49:05.202Z"
   },
   {
    "duration": 295,
    "start_time": "2023-07-03T09:49:05.412Z"
   },
   {
    "duration": 4002,
    "start_time": "2023-07-03T09:52:22.067Z"
   },
   {
    "duration": 2382,
    "start_time": "2023-07-03T09:52:26.071Z"
   },
   {
    "duration": 1416,
    "start_time": "2023-07-03T09:52:28.455Z"
   },
   {
    "duration": 9,
    "start_time": "2023-07-03T09:52:29.876Z"
   },
   {
    "duration": 138,
    "start_time": "2023-07-03T09:52:29.889Z"
   },
   {
    "duration": 112,
    "start_time": "2023-07-03T09:52:30.028Z"
   },
   {
    "duration": 14,
    "start_time": "2023-07-03T09:52:30.142Z"
   },
   {
    "duration": 45,
    "start_time": "2023-07-03T09:52:30.158Z"
   },
   {
    "duration": 21,
    "start_time": "2023-07-03T09:52:30.204Z"
   },
   {
    "duration": 316,
    "start_time": "2023-07-03T09:52:30.227Z"
   },
   {
    "duration": 9,
    "start_time": "2023-07-03T09:52:30.545Z"
   },
   {
    "duration": 42,
    "start_time": "2023-07-03T09:52:30.555Z"
   },
   {
    "duration": 69,
    "start_time": "2023-07-03T09:52:30.599Z"
   },
   {
    "duration": 54,
    "start_time": "2023-07-03T09:52:30.671Z"
   },
   {
    "duration": 29,
    "start_time": "2023-07-03T09:52:30.727Z"
   },
   {
    "duration": 55,
    "start_time": "2023-07-03T09:52:30.758Z"
   },
   {
    "duration": 44,
    "start_time": "2023-07-03T09:52:30.815Z"
   },
   {
    "duration": 48,
    "start_time": "2023-07-03T09:52:30.861Z"
   },
   {
    "duration": 84,
    "start_time": "2023-07-03T09:52:30.911Z"
   },
   {
    "duration": 52,
    "start_time": "2023-07-03T09:52:30.996Z"
   },
   {
    "duration": 34,
    "start_time": "2023-07-03T09:52:31.049Z"
   },
   {
    "duration": 60,
    "start_time": "2023-07-03T09:52:31.085Z"
   },
   {
    "duration": 27,
    "start_time": "2023-07-03T09:52:31.147Z"
   },
   {
    "duration": 42,
    "start_time": "2023-07-03T09:52:31.176Z"
   },
   {
    "duration": 29,
    "start_time": "2023-07-03T09:52:31.220Z"
   },
   {
    "duration": 46,
    "start_time": "2023-07-03T09:52:31.251Z"
   },
   {
    "duration": 50,
    "start_time": "2023-07-03T09:52:31.299Z"
   },
   {
    "duration": 41,
    "start_time": "2023-07-03T09:52:31.351Z"
   },
   {
    "duration": 18,
    "start_time": "2023-07-03T09:52:31.393Z"
   },
   {
    "duration": 40,
    "start_time": "2023-07-03T09:52:31.413Z"
   },
   {
    "duration": 54,
    "start_time": "2023-07-03T09:52:31.455Z"
   },
   {
    "duration": 30,
    "start_time": "2023-07-03T09:52:31.511Z"
   },
   {
    "duration": 30,
    "start_time": "2023-07-03T09:52:31.543Z"
   },
   {
    "duration": 60,
    "start_time": "2023-07-03T09:52:31.575Z"
   },
   {
    "duration": 33,
    "start_time": "2023-07-03T09:52:31.637Z"
   },
   {
    "duration": 1387,
    "start_time": "2023-07-03T09:52:31.671Z"
   },
   {
    "duration": 6,
    "start_time": "2023-07-03T09:52:33.060Z"
   },
   {
    "duration": 102,
    "start_time": "2023-07-03T09:52:33.079Z"
   },
   {
    "duration": 181,
    "start_time": "2023-07-03T09:52:33.184Z"
   },
   {
    "duration": 126273,
    "start_time": "2023-07-03T09:52:33.366Z"
   },
   {
    "duration": 41,
    "start_time": "2023-07-03T09:54:39.643Z"
   },
   {
    "duration": 799,
    "start_time": "2023-07-03T09:54:39.687Z"
   },
   {
    "duration": 9,
    "start_time": "2023-07-03T09:54:40.489Z"
   },
   {
    "duration": 29,
    "start_time": "2023-07-03T09:54:40.500Z"
   },
   {
    "duration": 228,
    "start_time": "2023-07-03T09:54:40.530Z"
   },
   {
    "duration": 178151,
    "start_time": "2023-07-03T09:54:40.759Z"
   },
   {
    "duration": 26,
    "start_time": "2023-07-03T09:57:38.912Z"
   },
   {
    "duration": 96,
    "start_time": "2023-07-03T09:57:38.981Z"
   },
   {
    "duration": 133,
    "start_time": "2023-07-03T09:57:39.080Z"
   },
   {
    "duration": 72581,
    "start_time": "2023-07-03T09:57:39.215Z"
   },
   {
    "duration": 15,
    "start_time": "2023-07-03T09:58:51.797Z"
   },
   {
    "duration": 3,
    "start_time": "2023-07-03T09:58:51.876Z"
   },
   {
    "duration": 115,
    "start_time": "2023-07-03T09:58:51.881Z"
   },
   {
    "duration": 9,
    "start_time": "2023-07-03T09:58:51.997Z"
   },
   {
    "duration": 11,
    "start_time": "2023-07-03T09:58:52.007Z"
   },
   {
    "duration": 6,
    "start_time": "2023-07-03T09:58:52.020Z"
   },
   {
    "duration": 7,
    "start_time": "2023-07-03T09:58:52.028Z"
   },
   {
    "duration": 8,
    "start_time": "2023-07-03T09:58:52.036Z"
   },
   {
    "duration": 18,
    "start_time": "2023-07-03T09:58:52.045Z"
   },
   {
    "duration": 199,
    "start_time": "2023-07-03T09:58:52.065Z"
   },
   {
    "duration": 130402,
    "start_time": "2023-07-03T09:58:52.265Z"
   },
   {
    "duration": 116,
    "start_time": "2023-07-03T10:01:02.668Z"
   },
   {
    "duration": 1161,
    "start_time": "2023-07-03T10:01:02.788Z"
   },
   {
    "duration": 8,
    "start_time": "2023-07-03T10:01:03.951Z"
   },
   {
    "duration": 223,
    "start_time": "2023-07-03T10:01:03.960Z"
   },
   {
    "duration": 19,
    "start_time": "2023-07-03T10:01:04.185Z"
   },
   {
    "duration": 197,
    "start_time": "2023-07-03T10:01:04.206Z"
   },
   {
    "duration": 8,
    "start_time": "2023-07-03T10:01:04.405Z"
   },
   {
    "duration": 3,
    "start_time": "2023-07-03T10:01:04.414Z"
   },
   {
    "duration": 441,
    "start_time": "2023-07-03T10:02:45.901Z"
   },
   {
    "duration": 8,
    "start_time": "2023-07-03T10:02:50.245Z"
   },
   {
    "duration": 86,
    "start_time": "2023-07-03T10:07:29.609Z"
   },
   {
    "duration": 84,
    "start_time": "2023-07-03T10:10:29.924Z"
   },
   {
    "duration": 218,
    "start_time": "2023-07-03T10:10:54.661Z"
   },
   {
    "duration": 6,
    "start_time": "2023-07-03T10:10:58.139Z"
   },
   {
    "duration": 2580,
    "start_time": "2023-07-03T10:11:52.172Z"
   },
   {
    "duration": 3696,
    "start_time": "2023-07-03T10:11:54.755Z"
   },
   {
    "duration": 1465,
    "start_time": "2023-07-03T10:11:58.453Z"
   },
   {
    "duration": 3,
    "start_time": "2023-07-03T10:11:59.920Z"
   },
   {
    "duration": 164,
    "start_time": "2023-07-03T10:11:59.925Z"
   },
   {
    "duration": 119,
    "start_time": "2023-07-03T10:12:00.092Z"
   },
   {
    "duration": 16,
    "start_time": "2023-07-03T10:12:00.213Z"
   },
   {
    "duration": 70,
    "start_time": "2023-07-03T10:12:00.231Z"
   },
   {
    "duration": 32,
    "start_time": "2023-07-03T10:12:00.303Z"
   },
   {
    "duration": 306,
    "start_time": "2023-07-03T10:12:00.337Z"
   },
   {
    "duration": 9,
    "start_time": "2023-07-03T10:12:00.644Z"
   },
   {
    "duration": 47,
    "start_time": "2023-07-03T10:12:00.654Z"
   },
   {
    "duration": 108,
    "start_time": "2023-07-03T10:12:00.703Z"
   },
   {
    "duration": 60,
    "start_time": "2023-07-03T10:12:00.813Z"
   },
   {
    "duration": 47,
    "start_time": "2023-07-03T10:12:00.874Z"
   },
   {
    "duration": 35,
    "start_time": "2023-07-03T10:12:00.923Z"
   },
   {
    "duration": 74,
    "start_time": "2023-07-03T10:12:00.959Z"
   },
   {
    "duration": 32,
    "start_time": "2023-07-03T10:12:01.035Z"
   },
   {
    "duration": 79,
    "start_time": "2023-07-03T10:12:01.069Z"
   },
   {
    "duration": 48,
    "start_time": "2023-07-03T10:12:01.149Z"
   },
   {
    "duration": 72,
    "start_time": "2023-07-03T10:12:01.199Z"
   },
   {
    "duration": 63,
    "start_time": "2023-07-03T10:12:01.273Z"
   },
   {
    "duration": 48,
    "start_time": "2023-07-03T10:12:01.339Z"
   },
   {
    "duration": 32,
    "start_time": "2023-07-03T10:12:01.389Z"
   },
   {
    "duration": 36,
    "start_time": "2023-07-03T10:12:01.423Z"
   },
   {
    "duration": 46,
    "start_time": "2023-07-03T10:12:01.461Z"
   },
   {
    "duration": 63,
    "start_time": "2023-07-03T10:12:01.509Z"
   },
   {
    "duration": 69,
    "start_time": "2023-07-03T10:12:01.577Z"
   },
   {
    "duration": 62,
    "start_time": "2023-07-03T10:12:01.648Z"
   },
   {
    "duration": 51,
    "start_time": "2023-07-03T10:12:01.712Z"
   },
   {
    "duration": 86,
    "start_time": "2023-07-03T10:12:01.765Z"
   },
   {
    "duration": 61,
    "start_time": "2023-07-03T10:12:01.853Z"
   },
   {
    "duration": 48,
    "start_time": "2023-07-03T10:12:01.915Z"
   },
   {
    "duration": 70,
    "start_time": "2023-07-03T10:12:01.965Z"
   },
   {
    "duration": 34,
    "start_time": "2023-07-03T10:12:02.037Z"
   },
   {
    "duration": 1447,
    "start_time": "2023-07-03T10:12:02.072Z"
   },
   {
    "duration": 5,
    "start_time": "2023-07-03T10:12:03.521Z"
   },
   {
    "duration": 114,
    "start_time": "2023-07-03T10:12:03.528Z"
   },
   {
    "duration": 178,
    "start_time": "2023-07-03T10:12:03.644Z"
   },
   {
    "duration": 128817,
    "start_time": "2023-07-03T10:12:03.824Z"
   },
   {
    "duration": 40,
    "start_time": "2023-07-03T10:14:12.643Z"
   },
   {
    "duration": 821,
    "start_time": "2023-07-03T10:14:12.686Z"
   },
   {
    "duration": 7,
    "start_time": "2023-07-03T10:14:13.508Z"
   },
   {
    "duration": 19,
    "start_time": "2023-07-03T10:14:13.516Z"
   },
   {
    "duration": 232,
    "start_time": "2023-07-03T10:14:13.536Z"
   },
   {
    "duration": 182217,
    "start_time": "2023-07-03T10:14:13.769Z"
   },
   {
    "duration": 111,
    "start_time": "2023-07-03T10:17:15.988Z"
   },
   {
    "duration": 93,
    "start_time": "2023-07-03T10:17:16.102Z"
   },
   {
    "duration": 129,
    "start_time": "2023-07-03T10:17:16.198Z"
   },
   {
    "duration": 72633,
    "start_time": "2023-07-03T10:17:16.329Z"
   },
   {
    "duration": 33,
    "start_time": "2023-07-03T10:18:28.964Z"
   },
   {
    "duration": 5,
    "start_time": "2023-07-03T10:18:28.999Z"
   },
   {
    "duration": 97,
    "start_time": "2023-07-03T10:18:29.006Z"
   },
   {
    "duration": 22,
    "start_time": "2023-07-03T10:18:29.175Z"
   },
   {
    "duration": 9,
    "start_time": "2023-07-03T10:18:29.199Z"
   },
   {
    "duration": 14,
    "start_time": "2023-07-03T10:18:29.210Z"
   },
   {
    "duration": 10,
    "start_time": "2023-07-03T10:18:29.226Z"
   },
   {
    "duration": 11,
    "start_time": "2023-07-03T10:18:29.237Z"
   },
   {
    "duration": 6,
    "start_time": "2023-07-03T10:18:29.249Z"
   },
   {
    "duration": 192,
    "start_time": "2023-07-03T10:18:29.257Z"
   },
   {
    "duration": 130727,
    "start_time": "2023-07-03T10:18:29.451Z"
   },
   {
    "duration": 108,
    "start_time": "2023-07-03T10:20:40.180Z"
   },
   {
    "duration": 453,
    "start_time": "2023-07-03T10:20:40.293Z"
   },
   {
    "duration": 10,
    "start_time": "2023-07-03T10:20:40.748Z"
   },
   {
    "duration": 98,
    "start_time": "2023-07-03T10:20:40.759Z"
   },
   {
    "duration": 244,
    "start_time": "2023-07-03T10:20:40.859Z"
   },
   {
    "duration": 7,
    "start_time": "2023-07-03T10:20:41.105Z"
   },
   {
    "duration": 40,
    "start_time": "2023-07-03T10:20:41.113Z"
   },
   {
    "duration": 6,
    "start_time": "2023-07-03T10:21:15.194Z"
   },
   {
    "duration": 10,
    "start_time": "2023-07-03T10:22:41.248Z"
   },
   {
    "duration": 10,
    "start_time": "2023-07-03T10:22:52.951Z"
   },
   {
    "duration": 11,
    "start_time": "2023-07-03T10:23:25.336Z"
   },
   {
    "duration": 13,
    "start_time": "2023-07-03T10:23:45.767Z"
   },
   {
    "duration": 2485,
    "start_time": "2023-07-03T10:27:19.665Z"
   },
   {
    "duration": 2953,
    "start_time": "2023-07-03T10:27:22.152Z"
   },
   {
    "duration": 1455,
    "start_time": "2023-07-03T10:27:25.107Z"
   },
   {
    "duration": 4,
    "start_time": "2023-07-03T10:27:26.565Z"
   },
   {
    "duration": 152,
    "start_time": "2023-07-03T10:27:26.574Z"
   },
   {
    "duration": 122,
    "start_time": "2023-07-03T10:27:26.728Z"
   },
   {
    "duration": 13,
    "start_time": "2023-07-03T10:27:26.852Z"
   },
   {
    "duration": 24,
    "start_time": "2023-07-03T10:27:26.875Z"
   },
   {
    "duration": 7,
    "start_time": "2023-07-03T10:27:26.901Z"
   },
   {
    "duration": 312,
    "start_time": "2023-07-03T10:27:26.910Z"
   },
   {
    "duration": 12,
    "start_time": "2023-07-03T10:27:27.224Z"
   },
   {
    "duration": 7,
    "start_time": "2023-07-03T10:27:27.238Z"
   },
   {
    "duration": 14,
    "start_time": "2023-07-03T10:27:27.247Z"
   },
   {
    "duration": 52,
    "start_time": "2023-07-03T10:27:27.263Z"
   },
   {
    "duration": 48,
    "start_time": "2023-07-03T10:27:27.317Z"
   },
   {
    "duration": 5,
    "start_time": "2023-07-03T10:27:27.366Z"
   },
   {
    "duration": 32,
    "start_time": "2023-07-03T10:27:27.373Z"
   },
   {
    "duration": 6,
    "start_time": "2023-07-03T10:27:27.406Z"
   },
   {
    "duration": 34,
    "start_time": "2023-07-03T10:27:27.413Z"
   },
   {
    "duration": 9,
    "start_time": "2023-07-03T10:27:27.448Z"
   },
   {
    "duration": 11,
    "start_time": "2023-07-03T10:27:27.459Z"
   },
   {
    "duration": 27,
    "start_time": "2023-07-03T10:27:27.472Z"
   },
   {
    "duration": 7,
    "start_time": "2023-07-03T10:27:27.501Z"
   },
   {
    "duration": 19,
    "start_time": "2023-07-03T10:27:27.510Z"
   },
   {
    "duration": 16,
    "start_time": "2023-07-03T10:27:27.531Z"
   },
   {
    "duration": 9,
    "start_time": "2023-07-03T10:27:27.549Z"
   },
   {
    "duration": 16,
    "start_time": "2023-07-03T10:27:27.560Z"
   },
   {
    "duration": 16,
    "start_time": "2023-07-03T10:27:27.582Z"
   },
   {
    "duration": 8,
    "start_time": "2023-07-03T10:27:27.600Z"
   },
   {
    "duration": 28,
    "start_time": "2023-07-03T10:27:27.610Z"
   },
   {
    "duration": 12,
    "start_time": "2023-07-03T10:27:27.640Z"
   },
   {
    "duration": 8,
    "start_time": "2023-07-03T10:27:27.653Z"
   },
   {
    "duration": 6,
    "start_time": "2023-07-03T10:27:27.662Z"
   },
   {
    "duration": 50,
    "start_time": "2023-07-03T10:27:27.670Z"
   },
   {
    "duration": 28,
    "start_time": "2023-07-03T10:27:27.721Z"
   },
   {
    "duration": 1378,
    "start_time": "2023-07-03T10:27:27.751Z"
   },
   {
    "duration": 5,
    "start_time": "2023-07-03T10:27:29.131Z"
   },
   {
    "duration": 140,
    "start_time": "2023-07-03T10:27:29.137Z"
   },
   {
    "duration": 176,
    "start_time": "2023-07-03T10:27:29.283Z"
   },
   {
    "duration": 131235,
    "start_time": "2023-07-03T10:27:29.462Z"
   },
   {
    "duration": 23,
    "start_time": "2023-07-03T10:29:40.699Z"
   },
   {
    "duration": 795,
    "start_time": "2023-07-03T10:29:40.777Z"
   },
   {
    "duration": 7,
    "start_time": "2023-07-03T10:29:41.574Z"
   },
   {
    "duration": 28,
    "start_time": "2023-07-03T10:29:41.582Z"
   },
   {
    "duration": 234,
    "start_time": "2023-07-03T10:29:41.612Z"
   },
   {
    "duration": 177398,
    "start_time": "2023-07-03T10:29:41.848Z"
   },
   {
    "duration": 42,
    "start_time": "2023-07-03T10:32:39.248Z"
   },
   {
    "duration": 106,
    "start_time": "2023-07-03T10:32:39.374Z"
   },
   {
    "duration": 102,
    "start_time": "2023-07-03T10:32:39.482Z"
   },
   {
    "duration": 70084,
    "start_time": "2023-07-03T10:32:39.587Z"
   },
   {
    "duration": 14,
    "start_time": "2023-07-03T10:33:49.675Z"
   },
   {
    "duration": 86,
    "start_time": "2023-07-03T10:33:49.691Z"
   },
   {
    "duration": 97,
    "start_time": "2023-07-03T10:33:49.779Z"
   },
   {
    "duration": 9,
    "start_time": "2023-07-03T10:33:49.878Z"
   },
   {
    "duration": 9,
    "start_time": "2023-07-03T10:33:49.889Z"
   },
   {
    "duration": 5,
    "start_time": "2023-07-03T10:33:49.900Z"
   },
   {
    "duration": 7,
    "start_time": "2023-07-03T10:33:49.906Z"
   },
   {
    "duration": 9,
    "start_time": "2023-07-03T10:33:49.914Z"
   },
   {
    "duration": 7,
    "start_time": "2023-07-03T10:33:49.924Z"
   },
   {
    "duration": 177,
    "start_time": "2023-07-03T10:33:49.933Z"
   },
   {
    "duration": 124171,
    "start_time": "2023-07-03T10:33:50.112Z"
   },
   {
    "duration": 191,
    "start_time": "2023-07-03T10:35:54.285Z"
   },
   {
    "duration": 489,
    "start_time": "2023-07-03T10:35:54.479Z"
   },
   {
    "duration": 10,
    "start_time": "2023-07-03T10:35:54.970Z"
   },
   {
    "duration": 97,
    "start_time": "2023-07-03T10:35:54.982Z"
   },
   {
    "duration": 7,
    "start_time": "2023-07-03T10:35:55.081Z"
   },
   {
    "duration": 291,
    "start_time": "2023-07-03T10:35:55.090Z"
   },
   {
    "duration": 10,
    "start_time": "2023-07-03T10:35:55.383Z"
   },
   {
    "duration": 41,
    "start_time": "2023-07-03T10:35:55.395Z"
   },
   {
    "duration": 3395,
    "start_time": "2023-07-03T10:37:19.004Z"
   },
   {
    "duration": 3300,
    "start_time": "2023-07-03T10:37:22.402Z"
   },
   {
    "duration": 1424,
    "start_time": "2023-07-03T10:37:25.704Z"
   },
   {
    "duration": 5,
    "start_time": "2023-07-03T10:37:27.130Z"
   },
   {
    "duration": 181,
    "start_time": "2023-07-03T10:37:27.137Z"
   },
   {
    "duration": 127,
    "start_time": "2023-07-03T10:37:27.320Z"
   },
   {
    "duration": 32,
    "start_time": "2023-07-03T10:37:27.449Z"
   },
   {
    "duration": 33,
    "start_time": "2023-07-03T10:37:27.483Z"
   },
   {
    "duration": 11,
    "start_time": "2023-07-03T10:37:27.518Z"
   },
   {
    "duration": 278,
    "start_time": "2023-07-03T10:37:27.533Z"
   },
   {
    "duration": 10,
    "start_time": "2023-07-03T10:37:27.814Z"
   },
   {
    "duration": 11,
    "start_time": "2023-07-03T10:37:27.826Z"
   },
   {
    "duration": 14,
    "start_time": "2023-07-03T10:37:27.839Z"
   },
   {
    "duration": 42,
    "start_time": "2023-07-03T10:37:27.855Z"
   },
   {
    "duration": 25,
    "start_time": "2023-07-03T10:37:27.900Z"
   },
   {
    "duration": 6,
    "start_time": "2023-07-03T10:37:27.927Z"
   },
   {
    "duration": 11,
    "start_time": "2023-07-03T10:37:27.935Z"
   },
   {
    "duration": 35,
    "start_time": "2023-07-03T10:37:27.948Z"
   },
   {
    "duration": 47,
    "start_time": "2023-07-03T10:37:27.985Z"
   },
   {
    "duration": 6,
    "start_time": "2023-07-03T10:37:28.034Z"
   },
   {
    "duration": 9,
    "start_time": "2023-07-03T10:37:28.042Z"
   },
   {
    "duration": 23,
    "start_time": "2023-07-03T10:37:28.052Z"
   },
   {
    "duration": 6,
    "start_time": "2023-07-03T10:37:28.078Z"
   },
   {
    "duration": 12,
    "start_time": "2023-07-03T10:37:28.086Z"
   },
   {
    "duration": 6,
    "start_time": "2023-07-03T10:37:28.101Z"
   },
   {
    "duration": 14,
    "start_time": "2023-07-03T10:37:28.108Z"
   },
   {
    "duration": 16,
    "start_time": "2023-07-03T10:37:28.125Z"
   },
   {
    "duration": 3,
    "start_time": "2023-07-03T10:37:28.145Z"
   },
   {
    "duration": 55,
    "start_time": "2023-07-03T10:37:28.150Z"
   },
   {
    "duration": 28,
    "start_time": "2023-07-03T10:37:28.208Z"
   },
   {
    "duration": 5,
    "start_time": "2023-07-03T10:37:28.239Z"
   },
   {
    "duration": 9,
    "start_time": "2023-07-03T10:37:28.246Z"
   },
   {
    "duration": 10,
    "start_time": "2023-07-03T10:37:28.257Z"
   },
   {
    "duration": 49,
    "start_time": "2023-07-03T10:37:28.269Z"
   },
   {
    "duration": 38,
    "start_time": "2023-07-03T10:37:28.320Z"
   },
   {
    "duration": 1408,
    "start_time": "2023-07-03T10:37:28.359Z"
   },
   {
    "duration": 10,
    "start_time": "2023-07-03T10:37:29.769Z"
   },
   {
    "duration": 171,
    "start_time": "2023-07-03T10:37:29.781Z"
   },
   {
    "duration": 195,
    "start_time": "2023-07-03T10:37:29.954Z"
   },
   {
    "duration": 3,
    "start_time": "2023-07-03T10:37:30.152Z"
   },
   {
    "duration": 74,
    "start_time": "2023-07-03T10:37:30.158Z"
   },
   {
    "duration": 829,
    "start_time": "2023-07-03T10:37:30.234Z"
   },
   {
    "duration": 16,
    "start_time": "2023-07-03T10:37:31.065Z"
   },
   {
    "duration": 124,
    "start_time": "2023-07-03T10:37:31.082Z"
   },
   {
    "duration": 317,
    "start_time": "2023-07-03T10:37:31.208Z"
   },
   {
    "duration": 3,
    "start_time": "2023-07-03T10:37:31.528Z"
   },
   {
    "duration": 171,
    "start_time": "2023-07-03T10:37:31.533Z"
   },
   {
    "duration": 132,
    "start_time": "2023-07-03T10:37:31.778Z"
   },
   {
    "duration": 136,
    "start_time": "2023-07-03T10:37:31.912Z"
   },
   {
    "duration": 2,
    "start_time": "2023-07-03T10:37:32.050Z"
   },
   {
    "duration": 65,
    "start_time": "2023-07-03T10:37:32.054Z"
   },
   {
    "duration": 155,
    "start_time": "2023-07-03T10:37:32.122Z"
   },
   {
    "duration": 57,
    "start_time": "2023-07-03T10:37:32.279Z"
   },
   {
    "duration": 21,
    "start_time": "2023-07-03T10:37:32.338Z"
   },
   {
    "duration": 247,
    "start_time": "2023-07-03T10:37:32.362Z"
   },
   {
    "duration": 36,
    "start_time": "2023-07-03T10:37:32.612Z"
   },
   {
    "duration": 24,
    "start_time": "2023-07-03T10:37:32.650Z"
   },
   {
    "duration": 69,
    "start_time": "2023-07-03T10:37:32.676Z"
   },
   {
    "duration": 67,
    "start_time": "2023-07-03T10:37:32.748Z"
   },
   {
    "duration": 205,
    "start_time": "2023-07-03T10:37:32.818Z"
   },
   {
    "duration": 3,
    "start_time": "2023-07-03T10:37:33.025Z"
   },
   {
    "duration": 50,
    "start_time": "2023-07-03T10:37:33.031Z"
   },
   {
    "duration": 485,
    "start_time": "2023-07-03T10:37:33.096Z"
   },
   {
    "duration": 9,
    "start_time": "2023-07-03T10:37:33.583Z"
   },
   {
    "duration": 238,
    "start_time": "2023-07-03T10:37:33.595Z"
   },
   {
    "duration": 22,
    "start_time": "2023-07-03T10:37:33.835Z"
   },
   {
    "duration": 15,
    "start_time": "2023-07-03T10:37:33.859Z"
   },
   {
    "duration": 32,
    "start_time": "2023-07-03T10:37:33.876Z"
   },
   {
    "duration": 118,
    "start_time": "2023-07-03T10:37:33.911Z"
   },
   {
    "duration": 0,
    "start_time": "2023-07-03T10:37:34.032Z"
   },
   {
    "duration": 0,
    "start_time": "2023-07-03T10:37:34.033Z"
   },
   {
    "duration": 230,
    "start_time": "2023-07-03T10:38:04.346Z"
   },
   {
    "duration": 8,
    "start_time": "2023-07-03T10:38:05.762Z"
   },
   {
    "duration": 8,
    "start_time": "2023-07-03T10:38:09.881Z"
   },
   {
    "duration": 3528,
    "start_time": "2023-07-03T10:38:34.350Z"
   },
   {
    "duration": 3915,
    "start_time": "2023-07-03T10:38:37.881Z"
   },
   {
    "duration": 1464,
    "start_time": "2023-07-03T10:38:41.798Z"
   },
   {
    "duration": 3,
    "start_time": "2023-07-03T10:38:43.267Z"
   },
   {
    "duration": 163,
    "start_time": "2023-07-03T10:38:43.275Z"
   },
   {
    "duration": 144,
    "start_time": "2023-07-03T10:38:43.439Z"
   },
   {
    "duration": 14,
    "start_time": "2023-07-03T10:38:43.584Z"
   },
   {
    "duration": 39,
    "start_time": "2023-07-03T10:38:43.601Z"
   },
   {
    "duration": 12,
    "start_time": "2023-07-03T10:38:43.642Z"
   },
   {
    "duration": 306,
    "start_time": "2023-07-03T10:38:43.657Z"
   },
   {
    "duration": 20,
    "start_time": "2023-07-03T10:38:43.965Z"
   },
   {
    "duration": 5,
    "start_time": "2023-07-03T10:38:43.987Z"
   },
   {
    "duration": 20,
    "start_time": "2023-07-03T10:38:43.995Z"
   },
   {
    "duration": 47,
    "start_time": "2023-07-03T10:38:44.017Z"
   },
   {
    "duration": 17,
    "start_time": "2023-07-03T10:38:44.066Z"
   },
   {
    "duration": 4,
    "start_time": "2023-07-03T10:38:44.085Z"
   },
   {
    "duration": 13,
    "start_time": "2023-07-03T10:38:44.091Z"
   },
   {
    "duration": 9,
    "start_time": "2023-07-03T10:38:44.106Z"
   },
   {
    "duration": 36,
    "start_time": "2023-07-03T10:38:44.117Z"
   },
   {
    "duration": 6,
    "start_time": "2023-07-03T10:38:44.176Z"
   },
   {
    "duration": 10,
    "start_time": "2023-07-03T10:38:44.184Z"
   },
   {
    "duration": 29,
    "start_time": "2023-07-03T10:38:44.196Z"
   },
   {
    "duration": 11,
    "start_time": "2023-07-03T10:38:44.227Z"
   },
   {
    "duration": 10,
    "start_time": "2023-07-03T10:38:44.240Z"
   },
   {
    "duration": 26,
    "start_time": "2023-07-03T10:38:44.252Z"
   },
   {
    "duration": 17,
    "start_time": "2023-07-03T10:38:44.280Z"
   },
   {
    "duration": 29,
    "start_time": "2023-07-03T10:38:44.300Z"
   },
   {
    "duration": 6,
    "start_time": "2023-07-03T10:38:44.335Z"
   },
   {
    "duration": 11,
    "start_time": "2023-07-03T10:38:44.343Z"
   },
   {
    "duration": 14,
    "start_time": "2023-07-03T10:38:44.356Z"
   },
   {
    "duration": 6,
    "start_time": "2023-07-03T10:38:44.376Z"
   },
   {
    "duration": 11,
    "start_time": "2023-07-03T10:38:44.384Z"
   },
   {
    "duration": 20,
    "start_time": "2023-07-03T10:38:44.397Z"
   },
   {
    "duration": 49,
    "start_time": "2023-07-03T10:38:44.420Z"
   },
   {
    "duration": 34,
    "start_time": "2023-07-03T10:38:44.471Z"
   },
   {
    "duration": 1469,
    "start_time": "2023-07-03T10:38:44.507Z"
   },
   {
    "duration": 6,
    "start_time": "2023-07-03T10:38:45.978Z"
   },
   {
    "duration": 158,
    "start_time": "2023-07-03T10:38:45.986Z"
   },
   {
    "duration": 185,
    "start_time": "2023-07-03T10:38:46.146Z"
   },
   {
    "duration": 3,
    "start_time": "2023-07-03T10:38:46.335Z"
   },
   {
    "duration": 163,
    "start_time": "2023-07-03T10:38:46.340Z"
   },
   {
    "duration": 842,
    "start_time": "2023-07-03T10:38:46.505Z"
   },
   {
    "duration": 8,
    "start_time": "2023-07-03T10:38:47.350Z"
   },
   {
    "duration": 30,
    "start_time": "2023-07-03T10:38:47.361Z"
   },
   {
    "duration": 284,
    "start_time": "2023-07-03T10:38:47.393Z"
   },
   {
    "duration": 4,
    "start_time": "2023-07-03T10:38:47.679Z"
   },
   {
    "duration": 190,
    "start_time": "2023-07-03T10:38:47.685Z"
   },
   {
    "duration": 11,
    "start_time": "2023-07-03T10:38:47.878Z"
   },
   {
    "duration": 119,
    "start_time": "2023-07-03T10:38:47.892Z"
   },
   {
    "duration": 3,
    "start_time": "2023-07-03T10:38:48.013Z"
   },
   {
    "duration": 68,
    "start_time": "2023-07-03T10:38:48.017Z"
   },
   {
    "duration": 4,
    "start_time": "2023-07-03T10:38:48.087Z"
   },
   {
    "duration": 92,
    "start_time": "2023-07-03T10:38:48.093Z"
   },
   {
    "duration": 12,
    "start_time": "2023-07-03T10:38:48.188Z"
   },
   {
    "duration": 6,
    "start_time": "2023-07-03T10:38:48.202Z"
   },
   {
    "duration": 5,
    "start_time": "2023-07-03T10:38:48.210Z"
   },
   {
    "duration": 12,
    "start_time": "2023-07-03T10:38:48.217Z"
   },
   {
    "duration": 8,
    "start_time": "2023-07-03T10:38:48.231Z"
   },
   {
    "duration": 38,
    "start_time": "2023-07-03T10:38:48.241Z"
   },
   {
    "duration": 239,
    "start_time": "2023-07-03T10:38:48.282Z"
   },
   {
    "duration": 4,
    "start_time": "2023-07-03T10:38:48.523Z"
   },
   {
    "duration": 53,
    "start_time": "2023-07-03T10:38:48.529Z"
   },
   {
    "duration": 562,
    "start_time": "2023-07-03T10:38:48.585Z"
   },
   {
    "duration": 11,
    "start_time": "2023-07-03T10:38:49.149Z"
   },
   {
    "duration": 239,
    "start_time": "2023-07-03T10:38:49.174Z"
   },
   {
    "duration": 16,
    "start_time": "2023-07-03T10:38:49.415Z"
   },
   {
    "duration": 3,
    "start_time": "2023-07-03T10:38:49.434Z"
   },
   {
    "duration": 18,
    "start_time": "2023-07-03T10:38:49.438Z"
   },
   {
    "duration": 220,
    "start_time": "2023-07-03T10:38:49.458Z"
   },
   {
    "duration": 7,
    "start_time": "2023-07-03T10:38:49.680Z"
   },
   {
    "duration": 10,
    "start_time": "2023-07-03T10:38:49.689Z"
   },
   {
    "duration": 9,
    "start_time": "2023-07-03T10:39:46.612Z"
   },
   {
    "duration": 2459,
    "start_time": "2023-07-03T10:42:55.197Z"
   },
   {
    "duration": 2387,
    "start_time": "2023-07-03T10:42:57.659Z"
   },
   {
    "duration": 1394,
    "start_time": "2023-07-03T10:43:00.048Z"
   },
   {
    "duration": 3,
    "start_time": "2023-07-03T10:43:01.445Z"
   },
   {
    "duration": 183,
    "start_time": "2023-07-03T10:43:01.450Z"
   },
   {
    "duration": 113,
    "start_time": "2023-07-03T10:43:01.635Z"
   },
   {
    "duration": 15,
    "start_time": "2023-07-03T10:43:01.750Z"
   },
   {
    "duration": 52,
    "start_time": "2023-07-03T10:43:01.775Z"
   },
   {
    "duration": 15,
    "start_time": "2023-07-03T10:43:01.829Z"
   },
   {
    "duration": 300,
    "start_time": "2023-07-03T10:43:01.848Z"
   },
   {
    "duration": 9,
    "start_time": "2023-07-03T10:43:02.150Z"
   },
   {
    "duration": 50,
    "start_time": "2023-07-03T10:43:02.161Z"
   },
   {
    "duration": 31,
    "start_time": "2023-07-03T10:43:02.213Z"
   },
   {
    "duration": 54,
    "start_time": "2023-07-03T10:43:02.246Z"
   },
   {
    "duration": 32,
    "start_time": "2023-07-03T10:43:02.302Z"
   },
   {
    "duration": 10,
    "start_time": "2023-07-03T10:43:02.336Z"
   },
   {
    "duration": 43,
    "start_time": "2023-07-03T10:43:02.348Z"
   },
   {
    "duration": 82,
    "start_time": "2023-07-03T10:43:02.393Z"
   },
   {
    "duration": 67,
    "start_time": "2023-07-03T10:43:02.477Z"
   },
   {
    "duration": 90,
    "start_time": "2023-07-03T10:43:02.546Z"
   },
   {
    "duration": 17,
    "start_time": "2023-07-03T10:43:02.637Z"
   },
   {
    "duration": 21,
    "start_time": "2023-07-03T10:43:02.655Z"
   },
   {
    "duration": 7,
    "start_time": "2023-07-03T10:43:02.678Z"
   },
   {
    "duration": 6,
    "start_time": "2023-07-03T10:43:02.687Z"
   },
   {
    "duration": 27,
    "start_time": "2023-07-03T10:43:02.695Z"
   },
   {
    "duration": 14,
    "start_time": "2023-07-03T10:43:02.724Z"
   },
   {
    "duration": 18,
    "start_time": "2023-07-03T10:43:02.740Z"
   },
   {
    "duration": 10,
    "start_time": "2023-07-03T10:43:02.764Z"
   },
   {
    "duration": 16,
    "start_time": "2023-07-03T10:43:02.776Z"
   },
   {
    "duration": 19,
    "start_time": "2023-07-03T10:43:02.794Z"
   },
   {
    "duration": 26,
    "start_time": "2023-07-03T10:43:02.815Z"
   },
   {
    "duration": 8,
    "start_time": "2023-07-03T10:43:02.843Z"
   },
   {
    "duration": 20,
    "start_time": "2023-07-03T10:43:02.853Z"
   },
   {
    "duration": 53,
    "start_time": "2023-07-03T10:43:02.875Z"
   },
   {
    "duration": 36,
    "start_time": "2023-07-03T10:43:02.930Z"
   },
   {
    "duration": 1435,
    "start_time": "2023-07-03T10:43:02.968Z"
   },
   {
    "duration": 7,
    "start_time": "2023-07-03T10:43:04.404Z"
   },
   {
    "duration": 117,
    "start_time": "2023-07-03T10:43:04.412Z"
   },
   {
    "duration": 193,
    "start_time": "2023-07-03T10:43:04.531Z"
   },
   {
    "duration": 3,
    "start_time": "2023-07-03T10:43:04.726Z"
   },
   {
    "duration": 53,
    "start_time": "2023-07-03T10:43:04.731Z"
   },
   {
    "duration": 804,
    "start_time": "2023-07-03T10:43:04.790Z"
   },
   {
    "duration": 7,
    "start_time": "2023-07-03T10:43:05.596Z"
   },
   {
    "duration": 26,
    "start_time": "2023-07-03T10:43:05.605Z"
   },
   {
    "duration": 234,
    "start_time": "2023-07-03T10:43:05.634Z"
   },
   {
    "duration": 2275,
    "start_time": "2023-07-03T10:44:27.502Z"
   },
   {
    "duration": 3287,
    "start_time": "2023-07-03T10:44:29.780Z"
   },
   {
    "duration": 1349,
    "start_time": "2023-07-03T10:44:33.069Z"
   },
   {
    "duration": 5,
    "start_time": "2023-07-03T10:44:34.420Z"
   },
   {
    "duration": 172,
    "start_time": "2023-07-03T10:44:34.427Z"
   },
   {
    "duration": 121,
    "start_time": "2023-07-03T10:44:34.601Z"
   },
   {
    "duration": 20,
    "start_time": "2023-07-03T10:44:34.724Z"
   },
   {
    "duration": 32,
    "start_time": "2023-07-03T10:44:34.746Z"
   },
   {
    "duration": 17,
    "start_time": "2023-07-03T10:44:34.779Z"
   },
   {
    "duration": 277,
    "start_time": "2023-07-03T10:44:34.799Z"
   },
   {
    "duration": 9,
    "start_time": "2023-07-03T10:44:35.078Z"
   },
   {
    "duration": 45,
    "start_time": "2023-07-03T10:44:35.088Z"
   },
   {
    "duration": 48,
    "start_time": "2023-07-03T10:44:35.135Z"
   },
   {
    "duration": 52,
    "start_time": "2023-07-03T10:44:35.185Z"
   },
   {
    "duration": 24,
    "start_time": "2023-07-03T10:44:35.239Z"
   },
   {
    "duration": 5,
    "start_time": "2023-07-03T10:44:35.265Z"
   },
   {
    "duration": 24,
    "start_time": "2023-07-03T10:44:35.271Z"
   },
   {
    "duration": 9,
    "start_time": "2023-07-03T10:44:35.297Z"
   },
   {
    "duration": 26,
    "start_time": "2023-07-03T10:44:35.308Z"
   },
   {
    "duration": 11,
    "start_time": "2023-07-03T10:44:35.336Z"
   },
   {
    "duration": 15,
    "start_time": "2023-07-03T10:44:35.349Z"
   },
   {
    "duration": 22,
    "start_time": "2023-07-03T10:44:35.366Z"
   },
   {
    "duration": 28,
    "start_time": "2023-07-03T10:44:35.390Z"
   },
   {
    "duration": 15,
    "start_time": "2023-07-03T10:44:35.420Z"
   },
   {
    "duration": 31,
    "start_time": "2023-07-03T10:44:35.437Z"
   },
   {
    "duration": 15,
    "start_time": "2023-07-03T10:44:35.470Z"
   },
   {
    "duration": 19,
    "start_time": "2023-07-03T10:44:35.487Z"
   },
   {
    "duration": 9,
    "start_time": "2023-07-03T10:44:35.511Z"
   },
   {
    "duration": 21,
    "start_time": "2023-07-03T10:44:35.521Z"
   },
   {
    "duration": 18,
    "start_time": "2023-07-03T10:44:35.544Z"
   },
   {
    "duration": 25,
    "start_time": "2023-07-03T10:44:35.564Z"
   },
   {
    "duration": 22,
    "start_time": "2023-07-03T10:44:35.591Z"
   },
   {
    "duration": 17,
    "start_time": "2023-07-03T10:44:35.615Z"
   },
   {
    "duration": 38,
    "start_time": "2023-07-03T10:44:35.634Z"
   },
   {
    "duration": 38,
    "start_time": "2023-07-03T10:44:35.674Z"
   },
   {
    "duration": 1438,
    "start_time": "2023-07-03T10:44:35.715Z"
   },
   {
    "duration": 5,
    "start_time": "2023-07-03T10:44:37.155Z"
   },
   {
    "duration": 125,
    "start_time": "2023-07-03T10:44:37.175Z"
   },
   {
    "duration": 177,
    "start_time": "2023-07-03T10:44:37.302Z"
   },
   {
    "duration": 4,
    "start_time": "2023-07-03T10:44:37.480Z"
   },
   {
    "duration": 45,
    "start_time": "2023-07-03T10:44:37.486Z"
   },
   {
    "duration": 816,
    "start_time": "2023-07-03T10:44:37.533Z"
   },
   {
    "duration": 6,
    "start_time": "2023-07-03T10:44:38.351Z"
   },
   {
    "duration": 30,
    "start_time": "2023-07-03T10:44:38.359Z"
   },
   {
    "duration": 221,
    "start_time": "2023-07-03T10:44:38.391Z"
   },
   {
    "duration": 176187,
    "start_time": "2023-07-03T10:44:38.614Z"
   },
   {
    "duration": 82,
    "start_time": "2023-07-03T10:47:34.803Z"
   },
   {
    "duration": 98,
    "start_time": "2023-07-03T10:47:34.887Z"
   },
   {
    "duration": 119,
    "start_time": "2023-07-03T10:47:34.987Z"
   },
   {
    "duration": 3,
    "start_time": "2023-07-03T10:47:35.108Z"
   },
   {
    "duration": 68,
    "start_time": "2023-07-03T10:47:35.113Z"
   },
   {
    "duration": 7,
    "start_time": "2023-07-03T10:47:35.183Z"
   },
   {
    "duration": 88,
    "start_time": "2023-07-03T10:47:35.192Z"
   },
   {
    "duration": 13,
    "start_time": "2023-07-03T10:47:35.282Z"
   },
   {
    "duration": 12,
    "start_time": "2023-07-03T10:47:35.297Z"
   },
   {
    "duration": 15,
    "start_time": "2023-07-03T10:47:35.311Z"
   },
   {
    "duration": 10,
    "start_time": "2023-07-03T10:47:35.328Z"
   },
   {
    "duration": 14,
    "start_time": "2023-07-03T10:47:35.340Z"
   },
   {
    "duration": 20,
    "start_time": "2023-07-03T10:47:35.356Z"
   },
   {
    "duration": 199,
    "start_time": "2023-07-03T10:47:35.377Z"
   },
   {
    "duration": 2,
    "start_time": "2023-07-03T10:47:35.578Z"
   },
   {
    "duration": 192,
    "start_time": "2023-07-03T10:47:35.582Z"
   },
   {
    "duration": 452,
    "start_time": "2023-07-03T10:47:35.776Z"
   },
   {
    "duration": 7,
    "start_time": "2023-07-03T10:47:36.230Z"
   },
   {
    "duration": 5,
    "start_time": "2023-07-03T10:47:36.239Z"
   },
   {
    "duration": 6,
    "start_time": "2023-07-03T10:47:36.245Z"
   },
   {
    "duration": 43,
    "start_time": "2023-07-03T10:47:36.252Z"
   },
   {
    "duration": 6,
    "start_time": "2023-07-03T10:47:36.297Z"
   },
   {
    "duration": 212,
    "start_time": "2023-07-03T10:47:36.305Z"
   },
   {
    "duration": 0,
    "start_time": "2023-07-03T10:47:36.518Z"
   },
   {
    "duration": 0,
    "start_time": "2023-07-03T10:47:36.519Z"
   },
   {
    "duration": 2689,
    "start_time": "2023-07-03T10:50:03.441Z"
   },
   {
    "duration": 2367,
    "start_time": "2023-07-03T10:50:06.132Z"
   },
   {
    "duration": 1420,
    "start_time": "2023-07-03T10:50:08.501Z"
   },
   {
    "duration": 7,
    "start_time": "2023-07-03T10:50:09.924Z"
   },
   {
    "duration": 171,
    "start_time": "2023-07-03T10:50:09.933Z"
   },
   {
    "duration": 107,
    "start_time": "2023-07-03T10:50:10.106Z"
   },
   {
    "duration": 15,
    "start_time": "2023-07-03T10:50:10.215Z"
   },
   {
    "duration": 46,
    "start_time": "2023-07-03T10:50:10.232Z"
   },
   {
    "duration": 6,
    "start_time": "2023-07-03T10:50:10.280Z"
   },
   {
    "duration": 288,
    "start_time": "2023-07-03T10:50:10.289Z"
   },
   {
    "duration": 8,
    "start_time": "2023-07-03T10:50:10.579Z"
   },
   {
    "duration": 7,
    "start_time": "2023-07-03T10:50:10.589Z"
   },
   {
    "duration": 19,
    "start_time": "2023-07-03T10:50:10.598Z"
   },
   {
    "duration": 31,
    "start_time": "2023-07-03T10:50:10.619Z"
   },
   {
    "duration": 38,
    "start_time": "2023-07-03T10:50:10.651Z"
   },
   {
    "duration": 5,
    "start_time": "2023-07-03T10:50:10.690Z"
   },
   {
    "duration": 15,
    "start_time": "2023-07-03T10:50:10.698Z"
   },
   {
    "duration": 12,
    "start_time": "2023-07-03T10:50:10.715Z"
   },
   {
    "duration": 28,
    "start_time": "2023-07-03T10:50:10.729Z"
   },
   {
    "duration": 20,
    "start_time": "2023-07-03T10:50:10.759Z"
   },
   {
    "duration": 14,
    "start_time": "2023-07-03T10:50:10.781Z"
   },
   {
    "duration": 21,
    "start_time": "2023-07-03T10:50:10.797Z"
   },
   {
    "duration": 7,
    "start_time": "2023-07-03T10:50:10.820Z"
   },
   {
    "duration": 17,
    "start_time": "2023-07-03T10:50:10.829Z"
   },
   {
    "duration": 18,
    "start_time": "2023-07-03T10:50:10.848Z"
   },
   {
    "duration": 25,
    "start_time": "2023-07-03T10:50:10.868Z"
   },
   {
    "duration": 18,
    "start_time": "2023-07-03T10:50:10.895Z"
   },
   {
    "duration": 5,
    "start_time": "2023-07-03T10:50:10.916Z"
   },
   {
    "duration": 14,
    "start_time": "2023-07-03T10:50:10.923Z"
   },
   {
    "duration": 15,
    "start_time": "2023-07-03T10:50:10.939Z"
   },
   {
    "duration": 5,
    "start_time": "2023-07-03T10:50:10.956Z"
   },
   {
    "duration": 15,
    "start_time": "2023-07-03T10:50:10.963Z"
   },
   {
    "duration": 13,
    "start_time": "2023-07-03T10:50:10.980Z"
   },
   {
    "duration": 33,
    "start_time": "2023-07-03T10:50:10.995Z"
   },
   {
    "duration": 26,
    "start_time": "2023-07-03T10:50:11.030Z"
   },
   {
    "duration": 1397,
    "start_time": "2023-07-03T10:50:11.057Z"
   },
   {
    "duration": 6,
    "start_time": "2023-07-03T10:50:12.456Z"
   },
   {
    "duration": 113,
    "start_time": "2023-07-03T10:50:12.476Z"
   },
   {
    "duration": 192,
    "start_time": "2023-07-03T10:50:12.591Z"
   },
   {
    "duration": 2,
    "start_time": "2023-07-03T10:50:12.786Z"
   },
   {
    "duration": 92,
    "start_time": "2023-07-03T10:50:12.790Z"
   },
   {
    "duration": 805,
    "start_time": "2023-07-03T10:50:12.885Z"
   },
   {
    "duration": 7,
    "start_time": "2023-07-03T10:50:13.692Z"
   },
   {
    "duration": 10,
    "start_time": "2023-07-03T10:50:13.700Z"
   },
   {
    "duration": 30,
    "start_time": "2023-07-03T10:50:13.712Z"
   },
   {
    "duration": 12,
    "start_time": "2023-07-03T10:50:13.743Z"
   },
   {
    "duration": 13,
    "start_time": "2023-07-03T10:50:13.757Z"
   },
   {
    "duration": 31,
    "start_time": "2023-07-03T10:50:13.772Z"
   },
   {
    "duration": 8,
    "start_time": "2023-07-03T10:50:13.805Z"
   },
   {
    "duration": 8,
    "start_time": "2023-07-03T10:50:13.815Z"
   },
   {
    "duration": 34,
    "start_time": "2023-07-03T10:50:13.825Z"
   },
   {
    "duration": 84,
    "start_time": "2023-07-03T10:50:13.862Z"
   },
   {
    "duration": 374,
    "start_time": "2023-07-03T10:50:13.948Z"
   },
   {
    "duration": 212998,
    "start_time": "2023-07-03T10:50:14.323Z"
   },
   {
    "duration": 64,
    "start_time": "2023-07-03T10:53:47.323Z"
   },
   {
    "duration": 99,
    "start_time": "2023-07-03T10:53:47.390Z"
   },
   {
    "duration": 137,
    "start_time": "2023-07-03T10:53:47.492Z"
   },
   {
    "duration": 75485,
    "start_time": "2023-07-03T10:53:47.630Z"
   },
   {
    "duration": 66,
    "start_time": "2023-07-03T10:55:03.117Z"
   },
   {
    "duration": 312,
    "start_time": "2023-07-03T10:55:03.186Z"
   },
   {
    "duration": 133407,
    "start_time": "2023-07-03T10:55:03.500Z"
   },
   {
    "duration": 22,
    "start_time": "2023-07-03T10:57:16.909Z"
   },
   {
    "duration": 262,
    "start_time": "2023-07-03T10:57:16.933Z"
   },
   {
    "duration": 0,
    "start_time": "2023-07-03T10:57:17.197Z"
   },
   {
    "duration": 0,
    "start_time": "2023-07-03T10:57:17.198Z"
   },
   {
    "duration": 0,
    "start_time": "2023-07-03T10:57:17.200Z"
   },
   {
    "duration": 0,
    "start_time": "2023-07-03T10:57:17.202Z"
   },
   {
    "duration": 0,
    "start_time": "2023-07-03T10:57:17.203Z"
   },
   {
    "duration": 0,
    "start_time": "2023-07-03T10:57:17.205Z"
   },
   {
    "duration": 807,
    "start_time": "2023-07-03T11:07:22.932Z"
   },
   {
    "duration": 9,
    "start_time": "2023-07-03T11:07:26.433Z"
   },
   {
    "duration": 29,
    "start_time": "2023-07-03T11:07:32.609Z"
   },
   {
    "duration": 7,
    "start_time": "2023-07-03T11:07:36.452Z"
   },
   {
    "duration": 192,
    "start_time": "2023-07-03T11:08:24.927Z"
   },
   {
    "duration": 7,
    "start_time": "2023-07-03T11:08:26.636Z"
   },
   {
    "duration": 7,
    "start_time": "2023-07-03T11:09:59.211Z"
   },
   {
    "duration": 9,
    "start_time": "2023-07-03T11:17:40.210Z"
   },
   {
    "duration": 21,
    "start_time": "2023-07-03T11:17:40.499Z"
   },
   {
    "duration": 250,
    "start_time": "2023-07-03T11:17:57.412Z"
   },
   {
    "duration": 6,
    "start_time": "2023-07-03T11:18:55.192Z"
   },
   {
    "duration": 141,
    "start_time": "2023-07-03T11:18:56.821Z"
   },
   {
    "duration": 5172,
    "start_time": "2023-07-03T11:19:25.729Z"
   },
   {
    "duration": 2544,
    "start_time": "2023-07-03T11:19:30.904Z"
   },
   {
    "duration": 1743,
    "start_time": "2023-07-03T11:19:33.451Z"
   },
   {
    "duration": 5,
    "start_time": "2023-07-03T11:19:35.197Z"
   },
   {
    "duration": 178,
    "start_time": "2023-07-03T11:19:35.204Z"
   },
   {
    "duration": 120,
    "start_time": "2023-07-03T11:19:35.384Z"
   },
   {
    "duration": 25,
    "start_time": "2023-07-03T11:19:35.507Z"
   },
   {
    "duration": 44,
    "start_time": "2023-07-03T11:19:35.534Z"
   },
   {
    "duration": 9,
    "start_time": "2023-07-03T11:19:35.586Z"
   },
   {
    "duration": 399,
    "start_time": "2023-07-03T11:19:35.602Z"
   },
   {
    "duration": 11,
    "start_time": "2023-07-03T11:19:36.002Z"
   },
   {
    "duration": 48,
    "start_time": "2023-07-03T11:19:36.015Z"
   },
   {
    "duration": 51,
    "start_time": "2023-07-03T11:19:36.066Z"
   },
   {
    "duration": 34,
    "start_time": "2023-07-03T11:19:36.119Z"
   },
   {
    "duration": 32,
    "start_time": "2023-07-03T11:19:36.155Z"
   },
   {
    "duration": 9,
    "start_time": "2023-07-03T11:19:36.189Z"
   },
   {
    "duration": 25,
    "start_time": "2023-07-03T11:19:36.200Z"
   },
   {
    "duration": 7,
    "start_time": "2023-07-03T11:19:36.227Z"
   },
   {
    "duration": 30,
    "start_time": "2023-07-03T11:19:36.236Z"
   },
   {
    "duration": 5,
    "start_time": "2023-07-03T11:19:36.268Z"
   },
   {
    "duration": 41,
    "start_time": "2023-07-03T11:19:36.274Z"
   },
   {
    "duration": 17,
    "start_time": "2023-07-03T11:19:36.317Z"
   },
   {
    "duration": 18,
    "start_time": "2023-07-03T11:19:36.336Z"
   },
   {
    "duration": 18,
    "start_time": "2023-07-03T11:19:36.356Z"
   },
   {
    "duration": 56,
    "start_time": "2023-07-03T11:19:36.376Z"
   },
   {
    "duration": 16,
    "start_time": "2023-07-03T11:19:36.434Z"
   },
   {
    "duration": 47,
    "start_time": "2023-07-03T11:19:36.453Z"
   },
   {
    "duration": 29,
    "start_time": "2023-07-03T11:19:36.505Z"
   },
   {
    "duration": 29,
    "start_time": "2023-07-03T11:19:36.537Z"
   },
   {
    "duration": 54,
    "start_time": "2023-07-03T11:19:36.568Z"
   },
   {
    "duration": 21,
    "start_time": "2023-07-03T11:19:36.624Z"
   },
   {
    "duration": 18,
    "start_time": "2023-07-03T11:19:36.647Z"
   },
   {
    "duration": 14,
    "start_time": "2023-07-03T11:19:36.667Z"
   },
   {
    "duration": 59,
    "start_time": "2023-07-03T11:19:36.683Z"
   },
   {
    "duration": 24,
    "start_time": "2023-07-03T11:19:36.743Z"
   },
   {
    "duration": 1396,
    "start_time": "2023-07-03T11:19:36.769Z"
   },
   {
    "duration": 10,
    "start_time": "2023-07-03T11:19:38.182Z"
   },
   {
    "duration": 123,
    "start_time": "2023-07-03T11:19:38.199Z"
   },
   {
    "duration": 188,
    "start_time": "2023-07-03T11:19:38.324Z"
   },
   {
    "duration": 3,
    "start_time": "2023-07-03T11:19:38.514Z"
   },
   {
    "duration": 97,
    "start_time": "2023-07-03T11:19:38.519Z"
   },
   {
    "duration": 844,
    "start_time": "2023-07-03T11:19:38.683Z"
   },
   {
    "duration": 7,
    "start_time": "2023-07-03T11:19:39.528Z"
   },
   {
    "duration": 11,
    "start_time": "2023-07-03T11:19:39.537Z"
   },
   {
    "duration": 16,
    "start_time": "2023-07-03T11:19:39.550Z"
   },
   {
    "duration": 38,
    "start_time": "2023-07-03T11:19:39.568Z"
   },
   {
    "duration": 56,
    "start_time": "2023-07-03T11:19:39.608Z"
   },
   {
    "duration": 49,
    "start_time": "2023-07-03T11:19:39.667Z"
   },
   {
    "duration": 23,
    "start_time": "2023-07-03T11:19:39.718Z"
   },
   {
    "duration": 42,
    "start_time": "2023-07-03T11:19:39.743Z"
   },
   {
    "duration": 22,
    "start_time": "2023-07-03T11:19:39.790Z"
   },
   {
    "duration": 48,
    "start_time": "2023-07-03T11:19:39.815Z"
   },
   {
    "duration": 299,
    "start_time": "2023-07-03T11:19:39.864Z"
   },
   {
    "duration": 219338,
    "start_time": "2023-07-03T11:19:40.165Z"
   },
   {
    "duration": 26,
    "start_time": "2023-07-03T11:23:19.505Z"
   },
   {
    "duration": 110,
    "start_time": "2023-07-03T11:23:19.580Z"
   },
   {
    "duration": 114,
    "start_time": "2023-07-03T11:23:19.694Z"
   },
   {
    "duration": 71482,
    "start_time": "2023-07-03T11:23:19.810Z"
   },
   {
    "duration": 19,
    "start_time": "2023-07-03T11:24:31.294Z"
   },
   {
    "duration": 310,
    "start_time": "2023-07-03T11:24:31.385Z"
   },
   {
    "duration": 127897,
    "start_time": "2023-07-03T11:24:31.698Z"
   },
   {
    "duration": 84,
    "start_time": "2023-07-03T11:26:39.597Z"
   },
   {
    "duration": 850,
    "start_time": "2023-07-03T11:26:39.684Z"
   },
   {
    "duration": 6,
    "start_time": "2023-07-03T11:26:40.536Z"
   },
   {
    "duration": 47,
    "start_time": "2023-07-03T11:26:40.544Z"
   },
   {
    "duration": 7,
    "start_time": "2023-07-03T11:26:40.593Z"
   },
   {
    "duration": 395,
    "start_time": "2023-07-03T11:26:40.602Z"
   },
   {
    "duration": 8,
    "start_time": "2023-07-03T11:26:40.999Z"
   },
   {
    "duration": 8,
    "start_time": "2023-07-03T11:26:41.008Z"
   },
   {
    "duration": 59,
    "start_time": "2023-07-03T11:26:41.018Z"
   },
   {
    "duration": 527,
    "start_time": "2023-07-03T11:26:41.081Z"
   },
   {
    "duration": 118,
    "start_time": "2023-07-03T11:27:06.933Z"
   },
   {
    "duration": 10,
    "start_time": "2023-07-03T11:27:15.193Z"
   },
   {
    "duration": 166,
    "start_time": "2023-07-03T11:27:41.905Z"
   },
   {
    "duration": 8,
    "start_time": "2023-07-03T11:27:43.252Z"
   },
   {
    "duration": 14,
    "start_time": "2023-07-03T11:29:45.299Z"
   },
   {
    "duration": 15,
    "start_time": "2023-07-03T11:29:53.775Z"
   },
   {
    "duration": 6,
    "start_time": "2023-07-03T11:30:49.449Z"
   },
   {
    "duration": 5,
    "start_time": "2023-07-03T11:30:50.823Z"
   },
   {
    "duration": 153,
    "start_time": "2023-07-03T11:30:52.334Z"
   },
   {
    "duration": 3119,
    "start_time": "2023-07-03T11:30:59.467Z"
   },
   {
    "duration": 2507,
    "start_time": "2023-07-03T11:31:02.588Z"
   },
   {
    "duration": 1317,
    "start_time": "2023-07-03T11:31:05.097Z"
   },
   {
    "duration": 4,
    "start_time": "2023-07-03T11:31:06.417Z"
   },
   {
    "duration": 141,
    "start_time": "2023-07-03T11:31:06.423Z"
   },
   {
    "duration": 90,
    "start_time": "2023-07-03T11:31:06.588Z"
   },
   {
    "duration": 16,
    "start_time": "2023-07-03T11:31:06.686Z"
   },
   {
    "duration": 27,
    "start_time": "2023-07-03T11:31:06.703Z"
   },
   {
    "duration": 5,
    "start_time": "2023-07-03T11:31:06.731Z"
   },
   {
    "duration": 278,
    "start_time": "2023-07-03T11:31:06.738Z"
   },
   {
    "duration": 8,
    "start_time": "2023-07-03T11:31:07.017Z"
   },
   {
    "duration": 10,
    "start_time": "2023-07-03T11:31:07.026Z"
   },
   {
    "duration": 13,
    "start_time": "2023-07-03T11:31:07.037Z"
   },
   {
    "duration": 33,
    "start_time": "2023-07-03T11:31:07.052Z"
   },
   {
    "duration": 17,
    "start_time": "2023-07-03T11:31:07.088Z"
   },
   {
    "duration": 4,
    "start_time": "2023-07-03T11:31:07.107Z"
   },
   {
    "duration": 16,
    "start_time": "2023-07-03T11:31:07.112Z"
   },
   {
    "duration": 16,
    "start_time": "2023-07-03T11:31:07.129Z"
   },
   {
    "duration": 21,
    "start_time": "2023-07-03T11:31:07.146Z"
   },
   {
    "duration": 19,
    "start_time": "2023-07-03T11:31:07.169Z"
   },
   {
    "duration": 10,
    "start_time": "2023-07-03T11:31:07.190Z"
   },
   {
    "duration": 28,
    "start_time": "2023-07-03T11:31:07.201Z"
   },
   {
    "duration": 24,
    "start_time": "2023-07-03T11:31:07.231Z"
   },
   {
    "duration": 7,
    "start_time": "2023-07-03T11:31:07.257Z"
   },
   {
    "duration": 7,
    "start_time": "2023-07-03T11:31:07.265Z"
   },
   {
    "duration": 22,
    "start_time": "2023-07-03T11:31:07.274Z"
   },
   {
    "duration": 12,
    "start_time": "2023-07-03T11:31:07.297Z"
   },
   {
    "duration": 14,
    "start_time": "2023-07-03T11:31:07.312Z"
   },
   {
    "duration": 9,
    "start_time": "2023-07-03T11:31:07.328Z"
   },
   {
    "duration": 15,
    "start_time": "2023-07-03T11:31:07.339Z"
   },
   {
    "duration": 17,
    "start_time": "2023-07-03T11:31:07.356Z"
   },
   {
    "duration": 32,
    "start_time": "2023-07-03T11:31:07.376Z"
   },
   {
    "duration": 6,
    "start_time": "2023-07-03T11:31:07.409Z"
   },
   {
    "duration": 28,
    "start_time": "2023-07-03T11:31:07.417Z"
   },
   {
    "duration": 22,
    "start_time": "2023-07-03T11:31:07.446Z"
   },
   {
    "duration": 1432,
    "start_time": "2023-07-03T11:31:07.470Z"
   },
   {
    "duration": 5,
    "start_time": "2023-07-03T11:31:08.904Z"
   },
   {
    "duration": 122,
    "start_time": "2023-07-03T11:31:08.911Z"
   },
   {
    "duration": 182,
    "start_time": "2023-07-03T11:31:09.034Z"
   },
   {
    "duration": 3,
    "start_time": "2023-07-03T11:31:09.217Z"
   },
   {
    "duration": 64,
    "start_time": "2023-07-03T11:31:09.222Z"
   },
   {
    "duration": 778,
    "start_time": "2023-07-03T11:31:09.291Z"
   },
   {
    "duration": 22,
    "start_time": "2023-07-03T11:31:10.071Z"
   },
   {
    "duration": 12,
    "start_time": "2023-07-03T11:31:10.095Z"
   },
   {
    "duration": 6,
    "start_time": "2023-07-03T11:31:10.109Z"
   },
   {
    "duration": 6,
    "start_time": "2023-07-03T11:31:10.116Z"
   },
   {
    "duration": 13,
    "start_time": "2023-07-03T11:31:10.123Z"
   },
   {
    "duration": 7,
    "start_time": "2023-07-03T11:31:10.137Z"
   },
   {
    "duration": 15,
    "start_time": "2023-07-03T11:31:10.146Z"
   },
   {
    "duration": 20,
    "start_time": "2023-07-03T11:31:10.162Z"
   },
   {
    "duration": 17,
    "start_time": "2023-07-03T11:31:10.184Z"
   },
   {
    "duration": 48,
    "start_time": "2023-07-03T11:31:10.203Z"
   },
   {
    "duration": 294,
    "start_time": "2023-07-03T11:31:10.253Z"
   },
   {
    "duration": 195136,
    "start_time": "2023-07-03T11:31:10.548Z"
   },
   {
    "duration": 101,
    "start_time": "2023-07-03T11:34:25.687Z"
   },
   {
    "duration": 92,
    "start_time": "2023-07-03T11:34:25.791Z"
   },
   {
    "duration": 195,
    "start_time": "2023-07-03T11:34:25.886Z"
   },
   {
    "duration": 68551,
    "start_time": "2023-07-03T11:34:26.083Z"
   },
   {
    "duration": 40,
    "start_time": "2023-07-03T11:35:34.636Z"
   },
   {
    "duration": 275,
    "start_time": "2023-07-03T11:35:34.679Z"
   },
   {
    "duration": 130497,
    "start_time": "2023-07-03T11:35:34.956Z"
   },
   {
    "duration": 44,
    "start_time": "2023-07-03T11:37:45.455Z"
   },
   {
    "duration": 1058,
    "start_time": "2023-07-03T11:37:45.501Z"
   },
   {
    "duration": 8,
    "start_time": "2023-07-03T11:37:46.560Z"
   },
   {
    "duration": 42,
    "start_time": "2023-07-03T11:37:46.578Z"
   },
   {
    "duration": 7,
    "start_time": "2023-07-03T11:37:46.622Z"
   },
   {
    "duration": 215,
    "start_time": "2023-07-03T11:37:46.631Z"
   },
   {
    "duration": 6,
    "start_time": "2023-07-03T11:37:46.848Z"
   },
   {
    "duration": 6,
    "start_time": "2023-07-03T11:37:46.855Z"
   },
   {
    "duration": 20,
    "start_time": "2023-07-03T11:37:46.862Z"
   },
   {
    "duration": 276,
    "start_time": "2023-07-03T11:37:46.891Z"
   },
   {
    "duration": 125462,
    "start_time": "2023-07-03T12:04:16.920Z"
   },
   {
    "duration": 2503,
    "start_time": "2023-07-03T12:12:11.901Z"
   },
   {
    "duration": 2663,
    "start_time": "2023-07-03T12:12:14.406Z"
   },
   {
    "duration": 1422,
    "start_time": "2023-07-03T12:12:17.070Z"
   },
   {
    "duration": 6,
    "start_time": "2023-07-03T12:12:18.499Z"
   },
   {
    "duration": 152,
    "start_time": "2023-07-03T12:12:18.507Z"
   },
   {
    "duration": 112,
    "start_time": "2023-07-03T12:12:18.660Z"
   },
   {
    "duration": 20,
    "start_time": "2023-07-03T12:12:18.788Z"
   },
   {
    "duration": 25,
    "start_time": "2023-07-03T12:12:18.809Z"
   },
   {
    "duration": 8,
    "start_time": "2023-07-03T12:12:18.836Z"
   },
   {
    "duration": 295,
    "start_time": "2023-07-03T12:12:18.846Z"
   },
   {
    "duration": 7,
    "start_time": "2023-07-03T12:12:19.143Z"
   },
   {
    "duration": 16,
    "start_time": "2023-07-03T12:12:19.152Z"
   },
   {
    "duration": 33,
    "start_time": "2023-07-03T12:12:19.170Z"
   },
   {
    "duration": 23,
    "start_time": "2023-07-03T12:12:19.206Z"
   },
   {
    "duration": 16,
    "start_time": "2023-07-03T12:12:19.230Z"
   },
   {
    "duration": 4,
    "start_time": "2023-07-03T12:12:19.247Z"
   },
   {
    "duration": 10,
    "start_time": "2023-07-03T12:12:19.253Z"
   },
   {
    "duration": 7,
    "start_time": "2023-07-03T12:12:19.265Z"
   },
   {
    "duration": 45,
    "start_time": "2023-07-03T12:12:19.273Z"
   },
   {
    "duration": 12,
    "start_time": "2023-07-03T12:12:19.319Z"
   },
   {
    "duration": 9,
    "start_time": "2023-07-03T12:12:19.333Z"
   },
   {
    "duration": 20,
    "start_time": "2023-07-03T12:12:19.344Z"
   },
   {
    "duration": 28,
    "start_time": "2023-07-03T12:12:19.366Z"
   },
   {
    "duration": 9,
    "start_time": "2023-07-03T12:12:19.398Z"
   },
   {
    "duration": 18,
    "start_time": "2023-07-03T12:12:19.409Z"
   },
   {
    "duration": 16,
    "start_time": "2023-07-03T12:12:19.429Z"
   },
   {
    "duration": 20,
    "start_time": "2023-07-03T12:12:19.447Z"
   },
   {
    "duration": 32,
    "start_time": "2023-07-03T12:12:19.469Z"
   },
   {
    "duration": 11,
    "start_time": "2023-07-03T12:12:19.503Z"
   },
   {
    "duration": 28,
    "start_time": "2023-07-03T12:12:19.515Z"
   },
   {
    "duration": 6,
    "start_time": "2023-07-03T12:12:19.545Z"
   },
   {
    "duration": 7,
    "start_time": "2023-07-03T12:12:19.552Z"
   },
   {
    "duration": 10,
    "start_time": "2023-07-03T12:12:19.560Z"
   },
   {
    "duration": 52,
    "start_time": "2023-07-03T12:12:19.571Z"
   },
   {
    "duration": 22,
    "start_time": "2023-07-03T12:12:19.624Z"
   },
   {
    "duration": 1400,
    "start_time": "2023-07-03T12:12:19.648Z"
   },
   {
    "duration": 5,
    "start_time": "2023-07-03T12:12:21.050Z"
   },
   {
    "duration": 178,
    "start_time": "2023-07-03T12:12:21.056Z"
   },
   {
    "duration": 192,
    "start_time": "2023-07-03T12:12:21.236Z"
   },
   {
    "duration": 129279,
    "start_time": "2023-07-03T12:12:21.430Z"
   },
   {
    "duration": 80,
    "start_time": "2023-07-03T12:14:30.713Z"
   },
   {
    "duration": 809,
    "start_time": "2023-07-03T12:14:30.797Z"
   },
   {
    "duration": 8,
    "start_time": "2023-07-03T12:14:31.608Z"
   },
   {
    "duration": 26,
    "start_time": "2023-07-03T12:14:31.617Z"
   },
   {
    "duration": 9,
    "start_time": "2023-07-03T12:14:31.644Z"
   },
   {
    "duration": 16,
    "start_time": "2023-07-03T12:14:31.654Z"
   },
   {
    "duration": 61,
    "start_time": "2023-07-03T12:14:31.672Z"
   },
   {
    "duration": 13,
    "start_time": "2023-07-03T12:14:31.736Z"
   },
   {
    "duration": 20,
    "start_time": "2023-07-03T12:14:31.750Z"
   },
   {
    "duration": 52,
    "start_time": "2023-07-03T12:14:31.771Z"
   },
   {
    "duration": 13,
    "start_time": "2023-07-03T12:14:31.824Z"
   },
   {
    "duration": 72,
    "start_time": "2023-07-03T12:14:31.839Z"
   },
   {
    "duration": 329,
    "start_time": "2023-07-03T12:14:31.913Z"
   },
   {
    "duration": 206652,
    "start_time": "2023-07-03T12:14:32.244Z"
   },
   {
    "duration": 79,
    "start_time": "2023-07-03T12:17:58.899Z"
   },
   {
    "duration": 92,
    "start_time": "2023-07-03T12:17:58.982Z"
   },
   {
    "duration": 123,
    "start_time": "2023-07-03T12:17:59.078Z"
   },
   {
    "duration": 72522,
    "start_time": "2023-07-03T12:17:59.203Z"
   },
   {
    "duration": 15,
    "start_time": "2023-07-03T12:19:11.726Z"
   },
   {
    "duration": 310,
    "start_time": "2023-07-03T12:19:11.778Z"
   },
   {
    "duration": 127824,
    "start_time": "2023-07-03T12:19:12.094Z"
   },
   {
    "duration": 61,
    "start_time": "2023-07-03T12:21:19.920Z"
   },
   {
    "duration": 844,
    "start_time": "2023-07-03T12:21:19.982Z"
   },
   {
    "duration": 6,
    "start_time": "2023-07-03T12:21:20.828Z"
   },
   {
    "duration": 55,
    "start_time": "2023-07-03T12:21:20.836Z"
   },
   {
    "duration": 22,
    "start_time": "2023-07-03T12:21:20.892Z"
   },
   {
    "duration": 247,
    "start_time": "2023-07-03T12:21:20.915Z"
   },
   {
    "duration": 198,
    "start_time": "2023-07-03T12:21:21.165Z"
   },
   {
    "duration": 15,
    "start_time": "2023-07-03T12:21:21.365Z"
   },
   {
    "duration": 22,
    "start_time": "2023-07-03T12:21:21.382Z"
   },
   {
    "duration": 60,
    "start_time": "2023-07-04T10:52:37.211Z"
   },
   {
    "duration": 9129,
    "start_time": "2023-07-04T10:52:46.124Z"
   },
   {
    "duration": 3945,
    "start_time": "2023-07-04T10:52:55.257Z"
   },
   {
    "duration": 1368,
    "start_time": "2023-07-04T10:52:59.204Z"
   },
   {
    "duration": 4,
    "start_time": "2023-07-04T10:53:00.574Z"
   },
   {
    "duration": 210,
    "start_time": "2023-07-04T10:53:00.580Z"
   },
   {
    "duration": 101,
    "start_time": "2023-07-04T10:53:00.792Z"
   },
   {
    "duration": 15,
    "start_time": "2023-07-04T10:53:00.895Z"
   },
   {
    "duration": 52,
    "start_time": "2023-07-04T10:53:00.912Z"
   },
   {
    "duration": 46,
    "start_time": "2023-07-04T10:53:00.967Z"
   },
   {
    "duration": 351,
    "start_time": "2023-07-04T10:53:01.015Z"
   },
   {
    "duration": 10,
    "start_time": "2023-07-04T10:53:01.369Z"
   },
   {
    "duration": 29,
    "start_time": "2023-07-04T10:53:01.381Z"
   },
   {
    "duration": 81,
    "start_time": "2023-07-04T10:53:01.412Z"
   },
   {
    "duration": 100,
    "start_time": "2023-07-04T10:53:01.496Z"
   },
   {
    "duration": 50,
    "start_time": "2023-07-04T10:53:01.598Z"
   },
   {
    "duration": 44,
    "start_time": "2023-07-04T10:53:01.650Z"
   },
   {
    "duration": 56,
    "start_time": "2023-07-04T10:53:01.696Z"
   },
   {
    "duration": 63,
    "start_time": "2023-07-04T10:53:01.754Z"
   },
   {
    "duration": 73,
    "start_time": "2023-07-04T10:53:01.819Z"
   },
   {
    "duration": 51,
    "start_time": "2023-07-04T10:53:01.894Z"
   },
   {
    "duration": 50,
    "start_time": "2023-07-04T10:53:01.947Z"
   },
   {
    "duration": 86,
    "start_time": "2023-07-04T10:53:01.999Z"
   },
   {
    "duration": 35,
    "start_time": "2023-07-04T10:53:02.087Z"
   },
   {
    "duration": 65,
    "start_time": "2023-07-04T10:53:02.124Z"
   },
   {
    "duration": 60,
    "start_time": "2023-07-04T10:53:02.191Z"
   },
   {
    "duration": 127,
    "start_time": "2023-07-04T10:53:02.258Z"
   },
   {
    "duration": 48,
    "start_time": "2023-07-04T10:53:02.387Z"
   },
   {
    "duration": 43,
    "start_time": "2023-07-04T10:53:02.442Z"
   },
   {
    "duration": 20,
    "start_time": "2023-07-04T10:53:02.489Z"
   },
   {
    "duration": 30,
    "start_time": "2023-07-04T10:53:02.511Z"
   },
   {
    "duration": 52,
    "start_time": "2023-07-04T10:53:02.543Z"
   },
   {
    "duration": 21,
    "start_time": "2023-07-04T10:53:02.597Z"
   },
   {
    "duration": 26,
    "start_time": "2023-07-04T10:53:02.620Z"
   },
   {
    "duration": 54,
    "start_time": "2023-07-04T10:53:02.648Z"
   },
   {
    "duration": 26,
    "start_time": "2023-07-04T10:53:02.704Z"
   },
   {
    "duration": 1480,
    "start_time": "2023-07-04T10:53:02.731Z"
   },
   {
    "duration": 6,
    "start_time": "2023-07-04T10:53:04.213Z"
   },
   {
    "duration": 132,
    "start_time": "2023-07-04T10:53:04.220Z"
   },
   {
    "duration": 188,
    "start_time": "2023-07-04T10:53:04.353Z"
   },
   {
    "duration": 140870,
    "start_time": "2023-07-04T10:53:04.543Z"
   },
   {
    "duration": 51,
    "start_time": "2023-07-04T10:55:25.415Z"
   },
   {
    "duration": 859,
    "start_time": "2023-07-04T10:55:25.468Z"
   },
   {
    "duration": 8,
    "start_time": "2023-07-04T10:55:26.329Z"
   },
   {
    "duration": 12,
    "start_time": "2023-07-04T10:55:26.353Z"
   },
   {
    "duration": 17,
    "start_time": "2023-07-04T10:55:26.369Z"
   },
   {
    "duration": 8,
    "start_time": "2023-07-04T10:55:26.388Z"
   },
   {
    "duration": 12,
    "start_time": "2023-07-04T10:55:26.398Z"
   },
   {
    "duration": 15,
    "start_time": "2023-07-04T10:55:26.412Z"
   },
   {
    "duration": 9,
    "start_time": "2023-07-04T10:55:26.429Z"
   },
   {
    "duration": 37,
    "start_time": "2023-07-04T10:55:26.440Z"
   },
   {
    "duration": 13,
    "start_time": "2023-07-04T10:55:26.479Z"
   },
   {
    "duration": 74,
    "start_time": "2023-07-04T10:55:26.494Z"
   },
   {
    "duration": 312,
    "start_time": "2023-07-04T10:55:26.570Z"
   },
   {
    "duration": 230610,
    "start_time": "2023-07-04T10:55:26.884Z"
   },
   {
    "duration": 70,
    "start_time": "2023-07-04T10:59:17.495Z"
   },
   {
    "duration": 89,
    "start_time": "2023-07-04T10:59:17.569Z"
   },
   {
    "duration": 149,
    "start_time": "2023-07-04T10:59:17.663Z"
   },
   {
    "duration": 83089,
    "start_time": "2023-07-04T10:59:17.813Z"
   },
   {
    "duration": 57,
    "start_time": "2023-07-04T11:00:40.904Z"
   },
   {
    "duration": 323,
    "start_time": "2023-07-04T11:00:40.963Z"
   },
   {
    "duration": 150706,
    "start_time": "2023-07-04T11:00:41.290Z"
   },
   {
    "duration": 82,
    "start_time": "2023-07-04T11:03:11.998Z"
   },
   {
    "duration": 983,
    "start_time": "2023-07-04T11:03:12.153Z"
   },
   {
    "duration": 25,
    "start_time": "2023-07-04T11:03:13.139Z"
   },
   {
    "duration": 237,
    "start_time": "2023-07-04T11:03:13.172Z"
   },
   {
    "duration": 189,
    "start_time": "2023-07-04T11:03:13.411Z"
   },
   {
    "duration": 407,
    "start_time": "2023-07-04T11:03:13.603Z"
   },
   {
    "duration": 394,
    "start_time": "2023-07-04T11:03:14.012Z"
   },
   {
    "duration": 9,
    "start_time": "2023-07-04T11:03:14.409Z"
   },
   {
    "duration": 27,
    "start_time": "2023-07-04T11:03:14.420Z"
   }
  ],
  "kernelspec": {
   "display_name": "Python 3 (ipykernel)",
   "language": "python",
   "name": "python3"
  },
  "language_info": {
   "codemirror_mode": {
    "name": "ipython",
    "version": 3
   },
   "file_extension": ".py",
   "mimetype": "text/x-python",
   "name": "python",
   "nbconvert_exporter": "python",
   "pygments_lexer": "ipython3",
   "version": "3.9.13"
  },
  "toc": {
   "base_numbering": 1,
   "nav_menu": {},
   "number_sections": true,
   "sideBar": true,
   "skip_h1_title": true,
   "title_cell": "Содержание",
   "title_sidebar": "Contents",
   "toc_cell": true,
   "toc_position": {
    "height": "calc(100% - 180px)",
    "left": "10px",
    "top": "150px",
    "width": "165px"
   },
   "toc_section_display": true,
   "toc_window_display": true
  }
 },
 "nbformat": 4,
 "nbformat_minor": 2
}
