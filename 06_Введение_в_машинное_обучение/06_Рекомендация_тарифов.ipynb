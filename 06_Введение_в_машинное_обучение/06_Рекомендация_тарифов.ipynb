{
 "cells": [
  {
   "cell_type": "markdown",
   "metadata": {
    "toc": true
   },
   "source": [
    "<h1>Содержание<span class=\"tocSkip\"></span></h1>\n",
    "<div class=\"toc\"><ul class=\"toc-item\"><li><span><a href=\"#Обзор-данных.\" data-toc-modified-id=\"Обзор-данных.-1\"><span class=\"toc-item-num\">1&nbsp;&nbsp;</span>Обзор данных.</a></span><ul class=\"toc-item\"><li><span><a href=\"#Импорт-библиотеки,-выделение-первых-строк-таблицы-и-изучение-полученной-информации-о-датафрейме.\" data-toc-modified-id=\"Импорт-библиотеки,-выделение-первых-строк-таблицы-и-изучение-полученной-информации-о-датафрейме.-1.1\"><span class=\"toc-item-num\">1.1&nbsp;&nbsp;</span>Импорт библиотеки, выделение первых строк таблицы и изучение полученной информации о датафрейме.</a></span></li></ul></li><li><span><a href=\"#Разделение-данных-на-выборки.\" data-toc-modified-id=\"Разделение-данных-на-выборки.-2\"><span class=\"toc-item-num\">2&nbsp;&nbsp;</span>Разделение данных на выборки.</a></span></li><li><span><a href=\"#Исследование-модели.\" data-toc-modified-id=\"Исследование-модели.-3\"><span class=\"toc-item-num\">3&nbsp;&nbsp;</span>Исследование модели.</a></span><ul class=\"toc-item\"><li><span><a href=\"#&quot;Дерево-решений&quot;,-DecisionTreeClassifier\" data-toc-modified-id=\"&quot;Дерево-решений&quot;,-DecisionTreeClassifier-3.1\"><span class=\"toc-item-num\">3.1&nbsp;&nbsp;</span>\"Дерево решений\", DecisionTreeClassifier</a></span></li><li><span><a href=\"#&quot;Случайный-лес&quot;,-RandomForestClassifier\" data-toc-modified-id=\"&quot;Случайный-лес&quot;,-RandomForestClassifier-3.2\"><span class=\"toc-item-num\">3.2&nbsp;&nbsp;</span>\"Случайный лес\", RandomForestClassifier</a></span></li><li><span><a href=\"#&quot;Линейная-регрессия&quot;,-LogisticRegression\" data-toc-modified-id=\"&quot;Линейная-регрессия&quot;,-LogisticRegression-3.3\"><span class=\"toc-item-num\">3.3&nbsp;&nbsp;</span>\"Линейная регрессия\", LogisticRegression</a></span></li></ul></li><li><span><a href=\"#Проверка-модели-на-тестовой-выборке\" data-toc-modified-id=\"Проверка-модели-на-тестовой-выборке-4\"><span class=\"toc-item-num\">4&nbsp;&nbsp;</span>Проверка модели на тестовой выборке</a></span></li><li><span><a href=\"#Проверка-модели-на-адекватность\" data-toc-modified-id=\"Проверка-модели-на-адекватность-5\"><span class=\"toc-item-num\">5&nbsp;&nbsp;</span>Проверка модели на адекватность</a></span></li><li><span><a href=\"#Общий-вывод\" data-toc-modified-id=\"Общий-вывод-6\"><span class=\"toc-item-num\">6&nbsp;&nbsp;</span>Общий вывод</a></span></li></ul></div>"
   ]
  },
  {
   "cell_type": "markdown",
   "metadata": {},
   "source": [
    "# Рекомендация тарифов"
   ]
  },
  {
   "cell_type": "markdown",
   "metadata": {},
   "source": [
    "Многие клиенты оператора мобильной связи «Мегалайн» пользуются архивными тарифами. «Мегалайн» хочет построить систему, способную проанализировать поведение клиентов и предложить пользователям новый тариф: «Смарт» или «Ультра». В нашем распоряжении данные о поведении клиентов, которые уже перешли на эти тарифы.\n",
    "\n",
    "Целью данного исследования является построение модели для задачи классификации, которая выберет подходящий тариф. Задача исследования - построить модель с максимально большим значением accuracy (нужно довести долю правильных ответов по крайней мере до 0.75).\n",
    "\n",
    "План работы включает в себя (предобработка данных уже выполнена):\n",
    "- разделение исходных данных на обучающую, валидационную и тестовую выборки;\n",
    "- исследование качества разных моделей с помощью изменения гиперпараметров;\n",
    "- проверка качества модели на тестовой выборке;\n",
    "- проверка модели на вменяемость.\n",
    "\n",
    "Данные о поведении клиентов, которые уже перешли на эти тарифы, хранятся в файле users_behavior.csv.\n",
    "\n",
    "Каждый объект в наборе данных — это информация о поведении одного пользователя за месяц. \n",
    "Описание колонок:\n",
    "- сalls — количество звонков,\n",
    "- minutes — суммарная длительность звонков в минутах,\n",
    "- messages — количество sms-сообщений,\n",
    "- mb_used — израсходованный интернет-трафик в Мб,\n",
    "- is_ultra — каким тарифом пользовался в течение месяца («Ультра» — 1, «Смарт» — 0)."
   ]
  },
  {
   "cell_type": "markdown",
   "metadata": {},
   "source": [
    "## Обзор данных."
   ]
  },
  {
   "cell_type": "markdown",
   "metadata": {},
   "source": [
    "### Импорт библиотеки, выделение первых строк таблицы и изучение полученной информации о датафрейме."
   ]
  },
  {
   "cell_type": "code",
   "execution_count": 1,
   "metadata": {},
   "outputs": [],
   "source": [
    "import pandas as pd\n",
    "import numpy as np\n",
    "from sklearn.model_selection import train_test_split\n",
    "from sklearn.tree import DecisionTreeClassifier\n",
    "from sklearn.ensemble import RandomForestClassifier\n",
    "from sklearn.linear_model import LogisticRegression\n",
    "from sklearn.metrics import accuracy_score\n",
    "from sklearn.dummy import DummyClassifier\n",
    "import warnings\n",
    "warnings.filterwarnings(\"ignore\")"
   ]
  },
  {
   "cell_type": "code",
   "execution_count": 2,
   "metadata": {},
   "outputs": [
    {
     "name": "stdout",
     "output_type": "stream",
     "text": [
      "Исходный датафрейм\n"
     ]
    },
    {
     "data": {
      "text/html": [
       "<div>\n",
       "<style scoped>\n",
       "    .dataframe tbody tr th:only-of-type {\n",
       "        vertical-align: middle;\n",
       "    }\n",
       "\n",
       "    .dataframe tbody tr th {\n",
       "        vertical-align: top;\n",
       "    }\n",
       "\n",
       "    .dataframe thead th {\n",
       "        text-align: right;\n",
       "    }\n",
       "</style>\n",
       "<table border=\"1\" class=\"dataframe\">\n",
       "  <thead>\n",
       "    <tr style=\"text-align: right;\">\n",
       "      <th></th>\n",
       "      <th>calls</th>\n",
       "      <th>minutes</th>\n",
       "      <th>messages</th>\n",
       "      <th>mb_used</th>\n",
       "      <th>is_ultra</th>\n",
       "    </tr>\n",
       "  </thead>\n",
       "  <tbody>\n",
       "    <tr>\n",
       "      <th>0</th>\n",
       "      <td>40.0</td>\n",
       "      <td>311.90</td>\n",
       "      <td>83.0</td>\n",
       "      <td>19915.42</td>\n",
       "      <td>0</td>\n",
       "    </tr>\n",
       "    <tr>\n",
       "      <th>1</th>\n",
       "      <td>85.0</td>\n",
       "      <td>516.75</td>\n",
       "      <td>56.0</td>\n",
       "      <td>22696.96</td>\n",
       "      <td>0</td>\n",
       "    </tr>\n",
       "    <tr>\n",
       "      <th>2</th>\n",
       "      <td>77.0</td>\n",
       "      <td>467.66</td>\n",
       "      <td>86.0</td>\n",
       "      <td>21060.45</td>\n",
       "      <td>0</td>\n",
       "    </tr>\n",
       "    <tr>\n",
       "      <th>3</th>\n",
       "      <td>106.0</td>\n",
       "      <td>745.53</td>\n",
       "      <td>81.0</td>\n",
       "      <td>8437.39</td>\n",
       "      <td>1</td>\n",
       "    </tr>\n",
       "    <tr>\n",
       "      <th>4</th>\n",
       "      <td>66.0</td>\n",
       "      <td>418.74</td>\n",
       "      <td>1.0</td>\n",
       "      <td>14502.75</td>\n",
       "      <td>0</td>\n",
       "    </tr>\n",
       "  </tbody>\n",
       "</table>\n",
       "</div>"
      ],
      "text/plain": [
       "   calls  minutes  messages   mb_used  is_ultra\n",
       "0   40.0   311.90      83.0  19915.42         0\n",
       "1   85.0   516.75      56.0  22696.96         0\n",
       "2   77.0   467.66      86.0  21060.45         0\n",
       "3  106.0   745.53      81.0   8437.39         1\n",
       "4   66.0   418.74       1.0  14502.75         0"
      ]
     },
     "metadata": {},
     "output_type": "display_data"
    },
    {
     "name": "stdout",
     "output_type": "stream",
     "text": [
      "Общая информация о датафрейме\n",
      "<class 'pandas.core.frame.DataFrame'>\n",
      "RangeIndex: 3214 entries, 0 to 3213\n",
      "Data columns (total 5 columns):\n",
      " #   Column    Non-Null Count  Dtype  \n",
      "---  ------    --------------  -----  \n",
      " 0   calls     3214 non-null   float64\n",
      " 1   minutes   3214 non-null   float64\n",
      " 2   messages  3214 non-null   float64\n",
      " 3   mb_used   3214 non-null   float64\n",
      " 4   is_ultra  3214 non-null   int64  \n",
      "dtypes: float64(4), int64(1)\n",
      "memory usage: 125.7 KB\n"
     ]
    },
    {
     "data": {
      "text/plain": [
       "None"
      ]
     },
     "metadata": {},
     "output_type": "display_data"
    },
    {
     "name": "stdout",
     "output_type": "stream",
     "text": [
      "Количество пустых значений в датафрейме\n"
     ]
    },
    {
     "data": {
      "text/plain": [
       "calls       0\n",
       "minutes     0\n",
       "messages    0\n",
       "mb_used     0\n",
       "is_ultra    0\n",
       "dtype: int64"
      ]
     },
     "metadata": {},
     "output_type": "display_data"
    },
    {
     "name": "stdout",
     "output_type": "stream",
     "text": [
      "Количество явных дубликатов в датафрейме\n"
     ]
    },
    {
     "data": {
      "text/plain": [
       "0"
      ]
     },
     "metadata": {},
     "output_type": "display_data"
    },
    {
     "name": "stdout",
     "output_type": "stream",
     "text": [
      "Описательная статистика\n"
     ]
    },
    {
     "data": {
      "text/html": [
       "<div>\n",
       "<style scoped>\n",
       "    .dataframe tbody tr th:only-of-type {\n",
       "        vertical-align: middle;\n",
       "    }\n",
       "\n",
       "    .dataframe tbody tr th {\n",
       "        vertical-align: top;\n",
       "    }\n",
       "\n",
       "    .dataframe thead th {\n",
       "        text-align: right;\n",
       "    }\n",
       "</style>\n",
       "<table border=\"1\" class=\"dataframe\">\n",
       "  <thead>\n",
       "    <tr style=\"text-align: right;\">\n",
       "      <th></th>\n",
       "      <th>calls</th>\n",
       "      <th>minutes</th>\n",
       "      <th>messages</th>\n",
       "      <th>mb_used</th>\n",
       "      <th>is_ultra</th>\n",
       "    </tr>\n",
       "  </thead>\n",
       "  <tbody>\n",
       "    <tr>\n",
       "      <th>count</th>\n",
       "      <td>3214.000000</td>\n",
       "      <td>3214.000000</td>\n",
       "      <td>3214.000000</td>\n",
       "      <td>3214.000000</td>\n",
       "      <td>3214.000000</td>\n",
       "    </tr>\n",
       "    <tr>\n",
       "      <th>mean</th>\n",
       "      <td>63.038892</td>\n",
       "      <td>438.208787</td>\n",
       "      <td>38.281269</td>\n",
       "      <td>17207.673836</td>\n",
       "      <td>0.306472</td>\n",
       "    </tr>\n",
       "    <tr>\n",
       "      <th>std</th>\n",
       "      <td>33.236368</td>\n",
       "      <td>234.569872</td>\n",
       "      <td>36.148326</td>\n",
       "      <td>7570.968246</td>\n",
       "      <td>0.461100</td>\n",
       "    </tr>\n",
       "    <tr>\n",
       "      <th>min</th>\n",
       "      <td>0.000000</td>\n",
       "      <td>0.000000</td>\n",
       "      <td>0.000000</td>\n",
       "      <td>0.000000</td>\n",
       "      <td>0.000000</td>\n",
       "    </tr>\n",
       "    <tr>\n",
       "      <th>25%</th>\n",
       "      <td>40.000000</td>\n",
       "      <td>274.575000</td>\n",
       "      <td>9.000000</td>\n",
       "      <td>12491.902500</td>\n",
       "      <td>0.000000</td>\n",
       "    </tr>\n",
       "    <tr>\n",
       "      <th>50%</th>\n",
       "      <td>62.000000</td>\n",
       "      <td>430.600000</td>\n",
       "      <td>30.000000</td>\n",
       "      <td>16943.235000</td>\n",
       "      <td>0.000000</td>\n",
       "    </tr>\n",
       "    <tr>\n",
       "      <th>75%</th>\n",
       "      <td>82.000000</td>\n",
       "      <td>571.927500</td>\n",
       "      <td>57.000000</td>\n",
       "      <td>21424.700000</td>\n",
       "      <td>1.000000</td>\n",
       "    </tr>\n",
       "    <tr>\n",
       "      <th>max</th>\n",
       "      <td>244.000000</td>\n",
       "      <td>1632.060000</td>\n",
       "      <td>224.000000</td>\n",
       "      <td>49745.730000</td>\n",
       "      <td>1.000000</td>\n",
       "    </tr>\n",
       "  </tbody>\n",
       "</table>\n",
       "</div>"
      ],
      "text/plain": [
       "             calls      minutes     messages       mb_used     is_ultra\n",
       "count  3214.000000  3214.000000  3214.000000   3214.000000  3214.000000\n",
       "mean     63.038892   438.208787    38.281269  17207.673836     0.306472\n",
       "std      33.236368   234.569872    36.148326   7570.968246     0.461100\n",
       "min       0.000000     0.000000     0.000000      0.000000     0.000000\n",
       "25%      40.000000   274.575000     9.000000  12491.902500     0.000000\n",
       "50%      62.000000   430.600000    30.000000  16943.235000     0.000000\n",
       "75%      82.000000   571.927500    57.000000  21424.700000     1.000000\n",
       "max     244.000000  1632.060000   224.000000  49745.730000     1.000000"
      ]
     },
     "metadata": {},
     "output_type": "display_data"
    }
   ],
   "source": [
    "def my_func(x):\n",
    "    print('Исходный датафрейм')\n",
    "    display(x.head())\n",
    "    print('Общая информация о датафрейме')\n",
    "    display(x.info())\n",
    "    print('Количество пустых значений в датафрейме')\n",
    "    display(x.isna().sum())\n",
    "    print('Количество явных дубликатов в датафрейме')\n",
    "    display(x.duplicated().sum())\n",
    "    print('Описательная статистика')\n",
    "    display(x.describe())\n",
    "    \n",
    "try:\n",
    "    data = pd.read_csv('/datasets/users_behavior.csv')\n",
    "except:\n",
    "    data = pd.read_csv('C:/Users/daria/Датасеты для проектов/06 Введение в машинное обучение - рекомендация тарифов/users_behavior.csv')\n",
    "my_func(data)"
   ]
  },
  {
   "cell_type": "markdown",
   "metadata": {},
   "source": [
    "**Вывод:**\n",
    "\n",
    "При первичном анализе было выявлено, что пустых значений в столбцах нет, как и явных дубликатов. Явных аномалий также найдено не было.\n",
    "\n",
    "Целевой признак в данном исследовании - данные в столбце 'is_ultra'."
   ]
  },
  {
   "cell_type": "markdown",
   "metadata": {},
   "source": [
    "## Разделение данных на выборки."
   ]
  },
  {
   "cell_type": "markdown",
   "metadata": {},
   "source": [
    "В данном исследовании спрятанной тестовой выборки нет, значит, данные следует разбить на три части: обучающую, валидационную и тестовую в соотношении 3:1:1. На обучающую выборку отводится 60% исходных данных, на валидационную и тестовую выборки по 20%. Разделим сначала исходные данные на обучающую выборку и оставшуюся часть выборки (40%), после этого остаток разделим пополам, чтобы получилось равное количество данных в валидационной и тестовой выборках."
   ]
  },
  {
   "cell_type": "code",
   "execution_count": 3,
   "metadata": {},
   "outputs": [
    {
     "name": "stdout",
     "output_type": "stream",
     "text": [
      "Размер обучающей выборки 1928\n",
      "Размер валидационной выборки 643\n",
      "Размер тестовой выборки 643\n"
     ]
    }
   ],
   "source": [
    "train_data, valid_data, test_data = np.split(data.sample(frac=1, random_state=821), \\\n",
    "                              [int(.6*len(data)), int(.8*len(data))])\n",
    "print('Размер обучающей выборки', train_data.shape[0])\n",
    "print('Размер валидационной выборки', valid_data.shape[0])\n",
    "print('Размер тестовой выборки', test_data.shape[0])"
   ]
  },
  {
   "cell_type": "markdown",
   "metadata": {},
   "source": [
    "Теперь определим целевой признак и остальные признаки по каждой выборке."
   ]
  },
  {
   "cell_type": "code",
   "execution_count": 4,
   "metadata": {},
   "outputs": [],
   "source": [
    "train_data_features = train_data.drop(['is_ultra'], axis=1)\n",
    "train_data_target = train_data['is_ultra']"
   ]
  },
  {
   "cell_type": "code",
   "execution_count": 5,
   "metadata": {},
   "outputs": [],
   "source": [
    "valid_data_features = valid_data.drop(['is_ultra'], axis=1)\n",
    "valid_data_target = valid_data['is_ultra']"
   ]
  },
  {
   "cell_type": "code",
   "execution_count": 6,
   "metadata": {},
   "outputs": [],
   "source": [
    "test_data_features = test_data.drop(['is_ultra'], axis=1)\n",
    "test_data_target = test_data['is_ultra']"
   ]
  },
  {
   "cell_type": "markdown",
   "metadata": {},
   "source": [
    "**Вывод:**\n",
    "\n",
    "В этом блоке исследования разделили исходные данные на три части: обучающую, валидационную и тестовую выборки в соотношении 3:1:1. По каждому из выборок определили целевой признак - данные в столбце 'is_ultra', а также остальные признаки."
   ]
  },
  {
   "cell_type": "markdown",
   "metadata": {},
   "source": [
    "## Исследование модели."
   ]
  },
  {
   "cell_type": "markdown",
   "metadata": {},
   "source": [
    "### \"Дерево решений\", DecisionTreeClassifier"
   ]
  },
  {
   "cell_type": "markdown",
   "metadata": {},
   "source": [
    "Определим точность модели **\"Дерево решений\", DecisionTreeClassifier** и найдем лучшие значения гиперпараметров 'max_depth', 'min_samples_split', 'min_samples_leaf', 'criterion'."
   ]
  },
  {
   "cell_type": "code",
   "execution_count": 7,
   "metadata": {},
   "outputs": [],
   "source": [
    "best_parameters = []\n",
    "best_result = 0\n",
    "for depth in range(1, 10):\n",
    "    for samples_split in range(2, 10):\n",
    "            for samples_leaf in range(1, 10):\n",
    "                for criterion in ['gini', 'entropy']:\n",
    "                    model = DecisionTreeClassifier(\n",
    "                        random_state=12345, \n",
    "                        max_depth=depth,\n",
    "                        min_samples_split=samples_split,\n",
    "                        min_samples_leaf=samples_leaf,\n",
    "                        criterion=criterion\n",
    "                    )\n",
    "                    model.fit(train_data_features, train_data_target)\n",
    "                    predictions = model.predict(valid_data_features)\n",
    "                    result = accuracy_score(valid_data_target, predictions)\n",
    "                    if result > best_result:\n",
    "                        best_parameters = [depth, samples_split, samples_leaf, criterion]\n",
    "                        best_result = result        "
   ]
  },
  {
   "cell_type": "code",
   "execution_count": 8,
   "metadata": {},
   "outputs": [
    {
     "name": "stdout",
     "output_type": "stream",
     "text": [
      "Лучшая глубина дерева: 7\n",
      "Лучшее количество выборок: 2\n",
      "Лучшее количество образцов: 4\n",
      "Лучший критерий: entropy\n",
      "Accuracy модели \"Дерево решений\" на валидационной выборке: 0.8009331259720062\n"
     ]
    }
   ],
   "source": [
    "print('Лучшая глубина дерева:', best_parameters[0])\n",
    "print('Лучшее количество выборок:', best_parameters[1])\n",
    "print('Лучшее количество образцов:', best_parameters[2])\n",
    "print('Лучший критерий:', best_parameters[3])\n",
    "print('Accuracy модели \"Дерево решений\" на валидационной выборке:', best_result)"
   ]
  },
  {
   "cell_type": "markdown",
   "metadata": {},
   "source": [
    "Accuracy модели \"Дерево решений\" равно 80%."
   ]
  },
  {
   "cell_type": "markdown",
   "metadata": {},
   "source": [
    "### \"Случайный лес\", RandomForestClassifier"
   ]
  },
  {
   "cell_type": "markdown",
   "metadata": {},
   "source": [
    "Определим точность модели **\"Случайный лес\", RandomForestClassifier**, и найдем лучшие значения гиперпараметров 'n_estimators', 'max_depth', 'min_samples_split', 'min_samples_leaf', 'criterion'."
   ]
  },
  {
   "cell_type": "code",
   "execution_count": 9,
   "metadata": {},
   "outputs": [],
   "source": [
    "best_parameters = []\n",
    "best_result = 0\n",
    "for est in range(1, 10):\n",
    "    for depth in range(1, 10):\n",
    "        for samples_split in range(2, 10):\n",
    "                for samples_leaf in range(1, 10):\n",
    "                    for criterion in ['gini', 'entropy']:\n",
    "                        model_2 = RandomForestClassifier(\n",
    "                            random_state=12345,\n",
    "                            n_estimators=est,\n",
    "                            max_depth=depth,\n",
    "                            min_samples_split=samples_split,\n",
    "                            min_samples_leaf=samples_leaf,\n",
    "                            criterion=criterion\n",
    "                        )\n",
    "                        model_2.fit(train_data_features, train_data_target)\n",
    "                        predictions = model_2.predict(valid_data_features)\n",
    "                        result = accuracy_score(valid_data_target, predictions)\n",
    "                        if result > best_result:\n",
    "                            best_parameters = [est, depth, samples_split, samples_leaf, criterion]\n",
    "                            best_result = result        "
   ]
  },
  {
   "cell_type": "code",
   "execution_count": 10,
   "metadata": {},
   "outputs": [
    {
     "name": "stdout",
     "output_type": "stream",
     "text": [
      "Лучшее количество деревьев: 4\n",
      "Лучшая глубина дерева: 8\n",
      "Лучшее количество выборок: 2\n",
      "Лучшее количество образцов: 7\n",
      "Лучший критерий: entropy\n",
      "Accuracy модели \"Случайный лес\" на валидационной выборке: 0.8180404354587869\n"
     ]
    }
   ],
   "source": [
    "print('Лучшее количество деревьев:', best_parameters[0])\n",
    "print('Лучшая глубина дерева:', best_parameters[1])\n",
    "print('Лучшее количество выборок:', best_parameters[2])\n",
    "print('Лучшее количество образцов:', best_parameters[3])\n",
    "print('Лучший критерий:', best_parameters[4])\n",
    "print('Accuracy модели \"Случайный лес\" на валидационной выборке:', best_result)"
   ]
  },
  {
   "cell_type": "markdown",
   "metadata": {},
   "source": [
    "Точность модели \"Случайный лес\" улучшена на 1% (по сравнению с моделью \"Дерево решений\", и составляет 81%."
   ]
  },
  {
   "cell_type": "markdown",
   "metadata": {},
   "source": [
    "### \"Линейная регрессия\", LogisticRegression"
   ]
  },
  {
   "cell_type": "markdown",
   "metadata": {},
   "source": [
    "Определим точность модели **линейной регрессии, LogisticRegression**:"
   ]
  },
  {
   "cell_type": "code",
   "execution_count": 11,
   "metadata": {},
   "outputs": [
    {
     "name": "stdout",
     "output_type": "stream",
     "text": [
      "Лучший алгоритм, используемый для оптимизации: newton-cg\n",
      "Accuracy модели \"Логистическая регрессия\" на валидационной выборке: 0.7480559875583204\n"
     ]
    }
   ],
   "source": [
    "best_model_3 = None\n",
    "best_result = 0\n",
    "best_solver = ''\n",
    "solvers = ['liblinear', 'newton-cg', 'lbfgs', 'sag', 'saga']\n",
    "\n",
    "for solver in solvers:\n",
    "    model_3 = LogisticRegression(random_state=12345, solver=solver)\n",
    "    model_3.fit(train_data_features, train_data_target)\n",
    "    predictions = model_3.predict(valid_data_features)\n",
    "    result = accuracy_score(valid_data_target, predictions)\n",
    "    if result > best_result:\n",
    "        best_result = result\n",
    "        best_model_3 = model_3\n",
    "        best_solver = solver                \n",
    "        \n",
    "print('Лучший алгоритм, используемый для оптимизации:', best_solver)        \n",
    "print('Accuracy модели \"Логистическая регрессия\" на валидационной выборке:', best_result)"
   ]
  },
  {
   "cell_type": "markdown",
   "metadata": {},
   "source": [
    "**Вывод:**\n",
    "\n",
    "Из исследования моделей выше можно сделать вывод, что модель \"случайный лес\" является моделью с лучшим показателем точности на валидационной выборке - 81%. Лучшие гиперпараметры следующие:\n",
    "\n",
    "- Лучшее количество деревьев: 4\n",
    "- Лучшая глубина дерева: 8\n",
    "- Лучшее количество выборок: 2\n",
    "- Лучшее количество образцов: 7\n",
    "- Лучший критерий: entropy\n",
    "\n",
    "Остальные модели, которые были исследованы также в этом этапе: \"дерево решений\" и \"логистическая регрессия\".\n",
    "\n",
    "Лучший показатель точности модели \"Дерево решений\" на валидационной выборке составил 80%. При этом были определены лучшие гиперпараметры: \n",
    "- Лучшая глубина дерева: 7\n",
    "- Лучшее количество выборок: 2\n",
    "- Лучшее количество образцов: 4\n",
    "- Лучший критерий: entropy\n",
    "\n",
    "Что касается модели \"линейная регрессия\", то лучший алгоритм, используемый для оптимизации, это - 'newton-cg'. В то время как точность модели составила 74%."
   ]
  },
  {
   "cell_type": "markdown",
   "metadata": {},
   "source": [
    "## Проверка модели на тестовой выборке"
   ]
  },
  {
   "cell_type": "markdown",
   "metadata": {},
   "source": [
    "Выполним проверку модели на тестовой выборке, используя модель с лучшим показателем accuracy:"
   ]
  },
  {
   "cell_type": "code",
   "execution_count": 12,
   "metadata": {},
   "outputs": [
    {
     "name": "stdout",
     "output_type": "stream",
     "text": [
      "Accuracy модели \"Случайный лес\" на тестовой выборке: 0.8055987558320373\n"
     ]
    }
   ],
   "source": [
    "final_model = RandomForestClassifier(\n",
    "    random_state=12345,\n",
    "    n_estimators=8,\n",
    "    max_depth=6,\n",
    "    min_samples_split=9,\n",
    "    min_samples_leaf=4,\n",
    "    criterion='gini'\n",
    ")\n",
    "final_model.fit(train_data_features, train_data_target)\n",
    "predictions = final_model.predict(test_data_features)\n",
    "result = accuracy_score(test_data_target, predictions)\n",
    "print('Accuracy модели \"Случайный лес\" на тестовой выборке:', result)"
   ]
  },
  {
   "cell_type": "markdown",
   "metadata": {},
   "source": [
    "**Вывод:**\n",
    "\n",
    "Проверили модель \"Случайный лес\", как модель с лучшим показателем точности - 81%, и можем сделать вывод о небольшой переобученности модели - значение показателя точности на тестовой выборке хуже - 80%. Задачей исследования являлась необходимость построения модели с максимально большим значением accuracy - нам удалось получить долю правильных ответов выше 75%."
   ]
  },
  {
   "cell_type": "markdown",
   "metadata": {},
   "source": [
    "## Проверка модели на адекватность"
   ]
  },
  {
   "cell_type": "markdown",
   "metadata": {},
   "source": [
    "Проверим модель на адекватность с использованием классификатора DummyClassifier:"
   ]
  },
  {
   "cell_type": "code",
   "execution_count": 13,
   "metadata": {},
   "outputs": [
    {
     "name": "stdout",
     "output_type": "stream",
     "text": [
      "Accuracy dummy-модели:  0.6936236391912908\n"
     ]
    }
   ],
   "source": [
    "dummy_clf = DummyClassifier(strategy='most_frequent', random_state=12345)\n",
    "dummy_clf.fit(train_data_features, train_data_target)\n",
    "predictions = dummy_clf.predict(valid_data_features)\n",
    "result = accuracy_score(valid_data_target, predictions)\n",
    "\n",
    "print('Accuracy dummy-модели: ', result)"
   ]
  },
  {
   "cell_type": "markdown",
   "metadata": {},
   "source": [
    "**Вывод:**\n",
    "\n",
    "Проверка выше доказала, что точность модели DummyClassifier ниже, чем у модели случайного леса - модель адекватна и эффективна."
   ]
  },
  {
   "cell_type": "markdown",
   "metadata": {},
   "source": [
    "## Общий вывод"
   ]
  },
  {
   "cell_type": "markdown",
   "metadata": {},
   "source": [
    "При первичном анализе было выявлено, что пустых значений в столбцах нет, как и явных дубликатов. Явных аномалий также найдено не было. Целевым признаком определили данные в столбце 'is_ultra'.\n",
    "\n",
    "Далее были разделены исходные данные на три части: обучающую, валидационную и тестовую выборки в соотношении 3:1:1.\n",
    "\n",
    "Исследование моделей показало, что модель \"случайный лес\" является моделью с лучшим показателем точности на валидационной выборке - 81%. Лучшие гиперпараметры следующие:\n",
    "\n",
    "- Лучшее количество деревьев: 4\n",
    "- Лучшая глубина дерева: 8\n",
    "- Лучшее количество выборок: 2\n",
    "- Лучшее количество образцов: 7\n",
    "- Лучший критерий: entropy\n",
    "\n",
    "Остальные модели, которые были исследованы также в этом этапе: \"дерево решений\" и \"логистическая регрессия\".\n",
    "\n",
    "Лучший показатель точности модели \"Дерево решений\" на валидационной выборке составил 80%. При этом были определены лучшие гиперпараметры: \n",
    "- Лучшая глубина дерева: 7\n",
    "- Лучшее количество выборок: 2\n",
    "- Лучшее количество образцов: 4\n",
    "- Лучший критерий: entropy\n",
    "\n",
    "Что касается модели \"линейная регрессия\", то лучший алгоритм, используемый для оптимизации, это - 'newton-cg'. В то время как точность модели составила 74%.\n",
    "\n",
    "Проверили модель \"Случайный лес\", как модель с лучшим показателем точности - 81%, и можем сделать вывод о небольшой переобученности модели - значение показателя точности на тестовой выборке хуже - 80%. Задачей исследования являлась необходимость построения модели с максимально большим значением accuracy - нам удалось получить долю правильных ответов выше 75%.\n",
    "\n",
    "Проверка модели на адекватность доказала, что точность модели DummyClassifier ниже, чем у модели случайного леса - модель адекватна и эффективна."
   ]
  }
 ],
 "metadata": {
  "ExecuteTimeLog": [
   {
    "duration": 51,
    "start_time": "2023-05-30T09:44:37.649Z"
   },
   {
    "duration": 382,
    "start_time": "2023-05-30T09:44:39.006Z"
   },
   {
    "duration": 64,
    "start_time": "2023-05-30T09:44:39.390Z"
   },
   {
    "duration": 87,
    "start_time": "2023-05-30T09:47:14.487Z"
   },
   {
    "duration": 423,
    "start_time": "2023-05-30T09:55:07.878Z"
   },
   {
    "duration": 102,
    "start_time": "2023-05-30T09:55:08.303Z"
   },
   {
    "duration": 6,
    "start_time": "2023-05-30T09:56:23.246Z"
   },
   {
    "duration": 78,
    "start_time": "2023-05-30T10:09:38.309Z"
   },
   {
    "duration": 21,
    "start_time": "2023-05-30T10:09:39.291Z"
   },
   {
    "duration": 7,
    "start_time": "2023-05-30T10:09:39.519Z"
   },
   {
    "duration": 1098,
    "start_time": "2023-05-30T10:09:45.403Z"
   },
   {
    "duration": 97,
    "start_time": "2023-05-30T10:09:46.502Z"
   },
   {
    "duration": 115,
    "start_time": "2023-05-30T10:09:46.601Z"
   },
   {
    "duration": 0,
    "start_time": "2023-05-30T10:09:46.718Z"
   },
   {
    "duration": 10,
    "start_time": "2023-05-30T11:38:09.051Z"
   },
   {
    "duration": 9,
    "start_time": "2023-05-30T11:38:52.976Z"
   },
   {
    "duration": 15,
    "start_time": "2023-05-30T11:43:49.201Z"
   },
   {
    "duration": 14,
    "start_time": "2023-05-30T11:43:49.458Z"
   },
   {
    "duration": 16,
    "start_time": "2023-05-30T11:44:03.618Z"
   },
   {
    "duration": 1082,
    "start_time": "2023-05-30T11:44:51.424Z"
   },
   {
    "duration": 83,
    "start_time": "2023-05-30T11:44:52.507Z"
   },
   {
    "duration": 7,
    "start_time": "2023-05-30T11:44:52.592Z"
   },
   {
    "duration": 125,
    "start_time": "2023-05-30T11:44:52.601Z"
   },
   {
    "duration": 0,
    "start_time": "2023-05-30T11:44:52.728Z"
   },
   {
    "duration": 0,
    "start_time": "2023-05-30T11:44:52.729Z"
   },
   {
    "duration": 9,
    "start_time": "2023-05-30T11:45:30.109Z"
   },
   {
    "duration": 15,
    "start_time": "2023-05-30T11:47:55.807Z"
   },
   {
    "duration": 4,
    "start_time": "2023-05-30T11:49:51.967Z"
   },
   {
    "duration": 4,
    "start_time": "2023-05-30T11:49:56.062Z"
   },
   {
    "duration": 5,
    "start_time": "2023-05-30T11:49:59.559Z"
   },
   {
    "duration": 44,
    "start_time": "2023-05-30T12:04:15.504Z"
   },
   {
    "duration": 38,
    "start_time": "2023-05-30T12:13:04.379Z"
   },
   {
    "duration": 75,
    "start_time": "2023-05-30T12:19:43.391Z"
   },
   {
    "duration": 48,
    "start_time": "2023-05-30T12:19:49.956Z"
   },
   {
    "duration": 249,
    "start_time": "2023-05-30T12:20:01.760Z"
   },
   {
    "duration": 60,
    "start_time": "2023-05-30T12:20:09.260Z"
   },
   {
    "duration": 55,
    "start_time": "2023-05-30T12:20:27.716Z"
   },
   {
    "duration": 36,
    "start_time": "2023-05-30T12:21:30.358Z"
   },
   {
    "duration": 36,
    "start_time": "2023-05-30T12:22:38.479Z"
   },
   {
    "duration": 106,
    "start_time": "2023-05-30T12:22:59.384Z"
   },
   {
    "duration": 280,
    "start_time": "2023-05-30T12:23:16.608Z"
   },
   {
    "duration": 205,
    "start_time": "2023-05-30T12:23:23.393Z"
   },
   {
    "duration": 353,
    "start_time": "2023-05-30T12:23:27.678Z"
   },
   {
    "duration": 547,
    "start_time": "2023-05-30T12:23:35.092Z"
   },
   {
    "duration": 1065,
    "start_time": "2023-05-30T12:23:43.708Z"
   },
   {
    "duration": 576,
    "start_time": "2023-05-30T12:24:29.170Z"
   },
   {
    "duration": 517,
    "start_time": "2023-05-30T12:25:02.321Z"
   },
   {
    "duration": 530,
    "start_time": "2023-05-30T12:25:06.395Z"
   },
   {
    "duration": 512,
    "start_time": "2023-05-30T12:25:17.972Z"
   },
   {
    "duration": 4,
    "start_time": "2023-05-30T12:25:21.262Z"
   },
   {
    "duration": 28,
    "start_time": "2023-05-30T12:34:20.483Z"
   },
   {
    "duration": 5,
    "start_time": "2023-05-30T12:34:26.584Z"
   },
   {
    "duration": 9,
    "start_time": "2023-05-30T12:47:40.160Z"
   },
   {
    "duration": 4178,
    "start_time": "2023-05-30T12:51:11.300Z"
   },
   {
    "duration": 4275,
    "start_time": "2023-05-30T12:53:03.047Z"
   },
   {
    "duration": 229,
    "start_time": "2023-05-30T12:55:47.296Z"
   },
   {
    "duration": 218,
    "start_time": "2023-05-30T13:09:35.340Z"
   },
   {
    "duration": 244,
    "start_time": "2023-05-30T13:09:42.290Z"
   },
   {
    "duration": 267,
    "start_time": "2023-05-30T13:09:45.889Z"
   },
   {
    "duration": 228,
    "start_time": "2023-05-30T13:09:51.759Z"
   },
   {
    "duration": 314,
    "start_time": "2023-05-30T13:09:56.956Z"
   },
   {
    "duration": 235,
    "start_time": "2023-05-30T13:10:04.488Z"
   },
   {
    "duration": 14,
    "start_time": "2023-05-30T13:16:04.864Z"
   },
   {
    "duration": 14,
    "start_time": "2023-05-30T13:16:48.373Z"
   },
   {
    "duration": 15,
    "start_time": "2023-05-30T13:17:27.461Z"
   },
   {
    "duration": 9,
    "start_time": "2023-05-30T13:21:21.591Z"
   },
   {
    "duration": 67,
    "start_time": "2023-05-30T13:29:22.569Z"
   },
   {
    "duration": 71,
    "start_time": "2023-05-30T13:30:01.079Z"
   },
   {
    "duration": 13978,
    "start_time": "2023-05-30T13:30:05.970Z"
   },
   {
    "duration": 219927,
    "start_time": "2023-05-30T13:30:46.471Z"
   },
   {
    "duration": 12,
    "start_time": "2023-05-30T13:47:47.666Z"
   },
   {
    "duration": 10,
    "start_time": "2023-05-30T13:48:01.192Z"
   },
   {
    "duration": 857,
    "start_time": "2023-05-30T13:48:45.193Z"
   },
   {
    "duration": 14,
    "start_time": "2023-05-30T13:50:30.676Z"
   },
   {
    "duration": 10,
    "start_time": "2023-05-30T14:13:21.158Z"
   },
   {
    "duration": 11,
    "start_time": "2023-05-30T14:14:41.981Z"
   },
   {
    "duration": 233,
    "start_time": "2023-05-30T14:19:10.976Z"
   },
   {
    "duration": 1190,
    "start_time": "2023-05-30T14:23:55.300Z"
   },
   {
    "duration": 85,
    "start_time": "2023-05-30T14:23:56.494Z"
   },
   {
    "duration": 8,
    "start_time": "2023-05-30T14:23:56.580Z"
   },
   {
    "duration": 13,
    "start_time": "2023-05-30T14:23:56.589Z"
   },
   {
    "duration": 14,
    "start_time": "2023-05-30T14:23:56.603Z"
   },
   {
    "duration": 19,
    "start_time": "2023-05-30T14:23:56.619Z"
   },
   {
    "duration": 284,
    "start_time": "2023-05-30T14:23:56.640Z"
   },
   {
    "duration": 4,
    "start_time": "2023-05-30T14:23:56.926Z"
   },
   {
    "duration": 31,
    "start_time": "2023-05-30T14:23:56.931Z"
   },
   {
    "duration": 9,
    "start_time": "2023-05-30T14:23:56.965Z"
   },
   {
    "duration": 223604,
    "start_time": "2023-05-30T14:23:56.975Z"
   },
   {
    "duration": 12,
    "start_time": "2023-05-30T14:27:40.582Z"
   },
   {
    "duration": 214,
    "start_time": "2023-05-30T14:27:40.595Z"
   },
   {
    "duration": 544,
    "start_time": "2023-05-30T14:27:45.599Z"
   },
   {
    "duration": 25261,
    "start_time": "2023-05-30T14:32:31.005Z"
   },
   {
    "duration": 1138,
    "start_time": "2023-05-30T14:33:40.990Z"
   },
   {
    "duration": 87,
    "start_time": "2023-05-30T14:33:42.131Z"
   },
   {
    "duration": 10,
    "start_time": "2023-05-30T14:33:42.220Z"
   },
   {
    "duration": 37,
    "start_time": "2023-05-30T14:33:42.232Z"
   },
   {
    "duration": 8,
    "start_time": "2023-05-30T14:33:42.271Z"
   },
   {
    "duration": 6,
    "start_time": "2023-05-30T14:33:42.281Z"
   },
   {
    "duration": 299,
    "start_time": "2023-05-30T14:33:42.290Z"
   },
   {
    "duration": 4,
    "start_time": "2023-05-30T14:33:42.591Z"
   },
   {
    "duration": 20,
    "start_time": "2023-05-30T14:33:42.596Z"
   },
   {
    "duration": 9,
    "start_time": "2023-05-30T14:33:42.619Z"
   },
   {
    "duration": 14,
    "start_time": "2023-05-30T14:34:09.312Z"
   },
   {
    "duration": 286,
    "start_time": "2023-05-30T14:34:09.328Z"
   },
   {
    "duration": 135,
    "start_time": "2023-05-30T14:34:09.617Z"
   },
   {
    "duration": 4,
    "start_time": "2023-05-30T14:34:35.855Z"
   },
   {
    "duration": 21114,
    "start_time": "2023-05-30T14:34:41.099Z"
   },
   {
    "duration": 4,
    "start_time": "2023-06-05T09:44:11.990Z"
   },
   {
    "duration": 175,
    "start_time": "2023-06-05T09:44:11.996Z"
   },
   {
    "duration": 9,
    "start_time": "2023-06-05T09:44:12.173Z"
   },
   {
    "duration": 71,
    "start_time": "2023-06-05T09:44:12.184Z"
   },
   {
    "duration": 39,
    "start_time": "2023-06-05T09:44:12.257Z"
   },
   {
    "duration": 84,
    "start_time": "2023-06-05T09:44:12.299Z"
   },
   {
    "duration": 312,
    "start_time": "2023-06-05T09:44:12.385Z"
   },
   {
    "duration": 4,
    "start_time": "2023-06-05T09:44:12.699Z"
   },
   {
    "duration": 37,
    "start_time": "2023-06-05T09:44:12.705Z"
   },
   {
    "duration": 54,
    "start_time": "2023-06-05T09:44:12.745Z"
   },
   {
    "duration": 20144,
    "start_time": "2023-06-05T09:44:12.802Z"
   },
   {
    "duration": 10,
    "start_time": "2023-06-05T09:44:32.948Z"
   },
   {
    "duration": 41,
    "start_time": "2023-06-05T09:44:32.960Z"
   },
   {
    "duration": 127,
    "start_time": "2023-06-05T11:06:22.201Z"
   },
   {
    "duration": 16,
    "start_time": "2023-06-05T11:07:48.955Z"
   },
   {
    "duration": 15,
    "start_time": "2023-06-05T11:08:47.571Z"
   },
   {
    "duration": 77,
    "start_time": "2023-06-05T11:08:56.207Z"
   },
   {
    "duration": 15,
    "start_time": "2023-06-05T11:09:10.919Z"
   },
   {
    "duration": 15,
    "start_time": "2023-06-05T11:09:25.662Z"
   },
   {
    "duration": 11,
    "start_time": "2023-06-05T11:09:32.742Z"
   },
   {
    "duration": 3955,
    "start_time": "2023-06-05T11:11:07.305Z"
   },
   {
    "duration": 5,
    "start_time": "2023-06-05T11:11:11.262Z"
   },
   {
    "duration": 5,
    "start_time": "2023-06-05T11:12:51.196Z"
   },
   {
    "duration": 13,
    "start_time": "2023-06-05T11:23:49.330Z"
   },
   {
    "duration": 15,
    "start_time": "2023-06-05T11:23:55.521Z"
   },
   {
    "duration": 10,
    "start_time": "2023-06-05T11:23:55.900Z"
   },
   {
    "duration": 134,
    "start_time": "2023-06-05T11:24:24.634Z"
   },
   {
    "duration": 13,
    "start_time": "2023-06-05T11:24:25.178Z"
   },
   {
    "duration": 5621,
    "start_time": "2023-06-05T11:24:29.648Z"
   },
   {
    "duration": 6,
    "start_time": "2023-06-05T11:24:35.270Z"
   },
   {
    "duration": 5631,
    "start_time": "2023-06-05T11:24:48.026Z"
   },
   {
    "duration": 4,
    "start_time": "2023-06-05T11:24:53.659Z"
   },
   {
    "duration": 12,
    "start_time": "2023-06-05T11:50:32.733Z"
   },
   {
    "duration": 20,
    "start_time": "2023-06-05T11:50:58.006Z"
   },
   {
    "duration": 5,
    "start_time": "2023-06-05T11:50:58.570Z"
   },
   {
    "duration": 14,
    "start_time": "2023-06-05T11:51:25.054Z"
   },
   {
    "duration": 3,
    "start_time": "2023-06-05T11:52:52.337Z"
   },
   {
    "duration": 12,
    "start_time": "2023-06-05T11:52:57.726Z"
   },
   {
    "duration": 9,
    "start_time": "2023-06-05T11:52:58.490Z"
   },
   {
    "duration": 1331,
    "start_time": "2023-06-05T11:53:08.109Z"
   },
   {
    "duration": 118,
    "start_time": "2023-06-05T11:53:09.442Z"
   },
   {
    "duration": 7,
    "start_time": "2023-06-05T11:53:09.561Z"
   },
   {
    "duration": 58,
    "start_time": "2023-06-05T11:53:09.570Z"
   },
   {
    "duration": 10,
    "start_time": "2023-06-05T11:53:09.629Z"
   },
   {
    "duration": 8,
    "start_time": "2023-06-05T11:53:09.641Z"
   },
   {
    "duration": 199,
    "start_time": "2023-06-05T11:53:09.650Z"
   },
   {
    "duration": 0,
    "start_time": "2023-06-05T11:53:09.850Z"
   },
   {
    "duration": 0,
    "start_time": "2023-06-05T11:53:09.851Z"
   },
   {
    "duration": 0,
    "start_time": "2023-06-05T11:53:09.853Z"
   },
   {
    "duration": 0,
    "start_time": "2023-06-05T11:53:09.854Z"
   },
   {
    "duration": 12,
    "start_time": "2023-06-05T11:53:37.320Z"
   },
   {
    "duration": 0,
    "start_time": "2023-06-05T11:57:44.956Z"
   },
   {
    "duration": 0,
    "start_time": "2023-06-05T11:57:44.958Z"
   },
   {
    "duration": 28704,
    "start_time": "2023-06-05T11:58:16.334Z"
   },
   {
    "duration": 4,
    "start_time": "2023-06-05T11:58:45.040Z"
   },
   {
    "duration": 4,
    "start_time": "2023-06-05T11:59:19.672Z"
   },
   {
    "duration": 28761,
    "start_time": "2023-06-05T11:59:50.508Z"
   },
   {
    "duration": 19,
    "start_time": "2023-06-05T12:00:19.280Z"
   },
   {
    "duration": 19381,
    "start_time": "2023-06-05T12:11:28.126Z"
   },
   {
    "duration": 0,
    "start_time": "2023-06-05T12:11:47.508Z"
   },
   {
    "duration": 1755,
    "start_time": "2023-06-05T12:12:39.183Z"
   },
   {
    "duration": 187,
    "start_time": "2023-06-05T12:12:40.940Z"
   },
   {
    "duration": 8,
    "start_time": "2023-06-05T12:12:41.128Z"
   },
   {
    "duration": 34,
    "start_time": "2023-06-05T12:12:41.138Z"
   },
   {
    "duration": 51,
    "start_time": "2023-06-05T12:12:41.174Z"
   },
   {
    "duration": 18,
    "start_time": "2023-06-05T12:12:41.226Z"
   },
   {
    "duration": 31080,
    "start_time": "2023-06-05T12:12:41.246Z"
   },
   {
    "duration": 5,
    "start_time": "2023-06-05T12:13:12.328Z"
   },
   {
    "duration": 242900,
    "start_time": "2023-06-05T12:13:12.335Z"
   },
   {
    "duration": 0,
    "start_time": "2023-06-05T12:17:15.238Z"
   },
   {
    "duration": 0,
    "start_time": "2023-06-05T12:17:15.239Z"
   },
   {
    "duration": 0,
    "start_time": "2023-06-05T12:17:15.241Z"
   },
   {
    "duration": 308037,
    "start_time": "2023-06-05T12:18:21.988Z"
   },
   {
    "duration": 0,
    "start_time": "2023-06-05T12:23:30.027Z"
   },
   {
    "duration": 183557,
    "start_time": "2023-06-05T12:23:30.381Z"
   },
   {
    "duration": 5,
    "start_time": "2023-06-05T12:26:33.940Z"
   },
   {
    "duration": 4,
    "start_time": "2023-06-05T12:52:02.792Z"
   },
   {
    "duration": 16868,
    "start_time": "2023-06-05T12:54:02.522Z"
   },
   {
    "duration": 6,
    "start_time": "2023-06-05T12:54:41.424Z"
   },
   {
    "duration": 4,
    "start_time": "2023-06-05T12:55:28.530Z"
   },
   {
    "duration": 17824,
    "start_time": "2023-06-05T13:13:49.801Z"
   },
   {
    "duration": 6,
    "start_time": "2023-06-05T13:14:07.627Z"
   },
   {
    "duration": 20752,
    "start_time": "2023-06-05T13:17:59.578Z"
   },
   {
    "duration": 0,
    "start_time": "2023-06-05T13:18:20.333Z"
   },
   {
    "duration": 1118,
    "start_time": "2023-06-05T13:20:27.095Z"
   },
   {
    "duration": 73,
    "start_time": "2023-06-05T13:20:28.214Z"
   },
   {
    "duration": 7,
    "start_time": "2023-06-05T13:20:28.289Z"
   },
   {
    "duration": 15,
    "start_time": "2023-06-05T13:20:28.298Z"
   },
   {
    "duration": 10,
    "start_time": "2023-06-05T13:20:28.315Z"
   },
   {
    "duration": 15,
    "start_time": "2023-06-05T13:20:28.327Z"
   },
   {
    "duration": 8786,
    "start_time": "2023-06-05T13:20:28.343Z"
   },
   {
    "duration": 4,
    "start_time": "2023-06-05T13:20:37.131Z"
   },
   {
    "duration": 181197,
    "start_time": "2023-06-05T13:20:37.137Z"
   },
   {
    "duration": 5,
    "start_time": "2023-06-05T13:23:38.337Z"
   },
   {
    "duration": 179953,
    "start_time": "2023-06-05T13:23:38.343Z"
   },
   {
    "duration": 0,
    "start_time": "2023-06-05T13:26:38.298Z"
   },
   {
    "duration": 1290,
    "start_time": "2023-06-05T13:29:07.996Z"
   },
   {
    "duration": 79,
    "start_time": "2023-06-05T13:29:09.288Z"
   },
   {
    "duration": 7,
    "start_time": "2023-06-05T13:29:09.369Z"
   },
   {
    "duration": 5,
    "start_time": "2023-06-05T13:29:09.378Z"
   },
   {
    "duration": 5,
    "start_time": "2023-06-05T13:29:09.384Z"
   },
   {
    "duration": 35,
    "start_time": "2023-06-05T13:29:09.390Z"
   },
   {
    "duration": 7938,
    "start_time": "2023-06-05T13:29:09.427Z"
   },
   {
    "duration": 5,
    "start_time": "2023-06-05T13:29:17.366Z"
   },
   {
    "duration": 179759,
    "start_time": "2023-06-05T13:29:17.373Z"
   },
   {
    "duration": 4,
    "start_time": "2023-06-05T13:32:17.134Z"
   },
   {
    "duration": 340536,
    "start_time": "2023-06-05T13:32:17.140Z"
   },
   {
    "duration": 3,
    "start_time": "2023-06-05T13:37:57.678Z"
   },
   {
    "duration": 274351,
    "start_time": "2023-06-05T13:40:25.332Z"
   },
   {
    "duration": 3,
    "start_time": "2023-06-05T13:44:59.685Z"
   },
   {
    "duration": 105,
    "start_time": "2023-06-05T13:57:54.270Z"
   },
   {
    "duration": 9,
    "start_time": "2023-06-05T13:57:54.459Z"
   },
   {
    "duration": 11,
    "start_time": "2023-06-05T14:00:25.602Z"
   },
   {
    "duration": 9,
    "start_time": "2023-06-05T14:00:25.769Z"
   },
   {
    "duration": 54711,
    "start_time": "2023-06-05T14:00:30.925Z"
   },
   {
    "duration": 0,
    "start_time": "2023-06-05T14:01:25.638Z"
   },
   {
    "duration": 278901,
    "start_time": "2023-06-05T14:03:39.195Z"
   },
   {
    "duration": 4,
    "start_time": "2023-06-05T14:08:18.097Z"
   },
   {
    "duration": 5952,
    "start_time": "2023-06-05T14:09:51.161Z"
   },
   {
    "duration": 0,
    "start_time": "2023-06-05T14:09:57.115Z"
   },
   {
    "duration": 1466,
    "start_time": "2023-06-05T14:10:06.577Z"
   },
   {
    "duration": 75,
    "start_time": "2023-06-05T14:10:08.044Z"
   },
   {
    "duration": 7,
    "start_time": "2023-06-05T14:10:08.120Z"
   },
   {
    "duration": 188,
    "start_time": "2023-06-05T14:10:08.129Z"
   },
   {
    "duration": 85,
    "start_time": "2023-06-05T14:10:08.319Z"
   },
   {
    "duration": 44,
    "start_time": "2023-06-05T14:10:08.405Z"
   },
   {
    "duration": 7593,
    "start_time": "2023-06-05T14:10:08.451Z"
   },
   {
    "duration": 6,
    "start_time": "2023-06-05T14:10:16.046Z"
   },
   {
    "duration": 175366,
    "start_time": "2023-06-05T14:10:16.054Z"
   },
   {
    "duration": 5,
    "start_time": "2023-06-05T14:13:11.425Z"
   },
   {
    "duration": 5652,
    "start_time": "2023-06-05T14:13:11.431Z"
   },
   {
    "duration": 0,
    "start_time": "2023-06-05T14:13:17.085Z"
   },
   {
    "duration": 0,
    "start_time": "2023-06-05T14:13:17.086Z"
   },
   {
    "duration": 11,
    "start_time": "2023-06-05T14:13:35.422Z"
   },
   {
    "duration": 11,
    "start_time": "2023-06-05T14:13:53.776Z"
   },
   {
    "duration": 8,
    "start_time": "2023-06-05T14:13:53.921Z"
   },
   {
    "duration": 18,
    "start_time": "2023-06-05T14:14:24.958Z"
   },
   {
    "duration": 9,
    "start_time": "2023-06-05T14:14:25.493Z"
   },
   {
    "duration": 12,
    "start_time": "2023-06-05T14:14:35.843Z"
   },
   {
    "duration": 6132,
    "start_time": "2023-06-05T14:16:07.660Z"
   },
   {
    "duration": 0,
    "start_time": "2023-06-05T14:16:13.794Z"
   },
   {
    "duration": 297972,
    "start_time": "2023-06-05T14:18:08.178Z"
   },
   {
    "duration": 4,
    "start_time": "2023-06-05T14:23:21.324Z"
   },
   {
    "duration": 101,
    "start_time": "2023-06-05T14:27:52.194Z"
   },
   {
    "duration": 4,
    "start_time": "2023-06-05T14:27:59.293Z"
   },
   {
    "duration": 28,
    "start_time": "2023-06-05T14:28:09.084Z"
   },
   {
    "duration": 7,
    "start_time": "2023-06-05T14:29:27.950Z"
   },
   {
    "duration": 6,
    "start_time": "2023-06-05T14:33:18.576Z"
   },
   {
    "duration": 503,
    "start_time": "2023-06-05T14:36:52.534Z"
   },
   {
    "duration": 6,
    "start_time": "2023-06-05T14:36:53.921Z"
   },
   {
    "duration": 176,
    "start_time": "2023-06-05T14:37:05.173Z"
   },
   {
    "duration": 5,
    "start_time": "2023-06-05T14:37:05.434Z"
   },
   {
    "duration": 31,
    "start_time": "2023-06-05T14:38:54.677Z"
   },
   {
    "duration": 4,
    "start_time": "2023-06-05T14:38:54.835Z"
   },
   {
    "duration": 20,
    "start_time": "2023-06-05T14:41:17.881Z"
   },
   {
    "duration": 4,
    "start_time": "2023-06-05T14:41:23.651Z"
   },
   {
    "duration": 10,
    "start_time": "2023-06-05T14:42:15.604Z"
   },
   {
    "duration": 4,
    "start_time": "2023-06-05T14:42:51.824Z"
   },
   {
    "duration": 10,
    "start_time": "2023-06-05T14:44:12.036Z"
   },
   {
    "duration": 354,
    "start_time": "2023-06-05T14:44:33.577Z"
   },
   {
    "duration": 209,
    "start_time": "2023-06-05T14:44:39.352Z"
   },
   {
    "duration": 4,
    "start_time": "2023-06-05T14:45:15.711Z"
   },
   {
    "duration": 111,
    "start_time": "2023-06-05T14:45:21.381Z"
   },
   {
    "duration": 79,
    "start_time": "2023-06-05T14:46:56.745Z"
   },
   {
    "duration": 2529,
    "start_time": "2023-06-05T14:48:09.467Z"
   },
   {
    "duration": 169,
    "start_time": "2023-06-05T14:53:42.086Z"
   },
   {
    "duration": 5,
    "start_time": "2023-06-05T14:53:43.638Z"
   },
   {
    "duration": 1492,
    "start_time": "2023-06-05T14:53:53.808Z"
   },
   {
    "duration": 84,
    "start_time": "2023-06-05T14:53:55.303Z"
   },
   {
    "duration": 7,
    "start_time": "2023-06-05T14:53:55.389Z"
   },
   {
    "duration": 9,
    "start_time": "2023-06-05T14:53:55.398Z"
   },
   {
    "duration": 18,
    "start_time": "2023-06-05T14:53:55.409Z"
   },
   {
    "duration": 21,
    "start_time": "2023-06-05T14:53:55.428Z"
   },
   {
    "duration": 8139,
    "start_time": "2023-06-05T14:53:55.451Z"
   },
   {
    "duration": 4,
    "start_time": "2023-06-05T14:54:03.592Z"
   },
   {
    "duration": 189745,
    "start_time": "2023-06-05T14:54:03.598Z"
   },
   {
    "duration": 6,
    "start_time": "2023-06-05T14:57:13.345Z"
   },
   {
    "duration": 149,
    "start_time": "2023-06-05T14:57:13.354Z"
   },
   {
    "duration": 0,
    "start_time": "2023-06-05T14:57:13.505Z"
   },
   {
    "duration": 0,
    "start_time": "2023-06-05T14:57:13.507Z"
   },
   {
    "duration": 0,
    "start_time": "2023-06-05T14:57:13.507Z"
   },
   {
    "duration": 147,
    "start_time": "2023-06-05T15:00:22.285Z"
   },
   {
    "duration": 4,
    "start_time": "2023-06-05T15:00:22.672Z"
   },
   {
    "duration": 3,
    "start_time": "2023-06-05T15:00:35.886Z"
   },
   {
    "duration": 170,
    "start_time": "2023-06-05T15:00:39.459Z"
   },
   {
    "duration": 4,
    "start_time": "2023-06-05T15:00:40.163Z"
   },
   {
    "duration": 167,
    "start_time": "2023-06-05T15:01:13.012Z"
   },
   {
    "duration": 3,
    "start_time": "2023-06-05T15:01:13.451Z"
   },
   {
    "duration": 30,
    "start_time": "2023-06-05T15:01:18.363Z"
   },
   {
    "duration": 7,
    "start_time": "2023-06-05T15:01:21.288Z"
   },
   {
    "duration": 1538,
    "start_time": "2023-06-05T15:07:51.688Z"
   },
   {
    "duration": 81,
    "start_time": "2023-06-05T15:07:53.227Z"
   },
   {
    "duration": 15,
    "start_time": "2023-06-05T15:07:53.310Z"
   },
   {
    "duration": 20,
    "start_time": "2023-06-05T15:07:53.327Z"
   },
   {
    "duration": 17,
    "start_time": "2023-06-05T15:07:53.349Z"
   },
   {
    "duration": 27,
    "start_time": "2023-06-05T15:07:53.367Z"
   },
   {
    "duration": 7583,
    "start_time": "2023-06-05T15:07:53.395Z"
   },
   {
    "duration": 7,
    "start_time": "2023-06-05T15:08:00.980Z"
   },
   {
    "duration": 175052,
    "start_time": "2023-06-05T15:08:00.989Z"
   },
   {
    "duration": 7,
    "start_time": "2023-06-05T15:10:56.044Z"
   },
   {
    "duration": 189,
    "start_time": "2023-06-05T15:10:56.053Z"
   },
   {
    "duration": 5,
    "start_time": "2023-06-05T15:10:56.244Z"
   },
   {
    "duration": 44,
    "start_time": "2023-06-05T15:10:56.250Z"
   },
   {
    "duration": 5,
    "start_time": "2023-06-05T15:10:56.296Z"
   },
   {
    "duration": 1356,
    "start_time": "2023-06-05T15:21:53.098Z"
   },
   {
    "duration": 101,
    "start_time": "2023-06-05T15:21:54.456Z"
   },
   {
    "duration": 10,
    "start_time": "2023-06-05T15:21:54.559Z"
   },
   {
    "duration": 14,
    "start_time": "2023-06-05T15:21:54.572Z"
   },
   {
    "duration": 14,
    "start_time": "2023-06-05T15:21:54.589Z"
   },
   {
    "duration": 29,
    "start_time": "2023-06-05T15:21:54.605Z"
   },
   {
    "duration": 8467,
    "start_time": "2023-06-05T15:21:54.637Z"
   },
   {
    "duration": 6,
    "start_time": "2023-06-05T15:22:03.106Z"
   },
   {
    "duration": 186230,
    "start_time": "2023-06-05T15:22:03.125Z"
   },
   {
    "duration": 5,
    "start_time": "2023-06-05T15:25:09.357Z"
   },
   {
    "duration": 186,
    "start_time": "2023-06-05T15:25:09.364Z"
   },
   {
    "duration": 5,
    "start_time": "2023-06-05T15:25:09.551Z"
   },
   {
    "duration": 49,
    "start_time": "2023-06-05T15:25:09.557Z"
   },
   {
    "duration": 6,
    "start_time": "2023-06-05T15:25:09.608Z"
   },
   {
    "duration": 260,
    "start_time": "2023-06-05T15:47:59.293Z"
   },
   {
    "duration": 4,
    "start_time": "2023-06-05T15:48:01.159Z"
   },
   {
    "duration": 3,
    "start_time": "2023-06-05T15:48:08.292Z"
   },
   {
    "duration": 149,
    "start_time": "2023-06-05T15:48:18.200Z"
   },
   {
    "duration": 3,
    "start_time": "2023-06-05T15:48:18.488Z"
   },
   {
    "duration": 1393,
    "start_time": "2023-06-05T15:49:05.901Z"
   },
   {
    "duration": 80,
    "start_time": "2023-06-05T15:49:07.296Z"
   },
   {
    "duration": 8,
    "start_time": "2023-06-05T15:49:07.378Z"
   },
   {
    "duration": 88,
    "start_time": "2023-06-05T15:49:07.389Z"
   },
   {
    "duration": 70,
    "start_time": "2023-06-05T15:49:07.478Z"
   },
   {
    "duration": 56,
    "start_time": "2023-06-05T15:49:07.550Z"
   },
   {
    "duration": 8473,
    "start_time": "2023-06-05T15:49:07.608Z"
   },
   {
    "duration": 4,
    "start_time": "2023-06-05T15:49:16.083Z"
   },
   {
    "duration": 190775,
    "start_time": "2023-06-05T15:49:16.088Z"
   },
   {
    "duration": 5,
    "start_time": "2023-06-05T15:52:26.865Z"
   },
   {
    "duration": 168,
    "start_time": "2023-06-05T15:52:26.871Z"
   },
   {
    "duration": 4,
    "start_time": "2023-06-05T15:52:27.041Z"
   },
   {
    "duration": 54,
    "start_time": "2023-06-05T15:52:27.047Z"
   },
   {
    "duration": 5,
    "start_time": "2023-06-05T15:52:27.103Z"
   },
   {
    "duration": 3,
    "start_time": "2023-06-05T16:10:49.508Z"
   },
   {
    "duration": 165,
    "start_time": "2023-06-05T16:15:48.160Z"
   },
   {
    "duration": 4,
    "start_time": "2023-06-05T16:15:48.391Z"
   },
   {
    "duration": 1184,
    "start_time": "2023-06-05T16:18:04.608Z"
   },
   {
    "duration": 79,
    "start_time": "2023-06-05T16:18:05.794Z"
   },
   {
    "duration": 7,
    "start_time": "2023-06-05T16:18:05.874Z"
   },
   {
    "duration": 68,
    "start_time": "2023-06-05T16:18:05.883Z"
   },
   {
    "duration": 35,
    "start_time": "2023-06-05T16:18:05.953Z"
   },
   {
    "duration": 38,
    "start_time": "2023-06-05T16:18:05.989Z"
   },
   {
    "duration": 7636,
    "start_time": "2023-06-05T16:18:06.028Z"
   },
   {
    "duration": 4,
    "start_time": "2023-06-05T16:18:13.666Z"
   },
   {
    "duration": 174424,
    "start_time": "2023-06-05T16:18:13.672Z"
   },
   {
    "duration": 4,
    "start_time": "2023-06-05T16:21:08.098Z"
   },
   {
    "duration": 224,
    "start_time": "2023-06-05T16:21:08.104Z"
   },
   {
    "duration": 4,
    "start_time": "2023-06-05T16:21:08.330Z"
   },
   {
    "duration": 33,
    "start_time": "2023-06-05T16:21:08.336Z"
   },
   {
    "duration": 7,
    "start_time": "2023-06-05T16:21:08.371Z"
   },
   {
    "duration": 184,
    "start_time": "2023-06-05T16:31:08.786Z"
   },
   {
    "duration": 3,
    "start_time": "2023-06-05T16:31:09.194Z"
   },
   {
    "duration": 148,
    "start_time": "2023-06-05T16:31:23.679Z"
   },
   {
    "duration": 3,
    "start_time": "2023-06-05T16:31:24.099Z"
   },
   {
    "duration": 4,
    "start_time": "2023-06-05T16:31:35.714Z"
   },
   {
    "duration": 71,
    "start_time": "2023-06-05T16:31:37.080Z"
   },
   {
    "duration": 7,
    "start_time": "2023-06-05T16:31:39.427Z"
   },
   {
    "duration": 4,
    "start_time": "2023-06-05T16:31:40.740Z"
   },
   {
    "duration": 4,
    "start_time": "2023-06-05T16:31:40.989Z"
   },
   {
    "duration": 3,
    "start_time": "2023-06-05T16:31:41.214Z"
   },
   {
    "duration": 7543,
    "start_time": "2023-06-05T16:31:44.751Z"
   },
   {
    "duration": 6,
    "start_time": "2023-06-05T16:31:52.296Z"
   },
   {
    "duration": 173637,
    "start_time": "2023-06-05T16:31:52.304Z"
   },
   {
    "duration": 5,
    "start_time": "2023-06-05T16:34:45.943Z"
   },
   {
    "duration": 184,
    "start_time": "2023-06-05T16:34:45.949Z"
   },
   {
    "duration": 4,
    "start_time": "2023-06-05T16:34:46.135Z"
   },
   {
    "duration": 195,
    "start_time": "2023-06-05T16:35:55.141Z"
   },
   {
    "duration": 4,
    "start_time": "2023-06-05T16:35:55.512Z"
   },
   {
    "duration": 170,
    "start_time": "2023-06-05T16:35:57.930Z"
   },
   {
    "duration": 4,
    "start_time": "2023-06-05T16:35:58.258Z"
   },
   {
    "duration": 162,
    "start_time": "2023-06-05T16:36:03.724Z"
   },
   {
    "duration": 4,
    "start_time": "2023-06-05T16:36:04.018Z"
   },
   {
    "duration": 208,
    "start_time": "2023-06-05T16:36:10.484Z"
   },
   {
    "duration": 3,
    "start_time": "2023-06-05T16:36:10.694Z"
   },
   {
    "duration": 1063,
    "start_time": "2023-06-05T16:36:18.659Z"
   },
   {
    "duration": 79,
    "start_time": "2023-06-05T16:36:19.724Z"
   },
   {
    "duration": 7,
    "start_time": "2023-06-05T16:36:19.805Z"
   },
   {
    "duration": 10,
    "start_time": "2023-06-05T16:36:19.814Z"
   },
   {
    "duration": 7,
    "start_time": "2023-06-05T16:36:19.826Z"
   },
   {
    "duration": 6,
    "start_time": "2023-06-05T16:36:19.835Z"
   },
   {
    "duration": 8218,
    "start_time": "2023-06-05T16:36:19.843Z"
   },
   {
    "duration": 4,
    "start_time": "2023-06-05T16:36:28.062Z"
   },
   {
    "duration": 180057,
    "start_time": "2023-06-05T16:36:28.067Z"
   },
   {
    "duration": 6,
    "start_time": "2023-06-05T16:39:28.127Z"
   },
   {
    "duration": 234,
    "start_time": "2023-06-05T16:39:28.134Z"
   },
   {
    "duration": 4,
    "start_time": "2023-06-05T16:39:28.369Z"
   },
   {
    "duration": 63,
    "start_time": "2023-06-05T16:39:28.374Z"
   },
   {
    "duration": 26,
    "start_time": "2023-06-05T16:39:28.438Z"
   },
   {
    "duration": 216,
    "start_time": "2023-06-05T16:39:47.044Z"
   },
   {
    "duration": 3,
    "start_time": "2023-06-05T16:39:47.296Z"
   },
   {
    "duration": 1163,
    "start_time": "2023-06-05T16:40:00.871Z"
   },
   {
    "duration": 79,
    "start_time": "2023-06-05T16:40:02.037Z"
   },
   {
    "duration": 30,
    "start_time": "2023-06-05T16:40:02.125Z"
   },
   {
    "duration": 33,
    "start_time": "2023-06-05T16:40:02.157Z"
   },
   {
    "duration": 34,
    "start_time": "2023-06-05T16:40:02.191Z"
   },
   {
    "duration": 37,
    "start_time": "2023-06-05T16:40:02.227Z"
   },
   {
    "duration": 8518,
    "start_time": "2023-06-05T16:40:02.266Z"
   },
   {
    "duration": 5,
    "start_time": "2023-06-05T16:40:10.785Z"
   },
   {
    "duration": 7205,
    "start_time": "2023-06-05T16:40:10.791Z"
   },
   {
    "duration": 0,
    "start_time": "2023-06-05T16:40:17.998Z"
   },
   {
    "duration": 0,
    "start_time": "2023-06-05T16:40:18.000Z"
   },
   {
    "duration": 0,
    "start_time": "2023-06-05T16:40:18.002Z"
   },
   {
    "duration": 0,
    "start_time": "2023-06-05T16:40:18.003Z"
   },
   {
    "duration": 0,
    "start_time": "2023-06-05T16:40:18.005Z"
   },
   {
    "duration": 213,
    "start_time": "2023-06-05T16:40:23.354Z"
   },
   {
    "duration": 3,
    "start_time": "2023-06-05T16:40:23.652Z"
   },
   {
    "duration": 1071,
    "start_time": "2023-06-05T16:41:11.578Z"
   },
   {
    "duration": 80,
    "start_time": "2023-06-05T16:41:12.651Z"
   },
   {
    "duration": 8,
    "start_time": "2023-06-05T16:41:12.733Z"
   },
   {
    "duration": 10,
    "start_time": "2023-06-05T16:41:12.743Z"
   },
   {
    "duration": 25,
    "start_time": "2023-06-05T16:41:12.754Z"
   },
   {
    "duration": 12,
    "start_time": "2023-06-05T16:41:12.781Z"
   },
   {
    "duration": 7738,
    "start_time": "2023-06-05T16:41:12.795Z"
   },
   {
    "duration": 6,
    "start_time": "2023-06-05T16:41:20.535Z"
   },
   {
    "duration": 179698,
    "start_time": "2023-06-05T16:41:20.543Z"
   },
   {
    "duration": 5,
    "start_time": "2023-06-05T16:44:20.243Z"
   },
   {
    "duration": 255,
    "start_time": "2023-06-05T16:44:20.249Z"
   },
   {
    "duration": 4,
    "start_time": "2023-06-05T16:44:20.505Z"
   },
   {
    "duration": 66,
    "start_time": "2023-06-05T16:44:20.510Z"
   },
   {
    "duration": 5,
    "start_time": "2023-06-05T16:44:20.577Z"
   },
   {
    "duration": 228,
    "start_time": "2023-06-05T16:50:45.485Z"
   },
   {
    "duration": 4,
    "start_time": "2023-06-05T16:50:45.997Z"
   },
   {
    "duration": 216,
    "start_time": "2023-06-05T16:50:59.313Z"
   },
   {
    "duration": 4,
    "start_time": "2023-06-05T16:50:59.531Z"
   },
   {
    "duration": 16,
    "start_time": "2023-06-05T16:52:24.629Z"
   },
   {
    "duration": 4,
    "start_time": "2023-06-05T16:52:35.722Z"
   },
   {
    "duration": 1164,
    "start_time": "2023-06-05T16:52:42.096Z"
   },
   {
    "duration": 80,
    "start_time": "2023-06-05T16:52:43.262Z"
   },
   {
    "duration": 8,
    "start_time": "2023-06-05T16:52:43.343Z"
   },
   {
    "duration": 9,
    "start_time": "2023-06-05T16:52:43.352Z"
   },
   {
    "duration": 22,
    "start_time": "2023-06-05T16:52:43.363Z"
   },
   {
    "duration": 16,
    "start_time": "2023-06-05T16:52:43.386Z"
   },
   {
    "duration": 7970,
    "start_time": "2023-06-05T16:52:43.404Z"
   },
   {
    "duration": 4,
    "start_time": "2023-06-05T16:52:51.376Z"
   },
   {
    "duration": 179388,
    "start_time": "2023-06-05T16:52:51.382Z"
   },
   {
    "duration": 6,
    "start_time": "2023-06-05T16:55:50.772Z"
   },
   {
    "duration": 27,
    "start_time": "2023-06-05T16:55:50.780Z"
   },
   {
    "duration": 58,
    "start_time": "2023-06-05T16:55:50.808Z"
   },
   {
    "duration": 25,
    "start_time": "2023-06-05T16:55:50.868Z"
   },
   {
    "duration": 50,
    "start_time": "2023-06-05T16:55:50.896Z"
   },
   {
    "duration": 19,
    "start_time": "2023-06-05T16:55:50.948Z"
   },
   {
    "duration": 15,
    "start_time": "2023-06-05T16:57:06.278Z"
   },
   {
    "duration": 5,
    "start_time": "2023-06-05T16:57:07.094Z"
   },
   {
    "duration": 1145,
    "start_time": "2023-06-05T16:58:41.430Z"
   },
   {
    "duration": 4,
    "start_time": "2023-06-05T16:58:47.081Z"
   },
   {
    "duration": 76,
    "start_time": "2023-06-05T16:58:47.824Z"
   },
   {
    "duration": 8,
    "start_time": "2023-06-05T16:58:50.894Z"
   },
   {
    "duration": 4,
    "start_time": "2023-06-05T16:58:52.424Z"
   },
   {
    "duration": 4,
    "start_time": "2023-06-05T16:58:52.686Z"
   },
   {
    "duration": 4,
    "start_time": "2023-06-05T16:58:52.848Z"
   },
   {
    "duration": 7572,
    "start_time": "2023-06-05T16:58:55.922Z"
   },
   {
    "duration": 5,
    "start_time": "2023-06-05T16:59:03.496Z"
   },
   {
    "duration": 186922,
    "start_time": "2023-06-05T16:59:07.510Z"
   },
   {
    "duration": 5,
    "start_time": "2023-06-05T17:02:14.434Z"
   },
   {
    "duration": 21,
    "start_time": "2023-06-05T17:02:14.441Z"
   },
   {
    "duration": 44,
    "start_time": "2023-06-05T17:02:14.465Z"
   },
   {
    "duration": 28,
    "start_time": "2023-06-05T17:02:14.510Z"
   },
   {
    "duration": 11,
    "start_time": "2023-06-05T17:02:26.804Z"
   },
   {
    "duration": 4,
    "start_time": "2023-06-05T17:02:27.084Z"
   },
   {
    "duration": 27,
    "start_time": "2023-06-05T17:02:34.606Z"
   },
   {
    "duration": 15,
    "start_time": "2023-06-05T17:02:42.043Z"
   },
   {
    "duration": 3,
    "start_time": "2023-06-05T17:02:42.353Z"
   },
   {
    "duration": 1252,
    "start_time": "2023-06-05T17:04:43.018Z"
   },
   {
    "duration": 79,
    "start_time": "2023-06-05T17:04:44.272Z"
   },
   {
    "duration": 7,
    "start_time": "2023-06-05T17:04:44.353Z"
   },
   {
    "duration": 5,
    "start_time": "2023-06-05T17:04:44.362Z"
   },
   {
    "duration": 10,
    "start_time": "2023-06-05T17:04:44.368Z"
   },
   {
    "duration": 8,
    "start_time": "2023-06-05T17:04:44.379Z"
   },
   {
    "duration": 7814,
    "start_time": "2023-06-05T17:04:44.388Z"
   },
   {
    "duration": 20,
    "start_time": "2023-06-05T17:04:52.204Z"
   },
   {
    "duration": 177586,
    "start_time": "2023-06-05T17:04:52.226Z"
   },
   {
    "duration": 11,
    "start_time": "2023-06-05T17:07:49.814Z"
   },
   {
    "duration": 2,
    "start_time": "2023-06-05T17:07:49.828Z"
   },
   {
    "duration": 59,
    "start_time": "2023-06-05T17:07:49.832Z"
   },
   {
    "duration": 3,
    "start_time": "2023-06-05T17:07:49.893Z"
   },
   {
    "duration": 38,
    "start_time": "2023-06-05T17:07:49.898Z"
   },
   {
    "duration": 5,
    "start_time": "2023-06-05T17:07:49.938Z"
   },
   {
    "duration": 111,
    "start_time": "2023-06-05T17:09:30.950Z"
   },
   {
    "duration": 2,
    "start_time": "2023-06-05T17:10:08.203Z"
   },
   {
    "duration": 243,
    "start_time": "2023-06-05T17:10:19.701Z"
   },
   {
    "duration": 1098,
    "start_time": "2023-06-05T17:10:28.725Z"
   },
   {
    "duration": 78,
    "start_time": "2023-06-05T17:10:29.825Z"
   },
   {
    "duration": 9,
    "start_time": "2023-06-05T17:10:29.905Z"
   },
   {
    "duration": 4,
    "start_time": "2023-06-05T17:10:29.925Z"
   },
   {
    "duration": 7,
    "start_time": "2023-06-05T17:10:29.930Z"
   },
   {
    "duration": 6,
    "start_time": "2023-06-05T17:10:29.938Z"
   },
   {
    "duration": 7916,
    "start_time": "2023-06-05T17:10:29.946Z"
   },
   {
    "duration": 5,
    "start_time": "2023-06-05T17:10:37.864Z"
   },
   {
    "duration": 182858,
    "start_time": "2023-06-05T17:10:37.871Z"
   },
   {
    "duration": 6,
    "start_time": "2023-06-05T17:13:40.732Z"
   },
   {
    "duration": 44,
    "start_time": "2023-06-05T17:13:40.740Z"
   },
   {
    "duration": 352,
    "start_time": "2023-06-05T17:13:40.790Z"
   },
   {
    "duration": 3,
    "start_time": "2023-06-05T17:13:41.145Z"
   },
   {
    "duration": 43,
    "start_time": "2023-06-05T17:13:41.150Z"
   },
   {
    "duration": 94,
    "start_time": "2023-06-05T17:13:41.195Z"
   },
   {
    "duration": 14,
    "start_time": "2023-06-05T17:13:41.291Z"
   },
   {
    "duration": 1153,
    "start_time": "2023-06-05T17:18:28.602Z"
   },
   {
    "duration": 80,
    "start_time": "2023-06-05T17:18:29.757Z"
   },
   {
    "duration": 9,
    "start_time": "2023-06-05T17:18:29.839Z"
   },
   {
    "duration": 14,
    "start_time": "2023-06-05T17:18:29.851Z"
   },
   {
    "duration": 25,
    "start_time": "2023-06-05T17:18:29.867Z"
   },
   {
    "duration": 23,
    "start_time": "2023-06-05T17:18:29.894Z"
   },
   {
    "duration": 9155,
    "start_time": "2023-06-05T17:18:29.919Z"
   },
   {
    "duration": 4,
    "start_time": "2023-06-05T17:18:39.076Z"
   },
   {
    "duration": 18953,
    "start_time": "2023-06-05T17:18:39.081Z"
   },
   {
    "duration": 0,
    "start_time": "2023-06-05T17:18:58.036Z"
   },
   {
    "duration": 0,
    "start_time": "2023-06-05T17:18:58.037Z"
   },
   {
    "duration": 0,
    "start_time": "2023-06-05T17:18:58.038Z"
   },
   {
    "duration": 0,
    "start_time": "2023-06-05T17:18:58.039Z"
   },
   {
    "duration": 1103,
    "start_time": "2023-06-05T17:19:25.721Z"
   },
   {
    "duration": 91,
    "start_time": "2023-06-05T17:19:26.826Z"
   },
   {
    "duration": 8,
    "start_time": "2023-06-05T17:19:26.920Z"
   },
   {
    "duration": 42,
    "start_time": "2023-06-05T17:19:26.929Z"
   },
   {
    "duration": 42,
    "start_time": "2023-06-05T17:19:26.974Z"
   },
   {
    "duration": 12,
    "start_time": "2023-06-05T17:19:27.018Z"
   },
   {
    "duration": 8284,
    "start_time": "2023-06-05T17:19:27.031Z"
   },
   {
    "duration": 10,
    "start_time": "2023-06-05T17:19:35.317Z"
   },
   {
    "duration": 180959,
    "start_time": "2023-06-05T17:19:35.329Z"
   },
   {
    "duration": 6,
    "start_time": "2023-06-05T17:22:36.289Z"
   },
   {
    "duration": 232,
    "start_time": "2023-06-05T17:22:36.296Z"
   },
   {
    "duration": 33,
    "start_time": "2023-06-05T17:22:36.530Z"
   },
   {
    "duration": 5,
    "start_time": "2023-06-05T17:22:36.565Z"
   },
   {
    "duration": 1195,
    "start_time": "2023-06-05T17:23:27.304Z"
   },
   {
    "duration": 79,
    "start_time": "2023-06-05T17:23:28.502Z"
   },
   {
    "duration": 9,
    "start_time": "2023-06-05T17:23:28.583Z"
   },
   {
    "duration": 32,
    "start_time": "2023-06-05T17:23:28.594Z"
   },
   {
    "duration": 6,
    "start_time": "2023-06-05T17:23:28.628Z"
   },
   {
    "duration": 7,
    "start_time": "2023-06-05T17:23:28.636Z"
   },
   {
    "duration": 8572,
    "start_time": "2023-06-05T17:23:28.645Z"
   },
   {
    "duration": 8,
    "start_time": "2023-06-05T17:23:37.218Z"
   },
   {
    "duration": 179203,
    "start_time": "2023-06-05T17:23:37.227Z"
   },
   {
    "duration": 6,
    "start_time": "2023-06-05T17:26:36.432Z"
   },
   {
    "duration": 249,
    "start_time": "2023-06-05T17:26:36.439Z"
   },
   {
    "duration": 40,
    "start_time": "2023-06-05T17:26:36.690Z"
   },
   {
    "duration": 6,
    "start_time": "2023-06-05T17:26:36.732Z"
   },
   {
    "duration": 271,
    "start_time": "2023-06-05T17:33:31.520Z"
   },
   {
    "duration": 1267,
    "start_time": "2023-06-05T17:33:36.468Z"
   },
   {
    "duration": 123,
    "start_time": "2023-06-05T17:33:37.737Z"
   },
   {
    "duration": 7,
    "start_time": "2023-06-05T17:33:37.862Z"
   },
   {
    "duration": 66,
    "start_time": "2023-06-05T17:33:37.870Z"
   },
   {
    "duration": 14,
    "start_time": "2023-06-05T17:33:37.940Z"
   },
   {
    "duration": 74,
    "start_time": "2023-06-05T17:33:37.956Z"
   },
   {
    "duration": 8201,
    "start_time": "2023-06-05T17:33:38.036Z"
   },
   {
    "duration": 4,
    "start_time": "2023-06-05T17:33:46.239Z"
   },
   {
    "duration": 177128,
    "start_time": "2023-06-05T17:33:46.245Z"
   },
   {
    "duration": 5,
    "start_time": "2023-06-05T17:36:43.375Z"
   },
   {
    "duration": 287,
    "start_time": "2023-06-05T17:36:43.381Z"
   },
   {
    "duration": 35,
    "start_time": "2023-06-05T17:36:43.671Z"
   },
   {
    "duration": 19,
    "start_time": "2023-06-05T17:36:43.707Z"
   },
   {
    "duration": 950,
    "start_time": "2023-06-05T17:55:17.580Z"
   },
   {
    "duration": 79,
    "start_time": "2023-06-05T17:55:18.533Z"
   },
   {
    "duration": 8,
    "start_time": "2023-06-05T17:55:18.614Z"
   },
   {
    "duration": 6,
    "start_time": "2023-06-05T17:55:18.623Z"
   },
   {
    "duration": 12,
    "start_time": "2023-06-05T17:55:18.631Z"
   },
   {
    "duration": 8,
    "start_time": "2023-06-05T17:55:18.645Z"
   },
   {
    "duration": 8811,
    "start_time": "2023-06-05T17:55:18.655Z"
   },
   {
    "duration": 5,
    "start_time": "2023-06-05T17:55:27.467Z"
   },
   {
    "duration": 205859,
    "start_time": "2023-06-05T17:55:27.474Z"
   },
   {
    "duration": 10,
    "start_time": "2023-06-05T17:58:53.334Z"
   },
   {
    "duration": 163,
    "start_time": "2023-06-05T17:58:53.346Z"
   },
   {
    "duration": 42,
    "start_time": "2023-06-05T17:58:53.511Z"
   },
   {
    "duration": 6,
    "start_time": "2023-06-05T17:58:53.554Z"
   },
   {
    "duration": 1163,
    "start_time": "2023-06-06T15:23:40.049Z"
   },
   {
    "duration": 167,
    "start_time": "2023-06-06T15:23:41.214Z"
   },
   {
    "duration": 8,
    "start_time": "2023-06-06T15:23:41.383Z"
   },
   {
    "duration": 43,
    "start_time": "2023-06-06T15:23:41.393Z"
   },
   {
    "duration": 11,
    "start_time": "2023-06-06T15:23:41.438Z"
   },
   {
    "duration": 14,
    "start_time": "2023-06-06T15:23:41.450Z"
   },
   {
    "duration": 8418,
    "start_time": "2023-06-06T15:23:41.466Z"
   },
   {
    "duration": 5,
    "start_time": "2023-06-06T15:23:49.885Z"
   },
   {
    "duration": 202442,
    "start_time": "2023-06-06T15:23:49.892Z"
   },
   {
    "duration": 16,
    "start_time": "2023-06-06T15:27:12.337Z"
   },
   {
    "duration": 372,
    "start_time": "2023-06-06T15:27:12.356Z"
   },
   {
    "duration": 48,
    "start_time": "2023-06-06T15:27:12.730Z"
   },
   {
    "duration": 13,
    "start_time": "2023-06-06T15:27:12.781Z"
   },
   {
    "duration": 8,
    "start_time": "2023-06-06T15:30:12.496Z"
   },
   {
    "duration": 1711,
    "start_time": "2023-06-06T15:30:18.275Z"
   },
   {
    "duration": 174,
    "start_time": "2023-06-06T15:30:19.988Z"
   },
   {
    "duration": 13,
    "start_time": "2023-06-06T15:30:20.164Z"
   },
   {
    "duration": 6,
    "start_time": "2023-06-06T15:30:20.180Z"
   },
   {
    "duration": 60,
    "start_time": "2023-06-06T15:30:20.187Z"
   },
   {
    "duration": 20,
    "start_time": "2023-06-06T15:30:20.249Z"
   },
   {
    "duration": 9710,
    "start_time": "2023-06-06T15:30:20.271Z"
   },
   {
    "duration": 5,
    "start_time": "2023-06-06T15:30:29.983Z"
   },
   {
    "duration": 206389,
    "start_time": "2023-06-06T15:30:29.990Z"
   },
   {
    "duration": 5,
    "start_time": "2023-06-06T15:33:56.382Z"
   },
   {
    "duration": 261,
    "start_time": "2023-06-06T15:33:56.389Z"
   },
   {
    "duration": 36,
    "start_time": "2023-06-06T15:33:56.652Z"
   },
   {
    "duration": 5,
    "start_time": "2023-06-06T15:33:56.690Z"
   },
   {
    "duration": 1305,
    "start_time": "2023-06-06T15:45:51.781Z"
   },
   {
    "duration": 97,
    "start_time": "2023-06-06T15:45:53.089Z"
   },
   {
    "duration": 3,
    "start_time": "2023-06-06T15:45:53.187Z"
   },
   {
    "duration": 167,
    "start_time": "2023-06-06T15:45:53.192Z"
   },
   {
    "duration": 0,
    "start_time": "2023-06-06T15:45:53.361Z"
   },
   {
    "duration": 0,
    "start_time": "2023-06-06T15:45:53.362Z"
   },
   {
    "duration": 0,
    "start_time": "2023-06-06T15:45:53.363Z"
   },
   {
    "duration": 0,
    "start_time": "2023-06-06T15:45:53.365Z"
   },
   {
    "duration": 0,
    "start_time": "2023-06-06T15:45:53.367Z"
   },
   {
    "duration": 1,
    "start_time": "2023-06-06T15:45:53.369Z"
   },
   {
    "duration": 0,
    "start_time": "2023-06-06T15:45:53.371Z"
   },
   {
    "duration": 0,
    "start_time": "2023-06-06T15:45:53.373Z"
   },
   {
    "duration": 0,
    "start_time": "2023-06-06T15:45:53.374Z"
   },
   {
    "duration": 0,
    "start_time": "2023-06-06T15:45:53.375Z"
   },
   {
    "duration": 13,
    "start_time": "2023-06-06T15:46:04.454Z"
   },
   {
    "duration": 9,
    "start_time": "2023-06-06T15:46:35.846Z"
   },
   {
    "duration": 1163,
    "start_time": "2023-06-06T15:46:40.601Z"
   },
   {
    "duration": 84,
    "start_time": "2023-06-06T15:46:41.766Z"
   },
   {
    "duration": 2,
    "start_time": "2023-06-06T15:46:41.852Z"
   },
   {
    "duration": 21,
    "start_time": "2023-06-06T15:46:41.856Z"
   },
   {
    "duration": 49,
    "start_time": "2023-06-06T15:46:41.878Z"
   },
   {
    "duration": 13,
    "start_time": "2023-06-06T15:46:41.929Z"
   },
   {
    "duration": 20,
    "start_time": "2023-06-06T15:46:41.944Z"
   },
   {
    "duration": 10688,
    "start_time": "2023-06-06T15:46:41.967Z"
   },
   {
    "duration": 8,
    "start_time": "2023-06-06T15:46:52.659Z"
   },
   {
    "duration": 208785,
    "start_time": "2023-06-06T15:46:52.670Z"
   },
   {
    "duration": 6,
    "start_time": "2023-06-06T15:50:21.457Z"
   },
   {
    "duration": 233,
    "start_time": "2023-06-06T15:50:21.465Z"
   },
   {
    "duration": 31,
    "start_time": "2023-06-06T15:50:21.700Z"
   },
   {
    "duration": 11,
    "start_time": "2023-06-06T15:50:21.748Z"
   },
   {
    "duration": 118,
    "start_time": "2023-06-06T15:52:43.223Z"
   },
   {
    "duration": 2129,
    "start_time": "2023-06-06T15:53:01.423Z"
   },
   {
    "duration": 199,
    "start_time": "2023-06-06T15:53:03.557Z"
   },
   {
    "duration": 296,
    "start_time": "2023-06-06T15:53:03.759Z"
   },
   {
    "duration": 0,
    "start_time": "2023-06-06T15:53:04.058Z"
   },
   {
    "duration": 0,
    "start_time": "2023-06-06T15:53:04.060Z"
   },
   {
    "duration": 0,
    "start_time": "2023-06-06T15:53:04.062Z"
   },
   {
    "duration": 0,
    "start_time": "2023-06-06T15:53:04.064Z"
   },
   {
    "duration": 0,
    "start_time": "2023-06-06T15:53:04.066Z"
   },
   {
    "duration": 0,
    "start_time": "2023-06-06T15:53:04.067Z"
   },
   {
    "duration": 0,
    "start_time": "2023-06-06T15:53:04.069Z"
   },
   {
    "duration": 0,
    "start_time": "2023-06-06T15:53:04.070Z"
   },
   {
    "duration": 0,
    "start_time": "2023-06-06T15:53:04.071Z"
   },
   {
    "duration": 0,
    "start_time": "2023-06-06T15:53:04.073Z"
   },
   {
    "duration": 0,
    "start_time": "2023-06-06T15:53:04.074Z"
   },
   {
    "duration": 14,
    "start_time": "2023-06-06T15:54:01.073Z"
   },
   {
    "duration": 14,
    "start_time": "2023-06-06T15:54:09.072Z"
   },
   {
    "duration": 23,
    "start_time": "2023-06-06T15:54:17.794Z"
   },
   {
    "duration": 1232,
    "start_time": "2023-06-06T15:55:39.874Z"
   },
   {
    "duration": 92,
    "start_time": "2023-06-06T15:55:41.108Z"
   },
   {
    "duration": 2,
    "start_time": "2023-06-06T15:55:41.202Z"
   },
   {
    "duration": 29,
    "start_time": "2023-06-06T15:55:41.206Z"
   },
   {
    "duration": 125,
    "start_time": "2023-06-06T15:55:41.238Z"
   },
   {
    "duration": 0,
    "start_time": "2023-06-06T15:55:41.367Z"
   },
   {
    "duration": 0,
    "start_time": "2023-06-06T15:55:41.369Z"
   },
   {
    "duration": 0,
    "start_time": "2023-06-06T15:55:41.371Z"
   },
   {
    "duration": 1,
    "start_time": "2023-06-06T15:55:41.373Z"
   },
   {
    "duration": 0,
    "start_time": "2023-06-06T15:55:41.376Z"
   },
   {
    "duration": 0,
    "start_time": "2023-06-06T15:55:41.378Z"
   },
   {
    "duration": 0,
    "start_time": "2023-06-06T15:55:41.380Z"
   },
   {
    "duration": 0,
    "start_time": "2023-06-06T15:55:41.381Z"
   },
   {
    "duration": 0,
    "start_time": "2023-06-06T15:55:41.382Z"
   },
   {
    "duration": 2398,
    "start_time": "2023-06-06T15:56:30.780Z"
   },
   {
    "duration": 186,
    "start_time": "2023-06-06T15:56:33.180Z"
   },
   {
    "duration": 4,
    "start_time": "2023-06-06T15:56:33.368Z"
   },
   {
    "duration": 19,
    "start_time": "2023-06-06T15:56:33.375Z"
   },
   {
    "duration": 65,
    "start_time": "2023-06-06T15:56:33.395Z"
   },
   {
    "duration": 19,
    "start_time": "2023-06-06T15:56:33.462Z"
   },
   {
    "duration": 10,
    "start_time": "2023-06-06T15:56:33.484Z"
   },
   {
    "duration": 10496,
    "start_time": "2023-06-06T15:56:33.496Z"
   },
   {
    "duration": 5,
    "start_time": "2023-06-06T15:56:43.994Z"
   },
   {
    "duration": 207564,
    "start_time": "2023-06-06T15:56:44.001Z"
   },
   {
    "duration": 7,
    "start_time": "2023-06-06T16:00:11.567Z"
   },
   {
    "duration": 251,
    "start_time": "2023-06-06T16:00:11.576Z"
   },
   {
    "duration": 49,
    "start_time": "2023-06-06T16:00:11.828Z"
   },
   {
    "duration": 6,
    "start_time": "2023-06-06T16:00:11.879Z"
   },
   {
    "duration": 1314,
    "start_time": "2023-06-06T16:01:04.518Z"
   },
   {
    "duration": 84,
    "start_time": "2023-06-06T16:01:05.834Z"
   },
   {
    "duration": 2,
    "start_time": "2023-06-06T16:01:05.920Z"
   },
   {
    "duration": 27,
    "start_time": "2023-06-06T16:01:05.924Z"
   },
   {
    "duration": 28,
    "start_time": "2023-06-06T16:01:05.954Z"
   },
   {
    "duration": 14,
    "start_time": "2023-06-06T16:01:05.984Z"
   },
   {
    "duration": 6,
    "start_time": "2023-06-06T16:01:06.000Z"
   },
   {
    "duration": 9020,
    "start_time": "2023-06-06T16:01:06.008Z"
   },
   {
    "duration": 5,
    "start_time": "2023-06-06T16:01:15.030Z"
   },
   {
    "duration": 196634,
    "start_time": "2023-06-06T16:01:15.037Z"
   },
   {
    "duration": 7,
    "start_time": "2023-06-06T16:04:31.674Z"
   },
   {
    "duration": 248,
    "start_time": "2023-06-06T16:04:31.683Z"
   },
   {
    "duration": 38,
    "start_time": "2023-06-06T16:04:31.933Z"
   },
   {
    "duration": 6,
    "start_time": "2023-06-06T16:04:31.972Z"
   },
   {
    "duration": 1248,
    "start_time": "2023-06-06T16:09:09.043Z"
   },
   {
    "duration": 91,
    "start_time": "2023-06-06T16:09:10.293Z"
   },
   {
    "duration": 3,
    "start_time": "2023-06-06T16:09:10.386Z"
   },
   {
    "duration": 13,
    "start_time": "2023-06-06T16:09:10.391Z"
   },
   {
    "duration": 5,
    "start_time": "2023-06-06T16:09:10.406Z"
   },
   {
    "duration": 34,
    "start_time": "2023-06-06T16:09:10.412Z"
   },
   {
    "duration": 4,
    "start_time": "2023-06-06T16:09:10.448Z"
   },
   {
    "duration": 9223,
    "start_time": "2023-06-06T16:09:10.454Z"
   },
   {
    "duration": 6,
    "start_time": "2023-06-06T16:09:19.679Z"
   },
   {
    "duration": 1603,
    "start_time": "2023-06-06T16:10:05.888Z"
   },
   {
    "duration": 124,
    "start_time": "2023-06-06T16:10:07.545Z"
   },
   {
    "duration": 3,
    "start_time": "2023-06-06T16:10:07.671Z"
   },
   {
    "duration": 73,
    "start_time": "2023-06-06T16:10:07.676Z"
   },
   {
    "duration": 12,
    "start_time": "2023-06-06T16:10:07.750Z"
   },
   {
    "duration": 55,
    "start_time": "2023-06-06T16:10:07.764Z"
   },
   {
    "duration": 29,
    "start_time": "2023-06-06T16:10:07.820Z"
   },
   {
    "duration": 10300,
    "start_time": "2023-06-06T16:10:07.851Z"
   },
   {
    "duration": 5,
    "start_time": "2023-06-06T16:10:18.153Z"
   },
   {
    "duration": 1975,
    "start_time": "2023-06-06T16:11:01.912Z"
   },
   {
    "duration": 189,
    "start_time": "2023-06-06T16:11:03.890Z"
   },
   {
    "duration": 3,
    "start_time": "2023-06-06T16:11:04.080Z"
   },
   {
    "duration": 62,
    "start_time": "2023-06-06T16:11:04.085Z"
   },
   {
    "duration": 4,
    "start_time": "2023-06-06T16:11:04.149Z"
   },
   {
    "duration": 6,
    "start_time": "2023-06-06T16:11:04.155Z"
   },
   {
    "duration": 10,
    "start_time": "2023-06-06T16:11:04.162Z"
   },
   {
    "duration": 8455,
    "start_time": "2023-06-06T16:11:04.173Z"
   },
   {
    "duration": 6,
    "start_time": "2023-06-06T16:11:12.631Z"
   },
   {
    "duration": 188688,
    "start_time": "2023-06-06T16:11:12.647Z"
   },
   {
    "duration": 12,
    "start_time": "2023-06-06T16:14:21.337Z"
   },
   {
    "duration": 232,
    "start_time": "2023-06-06T16:14:21.351Z"
   },
   {
    "duration": 31,
    "start_time": "2023-06-06T16:14:21.585Z"
   },
   {
    "duration": 6,
    "start_time": "2023-06-06T16:14:21.618Z"
   }
  ],
  "kernelspec": {
   "display_name": "Python 3 (ipykernel)",
   "language": "python",
   "name": "python3"
  },
  "language_info": {
   "codemirror_mode": {
    "name": "ipython",
    "version": 3
   },
   "file_extension": ".py",
   "mimetype": "text/x-python",
   "name": "python",
   "nbconvert_exporter": "python",
   "pygments_lexer": "ipython3",
   "version": "3.9.13"
  },
  "toc": {
   "base_numbering": 1,
   "nav_menu": {},
   "number_sections": true,
   "sideBar": true,
   "skip_h1_title": true,
   "title_cell": "Содержание",
   "title_sidebar": "Contents",
   "toc_cell": true,
   "toc_position": {
    "height": "calc(100% - 180px)",
    "left": "10px",
    "top": "150px",
    "width": "165px"
   },
   "toc_section_display": true,
   "toc_window_display": true
  }
 },
 "nbformat": 4,
 "nbformat_minor": 2
}
