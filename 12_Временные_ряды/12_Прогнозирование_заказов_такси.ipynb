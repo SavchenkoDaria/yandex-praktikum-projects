{
 "cells": [
  {
   "cell_type": "markdown",
   "metadata": {
    "toc": true
   },
   "source": [
    "<h1>Содержание<span class=\"tocSkip\"></span></h1>\n",
    "<div class=\"toc\"><ul class=\"toc-item\"><li><span><a href=\"#Подготовка\" data-toc-modified-id=\"Подготовка-1\"><span class=\"toc-item-num\">1&nbsp;&nbsp;</span>Подготовка</a></span><ul class=\"toc-item\"><li><span><a href=\"#Импорт-библиотек\" data-toc-modified-id=\"Импорт-библиотек-1.1\"><span class=\"toc-item-num\">1.1&nbsp;&nbsp;</span>Импорт библиотек</a></span></li><li><span><a href=\"#Вывод-первых-строк-и-изучение-полученной-информации\" data-toc-modified-id=\"Вывод-первых-строк-и-изучение-полученной-информации-1.2\"><span class=\"toc-item-num\">1.2&nbsp;&nbsp;</span>Вывод первых строк и изучение полученной информации</a></span></li><li><span><a href=\"#Промежуточный-вывод\" data-toc-modified-id=\"Промежуточный-вывод-1.3\"><span class=\"toc-item-num\">1.3&nbsp;&nbsp;</span>Промежуточный вывод</a></span></li><li><span><a href=\"#Оценка-тренда,-сезонности-и-шума-временного-ряда\" data-toc-modified-id=\"Оценка-тренда,-сезонности-и-шума-временного-ряда-1.4\"><span class=\"toc-item-num\">1.4&nbsp;&nbsp;</span>Оценка тренда, сезонности и шума временного ряда</a></span></li><li><span><a href=\"#Определение-стационарности-временного-ряда\" data-toc-modified-id=\"Определение-стационарности-временного-ряда-1.5\"><span class=\"toc-item-num\">1.5&nbsp;&nbsp;</span>Определение стационарности временного ряда</a></span></li><li><span><a href=\"#Промежуточный-вывод\" data-toc-modified-id=\"Промежуточный-вывод-1.6\"><span class=\"toc-item-num\">1.6&nbsp;&nbsp;</span>Промежуточный вывод</a></span></li></ul></li><li><span><a href=\"#Обучение\" data-toc-modified-id=\"Обучение-2\"><span class=\"toc-item-num\">2&nbsp;&nbsp;</span>Обучение</a></span><ul class=\"toc-item\"><li><span><a href=\"#Подготовка-к-обучению\" data-toc-modified-id=\"Подготовка-к-обучению-2.1\"><span class=\"toc-item-num\">2.1&nbsp;&nbsp;</span>Подготовка к обучению</a></span><ul class=\"toc-item\"><li><span><a href=\"#Метод-LinearRegression()\" data-toc-modified-id=\"Метод-LinearRegression()-2.1.1\"><span class=\"toc-item-num\">2.1.1&nbsp;&nbsp;</span>Метод LinearRegression()</a></span></li><li><span><a href=\"#Метод-DecisionTreeRegressor()\" data-toc-modified-id=\"Метод-DecisionTreeRegressor()-2.1.2\"><span class=\"toc-item-num\">2.1.2&nbsp;&nbsp;</span>Метод DecisionTreeRegressor()</a></span></li><li><span><a href=\"#Метод-RandomForestRegressor()\" data-toc-modified-id=\"Метод-RandomForestRegressor()-2.1.3\"><span class=\"toc-item-num\">2.1.3&nbsp;&nbsp;</span>Метод RandomForestRegressor()</a></span></li><li><span><a href=\"#Метод-Ridge()\" data-toc-modified-id=\"Метод-Ridge()-2.1.4\"><span class=\"toc-item-num\">2.1.4&nbsp;&nbsp;</span>Метод Ridge()</a></span></li><li><span><a href=\"#Метод-Lasso()\" data-toc-modified-id=\"Метод-Lasso()-2.1.5\"><span class=\"toc-item-num\">2.1.5&nbsp;&nbsp;</span>Метод Lasso()</a></span></li><li><span><a href=\"#Метод-LGBMRegressor()\" data-toc-modified-id=\"Метод-LGBMRegressor()-2.1.6\"><span class=\"toc-item-num\">2.1.6&nbsp;&nbsp;</span>Метод LGBMRegressor()</a></span></li><li><span><a href=\"#Метод-CatBoostRegressor()\" data-toc-modified-id=\"Метод-CatBoostRegressor()-2.1.7\"><span class=\"toc-item-num\">2.1.7&nbsp;&nbsp;</span>Метод CatBoostRegressor()</a></span></li></ul></li></ul></li><li><span><a href=\"#Тестирование\" data-toc-modified-id=\"Тестирование-3\"><span class=\"toc-item-num\">3&nbsp;&nbsp;</span>Тестирование</a></span></li><li><span><a href=\"#Общий-вывод\" data-toc-modified-id=\"Общий-вывод-4\"><span class=\"toc-item-num\">4&nbsp;&nbsp;</span>Общий вывод</a></span></li></ul></div>"
   ]
  },
  {
   "cell_type": "markdown",
   "metadata": {},
   "source": [
    "#  Прогнозирование заказов такси"
   ]
  },
  {
   "cell_type": "markdown",
   "metadata": {},
   "source": [
    "Компания «Чётенькое такси» собрала исторические данные о заказах такси в аэропортах. Чтобы привлекать больше водителей в период пиковой нагрузки, нужно спрогнозировать количество заказов такси на следующий час. Постройте модель для такого предсказания.\n",
    "\n",
    "Значение метрики *RMSE* на тестовой выборке должно быть не больше 48.\n",
    "\n",
    "Вам нужно:\n",
    "\n",
    "1. Загрузить данные и выполнить их ресемплирование по одному часу.\n",
    "2. Проанализировать данные.\n",
    "3. Обучить разные модели с различными гиперпараметрами. Сделать тестовую выборку размером 10% от исходных данных.\n",
    "4. Проверить данные на тестовой выборке и сделать выводы.\n",
    "\n",
    "\n",
    "Данные лежат в файле `taxi.csv`. Количество заказов находится в столбце `num_orders` (от англ. *number of orders*, «число заказов»)."
   ]
  },
  {
   "cell_type": "markdown",
   "metadata": {},
   "source": [
    "## Подготовка"
   ]
  },
  {
   "cell_type": "markdown",
   "metadata": {},
   "source": [
    "### Импорт библиотек"
   ]
  },
  {
   "cell_type": "code",
   "execution_count": 1,
   "metadata": {},
   "outputs": [
    {
     "name": "stdout",
     "output_type": "stream",
     "text": [
      "Requirement already satisfied: catboost in c:\\users\\daria\\anaconda3\\lib\\site-packages (1.2.1)\n",
      "Requirement already satisfied: matplotlib in c:\\users\\daria\\anaconda3\\lib\\site-packages (from catboost) (3.5.2)\n",
      "Requirement already satisfied: pandas>=0.24 in c:\\users\\daria\\anaconda3\\lib\\site-packages (from catboost) (1.4.4)\n",
      "Requirement already satisfied: six in c:\\users\\daria\\anaconda3\\lib\\site-packages (from catboost) (1.16.0)\n",
      "Requirement already satisfied: numpy>=1.16.0 in c:\\users\\daria\\anaconda3\\lib\\site-packages (from catboost) (1.21.5)\n",
      "Requirement already satisfied: scipy in c:\\users\\daria\\anaconda3\\lib\\site-packages (from catboost) (1.9.1)\n",
      "Requirement already satisfied: graphviz in c:\\users\\daria\\anaconda3\\lib\\site-packages (from catboost) (0.20.1)\n",
      "Requirement already satisfied: plotly in c:\\users\\daria\\anaconda3\\lib\\site-packages (from catboost) (5.9.0)\n",
      "Requirement already satisfied: python-dateutil>=2.8.1 in c:\\users\\daria\\anaconda3\\lib\\site-packages (from pandas>=0.24->catboost) (2.8.2)\n",
      "Requirement already satisfied: pytz>=2020.1 in c:\\users\\daria\\anaconda3\\lib\\site-packages (from pandas>=0.24->catboost) (2022.1)\n",
      "Requirement already satisfied: fonttools>=4.22.0 in c:\\users\\daria\\anaconda3\\lib\\site-packages (from matplotlib->catboost) (4.25.0)\n",
      "Requirement already satisfied: cycler>=0.10 in c:\\users\\daria\\anaconda3\\lib\\site-packages (from matplotlib->catboost) (0.11.0)\n",
      "Requirement already satisfied: packaging>=20.0 in c:\\users\\daria\\anaconda3\\lib\\site-packages (from matplotlib->catboost) (21.3)\n",
      "Requirement already satisfied: pillow>=6.2.0 in c:\\users\\daria\\anaconda3\\lib\\site-packages (from matplotlib->catboost) (9.2.0)\n",
      "Requirement already satisfied: pyparsing>=2.2.1 in c:\\users\\daria\\anaconda3\\lib\\site-packages (from matplotlib->catboost) (3.0.9)\n",
      "Requirement already satisfied: kiwisolver>=1.0.1 in c:\\users\\daria\\anaconda3\\lib\\site-packages (from matplotlib->catboost) (1.4.2)\n",
      "Requirement already satisfied: tenacity>=6.2.0 in c:\\users\\daria\\anaconda3\\lib\\site-packages (from plotly->catboost) (8.0.1)\n"
     ]
    }
   ],
   "source": [
    "!pip3 install catboost"
   ]
  },
  {
   "cell_type": "code",
   "execution_count": 2,
   "metadata": {},
   "outputs": [
    {
     "name": "stdout",
     "output_type": "stream",
     "text": [
      "Collecting lightgbm\n",
      "  Downloading lightgbm-4.0.0-py3-none-win_amd64.whl (1.3 MB)\n",
      "     ---------------------------------------- 1.3/1.3 MB 4.2 MB/s eta 0:00:00\n",
      "Requirement already satisfied: scipy in c:\\users\\daria\\anaconda3\\lib\\site-packages (from lightgbm) (1.9.1)\n",
      "Requirement already satisfied: numpy in c:\\users\\daria\\anaconda3\\lib\\site-packages (from lightgbm) (1.21.5)\n",
      "Installing collected packages: lightgbm\n",
      "Successfully installed lightgbm-4.0.0\n"
     ]
    }
   ],
   "source": [
    "!pip install lightgbm"
   ]
  },
  {
   "cell_type": "code",
   "execution_count": 3,
   "metadata": {},
   "outputs": [],
   "source": [
    "import pandas as pd\n",
    "import numpy as np\n",
    "from numpy import sqrt \n",
    "from pylab import rcParams\n",
    "import scipy as sci\n",
    "from statsmodels.tsa.stattools import adfuller\n",
    "from statsmodels.tsa.seasonal import seasonal_decompose\n",
    "\n",
    "import matplotlib.pyplot as plt\n",
    "\n",
    "from sklearn.metrics import make_scorer, mean_squared_error\n",
    "from sklearn.pipeline import Pipeline\n",
    "from sklearn.preprocessing import StandardScaler\n",
    "\n",
    "from sklearn.model_selection import (\n",
    "    GridSearchCV, \n",
    "    RandomizedSearchCV, \n",
    "    TimeSeriesSplit, \n",
    "    cross_val_score,\n",
    "    train_test_split)\n",
    "\n",
    "from sklearn.linear_model import (\n",
    "    LinearRegression, \n",
    "    Ridge, \n",
    "    Lasso)\n",
    "\n",
    "from sklearn.tree import DecisionTreeRegressor\n",
    "from sklearn.ensemble import RandomForestRegressor\n",
    "from sklearn.dummy import DummyRegressor\n",
    "from catboost import CatBoostRegressor, Pool\n",
    "from lightgbm import LGBMRegressor\n",
    "import lightgbm as lgb"
   ]
  },
  {
   "cell_type": "markdown",
   "metadata": {},
   "source": [
    "### Вывод первых строк и изучение полученной информации"
   ]
  },
  {
   "cell_type": "code",
   "execution_count": 4,
   "metadata": {},
   "outputs": [],
   "source": [
    "def my_func(x):\n",
    "    display('Исходный датафрейм')\n",
    "    display(x.head(8))\n",
    "    display('Общая информация о датафрейме')\n",
    "    display(x.info())\n",
    "    display('Количество пустых значений в датафрейме')\n",
    "    display(x.isna().sum())\n",
    "    display('Количество явных дубликатов в датафрейме')\n",
    "    display(x.duplicated().sum())\n",
    "    display('Описательная статистика')\n",
    "    display(x.describe())"
   ]
  },
  {
   "cell_type": "code",
   "execution_count": 5,
   "metadata": {},
   "outputs": [
    {
     "data": {
      "text/plain": [
       "'Исходный датафрейм'"
      ]
     },
     "metadata": {},
     "output_type": "display_data"
    },
    {
     "data": {
      "text/html": [
       "<div>\n",
       "<style scoped>\n",
       "    .dataframe tbody tr th:only-of-type {\n",
       "        vertical-align: middle;\n",
       "    }\n",
       "\n",
       "    .dataframe tbody tr th {\n",
       "        vertical-align: top;\n",
       "    }\n",
       "\n",
       "    .dataframe thead th {\n",
       "        text-align: right;\n",
       "    }\n",
       "</style>\n",
       "<table border=\"1\" class=\"dataframe\">\n",
       "  <thead>\n",
       "    <tr style=\"text-align: right;\">\n",
       "      <th></th>\n",
       "      <th>num_orders</th>\n",
       "    </tr>\n",
       "    <tr>\n",
       "      <th>datetime</th>\n",
       "      <th></th>\n",
       "    </tr>\n",
       "  </thead>\n",
       "  <tbody>\n",
       "    <tr>\n",
       "      <th>2018-03-01 00:00:00</th>\n",
       "      <td>9</td>\n",
       "    </tr>\n",
       "    <tr>\n",
       "      <th>2018-03-01 00:10:00</th>\n",
       "      <td>14</td>\n",
       "    </tr>\n",
       "    <tr>\n",
       "      <th>2018-03-01 00:20:00</th>\n",
       "      <td>28</td>\n",
       "    </tr>\n",
       "    <tr>\n",
       "      <th>2018-03-01 00:30:00</th>\n",
       "      <td>20</td>\n",
       "    </tr>\n",
       "    <tr>\n",
       "      <th>2018-03-01 00:40:00</th>\n",
       "      <td>32</td>\n",
       "    </tr>\n",
       "    <tr>\n",
       "      <th>2018-03-01 00:50:00</th>\n",
       "      <td>21</td>\n",
       "    </tr>\n",
       "    <tr>\n",
       "      <th>2018-03-01 01:00:00</th>\n",
       "      <td>7</td>\n",
       "    </tr>\n",
       "    <tr>\n",
       "      <th>2018-03-01 01:10:00</th>\n",
       "      <td>5</td>\n",
       "    </tr>\n",
       "  </tbody>\n",
       "</table>\n",
       "</div>"
      ],
      "text/plain": [
       "                     num_orders\n",
       "datetime                       \n",
       "2018-03-01 00:00:00           9\n",
       "2018-03-01 00:10:00          14\n",
       "2018-03-01 00:20:00          28\n",
       "2018-03-01 00:30:00          20\n",
       "2018-03-01 00:40:00          32\n",
       "2018-03-01 00:50:00          21\n",
       "2018-03-01 01:00:00           7\n",
       "2018-03-01 01:10:00           5"
      ]
     },
     "metadata": {},
     "output_type": "display_data"
    },
    {
     "data": {
      "text/plain": [
       "'Общая информация о датафрейме'"
      ]
     },
     "metadata": {},
     "output_type": "display_data"
    },
    {
     "name": "stdout",
     "output_type": "stream",
     "text": [
      "<class 'pandas.core.frame.DataFrame'>\n",
      "DatetimeIndex: 26496 entries, 2018-03-01 00:00:00 to 2018-08-31 23:50:00\n",
      "Data columns (total 1 columns):\n",
      " #   Column      Non-Null Count  Dtype\n",
      "---  ------      --------------  -----\n",
      " 0   num_orders  26496 non-null  int64\n",
      "dtypes: int64(1)\n",
      "memory usage: 414.0 KB\n"
     ]
    },
    {
     "data": {
      "text/plain": [
       "None"
      ]
     },
     "metadata": {},
     "output_type": "display_data"
    },
    {
     "data": {
      "text/plain": [
       "'Количество пустых значений в датафрейме'"
      ]
     },
     "metadata": {},
     "output_type": "display_data"
    },
    {
     "data": {
      "text/plain": [
       "num_orders    0\n",
       "dtype: int64"
      ]
     },
     "metadata": {},
     "output_type": "display_data"
    },
    {
     "data": {
      "text/plain": [
       "'Количество явных дубликатов в датафрейме'"
      ]
     },
     "metadata": {},
     "output_type": "display_data"
    },
    {
     "data": {
      "text/plain": [
       "26415"
      ]
     },
     "metadata": {},
     "output_type": "display_data"
    },
    {
     "data": {
      "text/plain": [
       "'Описательная статистика'"
      ]
     },
     "metadata": {},
     "output_type": "display_data"
    },
    {
     "data": {
      "text/html": [
       "<div>\n",
       "<style scoped>\n",
       "    .dataframe tbody tr th:only-of-type {\n",
       "        vertical-align: middle;\n",
       "    }\n",
       "\n",
       "    .dataframe tbody tr th {\n",
       "        vertical-align: top;\n",
       "    }\n",
       "\n",
       "    .dataframe thead th {\n",
       "        text-align: right;\n",
       "    }\n",
       "</style>\n",
       "<table border=\"1\" class=\"dataframe\">\n",
       "  <thead>\n",
       "    <tr style=\"text-align: right;\">\n",
       "      <th></th>\n",
       "      <th>num_orders</th>\n",
       "    </tr>\n",
       "  </thead>\n",
       "  <tbody>\n",
       "    <tr>\n",
       "      <th>count</th>\n",
       "      <td>26496.000000</td>\n",
       "    </tr>\n",
       "    <tr>\n",
       "      <th>mean</th>\n",
       "      <td>14.070463</td>\n",
       "    </tr>\n",
       "    <tr>\n",
       "      <th>std</th>\n",
       "      <td>9.211330</td>\n",
       "    </tr>\n",
       "    <tr>\n",
       "      <th>min</th>\n",
       "      <td>0.000000</td>\n",
       "    </tr>\n",
       "    <tr>\n",
       "      <th>25%</th>\n",
       "      <td>8.000000</td>\n",
       "    </tr>\n",
       "    <tr>\n",
       "      <th>50%</th>\n",
       "      <td>13.000000</td>\n",
       "    </tr>\n",
       "    <tr>\n",
       "      <th>75%</th>\n",
       "      <td>19.000000</td>\n",
       "    </tr>\n",
       "    <tr>\n",
       "      <th>max</th>\n",
       "      <td>119.000000</td>\n",
       "    </tr>\n",
       "  </tbody>\n",
       "</table>\n",
       "</div>"
      ],
      "text/plain": [
       "         num_orders\n",
       "count  26496.000000\n",
       "mean      14.070463\n",
       "std        9.211330\n",
       "min        0.000000\n",
       "25%        8.000000\n",
       "50%       13.000000\n",
       "75%       19.000000\n",
       "max      119.000000"
      ]
     },
     "metadata": {},
     "output_type": "display_data"
    }
   ],
   "source": [
    "try:\n",
    "    data = pd.read_csv('/datasets/taxi.csv', index_col=[0], parse_dates=[0])\n",
    "except:\n",
    "    data = pd.read_csv('C:/Users/daria/Датасеты для проектов/12 Временные ряды - прогнозирование заказов такси/taxi.csv', index_col=[0], parse_dates=[0])\n",
    "data.sort_index(inplace=True)\n",
    "my_func(data)"
   ]
  },
  {
   "cell_type": "markdown",
   "metadata": {},
   "source": [
    "Выполним ресемплинг по 1 часу:"
   ]
  },
  {
   "cell_type": "code",
   "execution_count": 6,
   "metadata": {},
   "outputs": [],
   "source": [
    "data = data.resample('1H').sum()"
   ]
  },
  {
   "cell_type": "markdown",
   "metadata": {},
   "source": [
    "### Промежуточный вывод"
   ]
  },
  {
   "cell_type": "markdown",
   "metadata": {},
   "source": [
    "В работу взят датафрейм, состоящий из одного столбца - количество заказов, индексом является дата и время, в которые был сделан заказ. Все строк 26496, после ресемплирования по одному часу мы получили датафрейм с 4416 строками. Пустые строки и дубли строк - отсутствуют.\n",
    "\n",
    "И вывели график, отображающий количество заказов, распределенное по месяцам в течение 2018 года, начиная с марта, заканчивая августом. Мы видим, что есть восходящий тренд, присутствует сезонность, судя по пикам в основном в серединах месяцев, начиная с апреля. Приступаем к анализу данных."
   ]
  },
  {
   "cell_type": "markdown",
   "metadata": {},
   "source": [
    "### Оценка тренда, сезонности и шума временного ряда"
   ]
  },
  {
   "cell_type": "markdown",
   "metadata": {},
   "source": [
    "Используем функцию функция seasonal_decompose() - она раскладывает временной ряд на три составляющие: тренд, сезонность и остаток."
   ]
  },
  {
   "cell_type": "code",
   "execution_count": 7,
   "metadata": {
    "scrolled": false
   },
   "outputs": [
    {
     "data": {
      "image/png": "[encoded data removed]",
      "text/plain": [
       "<Figure size 1200x1200 with 5 Axes>"
      ]
     },
     "metadata": {},
     "output_type": "display_data"
    }
   ],
   "source": [
    "rcParams['figure.figsize'] = 12, 12\n",
    "decomposed = seasonal_decompose(data)\n",
    "\n",
    "plt.subplot(511)\n",
    "decomposed.observed.plot(ax=plt.gca())\n",
    "plt.title('Количество заказов такси в аэропортах по месяцам')\n",
    "plt.xlabel('Месяц')\n",
    "plt.ylabel('Заказы')\n",
    "\n",
    "plt.subplot(512)\n",
    "decomposed.trend.plot(ax=plt.gca())\n",
    "plt.title('График тренда')\n",
    "plt.xlabel('Месяцы')\n",
    "plt.ylabel('Тренд')\n",
    "\n",
    "plt.subplot(513)\n",
    "decomposed.seasonal.plot(ax=plt.gca())\n",
    "plt.title('График сезонности')\n",
    "plt.xlabel('Месяц')\n",
    "plt.ylabel('Сезонность')\n",
    "\n",
    "plt.subplot(514)\n",
    "decomposed.resid.plot(ax=plt.gca())\n",
    "plt.title('График остатков')\n",
    "plt.xlabel('Месяц')\n",
    "plt.ylabel('Остатки')\n",
    "\n",
    "plt.subplot(515)\n",
    "decomposed.seasonal['2018-06-01 00:00:00':'2018-06-03 23:00:00'].plot(ax=plt.gca())\n",
    "plt.title('График сезонности в разрезе 3х суток')\n",
    "plt.xlabel('Час')\n",
    "plt.ylabel('Сезонность')\n",
    "\n",
    "plt.tight_layout()"
   ]
  },
  {
   "cell_type": "markdown",
   "metadata": {},
   "source": [
    "<a id='gap'></a>"
   ]
  },
  {
   "cell_type": "markdown",
   "metadata": {},
   "source": [
    "Добавлен график сезонности на промежутке 3 суток, в результате можно сделать следующие выводы:\n",
    "\n",
    "1. Природа сезонности - ежедневная.\n",
    "\n",
    "2. Пики заказов наблюдаются в 00:00 часов, затем заказы резко падают, и в 06:00 часов - самое маленькое количество заказов. Затем они постепенно растут и в 14:00 - пик дневной активности.\n",
    "\n",
    "3. Природа сезонности в случае заказов такси в аэропортах обсуловлена тем, что ночью и рано утром у людей нет возможности добраться до дома на общественном транспорте с той же легкостью, как это можно сделать днем."
   ]
  },
  {
   "cell_type": "markdown",
   "metadata": {},
   "source": [
    "Приступим к оценке стационарности ряда с помощью сглаживания скользящим средним:"
   ]
  },
  {
   "cell_type": "code",
   "execution_count": 8,
   "metadata": {},
   "outputs": [
    {
     "data": {
      "image/png": "[encoded data removed]",
      "text/plain": [
       "<Figure size 1500x800 with 1 Axes>"
      ]
     },
     "metadata": {},
     "output_type": "display_data"
    }
   ],
   "source": [
    "plt.figure(figsize = (15,8))\n",
    "\n",
    "plt.plot(data, label = 'Количество заказов такси по месяцам', color = 'steelblue')\n",
    "plt.plot(data.rolling(window = 24).mean(), label = 'Скользящее среднее за 6 месяцев', color = 'orange')\n",
    "\n",
    "plt.legend(title = '', loc = 'upper left', fontsize = 14)\n",
    "plt.xlabel('Месяцы', fontsize = 14)\n",
    "plt.ylabel('Количество заказов', fontsize = 14)\n",
    "plt.title('Количество заказов такси в аэропортах', fontsize = 16)\n",
    "plt.show()"
   ]
  },
  {
   "cell_type": "markdown",
   "metadata": {},
   "source": [
    "Сглаженное среднее увеличивается со временем можно сделать вывод, что ряд нестационарен."
   ]
  },
  {
   "cell_type": "markdown",
   "metadata": {},
   "source": [
    "### Определение стационарности временного ряда"
   ]
  },
  {
   "cell_type": "markdown",
   "metadata": {},
   "source": [
    "Для того, чтобы оценить временной ряд на стационарность, используем тест Дики-Фуллера.\n",
    "Гипотезы:\n",
    "- нулевая: существует единичный корень, ряд нестационарный;\n",
    "- альтернативная: нет единичного корня, ряд стационарный"
   ]
  },
  {
   "cell_type": "code",
   "execution_count": 9,
   "metadata": {},
   "outputs": [
    {
     "name": "stdout",
     "output_type": "stream",
     "text": [
      "P-значение = 0.028940051402614502\n",
      "Тестовая статистика = -3.068924289027936\n",
      "Критические значения = {'1%': -3.431842162413052, '5%': -2.8621993540813637, '10%': -2.567120978470452}\n"
     ]
    }
   ],
   "source": [
    "rcParams['figure.figsize'] = 8, 4\n",
    "adf_test = adfuller(data['num_orders'])\n",
    "print('P-значение = ' + str(adf_test[1]))\n",
    "print('Тестовая статистика = ' + str(adf_test[0])) \n",
    "print('Критические значения = ' + str(adf_test[4]))"
   ]
  },
  {
   "cell_type": "markdown",
   "metadata": {},
   "source": [
    "Проверка гипотез на 5-% уровне значимости:"
   ]
  },
  {
   "cell_type": "code",
   "execution_count": 10,
   "metadata": {},
   "outputs": [
    {
     "name": "stdout",
     "output_type": "stream",
     "text": [
      "Нулевая гипотеза отвергнута – временной ряд стационарен\n"
     ]
    }
   ],
   "source": [
    "if adf_test[0] > adf_test[4]['5%']: \n",
    "    print ('Нулевая гипотеза принята – временной ряд не стационарен')\n",
    "else:\n",
    "    print ('Нулевая гипотеза отвергнута – временной ряд стационарен')"
   ]
  },
  {
   "cell_type": "markdown",
   "metadata": {},
   "source": [
    "В данном случае тестовая статистика меньше критического значения, что означает, что ряд является стационарным."
   ]
  },
  {
   "cell_type": "markdown",
   "metadata": {},
   "source": [
    "Проверка гипотез на 1-% уровне значимости:"
   ]
  },
  {
   "cell_type": "code",
   "execution_count": 11,
   "metadata": {},
   "outputs": [
    {
     "name": "stdout",
     "output_type": "stream",
     "text": [
      "Нулевая гипотеза принята – временной ряд не стационарен\n"
     ]
    }
   ],
   "source": [
    "if adf_test[0] > adf_test[4]['1%']: \n",
    "    print ('Нулевая гипотеза принята – временной ряд не стационарен')\n",
    "else:\n",
    "    print ('Нулевая гипотеза отвергнута – временной ряд стационарен')"
   ]
  },
  {
   "cell_type": "markdown",
   "metadata": {},
   "source": [
    "Тестовая статистика больше критического значения - ряд не является стационарным."
   ]
  },
  {
   "cell_type": "markdown",
   "metadata": {},
   "source": [
    "На 5-% уровне значимости расширенный тест Дики-Фуллера показал, что наш временной ряд - стационарный.\n",
    "На 1-% уровне значимости - нестационарный."
   ]
  },
  {
   "cell_type": "markdown",
   "metadata": {},
   "source": [
    "### Промежуточный вывод"
   ]
  },
  {
   "cell_type": "markdown",
   "metadata": {},
   "source": [
    "В ходе анализа временной ряд был разбит на три составляющие: тренд, сезонность и остаток.\n",
    "- 1-й график отображает изначальные данные.\n",
    "- 2-й график - тренд, в нашем случае он увеличивается к августу.\n",
    "- 3-й график - сезонные колебания, видим, как они одинаково прослеживаются от месяца к месяцу.\n",
    "- 4-й график - шум, разброс шума увеличивается к августу, что логично, так как первый график показывает, что помимо тренда немного увеличиваются размеры колебания сезонности."
   ]
  },
  {
   "cell_type": "markdown",
   "metadata": {},
   "source": [
    "Был проведен тест Дики-Фуллера на оценку временного ряда. Тест показал, что на 1-% уровне значимости ряд не стационарный и визуализация сглаженного скользящим средним за 24 часа подтвердила это."
   ]
  },
  {
   "cell_type": "markdown",
   "metadata": {},
   "source": [
    "## Обучение"
   ]
  },
  {
   "cell_type": "markdown",
   "metadata": {},
   "source": [
    "### Подготовка к обучению"
   ]
  },
  {
   "cell_type": "markdown",
   "metadata": {},
   "source": [
    "Напишем функцию для создания признаков:\n",
    "\n",
    "1. Календарные признаки\n",
    "- признак, в котором хранится год как число: data['year'];\n",
    "- признак, в котором хранится месяц как число: data['month'];\n",
    "- признак, в котором хранится день как число: data['day'];\n",
    "- признак, в котором хранится день недели как число: data['dayofweek']\n",
    "\n",
    "2. «Отстающие значения»\n",
    "\n",
    "3. Скользящее среднее"
   ]
  },
  {
   "cell_type": "code",
   "execution_count": 12,
   "metadata": {},
   "outputs": [],
   "source": [
    "def make_features(data, max_lag, rolling_mean_size):\n",
    "    \n",
    "    data_mf = data.copy()\n",
    "    \n",
    "    data_mf['day'] = data_mf.index.day\n",
    "    data_mf['dayofweek'] = data_mf.index.dayofweek\n",
    "    \n",
    "    for lag in range(1, max_lag + 1):\n",
    "        data_mf['lag_{}'.format(lag)] = data_mf['num_orders'].shift(lag)\n",
    "\n",
    "    data_mf['rolling_mean'] = data_mf['num_orders'].shift().rolling(rolling_mean_size).mean()\n",
    "    \n",
    "    return data_mf.dropna()"
   ]
  },
  {
   "cell_type": "code",
   "execution_count": 13,
   "metadata": {},
   "outputs": [],
   "source": [
    "data_new = make_features(data, 24, 12)"
   ]
  },
  {
   "cell_type": "markdown",
   "metadata": {},
   "source": [
    "Разделим датафрейм на обучающую и тестовую выборки:"
   ]
  },
  {
   "cell_type": "code",
   "execution_count": 14,
   "metadata": {},
   "outputs": [],
   "source": [
    "train, test = train_test_split(data_new, shuffle=False, test_size=0.1)\n",
    "train = train.dropna()\n",
    "\n",
    "features_train = train.drop(['num_orders'], axis=1)\n",
    "target_train = train['num_orders']\n",
    "\n",
    "features_test = test.drop(['num_orders'], axis=1)\n",
    "target_test = test['num_orders']"
   ]
  },
  {
   "cell_type": "code",
   "execution_count": 15,
   "metadata": {
    "scrolled": true
   },
   "outputs": [
    {
     "data": {
      "text/plain": [
       "(3952, 27)"
      ]
     },
     "metadata": {},
     "output_type": "display_data"
    },
    {
     "data": {
      "text/plain": [
       "(440, 27)"
      ]
     },
     "metadata": {},
     "output_type": "display_data"
    },
    {
     "data": {
      "text/plain": [
       "(3952,)"
      ]
     },
     "metadata": {},
     "output_type": "display_data"
    },
    {
     "data": {
      "text/plain": [
       "(440,)"
      ]
     },
     "metadata": {},
     "output_type": "display_data"
    }
   ],
   "source": [
    "display(features_train.shape, features_test.shape, target_train.shape, target_test.shape)"
   ]
  },
  {
   "cell_type": "markdown",
   "metadata": {},
   "source": [
    "Создадим функцию для удобного вывода результата обученных разными методами моделей:"
   ]
  },
  {
   "cell_type": "code",
   "execution_count": 16,
   "metadata": {},
   "outputs": [],
   "source": [
    "def result_func(model_type,\n",
    "                parameters,\n",
    "                features_train_new):\n",
    "    \n",
    "    cv = TimeSeriesSplit(n_splits=5)\n",
    "\n",
    "    pl = Pipeline([('model', model_type)])\n",
    "    \n",
    "    gs_pl = GridSearchCV(\n",
    "            estimator = pl, \n",
    "            param_grid = parameters, \n",
    "            scoring = 'neg_root_mean_squared_error',\n",
    "            cv = cv,\n",
    "            n_jobs = -1)\n",
    "        \n",
    "    gs_pl.fit(features_train_new, target_train)\n",
    "    best_model = gs_pl.best_estimator_\n",
    "\n",
    "    gs_pl_best_score = gs_pl.best_score_ * -1\n",
    "    gs_pl_best_params = gs_pl.best_params_\n",
    "    best_index = gs_pl.best_index_\n",
    "    gs_pl_fit_time = round(gs_pl.cv_results_['mean_fit_time'][best_index], 2)\n",
    "    gs_pl_score_time = round(gs_pl.cv_results_['mean_score_time'][best_index], 2)\n",
    "\n",
    "    print('Лучшие параметры для метода', model_type, '- {}'.format(gs_pl_best_params))\n",
    "    print('Значение RMSE = ', round(gs_pl_best_score, 2), '\\n')\n",
    "    print('Время обучения модели', gs_pl_fit_time, 'секунд', '\\n')\n",
    "    print('Время предсказания модели', gs_pl_score_time, 'секунд', '\\n')\n",
    "    \n",
    "    return best_model, gs_pl_best_score, gs_pl_fit_time, gs_pl_score_time"
   ]
  },
  {
   "cell_type": "markdown",
   "metadata": {},
   "source": [
    "#### Метод LinearRegression()"
   ]
  },
  {
   "cell_type": "code",
   "execution_count": 17,
   "metadata": {},
   "outputs": [],
   "source": [
    "features_train_lr = features_train.copy()\n",
    "features_test_lr = features_test.copy()"
   ]
  },
  {
   "cell_type": "code",
   "execution_count": 18,
   "metadata": {},
   "outputs": [
    {
     "name": "stdout",
     "output_type": "stream",
     "text": [
      "Лучшие параметры для метода LinearRegression() - {}\n",
      "Значение RMSE =  27.21 \n",
      "\n",
      "Время обучения модели 0.07 секунд \n",
      "\n",
      "Время предсказания модели 0.01 секунд \n",
      "\n",
      "Wall time: 8.03 s\n"
     ]
    }
   ],
   "source": [
    "%%time\n",
    "\n",
    "model_lr, rmse_lr, lr_fit_time, lr_score_time = result_func(\n",
    "    LinearRegression(), \n",
    "    {},\n",
    "    features_train_lr)"
   ]
  },
  {
   "cell_type": "markdown",
   "metadata": {},
   "source": [
    "#### Метод DecisionTreeRegressor()"
   ]
  },
  {
   "cell_type": "code",
   "execution_count": 19,
   "metadata": {},
   "outputs": [],
   "source": [
    "features_train_dt = features_train.copy()\n",
    "features_test_dt = features_test.copy()"
   ]
  },
  {
   "cell_type": "code",
   "execution_count": 20,
   "metadata": {},
   "outputs": [
    {
     "name": "stdout",
     "output_type": "stream",
     "text": [
      "Лучшие параметры для метода DecisionTreeRegressor(random_state=12345) - {'model__max_depth': 5, 'model__min_samples_leaf': 6}\n",
      "Значение RMSE =  29.31 \n",
      "\n",
      "Время обучения модели 0.12 секунд \n",
      "\n",
      "Время предсказания модели 0.01 секунд \n",
      "\n",
      "Wall time: 6.37 s\n"
     ]
    }
   ],
   "source": [
    "%%time\n",
    "\n",
    "model_dt, rmse_dt, dt_fit_time, dt_score_time = result_func(\n",
    "    DecisionTreeRegressor(random_state=12345), \n",
    "    {'model__max_depth': [None] + [i for i in range(2, 7)],\n",
    "    'model__min_samples_leaf': [6, 7, 8, 9, 10]},\n",
    "    features_train_dt)"
   ]
  },
  {
   "cell_type": "markdown",
   "metadata": {},
   "source": [
    "#### Метод RandomForestRegressor()"
   ]
  },
  {
   "cell_type": "code",
   "execution_count": 21,
   "metadata": {},
   "outputs": [],
   "source": [
    "features_train_rf = features_train.copy()\n",
    "features_test_rf = features_test.copy()"
   ]
  },
  {
   "cell_type": "code",
   "execution_count": 22,
   "metadata": {},
   "outputs": [
    {
     "name": "stdout",
     "output_type": "stream",
     "text": [
      "Лучшие параметры для метода RandomForestRegressor(random_state=12345) - {'randomforestregressor__n_estimators': 150, 'randomforestregressor__min_samples_split': 2, 'randomforestregressor__min_samples_leaf': 3, 'randomforestregressor__max_depth': 12}\n",
      "Значение RMSE =  24.71 \n",
      "\n",
      "Время обучения модели 34.6 секунд \n",
      "\n",
      "Время предсказания модели 0.17 секунд \n",
      "\n",
      "Wall time: 2min 25s\n"
     ]
    }
   ],
   "source": [
    "%%time\n",
    "\n",
    "model_rf = RandomForestRegressor(random_state=12345)\n",
    "\n",
    "pipline_rf = Pipeline([('randomforestregressor', model_rf)])\n",
    "\n",
    "param_grid_rf = {\n",
    "    'randomforestregressor__n_estimators': range(50, 151, 50),\n",
    "    'randomforestregressor__max_depth': range(2, 15),\n",
    "    'randomforestregressor__min_samples_split': (2, 3, 4),\n",
    "    'randomforestregressor__min_samples_leaf': (1, 2, 3, 4)\n",
    "}\n",
    "\n",
    "gs_rf = RandomizedSearchCV(\n",
    "    pipline_rf, \n",
    "    param_distributions=param_grid_rf, \n",
    "    scoring='neg_root_mean_squared_error', \n",
    "    n_jobs=-1, \n",
    "    random_state=12345\n",
    ")\n",
    "\n",
    "gs_rf.fit(features_train_rf, target_train)\n",
    "\n",
    "gs_rf_best_score = gs_rf.best_score_ * -1\n",
    "gs_rf_best_params = gs_rf.best_params_\n",
    "best_index = gs_rf.best_index_\n",
    "gs_rf_fit_time = round(gs_rf.cv_results_['mean_fit_time'][best_index], 2)\n",
    "gs_rf_score_time = round(gs_rf.cv_results_['mean_score_time'][best_index], 2)\n",
    "\n",
    "print('Лучшие параметры для метода', model_rf, '- {}'.format(gs_rf_best_params))\n",
    "print('Значение RMSE = ', round(gs_rf_best_score, 2), '\\n')\n",
    "print('Время обучения модели', gs_rf_fit_time, 'секунд', '\\n')\n",
    "print('Время предсказания модели', gs_rf_score_time, 'секунд', '\\n')"
   ]
  },
  {
   "cell_type": "markdown",
   "metadata": {},
   "source": [
    "#### Метод Ridge()"
   ]
  },
  {
   "cell_type": "code",
   "execution_count": 23,
   "metadata": {},
   "outputs": [],
   "source": [
    "features_train_ridge = features_train.copy()\n",
    "features_test_ridge = features_test.copy()"
   ]
  },
  {
   "cell_type": "code",
   "execution_count": 24,
   "metadata": {},
   "outputs": [
    {
     "name": "stdout",
     "output_type": "stream",
     "text": [
      "Лучшие параметры для метода Ridge(random_state=12345) - {'model__alpha': 100, 'model__solver': 'svd'}\n",
      "Значение RMSE =  27.21 \n",
      "\n",
      "Время обучения модели 0.03 секунд \n",
      "\n",
      "Время предсказания модели 0.05 секунд \n",
      "\n",
      "Wall time: 4.4 s\n"
     ]
    }
   ],
   "source": [
    "%%time\n",
    "\n",
    "model_ridge, rmse_ridge, ridge_fit_time, ridge_score_time = result_func(\n",
    "    Ridge(random_state=12345), \n",
    "    {'model__solver': ['svd', 'cholesky', 'lsqr', 'sag'],\n",
    "     'model__alpha': [1e-5, 1e-4, 1e-3, 1e-2, 1e-1, 1, 10, 100]},\n",
    "    features_train_ridge)"
   ]
  },
  {
   "cell_type": "markdown",
   "metadata": {},
   "source": [
    "#### Метод Lasso()"
   ]
  },
  {
   "cell_type": "code",
   "execution_count": 25,
   "metadata": {},
   "outputs": [],
   "source": [
    "features_train_lasso = features_train.copy()\n",
    "features_test_lasso = features_test.copy()"
   ]
  },
  {
   "cell_type": "code",
   "execution_count": 26,
   "metadata": {},
   "outputs": [
    {
     "name": "stdout",
     "output_type": "stream",
     "text": [
      "Лучшие параметры для метода Lasso(random_state=12345, tol=0.05) - {'model__alpha': 0.3, 'model__selection': 'random'}\n",
      "Значение RMSE =  27.2 \n",
      "\n",
      "Время обучения модели 0.04 секунд \n",
      "\n",
      "Время предсказания модели 0.03 секунд \n",
      "\n",
      "Wall time: 1.78 s\n"
     ]
    }
   ],
   "source": [
    "%%time\n",
    "\n",
    "model_lasso, rmse_lasso, lasso_fit_time, lasso_score_time = result_func(\n",
    "    Lasso(tol=0.05, random_state=12345), \n",
    "    {'model__alpha': [0.1, 0.15, 0.2, 0.25, 0.3],\n",
    "    'model__selection': ['cyclic', 'random']},\n",
    "    features_train_lasso)"
   ]
  },
  {
   "cell_type": "markdown",
   "metadata": {},
   "source": [
    "#### Метод LGBMRegressor()"
   ]
  },
  {
   "cell_type": "code",
   "execution_count": 27,
   "metadata": {},
   "outputs": [],
   "source": [
    "features_train_LGBMR = features_train.copy()\n",
    "features_test_LGBMR = features_test.copy()"
   ]
  },
  {
   "cell_type": "code",
   "execution_count": 28,
   "metadata": {
    "scrolled": false
   },
   "outputs": [
    {
     "name": "stdout",
     "output_type": "stream",
     "text": [
      "[LightGBM] [Warning] Accuracy may be bad since you didn't explicitly set num_leaves OR 2^max_depth > num_leaves. (num_leaves=31).\n",
      "[LightGBM] [Warning] Accuracy may be bad since you didn't explicitly set num_leaves OR 2^max_depth > num_leaves. (num_leaves=31).\n",
      "[LightGBM] [Warning] Auto-choosing col-wise multi-threading, the overhead of testing was 0.005401 seconds.\n",
      "You can set `force_col_wise=true` to remove the overhead.\n",
      "[LightGBM] [Info] Total Bins 4846\n",
      "[LightGBM] [Info] Number of data points in the train set: 3952, number of used features: 27\n",
      "[LightGBM] [Info] Start training from score 78.451417\n",
      "[LightGBM] [Warning] No further splits with positive gain, best gain: -inf\n",
      "[LightGBM] [Warning] No further splits with positive gain, best gain: -inf\n",
      "[LightGBM] [Warning] No further splits with positive gain, best gain: -inf\n",
      "[LightGBM] [Warning] No further splits with positive gain, best gain: -inf\n",
      "[LightGBM] [Warning] No further splits with positive gain, best gain: -inf\n",
      "[LightGBM] [Warning] No further splits with positive gain, best gain: -inf\n",
      "[LightGBM] [Warning] No further splits with positive gain, best gain: -inf\n",
      "[LightGBM] [Warning] No further splits with positive gain, best gain: -inf\n",
      "[LightGBM] [Warning] No further splits with positive gain, best gain: -inf\n",
      "[LightGBM] [Warning] No further splits with positive gain, best gain: -inf\n",
      "[LightGBM] [Warning] No further splits with positive gain, best gain: -inf\n",
      "[LightGBM] [Warning] No further splits with positive gain, best gain: -inf\n",
      "[LightGBM] [Warning] No further splits with positive gain, best gain: -inf\n",
      "[LightGBM] [Warning] No further splits with positive gain, best gain: -inf\n",
      "[LightGBM] [Warning] No further splits with positive gain, best gain: -inf\n",
      "[LightGBM] [Warning] No further splits with positive gain, best gain: -inf\n",
      "[LightGBM] [Warning] No further splits with positive gain, best gain: -inf\n",
      "[LightGBM] [Warning] No further splits with positive gain, best gain: -inf\n",
      "[LightGBM] [Warning] No further splits with positive gain, best gain: -inf\n",
      "[LightGBM] [Warning] No further splits with positive gain, best gain: -inf\n",
      "[LightGBM] [Warning] No further splits with positive gain, best gain: -inf\n",
      "[LightGBM] [Warning] No further splits with positive gain, best gain: -inf\n",
      "[LightGBM] [Warning] No further splits with positive gain, best gain: -inf\n",
      "[LightGBM] [Warning] No further splits with positive gain, best gain: -inf\n",
      "[LightGBM] [Warning] No further splits with positive gain, best gain: -inf\n",
      "[LightGBM] [Warning] No further splits with positive gain, best gain: -inf\n",
      "[LightGBM] [Warning] No further splits with positive gain, best gain: -inf\n",
      "[LightGBM] [Warning] No further splits with positive gain, best gain: -inf\n",
      "[LightGBM] [Warning] No further splits with positive gain, best gain: -inf\n",
      "[LightGBM] [Warning] No further splits with positive gain, best gain: -inf\n",
      "[LightGBM] [Warning] No further splits with positive gain, best gain: -inf\n",
      "[LightGBM] [Warning] No further splits with positive gain, best gain: -inf\n",
      "[LightGBM] [Warning] No further splits with positive gain, best gain: -inf\n",
      "[LightGBM] [Warning] No further splits with positive gain, best gain: -inf\n",
      "[LightGBM] [Warning] No further splits with positive gain, best gain: -inf\n",
      "[LightGBM] [Warning] No further splits with positive gain, best gain: -inf\n",
      "[LightGBM] [Warning] No further splits with positive gain, best gain: -inf\n",
      "[LightGBM] [Warning] No further splits with positive gain, best gain: -inf\n",
      "[LightGBM] [Warning] No further splits with positive gain, best gain: -inf\n",
      "[LightGBM] [Warning] No further splits with positive gain, best gain: -inf\n",
      "[LightGBM] [Warning] No further splits with positive gain, best gain: -inf\n",
      "[LightGBM] [Warning] No further splits with positive gain, best gain: -inf\n",
      "[LightGBM] [Warning] No further splits with positive gain, best gain: -inf\n",
      "[LightGBM] [Warning] No further splits with positive gain, best gain: -inf\n",
      "[LightGBM] [Warning] No further splits with positive gain, best gain: -inf\n",
      "[LightGBM] [Warning] No further splits with positive gain, best gain: -inf\n",
      "[LightGBM] [Warning] No further splits with positive gain, best gain: -inf\n",
      "[LightGBM] [Warning] No further splits with positive gain, best gain: -inf\n",
      "[LightGBM] [Warning] No further splits with positive gain, best gain: -inf\n",
      "[LightGBM] [Warning] No further splits with positive gain, best gain: -inf\n",
      "[LightGBM] [Warning] No further splits with positive gain, best gain: -inf\n",
      "[LightGBM] [Warning] No further splits with positive gain, best gain: -inf\n",
      "[LightGBM] [Warning] No further splits with positive gain, best gain: -inf\n",
      "[LightGBM] [Warning] No further splits with positive gain, best gain: -inf\n",
      "[LightGBM] [Warning] No further splits with positive gain, best gain: -inf\n",
      "[LightGBM] [Warning] No further splits with positive gain, best gain: -inf\n",
      "[LightGBM] [Warning] No further splits with positive gain, best gain: -inf\n",
      "[LightGBM] [Warning] No further splits with positive gain, best gain: -inf\n",
      "[LightGBM] [Warning] No further splits with positive gain, best gain: -inf\n",
      "[LightGBM] [Warning] No further splits with positive gain, best gain: -inf\n",
      "[LightGBM] [Warning] No further splits with positive gain, best gain: -inf\n",
      "[LightGBM] [Warning] No further splits with positive gain, best gain: -inf\n",
      "[LightGBM] [Warning] No further splits with positive gain, best gain: -inf\n",
      "[LightGBM] [Warning] No further splits with positive gain, best gain: -inf\n",
      "[LightGBM] [Warning] No further splits with positive gain, best gain: -inf\n",
      "[LightGBM] [Warning] No further splits with positive gain, best gain: -inf\n",
      "[LightGBM] [Warning] No further splits with positive gain, best gain: -inf\n",
      "[LightGBM] [Warning] No further splits with positive gain, best gain: -inf\n",
      "[LightGBM] [Warning] No further splits with positive gain, best gain: -inf\n",
      "[LightGBM] [Warning] No further splits with positive gain, best gain: -inf\n",
      "[LightGBM] [Warning] No further splits with positive gain, best gain: -inf\n",
      "[LightGBM] [Warning] No further splits with positive gain, best gain: -inf\n",
      "[LightGBM] [Warning] No further splits with positive gain, best gain: -inf\n",
      "[LightGBM] [Warning] No further splits with positive gain, best gain: -inf\n",
      "[LightGBM] [Warning] No further splits with positive gain, best gain: -inf\n",
      "[LightGBM] [Warning] No further splits with positive gain, best gain: -inf\n",
      "[LightGBM] [Warning] No further splits with positive gain, best gain: -inf\n",
      "[LightGBM] [Warning] No further splits with positive gain, best gain: -inf\n",
      "[LightGBM] [Warning] No further splits with positive gain, best gain: -inf\n",
      "[LightGBM] [Warning] No further splits with positive gain, best gain: -inf\n",
      "[LightGBM] [Warning] No further splits with positive gain, best gain: -inf\n",
      "[LightGBM] [Warning] No further splits with positive gain, best gain: -inf\n",
      "[LightGBM] [Warning] No further splits with positive gain, best gain: -inf\n",
      "[LightGBM] [Warning] No further splits with positive gain, best gain: -inf\n",
      "[LightGBM] [Warning] No further splits with positive gain, best gain: -inf\n",
      "[LightGBM] [Warning] No further splits with positive gain, best gain: -inf\n",
      "[LightGBM] [Warning] No further splits with positive gain, best gain: -inf\n",
      "[LightGBM] [Warning] No further splits with positive gain, best gain: -inf\n",
      "[LightGBM] [Warning] No further splits with positive gain, best gain: -inf\n",
      "[LightGBM] [Warning] No further splits with positive gain, best gain: -inf\n",
      "[LightGBM] [Warning] No further splits with positive gain, best gain: -inf\n",
      "[LightGBM] [Warning] No further splits with positive gain, best gain: -inf\n",
      "[LightGBM] [Warning] No further splits with positive gain, best gain: -inf\n",
      "Лучшие параметры для метода LGBMRegressor(objective='regression', random_state=12345) - {'model__learning_rate': 0.1, 'model__max_depth': 5, 'model__n_estimators': 100}\n",
      "Значение RMSE =  25.65 \n",
      "\n",
      "Время обучения модели 28.66 секунд \n",
      "\n",
      "Время предсказания модели 0.05 секунд \n",
      "\n",
      "Wall time: 18min 32s\n"
     ]
    }
   ],
   "source": [
    "%%time\n",
    "\n",
    "model_LGBMR, rmse_LGBMR, LGBMR_fit_time, LGBMR_score_time = result_func(\n",
    "    lgb.LGBMRegressor(objective='regression',\n",
    "                      random_state=12345), \n",
    "    {'model__learning_rate': [0.1, 0.03, 0.003],\n",
    "     'model__max_depth': [-1, 3, 5],\n",
    "     'model__n_estimators': [50, 100]},\n",
    "    features_train_LGBMR)"
   ]
  },
  {
   "cell_type": "markdown",
   "metadata": {},
   "source": [
    "#### Метод CatBoostRegressor()"
   ]
  },
  {
   "cell_type": "code",
   "execution_count": 29,
   "metadata": {},
   "outputs": [],
   "source": [
    "features_train_cb = features_train.copy()\n",
    "features_test_cb = features_test.copy()"
   ]
  },
  {
   "cell_type": "code",
   "execution_count": 30,
   "metadata": {
    "scrolled": false
   },
   "outputs": [
    {
     "name": "stdout",
     "output_type": "stream",
     "text": [
      "0:\tlearn: 37.0545343\ttotal: 205ms\tremaining: 30.5s\n",
      "1:\tlearn: 35.4771370\ttotal: 265ms\tremaining: 19.6s\n",
      "2:\tlearn: 34.1284069\ttotal: 311ms\tremaining: 15.2s\n",
      "3:\tlearn: 32.9480788\ttotal: 368ms\tremaining: 13.4s\n",
      "4:\tlearn: 31.9048445\ttotal: 469ms\tremaining: 13.6s\n",
      "5:\tlearn: 31.0030039\ttotal: 531ms\tremaining: 12.7s\n",
      "6:\tlearn: 30.2524733\ttotal: 612ms\tremaining: 12.5s\n",
      "7:\tlearn: 29.5270335\ttotal: 670ms\tremaining: 11.9s\n",
      "8:\tlearn: 28.8526196\ttotal: 767ms\tremaining: 12s\n",
      "9:\tlearn: 28.3008851\ttotal: 830ms\tremaining: 11.6s\n",
      "10:\tlearn: 27.7833380\ttotal: 889ms\tremaining: 11.2s\n",
      "11:\tlearn: 27.3497469\ttotal: 987ms\tremaining: 11.4s\n",
      "12:\tlearn: 26.9541290\ttotal: 1.04s\tremaining: 11s\n",
      "13:\tlearn: 26.5849583\ttotal: 1.07s\tremaining: 10.4s\n",
      "14:\tlearn: 26.2973017\ttotal: 1.1s\tremaining: 9.91s\n",
      "15:\tlearn: 26.0414639\ttotal: 1.13s\tremaining: 9.43s\n",
      "16:\tlearn: 25.7492258\ttotal: 1.15s\tremaining: 9.02s\n",
      "17:\tlearn: 25.5017844\ttotal: 1.18s\tremaining: 8.64s\n",
      "18:\tlearn: 25.3015851\ttotal: 1.2s\tremaining: 8.3s\n",
      "19:\tlearn: 25.1253727\ttotal: 1.23s\tremaining: 7.97s\n",
      "20:\tlearn: 24.9288675\ttotal: 1.25s\tremaining: 7.7s\n",
      "21:\tlearn: 24.7657526\ttotal: 1.28s\tremaining: 7.43s\n",
      "22:\tlearn: 24.5712766\ttotal: 1.3s\tremaining: 7.17s\n",
      "23:\tlearn: 24.3973597\ttotal: 1.32s\tremaining: 6.96s\n",
      "24:\tlearn: 24.3373821\ttotal: 1.35s\tremaining: 6.76s\n",
      "25:\tlearn: 24.2407484\ttotal: 1.39s\tremaining: 6.65s\n",
      "26:\tlearn: 24.1271332\ttotal: 1.45s\tremaining: 6.62s\n",
      "27:\tlearn: 24.0990593\ttotal: 1.54s\tremaining: 6.7s\n",
      "28:\tlearn: 23.9752262\ttotal: 1.61s\tremaining: 6.72s\n",
      "29:\tlearn: 23.9561573\ttotal: 1.65s\tremaining: 6.62s\n",
      "30:\tlearn: 23.9163754\ttotal: 1.69s\tremaining: 6.48s\n",
      "31:\tlearn: 23.7955680\ttotal: 1.74s\tremaining: 6.4s\n",
      "32:\tlearn: 23.7520317\ttotal: 1.77s\tremaining: 6.29s\n",
      "33:\tlearn: 23.6588969\ttotal: 1.8s\tremaining: 6.14s\n",
      "34:\tlearn: 23.5759761\ttotal: 1.83s\tremaining: 6.01s\n",
      "35:\tlearn: 23.5016239\ttotal: 1.85s\tremaining: 5.87s\n",
      "36:\tlearn: 23.4293002\ttotal: 1.88s\tremaining: 5.74s\n",
      "37:\tlearn: 23.3462502\ttotal: 1.91s\tremaining: 5.63s\n",
      "38:\tlearn: 23.2640670\ttotal: 1.97s\tremaining: 5.61s\n",
      "39:\tlearn: 23.2044864\ttotal: 2.02s\tremaining: 5.56s\n",
      "40:\tlearn: 23.1430595\ttotal: 2.09s\tremaining: 5.57s\n",
      "41:\tlearn: 23.0516280\ttotal: 2.16s\tremaining: 5.55s\n",
      "42:\tlearn: 22.9886863\ttotal: 2.22s\tremaining: 5.53s\n",
      "43:\tlearn: 22.9662964\ttotal: 2.28s\tremaining: 5.49s\n",
      "44:\tlearn: 22.9531681\ttotal: 2.33s\tremaining: 5.43s\n",
      "45:\tlearn: 22.8672495\ttotal: 2.36s\tremaining: 5.33s\n",
      "46:\tlearn: 22.8333930\ttotal: 2.4s\tremaining: 5.25s\n",
      "47:\tlearn: 22.7559430\ttotal: 2.43s\tremaining: 5.17s\n",
      "48:\tlearn: 22.6988677\ttotal: 2.48s\tremaining: 5.11s\n",
      "49:\tlearn: 22.6775539\ttotal: 2.53s\tremaining: 5.06s\n",
      "50:\tlearn: 22.6508134\ttotal: 2.58s\tremaining: 5.01s\n",
      "51:\tlearn: 22.5864973\ttotal: 2.62s\tremaining: 4.94s\n",
      "52:\tlearn: 22.5715191\ttotal: 2.66s\tremaining: 4.87s\n",
      "53:\tlearn: 22.5304357\ttotal: 2.69s\tremaining: 4.79s\n",
      "54:\tlearn: 22.4838174\ttotal: 2.73s\tremaining: 4.72s\n",
      "55:\tlearn: 22.4210010\ttotal: 2.79s\tremaining: 4.68s\n",
      "59:\tlearn: 22.3193549\ttotal: 3.13s\tremaining: 4.69s\n",
      "60:\tlearn: 22.2618897\ttotal: 3.17s\tremaining: 4.62s\n",
      "61:\tlearn: 22.2526894\ttotal: 3.2s\tremaining: 4.54s\n",
      "62:\tlearn: 22.1947957\ttotal: 3.24s\tremaining: 4.48s\n",
      "63:\tlearn: 22.1354696\ttotal: 3.29s\tremaining: 4.42s\n",
      "64:\tlearn: 22.1012278\ttotal: 3.33s\tremaining: 4.36s\n",
      "65:\tlearn: 22.0314406\ttotal: 3.4s\tremaining: 4.33s\n",
      "66:\tlearn: 21.9633191\ttotal: 3.48s\tremaining: 4.31s\n",
      "67:\tlearn: 21.9309216\ttotal: 3.55s\tremaining: 4.28s\n",
      "68:\tlearn: 21.8939670\ttotal: 3.6s\tremaining: 4.23s\n",
      "69:\tlearn: 21.8092836\ttotal: 3.7s\tremaining: 4.22s\n",
      "70:\tlearn: 21.8046230\ttotal: 3.75s\tremaining: 4.17s\n",
      "71:\tlearn: 21.7994696\ttotal: 3.81s\tremaining: 4.13s\n",
      "72:\tlearn: 21.7422390\ttotal: 3.87s\tremaining: 4.08s\n",
      "73:\tlearn: 21.7255940\ttotal: 3.92s\tremaining: 4.02s\n",
      "74:\tlearn: 21.6805204\ttotal: 3.96s\tremaining: 3.96s\n",
      "75:\tlearn: 21.6310973\ttotal: 4.03s\tremaining: 3.92s\n",
      "76:\tlearn: 21.5724023\ttotal: 4.08s\tremaining: 3.87s\n",
      "77:\tlearn: 21.5616067\ttotal: 4.13s\tremaining: 3.81s\n",
      "78:\tlearn: 21.5003196\ttotal: 4.18s\tremaining: 3.76s\n",
      "79:\tlearn: 21.4592006\ttotal: 4.25s\tremaining: 3.71s\n",
      "80:\tlearn: 21.4117977\ttotal: 4.29s\tremaining: 3.65s\n",
      "81:\tlearn: 21.3494581\ttotal: 4.35s\tremaining: 3.6s\n",
      "82:\tlearn: 21.3166693\ttotal: 4.39s\tremaining: 3.55s\n",
      "83:\tlearn: 21.2637698\ttotal: 4.48s\tremaining: 3.52s\n",
      "84:\tlearn: 21.2325419\ttotal: 4.54s\tremaining: 3.48s\n",
      "85:\tlearn: 21.1924761\ttotal: 4.61s\tremaining: 3.43s\n",
      "86:\tlearn: 21.1509644\ttotal: 4.66s\tremaining: 3.38s\n",
      "87:\tlearn: 21.1247642\ttotal: 4.71s\tremaining: 3.32s\n",
      "88:\tlearn: 21.0811486\ttotal: 4.75s\tremaining: 3.26s\n",
      "89:\tlearn: 20.9995777\ttotal: 4.78s\tremaining: 3.19s\n",
      "90:\tlearn: 20.9598808\ttotal: 4.81s\tremaining: 3.12s\n",
      "91:\tlearn: 20.8958114\ttotal: 4.84s\tremaining: 3.05s\n",
      "92:\tlearn: 20.8312613\ttotal: 4.88s\tremaining: 2.99s\n",
      "93:\tlearn: 20.7766207\ttotal: 4.91s\tremaining: 2.92s\n",
      "94:\tlearn: 20.7051651\ttotal: 4.94s\tremaining: 2.86s\n",
      "95:\tlearn: 20.6585295\ttotal: 4.96s\tremaining: 2.79s\n",
      "96:\tlearn: 20.6242517\ttotal: 5s\tremaining: 2.73s\n",
      "97:\tlearn: 20.5934816\ttotal: 5.02s\tremaining: 2.66s\n",
      "98:\tlearn: 20.5701249\ttotal: 5.04s\tremaining: 2.6s\n",
      "99:\tlearn: 20.5636080\ttotal: 5.06s\tremaining: 2.53s\n",
      "100:\tlearn: 20.5334392\ttotal: 5.08s\tremaining: 2.47s\n",
      "101:\tlearn: 20.4885156\ttotal: 5.1s\tremaining: 2.4s\n",
      "102:\tlearn: 20.4285925\ttotal: 5.12s\tremaining: 2.34s\n",
      "103:\tlearn: 20.3726320\ttotal: 5.14s\tremaining: 2.27s\n",
      "104:\tlearn: 20.3355129\ttotal: 5.17s\tremaining: 2.21s\n",
      "105:\tlearn: 20.3056427\ttotal: 5.19s\tremaining: 2.15s\n",
      "106:\tlearn: 20.2557606\ttotal: 5.21s\tremaining: 2.1s\n",
      "107:\tlearn: 20.2324044\ttotal: 5.24s\tremaining: 2.04s\n",
      "108:\tlearn: 20.2258121\ttotal: 5.26s\tremaining: 1.98s\n",
      "109:\tlearn: 20.1752086\ttotal: 5.29s\tremaining: 1.93s\n",
      "110:\tlearn: 20.1219200\ttotal: 5.34s\tremaining: 1.88s\n",
      "111:\tlearn: 20.0764135\ttotal: 5.38s\tremaining: 1.83s\n",
      "112:\tlearn: 20.0197253\ttotal: 5.48s\tremaining: 1.79s\n",
      "113:\tlearn: 19.9470513\ttotal: 5.6s\tremaining: 1.77s\n",
      "114:\tlearn: 19.8922273\ttotal: 5.68s\tremaining: 1.73s\n",
      "115:\tlearn: 19.8581305\ttotal: 5.8s\tremaining: 1.7s\n",
      "116:\tlearn: 19.8164546\ttotal: 5.92s\tremaining: 1.67s\n",
      "117:\tlearn: 19.8061015\ttotal: 6.01s\tremaining: 1.63s\n",
      "118:\tlearn: 19.8017616\ttotal: 6.07s\tremaining: 1.58s\n",
      "119:\tlearn: 19.7610739\ttotal: 6.13s\tremaining: 1.53s\n",
      "120:\tlearn: 19.7214966\ttotal: 6.19s\tremaining: 1.48s\n",
      "121:\tlearn: 19.6665858\ttotal: 6.24s\tremaining: 1.43s\n",
      "122:\tlearn: 19.6189967\ttotal: 6.33s\tremaining: 1.39s\n",
      "123:\tlearn: 19.6158887\ttotal: 6.39s\tremaining: 1.34s\n",
      "124:\tlearn: 19.5773800\ttotal: 6.47s\tremaining: 1.29s\n",
      "125:\tlearn: 19.5473871\ttotal: 6.54s\tremaining: 1.25s\n",
      "126:\tlearn: 19.5229456\ttotal: 6.6s\tremaining: 1.2s\n",
      "127:\tlearn: 19.4845889\ttotal: 6.67s\tremaining: 1.15s\n",
      "128:\tlearn: 19.4398341\ttotal: 6.74s\tremaining: 1.1s\n",
      "129:\tlearn: 19.4027893\ttotal: 6.79s\tremaining: 1.04s\n",
      "130:\tlearn: 19.3641132\ttotal: 6.83s\tremaining: 991ms\n",
      "131:\tlearn: 19.2855519\ttotal: 6.89s\tremaining: 940ms\n",
      "132:\tlearn: 19.2330604\ttotal: 6.95s\tremaining: 889ms\n",
      "133:\tlearn: 19.1686647\ttotal: 7.02s\tremaining: 839ms\n",
      "134:\tlearn: 19.1317122\ttotal: 7.08s\tremaining: 787ms\n",
      "135:\tlearn: 19.0957576\ttotal: 7.12s\tremaining: 733ms\n",
      "136:\tlearn: 19.0495672\ttotal: 7.18s\tremaining: 681ms\n",
      "137:\tlearn: 19.0036996\ttotal: 7.24s\tremaining: 629ms\n",
      "138:\tlearn: 18.9489331\ttotal: 7.29s\tremaining: 577ms\n",
      "139:\tlearn: 18.9020433\ttotal: 7.35s\tremaining: 525ms\n",
      "140:\tlearn: 18.8475203\ttotal: 7.39s\tremaining: 472ms\n",
      "141:\tlearn: 18.8382536\ttotal: 7.45s\tremaining: 420ms\n",
      "142:\tlearn: 18.8351149\ttotal: 7.48s\tremaining: 366ms\n",
      "143:\tlearn: 18.7911528\ttotal: 7.52s\tremaining: 313ms\n",
      "144:\tlearn: 18.7535077\ttotal: 7.56s\tremaining: 261ms\n",
      "145:\tlearn: 18.7127128\ttotal: 7.59s\tremaining: 208ms\n",
      "146:\tlearn: 18.6805300\ttotal: 7.63s\tremaining: 156ms\n",
      "147:\tlearn: 18.6415480\ttotal: 7.66s\tremaining: 104ms\n",
      "148:\tlearn: 18.6117190\ttotal: 7.71s\tremaining: 51.7ms\n",
      "149:\tlearn: 18.5742780\ttotal: 7.75s\tremaining: 0us\n",
      "Лучшие параметры для метода <catboost.core.CatBoostRegressor object at 0x000001F0CD610D30> - {'model__depth': 6, 'model__iterations': 150, 'model__learning_rate': 0.1}\n",
      "Значение RMSE =  25.3 \n",
      "\n",
      "Время обучения модели 10.52 секунд \n",
      "\n",
      "Время предсказания модели 0.02 секунд \n",
      "\n",
      "Wall time: 6min 51s\n"
     ]
    }
   ],
   "source": [
    "%%time\n",
    "\n",
    "model_catboost, rmse_catboost, catboost_fit_time, catboost_score_time = result_func(\n",
    "    CatBoostRegressor(loss_function='RMSE',\n",
    "                      random_state=12345), \n",
    "    {'model__learning_rate': [0.1, 0.03, 0.003],\n",
    "     'model__depth': [4, 6, 10],\n",
    "     'model__iterations': [100, 150]},\n",
    "    features_train_cb)"
   ]
  },
  {
   "cell_type": "markdown",
   "metadata": {},
   "source": [
    "# Промежуточный вывод"
   ]
  },
  {
   "cell_type": "markdown",
   "metadata": {},
   "source": [
    "В процессе обучения моделей были получены следующие результаты:\n",
    "\n",
    "1. Метод LinearRegression():\n",
    "- RMSE = 27.21;\n",
    "\n",
    "2. Метод DecisionTreeRegressor(random_state=12345):\n",
    "- лучшие параметры модели 'max_depth': 5, 'min_samples_leaf': 6,\n",
    "- RMSE = 29.31;\n",
    "\n",
    "3. Метод RandomForestRegressor(random_state=12345):\n",
    "- лучшие параметры модели 'n_estimators': 150, 'min_samples_split': 2, 'min_samples_leaf': 3, 'max_depth': 12,\n",
    "- RMSE = 24.72;\n",
    "\n",
    "4. Метод Ridge(random_state=12345):\n",
    "- лучшие параметры модели 'alpha': 100, 'solver': 'cholesky',\n",
    "- RMSE = 27.21;\n",
    "\n",
    "5. Метод Lasso(tol=0.05):\n",
    "- лучшие параметры модели 'alpha': 0.3, 'selection': 'random',\n",
    "- RMSE = 27.2;\n",
    "\n",
    "6. Метод LGBMRegressor():\n",
    "- лучшие показатели модели 'learning_rate': 0.1, 'max_depth': 5, 'n_estimators': 100,\n",
    "- RMSE = 25.65;\n",
    "\n",
    "7. Метод CatBoostRegressor():\n",
    "- лучшие показатели модели 'depth': 6, 'iterations': 150, 'learning_rate': 0.1,\n",
    "- RMSE = 25.3."
   ]
  },
  {
   "cell_type": "markdown",
   "metadata": {},
   "source": [
    "## Тестирование"
   ]
  },
  {
   "cell_type": "markdown",
   "metadata": {},
   "source": [
    "Проведем анализ всех использованных в исследовании моделей, создадим таблицу, где выведем результаты по качеству предсказания, времени обучения модели, времени предсказания модели."
   ]
  },
  {
   "cell_type": "code",
   "execution_count": 31,
   "metadata": {},
   "outputs": [
    {
     "data": {
      "text/html": [
       "<div>\n",
       "<style scoped>\n",
       "    .dataframe tbody tr th:only-of-type {\n",
       "        vertical-align: middle;\n",
       "    }\n",
       "\n",
       "    .dataframe tbody tr th {\n",
       "        vertical-align: top;\n",
       "    }\n",
       "\n",
       "    .dataframe thead th {\n",
       "        text-align: right;\n",
       "    }\n",
       "</style>\n",
       "<table border=\"1\" class=\"dataframe\">\n",
       "  <thead>\n",
       "    <tr style=\"text-align: right;\">\n",
       "      <th></th>\n",
       "      <th>RMSE</th>\n",
       "      <th>Время обучения модели</th>\n",
       "      <th>Время предсказания модели</th>\n",
       "    </tr>\n",
       "  </thead>\n",
       "  <tbody>\n",
       "    <tr>\n",
       "      <th>RandomForestRegressor</th>\n",
       "      <td>24.713109</td>\n",
       "      <td>34.60</td>\n",
       "      <td>0.17</td>\n",
       "    </tr>\n",
       "    <tr>\n",
       "      <th>CatBoostRegressor</th>\n",
       "      <td>25.296557</td>\n",
       "      <td>10.52</td>\n",
       "      <td>0.02</td>\n",
       "    </tr>\n",
       "    <tr>\n",
       "      <th>LGBMRegressor</th>\n",
       "      <td>25.645857</td>\n",
       "      <td>28.66</td>\n",
       "      <td>0.05</td>\n",
       "    </tr>\n",
       "    <tr>\n",
       "      <th>Lasso</th>\n",
       "      <td>27.203221</td>\n",
       "      <td>0.04</td>\n",
       "      <td>0.03</td>\n",
       "    </tr>\n",
       "    <tr>\n",
       "      <th>LinearRegression</th>\n",
       "      <td>27.207844</td>\n",
       "      <td>0.07</td>\n",
       "      <td>0.01</td>\n",
       "    </tr>\n",
       "    <tr>\n",
       "      <th>Ridge</th>\n",
       "      <td>27.208215</td>\n",
       "      <td>0.03</td>\n",
       "      <td>0.05</td>\n",
       "    </tr>\n",
       "    <tr>\n",
       "      <th>DecisionTreeRegressor</th>\n",
       "      <td>29.306088</td>\n",
       "      <td>0.12</td>\n",
       "      <td>0.01</td>\n",
       "    </tr>\n",
       "  </tbody>\n",
       "</table>\n",
       "</div>"
      ],
      "text/plain": [
       "                            RMSE  Время обучения модели  \\\n",
       "RandomForestRegressor  24.713109                  34.60   \n",
       "CatBoostRegressor      25.296557                  10.52   \n",
       "LGBMRegressor          25.645857                  28.66   \n",
       "Lasso                  27.203221                   0.04   \n",
       "LinearRegression       27.207844                   0.07   \n",
       "Ridge                  27.208215                   0.03   \n",
       "DecisionTreeRegressor  29.306088                   0.12   \n",
       "\n",
       "                       Время предсказания модели  \n",
       "RandomForestRegressor                       0.17  \n",
       "CatBoostRegressor                           0.02  \n",
       "LGBMRegressor                               0.05  \n",
       "Lasso                                       0.03  \n",
       "LinearRegression                            0.01  \n",
       "Ridge                                       0.05  \n",
       "DecisionTreeRegressor                       0.01  "
      ]
     },
     "execution_count": 31,
     "metadata": {},
     "output_type": "execute_result"
    }
   ],
   "source": [
    "result = pd.DataFrame(\n",
    "    data={'RMSE': [rmse_lr,\n",
    "                   rmse_dt,\n",
    "                   gs_rf_best_score,\n",
    "                   rmse_ridge,\n",
    "                   rmse_lasso,\n",
    "                   rmse_LGBMR,\n",
    "                   rmse_catboost],\n",
    "           'Время обучения модели': [lr_fit_time,\n",
    "                                     dt_fit_time,\n",
    "                                     gs_rf_fit_time,\n",
    "                                     ridge_fit_time,\n",
    "                                     lasso_fit_time,\n",
    "                                     LGBMR_fit_time,\n",
    "                                     catboost_fit_time],\n",
    "          'Время предсказания модели': [lr_score_time,\n",
    "                                         dt_score_time,\n",
    "                                         gs_rf_score_time,\n",
    "                                         ridge_score_time,\n",
    "                                         lasso_score_time,\n",
    "                                         LGBMR_score_time,\n",
    "                                         catboost_score_time]}, \n",
    "    index=['LinearRegression',\n",
    "           'DecisionTreeRegressor',\n",
    "           'RandomForestRegressor',\n",
    "           'Ridge',\n",
    "           'Lasso',\n",
    "           'LGBMRegressor',\n",
    "           'CatBoostRegressor'] \n",
    ")\n",
    "result.sort_values(by='RMSE')"
   ]
  },
  {
   "cell_type": "markdown",
   "metadata": {},
   "source": [
    "По результатам обучения лучшей моделью является модель, обученная методом RandomForestRegressor():\n",
    "- RMSE: 24.71\n",
    "- Время обучения модели: 5.04 секунд\n",
    "- Время предсказания модели: 0.03 секунд"
   ]
  },
  {
   "cell_type": "markdown",
   "metadata": {},
   "source": [
    "Найдем значение метрики на тестовой выборке с помощью модели с лучшим показателем:"
   ]
  },
  {
   "cell_type": "code",
   "execution_count": 32,
   "metadata": {},
   "outputs": [
    {
     "name": "stdout",
     "output_type": "stream",
     "text": [
      "Значение RMSE на тестовой выборке: 42.87513580448022\n"
     ]
    }
   ],
   "source": [
    "predicted_test = gs_rf.predict(features_test_rf)\n",
    "RMSE_test = mean_squared_error(target_test, predicted_test, squared=False)\n",
    "print('Значение RMSE на тестовой выборке: {}'.format(RMSE_test))"
   ]
  },
  {
   "cell_type": "code",
   "execution_count": 33,
   "metadata": {
    "scrolled": false
   },
   "outputs": [
    {
     "data": {
      "image/png": "[encoded data removed]",
      "text/plain": [
       "<Figure size 800x400 with 1 Axes>"
      ]
     },
     "metadata": {},
     "output_type": "display_data"
    }
   ],
   "source": [
    "data_new['2018-08-10 00:00:00':'2018-08-13 16:00:00'].num_orders.plot(c='orange')\n",
    "data_new['2018-08-13 16:00:00':].num_orders.plot(c='steelblue')\n",
    "_ = pd.Series(index=features_test_rf.index, data=predicted_test).plot(c='red', style='--')\n",
    "_ = plt.legend(['Train', 'Test', 'Predictions'])\n",
    "\n",
    "plt.title('Сравнение правильных ответов с предсказаниями')\n",
    "plt.xlabel('Время')\n",
    "plt.ylabel('Количество заказов')\n",
    "plt.show()"
   ]
  },
  {
   "cell_type": "markdown",
   "metadata": {},
   "source": [
    "Вывели на график предсказания лучшей модели, обученной методом RandomForestRegressor(), и сравнили их с правильными ответами: в результате предсказания практически идентично повторяют тестовые данные, что показывает качество предсказания. Выбросы в данных модель не пресказывает."
   ]
  },
  {
   "cell_type": "markdown",
   "metadata": {},
   "source": [
    "Проверим модель на адекватность, сравнив итоговое RMSE у dummy-модели с нашим лучшим результатом:"
   ]
  },
  {
   "cell_type": "code",
   "execution_count": 34,
   "metadata": {},
   "outputs": [
    {
     "name": "stdout",
     "output_type": "stream",
     "text": [
      "Значение RMSE на dummy модели: 87.21093811714634\n"
     ]
    }
   ],
   "source": [
    "dummy_model = DummyRegressor(strategy='median')\n",
    "dummy_model.fit(features_train, target_train)\n",
    "predicted_test_dummy = dummy_model.predict(features_test)\n",
    "RMSE_test_dummy = mean_squared_error(target_test, predicted_test_dummy, squared=False)\n",
    "print('Значение RMSE на dummy модели: {}'.format(RMSE_test_dummy))"
   ]
  },
  {
   "cell_type": "markdown",
   "metadata": {},
   "source": [
    "DummyRegressor \"предсказывает\" наиболее часто встречающийся класс. Показатель итогового значения RMSE на нашей лучшей модели лучше, чем у DummyRegressor, значит, проверка модели на адекватность пройдена."
   ]
  },
  {
   "cell_type": "markdown",
   "metadata": {},
   "source": [
    "## Общий вывод"
   ]
  },
  {
   "cell_type": "markdown",
   "metadata": {},
   "source": [
    "В работу взят датафрейм, состоящий из одного столбца - количество заказов, индексом является дата и время, в которые был сделан заказ. Все строк 26496, после ресемплирования по одному часу мы получили датафрейм с 4416 строками. Пустые строки и дубли строк - отсутствуют.\n",
    "\n",
    "Построили график, отображающий количество заказов, распределенное по месяцам в течение 2018 года, начиная с марта, заканчивая августом. График показал, что есть восходящий тренд, присутствует сезонность, судя по пикам в основном в серединах месяцев, начиная с апреля.\n",
    "\n",
    "В ходе анализа временной ряд был разбит на три составляющие: тренд, сезонность и остаток. Анализ графиков показал, что тренд увеличивается к августу, сезонные колебания одинаково прослеживаются от месяца к месяцу, а разброс шума увеличивается к августу.\n",
    "\n",
    "Был проведен тест Дики-Фуллера на оценку временного ряда. Тест показал, что на 1-% уровне значимости ряд не стационарный и визуализация сглаженного скользящим средним за 24 часа подтвердила это.\n",
    "\n",
    "Далее приступили к обучению моделей, предварительно разделив датафрейм на 2 выборки. В процессе обучения моделей были получены следующие результаты:\n",
    "\n",
    "1. Метод LinearRegression():\n",
    "- RMSE = 27.21;\n",
    "\n",
    "2. Метод DecisionTreeRegressor(random_state=12345):\n",
    "- лучшие параметры модели 'max_depth': 5, 'min_samples_leaf': 6,\n",
    "- RMSE = 29.31;\n",
    "\n",
    "3. Метод RandomForestRegressor(random_state=12345):\n",
    "- лучшие параметры модели 'n_estimators': 150, 'min_samples_split': 2, 'min_samples_leaf': 3, 'max_depth': 12,\n",
    "- RMSE = 24.72;\n",
    "\n",
    "4. Метод Ridge(random_state=12345):\n",
    "- лучшие параметры модели 'alpha': 100, 'solver': 'cholesky',\n",
    "- RMSE = 27.21;\n",
    "\n",
    "5. Метод Lasso(tol=0.05):\n",
    "- лучшие параметры модели 'alpha': 0.3, 'selection': 'random',\n",
    "- RMSE = 27.2;\n",
    "\n",
    "6. Метод LGBMRegressor():\n",
    "- лучшие показатели модели 'learning_rate': 0.1, 'max_depth': 5, 'n_estimators': 100,\n",
    "- RMSE = 25.65;\n",
    "\n",
    "7. Метод CatBoostRegressor():\n",
    "- лучшие показатели модели 'depth': 6, 'iterations': 150, 'learning_rate': 0.1,\n",
    "- RMSE = 25.3.\n",
    "\n",
    "Лучшей моделью оказалась модель, обученная методом RandomForestRegressor(random_state=12345) со значением RMSE = 24.71. Время обучения составило 5.04 секунд, время предсказания - 0.03 секунд. Значение RMSE на тестовой выборке составило 42.87, что удовлетворяет условию задачи. По сравнению с dummy моделью значение RMSE сильно лучше."
   ]
  }
 ],
 "metadata": {
  "ExecuteTimeLog": [
   {
    "duration": 1323,
    "start_time": "2023-08-29T07:56:04.387Z"
   },
   {
    "duration": 5,
    "start_time": "2023-08-29T07:56:05.712Z"
   },
   {
    "duration": 315,
    "start_time": "2023-08-29T07:56:05.719Z"
   },
   {
    "duration": 3,
    "start_time": "2023-08-29T07:56:21.518Z"
   },
   {
    "duration": 3,
    "start_time": "2023-08-29T07:56:21.913Z"
   },
   {
    "duration": 95,
    "start_time": "2023-08-29T07:56:22.197Z"
   },
   {
    "duration": 99,
    "start_time": "2023-08-29T07:58:19.245Z"
   },
   {
    "duration": 282,
    "start_time": "2023-08-29T07:59:28.916Z"
   },
   {
    "duration": 262,
    "start_time": "2023-08-29T07:59:55.732Z"
   },
   {
    "duration": 121,
    "start_time": "2023-08-29T08:00:41.622Z"
   },
   {
    "duration": 262,
    "start_time": "2023-08-29T08:00:47.381Z"
   },
   {
    "duration": 263,
    "start_time": "2023-08-29T08:03:21.897Z"
   },
   {
    "duration": 2216,
    "start_time": "2023-08-29T08:06:09.997Z"
   },
   {
    "duration": 3219,
    "start_time": "2023-08-29T08:06:17.978Z"
   },
   {
    "duration": 18,
    "start_time": "2023-08-29T08:08:25.946Z"
   },
   {
    "duration": 12,
    "start_time": "2023-08-29T08:08:39.980Z"
   },
   {
    "duration": 388,
    "start_time": "2023-08-29T08:09:25.114Z"
   },
   {
    "duration": 323,
    "start_time": "2023-08-29T08:09:34.570Z"
   },
   {
    "duration": 249,
    "start_time": "2023-08-29T08:09:39.546Z"
   },
   {
    "duration": 10,
    "start_time": "2023-08-29T08:13:52.828Z"
   },
   {
    "duration": 22,
    "start_time": "2023-08-29T08:14:05.609Z"
   },
   {
    "duration": 1032,
    "start_time": "2023-08-29T08:14:10.993Z"
   },
   {
    "duration": 4,
    "start_time": "2023-08-29T08:14:12.026Z"
   },
   {
    "duration": 201,
    "start_time": "2023-08-29T08:14:12.031Z"
   },
   {
    "duration": 295,
    "start_time": "2023-08-29T08:14:12.233Z"
   },
   {
    "duration": 263,
    "start_time": "2023-08-29T08:14:12.530Z"
   },
   {
    "duration": 120,
    "start_time": "2023-08-29T08:14:12.794Z"
   },
   {
    "duration": 2643,
    "start_time": "2023-08-29T08:19:39.683Z"
   },
   {
    "duration": 7,
    "start_time": "2023-08-29T08:24:43.635Z"
   },
   {
    "duration": 30,
    "start_time": "2023-08-29T08:25:37.295Z"
   },
   {
    "duration": 11,
    "start_time": "2023-08-29T08:25:47.808Z"
   },
   {
    "duration": 1528,
    "start_time": "2023-08-29T08:27:08.926Z"
   },
   {
    "duration": 5,
    "start_time": "2023-08-29T08:27:10.457Z"
   },
   {
    "duration": 313,
    "start_time": "2023-08-29T08:27:10.463Z"
   },
   {
    "duration": 608,
    "start_time": "2023-08-29T08:27:10.781Z"
   },
   {
    "duration": 521,
    "start_time": "2023-08-29T08:27:11.392Z"
   },
   {
    "duration": 152,
    "start_time": "2023-08-29T08:27:11.914Z"
   },
   {
    "duration": 0,
    "start_time": "2023-08-29T08:27:12.069Z"
   },
   {
    "duration": 1110,
    "start_time": "2023-08-29T08:27:29.826Z"
   },
   {
    "duration": 65,
    "start_time": "2023-08-29T08:27:30.938Z"
   },
   {
    "duration": 159,
    "start_time": "2023-08-29T08:27:31.005Z"
   },
   {
    "duration": 288,
    "start_time": "2023-08-29T08:27:31.169Z"
   },
   {
    "duration": 4,
    "start_time": "2023-08-29T08:27:31.462Z"
   },
   {
    "duration": 673,
    "start_time": "2023-08-29T08:27:31.469Z"
   },
   {
    "duration": 0,
    "start_time": "2023-08-29T08:27:32.151Z"
   },
   {
    "duration": 796,
    "start_time": "2023-08-29T08:27:58.340Z"
   },
   {
    "duration": 946,
    "start_time": "2023-08-29T08:28:06.027Z"
   },
   {
    "duration": 739,
    "start_time": "2023-08-29T08:28:14.332Z"
   },
   {
    "duration": 841,
    "start_time": "2023-08-29T08:28:38.740Z"
   },
   {
    "duration": 4,
    "start_time": "2023-08-29T08:38:04.470Z"
   },
   {
    "duration": 1012,
    "start_time": "2023-08-29T08:40:08.614Z"
   },
   {
    "duration": 4,
    "start_time": "2023-08-29T08:40:09.628Z"
   },
   {
    "duration": 207,
    "start_time": "2023-08-29T08:40:09.633Z"
   },
   {
    "duration": 410,
    "start_time": "2023-08-29T08:40:09.843Z"
   },
   {
    "duration": 5,
    "start_time": "2023-08-29T08:40:10.256Z"
   },
   {
    "duration": 1754,
    "start_time": "2023-08-29T08:40:10.262Z"
   },
   {
    "duration": 7,
    "start_time": "2023-08-29T08:40:12.054Z"
   },
   {
    "duration": 328,
    "start_time": "2023-08-29T08:40:12.063Z"
   },
   {
    "duration": 0,
    "start_time": "2023-08-29T08:40:12.393Z"
   },
   {
    "duration": 0,
    "start_time": "2023-08-29T08:40:12.394Z"
   },
   {
    "duration": 430,
    "start_time": "2023-08-29T08:40:59.326Z"
   },
   {
    "duration": 12,
    "start_time": "2023-08-29T08:41:03.979Z"
   },
   {
    "duration": 20,
    "start_time": "2023-08-29T08:41:05.977Z"
   },
   {
    "duration": 5,
    "start_time": "2023-08-29T08:41:38.585Z"
   },
   {
    "duration": 5,
    "start_time": "2023-08-29T08:42:03.574Z"
   },
   {
    "duration": 149,
    "start_time": "2023-08-29T08:42:03.712Z"
   },
   {
    "duration": 6,
    "start_time": "2023-08-29T08:42:23.785Z"
   },
   {
    "duration": 6,
    "start_time": "2023-08-29T08:42:25.362Z"
   },
   {
    "duration": 135,
    "start_time": "2023-08-29T08:42:25.504Z"
   },
   {
    "duration": 156,
    "start_time": "2023-08-29T08:42:30.059Z"
   },
   {
    "duration": 6,
    "start_time": "2023-08-29T08:43:04.496Z"
   },
   {
    "duration": 295,
    "start_time": "2023-08-29T08:43:07.179Z"
   },
   {
    "duration": 7,
    "start_time": "2023-08-29T08:44:28.621Z"
   },
   {
    "duration": 3,
    "start_time": "2023-08-29T08:44:29.290Z"
   },
   {
    "duration": 108,
    "start_time": "2023-08-29T08:44:29.498Z"
   },
   {
    "duration": 5,
    "start_time": "2023-08-29T08:45:13.818Z"
   },
   {
    "duration": 3,
    "start_time": "2023-08-29T08:45:14.586Z"
   },
   {
    "duration": 178,
    "start_time": "2023-08-29T08:45:15.043Z"
   },
   {
    "duration": 5,
    "start_time": "2023-08-29T08:45:21.938Z"
   },
   {
    "duration": 3,
    "start_time": "2023-08-29T08:45:22.308Z"
   },
   {
    "duration": 375,
    "start_time": "2023-08-29T08:45:22.779Z"
   },
   {
    "duration": 178,
    "start_time": "2023-08-29T08:46:17.900Z"
   },
   {
    "duration": 3,
    "start_time": "2023-08-29T08:46:22.116Z"
   },
   {
    "duration": 131,
    "start_time": "2023-08-29T08:46:22.278Z"
   },
   {
    "duration": 137,
    "start_time": "2023-08-29T08:47:27.363Z"
   },
   {
    "duration": 132,
    "start_time": "2023-08-29T08:48:15.577Z"
   },
   {
    "duration": 1009,
    "start_time": "2023-08-29T08:49:12.745Z"
   },
   {
    "duration": 6,
    "start_time": "2023-08-29T08:49:46.964Z"
   },
   {
    "duration": 141,
    "start_time": "2023-08-29T08:49:47.093Z"
   },
   {
    "duration": 116,
    "start_time": "2023-08-29T08:50:09.016Z"
   },
   {
    "duration": 47445,
    "start_time": "2023-08-29T08:50:18.397Z"
   },
   {
    "duration": 202,
    "start_time": "2023-08-29T08:52:08.240Z"
   },
   {
    "duration": 4,
    "start_time": "2023-08-29T08:52:09.713Z"
   },
   {
    "duration": 8194,
    "start_time": "2023-08-29T08:52:09.876Z"
   },
   {
    "duration": 3,
    "start_time": "2023-08-29T08:52:30.521Z"
   },
   {
    "duration": 1858,
    "start_time": "2023-08-29T09:01:44.182Z"
   },
   {
    "duration": 6,
    "start_time": "2023-08-29T09:01:46.042Z"
   },
   {
    "duration": 143,
    "start_time": "2023-08-29T09:01:46.050Z"
   },
   {
    "duration": 402,
    "start_time": "2023-08-29T09:01:46.196Z"
   },
   {
    "duration": 3,
    "start_time": "2023-08-29T09:01:46.601Z"
   },
   {
    "duration": 968,
    "start_time": "2023-08-29T09:01:46.606Z"
   },
   {
    "duration": 8,
    "start_time": "2023-08-29T09:01:47.580Z"
   },
   {
    "duration": 39,
    "start_time": "2023-08-29T09:01:47.594Z"
   },
   {
    "duration": 7,
    "start_time": "2023-08-29T09:01:47.635Z"
   },
   {
    "duration": 53,
    "start_time": "2023-08-29T09:01:47.644Z"
   },
   {
    "duration": 24,
    "start_time": "2023-08-29T09:01:47.698Z"
   },
   {
    "duration": 34,
    "start_time": "2023-08-29T09:01:47.723Z"
   },
   {
    "duration": 21,
    "start_time": "2023-08-29T09:01:47.762Z"
   },
   {
    "duration": 1067,
    "start_time": "2023-08-29T09:01:47.790Z"
   },
   {
    "duration": 13,
    "start_time": "2023-08-29T09:01:48.858Z"
   },
   {
    "duration": 2444,
    "start_time": "2023-08-29T09:01:48.872Z"
   },
   {
    "duration": 3,
    "start_time": "2023-08-29T09:01:51.318Z"
   },
   {
    "duration": 136911,
    "start_time": "2023-08-29T09:01:51.323Z"
   },
   {
    "duration": 4,
    "start_time": "2023-08-29T09:04:08.236Z"
   },
   {
    "duration": 71709,
    "start_time": "2023-08-29T09:04:08.249Z"
   },
   {
    "duration": 9,
    "start_time": "2023-08-29T09:05:19.961Z"
   },
   {
    "duration": 2829907,
    "start_time": "2023-08-29T09:05:19.972Z"
   },
   {
    "duration": 4,
    "start_time": "2023-08-29T09:52:29.884Z"
   },
   {
    "duration": 188736,
    "start_time": "2023-08-29T09:52:29.891Z"
   },
   {
    "duration": 116,
    "start_time": "2023-08-29T09:55:38.629Z"
   },
   {
    "duration": 0,
    "start_time": "2023-08-29T09:55:38.746Z"
   },
   {
    "duration": 0,
    "start_time": "2023-08-29T09:55:38.748Z"
   },
   {
    "duration": 3,
    "start_time": "2023-08-29T10:44:30.543Z"
   },
   {
    "duration": 188,
    "start_time": "2023-08-29T10:44:30.716Z"
   },
   {
    "duration": 33778,
    "start_time": "2023-08-29T10:44:42.244Z"
   },
   {
    "duration": 15,
    "start_time": "2023-08-29T10:52:08.177Z"
   },
   {
    "duration": 9,
    "start_time": "2023-08-29T10:55:23.298Z"
   },
   {
    "duration": 10,
    "start_time": "2023-08-29T10:56:17.821Z"
   },
   {
    "duration": 10,
    "start_time": "2023-08-29T10:56:46.609Z"
   },
   {
    "duration": 10,
    "start_time": "2023-08-29T10:57:16.902Z"
   },
   {
    "duration": 16,
    "start_time": "2023-08-29T10:57:22.264Z"
   },
   {
    "duration": 20,
    "start_time": "2023-08-29T10:57:40.865Z"
   },
   {
    "duration": 1961,
    "start_time": "2023-08-29T10:58:27.997Z"
   },
   {
    "duration": 3,
    "start_time": "2023-08-29T10:58:29.960Z"
   },
   {
    "duration": 118,
    "start_time": "2023-08-29T10:58:29.966Z"
   },
   {
    "duration": 291,
    "start_time": "2023-08-29T10:58:30.087Z"
   },
   {
    "duration": 794,
    "start_time": "2023-08-29T10:58:30.383Z"
   },
   {
    "duration": 13,
    "start_time": "2023-08-29T11:11:28.764Z"
   },
   {
    "duration": 284,
    "start_time": "2023-08-29T11:11:47.889Z"
   },
   {
    "duration": 6,
    "start_time": "2023-08-29T11:12:33.876Z"
   },
   {
    "duration": 161,
    "start_time": "2023-08-29T11:12:37.878Z"
   },
   {
    "duration": 125,
    "start_time": "2023-08-29T11:12:38.095Z"
   },
   {
    "duration": 116,
    "start_time": "2023-08-29T11:12:59.000Z"
   },
   {
    "duration": 140,
    "start_time": "2023-08-29T11:12:59.630Z"
   },
   {
    "duration": 7,
    "start_time": "2023-08-29T11:13:11.302Z"
   },
   {
    "duration": 18,
    "start_time": "2023-08-29T11:13:12.415Z"
   },
   {
    "duration": 7,
    "start_time": "2023-08-29T11:13:34.024Z"
   },
   {
    "duration": 145,
    "start_time": "2023-08-29T11:13:34.227Z"
   },
   {
    "duration": 13,
    "start_time": "2023-08-29T11:15:05.963Z"
   },
   {
    "duration": 7,
    "start_time": "2023-08-29T11:15:10.282Z"
   },
   {
    "duration": 128,
    "start_time": "2023-08-29T11:15:10.425Z"
   },
   {
    "duration": 5,
    "start_time": "2023-08-29T11:15:36.741Z"
   },
   {
    "duration": 10,
    "start_time": "2023-08-29T11:15:41.077Z"
   },
   {
    "duration": 141,
    "start_time": "2023-08-29T11:15:41.243Z"
   },
   {
    "duration": 6,
    "start_time": "2023-08-29T11:16:18.406Z"
   },
   {
    "duration": 12,
    "start_time": "2023-08-29T11:16:22.345Z"
   },
   {
    "duration": 135,
    "start_time": "2023-08-29T11:16:22.544Z"
   },
   {
    "duration": 6,
    "start_time": "2023-08-29T11:16:27.774Z"
   },
   {
    "duration": 11,
    "start_time": "2023-08-29T11:16:31.676Z"
   },
   {
    "duration": 137,
    "start_time": "2023-08-29T11:16:31.820Z"
   },
   {
    "duration": 4,
    "start_time": "2023-08-29T11:17:41.880Z"
   },
   {
    "duration": 12,
    "start_time": "2023-08-29T11:17:46.789Z"
   },
   {
    "duration": 132,
    "start_time": "2023-08-29T11:17:46.980Z"
   },
   {
    "duration": 6,
    "start_time": "2023-08-29T11:17:56.676Z"
   },
   {
    "duration": 7,
    "start_time": "2023-08-29T11:18:00.998Z"
   },
   {
    "duration": 125,
    "start_time": "2023-08-29T11:18:01.174Z"
   },
   {
    "duration": 36,
    "start_time": "2023-08-29T11:22:41.497Z"
   },
   {
    "duration": 5692,
    "start_time": "2023-08-29T11:23:30.961Z"
   },
   {
    "duration": 4020,
    "start_time": "2023-08-29T11:26:02.938Z"
   },
   {
    "duration": 3582,
    "start_time": "2023-08-29T11:26:13.782Z"
   },
   {
    "duration": 3923,
    "start_time": "2023-08-29T11:31:13.341Z"
   },
   {
    "duration": 691,
    "start_time": "2023-08-29T11:43:34.492Z"
   },
   {
    "duration": 632,
    "start_time": "2023-08-29T11:43:41.247Z"
   },
   {
    "duration": 622,
    "start_time": "2023-08-29T11:43:53.200Z"
   },
   {
    "duration": 5,
    "start_time": "2023-08-29T11:51:36.500Z"
   },
   {
    "duration": 4,
    "start_time": "2023-08-29T11:54:27.616Z"
   },
   {
    "duration": 32,
    "start_time": "2023-08-29T11:54:28.236Z"
   },
   {
    "duration": 7,
    "start_time": "2023-08-29T11:54:28.582Z"
   },
   {
    "duration": 28,
    "start_time": "2023-08-29T11:54:28.837Z"
   },
   {
    "duration": 31,
    "start_time": "2023-08-29T11:54:29.033Z"
   },
   {
    "duration": 5,
    "start_time": "2023-08-29T11:54:29.631Z"
   },
   {
    "duration": 3,
    "start_time": "2023-08-29T11:54:30.472Z"
   },
   {
    "duration": 996,
    "start_time": "2023-08-29T11:54:31.196Z"
   },
   {
    "duration": 309,
    "start_time": "2023-08-29T11:57:00.775Z"
   },
   {
    "duration": 410,
    "start_time": "2023-08-29T11:57:09.373Z"
   },
   {
    "duration": 62,
    "start_time": "2023-08-29T11:57:25.646Z"
   },
   {
    "duration": 22,
    "start_time": "2023-08-29T12:01:12.509Z"
   },
   {
    "duration": 1506,
    "start_time": "2023-08-29T12:06:21.544Z"
   },
   {
    "duration": 6,
    "start_time": "2023-08-29T12:06:23.061Z"
   },
   {
    "duration": 122,
    "start_time": "2023-08-29T12:06:23.068Z"
   },
   {
    "duration": 45,
    "start_time": "2023-08-29T12:06:23.193Z"
   },
   {
    "duration": 849,
    "start_time": "2023-08-29T12:06:23.240Z"
   },
   {
    "duration": 4979,
    "start_time": "2023-08-29T12:06:24.091Z"
   },
   {
    "duration": 81,
    "start_time": "2023-08-29T12:06:29.072Z"
   },
   {
    "duration": 105,
    "start_time": "2023-08-29T12:06:29.155Z"
   },
   {
    "duration": 21,
    "start_time": "2023-08-29T12:06:29.262Z"
   },
   {
    "duration": 9,
    "start_time": "2023-08-29T12:06:29.287Z"
   },
   {
    "duration": 205,
    "start_time": "2023-08-29T12:06:29.298Z"
   },
   {
    "duration": 0,
    "start_time": "2023-08-29T12:06:29.505Z"
   },
   {
    "duration": 0,
    "start_time": "2023-08-29T12:06:29.507Z"
   },
   {
    "duration": 0,
    "start_time": "2023-08-29T12:06:29.508Z"
   },
   {
    "duration": 0,
    "start_time": "2023-08-29T12:06:29.509Z"
   },
   {
    "duration": 0,
    "start_time": "2023-08-29T12:06:29.510Z"
   },
   {
    "duration": 0,
    "start_time": "2023-08-29T12:06:29.512Z"
   },
   {
    "duration": 0,
    "start_time": "2023-08-29T12:06:29.514Z"
   },
   {
    "duration": 0,
    "start_time": "2023-08-29T12:06:29.515Z"
   },
   {
    "duration": 0,
    "start_time": "2023-08-29T12:06:29.516Z"
   },
   {
    "duration": 0,
    "start_time": "2023-08-29T12:06:29.517Z"
   },
   {
    "duration": 0,
    "start_time": "2023-08-29T12:06:29.518Z"
   },
   {
    "duration": 0,
    "start_time": "2023-08-29T12:06:29.519Z"
   },
   {
    "duration": 0,
    "start_time": "2023-08-29T12:06:29.520Z"
   },
   {
    "duration": 0,
    "start_time": "2023-08-29T12:06:29.521Z"
   },
   {
    "duration": 0,
    "start_time": "2023-08-29T12:06:29.522Z"
   },
   {
    "duration": 0,
    "start_time": "2023-08-29T12:06:29.523Z"
   },
   {
    "duration": 0,
    "start_time": "2023-08-29T12:06:29.553Z"
   },
   {
    "duration": 0,
    "start_time": "2023-08-29T12:06:29.556Z"
   },
   {
    "duration": 4,
    "start_time": "2023-08-29T12:07:33.021Z"
   },
   {
    "duration": 2829,
    "start_time": "2023-08-29T12:07:38.047Z"
   },
   {
    "duration": 4,
    "start_time": "2023-08-29T12:07:40.878Z"
   },
   {
    "duration": 192,
    "start_time": "2023-08-29T12:07:40.883Z"
   },
   {
    "duration": 89,
    "start_time": "2023-08-29T12:07:41.077Z"
   },
   {
    "duration": 1599,
    "start_time": "2023-08-29T12:07:41.168Z"
   },
   {
    "duration": 4685,
    "start_time": "2023-08-29T12:07:42.768Z"
   },
   {
    "duration": 6,
    "start_time": "2023-08-29T12:07:47.458Z"
   },
   {
    "duration": 119,
    "start_time": "2023-08-29T12:07:47.466Z"
   },
   {
    "duration": 80,
    "start_time": "2023-08-29T12:07:47.587Z"
   },
   {
    "duration": 25,
    "start_time": "2023-08-29T12:07:47.671Z"
   },
   {
    "duration": 65,
    "start_time": "2023-08-29T12:07:47.698Z"
   },
   {
    "duration": 33,
    "start_time": "2023-08-29T12:07:47.765Z"
   },
   {
    "duration": 52,
    "start_time": "2023-08-29T12:07:47.800Z"
   },
   {
    "duration": 901,
    "start_time": "2023-08-29T12:07:47.855Z"
   },
   {
    "duration": 4,
    "start_time": "2023-08-29T12:07:48.758Z"
   },
   {
    "duration": 4322,
    "start_time": "2023-08-29T12:07:48.764Z"
   },
   {
    "duration": 3,
    "start_time": "2023-08-29T12:07:53.088Z"
   },
   {
    "duration": 124120,
    "start_time": "2023-08-29T12:07:53.093Z"
   },
   {
    "duration": 3,
    "start_time": "2023-08-29T12:09:57.215Z"
   },
   {
    "duration": 23845,
    "start_time": "2023-08-29T12:09:57.219Z"
   },
   {
    "duration": 11,
    "start_time": "2023-08-29T12:10:21.068Z"
   },
   {
    "duration": 6472,
    "start_time": "2023-08-29T12:10:21.087Z"
   },
   {
    "duration": 5,
    "start_time": "2023-08-29T12:10:27.569Z"
   },
   {
    "duration": 2297,
    "start_time": "2023-08-29T12:12:12.192Z"
   },
   {
    "duration": 5,
    "start_time": "2023-08-29T12:12:14.492Z"
   },
   {
    "duration": 210,
    "start_time": "2023-08-29T12:12:14.498Z"
   },
   {
    "duration": 80,
    "start_time": "2023-08-29T12:12:14.711Z"
   },
   {
    "duration": 1105,
    "start_time": "2023-08-29T12:12:14.794Z"
   },
   {
    "duration": 3766,
    "start_time": "2023-08-29T12:12:15.901Z"
   },
   {
    "duration": 71,
    "start_time": "2023-08-29T12:12:19.680Z"
   },
   {
    "duration": 45,
    "start_time": "2023-08-29T12:12:19.753Z"
   },
   {
    "duration": 52,
    "start_time": "2023-08-29T12:12:19.800Z"
   },
   {
    "duration": 10,
    "start_time": "2023-08-29T12:12:19.855Z"
   },
   {
    "duration": 17,
    "start_time": "2023-08-29T12:12:19.867Z"
   },
   {
    "duration": 9,
    "start_time": "2023-08-29T12:12:19.886Z"
   },
   {
    "duration": 23,
    "start_time": "2023-08-29T12:12:19.896Z"
   },
   {
    "duration": 1453,
    "start_time": "2023-08-29T12:12:19.920Z"
   },
   {
    "duration": 75,
    "start_time": "2023-08-29T12:12:21.375Z"
   },
   {
    "duration": 2831,
    "start_time": "2023-08-29T12:12:21.452Z"
   },
   {
    "duration": 3,
    "start_time": "2023-08-29T12:12:24.285Z"
   },
   {
    "duration": 129203,
    "start_time": "2023-08-29T12:12:24.289Z"
   },
   {
    "duration": 9,
    "start_time": "2023-08-29T12:14:33.494Z"
   },
   {
    "duration": 30654,
    "start_time": "2023-08-29T12:14:33.505Z"
   },
   {
    "duration": 5,
    "start_time": "2023-08-29T12:15:04.160Z"
   },
   {
    "duration": 19385,
    "start_time": "2023-08-29T12:15:04.167Z"
   },
   {
    "duration": 8,
    "start_time": "2023-08-29T12:15:23.554Z"
   },
   {
    "duration": 484702,
    "start_time": "2023-08-29T12:15:23.565Z"
   },
   {
    "duration": 3,
    "start_time": "2023-08-29T12:23:28.268Z"
   },
   {
    "duration": 230676,
    "start_time": "2023-08-29T12:23:28.273Z"
   },
   {
    "duration": 11,
    "start_time": "2023-08-29T12:27:18.951Z"
   },
   {
    "duration": 18,
    "start_time": "2023-08-29T12:27:18.964Z"
   },
   {
    "duration": 26,
    "start_time": "2023-08-29T12:27:18.984Z"
   },
   {
    "duration": 113,
    "start_time": "2023-08-29T12:30:02.046Z"
   },
   {
    "duration": 23,
    "start_time": "2023-08-29T12:30:41.695Z"
   },
   {
    "duration": 220,
    "start_time": "2023-08-29T12:30:54.164Z"
   },
   {
    "duration": 183,
    "start_time": "2023-08-29T12:31:09.588Z"
   },
   {
    "duration": 229,
    "start_time": "2023-08-29T12:32:19.822Z"
   },
   {
    "duration": 234,
    "start_time": "2023-08-29T12:32:41.097Z"
   },
   {
    "duration": 315,
    "start_time": "2023-08-29T12:32:44.779Z"
   },
   {
    "duration": 225,
    "start_time": "2023-08-29T12:32:54.959Z"
   },
   {
    "duration": 204,
    "start_time": "2023-08-29T12:33:06.239Z"
   },
   {
    "duration": 221,
    "start_time": "2023-08-29T12:33:57.513Z"
   },
   {
    "duration": 247,
    "start_time": "2023-08-29T12:34:06.134Z"
   },
   {
    "duration": 210,
    "start_time": "2023-08-29T12:34:12.392Z"
   },
   {
    "duration": 311,
    "start_time": "2023-08-29T12:34:17.840Z"
   },
   {
    "duration": 209,
    "start_time": "2023-08-29T12:34:20.712Z"
   },
   {
    "duration": 217,
    "start_time": "2023-08-29T12:34:23.472Z"
   },
   {
    "duration": 246,
    "start_time": "2023-08-29T12:34:26.297Z"
   },
   {
    "duration": 215,
    "start_time": "2023-08-29T12:34:30.292Z"
   },
   {
    "duration": 5,
    "start_time": "2023-08-29T12:34:56.302Z"
   },
   {
    "duration": 1430,
    "start_time": "2023-08-29T12:37:02.028Z"
   },
   {
    "duration": 4,
    "start_time": "2023-08-29T12:37:03.460Z"
   },
   {
    "duration": 90,
    "start_time": "2023-08-29T12:37:03.465Z"
   },
   {
    "duration": 28,
    "start_time": "2023-08-29T12:37:03.557Z"
   },
   {
    "duration": 773,
    "start_time": "2023-08-29T12:37:03.587Z"
   },
   {
    "duration": 2188,
    "start_time": "2023-08-29T12:37:04.362Z"
   },
   {
    "duration": 97,
    "start_time": "2023-08-29T12:37:06.552Z"
   },
   {
    "duration": 101,
    "start_time": "2023-08-29T12:37:06.650Z"
   },
   {
    "duration": 9,
    "start_time": "2023-08-29T12:37:06.753Z"
   },
   {
    "duration": 6,
    "start_time": "2023-08-29T12:37:06.765Z"
   },
   {
    "duration": 27,
    "start_time": "2023-08-29T12:37:06.772Z"
   },
   {
    "duration": 50,
    "start_time": "2023-08-29T12:37:06.800Z"
   },
   {
    "duration": 1205,
    "start_time": "2023-08-29T12:37:06.851Z"
   },
   {
    "duration": 93,
    "start_time": "2023-08-29T12:37:08.058Z"
   },
   {
    "duration": 2990,
    "start_time": "2023-08-29T12:37:08.249Z"
   },
   {
    "duration": 3,
    "start_time": "2023-08-29T12:37:11.241Z"
   },
   {
    "duration": 1524,
    "start_time": "2023-08-29T12:37:44.961Z"
   },
   {
    "duration": 6,
    "start_time": "2023-08-29T12:37:46.488Z"
   },
   {
    "duration": 109,
    "start_time": "2023-08-29T12:37:46.496Z"
   },
   {
    "duration": 58,
    "start_time": "2023-08-29T12:37:46.607Z"
   },
   {
    "duration": 795,
    "start_time": "2023-08-29T12:37:46.667Z"
   },
   {
    "duration": 1796,
    "start_time": "2023-08-29T12:37:47.463Z"
   },
   {
    "duration": 93,
    "start_time": "2023-08-29T12:37:49.357Z"
   },
   {
    "duration": 25,
    "start_time": "2023-08-29T12:37:49.452Z"
   },
   {
    "duration": 11,
    "start_time": "2023-08-29T12:37:49.478Z"
   },
   {
    "duration": 10,
    "start_time": "2023-08-29T12:37:49.492Z"
   },
   {
    "duration": 16,
    "start_time": "2023-08-29T12:37:49.503Z"
   },
   {
    "duration": 18,
    "start_time": "2023-08-29T12:37:49.520Z"
   },
   {
    "duration": 1021,
    "start_time": "2023-08-29T12:37:49.539Z"
   },
   {
    "duration": 92,
    "start_time": "2023-08-29T12:37:50.562Z"
   },
   {
    "duration": 2642,
    "start_time": "2023-08-29T12:37:50.657Z"
   },
   {
    "duration": 3,
    "start_time": "2023-08-29T12:37:53.301Z"
   },
   {
    "duration": 119053,
    "start_time": "2023-08-29T12:37:53.306Z"
   },
   {
    "duration": 3,
    "start_time": "2023-08-29T12:39:52.360Z"
   },
   {
    "duration": 25285,
    "start_time": "2023-08-29T12:39:52.365Z"
   },
   {
    "duration": 3,
    "start_time": "2023-08-29T12:40:17.653Z"
   },
   {
    "duration": 10097,
    "start_time": "2023-08-29T12:40:17.659Z"
   },
   {
    "duration": 4,
    "start_time": "2023-08-29T12:40:27.758Z"
   },
   {
    "duration": 54291,
    "start_time": "2023-08-29T12:40:27.763Z"
   },
   {
    "duration": 3,
    "start_time": "2023-08-29T12:41:22.055Z"
   },
   {
    "duration": 241274,
    "start_time": "2023-08-29T12:41:22.059Z"
   },
   {
    "duration": 11,
    "start_time": "2023-08-29T12:45:23.334Z"
   },
   {
    "duration": 51,
    "start_time": "2023-08-29T12:45:23.346Z"
   },
   {
    "duration": 5,
    "start_time": "2023-08-29T12:45:23.399Z"
   },
   {
    "duration": 119,
    "start_time": "2023-08-29T13:34:06.304Z"
   },
   {
    "duration": 109,
    "start_time": "2023-08-29T13:43:14.250Z"
   },
   {
    "duration": 12,
    "start_time": "2023-08-29T13:43:35.376Z"
   },
   {
    "duration": 11,
    "start_time": "2023-08-29T13:43:42.951Z"
   },
   {
    "duration": 11,
    "start_time": "2023-08-29T13:43:55.594Z"
   },
   {
    "duration": 12,
    "start_time": "2023-08-29T13:44:45.352Z"
   },
   {
    "duration": 11,
    "start_time": "2023-08-29T13:44:57.473Z"
   },
   {
    "duration": 14,
    "start_time": "2023-08-29T13:45:11.514Z"
   },
   {
    "duration": 12,
    "start_time": "2023-08-29T13:45:15.627Z"
   },
   {
    "duration": 12,
    "start_time": "2023-08-29T13:45:21.500Z"
   },
   {
    "duration": 1401,
    "start_time": "2023-08-29T13:45:40.563Z"
   },
   {
    "duration": 3,
    "start_time": "2023-08-29T13:45:41.966Z"
   },
   {
    "duration": 87,
    "start_time": "2023-08-29T13:45:41.971Z"
   },
   {
    "duration": 2,
    "start_time": "2023-08-29T13:45:42.059Z"
   },
   {
    "duration": 8,
    "start_time": "2023-08-29T13:45:42.618Z"
   },
   {
    "duration": 877,
    "start_time": "2023-08-29T13:45:46.202Z"
   },
   {
    "duration": 684,
    "start_time": "2023-08-29T13:45:59.897Z"
   },
   {
    "duration": 745,
    "start_time": "2023-08-29T13:46:09.031Z"
   },
   {
    "duration": 802,
    "start_time": "2023-08-29T13:48:08.492Z"
   },
   {
    "duration": 786,
    "start_time": "2023-08-29T13:51:46.270Z"
   },
   {
    "duration": 794,
    "start_time": "2023-08-29T14:08:00.809Z"
   },
   {
    "duration": 726,
    "start_time": "2023-08-29T14:09:18.414Z"
   },
   {
    "duration": 110,
    "start_time": "2023-08-29T14:09:49.599Z"
   },
   {
    "duration": 1357,
    "start_time": "2023-08-29T14:09:58.906Z"
   },
   {
    "duration": 3,
    "start_time": "2023-08-29T14:10:00.265Z"
   },
   {
    "duration": 134,
    "start_time": "2023-08-29T14:10:00.269Z"
   },
   {
    "duration": 3,
    "start_time": "2023-08-29T14:10:00.404Z"
   },
   {
    "duration": 8,
    "start_time": "2023-08-29T14:10:00.447Z"
   },
   {
    "duration": 838,
    "start_time": "2023-08-29T14:10:01.888Z"
   },
   {
    "duration": 1922,
    "start_time": "2023-08-29T14:10:04.028Z"
   },
   {
    "duration": 7,
    "start_time": "2023-08-29T14:10:05.953Z"
   },
   {
    "duration": 2369,
    "start_time": "2023-08-29T14:25:44.582Z"
   },
   {
    "duration": 1748,
    "start_time": "2023-08-29T14:26:39.710Z"
   },
   {
    "duration": 1969,
    "start_time": "2023-08-29T14:27:35.981Z"
   },
   {
    "duration": 1776,
    "start_time": "2023-08-29T14:29:26.383Z"
   },
   {
    "duration": 1609,
    "start_time": "2023-08-29T14:37:34.962Z"
   },
   {
    "duration": 125,
    "start_time": "2023-08-29T14:39:41.136Z"
   },
   {
    "duration": 9,
    "start_time": "2023-08-29T14:39:42.770Z"
   },
   {
    "duration": 2542,
    "start_time": "2023-08-29T14:40:40.928Z"
   },
   {
    "duration": 3689,
    "start_time": "2023-08-29T14:40:43.473Z"
   },
   {
    "duration": 95,
    "start_time": "2023-08-29T14:40:47.167Z"
   },
   {
    "duration": 0,
    "start_time": "2023-08-29T14:40:47.265Z"
   },
   {
    "duration": 2,
    "start_time": "2023-08-29T14:42:42.287Z"
   },
   {
    "duration": 1708,
    "start_time": "2023-08-29T14:42:42.544Z"
   },
   {
    "duration": 99,
    "start_time": "2023-08-29T14:42:44.266Z"
   },
   {
    "duration": 10,
    "start_time": "2023-08-29T14:42:45.827Z"
   },
   {
    "duration": 1482,
    "start_time": "2023-08-29T14:43:22.898Z"
   },
   {
    "duration": 4,
    "start_time": "2023-08-29T14:43:24.383Z"
   },
   {
    "duration": 97,
    "start_time": "2023-08-29T14:43:24.389Z"
   },
   {
    "duration": 2,
    "start_time": "2023-08-29T14:43:24.488Z"
   },
   {
    "duration": 7,
    "start_time": "2023-08-29T14:43:24.607Z"
   },
   {
    "duration": 909,
    "start_time": "2023-08-29T14:43:26.032Z"
   },
   {
    "duration": 3,
    "start_time": "2023-08-29T14:43:28.717Z"
   },
   {
    "duration": 2145,
    "start_time": "2023-08-29T14:43:29.606Z"
   },
   {
    "duration": 108,
    "start_time": "2023-08-29T14:43:34.761Z"
   },
   {
    "duration": 1538,
    "start_time": "2023-08-29T14:46:51.427Z"
   },
   {
    "duration": 3,
    "start_time": "2023-08-29T14:46:56.813Z"
   },
   {
    "duration": 3,
    "start_time": "2023-08-29T14:47:00.640Z"
   },
   {
    "duration": 90,
    "start_time": "2023-08-31T07:31:18.623Z"
   },
   {
    "duration": 10,
    "start_time": "2023-08-31T07:36:03.118Z"
   },
   {
    "duration": 1877,
    "start_time": "2023-08-31T07:36:10.357Z"
   },
   {
    "duration": 5,
    "start_time": "2023-08-31T07:36:12.236Z"
   },
   {
    "duration": 197,
    "start_time": "2023-08-31T07:36:12.243Z"
   },
   {
    "duration": 7,
    "start_time": "2023-08-31T07:36:12.443Z"
   },
   {
    "duration": 18,
    "start_time": "2023-08-31T07:36:12.453Z"
   },
   {
    "duration": 1459,
    "start_time": "2023-08-31T07:36:12.474Z"
   },
   {
    "duration": 2925,
    "start_time": "2023-08-31T07:36:13.935Z"
   },
   {
    "duration": 91,
    "start_time": "2023-08-31T07:36:16.861Z"
   },
   {
    "duration": 94,
    "start_time": "2023-08-31T07:36:16.954Z"
   },
   {
    "duration": 6,
    "start_time": "2023-08-31T07:36:17.052Z"
   },
   {
    "duration": 45,
    "start_time": "2023-08-31T07:36:17.060Z"
   },
   {
    "duration": 14,
    "start_time": "2023-08-31T07:36:17.107Z"
   },
   {
    "duration": 33,
    "start_time": "2023-08-31T07:36:17.123Z"
   },
   {
    "duration": 7,
    "start_time": "2023-08-31T07:36:17.158Z"
   },
   {
    "duration": 9,
    "start_time": "2023-08-31T07:36:17.167Z"
   },
   {
    "duration": 785,
    "start_time": "2023-08-31T07:36:17.178Z"
   },
   {
    "duration": 76,
    "start_time": "2023-08-31T07:36:17.971Z"
   },
   {
    "duration": 3423,
    "start_time": "2023-08-31T07:36:18.050Z"
   },
   {
    "duration": 4,
    "start_time": "2023-08-31T07:36:21.475Z"
   },
   {
    "duration": 147479,
    "start_time": "2023-08-31T07:36:21.481Z"
   },
   {
    "duration": 4,
    "start_time": "2023-08-31T07:38:48.962Z"
   },
   {
    "duration": 30382,
    "start_time": "2023-08-31T07:38:48.968Z"
   },
   {
    "duration": 5,
    "start_time": "2023-08-31T07:39:19.353Z"
   },
   {
    "duration": 14600,
    "start_time": "2023-08-31T07:39:19.361Z"
   },
   {
    "duration": 9,
    "start_time": "2023-08-31T07:39:34.050Z"
   },
   {
    "duration": 1771,
    "start_time": "2023-08-31T08:27:25.994Z"
   },
   {
    "duration": 5,
    "start_time": "2023-08-31T08:27:27.768Z"
   },
   {
    "duration": 121,
    "start_time": "2023-08-31T08:27:27.775Z"
   },
   {
    "duration": 3,
    "start_time": "2023-08-31T08:27:27.900Z"
   },
   {
    "duration": 12,
    "start_time": "2023-08-31T08:27:27.947Z"
   },
   {
    "duration": 1557,
    "start_time": "2023-08-31T08:27:29.413Z"
   },
   {
    "duration": 154,
    "start_time": "2023-08-31T08:27:31.721Z"
   },
   {
    "duration": 373,
    "start_time": "2023-08-31T08:28:23.349Z"
   },
   {
    "duration": 1399,
    "start_time": "2023-08-31T08:31:39.713Z"
   },
   {
    "duration": 1311,
    "start_time": "2023-08-31T08:31:54.845Z"
   },
   {
    "duration": 1564,
    "start_time": "2023-08-31T08:32:04.209Z"
   },
   {
    "duration": 1248,
    "start_time": "2023-08-31T08:32:11.505Z"
   },
   {
    "duration": 315,
    "start_time": "2023-08-31T09:10:54.277Z"
   },
   {
    "duration": 276,
    "start_time": "2023-08-31T09:16:02.896Z"
   },
   {
    "duration": 387,
    "start_time": "2023-08-31T09:16:23.486Z"
   },
   {
    "duration": 2464,
    "start_time": "2023-08-31T09:28:19.021Z"
   },
   {
    "duration": 5,
    "start_time": "2023-08-31T09:28:21.487Z"
   },
   {
    "duration": 191,
    "start_time": "2023-08-31T09:28:21.493Z"
   },
   {
    "duration": 3,
    "start_time": "2023-08-31T09:28:21.686Z"
   },
   {
    "duration": 67,
    "start_time": "2023-08-31T09:28:21.691Z"
   },
   {
    "duration": 1503,
    "start_time": "2023-08-31T09:28:21.759Z"
   },
   {
    "duration": 363,
    "start_time": "2023-08-31T09:28:23.265Z"
   },
   {
    "duration": 6539,
    "start_time": "2023-08-31T09:28:23.629Z"
   },
   {
    "duration": 8,
    "start_time": "2023-08-31T09:28:30.250Z"
   },
   {
    "duration": 103,
    "start_time": "2023-08-31T09:28:30.264Z"
   },
   {
    "duration": 86,
    "start_time": "2023-08-31T09:28:30.369Z"
   },
   {
    "duration": 96,
    "start_time": "2023-08-31T09:28:30.458Z"
   },
   {
    "duration": 12,
    "start_time": "2023-08-31T09:28:30.557Z"
   },
   {
    "duration": 82,
    "start_time": "2023-08-31T09:28:30.571Z"
   },
   {
    "duration": 40,
    "start_time": "2023-08-31T09:28:30.658Z"
   },
   {
    "duration": 52,
    "start_time": "2023-08-31T09:28:30.700Z"
   },
   {
    "duration": 1394,
    "start_time": "2023-08-31T09:28:30.757Z"
   },
   {
    "duration": 12,
    "start_time": "2023-08-31T09:28:32.158Z"
   },
   {
    "duration": 3609,
    "start_time": "2023-08-31T09:28:32.247Z"
   },
   {
    "duration": 9,
    "start_time": "2023-08-31T09:28:35.858Z"
   },
   {
    "duration": 146727,
    "start_time": "2023-08-31T09:28:35.869Z"
   },
   {
    "duration": 3,
    "start_time": "2023-08-31T09:31:02.598Z"
   },
   {
    "duration": 29746,
    "start_time": "2023-08-31T09:31:02.603Z"
   },
   {
    "duration": 7,
    "start_time": "2023-08-31T09:31:32.351Z"
   },
   {
    "duration": 22203,
    "start_time": "2023-08-31T09:31:32.362Z"
   },
   {
    "duration": 91,
    "start_time": "2023-08-31T09:31:54.568Z"
   },
   {
    "duration": 84,
    "start_time": "2023-08-31T09:31:54.672Z"
   },
   {
    "duration": 3,
    "start_time": "2023-08-31T09:31:54.763Z"
   },
   {
    "duration": 9,
    "start_time": "2023-08-31T09:31:54.767Z"
   },
   {
    "duration": 6,
    "start_time": "2023-08-31T09:31:54.778Z"
   },
   {
    "duration": 30,
    "start_time": "2023-08-31T09:31:54.785Z"
   },
   {
    "duration": 150,
    "start_time": "2023-08-31T09:31:54.817Z"
   },
   {
    "duration": 0,
    "start_time": "2023-08-31T09:31:54.969Z"
   },
   {
    "duration": 0,
    "start_time": "2023-08-31T09:31:54.970Z"
   },
   {
    "duration": 14,
    "start_time": "2023-08-31T09:31:59.966Z"
   },
   {
    "duration": 23,
    "start_time": "2023-08-31T09:32:07.643Z"
   },
   {
    "duration": 14,
    "start_time": "2023-08-31T09:32:14.187Z"
   },
   {
    "duration": 2054,
    "start_time": "2023-08-31T09:32:41.721Z"
   },
   {
    "duration": 190,
    "start_time": "2023-08-31T09:33:01.666Z"
   },
   {
    "duration": 220,
    "start_time": "2023-08-31T09:33:07.970Z"
   },
   {
    "duration": 347,
    "start_time": "2023-08-31T09:33:27.754Z"
   },
   {
    "duration": 169,
    "start_time": "2023-08-31T09:33:36.439Z"
   },
   {
    "duration": 160,
    "start_time": "2023-08-31T09:33:57.121Z"
   },
   {
    "duration": 31,
    "start_time": "2023-08-31T09:35:41.099Z"
   },
   {
    "duration": 33,
    "start_time": "2023-08-31T09:35:52.118Z"
   },
   {
    "duration": 30,
    "start_time": "2023-08-31T09:36:00.284Z"
   },
   {
    "duration": 35,
    "start_time": "2023-08-31T09:36:29.459Z"
   },
   {
    "duration": 256,
    "start_time": "2023-08-31T09:36:55.919Z"
   },
   {
    "duration": 251,
    "start_time": "2023-08-31T09:37:03.109Z"
   },
   {
    "duration": 216,
    "start_time": "2023-08-31T09:37:13.346Z"
   },
   {
    "duration": 2209,
    "start_time": "2023-08-31T09:37:30.901Z"
   },
   {
    "duration": 61,
    "start_time": "2023-08-31T09:38:00.815Z"
   },
   {
    "duration": 199,
    "start_time": "2023-08-31T09:38:19.099Z"
   },
   {
    "duration": 1775,
    "start_time": "2023-08-31T09:38:26.333Z"
   },
   {
    "duration": 3566,
    "start_time": "2023-08-31T09:39:01.401Z"
   },
   {
    "duration": 38,
    "start_time": "2023-08-31T09:39:23.746Z"
   },
   {
    "duration": 49,
    "start_time": "2023-08-31T09:40:02.184Z"
   },
   {
    "duration": 219,
    "start_time": "2023-08-31T09:41:00.062Z"
   },
   {
    "duration": 301,
    "start_time": "2023-08-31T09:41:15.000Z"
   },
   {
    "duration": 308,
    "start_time": "2023-08-31T09:41:35.394Z"
   },
   {
    "duration": 232,
    "start_time": "2023-08-31T09:41:48.289Z"
   },
   {
    "duration": 283,
    "start_time": "2023-08-31T09:42:01.934Z"
   },
   {
    "duration": 265,
    "start_time": "2023-08-31T09:42:11.906Z"
   },
   {
    "duration": 277,
    "start_time": "2023-08-31T09:42:18.667Z"
   },
   {
    "duration": 271,
    "start_time": "2023-08-31T09:42:36.152Z"
   },
   {
    "duration": 293,
    "start_time": "2023-08-31T09:42:51.283Z"
   },
   {
    "duration": 354,
    "start_time": "2023-08-31T09:44:43.376Z"
   },
   {
    "duration": 329,
    "start_time": "2023-08-31T09:45:01.426Z"
   },
   {
    "duration": 291,
    "start_time": "2023-08-31T09:45:23.434Z"
   },
   {
    "duration": 350,
    "start_time": "2023-08-31T09:45:36.749Z"
   },
   {
    "duration": 400,
    "start_time": "2023-08-31T09:46:55.894Z"
   },
   {
    "duration": 217,
    "start_time": "2023-08-31T09:47:13.447Z"
   },
   {
    "duration": 171,
    "start_time": "2023-08-31T09:47:20.489Z"
   },
   {
    "duration": 220,
    "start_time": "2023-08-31T09:47:25.429Z"
   },
   {
    "duration": 267,
    "start_time": "2023-08-31T09:47:37.573Z"
   },
   {
    "duration": 191,
    "start_time": "2023-08-31T09:48:07.208Z"
   },
   {
    "duration": 173,
    "start_time": "2023-08-31T09:48:14.693Z"
   },
   {
    "duration": 179,
    "start_time": "2023-08-31T09:48:21.264Z"
   },
   {
    "duration": 328,
    "start_time": "2023-08-31T09:48:30.209Z"
   },
   {
    "duration": 279,
    "start_time": "2023-08-31T09:49:07.437Z"
   },
   {
    "duration": 215,
    "start_time": "2023-08-31T09:50:49.125Z"
   },
   {
    "duration": 323,
    "start_time": "2023-08-31T09:50:52.853Z"
   },
   {
    "duration": 292,
    "start_time": "2023-08-31T09:53:23.833Z"
   },
   {
    "duration": 297,
    "start_time": "2023-08-31T09:53:30.176Z"
   },
   {
    "duration": 440,
    "start_time": "2023-08-31T09:56:10.842Z"
   },
   {
    "duration": 1717,
    "start_time": "2023-08-31T09:56:40.817Z"
   },
   {
    "duration": 3,
    "start_time": "2023-08-31T09:56:42.537Z"
   },
   {
    "duration": 161,
    "start_time": "2023-08-31T09:56:42.542Z"
   },
   {
    "duration": 3,
    "start_time": "2023-08-31T09:56:42.705Z"
   },
   {
    "duration": 40,
    "start_time": "2023-08-31T09:56:42.711Z"
   },
   {
    "duration": 1380,
    "start_time": "2023-08-31T09:56:42.754Z"
   },
   {
    "duration": 372,
    "start_time": "2023-08-31T09:56:44.136Z"
   },
   {
    "duration": 4851,
    "start_time": "2023-08-31T09:56:44.510Z"
   },
   {
    "duration": 85,
    "start_time": "2023-08-31T09:56:49.365Z"
   },
   {
    "duration": 96,
    "start_time": "2023-08-31T09:56:49.453Z"
   },
   {
    "duration": 58,
    "start_time": "2023-08-31T09:56:49.551Z"
   },
   {
    "duration": 37,
    "start_time": "2023-08-31T09:56:49.611Z"
   },
   {
    "duration": 12,
    "start_time": "2023-08-31T09:56:49.651Z"
   },
   {
    "duration": 12,
    "start_time": "2023-08-31T09:56:49.665Z"
   },
   {
    "duration": 8,
    "start_time": "2023-08-31T09:56:49.679Z"
   },
   {
    "duration": 11,
    "start_time": "2023-08-31T09:56:49.690Z"
   },
   {
    "duration": 1255,
    "start_time": "2023-08-31T09:56:49.703Z"
   },
   {
    "duration": 5,
    "start_time": "2023-08-31T09:56:50.960Z"
   },
   {
    "duration": 3545,
    "start_time": "2023-08-31T09:56:50.967Z"
   },
   {
    "duration": 5,
    "start_time": "2023-08-31T09:56:54.514Z"
   },
   {
    "duration": 147212,
    "start_time": "2023-08-31T09:56:54.521Z"
   },
   {
    "duration": 13,
    "start_time": "2023-08-31T09:59:21.735Z"
   },
   {
    "duration": 28397,
    "start_time": "2023-08-31T09:59:21.750Z"
   },
   {
    "duration": 4,
    "start_time": "2023-08-31T09:59:50.150Z"
   },
   {
    "duration": 15492,
    "start_time": "2023-08-31T09:59:50.157Z"
   },
   {
    "duration": 4,
    "start_time": "2023-08-31T10:00:05.656Z"
   },
   {
    "duration": 4,
    "start_time": "2023-08-31T10:00:05.747Z"
   },
   {
    "duration": 21,
    "start_time": "2023-08-31T10:00:05.755Z"
   },
   {
    "duration": 13,
    "start_time": "2023-08-31T10:00:05.778Z"
   },
   {
    "duration": 142,
    "start_time": "2023-08-31T10:00:05.792Z"
   },
   {
    "duration": 0,
    "start_time": "2023-08-31T10:00:05.936Z"
   },
   {
    "duration": 0,
    "start_time": "2023-08-31T10:00:05.937Z"
   },
   {
    "duration": 0,
    "start_time": "2023-08-31T10:00:05.938Z"
   },
   {
    "duration": 1678,
    "start_time": "2023-08-31T10:03:17.681Z"
   },
   {
    "duration": 6,
    "start_time": "2023-08-31T10:03:19.362Z"
   },
   {
    "duration": 96,
    "start_time": "2023-08-31T10:03:19.370Z"
   },
   {
    "duration": 2,
    "start_time": "2023-08-31T10:03:19.469Z"
   },
   {
    "duration": 17,
    "start_time": "2023-08-31T10:03:19.474Z"
   },
   {
    "duration": 1313,
    "start_time": "2023-08-31T10:03:19.493Z"
   },
   {
    "duration": 349,
    "start_time": "2023-08-31T10:03:20.807Z"
   },
   {
    "duration": 1895,
    "start_time": "2023-08-31T10:03:21.157Z"
   },
   {
    "duration": 94,
    "start_time": "2023-08-31T10:03:23.055Z"
   },
   {
    "duration": 98,
    "start_time": "2023-08-31T10:03:23.155Z"
   },
   {
    "duration": 15,
    "start_time": "2023-08-31T10:03:23.255Z"
   },
   {
    "duration": 32,
    "start_time": "2023-08-31T10:03:23.272Z"
   },
   {
    "duration": 10,
    "start_time": "2023-08-31T10:03:23.306Z"
   },
   {
    "duration": 17,
    "start_time": "2023-08-31T10:03:23.318Z"
   },
   {
    "duration": 10,
    "start_time": "2023-08-31T10:03:23.337Z"
   },
   {
    "duration": 5,
    "start_time": "2023-08-31T10:03:23.348Z"
   },
   {
    "duration": 499,
    "start_time": "2023-08-31T10:03:23.355Z"
   },
   {
    "duration": 92,
    "start_time": "2023-08-31T10:03:23.856Z"
   },
   {
    "duration": 3509,
    "start_time": "2023-08-31T10:03:23.951Z"
   },
   {
    "duration": 3,
    "start_time": "2023-08-31T10:03:27.461Z"
   },
   {
    "duration": 139552,
    "start_time": "2023-08-31T10:03:27.466Z"
   },
   {
    "duration": 4,
    "start_time": "2023-08-31T10:05:47.020Z"
   },
   {
    "duration": 31331,
    "start_time": "2023-08-31T10:05:47.026Z"
   },
   {
    "duration": 4,
    "start_time": "2023-08-31T10:06:18.359Z"
   },
   {
    "duration": 19284,
    "start_time": "2023-08-31T10:06:18.365Z"
   },
   {
    "duration": 6,
    "start_time": "2023-08-31T10:06:37.652Z"
   },
   {
    "duration": 3222314,
    "start_time": "2023-08-31T10:06:37.660Z"
   },
   {
    "duration": 4,
    "start_time": "2023-08-31T11:00:20.050Z"
   },
   {
    "duration": 303477,
    "start_time": "2023-08-31T11:00:20.056Z"
   },
   {
    "duration": 18,
    "start_time": "2023-08-31T11:05:23.535Z"
   },
   {
    "duration": 52,
    "start_time": "2023-08-31T11:05:23.554Z"
   },
   {
    "duration": 321,
    "start_time": "2023-08-31T11:05:23.608Z"
   },
   {
    "duration": 18,
    "start_time": "2023-08-31T11:05:23.931Z"
   }
  ],
  "kernelspec": {
   "display_name": "Python 3 (ipykernel)",
   "language": "python",
   "name": "python3"
  },
  "language_info": {
   "codemirror_mode": {
    "name": "ipython",
    "version": 3
   },
   "file_extension": ".py",
   "mimetype": "text/x-python",
   "name": "python",
   "nbconvert_exporter": "python",
   "pygments_lexer": "ipython3",
   "version": "3.9.13"
  },
  "toc": {
   "base_numbering": 1,
   "nav_menu": {},
   "number_sections": true,
   "sideBar": true,
   "skip_h1_title": true,
   "title_cell": "Содержание",
   "title_sidebar": "Contents",
   "toc_cell": true,
   "toc_position": {
    "height": "calc(100% - 180px)",
    "left": "10px",
    "top": "150px",
    "width": "233.448px"
   },
   "toc_section_display": true,
   "toc_window_display": true
  }
 },
 "nbformat": 4,
 "nbformat_minor": 2
}
